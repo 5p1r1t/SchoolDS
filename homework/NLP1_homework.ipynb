{
 "nbformat": 4,
 "nbformat_minor": 0,
 "metadata": {
  "colab": {
   "name": "NLP1_homework",
   "provenance": [],
   "toc_visible": true
  },
  "kernelspec": {
   "name": "python3",
   "display_name": "Python 3"
  },
  "language_info": {
   "name": "python"
  }
 },
 "cells": [
  {
   "cell_type": "markdown",
   "source": [
    "### ML1_1:\n",
    "https://www.hackerrank.com/challenges/capturing-non-capturing-groups/problem?isFullScreen=true\n",
    "\n",
    "### ML1_2:\n",
    "https://www.hackerrank.com/challenges/branch-reset-groups/problem?isFullScreen=true\n",
    "\n",
    "### ML1_3:\n",
    "https://www.hackerrank.com/challenges/detect-html-links/problem?isFullScreen=true\n",
    "\n",
    "### ML1_4: Реализовать stemming, lemmatization & BoW на следующем датасете: https://cloud.mail.ru/public/Z4L3/vB8GcgTtK (Russian Toxic-abuse comments)"
   ],
   "metadata": {
    "id": "dH7qx_irU4Y8"
   }
  },
  {
   "cell_type": "markdown",
   "source": [
    "# NLP5:\n",
    "классная работа, задача 5: нужно сделать на нашем датасет data сначала лемматизацию, потом стемминг и наоборот\n"
   ],
   "metadata": {
    "collapsed": false
   }
  },
  {
   "cell_type": "code",
   "execution_count": 3,
   "outputs": [
    {
     "name": "stdout",
     "output_type": "stream",
     "text": [
      "Requirement already satisfied: nltk in /Users/tsoysa/opt/anaconda3/lib/python3.8/site-packages (3.7)\r\n",
      "Requirement already satisfied: gensim in /Users/tsoysa/opt/anaconda3/lib/python3.8/site-packages (4.2.0)\r\n",
      "Requirement already satisfied: bokeh in /Users/tsoysa/opt/anaconda3/lib/python3.8/site-packages (3.0.2)\r\n",
      "Requirement already satisfied: umap-learn in /Users/tsoysa/opt/anaconda3/lib/python3.8/site-packages (0.5.3)\r\n",
      "Requirement already satisfied: tornado>=5.1 in /Users/tsoysa/opt/anaconda3/lib/python3.8/site-packages (from bokeh) (6.1)\r\n",
      "Requirement already satisfied: pandas>=1.2 in /Users/tsoysa/opt/anaconda3/lib/python3.8/site-packages (from bokeh) (1.2.4)\r\n",
      "Requirement already satisfied: Jinja2>=2.9 in /Users/tsoysa/opt/anaconda3/lib/python3.8/site-packages (from bokeh) (2.11.3)\r\n",
      "Requirement already satisfied: contourpy>=1 in /Users/tsoysa/opt/anaconda3/lib/python3.8/site-packages (from bokeh) (1.0.6)\r\n",
      "Requirement already satisfied: PyYAML>=3.10 in /Users/tsoysa/opt/anaconda3/lib/python3.8/site-packages (from bokeh) (5.4.1)\r\n",
      "Requirement already satisfied: packaging>=16.8 in /Users/tsoysa/opt/anaconda3/lib/python3.8/site-packages (from bokeh) (20.9)\r\n",
      "Requirement already satisfied: xyzservices>=2021.09.1 in /Users/tsoysa/opt/anaconda3/lib/python3.8/site-packages (from bokeh) (2022.9.0)\r\n",
      "Requirement already satisfied: numpy>=1.11.3 in /Users/tsoysa/opt/anaconda3/lib/python3.8/site-packages (from bokeh) (1.20.1)\r\n",
      "Requirement already satisfied: pillow>=7.1.0 in /Users/tsoysa/opt/anaconda3/lib/python3.8/site-packages (from bokeh) (8.2.0)\r\n",
      "Requirement already satisfied: MarkupSafe>=0.23 in /Users/tsoysa/opt/anaconda3/lib/python3.8/site-packages (from Jinja2>=2.9->bokeh) (1.1.1)\r\n",
      "Requirement already satisfied: pyparsing>=2.0.2 in /Users/tsoysa/opt/anaconda3/lib/python3.8/site-packages (from packaging>=16.8->bokeh) (2.4.7)\r\n",
      "Requirement already satisfied: python-dateutil>=2.7.3 in /Users/tsoysa/opt/anaconda3/lib/python3.8/site-packages (from pandas>=1.2->bokeh) (2.8.1)\r\n",
      "Requirement already satisfied: pytz>=2017.3 in /Users/tsoysa/opt/anaconda3/lib/python3.8/site-packages (from pandas>=1.2->bokeh) (2021.1)\r\n",
      "Requirement already satisfied: six>=1.5 in /Users/tsoysa/opt/anaconda3/lib/python3.8/site-packages (from python-dateutil>=2.7.3->pandas>=1.2->bokeh) (1.15.0)\r\n",
      "Requirement already satisfied: scipy>=0.18.1 in /Users/tsoysa/opt/anaconda3/lib/python3.8/site-packages (from gensim) (1.8.1)\r\n",
      "Requirement already satisfied: smart-open>=1.8.1 in /Users/tsoysa/opt/anaconda3/lib/python3.8/site-packages (from gensim) (6.2.0)\r\n",
      "Requirement already satisfied: tqdm in /Users/tsoysa/opt/anaconda3/lib/python3.8/site-packages (from nltk) (4.59.0)\r\n",
      "Requirement already satisfied: click in /Users/tsoysa/opt/anaconda3/lib/python3.8/site-packages (from nltk) (7.1.2)\r\n",
      "Requirement already satisfied: joblib in /Users/tsoysa/opt/anaconda3/lib/python3.8/site-packages (from nltk) (1.0.1)\r\n",
      "Requirement already satisfied: regex>=2021.8.3 in /Users/tsoysa/opt/anaconda3/lib/python3.8/site-packages (from nltk) (2022.10.31)\r\n",
      "Requirement already satisfied: numba>=0.49 in /Users/tsoysa/opt/anaconda3/lib/python3.8/site-packages (from umap-learn) (0.53.1)\r\n",
      "Requirement already satisfied: pynndescent>=0.5 in /Users/tsoysa/opt/anaconda3/lib/python3.8/site-packages (from umap-learn) (0.5.8)\r\n",
      "Requirement already satisfied: scikit-learn>=0.22 in /Users/tsoysa/opt/anaconda3/lib/python3.8/site-packages (from umap-learn) (0.24.1)\r\n",
      "Requirement already satisfied: setuptools in /Users/tsoysa/opt/anaconda3/lib/python3.8/site-packages (from numba>=0.49->umap-learn) (52.0.0.post20210125)\r\n",
      "Requirement already satisfied: llvmlite<0.37,>=0.36.0rc1 in /Users/tsoysa/opt/anaconda3/lib/python3.8/site-packages (from numba>=0.49->umap-learn) (0.36.0)\r\n",
      "Requirement already satisfied: threadpoolctl>=2.0.0 in /Users/tsoysa/opt/anaconda3/lib/python3.8/site-packages (from scikit-learn>=0.22->umap-learn) (2.1.0)\r\n"
     ]
    }
   ],
   "source": [
    "#Установка нужных пакетов\n",
    "!pip install --upgrade nltk gensim bokeh umap-learn\n",
    "\n",
    "import itertools\n",
    "import string\n",
    "\n",
    "import numpy as np\n",
    "import umap\n",
    "from nltk.tokenize import WordPunctTokenizer\n",
    "\n",
    "from matplotlib import pyplot as plt\n",
    "\n",
    "from IPython.display import clear_output"
   ],
   "metadata": {
    "collapsed": false
   }
  },
  {
   "cell_type": "code",
   "execution_count": 5,
   "outputs": [
    {
     "name": "stdout",
     "output_type": "stream",
     "text": [
      "zsh:1: no matches found: https://www.dropbox.com/s/obaitrix9jyu84r/quora.txt?dl=1\r\n"
     ]
    }
   ],
   "source": [
    "# выгружаем датасет:\n",
    "!wget https://www.dropbox.com/s/obaitrix9jyu84r/quora.txt?dl=1 -O ./quora.txt -nc"
   ],
   "metadata": {
    "collapsed": false
   }
  },
  {
   "cell_type": "code",
   "execution_count": 6,
   "outputs": [
    {
     "data": {
      "text/plain": "\"What TV shows or books help you read people's body language?\\n\""
     },
     "execution_count": 6,
     "metadata": {},
     "output_type": "execute_result"
    }
   ],
   "source": [
    "data = list(open(\"./quora.txt\", encoding=\"utf-8\"))\n",
    "data[50]"
   ],
   "metadata": {
    "collapsed": false
   }
  },
  {
   "cell_type": "code",
   "execution_count": 7,
   "outputs": [
    {
     "data": {
      "text/plain": "537272"
     },
     "execution_count": 7,
     "metadata": {},
     "output_type": "execute_result"
    }
   ],
   "source": [
    "len(data)"
   ],
   "metadata": {
    "collapsed": false
   }
  },
  {
   "cell_type": "code",
   "execution_count": 8,
   "outputs": [
    {
     "name": "stdout",
     "output_type": "stream",
     "text": [
      "['What', 'TV', 'shows', 'or', 'books', 'help', 'you', 'read', 'people', \"'\", 's', 'body', 'language', '?']\n"
     ]
    }
   ],
   "source": [
    "tokenizer = WordPunctTokenizer()\n",
    "\n",
    "print(tokenizer.tokenize(data[50]))"
   ],
   "metadata": {
    "collapsed": false
   }
  },
  {
   "cell_type": "code",
   "execution_count": 9,
   "outputs": [
    {
     "name": "stderr",
     "output_type": "stream",
     "text": [
      "[nltk_data] Downloading package wordnet to /Users/tsoysa/nltk_data...\n",
      "[nltk_data] Downloading package omw-1.4 to /Users/tsoysa/nltk_data...\n"
     ]
    }
   ],
   "source": [
    "import nltk\n",
    "nltk.download('wordnet')\n",
    "nltk.download('omw-1.4')\n",
    "from nltk.stem import WordNetLemmatizer\n",
    "from nltk.stem import PorterStemmer\n",
    "from nltk.tokenize import word_tokenize\n",
    "\n",
    "ps = PorterStemmer()\n",
    "lemmatizer = WordNetLemmatizer()"
   ],
   "metadata": {
    "collapsed": false
   }
  },
  {
   "cell_type": "code",
   "execution_count": 13,
   "outputs": [],
   "source": [
    "# Перевод в нижний регистр\n",
    "data_tok = []\n",
    "for x in data:\n",
    "    data_tok.append(tokenizer.tokenize(x.lower()))"
   ],
   "metadata": {
    "collapsed": false
   }
  },
  {
   "cell_type": "code",
   "execution_count": 15,
   "outputs": [
    {
     "name": "stdout",
     "output_type": "stream",
     "text": [
      "Всего слов:  87819\n",
      "Всего лем:  80303\n"
     ]
    }
   ],
   "source": [
    "# все слова до преобразований\n",
    "all_words = []\n",
    "for i in data_tok:\n",
    "  for j in i:\n",
    "    all_words.append(j)\n",
    "\n",
    "# все леммы\n",
    "all_lem = [lemmatizer.lemmatize(i) for i in all_words]\n",
    "\n",
    "unique_words = set(all_words)\n",
    "print(\"Всего уникальных слов до преобразований: \", len(unique_words))\n",
    "print(\"Всего уникальных лем: \", len(set(all_lem)))"
   ],
   "metadata": {
    "collapsed": false
   }
  },
  {
   "cell_type": "code",
   "execution_count": 16,
   "outputs": [
    {
     "name": "stdout",
     "output_type": "stream",
     "text": [
      "Всего уникальных стем:  67026\n"
     ]
    }
   ],
   "source": [
    "all_st = [ps.stem(i) for i in all_words]\n",
    "print(\"Всего уникальных стем: \", len(set(all_st)))"
   ],
   "metadata": {
    "collapsed": false
   }
  },
  {
   "cell_type": "code",
   "execution_count": 17,
   "outputs": [
    {
     "name": "stdout",
     "output_type": "stream",
     "text": [
      "Всего уникальных слов после стемминга и лемматизации:  66835\n",
      "Всего уникальных слов после лемматизации и стемминга:  66818\n"
     ]
    }
   ],
   "source": [
    "all_lem_st = [ps.stem(i) for i in all_lem]\n",
    "all_st_lem = [lemmatizer.lemmatize(i) for i in all_st]\n",
    "print(\"Всего уникальных слов после стемминга и лемматизации: \", len(set(all_lem_st)))\n",
    "print(\"Всего уникальных слов после лемматизации и стемминга: \", len(set(all_st_lem)))"
   ],
   "metadata": {
    "collapsed": false
   }
  },
  {
   "cell_type": "markdown",
   "source": [
    "# ML1_1:\n",
    "https://www.hackerrank.com/challenges/capturing-non-capturing-groups/problem?isFullScreen=true"
   ],
   "metadata": {
    "collapsed": false
   }
  },
  {
   "cell_type": "code",
   "execution_count": null,
   "outputs": [],
   "source": [
    "Regex_Pattern = r'okokok'\t# Do not delete 'r'.\n",
    "Regex_Pattern = r'(ok){3}'\t# Do not delete 'r'.\n",
    "\n",
    "import re\n",
    "\n",
    "print(str(bool(re.search(Regex_Pattern, input()))).lower())"
   ],
   "metadata": {
    "collapsed": false
   }
  },
  {
   "cell_type": "markdown",
   "source": [
    "# ML1_2:\n",
    "https://www.hackerrank.com/challenges/branch-reset-groups/problem?isFullScreen=true"
   ],
   "metadata": {
    "collapsed": false
   }
  },
  {
   "cell_type": "code",
   "execution_count": null,
   "outputs": [],
   "source": [
    "import java.io.*;\n",
    "import java.util.*;\n",
    "import java.util.regex.Matcher;\n",
    "import java.util.regex.Pattern;\n",
    "\n",
    "public class Solution {\n",
    "\n",
    "    public static void main(String[] args) {\n",
    "        /* Enter your code here. Read input from STDIN. Print output to STDOUT. Your class should be named Solution. */\n",
    "        Scanner in = new Scanner(System.in);\n",
    "        String Input = in.nextLine();\n",
    "\n",
    "        //variance 1\n",
    "        Pattern pattern1 = Pattern.compile (\n",
    "            \"(^([0-9]{2}-){3}[0-9]{2}$)|(^([0-9]{2}(---)){3}[0-9]{2}$)|(^([0-9]{2}\\\\.){3}[0-9]{2}$)|(^([0-9]{2}:){3}[0-9]{2}$)\"\n",
    "        );\n",
    "\n",
    "        //variance 2\n",
    "        Pattern pattern2 = Pattern.compile (\n",
    "            \"(^(\\\\d\\\\d-){3}\\\\d\\\\d$)|(^(\\\\d\\\\d---){3}\\\\d\\\\d$)|(^(\\\\d\\\\d\\\\.){3}\\\\d\\\\d$)|(^(\\\\d\\\\d:){3}\\\\d\\\\d$)\"\n",
    "        );\n",
    "\n",
    "        Matcher matcher1 = pattern2.matcher (Input);\n",
    "\n",
    "        System.out.println(matcher1.find());\n",
    "\n",
    "\n",
    "    }\n",
    "}\n"
   ],
   "metadata": {
    "collapsed": false
   }
  },
  {
   "cell_type": "code",
   "execution_count": null,
   "outputs": [],
   "source": [],
   "metadata": {
    "collapsed": false
   }
  }
 ]
}

{
  "cells": [
    {
      "cell_type": "markdown",
      "source": [
        "# ДЗ_11: Нейронные сети"
      ],
      "metadata": {
        "id": "fLEisc-w5PZ4"
      }
    },
    {
      "cell_type": "markdown",
      "source": [
        "## Обучить полносвязную модель на MNIST"
      ],
      "metadata": {
        "id": "gf-Mifud8GRQ"
      }
    },
    {
      "cell_type": "code",
      "execution_count": null,
      "metadata": {
        "id": "in0PyicHhZDG"
      },
      "outputs": [],
      "source": [
        "import numpy\n",
        "import torch\n",
        "import torch.nn as nn\n",
        "import torchvision.models as models\n",
        "from torchvision import datasets\n",
        "from torch.utils.data import DataLoader"
      ]
    },
    {
      "cell_type": "code",
      "execution_count": null,
      "metadata": {
        "id": "73ieMA485Tme"
      },
      "outputs": [],
      "source": [
        "# архитектура модели + \n",
        "# загрузчик данных +\n",
        "# формирование батча +\n",
        "# инициализировать модель +\n",
        "# оптимизатор +\n",
        "# функция потерь +\n",
        "# опционально шедулеры -\n",
        "# трейн луп"
      ]
    },
    {
      "cell_type": "markdown",
      "source": [
        "### загрузчик данных"
      ],
      "metadata": {
        "id": "a-j5acZgBfNY"
      }
    },
    {
      "cell_type": "code",
      "execution_count": null,
      "metadata": {
        "id": "SI8UCZuy7hTK"
      },
      "outputs": [],
      "source": [
        "dataset = datasets.MNIST('.', download=True)\n"
      ]
    },
    {
      "cell_type": "code",
      "execution_count": 31,
      "metadata": {
        "colab": {
          "base_uri": "https://localhost:8080/"
        },
        "id": "dhJuBtoz7f43",
        "outputId": "6b4101cf-812c-4353-804e-748132df5c1c"
      },
      "outputs": [
        {
          "output_type": "execute_result",
          "data": {
            "text/plain": [
              "(<PIL.Image.Image image mode=L size=28x28 at 0x7FB6EE477CD0>, 5)"
            ]
          },
          "metadata": {},
          "execution_count": 31
        }
      ],
      "source": [
        "dataset[0]"
      ]
    },
    {
      "cell_type": "code",
      "execution_count": 30,
      "metadata": {
        "colab": {
          "base_uri": "https://localhost:8080/",
          "height": 265
        },
        "id": "0zXXXYP37gFL",
        "outputId": "28a0fa85-0242-49fb-8a47-705dffbca502"
      },
      "outputs": [
        {
          "output_type": "display_data",
          "data": {
            "text/plain": [
              "<Figure size 432x288 with 1 Axes>"
            ],
            "image/png": "[encoded data removed]"
          },
          "metadata": {
            "needs_background": "light"
          }
        }
      ],
      "source": [
        "import matplotlib.pyplot as plt\n",
        "\n",
        "plt.imshow(dataset.data[0].detach().numpy())\n",
        "plt.show()"
      ]
    },
    {
      "cell_type": "markdown",
      "source": [
        "### архитектура модели"
      ],
      "metadata": {
        "id": "4480Qkh987P9"
      }
    },
    {
      "cell_type": "code",
      "execution_count": 55,
      "metadata": {
        "id": "LdAH7oiY8Mxv"
      },
      "outputs": [],
      "source": [
        "class LinearModel(nn.Module):\n",
        "    def __init__(self, input_dim, hidden_dim1, hidden_dim2, output_dim, dropout_p=0.1):\n",
        "        super().__init__()\n",
        "        self.linear1 = nn.Linear(input_dim, hidden_dim1)\n",
        "        # custom initsialisation nn.init.xavier_normal_(self.linear1.weight)\n",
        "        self.do1 = nn.Dropout(dropout_p)\n",
        "        self.bn1 = nn.BatchNorm1d(hidden_dim1)\n",
        "        self.linear2 = nn.Linear(hidden_dim1, hidden_dim2)\n",
        "        self.do2 = nn.Dropout(dropout_p)\n",
        "        self.bn2 = nn.BatchNorm1d(hidden_dim2)\n",
        "        self.linear3 = nn.Linear(hidden_dim2, output_dim)\n",
        "        \n",
        "        #self.activation = nn.ReLU()\n",
        "        self.activation = nn.SiLU()\n",
        "\n",
        "    def forward(self, x):\n",
        "        x = self.linear1(x)\n",
        "        x = self.activation(x)\n",
        "        x = self.do1(x)\n",
        "        x = self.bn1(x)\n",
        "        x = self.linear2(x)\n",
        "        x = self.activation(x)\n",
        "        x = self.do2(x)\n",
        "        x = self.bn2(x)\n",
        "        x = self.linear3(x)\n",
        "        return x"
      ]
    },
    {
      "cell_type": "markdown",
      "source": [
        "### формирование батча"
      ],
      "metadata": {
        "id": "MqzZYipO9Ejn"
      }
    },
    {
      "cell_type": "code",
      "execution_count": 56,
      "metadata": {
        "id": "aImjm1_u8NR8"
      },
      "outputs": [],
      "source": [
        "# Как формируется батч\n",
        "# dataloader берет из Samler набор индексов и по этим индексам получает элементы из Dataset\n",
        "\n",
        "def collate_fn(data: list):\n",
        "    # data = [(pic, target)...]\n",
        "    pics = []\n",
        "    target = []\n",
        "    for item in data:\n",
        "        pics.append(numpy.array(item[0]))\n",
        "        target.append(item[1])\n",
        "    pics = torch.from_numpy(numpy.array(pics)).float() / 255 # B x W x H\n",
        "    target = torch.from_numpy(numpy.array(target))\n",
        "\n",
        "    return {\n",
        "        'data': pics.view(pics.size(0), -1), # B x 784. преобразуем матрицу 28х28 в вектор 784\n",
        "        'target': target,\n",
        "    }\n"
      ]
    },
    {
      "cell_type": "markdown",
      "source": [
        "### инициализировать модель, оптимизатор, функция потерь"
      ],
      "metadata": {
        "id": "fyfv1SLW9KWY"
      }
    },
    {
      "cell_type": "code",
      "execution_count": 57,
      "metadata": {
        "id": "uPJauY4hAqJ6"
      },
      "outputs": [],
      "source": [
        "# hyperparams\n",
        "inp_dim = 28 * 28 #784\n",
        "hidden1 = 512\n",
        "hidden2 = 256\n",
        "out_dim = 10\n",
        "device_id = 0\n",
        "device = 'cpu' if device_id == -1 else f'cuda:{device_id}' # 'cuda:1' id GPU\n",
        "n_epochs = 10\n",
        "batch_size = 128"
      ]
    },
    {
      "cell_type": "code",
      "execution_count": 58,
      "metadata": {
        "id": "_fdZfq9C9zO2"
      },
      "outputs": [],
      "source": [
        "model = LinearModel(inp_dim, hidden1, hidden2, out_dim).to(device)\n",
        "model.train() \n",
        "optim = torch.optim.Adam(model.parameters())\n",
        "loss_func = nn.CrossEntropyLoss()\n"
      ]
    },
    {
      "cell_type": "markdown",
      "source": [
        "### трейн луп"
      ],
      "metadata": {
        "id": "hR80-4iN9aK4"
      }
    },
    {
      "cell_type": "code",
      "execution_count": 59,
      "metadata": {
        "colab": {
          "base_uri": "https://localhost:8080/"
        },
        "id": "4p52DhoFBYTr",
        "outputId": "3f61390c-ab1b-41ff-fa7a-b3ad5d872089",
        "pycharm": {
          "is_executing": true
        }
      },
      "outputs": [
        {
          "output_type": "stream",
          "name": "stdout",
          "text": [
            "epoch: 0, step: 0, loss: 2.4843685626983643\n",
            "epoch: 0, step: 200, loss: 0.20265139639377594\n",
            "epoch: 0, step: 400, loss: 0.2514208257198334\n",
            "epoch: 1, step: 0, loss: 0.13172294199466705\n",
            "epoch: 1, step: 200, loss: 0.18756930530071259\n",
            "epoch: 1, step: 400, loss: 0.06935643404722214\n",
            "epoch: 2, step: 0, loss: 0.03690963611006737\n",
            "epoch: 2, step: 200, loss: 0.07342955470085144\n",
            "epoch: 2, step: 400, loss: 0.04287679120898247\n",
            "epoch: 3, step: 0, loss: 0.07990945875644684\n",
            "epoch: 3, step: 200, loss: 0.05980084836483002\n",
            "epoch: 3, step: 400, loss: 0.05682367831468582\n",
            "epoch: 4, step: 0, loss: 0.07258491963148117\n",
            "epoch: 4, step: 200, loss: 0.03132404759526253\n",
            "epoch: 4, step: 400, loss: 0.06450797617435455\n",
            "epoch: 5, step: 0, loss: 0.01831606775522232\n",
            "epoch: 5, step: 200, loss: 0.017439285293221474\n",
            "epoch: 5, step: 400, loss: 0.043829284608364105\n",
            "epoch: 6, step: 0, loss: 0.0437089167535305\n",
            "epoch: 6, step: 200, loss: 0.011602739803493023\n",
            "epoch: 6, step: 400, loss: 0.05336065590381622\n",
            "epoch: 7, step: 0, loss: 0.006716764532029629\n",
            "epoch: 7, step: 200, loss: 0.04791998863220215\n",
            "epoch: 7, step: 400, loss: 0.0019075777381658554\n",
            "epoch: 8, step: 0, loss: 0.016360267996788025\n",
            "epoch: 8, step: 200, loss: 0.009285170584917068\n",
            "epoch: 8, step: 400, loss: 0.005689442623406649\n",
            "epoch: 9, step: 0, loss: 0.01794617809355259\n",
            "epoch: 9, step: 200, loss: 0.015403683297336102\n",
            "epoch: 9, step: 400, loss: 0.0027526344638317823\n"
          ]
        }
      ],
      "source": [
        "for epoch in range(n_epochs):\n",
        "    # получаем случайное разбиение на батчи\n",
        "    dataloader = DataLoader(dataset, \n",
        "                            batch_size, \n",
        "                            shuffle=True, \n",
        "                            collate_fn=collate_fn,\n",
        "                            drop_last = True,\n",
        "                            ) \n",
        "    for i, batch in enumerate(dataloader):\n",
        "        optim.zero_grad() # обнуляем градиенты\n",
        "\n",
        "        predict = model(batch['data'].to(device))\n",
        "        loss = loss_func(predict, batch['target'].to(device))\n",
        "        loss.backward() # считаем градиенты\n",
        "        optim.step() # обновляем веса\n",
        "        if i % 200 == 0:\n",
        "            print(f'epoch: {epoch}, step: {i}, loss: {loss.item()}')\n",
        "    #save every epoch\n",
        "    torch.save(model.state_dict(), f'./chkpt_cv1_{epoch}.pth')\n"
      ]
    },
    {
      "cell_type": "markdown",
      "metadata": {
        "id": "KzR-Z2IDGD7H"
      },
      "source": [
        "## Обучить глубокую сверточную сеть на MNIST"
      ]
    },
    {
      "cell_type": "markdown",
      "source": [
        "### архитектура модели"
      ],
      "metadata": {
        "id": "k70yxsATGVt7"
      }
    },
    {
      "cell_type": "code",
      "execution_count": 102,
      "metadata": {
        "id": "PCdOthJdBYqZ"
      },
      "outputs": [],
      "source": [
        "class ConvModel(nn.Module):\n",
        "  def __init__(self, input_ch, hidden_ch, output_dim, dropout_p=0.1):\n",
        "    super().__init__()\n",
        "    # уменьшит размер картинки в 2 раза\n",
        "    self.conv1 = nn.Conv2d(input_ch, hidden_ch, kernel_size=5, padding=2, stride=2)\n",
        "    self.bn1 = nn.BatchNorm2d(hidden_ch)\n",
        "    self.pl1 = nn.MaxPool2d(kernel_size=3,padding=1,stride=1)\n",
        "    self.conv2 = nn.Conv2d(hidden_ch, hidden_ch, kernel_size=3, padding=1, stride=1)\n",
        "    self.bn2 = nn.BatchNorm2d(hidden_ch)\n",
        "    self.pl2 = nn.MaxPool2d(kernel_size=3,padding=1,stride=1)\n",
        "    self.conv3 = nn.Conv2d(hidden_ch, 10, kernel_size=3, padding=1, stride=1) \n",
        "    self.classifier = nn.Linear(10 * 14 *14, output_dim)\n",
        "    self.do1 = nn.Dropout(dropout_p)\n",
        "    self.do2 = nn.Dropout(dropout_p)\n",
        "\n",
        "    self.activation = nn.ReLU()\n",
        "\n",
        "  def forward(self, x):\n",
        "    x = self.conv1(x)\n",
        "    x = self.bn1(x)\n",
        "    x = self.activation(x)\n",
        "    x = self.do1(x)\n",
        "    x = self.pl1(x)\n",
        "    x = self.conv2(x)\n",
        "    x = self.bn2(x)\n",
        "    x = self.activation(x)\n",
        "    x = self.do2(x)\n",
        "    x = self.pl2(x)\n",
        "    x = self.conv3(x)\n",
        "    x = self.classifier(x.view(x.size(0), -1))\n",
        "\n",
        "    return x"
      ]
    },
    {
      "cell_type": "markdown",
      "source": [
        "### формирование батча"
      ],
      "metadata": {
        "id": "Sxse6RJCLUK0"
      }
    },
    {
      "cell_type": "code",
      "execution_count": 103,
      "metadata": {
        "id": "K_PACmDaH8Z7"
      },
      "outputs": [],
      "source": [
        "def collate_fn_conv(data: list):\n",
        "  # data = [(pic, target)...]\n",
        "  pics = []\n",
        "  target = []\n",
        "  for item in data:\n",
        "    pics.append(numpy.array(item[0]))\n",
        "    target.append(item[1])\n",
        "  pics = torch.from_numpy(numpy.array(pics)).float() / 255 # B x W x H\n",
        "  target = torch.from_numpy(numpy.array(target))\n",
        "\n",
        "  return {\n",
        "      'data': pics.unsqueeze(1), # B x 1 x W x H\n",
        "      'target': target.long(),\n",
        "      }"
      ]
    },
    {
      "cell_type": "markdown",
      "source": [
        "### инициализировать модель, оптимизатор, функция потерь"
      ],
      "metadata": {
        "id": "q8icxThSLG1g"
      }
    },
    {
      "cell_type": "code",
      "execution_count": 110,
      "metadata": {
        "id": "RYVsEjc-H1hQ"
      },
      "outputs": [],
      "source": [
        "# hyperparams\n",
        "input_ch = 1\n",
        "hidden_ch = 128\n",
        "out_dim = 10\n",
        "device_id = 0\n",
        "device = 'cpu' if device_id == -1 else f'cuda:{device_id}'\n",
        "n_epochs = 10\n",
        "batch_size = 128"
      ]
    },
    {
      "cell_type": "code",
      "execution_count": 111,
      "metadata": {
        "id": "a4gX5zVDIZdu"
      },
      "outputs": [],
      "source": [
        "model_conv = ConvModel(input_ch, hidden_ch, out_dim).to(device)\n",
        "optim = torch.optim.Adam(model_conv.parameters())\n",
        "loss_func = nn.CrossEntropyLoss()"
      ]
    },
    {
      "cell_type": "markdown",
      "source": [
        "### трейн луп"
      ],
      "metadata": {
        "id": "SOVele8tLYQy"
      }
    },
    {
      "cell_type": "code",
      "execution_count": 112,
      "metadata": {
        "colab": {
          "base_uri": "https://localhost:8080/"
        },
        "id": "jVX0P0otIk4D",
        "outputId": "8b53fa65-8db3-47e5-da57-5a20539fb73d"
      },
      "outputs": [
        {
          "output_type": "stream",
          "name": "stdout",
          "text": [
            "epoch: 0, step: 0, loss: 2.3841545581817627\n",
            "epoch: 0, step: 200, loss: 0.12393154203891754\n",
            "epoch: 0, step: 400, loss: 0.05917760357260704\n",
            "epoch: 1, step: 0, loss: 0.025861196219921112\n",
            "epoch: 1, step: 200, loss: 0.09051017463207245\n",
            "epoch: 1, step: 400, loss: 0.026975836604833603\n",
            "epoch: 2, step: 0, loss: 0.01085875928401947\n",
            "epoch: 2, step: 200, loss: 0.07063427567481995\n",
            "epoch: 2, step: 400, loss: 0.01682581938803196\n",
            "epoch: 3, step: 0, loss: 0.016163725405931473\n",
            "epoch: 3, step: 200, loss: 0.03977631777524948\n",
            "epoch: 3, step: 400, loss: 0.09899717569351196\n",
            "epoch: 4, step: 0, loss: 0.011704012751579285\n",
            "epoch: 4, step: 200, loss: 0.0023618999402970076\n",
            "epoch: 4, step: 400, loss: 0.05271844565868378\n",
            "epoch: 5, step: 0, loss: 0.0199159923940897\n",
            "epoch: 5, step: 200, loss: 0.022680973634123802\n",
            "epoch: 5, step: 400, loss: 0.026213964447379112\n",
            "epoch: 6, step: 0, loss: 0.027548057958483696\n",
            "epoch: 6, step: 200, loss: 0.03719800338149071\n",
            "epoch: 6, step: 400, loss: 0.01739361882209778\n",
            "epoch: 7, step: 0, loss: 0.0012069609947502613\n",
            "epoch: 7, step: 200, loss: 0.016095256432890892\n",
            "epoch: 7, step: 400, loss: 0.11144353449344635\n",
            "epoch: 8, step: 0, loss: 0.006071222946047783\n",
            "epoch: 8, step: 200, loss: 0.01027368288487196\n",
            "epoch: 8, step: 400, loss: 0.003925838973373175\n",
            "epoch: 9, step: 0, loss: 0.004928578156977892\n",
            "epoch: 9, step: 200, loss: 0.08307891339063644\n",
            "epoch: 9, step: 400, loss: 0.07772407680749893\n"
          ]
        }
      ],
      "source": [
        "for epoch in range(n_epochs):\n",
        "    dataloader = DataLoader(dataset, \n",
        "                          batch_size, \n",
        "                          shuffle=True, \n",
        "                          collate_fn=collate_fn_conv,\n",
        "                          drop_last = True,\n",
        "                          )\n",
        "    for i, batch in enumerate(dataloader):\n",
        "        optim.zero_grad()\n",
        "\n",
        "        predict = model_conv(batch['data'].to(device))\n",
        "        loss = loss_func(predict, batch['target'].to(device))\n",
        "        loss.backward()\n",
        "        optim.step()\n",
        "        if i % 200 == 0:\n",
        "            print(f'epoch: {epoch}, step: {i}, loss: {loss.item()}')\n",
        "    #save every epoch\n",
        "    torch.save(model_conv.state_dict(), f'./chkpt_cv1_conv_{epoch}.pth')\n"
      ]
    },
    {
      "cell_type": "code",
      "source": [],
      "metadata": {
        "id": "MOLnnBaa8tTI"
      },
      "execution_count": 112,
      "outputs": []
    }
  ],
  "metadata": {
    "accelerator": "GPU",
    "colab": {
      "provenance": []
    },
    "gpuClass": "standard",
    "kernelspec": {
      "display_name": "Python 3",
      "language": "python",
      "name": "python3"
    },
    "language_info": {
      "codemirror_mode": {
        "name": "ipython",
        "version": 3
      },
      "file_extension": ".py",
      "mimetype": "text/x-python",
      "name": "python",
      "nbconvert_exporter": "python",
      "pygments_lexer": "ipython3",
      "version": "3.8.8"
    }
  },
  "nbformat": 4,
  "nbformat_minor": 0
}
{
 "cells": [
  {
   "cell_type": "markdown",
   "source": [
    "# Домашнее задание 1 по SQL\n",
    "### Цой Сергей"
   ],
   "metadata": {
    "collapsed": false
   }
  },
  {
   "cell_type": "markdown",
   "source": [
    "[https://www.w3schools.com/sql/trysql.asp?filename=trysql_select_all](https://www.w3schools.com/sql/trysql.asp?filename=trysql_select_all)"
   ],
   "metadata": {
    "collapsed": false
   }
  },
  {
   "cell_type": "markdown",
   "source": [
    "1. Выберите заказчиков из Германии, Франции и Мадрида, выведите их название, страну и адрес."
   ],
   "metadata": {
    "collapsed": false
   }
  },
  {
   "cell_type": "code",
   "execution_count": null,
   "outputs": [],
   "source": [
    "SELECT CustomerName, Country, Address  FROM Customers WHERE Country = \"Germany\" OR  Country = \"France\" OR City = \"Madrid\";"
   ],
   "metadata": {
    "collapsed": false
   }
  },
  {
   "cell_type": "markdown",
   "source": [
    "2. Выберите топ 3 страны по количеству заказчиков, выведите их названия и количество записей."
   ],
   "metadata": {
    "collapsed": false
   }
  },
  {
   "cell_type": "code",
   "execution_count": null,
   "outputs": [],
   "source": [
    "SELECT Country, COUNT(CustomerID) CustomerCount FROM Customers GROUP BY Country ORDER BY CustomerCount DESC limit 3"
   ],
   "metadata": {
    "collapsed": false
   }
  },
  {
   "cell_type": "markdown",
   "source": [
    "3. Выберите перевозчика, который отправил 10-й по времени заказ, выведите его название, и дату отправления."
   ],
   "metadata": {
    "collapsed": false
   }
  },
  {
   "cell_type": "code",
   "execution_count": null,
   "outputs": [],
   "source": [
    "SELECT * FROM (\n",
    "\tSELECT ShipperName, OrderDate FROM [Orders] JOIN [Shippers]  ON Orders.ShipperID = Shippers.ShipperID ORDER BY OrderDate ASC limit 10\n",
    ") ORDER BY OrderDate DESC limit 1"
   ],
   "metadata": {
    "collapsed": false
   }
  },
  {
   "cell_type": "markdown",
   "source": [
    "4. Выберите самый дорогой заказ, выведите список товаров с их ценами."
   ],
   "metadata": {
    "collapsed": false
   }
  },
  {
   "cell_type": "code",
   "execution_count": null,
   "outputs": [],
   "source": [
    "SELECT ProductName, Quantity*Price Cost FROM [OrderDetails]\n",
    "JOIN (\n",
    "\tSELECT OrderID, SUM(Quantity*Price) Cost FROM [OrderDetails] JOIN [Products] ON OrderDetails.ProductID = Products.ProductID GROUP BY OrderID ORDER BY Cost DESC limit 1\n",
    "    ) AS ExpensiveOrder ON OrderDetails.OrderID = ExpensiveOrder.OrderID\n",
    "JOIN Products ON OrderDetails.ProductID = Products.ProductID"
   ],
   "metadata": {
    "collapsed": false
   }
  },
  {
   "cell_type": "markdown",
   "source": [
    "5. Какой товар больше всего заказывали по количеству единиц товара, выведите его название и количество единиц в каждом из заказов."
   ],
   "metadata": {
    "collapsed": false
   }
  },
  {
   "cell_type": "code",
   "execution_count": null,
   "outputs": [],
   "source": [
    "SELECT ProductName, OrderID, Quantity FROM [OrderDetails]\n",
    "JOIN (\n",
    "\tSELECT ProductID, SUM(Quantity) FullQuantity FROM [OrderDetails] GROUP BY ProductID ORDER BY FullQuantity DESC limit 1\n",
    "    ) AS P ON OrderDetails.ProductID = P.ProductID\n",
    "JOIN Products ON P.ProductID = Products.ProductID"
   ],
   "metadata": {
    "collapsed": false
   }
  },
  {
   "cell_type": "markdown",
   "source": [
    "6. Выведите топ 5 поставщиков по количеству заказов, выведите их названия, страну, контактное лицо и телефон."
   ],
   "metadata": {
    "collapsed": false
   }
  },
  {
   "cell_type": "code",
   "execution_count": null,
   "outputs": [],
   "source": [
    "SELECT SupplierName, Country, ContactName, Phone FROM [Suppliers]\n",
    "INNER JOIN (\n",
    "\tSELECT SupplierID, COUNT (Orders.OrderID) OrdersCount FROM [Products]\n",
    "\tINNER JOIN OrderDetails ON Products.ProductID = OrderDetails.ProductID\n",
    "\tINNER JOIN Orders ON OrderDetails.OrderID = Orders.OrderID\n",
    "\tGROUP BY SupplierID\n",
    "\tORDER BY OrdersCount DESC limit 5\n",
    ") AS S ON Suppliers.SupplierID = S.SupplierID"
   ],
   "metadata": {
    "collapsed": false
   }
  },
  {
   "cell_type": "markdown",
   "source": [
    "7. Какую категорию товаров заказывали больше всего по стоимости в Бразилии, выведите страну, название категории и сумму."
   ],
   "metadata": {
    "collapsed": false
   }
  },
  {
   "cell_type": "code",
   "execution_count": null,
   "outputs": [],
   "source": [
    "SELECT Country, CategoryName, SUM(Quantity*Price) Sum FROM [Orders]\n",
    "INNER JOIN (\n",
    "\tSELECT CustomerID, Country FROM [Customers] WHERE Country = \"Brazil\"\n",
    ") AS C ON Orders.CustomerID = C.CustomerID\n",
    "INNER JOIN [OrderDetails] ON Orders.OrderID = OrderDetails.OrderID\n",
    "INNER JOIN [Products] ON Products.ProductID = OrderDetails.ProductID\n",
    "INNER JOIN [Categories] ON Products.CategoryID = Categories.CategoryID\n",
    "GROUP BY Categories.CategoryID\n",
    "ORDER BY Sum DESC limit 1"
   ],
   "metadata": {
    "collapsed": false
   }
  },
  {
   "cell_type": "markdown",
   "source": [
    "8. Какая разница в стоимости между самым дорогим и самым дешевым заказом из США."
   ],
   "metadata": {
    "collapsed": false
   }
  },
  {
   "cell_type": "code",
   "execution_count": null,
   "outputs": [],
   "source": [
    "SELECT MAX(Sum)-MIN(Sum) FROM (\n",
    "    SELECT SUM(Quantity*Price) Sum FROM [Orders]\n",
    "    INNER JOIN (\n",
    "        SELECT CustomerID, Country FROM [Customers] WHERE Country = \"USA\"\n",
    "    ) AS C ON Orders.CustomerID = C.CustomerID\n",
    "    INNER JOIN [OrderDetails] ON Orders.OrderID = OrderDetails.OrderID\n",
    "    INNER JOIN [Products] ON Products.ProductID = OrderDetails.ProductID\n",
    "    GROUP BY OrderDetails.OrderID\n",
    "    ORDER BY Sum DESC\n",
    ")"
   ],
   "metadata": {
    "collapsed": false
   }
  },
  {
   "cell_type": "markdown",
   "source": [
    "9. Выведите количество заказов у каждого их трех самых молодых сотрудников, а также имя и фамилию во второй колонке."
   ],
   "metadata": {
    "collapsed": false
   }
  },
  {
   "cell_type": "code",
   "execution_count": null,
   "outputs": [],
   "source": [
    "SELECT COUNT(Orders.OrderID) AS OrdersCount, FirstName || \" \" || LastName AS Employee\n",
    "FROM [Orders]\n",
    "INNER JOIN (\n",
    "\tSELECT * FROM [Employees] ORDER BY BirthDate DESC limit 3\n",
    ") AS E ON Orders.EmployeeID = E.EmployeeID\n",
    "GROUP BY E.EmployeeID"
   ],
   "metadata": {
    "collapsed": false
   }
  },
  {
   "cell_type": "markdown",
   "source": [
    "10. Сколько банок крабового мяса всего было заказано."
   ],
   "metadata": {
    "collapsed": false
   }
  },
  {
   "cell_type": "code",
   "execution_count": null,
   "outputs": [],
   "source": [
    "SELECT SUM (Quantity) * 24 AS \"Всего было заказано банок крабового мяса, банок (1 банка по 4 унции)\" FROM [OrderDetails]\n",
    "INNER JOIN (\n",
    "\tSELECT ProductID FROM [Products] WHERE ProductName LIKE \"%Crab%\"\n",
    ") AS P ON OrderDetails.ProductID = P.ProductID"
   ],
   "metadata": {
    "collapsed": false
   }
  }
 ],
 "metadata": {
  "kernelspec": {
   "display_name": "Python 3",
   "language": "python",
   "name": "python3"
  },
  "language_info": {
   "codemirror_mode": {
    "name": "ipython",
    "version": 2
   },
   "file_extension": ".py",
   "mimetype": "text/x-python",
   "name": "python",
   "nbconvert_exporter": "python",
   "pygments_lexer": "ipython2",
   "version": "2.7.6"
  }
 },
 "nbformat": 4,
 "nbformat_minor": 0
}

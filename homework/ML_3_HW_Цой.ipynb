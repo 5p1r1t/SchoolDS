{
 "cells": [
  {
   "cell_type": "code",
   "execution_count": 143,
   "metadata": {},
   "outputs": [],
   "source": [
    "from sklearn.datasets import load_boston\n",
    "import pandas as pd\n",
    "import numpy as np\n",
    "from sklearn.model_selection import train_test_split, GridSearchCV, cross_val_score\n",
    "from sklearn.linear_model import LinearRegression, Ridge, Lasso, RidgeCV, LassoCV, LogisticRegression\n",
    "from sklearn.svm import SVC, LinearSVC\n",
    "from sklearn.metrics import mean_squared_error, r2_score, accuracy_score, f1_score\n",
    "from sklearn.pipeline import Pipeline, make_pipeline\n",
    "from sklearn.preprocessing import StandardScaler, MinMaxScaler, PolynomialFeatures, OneHotEncoder, OrdinalEncoder, MaxAbsScaler\n",
    "from sklearn.impute import SimpleImputer\n",
    "from sklearn.dummy import DummyClassifier\n",
    "from sklearn.compose import ColumnTransformer\n",
    "from sklearn.ensemble import RandomForestClassifier, GradientBoostingClassifier\n",
    "#import warnings\n",
    "#warnings.filterwarnings('ignore')"
   ]
  },
  {
   "cell_type": "code",
   "execution_count": 2,
   "metadata": {},
   "outputs": [],
   "source": [
    "RANDOM_STATE = 42"
   ]
  },
  {
   "cell_type": "code",
   "execution_count": 3,
   "metadata": {},
   "outputs": [],
   "source": [
    "dataset = load_boston()\n",
    "X = pd.DataFrame(dataset.data)\n",
    "X.columns = dataset.feature_names\n",
    "y = dataset.target"
   ]
  },
  {
   "cell_type": "code",
   "execution_count": 4,
   "metadata": {},
   "outputs": [
    {
     "data": {
      "text/html": [
       "<div>\n",
       "<style scoped>\n",
       "    .dataframe tbody tr th:only-of-type {\n",
       "        vertical-align: middle;\n",
       "    }\n",
       "\n",
       "    .dataframe tbody tr th {\n",
       "        vertical-align: top;\n",
       "    }\n",
       "\n",
       "    .dataframe thead th {\n",
       "        text-align: right;\n",
       "    }\n",
       "</style>\n",
       "<table border=\"1\" class=\"dataframe\">\n",
       "  <thead>\n",
       "    <tr style=\"text-align: right;\">\n",
       "      <th></th>\n",
       "      <th>CRIM</th>\n",
       "      <th>ZN</th>\n",
       "      <th>INDUS</th>\n",
       "      <th>CHAS</th>\n",
       "      <th>NOX</th>\n",
       "      <th>RM</th>\n",
       "      <th>AGE</th>\n",
       "      <th>DIS</th>\n",
       "      <th>RAD</th>\n",
       "      <th>TAX</th>\n",
       "      <th>PTRATIO</th>\n",
       "      <th>B</th>\n",
       "      <th>LSTAT</th>\n",
       "    </tr>\n",
       "  </thead>\n",
       "  <tbody>\n",
       "    <tr>\n",
       "      <th>0</th>\n",
       "      <td>0.00632</td>\n",
       "      <td>18.0</td>\n",
       "      <td>2.31</td>\n",
       "      <td>0.0</td>\n",
       "      <td>0.538</td>\n",
       "      <td>6.575</td>\n",
       "      <td>65.2</td>\n",
       "      <td>4.0900</td>\n",
       "      <td>1.0</td>\n",
       "      <td>296.0</td>\n",
       "      <td>15.3</td>\n",
       "      <td>396.90</td>\n",
       "      <td>4.98</td>\n",
       "    </tr>\n",
       "    <tr>\n",
       "      <th>1</th>\n",
       "      <td>0.02731</td>\n",
       "      <td>0.0</td>\n",
       "      <td>7.07</td>\n",
       "      <td>0.0</td>\n",
       "      <td>0.469</td>\n",
       "      <td>6.421</td>\n",
       "      <td>78.9</td>\n",
       "      <td>4.9671</td>\n",
       "      <td>2.0</td>\n",
       "      <td>242.0</td>\n",
       "      <td>17.8</td>\n",
       "      <td>396.90</td>\n",
       "      <td>9.14</td>\n",
       "    </tr>\n",
       "    <tr>\n",
       "      <th>2</th>\n",
       "      <td>0.02729</td>\n",
       "      <td>0.0</td>\n",
       "      <td>7.07</td>\n",
       "      <td>0.0</td>\n",
       "      <td>0.469</td>\n",
       "      <td>7.185</td>\n",
       "      <td>61.1</td>\n",
       "      <td>4.9671</td>\n",
       "      <td>2.0</td>\n",
       "      <td>242.0</td>\n",
       "      <td>17.8</td>\n",
       "      <td>392.83</td>\n",
       "      <td>4.03</td>\n",
       "    </tr>\n",
       "    <tr>\n",
       "      <th>3</th>\n",
       "      <td>0.03237</td>\n",
       "      <td>0.0</td>\n",
       "      <td>2.18</td>\n",
       "      <td>0.0</td>\n",
       "      <td>0.458</td>\n",
       "      <td>6.998</td>\n",
       "      <td>45.8</td>\n",
       "      <td>6.0622</td>\n",
       "      <td>3.0</td>\n",
       "      <td>222.0</td>\n",
       "      <td>18.7</td>\n",
       "      <td>394.63</td>\n",
       "      <td>2.94</td>\n",
       "    </tr>\n",
       "    <tr>\n",
       "      <th>4</th>\n",
       "      <td>0.06905</td>\n",
       "      <td>0.0</td>\n",
       "      <td>2.18</td>\n",
       "      <td>0.0</td>\n",
       "      <td>0.458</td>\n",
       "      <td>7.147</td>\n",
       "      <td>54.2</td>\n",
       "      <td>6.0622</td>\n",
       "      <td>3.0</td>\n",
       "      <td>222.0</td>\n",
       "      <td>18.7</td>\n",
       "      <td>396.90</td>\n",
       "      <td>5.33</td>\n",
       "    </tr>\n",
       "    <tr>\n",
       "      <th>...</th>\n",
       "      <td>...</td>\n",
       "      <td>...</td>\n",
       "      <td>...</td>\n",
       "      <td>...</td>\n",
       "      <td>...</td>\n",
       "      <td>...</td>\n",
       "      <td>...</td>\n",
       "      <td>...</td>\n",
       "      <td>...</td>\n",
       "      <td>...</td>\n",
       "      <td>...</td>\n",
       "      <td>...</td>\n",
       "      <td>...</td>\n",
       "    </tr>\n",
       "    <tr>\n",
       "      <th>501</th>\n",
       "      <td>0.06263</td>\n",
       "      <td>0.0</td>\n",
       "      <td>11.93</td>\n",
       "      <td>0.0</td>\n",
       "      <td>0.573</td>\n",
       "      <td>6.593</td>\n",
       "      <td>69.1</td>\n",
       "      <td>2.4786</td>\n",
       "      <td>1.0</td>\n",
       "      <td>273.0</td>\n",
       "      <td>21.0</td>\n",
       "      <td>391.99</td>\n",
       "      <td>9.67</td>\n",
       "    </tr>\n",
       "    <tr>\n",
       "      <th>502</th>\n",
       "      <td>0.04527</td>\n",
       "      <td>0.0</td>\n",
       "      <td>11.93</td>\n",
       "      <td>0.0</td>\n",
       "      <td>0.573</td>\n",
       "      <td>6.120</td>\n",
       "      <td>76.7</td>\n",
       "      <td>2.2875</td>\n",
       "      <td>1.0</td>\n",
       "      <td>273.0</td>\n",
       "      <td>21.0</td>\n",
       "      <td>396.90</td>\n",
       "      <td>9.08</td>\n",
       "    </tr>\n",
       "    <tr>\n",
       "      <th>503</th>\n",
       "      <td>0.06076</td>\n",
       "      <td>0.0</td>\n",
       "      <td>11.93</td>\n",
       "      <td>0.0</td>\n",
       "      <td>0.573</td>\n",
       "      <td>6.976</td>\n",
       "      <td>91.0</td>\n",
       "      <td>2.1675</td>\n",
       "      <td>1.0</td>\n",
       "      <td>273.0</td>\n",
       "      <td>21.0</td>\n",
       "      <td>396.90</td>\n",
       "      <td>5.64</td>\n",
       "    </tr>\n",
       "    <tr>\n",
       "      <th>504</th>\n",
       "      <td>0.10959</td>\n",
       "      <td>0.0</td>\n",
       "      <td>11.93</td>\n",
       "      <td>0.0</td>\n",
       "      <td>0.573</td>\n",
       "      <td>6.794</td>\n",
       "      <td>89.3</td>\n",
       "      <td>2.3889</td>\n",
       "      <td>1.0</td>\n",
       "      <td>273.0</td>\n",
       "      <td>21.0</td>\n",
       "      <td>393.45</td>\n",
       "      <td>6.48</td>\n",
       "    </tr>\n",
       "    <tr>\n",
       "      <th>505</th>\n",
       "      <td>0.04741</td>\n",
       "      <td>0.0</td>\n",
       "      <td>11.93</td>\n",
       "      <td>0.0</td>\n",
       "      <td>0.573</td>\n",
       "      <td>6.030</td>\n",
       "      <td>80.8</td>\n",
       "      <td>2.5050</td>\n",
       "      <td>1.0</td>\n",
       "      <td>273.0</td>\n",
       "      <td>21.0</td>\n",
       "      <td>396.90</td>\n",
       "      <td>7.88</td>\n",
       "    </tr>\n",
       "  </tbody>\n",
       "</table>\n",
       "<p>506 rows × 13 columns</p>\n",
       "</div>"
      ],
      "text/plain": [
       "        CRIM    ZN  INDUS  CHAS    NOX     RM   AGE     DIS  RAD    TAX  \\\n",
       "0    0.00632  18.0   2.31   0.0  0.538  6.575  65.2  4.0900  1.0  296.0   \n",
       "1    0.02731   0.0   7.07   0.0  0.469  6.421  78.9  4.9671  2.0  242.0   \n",
       "2    0.02729   0.0   7.07   0.0  0.469  7.185  61.1  4.9671  2.0  242.0   \n",
       "3    0.03237   0.0   2.18   0.0  0.458  6.998  45.8  6.0622  3.0  222.0   \n",
       "4    0.06905   0.0   2.18   0.0  0.458  7.147  54.2  6.0622  3.0  222.0   \n",
       "..       ...   ...    ...   ...    ...    ...   ...     ...  ...    ...   \n",
       "501  0.06263   0.0  11.93   0.0  0.573  6.593  69.1  2.4786  1.0  273.0   \n",
       "502  0.04527   0.0  11.93   0.0  0.573  6.120  76.7  2.2875  1.0  273.0   \n",
       "503  0.06076   0.0  11.93   0.0  0.573  6.976  91.0  2.1675  1.0  273.0   \n",
       "504  0.10959   0.0  11.93   0.0  0.573  6.794  89.3  2.3889  1.0  273.0   \n",
       "505  0.04741   0.0  11.93   0.0  0.573  6.030  80.8  2.5050  1.0  273.0   \n",
       "\n",
       "     PTRATIO       B  LSTAT  \n",
       "0       15.3  396.90   4.98  \n",
       "1       17.8  396.90   9.14  \n",
       "2       17.8  392.83   4.03  \n",
       "3       18.7  394.63   2.94  \n",
       "4       18.7  396.90   5.33  \n",
       "..       ...     ...    ...  \n",
       "501     21.0  391.99   9.67  \n",
       "502     21.0  396.90   9.08  \n",
       "503     21.0  396.90   5.64  \n",
       "504     21.0  393.45   6.48  \n",
       "505     21.0  396.90   7.88  \n",
       "\n",
       "[506 rows x 13 columns]"
      ]
     },
     "execution_count": 4,
     "metadata": {},
     "output_type": "execute_result"
    }
   ],
   "source": [
    "X"
   ]
  },
  {
   "cell_type": "code",
   "execution_count": 5,
   "metadata": {},
   "outputs": [
    {
     "data": {
      "text/plain": [
       "(506,)"
      ]
     },
     "execution_count": 5,
     "metadata": {},
     "output_type": "execute_result"
    }
   ],
   "source": [
    "y.shape"
   ]
  },
  {
   "cell_type": "markdown",
   "metadata": {},
   "source": [
    "1. Разделите выборку на обучающую и тестовую в отношении 80%/20%"
   ]
  },
  {
   "cell_type": "code",
   "execution_count": 6,
   "metadata": {},
   "outputs": [
    {
     "data": {
      "text/plain": [
       "((404, 13), (102, 13), (404,), (102,))"
      ]
     },
     "execution_count": 6,
     "metadata": {},
     "output_type": "execute_result"
    }
   ],
   "source": [
    "X_train, X_test, y_train, y_test = train_test_split(X, y, test_size=0.2, random_state=RANDOM_STATE)\n",
    "X_train.shape, X_test.shape, y_train.shape, y_test.shape"
   ]
  },
  {
   "cell_type": "markdown",
   "metadata": {},
   "source": [
    "2. Обучите стандартную регрессию, а также Ridge и  Lasso и параметрами по умолчанию и выведите их R2 на тестовой выборке"
   ]
  },
  {
   "cell_type": "code",
   "execution_count": 7,
   "metadata": {},
   "outputs": [],
   "source": [
    "result = pd.DataFrame(columns = ['model', 'params', 'R2_score', 'MSE', 'Coefficients'])"
   ]
  },
  {
   "cell_type": "code",
   "execution_count": 8,
   "metadata": {},
   "outputs": [
    {
     "name": "stdout",
     "output_type": "stream",
     "text": [
      "CPU times: user 14.5 ms, sys: 1.59 ms, total: 16 ms\n",
      "Wall time: 19.5 ms\n"
     ]
    },
    {
     "data": {
      "text/plain": [
       "model       LinearRegression()\n",
       "R2_score              0.668759\n",
       "MSE                  24.291119\n",
       "Name: 0, dtype: object"
      ]
     },
     "execution_count": 8,
     "metadata": {},
     "output_type": "execute_result"
    }
   ],
   "source": [
    "%%time\n",
    "model = LinearRegression()\n",
    "model.fit(X_train, y_train)\n",
    "y_pred = model.predict(X_test)\n",
    "mse = mean_squared_error(y_test, y_pred)\n",
    "r2 = r2_score(y_test, y_pred)\n",
    "result = result.append({'model':model, 'params':{'alpha': 1.0}, 'R2_score':r2, 'MSE':mse, 'Coefficients': model.coef_}, ignore_index=True)\n",
    "result[['model','R2_score', 'MSE']].iloc[result.shape[0]-1]"
   ]
  },
  {
   "cell_type": "code",
   "execution_count": 9,
   "metadata": {},
   "outputs": [
    {
     "name": "stdout",
     "output_type": "stream",
     "text": [
      "CPU times: user 10.9 ms, sys: 1.5 ms, total: 12.4 ms\n",
      "Wall time: 11.4 ms\n"
     ]
    },
    {
     "data": {
      "text/plain": [
       "model         Ridge()\n",
       "R2_score     0.666222\n",
       "MSE         24.477191\n",
       "Name: 1, dtype: object"
      ]
     },
     "execution_count": 9,
     "metadata": {},
     "output_type": "execute_result"
    }
   ],
   "source": [
    "%%time\n",
    "model = Ridge()\n",
    "model.fit(X_train, y_train)\n",
    "y_pred = model.predict(X_test)\n",
    "mse = mean_squared_error(y_test, y_pred)\n",
    "r2 = r2_score(y_test, y_pred)\n",
    "result = result.append({'model':model, 'params':{'alpha': 1.0}, 'R2_score':r2, 'MSE':mse, 'Coefficients': model.coef_}, ignore_index=True)\n",
    "result[['model','R2_score', 'MSE']].iloc[result.shape[0]-1]"
   ]
  },
  {
   "cell_type": "code",
   "execution_count": 10,
   "metadata": {},
   "outputs": [
    {
     "name": "stdout",
     "output_type": "stream",
     "text": [
      "CPU times: user 13.5 ms, sys: 2.36 ms, total: 15.9 ms\n",
      "Wall time: 16.4 ms\n"
     ]
    },
    {
     "data": {
      "text/plain": [
       "model        Lasso()\n",
       "R2_score    0.667145\n",
       "MSE         24.40949\n",
       "Name: 2, dtype: object"
      ]
     },
     "execution_count": 10,
     "metadata": {},
     "output_type": "execute_result"
    }
   ],
   "source": [
    "%%time\n",
    "model = Lasso()\n",
    "model.fit(X_train, y_train)\n",
    "y_pred = model.predict(X_test)\n",
    "mse = mean_squared_error(y_test, y_pred)\n",
    "r2 = r2_score(y_test, y_pred)\n",
    "result = result.append({'model':model, 'params':{'alpha': 1.0}, 'R2_score':r2, 'MSE':mse, 'Coefficients': model.coef_}, ignore_index=True)\n",
    "result[['model','R2_score', 'MSE']].iloc[result.shape[0]-1]"
   ]
  },
  {
   "cell_type": "code",
   "execution_count": 11,
   "metadata": {},
   "outputs": [
    {
     "data": {
      "text/html": [
       "<div>\n",
       "<style scoped>\n",
       "    .dataframe tbody tr th:only-of-type {\n",
       "        vertical-align: middle;\n",
       "    }\n",
       "\n",
       "    .dataframe tbody tr th {\n",
       "        vertical-align: top;\n",
       "    }\n",
       "\n",
       "    .dataframe thead th {\n",
       "        text-align: right;\n",
       "    }\n",
       "</style>\n",
       "<table border=\"1\" class=\"dataframe\">\n",
       "  <thead>\n",
       "    <tr style=\"text-align: right;\">\n",
       "      <th></th>\n",
       "      <th>model</th>\n",
       "      <th>params</th>\n",
       "      <th>R2_score</th>\n",
       "      <th>MSE</th>\n",
       "      <th>Coefficients</th>\n",
       "    </tr>\n",
       "  </thead>\n",
       "  <tbody>\n",
       "    <tr>\n",
       "      <th>0</th>\n",
       "      <td>LinearRegression()</td>\n",
       "      <td>{'alpha': 1.0}</td>\n",
       "      <td>0.668759</td>\n",
       "      <td>24.291119</td>\n",
       "      <td>[-0.11305592398537956, 0.030110464145648403, 0...</td>\n",
       "    </tr>\n",
       "    <tr>\n",
       "      <th>1</th>\n",
       "      <td>Ridge()</td>\n",
       "      <td>{'alpha': 1.0}</td>\n",
       "      <td>0.666222</td>\n",
       "      <td>24.477191</td>\n",
       "      <td>[-0.10923406107683864, 0.03227068627331473, 0....</td>\n",
       "    </tr>\n",
       "    <tr>\n",
       "      <th>2</th>\n",
       "      <td>Lasso()</td>\n",
       "      <td>{'alpha': 1.0}</td>\n",
       "      <td>0.667145</td>\n",
       "      <td>24.409490</td>\n",
       "      <td>[-0.07660926975110097, 0.0285006354020087, -0....</td>\n",
       "    </tr>\n",
       "  </tbody>\n",
       "</table>\n",
       "</div>"
      ],
      "text/plain": [
       "                model          params  R2_score        MSE  \\\n",
       "0  LinearRegression()  {'alpha': 1.0}  0.668759  24.291119   \n",
       "1             Ridge()  {'alpha': 1.0}  0.666222  24.477191   \n",
       "2             Lasso()  {'alpha': 1.0}  0.667145  24.409490   \n",
       "\n",
       "                                        Coefficients  \n",
       "0  [-0.11305592398537956, 0.030110464145648403, 0...  \n",
       "1  [-0.10923406107683864, 0.03227068627331473, 0....  \n",
       "2  [-0.07660926975110097, 0.0285006354020087, -0....  "
      ]
     },
     "execution_count": 11,
     "metadata": {},
     "output_type": "execute_result"
    }
   ],
   "source": [
    "result"
   ]
  },
  {
   "cell_type": "markdown",
   "metadata": {},
   "source": [
    "**Вывод: \n",
    "Таким образом, модели на параметрах по умолчанию показали одинаковый результат**"
   ]
  },
  {
   "cell_type": "markdown",
   "metadata": {},
   "source": [
    "3. Для Ridge и Lasso подберите коэффициент регуляризации(используйте GridSearchCV, RidgeCV, LassoCV) в пределах от $10^{-5}$ до $10^5$ (по степеням 10). Посчитайте R2 на тестовой выборке по лучшим моделям и сравните с предыдущими результатами. Напишите как изменился результат"
   ]
  },
  {
   "cell_type": "markdown",
   "metadata": {},
   "source": [
    "Подберем коэффициент регуляризации для Ridge 2мя способами через GridSearchCV и RidgeCV"
   ]
  },
  {
   "cell_type": "markdown",
   "metadata": {},
   "source": [
    "*GridSearchCV(Ridge)*"
   ]
  },
  {
   "cell_type": "code",
   "execution_count": 12,
   "metadata": {},
   "outputs": [
    {
     "name": "stdout",
     "output_type": "stream",
     "text": [
      "CPU times: user 568 ms, sys: 24.4 ms, total: 592 ms\n",
      "Wall time: 368 ms\n"
     ]
    },
    {
     "data": {
      "text/plain": [
       "model       GridSearchCV(estimator=Ridge(),\\n             ...\n",
       "R2_score                                             0.668759\n",
       "MSE                                                  24.29112\n",
       "Name: 3, dtype: object"
      ]
     },
     "execution_count": 12,
     "metadata": {},
     "output_type": "execute_result"
    }
   ],
   "source": [
    "%%time\n",
    "estimator = Ridge()\n",
    "parametrs = {'alpha': np.logspace(-5, 5, 11)}\n",
    "model = GridSearchCV(estimator, parametrs)\n",
    "model.fit(X_train, y_train)\n",
    "y_pred = model.predict(X_test)\n",
    "mse = mean_squared_error(y_test, y_pred)\n",
    "r2 = r2_score(y_test, y_pred)\n",
    "result = result.append({'model':model, 'params': model.best_params_, 'R2_score':r2, 'MSE':mse, 'Coefficients': ''}, ignore_index=True)\n",
    "result[['model','R2_score', 'MSE']].iloc[result.shape[0]-1]"
   ]
  },
  {
   "cell_type": "markdown",
   "metadata": {},
   "source": [
    "*RidgeCV*"
   ]
  },
  {
   "cell_type": "code",
   "execution_count": 13,
   "metadata": {},
   "outputs": [
    {
     "name": "stdout",
     "output_type": "stream",
     "text": [
      "CPU times: user 10.3 ms, sys: 1.11 ms, total: 11.4 ms\n",
      "Wall time: 10.6 ms\n"
     ]
    },
    {
     "data": {
      "text/plain": [
       "model       RidgeCV(alphas=array([1.e-05, 1.e-04, 1.e-03, ...\n",
       "R2_score                                             0.668751\n",
       "MSE                                                 24.291744\n",
       "Name: 4, dtype: object"
      ]
     },
     "execution_count": 13,
     "metadata": {},
     "output_type": "execute_result"
    }
   ],
   "source": [
    "%%time\n",
    "model = RidgeCV(alphas=np.logspace(-5, 5, 11))\n",
    "model.fit(X_train, y_train)\n",
    "y_pred = model.predict(X_test)\n",
    "mse = mean_squared_error(y_test, y_pred)\n",
    "r2 = r2_score(y_test, y_pred)\n",
    "result = result.append({'model':model, 'params': model.alpha_, 'R2_score':r2, 'MSE':mse, 'Coefficients': ''}, ignore_index=True)\n",
    "result[['model','R2_score', 'MSE']].iloc[result.shape[0]-1]"
   ]
  },
  {
   "cell_type": "markdown",
   "metadata": {},
   "source": [
    "*GridSearchCV(Lasso)*"
   ]
  },
  {
   "cell_type": "code",
   "execution_count": 14,
   "metadata": {
    "tags": []
   },
   "outputs": [
    {
     "name": "stdout",
     "output_type": "stream",
     "text": [
      "CPU times: user 351 ms, sys: 16.2 ms, total: 367 ms\n",
      "Wall time: 354 ms\n"
     ]
    },
    {
     "data": {
      "text/plain": [
       "model       GridSearchCV(estimator=Lasso(),\\n             ...\n",
       "R2_score                                              0.66876\n",
       "MSE                                                 24.291092\n",
       "Name: 5, dtype: object"
      ]
     },
     "execution_count": 14,
     "metadata": {},
     "output_type": "execute_result"
    }
   ],
   "source": [
    "%%time\n",
    "estimator = Lasso()\n",
    "parametrs = {'alpha': np.logspace(-5, 5, 11)}\n",
    "model = GridSearchCV(estimator, parametrs)\n",
    "model.fit(X_train, y_train)\n",
    "y_pred = model.predict(X_test)\n",
    "mse = mean_squared_error(y_test, y_pred)\n",
    "r2 = r2_score(y_test, y_pred)\n",
    "result = result.append({'model':model, 'params': model.best_params_, 'R2_score':r2, 'MSE':mse, 'Coefficients': ''}, ignore_index=True)\n",
    "result[['model','R2_score', 'MSE']].iloc[result.shape[0]-1]"
   ]
  },
  {
   "cell_type": "markdown",
   "metadata": {},
   "source": [
    "*LassoCV*"
   ]
  },
  {
   "cell_type": "code",
   "execution_count": 15,
   "metadata": {},
   "outputs": [
    {
     "name": "stdout",
     "output_type": "stream",
     "text": [
      "CPU times: user 28.8 ms, sys: 1.62 ms, total: 30.4 ms\n",
      "Wall time: 21.9 ms\n"
     ]
    },
    {
     "data": {
      "text/plain": [
       "model       LassoCV(alphas=array([1.e-05, 1.e-04, 1.e-03, ...\n",
       "R2_score                                              0.66876\n",
       "MSE                                                 24.291092\n",
       "Name: 6, dtype: object"
      ]
     },
     "execution_count": 15,
     "metadata": {},
     "output_type": "execute_result"
    }
   ],
   "source": [
    "%%time\n",
    "model = LassoCV(alphas=np.logspace(-5, 5, 11))\n",
    "model.fit(X_train, y_train)\n",
    "y_pred = model.predict(X_test)\n",
    "mse = mean_squared_error(y_test, y_pred)\n",
    "r2 = r2_score(y_test, y_pred)\n",
    "result = result.append({'model':model, 'params': model.alpha_, 'R2_score':r2, 'MSE':mse, 'Coefficients': ''}, ignore_index=True)\n",
    "result[['model','R2_score', 'MSE']].iloc[result.shape[0]-1]"
   ]
  },
  {
   "cell_type": "code",
   "execution_count": 16,
   "metadata": {},
   "outputs": [
    {
     "data": {
      "text/html": [
       "<div>\n",
       "<style scoped>\n",
       "    .dataframe tbody tr th:only-of-type {\n",
       "        vertical-align: middle;\n",
       "    }\n",
       "\n",
       "    .dataframe tbody tr th {\n",
       "        vertical-align: top;\n",
       "    }\n",
       "\n",
       "    .dataframe thead th {\n",
       "        text-align: right;\n",
       "    }\n",
       "</style>\n",
       "<table border=\"1\" class=\"dataframe\">\n",
       "  <thead>\n",
       "    <tr style=\"text-align: right;\">\n",
       "      <th></th>\n",
       "      <th>model</th>\n",
       "      <th>params</th>\n",
       "      <th>R2_score</th>\n",
       "      <th>MSE</th>\n",
       "      <th>Coefficients</th>\n",
       "    </tr>\n",
       "  </thead>\n",
       "  <tbody>\n",
       "    <tr>\n",
       "      <th>0</th>\n",
       "      <td>LinearRegression()</td>\n",
       "      <td>{'alpha': 1.0}</td>\n",
       "      <td>0.668759</td>\n",
       "      <td>24.291119</td>\n",
       "      <td>[-0.11305592398537956, 0.030110464145648403, 0...</td>\n",
       "    </tr>\n",
       "    <tr>\n",
       "      <th>1</th>\n",
       "      <td>Ridge()</td>\n",
       "      <td>{'alpha': 1.0}</td>\n",
       "      <td>0.666222</td>\n",
       "      <td>24.477191</td>\n",
       "      <td>[-0.10923406107683864, 0.03227068627331473, 0....</td>\n",
       "    </tr>\n",
       "    <tr>\n",
       "      <th>2</th>\n",
       "      <td>Lasso()</td>\n",
       "      <td>{'alpha': 1.0}</td>\n",
       "      <td>0.667145</td>\n",
       "      <td>24.409490</td>\n",
       "      <td>[-0.07660926975110097, 0.0285006354020087, -0....</td>\n",
       "    </tr>\n",
       "    <tr>\n",
       "      <th>3</th>\n",
       "      <td>GridSearchCV(estimator=Ridge(),\\n             ...</td>\n",
       "      <td>{'alpha': 1e-05}</td>\n",
       "      <td>0.668759</td>\n",
       "      <td>24.291120</td>\n",
       "      <td></td>\n",
       "    </tr>\n",
       "    <tr>\n",
       "      <th>4</th>\n",
       "      <td>RidgeCV(alphas=array([1.e-05, 1.e-04, 1.e-03, ...</td>\n",
       "      <td>0.01</td>\n",
       "      <td>0.668751</td>\n",
       "      <td>24.291744</td>\n",
       "      <td></td>\n",
       "    </tr>\n",
       "    <tr>\n",
       "      <th>5</th>\n",
       "      <td>GridSearchCV(estimator=Lasso(),\\n             ...</td>\n",
       "      <td>{'alpha': 1e-05}</td>\n",
       "      <td>0.668760</td>\n",
       "      <td>24.291092</td>\n",
       "      <td></td>\n",
       "    </tr>\n",
       "    <tr>\n",
       "      <th>6</th>\n",
       "      <td>LassoCV(alphas=array([1.e-05, 1.e-04, 1.e-03, ...</td>\n",
       "      <td>0.00001</td>\n",
       "      <td>0.668760</td>\n",
       "      <td>24.291092</td>\n",
       "      <td></td>\n",
       "    </tr>\n",
       "  </tbody>\n",
       "</table>\n",
       "</div>"
      ],
      "text/plain": [
       "                                               model            params  \\\n",
       "0                                 LinearRegression()    {'alpha': 1.0}   \n",
       "1                                            Ridge()    {'alpha': 1.0}   \n",
       "2                                            Lasso()    {'alpha': 1.0}   \n",
       "3  GridSearchCV(estimator=Ridge(),\\n             ...  {'alpha': 1e-05}   \n",
       "4  RidgeCV(alphas=array([1.e-05, 1.e-04, 1.e-03, ...              0.01   \n",
       "5  GridSearchCV(estimator=Lasso(),\\n             ...  {'alpha': 1e-05}   \n",
       "6  LassoCV(alphas=array([1.e-05, 1.e-04, 1.e-03, ...           0.00001   \n",
       "\n",
       "   R2_score        MSE                                       Coefficients  \n",
       "0  0.668759  24.291119  [-0.11305592398537956, 0.030110464145648403, 0...  \n",
       "1  0.666222  24.477191  [-0.10923406107683864, 0.03227068627331473, 0....  \n",
       "2  0.667145  24.409490  [-0.07660926975110097, 0.0285006354020087, -0....  \n",
       "3  0.668759  24.291120                                                     \n",
       "4  0.668751  24.291744                                                     \n",
       "5  0.668760  24.291092                                                     \n",
       "6  0.668760  24.291092                                                     "
      ]
     },
     "execution_count": 16,
     "metadata": {},
     "output_type": "execute_result"
    }
   ],
   "source": [
    "result"
   ]
  },
  {
   "cell_type": "markdown",
   "metadata": {},
   "source": [
    "**Вывод: \n",
    "Таким образом, подбор коэффициента регуляризации в данном случае не принес ощутимого улучшения R2 почти не изменился.\n",
    "При прочих равных RidgeCV, LassoCV работают на порядок быстрее GridSearchCV.**"
   ]
  },
  {
   "cell_type": "markdown",
   "metadata": {},
   "source": [
    "4. Проведите масштабирование выборки(используйте Pipeline, StandardScaler, MinMaxScaler), посчитайте R2 и сравните с предыдущими результатами. Напишите как изменился результат"
   ]
  },
  {
   "cell_type": "code",
   "execution_count": 17,
   "metadata": {},
   "outputs": [
    {
     "name": "stdout",
     "output_type": "stream",
     "text": [
      "CPU times: user 19.5 ms, sys: 1.78 ms, total: 21.3 ms\n",
      "Wall time: 15 ms\n"
     ]
    },
    {
     "data": {
      "text/plain": [
       "model       (StandardScaler(), Ridge())\n",
       "R2_score                       0.668462\n",
       "MSE                           24.312904\n",
       "Name: 7, dtype: object"
      ]
     },
     "execution_count": 17,
     "metadata": {},
     "output_type": "execute_result"
    }
   ],
   "source": [
    "%%time\n",
    "model = Pipeline([('scaler', StandardScaler()), ('Ridge', Ridge())])\n",
    "model.fit(X_train, y_train)\n",
    "\n",
    "y_pred = model.predict(X_test)\n",
    "mse = mean_squared_error(y_test, y_pred)\n",
    "r2 = r2_score(y_test, y_pred)\n",
    "result = result.append({'model':model, 'params': {'alpha': 1.0}, 'R2_score':r2, 'MSE':mse, 'Coefficients': ''}, ignore_index=True)\n",
    "result[['model','R2_score', 'MSE']].iloc[result.shape[0]-1]"
   ]
  },
  {
   "cell_type": "code",
   "execution_count": 18,
   "metadata": {},
   "outputs": [
    {
     "name": "stdout",
     "output_type": "stream",
     "text": [
      "CPU times: user 14.6 ms, sys: 1.73 ms, total: 16.3 ms\n",
      "Wall time: 12.4 ms\n"
     ]
    },
    {
     "data": {
      "text/plain": [
       "model       (MinMaxScaler(), Ridge())\n",
       "R2_score                      0.67641\n",
       "MSE                         23.730076\n",
       "Name: 8, dtype: object"
      ]
     },
     "execution_count": 18,
     "metadata": {},
     "output_type": "execute_result"
    }
   ],
   "source": [
    "%%time\n",
    "model = Pipeline([('scaler', MinMaxScaler()), ('Ridge', Ridge())])\n",
    "model.fit(X_train, y_train)\n",
    "\n",
    "y_pred = model.predict(X_test)\n",
    "mse = mean_squared_error(y_test, y_pred)\n",
    "r2 = r2_score(y_test, y_pred)\n",
    "result = result.append({'model':model, 'params': {'alpha': 1.0}, 'R2_score':r2, 'MSE':mse, 'Coefficients': ''}, ignore_index=True)\n",
    "result[['model','R2_score', 'MSE']].iloc[result.shape[0]-1]"
   ]
  },
  {
   "cell_type": "code",
   "execution_count": 19,
   "metadata": {},
   "outputs": [
    {
     "name": "stdout",
     "output_type": "stream",
     "text": [
      "CPU times: user 14.8 ms, sys: 1.95 ms, total: 16.7 ms\n",
      "Wall time: 17.3 ms\n"
     ]
    },
    {
     "data": {
      "text/plain": [
       "model       (StandardScaler(), Lasso())\n",
       "R2_score                       0.623943\n",
       "MSE                           27.577692\n",
       "Name: 9, dtype: object"
      ]
     },
     "execution_count": 19,
     "metadata": {},
     "output_type": "execute_result"
    }
   ],
   "source": [
    "%%time\n",
    "model = Pipeline([('scaler', StandardScaler()), ('Lasso', Lasso())])\n",
    "model.fit(X_train, y_train)\n",
    "\n",
    "y_pred = model.predict(X_test)\n",
    "mse = mean_squared_error(y_test, y_pred)\n",
    "r2 = r2_score(y_test, y_pred)\n",
    "result = result.append({'model':model, 'params': {'alpha': 1.0}, 'R2_score':r2, 'MSE':mse, 'Coefficients': ''}, ignore_index=True)\n",
    "result[['model','R2_score', 'MSE']].iloc[result.shape[0]-1]"
   ]
  },
  {
   "cell_type": "code",
   "execution_count": 20,
   "metadata": {},
   "outputs": [
    {
     "name": "stdout",
     "output_type": "stream",
     "text": [
      "CPU times: user 9.59 ms, sys: 166 µs, total: 9.76 ms\n",
      "Wall time: 10 ms\n"
     ]
    },
    {
     "data": {
      "text/plain": [
       "model       (MinMaxScaler(), Lasso())\n",
       "R2_score                     0.257392\n",
       "MSE                         54.458243\n",
       "Name: 10, dtype: object"
      ]
     },
     "execution_count": 20,
     "metadata": {},
     "output_type": "execute_result"
    }
   ],
   "source": [
    "%%time\n",
    "model = Pipeline([('scaler', MinMaxScaler()), ('Lasso', Lasso())])\n",
    "model.fit(X_train, y_train)\n",
    "\n",
    "y_pred = model.predict(X_test)\n",
    "mse = mean_squared_error(y_test, y_pred)\n",
    "r2 = r2_score(y_test, y_pred)\n",
    "result = result.append({'model':model, 'params': {'alpha': 1.0}, 'R2_score':r2, 'MSE':mse, 'Coefficients': ''}, ignore_index=True)\n",
    "result[['model','R2_score', 'MSE']].iloc[result.shape[0]-1]"
   ]
  },
  {
   "cell_type": "code",
   "execution_count": 21,
   "metadata": {},
   "outputs": [
    {
     "data": {
      "text/html": [
       "<div>\n",
       "<style scoped>\n",
       "    .dataframe tbody tr th:only-of-type {\n",
       "        vertical-align: middle;\n",
       "    }\n",
       "\n",
       "    .dataframe tbody tr th {\n",
       "        vertical-align: top;\n",
       "    }\n",
       "\n",
       "    .dataframe thead th {\n",
       "        text-align: right;\n",
       "    }\n",
       "</style>\n",
       "<table border=\"1\" class=\"dataframe\">\n",
       "  <thead>\n",
       "    <tr style=\"text-align: right;\">\n",
       "      <th></th>\n",
       "      <th>model</th>\n",
       "      <th>params</th>\n",
       "      <th>R2_score</th>\n",
       "      <th>MSE</th>\n",
       "      <th>Coefficients</th>\n",
       "    </tr>\n",
       "  </thead>\n",
       "  <tbody>\n",
       "    <tr>\n",
       "      <th>0</th>\n",
       "      <td>LinearRegression()</td>\n",
       "      <td>{'alpha': 1.0}</td>\n",
       "      <td>0.668759</td>\n",
       "      <td>24.291119</td>\n",
       "      <td>[-0.11305592398537956, 0.030110464145648403, 0...</td>\n",
       "    </tr>\n",
       "    <tr>\n",
       "      <th>1</th>\n",
       "      <td>Ridge()</td>\n",
       "      <td>{'alpha': 1.0}</td>\n",
       "      <td>0.666222</td>\n",
       "      <td>24.477191</td>\n",
       "      <td>[-0.10923406107683864, 0.03227068627331473, 0....</td>\n",
       "    </tr>\n",
       "    <tr>\n",
       "      <th>2</th>\n",
       "      <td>Lasso()</td>\n",
       "      <td>{'alpha': 1.0}</td>\n",
       "      <td>0.667145</td>\n",
       "      <td>24.409490</td>\n",
       "      <td>[-0.07660926975110097, 0.0285006354020087, -0....</td>\n",
       "    </tr>\n",
       "    <tr>\n",
       "      <th>3</th>\n",
       "      <td>GridSearchCV(estimator=Ridge(),\\n             ...</td>\n",
       "      <td>{'alpha': 1e-05}</td>\n",
       "      <td>0.668759</td>\n",
       "      <td>24.291120</td>\n",
       "      <td></td>\n",
       "    </tr>\n",
       "    <tr>\n",
       "      <th>4</th>\n",
       "      <td>RidgeCV(alphas=array([1.e-05, 1.e-04, 1.e-03, ...</td>\n",
       "      <td>0.01</td>\n",
       "      <td>0.668751</td>\n",
       "      <td>24.291744</td>\n",
       "      <td></td>\n",
       "    </tr>\n",
       "    <tr>\n",
       "      <th>5</th>\n",
       "      <td>GridSearchCV(estimator=Lasso(),\\n             ...</td>\n",
       "      <td>{'alpha': 1e-05}</td>\n",
       "      <td>0.668760</td>\n",
       "      <td>24.291092</td>\n",
       "      <td></td>\n",
       "    </tr>\n",
       "    <tr>\n",
       "      <th>6</th>\n",
       "      <td>LassoCV(alphas=array([1.e-05, 1.e-04, 1.e-03, ...</td>\n",
       "      <td>0.00001</td>\n",
       "      <td>0.668760</td>\n",
       "      <td>24.291092</td>\n",
       "      <td></td>\n",
       "    </tr>\n",
       "    <tr>\n",
       "      <th>7</th>\n",
       "      <td>(StandardScaler(), Ridge())</td>\n",
       "      <td>{'alpha': 1.0}</td>\n",
       "      <td>0.668462</td>\n",
       "      <td>24.312904</td>\n",
       "      <td></td>\n",
       "    </tr>\n",
       "    <tr>\n",
       "      <th>8</th>\n",
       "      <td>(MinMaxScaler(), Ridge())</td>\n",
       "      <td>{'alpha': 1.0}</td>\n",
       "      <td>0.676410</td>\n",
       "      <td>23.730076</td>\n",
       "      <td></td>\n",
       "    </tr>\n",
       "    <tr>\n",
       "      <th>9</th>\n",
       "      <td>(StandardScaler(), Lasso())</td>\n",
       "      <td>{'alpha': 1.0}</td>\n",
       "      <td>0.623943</td>\n",
       "      <td>27.577692</td>\n",
       "      <td></td>\n",
       "    </tr>\n",
       "    <tr>\n",
       "      <th>10</th>\n",
       "      <td>(MinMaxScaler(), Lasso())</td>\n",
       "      <td>{'alpha': 1.0}</td>\n",
       "      <td>0.257392</td>\n",
       "      <td>54.458243</td>\n",
       "      <td></td>\n",
       "    </tr>\n",
       "  </tbody>\n",
       "</table>\n",
       "</div>"
      ],
      "text/plain": [
       "                                                model            params  \\\n",
       "0                                  LinearRegression()    {'alpha': 1.0}   \n",
       "1                                             Ridge()    {'alpha': 1.0}   \n",
       "2                                             Lasso()    {'alpha': 1.0}   \n",
       "3   GridSearchCV(estimator=Ridge(),\\n             ...  {'alpha': 1e-05}   \n",
       "4   RidgeCV(alphas=array([1.e-05, 1.e-04, 1.e-03, ...              0.01   \n",
       "5   GridSearchCV(estimator=Lasso(),\\n             ...  {'alpha': 1e-05}   \n",
       "6   LassoCV(alphas=array([1.e-05, 1.e-04, 1.e-03, ...           0.00001   \n",
       "7                         (StandardScaler(), Ridge())    {'alpha': 1.0}   \n",
       "8                           (MinMaxScaler(), Ridge())    {'alpha': 1.0}   \n",
       "9                         (StandardScaler(), Lasso())    {'alpha': 1.0}   \n",
       "10                          (MinMaxScaler(), Lasso())    {'alpha': 1.0}   \n",
       "\n",
       "    R2_score        MSE                                       Coefficients  \n",
       "0   0.668759  24.291119  [-0.11305592398537956, 0.030110464145648403, 0...  \n",
       "1   0.666222  24.477191  [-0.10923406107683864, 0.03227068627331473, 0....  \n",
       "2   0.667145  24.409490  [-0.07660926975110097, 0.0285006354020087, -0....  \n",
       "3   0.668759  24.291120                                                     \n",
       "4   0.668751  24.291744                                                     \n",
       "5   0.668760  24.291092                                                     \n",
       "6   0.668760  24.291092                                                     \n",
       "7   0.668462  24.312904                                                     \n",
       "8   0.676410  23.730076                                                     \n",
       "9   0.623943  27.577692                                                     \n",
       "10  0.257392  54.458243                                                     "
      ]
     },
     "execution_count": 21,
     "metadata": {},
     "output_type": "execute_result"
    }
   ],
   "source": [
    "result"
   ]
  },
  {
   "cell_type": "markdown",
   "metadata": {},
   "source": [
    "**Вывод: \n",
    "Таким образом, применение масштабирования также не привело к положительному результату, а в случае с Lasso даже навредило**"
   ]
  },
  {
   "cell_type": "markdown",
   "metadata": {},
   "source": [
    "5. Подберите коэффициент регуляризации для Ridge и Lasso на масштабированных данных, посчитайте R2 и сравните с предыдущими результатами. Напишите как изменился результат"
   ]
  },
  {
   "cell_type": "code",
   "execution_count": 22,
   "metadata": {},
   "outputs": [
    {
     "name": "stdout",
     "output_type": "stream",
     "text": [
      "CPU times: user 842 ms, sys: 33.5 ms, total: 875 ms\n",
      "Wall time: 535 ms\n"
     ]
    },
    {
     "data": {
      "text/plain": [
       "model       GridSearchCV(StandardScaler+Ridge)\n",
       "R2_score                              0.668462\n",
       "MSE                                  24.312904\n",
       "Name: 11, dtype: object"
      ]
     },
     "execution_count": 22,
     "metadata": {},
     "output_type": "execute_result"
    }
   ],
   "source": [
    "%%time\n",
    "estimator = Pipeline([('scaler', StandardScaler()), ('model', Ridge())])\n",
    "parametrs = {'model__alpha':np.logspace(-5, 5, 11)}\n",
    "model = GridSearchCV(estimator, parametrs)\n",
    "model.fit(X_train, y_train)\n",
    "\n",
    "y_pred = model.predict(X_test)\n",
    "mse = mean_squared_error(y_test, y_pred)\n",
    "r2 = r2_score(y_test, y_pred)\n",
    "result = result.append({'model':'GridSearchCV(StandardScaler+Ridge)', 'params': model.best_params_, 'R2_score':r2, 'MSE':mse, 'Coefficients': ''}, ignore_index=True)\n",
    "result[['model','R2_score', 'MSE']].iloc[result.shape[0]-1]"
   ]
  },
  {
   "cell_type": "code",
   "execution_count": 23,
   "metadata": {},
   "outputs": [
    {
     "name": "stdout",
     "output_type": "stream",
     "text": [
      "CPU times: user 651 ms, sys: 17 ms, total: 668 ms\n",
      "Wall time: 396 ms\n"
     ]
    },
    {
     "data": {
      "text/plain": [
       "model       GridSearchCV(MinMaxScaler+Ridge)\n",
       "R2_score                            0.670031\n",
       "MSE                                24.197875\n",
       "Name: 12, dtype: object"
      ]
     },
     "execution_count": 23,
     "metadata": {},
     "output_type": "execute_result"
    }
   ],
   "source": [
    "%%time\n",
    "estimator = Pipeline([('scaler', MinMaxScaler()), ('model', Ridge())])\n",
    "parametrs = {'model__alpha':np.logspace(-5, 5, 11)}\n",
    "model = GridSearchCV(estimator, parametrs)\n",
    "model.fit(X_train, y_train)\n",
    "\n",
    "y_pred = model.predict(X_test)\n",
    "mse = mean_squared_error(y_test, y_pred)\n",
    "r2 = r2_score(y_test, y_pred)\n",
    "result = result.append({'model':'GridSearchCV(MinMaxScaler+Ridge)', 'params': model.best_params_, 'R2_score':r2, 'MSE':mse, 'Coefficients': ''}, ignore_index=True)\n",
    "result[['model','R2_score', 'MSE']].iloc[result.shape[0]-1]"
   ]
  },
  {
   "cell_type": "code",
   "execution_count": 24,
   "metadata": {},
   "outputs": [
    {
     "name": "stdout",
     "output_type": "stream",
     "text": [
      "CPU times: user 448 ms, sys: 5.99 ms, total: 454 ms\n",
      "Wall time: 330 ms\n"
     ]
    },
    {
     "data": {
      "text/plain": [
       "model       GridSearchCV(StandardScaler+Lasso)\n",
       "R2_score                              0.668759\n",
       "MSE                                  24.291153\n",
       "Name: 13, dtype: object"
      ]
     },
     "execution_count": 24,
     "metadata": {},
     "output_type": "execute_result"
    }
   ],
   "source": [
    "%%time\n",
    "estimator = Pipeline([('scaler', StandardScaler()), ('model', Lasso())])\n",
    "parametrs = {'model__alpha':np.logspace(-5, 5, 11)}\n",
    "model = GridSearchCV(estimator, parametrs)\n",
    "model.fit(X_train, y_train)\n",
    "\n",
    "y_pred = model.predict(X_test)\n",
    "mse = mean_squared_error(y_test, y_pred)\n",
    "r2 = r2_score(y_test, y_pred)\n",
    "result = result.append({'model':'GridSearchCV(StandardScaler+Lasso)', 'params': model.best_params_, 'R2_score':r2, 'MSE':mse, 'Coefficients': ''}, ignore_index=True)\n",
    "result[['model','R2_score', 'MSE']].iloc[result.shape[0]-1]"
   ]
  },
  {
   "cell_type": "code",
   "execution_count": 25,
   "metadata": {},
   "outputs": [
    {
     "name": "stdout",
     "output_type": "stream",
     "text": [
      "CPU times: user 303 ms, sys: 5.3 ms, total: 308 ms\n",
      "Wall time: 309 ms\n"
     ]
    },
    {
     "data": {
      "text/plain": [
       "model       GridSearchCV(MinMaxScaler+Lasso)\n",
       "R2_score                            0.668761\n",
       "MSE                                24.291045\n",
       "Name: 14, dtype: object"
      ]
     },
     "execution_count": 25,
     "metadata": {},
     "output_type": "execute_result"
    }
   ],
   "source": [
    "%%time\n",
    "estimator = Pipeline([('scaler', MinMaxScaler()), ('model', Lasso())])\n",
    "parametrs = {'model__alpha':np.logspace(-5, 5, 11)}\n",
    "model = GridSearchCV(estimator, parametrs)\n",
    "model.fit(X_train, y_train)\n",
    "\n",
    "y_pred = model.predict(X_test)\n",
    "mse = mean_squared_error(y_test, y_pred)\n",
    "r2 = r2_score(y_test, y_pred)\n",
    "result = result.append({'model':'GridSearchCV(MinMaxScaler+Lasso)', 'params': model.best_params_, 'R2_score':r2, 'MSE':mse, 'Coefficients': ''}, ignore_index=True)\n",
    "result[['model','R2_score', 'MSE']].iloc[result.shape[0]-1]"
   ]
  },
  {
   "cell_type": "code",
   "execution_count": 26,
   "metadata": {},
   "outputs": [
    {
     "data": {
      "text/html": [
       "<div>\n",
       "<style scoped>\n",
       "    .dataframe tbody tr th:only-of-type {\n",
       "        vertical-align: middle;\n",
       "    }\n",
       "\n",
       "    .dataframe tbody tr th {\n",
       "        vertical-align: top;\n",
       "    }\n",
       "\n",
       "    .dataframe thead th {\n",
       "        text-align: right;\n",
       "    }\n",
       "</style>\n",
       "<table border=\"1\" class=\"dataframe\">\n",
       "  <thead>\n",
       "    <tr style=\"text-align: right;\">\n",
       "      <th></th>\n",
       "      <th>model</th>\n",
       "      <th>params</th>\n",
       "      <th>R2_score</th>\n",
       "      <th>MSE</th>\n",
       "      <th>Coefficients</th>\n",
       "    </tr>\n",
       "  </thead>\n",
       "  <tbody>\n",
       "    <tr>\n",
       "      <th>0</th>\n",
       "      <td>LinearRegression()</td>\n",
       "      <td>{'alpha': 1.0}</td>\n",
       "      <td>0.668759</td>\n",
       "      <td>24.291119</td>\n",
       "      <td>[-0.11305592398537956, 0.030110464145648403, 0...</td>\n",
       "    </tr>\n",
       "    <tr>\n",
       "      <th>1</th>\n",
       "      <td>Ridge()</td>\n",
       "      <td>{'alpha': 1.0}</td>\n",
       "      <td>0.666222</td>\n",
       "      <td>24.477191</td>\n",
       "      <td>[-0.10923406107683864, 0.03227068627331473, 0....</td>\n",
       "    </tr>\n",
       "    <tr>\n",
       "      <th>2</th>\n",
       "      <td>Lasso()</td>\n",
       "      <td>{'alpha': 1.0}</td>\n",
       "      <td>0.667145</td>\n",
       "      <td>24.409490</td>\n",
       "      <td>[-0.07660926975110097, 0.0285006354020087, -0....</td>\n",
       "    </tr>\n",
       "    <tr>\n",
       "      <th>3</th>\n",
       "      <td>GridSearchCV(estimator=Ridge(),\\n             ...</td>\n",
       "      <td>{'alpha': 1e-05}</td>\n",
       "      <td>0.668759</td>\n",
       "      <td>24.291120</td>\n",
       "      <td></td>\n",
       "    </tr>\n",
       "    <tr>\n",
       "      <th>4</th>\n",
       "      <td>RidgeCV(alphas=array([1.e-05, 1.e-04, 1.e-03, ...</td>\n",
       "      <td>0.01</td>\n",
       "      <td>0.668751</td>\n",
       "      <td>24.291744</td>\n",
       "      <td></td>\n",
       "    </tr>\n",
       "    <tr>\n",
       "      <th>5</th>\n",
       "      <td>GridSearchCV(estimator=Lasso(),\\n             ...</td>\n",
       "      <td>{'alpha': 1e-05}</td>\n",
       "      <td>0.668760</td>\n",
       "      <td>24.291092</td>\n",
       "      <td></td>\n",
       "    </tr>\n",
       "    <tr>\n",
       "      <th>6</th>\n",
       "      <td>LassoCV(alphas=array([1.e-05, 1.e-04, 1.e-03, ...</td>\n",
       "      <td>0.00001</td>\n",
       "      <td>0.668760</td>\n",
       "      <td>24.291092</td>\n",
       "      <td></td>\n",
       "    </tr>\n",
       "    <tr>\n",
       "      <th>7</th>\n",
       "      <td>(StandardScaler(), Ridge())</td>\n",
       "      <td>{'alpha': 1.0}</td>\n",
       "      <td>0.668462</td>\n",
       "      <td>24.312904</td>\n",
       "      <td></td>\n",
       "    </tr>\n",
       "    <tr>\n",
       "      <th>8</th>\n",
       "      <td>(MinMaxScaler(), Ridge())</td>\n",
       "      <td>{'alpha': 1.0}</td>\n",
       "      <td>0.676410</td>\n",
       "      <td>23.730076</td>\n",
       "      <td></td>\n",
       "    </tr>\n",
       "    <tr>\n",
       "      <th>9</th>\n",
       "      <td>(StandardScaler(), Lasso())</td>\n",
       "      <td>{'alpha': 1.0}</td>\n",
       "      <td>0.623943</td>\n",
       "      <td>27.577692</td>\n",
       "      <td></td>\n",
       "    </tr>\n",
       "    <tr>\n",
       "      <th>10</th>\n",
       "      <td>(MinMaxScaler(), Lasso())</td>\n",
       "      <td>{'alpha': 1.0}</td>\n",
       "      <td>0.257392</td>\n",
       "      <td>54.458243</td>\n",
       "      <td></td>\n",
       "    </tr>\n",
       "    <tr>\n",
       "      <th>11</th>\n",
       "      <td>GridSearchCV(StandardScaler+Ridge)</td>\n",
       "      <td>{'model__alpha': 1.0}</td>\n",
       "      <td>0.668462</td>\n",
       "      <td>24.312904</td>\n",
       "      <td></td>\n",
       "    </tr>\n",
       "    <tr>\n",
       "      <th>12</th>\n",
       "      <td>GridSearchCV(MinMaxScaler+Ridge)</td>\n",
       "      <td>{'model__alpha': 0.1}</td>\n",
       "      <td>0.670031</td>\n",
       "      <td>24.197875</td>\n",
       "      <td></td>\n",
       "    </tr>\n",
       "    <tr>\n",
       "      <th>13</th>\n",
       "      <td>GridSearchCV(StandardScaler+Lasso)</td>\n",
       "      <td>{'model__alpha': 1e-05}</td>\n",
       "      <td>0.668759</td>\n",
       "      <td>24.291153</td>\n",
       "      <td></td>\n",
       "    </tr>\n",
       "    <tr>\n",
       "      <th>14</th>\n",
       "      <td>GridSearchCV(MinMaxScaler+Lasso)</td>\n",
       "      <td>{'model__alpha': 1e-05}</td>\n",
       "      <td>0.668761</td>\n",
       "      <td>24.291045</td>\n",
       "      <td></td>\n",
       "    </tr>\n",
       "  </tbody>\n",
       "</table>\n",
       "</div>"
      ],
      "text/plain": [
       "                                                model  \\\n",
       "0                                  LinearRegression()   \n",
       "1                                             Ridge()   \n",
       "2                                             Lasso()   \n",
       "3   GridSearchCV(estimator=Ridge(),\\n             ...   \n",
       "4   RidgeCV(alphas=array([1.e-05, 1.e-04, 1.e-03, ...   \n",
       "5   GridSearchCV(estimator=Lasso(),\\n             ...   \n",
       "6   LassoCV(alphas=array([1.e-05, 1.e-04, 1.e-03, ...   \n",
       "7                         (StandardScaler(), Ridge())   \n",
       "8                           (MinMaxScaler(), Ridge())   \n",
       "9                         (StandardScaler(), Lasso())   \n",
       "10                          (MinMaxScaler(), Lasso())   \n",
       "11                 GridSearchCV(StandardScaler+Ridge)   \n",
       "12                   GridSearchCV(MinMaxScaler+Ridge)   \n",
       "13                 GridSearchCV(StandardScaler+Lasso)   \n",
       "14                   GridSearchCV(MinMaxScaler+Lasso)   \n",
       "\n",
       "                     params  R2_score        MSE  \\\n",
       "0            {'alpha': 1.0}  0.668759  24.291119   \n",
       "1            {'alpha': 1.0}  0.666222  24.477191   \n",
       "2            {'alpha': 1.0}  0.667145  24.409490   \n",
       "3          {'alpha': 1e-05}  0.668759  24.291120   \n",
       "4                      0.01  0.668751  24.291744   \n",
       "5          {'alpha': 1e-05}  0.668760  24.291092   \n",
       "6                   0.00001  0.668760  24.291092   \n",
       "7            {'alpha': 1.0}  0.668462  24.312904   \n",
       "8            {'alpha': 1.0}  0.676410  23.730076   \n",
       "9            {'alpha': 1.0}  0.623943  27.577692   \n",
       "10           {'alpha': 1.0}  0.257392  54.458243   \n",
       "11    {'model__alpha': 1.0}  0.668462  24.312904   \n",
       "12    {'model__alpha': 0.1}  0.670031  24.197875   \n",
       "13  {'model__alpha': 1e-05}  0.668759  24.291153   \n",
       "14  {'model__alpha': 1e-05}  0.668761  24.291045   \n",
       "\n",
       "                                         Coefficients  \n",
       "0   [-0.11305592398537956, 0.030110464145648403, 0...  \n",
       "1   [-0.10923406107683864, 0.03227068627331473, 0....  \n",
       "2   [-0.07660926975110097, 0.0285006354020087, -0....  \n",
       "3                                                      \n",
       "4                                                      \n",
       "5                                                      \n",
       "6                                                      \n",
       "7                                                      \n",
       "8                                                      \n",
       "9                                                      \n",
       "10                                                     \n",
       "11                                                     \n",
       "12                                                     \n",
       "13                                                     \n",
       "14                                                     "
      ]
     },
     "execution_count": 26,
     "metadata": {},
     "output_type": "execute_result"
    }
   ],
   "source": [
    "result"
   ]
  },
  {
   "cell_type": "markdown",
   "metadata": {},
   "source": [
    "**Вывод: \n",
    "Таким образом, применение масштабирования c последующим подбором параметров модель сильно не улучшило, кроме GridSearchCV(MinMaxScaler+Lasso)**"
   ]
  },
  {
   "cell_type": "markdown",
   "metadata": {},
   "source": [
    "6. Добавьте попарные произведения признаков и их квадраты (используйте PolynomialFeatures) на масштабированных признаках, посчитайте R2 и сравните с предыдущими результатами. Напишите как изменился результат"
   ]
  },
  {
   "cell_type": "code",
   "execution_count": 27,
   "metadata": {},
   "outputs": [
    {
     "name": "stdout",
     "output_type": "stream",
     "text": [
      "CPU times: user 714 ms, sys: 10.5 ms, total: 724 ms\n",
      "Wall time: 413 ms\n"
     ]
    },
    {
     "data": {
      "text/plain": [
       "model       GridSearchCV(StandardScaler+PolyF+Ridge)\n",
       "R2_score                                    0.818047\n",
       "MSE                                        13.343332\n",
       "Name: 15, dtype: object"
      ]
     },
     "execution_count": 27,
     "metadata": {},
     "output_type": "execute_result"
    }
   ],
   "source": [
    "%%time\n",
    "estimator = Pipeline([('scaler', StandardScaler()), ('poly', PolynomialFeatures()), ('model', Ridge())])\n",
    "parametrs = {'model__alpha':np.logspace(-5, 5, 11)}\n",
    "model = GridSearchCV(estimator, parametrs)\n",
    "model.fit(X_train, y_train)\n",
    "\n",
    "y_pred = model.predict(X_test)\n",
    "mse = mean_squared_error(y_test, y_pred)\n",
    "r2 = r2_score(y_test, y_pred)\n",
    "result = result.append({'model':'GridSearchCV(StandardScaler+PolyF+Ridge)', 'params': model.best_params_, 'R2_score':r2, 'MSE':mse, 'Coefficients': ''}, ignore_index=True)\n",
    "result[['model','R2_score', 'MSE']].iloc[result.shape[0]-1]"
   ]
  },
  {
   "cell_type": "code",
   "execution_count": 28,
   "metadata": {},
   "outputs": [
    {
     "name": "stdout",
     "output_type": "stream",
     "text": [
      "CPU times: user 697 ms, sys: 8.03 ms, total: 705 ms\n",
      "Wall time: 373 ms\n"
     ]
    },
    {
     "data": {
      "text/plain": [
       "model       GridSearchCV(MinMaxScaler+PolyF+Ridge)\n",
       "R2_score                                  0.850063\n",
       "MSE                                      10.995444\n",
       "Name: 16, dtype: object"
      ]
     },
     "execution_count": 28,
     "metadata": {},
     "output_type": "execute_result"
    }
   ],
   "source": [
    "%%time\n",
    "estimator = Pipeline([('scaler', MinMaxScaler()), ('poly', PolynomialFeatures()), ('model', Ridge())])\n",
    "parametrs = {'model__alpha':np.logspace(-5, 5, 11)}\n",
    "model = GridSearchCV(estimator, parametrs)\n",
    "model.fit(X_train, y_train)\n",
    "\n",
    "y_pred = model.predict(X_test)\n",
    "mse = mean_squared_error(y_test, y_pred)\n",
    "r2 = r2_score(y_test, y_pred)\n",
    "result = result.append({'model':'GridSearchCV(MinMaxScaler+PolyF+Ridge)', 'params': model.best_params_, 'R2_score':r2, 'MSE':mse, 'Coefficients': ''}, ignore_index=True)\n",
    "result[['model','R2_score', 'MSE']].iloc[result.shape[0]-1]"
   ]
  },
  {
   "cell_type": "code",
   "execution_count": 29,
   "metadata": {},
   "outputs": [
    {
     "name": "stderr",
     "output_type": "stream",
     "text": [
      "/Users/tsoysa/opt/anaconda3/lib/python3.8/site-packages/sklearn/linear_model/_coordinate_descent.py:530: ConvergenceWarning: Objective did not converge. You might want to increase the number of iterations. Duality gap: 715.1056055083382, tolerance: 2.882109046439629\n",
      "  model = cd_fast.enet_coordinate_descent(\n",
      "/Users/tsoysa/opt/anaconda3/lib/python3.8/site-packages/sklearn/linear_model/_coordinate_descent.py:530: ConvergenceWarning: Objective did not converge. You might want to increase the number of iterations. Duality gap: 718.7540715258442, tolerance: 2.764448730650155\n",
      "  model = cd_fast.enet_coordinate_descent(\n",
      "/Users/tsoysa/opt/anaconda3/lib/python3.8/site-packages/sklearn/linear_model/_coordinate_descent.py:530: ConvergenceWarning: Objective did not converge. You might want to increase the number of iterations. Duality gap: 812.8595198198157, tolerance: 2.710494922600619\n",
      "  model = cd_fast.enet_coordinate_descent(\n",
      "/Users/tsoysa/opt/anaconda3/lib/python3.8/site-packages/sklearn/linear_model/_coordinate_descent.py:530: ConvergenceWarning: Objective did not converge. You might want to increase the number of iterations. Duality gap: 754.4921904264847, tolerance: 2.729756922600619\n",
      "  model = cd_fast.enet_coordinate_descent(\n",
      "/Users/tsoysa/opt/anaconda3/lib/python3.8/site-packages/sklearn/linear_model/_coordinate_descent.py:530: ConvergenceWarning: Objective did not converge. You might want to increase the number of iterations. Duality gap: 780.3727297313573, tolerance: 2.9476950246913582\n",
      "  model = cd_fast.enet_coordinate_descent(\n",
      "/Users/tsoysa/opt/anaconda3/lib/python3.8/site-packages/sklearn/linear_model/_coordinate_descent.py:530: ConvergenceWarning: Objective did not converge. You might want to increase the number of iterations. Duality gap: 711.2620991840946, tolerance: 2.882109046439629\n",
      "  model = cd_fast.enet_coordinate_descent(\n",
      "/Users/tsoysa/opt/anaconda3/lib/python3.8/site-packages/sklearn/linear_model/_coordinate_descent.py:530: ConvergenceWarning: Objective did not converge. You might want to increase the number of iterations. Duality gap: 714.8607698736894, tolerance: 2.764448730650155\n",
      "  model = cd_fast.enet_coordinate_descent(\n",
      "/Users/tsoysa/opt/anaconda3/lib/python3.8/site-packages/sklearn/linear_model/_coordinate_descent.py:530: ConvergenceWarning: Objective did not converge. You might want to increase the number of iterations. Duality gap: 781.2967093632697, tolerance: 2.710494922600619\n",
      "  model = cd_fast.enet_coordinate_descent(\n",
      "/Users/tsoysa/opt/anaconda3/lib/python3.8/site-packages/sklearn/linear_model/_coordinate_descent.py:530: ConvergenceWarning: Objective did not converge. You might want to increase the number of iterations. Duality gap: 752.4520829648158, tolerance: 2.729756922600619\n",
      "  model = cd_fast.enet_coordinate_descent(\n",
      "/Users/tsoysa/opt/anaconda3/lib/python3.8/site-packages/sklearn/linear_model/_coordinate_descent.py:530: ConvergenceWarning: Objective did not converge. You might want to increase the number of iterations. Duality gap: 778.9354996401497, tolerance: 2.9476950246913582\n",
      "  model = cd_fast.enet_coordinate_descent(\n",
      "/Users/tsoysa/opt/anaconda3/lib/python3.8/site-packages/sklearn/linear_model/_coordinate_descent.py:530: ConvergenceWarning: Objective did not converge. You might want to increase the number of iterations. Duality gap: 665.2776407475193, tolerance: 2.882109046439629\n",
      "  model = cd_fast.enet_coordinate_descent(\n",
      "/Users/tsoysa/opt/anaconda3/lib/python3.8/site-packages/sklearn/linear_model/_coordinate_descent.py:530: ConvergenceWarning: Objective did not converge. You might want to increase the number of iterations. Duality gap: 700.3585512828994, tolerance: 2.764448730650155\n",
      "  model = cd_fast.enet_coordinate_descent(\n",
      "/Users/tsoysa/opt/anaconda3/lib/python3.8/site-packages/sklearn/linear_model/_coordinate_descent.py:530: ConvergenceWarning: Objective did not converge. You might want to increase the number of iterations. Duality gap: 709.4218335006619, tolerance: 2.710494922600619\n",
      "  model = cd_fast.enet_coordinate_descent(\n",
      "/Users/tsoysa/opt/anaconda3/lib/python3.8/site-packages/sklearn/linear_model/_coordinate_descent.py:530: ConvergenceWarning: Objective did not converge. You might want to increase the number of iterations. Duality gap: 706.2428259807496, tolerance: 2.729756922600619\n",
      "  model = cd_fast.enet_coordinate_descent(\n",
      "/Users/tsoysa/opt/anaconda3/lib/python3.8/site-packages/sklearn/linear_model/_coordinate_descent.py:530: ConvergenceWarning: Objective did not converge. You might want to increase the number of iterations. Duality gap: 755.5334060792936, tolerance: 2.9476950246913582\n",
      "  model = cd_fast.enet_coordinate_descent(\n",
      "/Users/tsoysa/opt/anaconda3/lib/python3.8/site-packages/sklearn/linear_model/_coordinate_descent.py:530: ConvergenceWarning: Objective did not converge. You might want to increase the number of iterations. Duality gap: 7.552606792186225, tolerance: 2.882109046439629\n",
      "  model = cd_fast.enet_coordinate_descent(\n",
      "/Users/tsoysa/opt/anaconda3/lib/python3.8/site-packages/sklearn/linear_model/_coordinate_descent.py:530: ConvergenceWarning: Objective did not converge. You might want to increase the number of iterations. Duality gap: 5.0563485907855465, tolerance: 2.764448730650155\n",
      "  model = cd_fast.enet_coordinate_descent(\n",
      "/Users/tsoysa/opt/anaconda3/lib/python3.8/site-packages/sklearn/linear_model/_coordinate_descent.py:530: ConvergenceWarning: Objective did not converge. You might want to increase the number of iterations. Duality gap: 23.305682071567162, tolerance: 2.710494922600619\n",
      "  model = cd_fast.enet_coordinate_descent(\n",
      "/Users/tsoysa/opt/anaconda3/lib/python3.8/site-packages/sklearn/linear_model/_coordinate_descent.py:530: ConvergenceWarning: Objective did not converge. You might want to increase the number of iterations. Duality gap: 5.343948369758891, tolerance: 2.729756922600619\n",
      "  model = cd_fast.enet_coordinate_descent(\n",
      "/Users/tsoysa/opt/anaconda3/lib/python3.8/site-packages/sklearn/linear_model/_coordinate_descent.py:530: ConvergenceWarning: Objective did not converge. You might want to increase the number of iterations. Duality gap: 3.5172075042023607, tolerance: 2.9476950246913582\n",
      "  model = cd_fast.enet_coordinate_descent(\n"
     ]
    },
    {
     "name": "stdout",
     "output_type": "stream",
     "text": [
      "CPU times: user 1.35 s, sys: 18.5 ms, total: 1.37 s\n",
      "Wall time: 747 ms\n"
     ]
    },
    {
     "data": {
      "text/plain": [
       "model       GridSearchCV(StandardScaler+PolyF+Lasso)\n",
       "R2_score                                    0.812217\n",
       "MSE                                        13.770851\n",
       "Name: 17, dtype: object"
      ]
     },
     "execution_count": 29,
     "metadata": {},
     "output_type": "execute_result"
    }
   ],
   "source": [
    "%%time\n",
    "estimator = Pipeline([('scaler', StandardScaler()), ('poly', PolynomialFeatures()), ('model', Lasso())])\n",
    "parametrs = {'model__alpha':np.logspace(-5, 5, 11)}\n",
    "model = GridSearchCV(estimator, parametrs)\n",
    "model.fit(X_train, y_train)\n",
    "\n",
    "y_pred = model.predict(X_test)\n",
    "mse = mean_squared_error(y_test, y_pred)\n",
    "r2 = r2_score(y_test, y_pred)\n",
    "result = result.append({'model':'GridSearchCV(StandardScaler+PolyF+Lasso)', 'params': model.best_params_, 'R2_score':r2, 'MSE':mse, 'Coefficients': ''}, ignore_index=True)\n",
    "result[['model','R2_score', 'MSE']].iloc[result.shape[0]-1]"
   ]
  },
  {
   "cell_type": "code",
   "execution_count": 30,
   "metadata": {},
   "outputs": [
    {
     "name": "stderr",
     "output_type": "stream",
     "text": [
      "/Users/tsoysa/opt/anaconda3/lib/python3.8/site-packages/sklearn/linear_model/_coordinate_descent.py:530: ConvergenceWarning: Objective did not converge. You might want to increase the number of iterations. Duality gap: 798.9428664973918, tolerance: 2.882109046439629\n",
      "  model = cd_fast.enet_coordinate_descent(\n",
      "/Users/tsoysa/opt/anaconda3/lib/python3.8/site-packages/sklearn/linear_model/_coordinate_descent.py:530: ConvergenceWarning: Objective did not converge. You might want to increase the number of iterations. Duality gap: 828.9439072173103, tolerance: 2.764448730650155\n",
      "  model = cd_fast.enet_coordinate_descent(\n",
      "/Users/tsoysa/opt/anaconda3/lib/python3.8/site-packages/sklearn/linear_model/_coordinate_descent.py:530: ConvergenceWarning: Objective did not converge. You might want to increase the number of iterations. Duality gap: 922.9560961232816, tolerance: 2.710494922600619\n",
      "  model = cd_fast.enet_coordinate_descent(\n",
      "/Users/tsoysa/opt/anaconda3/lib/python3.8/site-packages/sklearn/linear_model/_coordinate_descent.py:530: ConvergenceWarning: Objective did not converge. You might want to increase the number of iterations. Duality gap: 813.4765011121498, tolerance: 2.729756922600619\n",
      "  model = cd_fast.enet_coordinate_descent(\n",
      "/Users/tsoysa/opt/anaconda3/lib/python3.8/site-packages/sklearn/linear_model/_coordinate_descent.py:530: ConvergenceWarning: Objective did not converge. You might want to increase the number of iterations. Duality gap: 859.3953389128096, tolerance: 2.9476950246913582\n",
      "  model = cd_fast.enet_coordinate_descent(\n",
      "/Users/tsoysa/opt/anaconda3/lib/python3.8/site-packages/sklearn/linear_model/_coordinate_descent.py:530: ConvergenceWarning: Objective did not converge. You might want to increase the number of iterations. Duality gap: 828.5647229428882, tolerance: 2.882109046439629\n",
      "  model = cd_fast.enet_coordinate_descent(\n",
      "/Users/tsoysa/opt/anaconda3/lib/python3.8/site-packages/sklearn/linear_model/_coordinate_descent.py:530: ConvergenceWarning: Objective did not converge. You might want to increase the number of iterations. Duality gap: 848.4951145488386, tolerance: 2.764448730650155\n",
      "  model = cd_fast.enet_coordinate_descent(\n",
      "/Users/tsoysa/opt/anaconda3/lib/python3.8/site-packages/sklearn/linear_model/_coordinate_descent.py:530: ConvergenceWarning: Objective did not converge. You might want to increase the number of iterations. Duality gap: 934.7744049818108, tolerance: 2.710494922600619\n",
      "  model = cd_fast.enet_coordinate_descent(\n",
      "/Users/tsoysa/opt/anaconda3/lib/python3.8/site-packages/sklearn/linear_model/_coordinate_descent.py:530: ConvergenceWarning: Objective did not converge. You might want to increase the number of iterations. Duality gap: 813.1264756827503, tolerance: 2.729756922600619\n",
      "  model = cd_fast.enet_coordinate_descent(\n",
      "/Users/tsoysa/opt/anaconda3/lib/python3.8/site-packages/sklearn/linear_model/_coordinate_descent.py:530: ConvergenceWarning: Objective did not converge. You might want to increase the number of iterations. Duality gap: 847.8299364651164, tolerance: 2.9476950246913582\n",
      "  model = cd_fast.enet_coordinate_descent(\n",
      "/Users/tsoysa/opt/anaconda3/lib/python3.8/site-packages/sklearn/linear_model/_coordinate_descent.py:530: ConvergenceWarning: Objective did not converge. You might want to increase the number of iterations. Duality gap: 723.7812868040975, tolerance: 2.882109046439629\n",
      "  model = cd_fast.enet_coordinate_descent(\n",
      "/Users/tsoysa/opt/anaconda3/lib/python3.8/site-packages/sklearn/linear_model/_coordinate_descent.py:530: ConvergenceWarning: Objective did not converge. You might want to increase the number of iterations. Duality gap: 817.2073862367754, tolerance: 2.764448730650155\n",
      "  model = cd_fast.enet_coordinate_descent(\n",
      "/Users/tsoysa/opt/anaconda3/lib/python3.8/site-packages/sklearn/linear_model/_coordinate_descent.py:530: ConvergenceWarning: Objective did not converge. You might want to increase the number of iterations. Duality gap: 796.271911517854, tolerance: 2.710494922600619\n",
      "  model = cd_fast.enet_coordinate_descent(\n",
      "/Users/tsoysa/opt/anaconda3/lib/python3.8/site-packages/sklearn/linear_model/_coordinate_descent.py:530: ConvergenceWarning: Objective did not converge. You might want to increase the number of iterations. Duality gap: 659.1941761273495, tolerance: 2.729756922600619\n",
      "  model = cd_fast.enet_coordinate_descent(\n",
      "/Users/tsoysa/opt/anaconda3/lib/python3.8/site-packages/sklearn/linear_model/_coordinate_descent.py:530: ConvergenceWarning: Objective did not converge. You might want to increase the number of iterations. Duality gap: 683.6174332026749, tolerance: 2.9476950246913582\n",
      "  model = cd_fast.enet_coordinate_descent(\n",
      "/Users/tsoysa/opt/anaconda3/lib/python3.8/site-packages/sklearn/linear_model/_coordinate_descent.py:530: ConvergenceWarning: Objective did not converge. You might want to increase the number of iterations. Duality gap: 20.024029292491377, tolerance: 2.882109046439629\n",
      "  model = cd_fast.enet_coordinate_descent(\n",
      "/Users/tsoysa/opt/anaconda3/lib/python3.8/site-packages/sklearn/linear_model/_coordinate_descent.py:530: ConvergenceWarning: Objective did not converge. You might want to increase the number of iterations. Duality gap: 8.483583574843578, tolerance: 2.764448730650155\n",
      "  model = cd_fast.enet_coordinate_descent(\n",
      "/Users/tsoysa/opt/anaconda3/lib/python3.8/site-packages/sklearn/linear_model/_coordinate_descent.py:530: ConvergenceWarning: Objective did not converge. You might want to increase the number of iterations. Duality gap: 27.588332101721335, tolerance: 2.710494922600619\n",
      "  model = cd_fast.enet_coordinate_descent(\n",
      "/Users/tsoysa/opt/anaconda3/lib/python3.8/site-packages/sklearn/linear_model/_coordinate_descent.py:530: ConvergenceWarning: Objective did not converge. You might want to increase the number of iterations. Duality gap: 22.375766647795444, tolerance: 2.9476950246913582\n",
      "  model = cd_fast.enet_coordinate_descent(\n"
     ]
    },
    {
     "name": "stdout",
     "output_type": "stream",
     "text": [
      "CPU times: user 1.29 s, sys: 16.5 ms, total: 1.31 s\n",
      "Wall time: 694 ms\n"
     ]
    },
    {
     "name": "stderr",
     "output_type": "stream",
     "text": [
      "/Users/tsoysa/opt/anaconda3/lib/python3.8/site-packages/sklearn/linear_model/_coordinate_descent.py:530: ConvergenceWarning: Objective did not converge. You might want to increase the number of iterations. Duality gap: 964.9694349648585, tolerance: 3.509685514851485\n",
      "  model = cd_fast.enet_coordinate_descent(\n"
     ]
    },
    {
     "data": {
      "text/plain": [
       "model       GridSearchCV(MinMaxScaler+PolyF+Lasso)\n",
       "R2_score                                  0.839058\n",
       "MSE                                      11.802473\n",
       "Name: 18, dtype: object"
      ]
     },
     "execution_count": 30,
     "metadata": {},
     "output_type": "execute_result"
    }
   ],
   "source": [
    "%%time\n",
    "estimator = Pipeline([('scaler', MinMaxScaler()), ('poly', PolynomialFeatures()), ('model', Lasso())])\n",
    "parametrs = {'model__alpha':np.logspace(-5, 5, 11)}\n",
    "model = GridSearchCV(estimator, parametrs)\n",
    "model.fit(X_train, y_train)\n",
    "\n",
    "y_pred = model.predict(X_test)\n",
    "mse = mean_squared_error(y_test, y_pred)\n",
    "r2 = r2_score(y_test, y_pred)\n",
    "result = result.append({'model':'GridSearchCV(MinMaxScaler+PolyF+Lasso)', 'params': model.best_params_, 'R2_score':r2, 'MSE':mse, 'Coefficients': ''}, ignore_index=True)\n",
    "result[['model','R2_score', 'MSE']].iloc[result.shape[0]-1]"
   ]
  },
  {
   "cell_type": "code",
   "execution_count": 31,
   "metadata": {},
   "outputs": [
    {
     "data": {
      "text/html": [
       "<div>\n",
       "<style scoped>\n",
       "    .dataframe tbody tr th:only-of-type {\n",
       "        vertical-align: middle;\n",
       "    }\n",
       "\n",
       "    .dataframe tbody tr th {\n",
       "        vertical-align: top;\n",
       "    }\n",
       "\n",
       "    .dataframe thead th {\n",
       "        text-align: right;\n",
       "    }\n",
       "</style>\n",
       "<table border=\"1\" class=\"dataframe\">\n",
       "  <thead>\n",
       "    <tr style=\"text-align: right;\">\n",
       "      <th></th>\n",
       "      <th>model</th>\n",
       "      <th>params</th>\n",
       "      <th>R2_score</th>\n",
       "      <th>MSE</th>\n",
       "      <th>Coefficients</th>\n",
       "    </tr>\n",
       "  </thead>\n",
       "  <tbody>\n",
       "    <tr>\n",
       "      <th>0</th>\n",
       "      <td>LinearRegression()</td>\n",
       "      <td>{'alpha': 1.0}</td>\n",
       "      <td>0.668759</td>\n",
       "      <td>24.291119</td>\n",
       "      <td>[-0.11305592398537956, 0.030110464145648403, 0...</td>\n",
       "    </tr>\n",
       "    <tr>\n",
       "      <th>1</th>\n",
       "      <td>Ridge()</td>\n",
       "      <td>{'alpha': 1.0}</td>\n",
       "      <td>0.666222</td>\n",
       "      <td>24.477191</td>\n",
       "      <td>[-0.10923406107683864, 0.03227068627331473, 0....</td>\n",
       "    </tr>\n",
       "    <tr>\n",
       "      <th>2</th>\n",
       "      <td>Lasso()</td>\n",
       "      <td>{'alpha': 1.0}</td>\n",
       "      <td>0.667145</td>\n",
       "      <td>24.409490</td>\n",
       "      <td>[-0.07660926975110097, 0.0285006354020087, -0....</td>\n",
       "    </tr>\n",
       "    <tr>\n",
       "      <th>3</th>\n",
       "      <td>GridSearchCV(estimator=Ridge(),\\n             ...</td>\n",
       "      <td>{'alpha': 1e-05}</td>\n",
       "      <td>0.668759</td>\n",
       "      <td>24.291120</td>\n",
       "      <td></td>\n",
       "    </tr>\n",
       "    <tr>\n",
       "      <th>4</th>\n",
       "      <td>RidgeCV(alphas=array([1.e-05, 1.e-04, 1.e-03, ...</td>\n",
       "      <td>0.01</td>\n",
       "      <td>0.668751</td>\n",
       "      <td>24.291744</td>\n",
       "      <td></td>\n",
       "    </tr>\n",
       "    <tr>\n",
       "      <th>5</th>\n",
       "      <td>GridSearchCV(estimator=Lasso(),\\n             ...</td>\n",
       "      <td>{'alpha': 1e-05}</td>\n",
       "      <td>0.668760</td>\n",
       "      <td>24.291092</td>\n",
       "      <td></td>\n",
       "    </tr>\n",
       "    <tr>\n",
       "      <th>6</th>\n",
       "      <td>LassoCV(alphas=array([1.e-05, 1.e-04, 1.e-03, ...</td>\n",
       "      <td>0.00001</td>\n",
       "      <td>0.668760</td>\n",
       "      <td>24.291092</td>\n",
       "      <td></td>\n",
       "    </tr>\n",
       "    <tr>\n",
       "      <th>7</th>\n",
       "      <td>(StandardScaler(), Ridge())</td>\n",
       "      <td>{'alpha': 1.0}</td>\n",
       "      <td>0.668462</td>\n",
       "      <td>24.312904</td>\n",
       "      <td></td>\n",
       "    </tr>\n",
       "    <tr>\n",
       "      <th>8</th>\n",
       "      <td>(MinMaxScaler(), Ridge())</td>\n",
       "      <td>{'alpha': 1.0}</td>\n",
       "      <td>0.676410</td>\n",
       "      <td>23.730076</td>\n",
       "      <td></td>\n",
       "    </tr>\n",
       "    <tr>\n",
       "      <th>9</th>\n",
       "      <td>(StandardScaler(), Lasso())</td>\n",
       "      <td>{'alpha': 1.0}</td>\n",
       "      <td>0.623943</td>\n",
       "      <td>27.577692</td>\n",
       "      <td></td>\n",
       "    </tr>\n",
       "    <tr>\n",
       "      <th>10</th>\n",
       "      <td>(MinMaxScaler(), Lasso())</td>\n",
       "      <td>{'alpha': 1.0}</td>\n",
       "      <td>0.257392</td>\n",
       "      <td>54.458243</td>\n",
       "      <td></td>\n",
       "    </tr>\n",
       "    <tr>\n",
       "      <th>11</th>\n",
       "      <td>GridSearchCV(StandardScaler+Ridge)</td>\n",
       "      <td>{'model__alpha': 1.0}</td>\n",
       "      <td>0.668462</td>\n",
       "      <td>24.312904</td>\n",
       "      <td></td>\n",
       "    </tr>\n",
       "    <tr>\n",
       "      <th>12</th>\n",
       "      <td>GridSearchCV(MinMaxScaler+Ridge)</td>\n",
       "      <td>{'model__alpha': 0.1}</td>\n",
       "      <td>0.670031</td>\n",
       "      <td>24.197875</td>\n",
       "      <td></td>\n",
       "    </tr>\n",
       "    <tr>\n",
       "      <th>13</th>\n",
       "      <td>GridSearchCV(StandardScaler+Lasso)</td>\n",
       "      <td>{'model__alpha': 1e-05}</td>\n",
       "      <td>0.668759</td>\n",
       "      <td>24.291153</td>\n",
       "      <td></td>\n",
       "    </tr>\n",
       "    <tr>\n",
       "      <th>14</th>\n",
       "      <td>GridSearchCV(MinMaxScaler+Lasso)</td>\n",
       "      <td>{'model__alpha': 1e-05}</td>\n",
       "      <td>0.668761</td>\n",
       "      <td>24.291045</td>\n",
       "      <td></td>\n",
       "    </tr>\n",
       "    <tr>\n",
       "      <th>15</th>\n",
       "      <td>GridSearchCV(StandardScaler+PolyF+Ridge)</td>\n",
       "      <td>{'model__alpha': 10.0}</td>\n",
       "      <td>0.818047</td>\n",
       "      <td>13.343332</td>\n",
       "      <td></td>\n",
       "    </tr>\n",
       "    <tr>\n",
       "      <th>16</th>\n",
       "      <td>GridSearchCV(MinMaxScaler+PolyF+Ridge)</td>\n",
       "      <td>{'model__alpha': 0.1}</td>\n",
       "      <td>0.850063</td>\n",
       "      <td>10.995444</td>\n",
       "      <td></td>\n",
       "    </tr>\n",
       "    <tr>\n",
       "      <th>17</th>\n",
       "      <td>GridSearchCV(StandardScaler+PolyF+Lasso)</td>\n",
       "      <td>{'model__alpha': 0.1}</td>\n",
       "      <td>0.812217</td>\n",
       "      <td>13.770851</td>\n",
       "      <td></td>\n",
       "    </tr>\n",
       "    <tr>\n",
       "      <th>18</th>\n",
       "      <td>GridSearchCV(MinMaxScaler+PolyF+Lasso)</td>\n",
       "      <td>{'model__alpha': 0.001}</td>\n",
       "      <td>0.839058</td>\n",
       "      <td>11.802473</td>\n",
       "      <td></td>\n",
       "    </tr>\n",
       "  </tbody>\n",
       "</table>\n",
       "</div>"
      ],
      "text/plain": [
       "                                                model  \\\n",
       "0                                  LinearRegression()   \n",
       "1                                             Ridge()   \n",
       "2                                             Lasso()   \n",
       "3   GridSearchCV(estimator=Ridge(),\\n             ...   \n",
       "4   RidgeCV(alphas=array([1.e-05, 1.e-04, 1.e-03, ...   \n",
       "5   GridSearchCV(estimator=Lasso(),\\n             ...   \n",
       "6   LassoCV(alphas=array([1.e-05, 1.e-04, 1.e-03, ...   \n",
       "7                         (StandardScaler(), Ridge())   \n",
       "8                           (MinMaxScaler(), Ridge())   \n",
       "9                         (StandardScaler(), Lasso())   \n",
       "10                          (MinMaxScaler(), Lasso())   \n",
       "11                 GridSearchCV(StandardScaler+Ridge)   \n",
       "12                   GridSearchCV(MinMaxScaler+Ridge)   \n",
       "13                 GridSearchCV(StandardScaler+Lasso)   \n",
       "14                   GridSearchCV(MinMaxScaler+Lasso)   \n",
       "15           GridSearchCV(StandardScaler+PolyF+Ridge)   \n",
       "16             GridSearchCV(MinMaxScaler+PolyF+Ridge)   \n",
       "17           GridSearchCV(StandardScaler+PolyF+Lasso)   \n",
       "18             GridSearchCV(MinMaxScaler+PolyF+Lasso)   \n",
       "\n",
       "                     params  R2_score        MSE  \\\n",
       "0            {'alpha': 1.0}  0.668759  24.291119   \n",
       "1            {'alpha': 1.0}  0.666222  24.477191   \n",
       "2            {'alpha': 1.0}  0.667145  24.409490   \n",
       "3          {'alpha': 1e-05}  0.668759  24.291120   \n",
       "4                      0.01  0.668751  24.291744   \n",
       "5          {'alpha': 1e-05}  0.668760  24.291092   \n",
       "6                   0.00001  0.668760  24.291092   \n",
       "7            {'alpha': 1.0}  0.668462  24.312904   \n",
       "8            {'alpha': 1.0}  0.676410  23.730076   \n",
       "9            {'alpha': 1.0}  0.623943  27.577692   \n",
       "10           {'alpha': 1.0}  0.257392  54.458243   \n",
       "11    {'model__alpha': 1.0}  0.668462  24.312904   \n",
       "12    {'model__alpha': 0.1}  0.670031  24.197875   \n",
       "13  {'model__alpha': 1e-05}  0.668759  24.291153   \n",
       "14  {'model__alpha': 1e-05}  0.668761  24.291045   \n",
       "15   {'model__alpha': 10.0}  0.818047  13.343332   \n",
       "16    {'model__alpha': 0.1}  0.850063  10.995444   \n",
       "17    {'model__alpha': 0.1}  0.812217  13.770851   \n",
       "18  {'model__alpha': 0.001}  0.839058  11.802473   \n",
       "\n",
       "                                         Coefficients  \n",
       "0   [-0.11305592398537956, 0.030110464145648403, 0...  \n",
       "1   [-0.10923406107683864, 0.03227068627331473, 0....  \n",
       "2   [-0.07660926975110097, 0.0285006354020087, -0....  \n",
       "3                                                      \n",
       "4                                                      \n",
       "5                                                      \n",
       "6                                                      \n",
       "7                                                      \n",
       "8                                                      \n",
       "9                                                      \n",
       "10                                                     \n",
       "11                                                     \n",
       "12                                                     \n",
       "13                                                     \n",
       "14                                                     \n",
       "15                                                     \n",
       "16                                                     \n",
       "17                                                     \n",
       "18                                                     "
      ]
     },
     "execution_count": 31,
     "metadata": {},
     "output_type": "execute_result"
    }
   ],
   "source": [
    "result"
   ]
  },
  {
   "cell_type": "markdown",
   "metadata": {},
   "source": [
    "**Вывод: \n",
    "Таким образом, применение генерации новых признаков с помощью PolynomialFeatures() дало качественный результат: R2 увеличился с 0.67 до 0.85 в случае с GridSearchCV(MinMaxScaler+PolyF+Ridge)**"
   ]
  },
  {
   "cell_type": "markdown",
   "metadata": {},
   "source": [
    "7. Подберите наилучшую модель (используйте Pipeline, GridSearchSCV) подбирая тип регуляризации (L1,L2), коэффициент регуляризации, метод масштабирования и степень полинома в PolynomialFeatures. Выведите итоговые параметры и результат R2. Напишите как изменился R2 по сравнению с предыдущими экспериментами"
   ]
  },
  {
   "cell_type": "code",
   "execution_count": 32,
   "metadata": {},
   "outputs": [
    {
     "name": "stdout",
     "output_type": "stream",
     "text": [
      "CPU times: user 12.4 s, sys: 784 ms, total: 13.2 s\n",
      "Wall time: 6.71 s\n"
     ]
    },
    {
     "data": {
      "text/plain": [
       "model                  GridSearchCV(MinMaxScaler+PolyF+Ridge)\n",
       "params      {'model__alpha': 0.1, 'poly__degree': 5, 'poly...\n",
       "R2_score                                              0.86716\n",
       "MSE                                                  9.741672\n",
       "Name: 19, dtype: object"
      ]
     },
     "execution_count": 32,
     "metadata": {},
     "output_type": "execute_result"
    }
   ],
   "source": [
    "%%time\n",
    "estimator = Pipeline([('scaler', MinMaxScaler()), ('poly', PolynomialFeatures()), ('model', Ridge())])\n",
    "parametrs = {\n",
    "    'model__alpha': np.logspace(-5, 5, 11),\n",
    "    'poly__degree': np.arange(2,6,1),\n",
    "    'poly__interaction_only': [True, False]\n",
    "}\n",
    "\n",
    "model = GridSearchCV(estimator, parametrs)\n",
    "model.fit(X_train, y_train)\n",
    "\n",
    "y_pred = model.predict(X_test)\n",
    "mse = mean_squared_error(y_test, y_pred)\n",
    "r2 = r2_score(y_test, y_pred)\n",
    "result = result.append({'model':'GridSearchCV(MinMaxScaler+PolyF+Ridge)', 'params': model.best_params_, 'R2_score':r2, 'MSE':mse, 'Coefficients': ''}, ignore_index=True)\n",
    "result[['model','params','R2_score', 'MSE']].iloc[result.shape[0]-1]"
   ]
  },
  {
   "cell_type": "code",
   "execution_count": 33,
   "metadata": {},
   "outputs": [
    {
     "name": "stdout",
     "output_type": "stream",
     "text": [
      "{'model__alpha': 0.1, 'poly__degree': 5, 'poly__interaction_only': True}\n"
     ]
    }
   ],
   "source": [
    "print(result['params'].iloc[result.shape[0]-1])"
   ]
  },
  {
   "cell_type": "code",
   "execution_count": 34,
   "metadata": {},
   "outputs": [
    {
     "data": {
      "text/html": [
       "<div>\n",
       "<style scoped>\n",
       "    .dataframe tbody tr th:only-of-type {\n",
       "        vertical-align: middle;\n",
       "    }\n",
       "\n",
       "    .dataframe tbody tr th {\n",
       "        vertical-align: top;\n",
       "    }\n",
       "\n",
       "    .dataframe thead th {\n",
       "        text-align: right;\n",
       "    }\n",
       "</style>\n",
       "<table border=\"1\" class=\"dataframe\">\n",
       "  <thead>\n",
       "    <tr style=\"text-align: right;\">\n",
       "      <th></th>\n",
       "      <th>model</th>\n",
       "      <th>params</th>\n",
       "      <th>R2_score</th>\n",
       "      <th>MSE</th>\n",
       "      <th>Coefficients</th>\n",
       "    </tr>\n",
       "  </thead>\n",
       "  <tbody>\n",
       "    <tr>\n",
       "      <th>0</th>\n",
       "      <td>LinearRegression()</td>\n",
       "      <td>{'alpha': 1.0}</td>\n",
       "      <td>0.668759</td>\n",
       "      <td>24.291119</td>\n",
       "      <td>[-0.11305592398537956, 0.030110464145648403, 0...</td>\n",
       "    </tr>\n",
       "    <tr>\n",
       "      <th>1</th>\n",
       "      <td>Ridge()</td>\n",
       "      <td>{'alpha': 1.0}</td>\n",
       "      <td>0.666222</td>\n",
       "      <td>24.477191</td>\n",
       "      <td>[-0.10923406107683864, 0.03227068627331473, 0....</td>\n",
       "    </tr>\n",
       "    <tr>\n",
       "      <th>2</th>\n",
       "      <td>Lasso()</td>\n",
       "      <td>{'alpha': 1.0}</td>\n",
       "      <td>0.667145</td>\n",
       "      <td>24.409490</td>\n",
       "      <td>[-0.07660926975110097, 0.0285006354020087, -0....</td>\n",
       "    </tr>\n",
       "    <tr>\n",
       "      <th>3</th>\n",
       "      <td>GridSearchCV(estimator=Ridge(),\\n             ...</td>\n",
       "      <td>{'alpha': 1e-05}</td>\n",
       "      <td>0.668759</td>\n",
       "      <td>24.291120</td>\n",
       "      <td></td>\n",
       "    </tr>\n",
       "    <tr>\n",
       "      <th>4</th>\n",
       "      <td>RidgeCV(alphas=array([1.e-05, 1.e-04, 1.e-03, ...</td>\n",
       "      <td>0.01</td>\n",
       "      <td>0.668751</td>\n",
       "      <td>24.291744</td>\n",
       "      <td></td>\n",
       "    </tr>\n",
       "    <tr>\n",
       "      <th>5</th>\n",
       "      <td>GridSearchCV(estimator=Lasso(),\\n             ...</td>\n",
       "      <td>{'alpha': 1e-05}</td>\n",
       "      <td>0.668760</td>\n",
       "      <td>24.291092</td>\n",
       "      <td></td>\n",
       "    </tr>\n",
       "    <tr>\n",
       "      <th>6</th>\n",
       "      <td>LassoCV(alphas=array([1.e-05, 1.e-04, 1.e-03, ...</td>\n",
       "      <td>0.00001</td>\n",
       "      <td>0.668760</td>\n",
       "      <td>24.291092</td>\n",
       "      <td></td>\n",
       "    </tr>\n",
       "    <tr>\n",
       "      <th>7</th>\n",
       "      <td>(StandardScaler(), Ridge())</td>\n",
       "      <td>{'alpha': 1.0}</td>\n",
       "      <td>0.668462</td>\n",
       "      <td>24.312904</td>\n",
       "      <td></td>\n",
       "    </tr>\n",
       "    <tr>\n",
       "      <th>8</th>\n",
       "      <td>(MinMaxScaler(), Ridge())</td>\n",
       "      <td>{'alpha': 1.0}</td>\n",
       "      <td>0.676410</td>\n",
       "      <td>23.730076</td>\n",
       "      <td></td>\n",
       "    </tr>\n",
       "    <tr>\n",
       "      <th>9</th>\n",
       "      <td>(StandardScaler(), Lasso())</td>\n",
       "      <td>{'alpha': 1.0}</td>\n",
       "      <td>0.623943</td>\n",
       "      <td>27.577692</td>\n",
       "      <td></td>\n",
       "    </tr>\n",
       "    <tr>\n",
       "      <th>10</th>\n",
       "      <td>(MinMaxScaler(), Lasso())</td>\n",
       "      <td>{'alpha': 1.0}</td>\n",
       "      <td>0.257392</td>\n",
       "      <td>54.458243</td>\n",
       "      <td></td>\n",
       "    </tr>\n",
       "    <tr>\n",
       "      <th>11</th>\n",
       "      <td>GridSearchCV(StandardScaler+Ridge)</td>\n",
       "      <td>{'model__alpha': 1.0}</td>\n",
       "      <td>0.668462</td>\n",
       "      <td>24.312904</td>\n",
       "      <td></td>\n",
       "    </tr>\n",
       "    <tr>\n",
       "      <th>12</th>\n",
       "      <td>GridSearchCV(MinMaxScaler+Ridge)</td>\n",
       "      <td>{'model__alpha': 0.1}</td>\n",
       "      <td>0.670031</td>\n",
       "      <td>24.197875</td>\n",
       "      <td></td>\n",
       "    </tr>\n",
       "    <tr>\n",
       "      <th>13</th>\n",
       "      <td>GridSearchCV(StandardScaler+Lasso)</td>\n",
       "      <td>{'model__alpha': 1e-05}</td>\n",
       "      <td>0.668759</td>\n",
       "      <td>24.291153</td>\n",
       "      <td></td>\n",
       "    </tr>\n",
       "    <tr>\n",
       "      <th>14</th>\n",
       "      <td>GridSearchCV(MinMaxScaler+Lasso)</td>\n",
       "      <td>{'model__alpha': 1e-05}</td>\n",
       "      <td>0.668761</td>\n",
       "      <td>24.291045</td>\n",
       "      <td></td>\n",
       "    </tr>\n",
       "    <tr>\n",
       "      <th>15</th>\n",
       "      <td>GridSearchCV(StandardScaler+PolyF+Ridge)</td>\n",
       "      <td>{'model__alpha': 10.0}</td>\n",
       "      <td>0.818047</td>\n",
       "      <td>13.343332</td>\n",
       "      <td></td>\n",
       "    </tr>\n",
       "    <tr>\n",
       "      <th>16</th>\n",
       "      <td>GridSearchCV(MinMaxScaler+PolyF+Ridge)</td>\n",
       "      <td>{'model__alpha': 0.1}</td>\n",
       "      <td>0.850063</td>\n",
       "      <td>10.995444</td>\n",
       "      <td></td>\n",
       "    </tr>\n",
       "    <tr>\n",
       "      <th>17</th>\n",
       "      <td>GridSearchCV(StandardScaler+PolyF+Lasso)</td>\n",
       "      <td>{'model__alpha': 0.1}</td>\n",
       "      <td>0.812217</td>\n",
       "      <td>13.770851</td>\n",
       "      <td></td>\n",
       "    </tr>\n",
       "    <tr>\n",
       "      <th>18</th>\n",
       "      <td>GridSearchCV(MinMaxScaler+PolyF+Lasso)</td>\n",
       "      <td>{'model__alpha': 0.001}</td>\n",
       "      <td>0.839058</td>\n",
       "      <td>11.802473</td>\n",
       "      <td></td>\n",
       "    </tr>\n",
       "    <tr>\n",
       "      <th>19</th>\n",
       "      <td>GridSearchCV(MinMaxScaler+PolyF+Ridge)</td>\n",
       "      <td>{'model__alpha': 0.1, 'poly__degree': 5, 'poly...</td>\n",
       "      <td>0.867160</td>\n",
       "      <td>9.741672</td>\n",
       "      <td></td>\n",
       "    </tr>\n",
       "  </tbody>\n",
       "</table>\n",
       "</div>"
      ],
      "text/plain": [
       "                                                model  \\\n",
       "0                                  LinearRegression()   \n",
       "1                                             Ridge()   \n",
       "2                                             Lasso()   \n",
       "3   GridSearchCV(estimator=Ridge(),\\n             ...   \n",
       "4   RidgeCV(alphas=array([1.e-05, 1.e-04, 1.e-03, ...   \n",
       "5   GridSearchCV(estimator=Lasso(),\\n             ...   \n",
       "6   LassoCV(alphas=array([1.e-05, 1.e-04, 1.e-03, ...   \n",
       "7                         (StandardScaler(), Ridge())   \n",
       "8                           (MinMaxScaler(), Ridge())   \n",
       "9                         (StandardScaler(), Lasso())   \n",
       "10                          (MinMaxScaler(), Lasso())   \n",
       "11                 GridSearchCV(StandardScaler+Ridge)   \n",
       "12                   GridSearchCV(MinMaxScaler+Ridge)   \n",
       "13                 GridSearchCV(StandardScaler+Lasso)   \n",
       "14                   GridSearchCV(MinMaxScaler+Lasso)   \n",
       "15           GridSearchCV(StandardScaler+PolyF+Ridge)   \n",
       "16             GridSearchCV(MinMaxScaler+PolyF+Ridge)   \n",
       "17           GridSearchCV(StandardScaler+PolyF+Lasso)   \n",
       "18             GridSearchCV(MinMaxScaler+PolyF+Lasso)   \n",
       "19             GridSearchCV(MinMaxScaler+PolyF+Ridge)   \n",
       "\n",
       "                                               params  R2_score        MSE  \\\n",
       "0                                      {'alpha': 1.0}  0.668759  24.291119   \n",
       "1                                      {'alpha': 1.0}  0.666222  24.477191   \n",
       "2                                      {'alpha': 1.0}  0.667145  24.409490   \n",
       "3                                    {'alpha': 1e-05}  0.668759  24.291120   \n",
       "4                                                0.01  0.668751  24.291744   \n",
       "5                                    {'alpha': 1e-05}  0.668760  24.291092   \n",
       "6                                             0.00001  0.668760  24.291092   \n",
       "7                                      {'alpha': 1.0}  0.668462  24.312904   \n",
       "8                                      {'alpha': 1.0}  0.676410  23.730076   \n",
       "9                                      {'alpha': 1.0}  0.623943  27.577692   \n",
       "10                                     {'alpha': 1.0}  0.257392  54.458243   \n",
       "11                              {'model__alpha': 1.0}  0.668462  24.312904   \n",
       "12                              {'model__alpha': 0.1}  0.670031  24.197875   \n",
       "13                            {'model__alpha': 1e-05}  0.668759  24.291153   \n",
       "14                            {'model__alpha': 1e-05}  0.668761  24.291045   \n",
       "15                             {'model__alpha': 10.0}  0.818047  13.343332   \n",
       "16                              {'model__alpha': 0.1}  0.850063  10.995444   \n",
       "17                              {'model__alpha': 0.1}  0.812217  13.770851   \n",
       "18                            {'model__alpha': 0.001}  0.839058  11.802473   \n",
       "19  {'model__alpha': 0.1, 'poly__degree': 5, 'poly...  0.867160   9.741672   \n",
       "\n",
       "                                         Coefficients  \n",
       "0   [-0.11305592398537956, 0.030110464145648403, 0...  \n",
       "1   [-0.10923406107683864, 0.03227068627331473, 0....  \n",
       "2   [-0.07660926975110097, 0.0285006354020087, -0....  \n",
       "3                                                      \n",
       "4                                                      \n",
       "5                                                      \n",
       "6                                                      \n",
       "7                                                      \n",
       "8                                                      \n",
       "9                                                      \n",
       "10                                                     \n",
       "11                                                     \n",
       "12                                                     \n",
       "13                                                     \n",
       "14                                                     \n",
       "15                                                     \n",
       "16                                                     \n",
       "17                                                     \n",
       "18                                                     \n",
       "19                                                     "
      ]
     },
     "execution_count": 34,
     "metadata": {},
     "output_type": "execute_result"
    }
   ],
   "source": [
    "result"
   ]
  },
  {
   "cell_type": "markdown",
   "metadata": {},
   "source": [
    "**Вывод: \n",
    "Таким образом, в результате множества экспериментов лучшим результатом стало R2=0.86716 при применении масштабирования MinMaxScaler(), добавления доп признаков полиномом 5ой степени и L2 -регуляризации Ridge() с коэффициентом 0.1**"
   ]
  },
  {
   "cell_type": "markdown",
   "metadata": {},
   "source": [
    "http://archive.ics.uci.edu/ml/datasets/Adult"
   ]
  },
  {
   "cell_type": "code",
   "execution_count": 35,
   "metadata": {},
   "outputs": [],
   "source": [
    "link = 'https://raw.githubusercontent.com/jbrownlee/Datasets/master/adult-all.csv'\n",
    "data = pd.read_csv(link, header=None)"
   ]
  },
  {
   "cell_type": "code",
   "execution_count": 36,
   "metadata": {},
   "outputs": [
    {
     "data": {
      "text/html": [
       "<div>\n",
       "<style scoped>\n",
       "    .dataframe tbody tr th:only-of-type {\n",
       "        vertical-align: middle;\n",
       "    }\n",
       "\n",
       "    .dataframe tbody tr th {\n",
       "        vertical-align: top;\n",
       "    }\n",
       "\n",
       "    .dataframe thead th {\n",
       "        text-align: right;\n",
       "    }\n",
       "</style>\n",
       "<table border=\"1\" class=\"dataframe\">\n",
       "  <thead>\n",
       "    <tr style=\"text-align: right;\">\n",
       "      <th></th>\n",
       "      <th>0</th>\n",
       "      <th>1</th>\n",
       "      <th>2</th>\n",
       "      <th>3</th>\n",
       "      <th>4</th>\n",
       "      <th>5</th>\n",
       "      <th>6</th>\n",
       "      <th>7</th>\n",
       "      <th>8</th>\n",
       "      <th>9</th>\n",
       "      <th>10</th>\n",
       "      <th>11</th>\n",
       "      <th>12</th>\n",
       "      <th>13</th>\n",
       "      <th>14</th>\n",
       "    </tr>\n",
       "  </thead>\n",
       "  <tbody>\n",
       "    <tr>\n",
       "      <th>0</th>\n",
       "      <td>39</td>\n",
       "      <td>State-gov</td>\n",
       "      <td>77516</td>\n",
       "      <td>Bachelors</td>\n",
       "      <td>13</td>\n",
       "      <td>Never-married</td>\n",
       "      <td>Adm-clerical</td>\n",
       "      <td>Not-in-family</td>\n",
       "      <td>White</td>\n",
       "      <td>Male</td>\n",
       "      <td>2174</td>\n",
       "      <td>0</td>\n",
       "      <td>40</td>\n",
       "      <td>United-States</td>\n",
       "      <td>&lt;=50K</td>\n",
       "    </tr>\n",
       "    <tr>\n",
       "      <th>1</th>\n",
       "      <td>50</td>\n",
       "      <td>Self-emp-not-inc</td>\n",
       "      <td>83311</td>\n",
       "      <td>Bachelors</td>\n",
       "      <td>13</td>\n",
       "      <td>Married-civ-spouse</td>\n",
       "      <td>Exec-managerial</td>\n",
       "      <td>Husband</td>\n",
       "      <td>White</td>\n",
       "      <td>Male</td>\n",
       "      <td>0</td>\n",
       "      <td>0</td>\n",
       "      <td>13</td>\n",
       "      <td>United-States</td>\n",
       "      <td>&lt;=50K</td>\n",
       "    </tr>\n",
       "    <tr>\n",
       "      <th>2</th>\n",
       "      <td>38</td>\n",
       "      <td>Private</td>\n",
       "      <td>215646</td>\n",
       "      <td>HS-grad</td>\n",
       "      <td>9</td>\n",
       "      <td>Divorced</td>\n",
       "      <td>Handlers-cleaners</td>\n",
       "      <td>Not-in-family</td>\n",
       "      <td>White</td>\n",
       "      <td>Male</td>\n",
       "      <td>0</td>\n",
       "      <td>0</td>\n",
       "      <td>40</td>\n",
       "      <td>United-States</td>\n",
       "      <td>&lt;=50K</td>\n",
       "    </tr>\n",
       "    <tr>\n",
       "      <th>3</th>\n",
       "      <td>53</td>\n",
       "      <td>Private</td>\n",
       "      <td>234721</td>\n",
       "      <td>11th</td>\n",
       "      <td>7</td>\n",
       "      <td>Married-civ-spouse</td>\n",
       "      <td>Handlers-cleaners</td>\n",
       "      <td>Husband</td>\n",
       "      <td>Black</td>\n",
       "      <td>Male</td>\n",
       "      <td>0</td>\n",
       "      <td>0</td>\n",
       "      <td>40</td>\n",
       "      <td>United-States</td>\n",
       "      <td>&lt;=50K</td>\n",
       "    </tr>\n",
       "    <tr>\n",
       "      <th>4</th>\n",
       "      <td>28</td>\n",
       "      <td>Private</td>\n",
       "      <td>338409</td>\n",
       "      <td>Bachelors</td>\n",
       "      <td>13</td>\n",
       "      <td>Married-civ-spouse</td>\n",
       "      <td>Prof-specialty</td>\n",
       "      <td>Wife</td>\n",
       "      <td>Black</td>\n",
       "      <td>Female</td>\n",
       "      <td>0</td>\n",
       "      <td>0</td>\n",
       "      <td>40</td>\n",
       "      <td>Cuba</td>\n",
       "      <td>&lt;=50K</td>\n",
       "    </tr>\n",
       "  </tbody>\n",
       "</table>\n",
       "</div>"
      ],
      "text/plain": [
       "   0                 1       2          3   4                   5   \\\n",
       "0  39         State-gov   77516  Bachelors  13       Never-married   \n",
       "1  50  Self-emp-not-inc   83311  Bachelors  13  Married-civ-spouse   \n",
       "2  38           Private  215646    HS-grad   9            Divorced   \n",
       "3  53           Private  234721       11th   7  Married-civ-spouse   \n",
       "4  28           Private  338409  Bachelors  13  Married-civ-spouse   \n",
       "\n",
       "                  6              7      8       9     10  11  12  \\\n",
       "0       Adm-clerical  Not-in-family  White    Male  2174   0  40   \n",
       "1    Exec-managerial        Husband  White    Male     0   0  13   \n",
       "2  Handlers-cleaners  Not-in-family  White    Male     0   0  40   \n",
       "3  Handlers-cleaners        Husband  Black    Male     0   0  40   \n",
       "4     Prof-specialty           Wife  Black  Female     0   0  40   \n",
       "\n",
       "              13     14  \n",
       "0  United-States  <=50K  \n",
       "1  United-States  <=50K  \n",
       "2  United-States  <=50K  \n",
       "3  United-States  <=50K  \n",
       "4           Cuba  <=50K  "
      ]
     },
     "execution_count": 36,
     "metadata": {},
     "output_type": "execute_result"
    }
   ],
   "source": [
    "data.head()"
   ]
  },
  {
   "cell_type": "markdown",
   "metadata": {},
   "source": [
    "8. Разделите выборку на признаки и целевую переменную(колонка со зачениями {<=50K,>50K}). Замените целевую переменную на числовые значения."
   ]
  },
  {
   "cell_type": "code",
   "execution_count": 37,
   "metadata": {},
   "outputs": [
    {
     "data": {
      "text/html": [
       "<div>\n",
       "<style scoped>\n",
       "    .dataframe tbody tr th:only-of-type {\n",
       "        vertical-align: middle;\n",
       "    }\n",
       "\n",
       "    .dataframe tbody tr th {\n",
       "        vertical-align: top;\n",
       "    }\n",
       "\n",
       "    .dataframe thead th {\n",
       "        text-align: right;\n",
       "    }\n",
       "</style>\n",
       "<table border=\"1\" class=\"dataframe\">\n",
       "  <thead>\n",
       "    <tr style=\"text-align: right;\">\n",
       "      <th></th>\n",
       "      <th>0</th>\n",
       "      <th>1</th>\n",
       "      <th>2</th>\n",
       "      <th>3</th>\n",
       "      <th>4</th>\n",
       "      <th>5</th>\n",
       "      <th>6</th>\n",
       "      <th>7</th>\n",
       "      <th>8</th>\n",
       "      <th>9</th>\n",
       "      <th>10</th>\n",
       "      <th>11</th>\n",
       "      <th>12</th>\n",
       "      <th>13</th>\n",
       "    </tr>\n",
       "  </thead>\n",
       "  <tbody>\n",
       "    <tr>\n",
       "      <th>0</th>\n",
       "      <td>39</td>\n",
       "      <td>State-gov</td>\n",
       "      <td>77516</td>\n",
       "      <td>Bachelors</td>\n",
       "      <td>13</td>\n",
       "      <td>Never-married</td>\n",
       "      <td>Adm-clerical</td>\n",
       "      <td>Not-in-family</td>\n",
       "      <td>White</td>\n",
       "      <td>Male</td>\n",
       "      <td>2174</td>\n",
       "      <td>0</td>\n",
       "      <td>40</td>\n",
       "      <td>United-States</td>\n",
       "    </tr>\n",
       "    <tr>\n",
       "      <th>1</th>\n",
       "      <td>50</td>\n",
       "      <td>Self-emp-not-inc</td>\n",
       "      <td>83311</td>\n",
       "      <td>Bachelors</td>\n",
       "      <td>13</td>\n",
       "      <td>Married-civ-spouse</td>\n",
       "      <td>Exec-managerial</td>\n",
       "      <td>Husband</td>\n",
       "      <td>White</td>\n",
       "      <td>Male</td>\n",
       "      <td>0</td>\n",
       "      <td>0</td>\n",
       "      <td>13</td>\n",
       "      <td>United-States</td>\n",
       "    </tr>\n",
       "    <tr>\n",
       "      <th>2</th>\n",
       "      <td>38</td>\n",
       "      <td>Private</td>\n",
       "      <td>215646</td>\n",
       "      <td>HS-grad</td>\n",
       "      <td>9</td>\n",
       "      <td>Divorced</td>\n",
       "      <td>Handlers-cleaners</td>\n",
       "      <td>Not-in-family</td>\n",
       "      <td>White</td>\n",
       "      <td>Male</td>\n",
       "      <td>0</td>\n",
       "      <td>0</td>\n",
       "      <td>40</td>\n",
       "      <td>United-States</td>\n",
       "    </tr>\n",
       "    <tr>\n",
       "      <th>3</th>\n",
       "      <td>53</td>\n",
       "      <td>Private</td>\n",
       "      <td>234721</td>\n",
       "      <td>11th</td>\n",
       "      <td>7</td>\n",
       "      <td>Married-civ-spouse</td>\n",
       "      <td>Handlers-cleaners</td>\n",
       "      <td>Husband</td>\n",
       "      <td>Black</td>\n",
       "      <td>Male</td>\n",
       "      <td>0</td>\n",
       "      <td>0</td>\n",
       "      <td>40</td>\n",
       "      <td>United-States</td>\n",
       "    </tr>\n",
       "    <tr>\n",
       "      <th>4</th>\n",
       "      <td>28</td>\n",
       "      <td>Private</td>\n",
       "      <td>338409</td>\n",
       "      <td>Bachelors</td>\n",
       "      <td>13</td>\n",
       "      <td>Married-civ-spouse</td>\n",
       "      <td>Prof-specialty</td>\n",
       "      <td>Wife</td>\n",
       "      <td>Black</td>\n",
       "      <td>Female</td>\n",
       "      <td>0</td>\n",
       "      <td>0</td>\n",
       "      <td>40</td>\n",
       "      <td>Cuba</td>\n",
       "    </tr>\n",
       "  </tbody>\n",
       "</table>\n",
       "</div>"
      ],
      "text/plain": [
       "   0                 1       2          3   4                   5   \\\n",
       "0  39         State-gov   77516  Bachelors  13       Never-married   \n",
       "1  50  Self-emp-not-inc   83311  Bachelors  13  Married-civ-spouse   \n",
       "2  38           Private  215646    HS-grad   9            Divorced   \n",
       "3  53           Private  234721       11th   7  Married-civ-spouse   \n",
       "4  28           Private  338409  Bachelors  13  Married-civ-spouse   \n",
       "\n",
       "                  6              7      8       9     10  11  12  \\\n",
       "0       Adm-clerical  Not-in-family  White    Male  2174   0  40   \n",
       "1    Exec-managerial        Husband  White    Male     0   0  13   \n",
       "2  Handlers-cleaners  Not-in-family  White    Male     0   0  40   \n",
       "3  Handlers-cleaners        Husband  Black    Male     0   0  40   \n",
       "4     Prof-specialty           Wife  Black  Female     0   0  40   \n",
       "\n",
       "              13  \n",
       "0  United-States  \n",
       "1  United-States  \n",
       "2  United-States  \n",
       "3  United-States  \n",
       "4           Cuba  "
      ]
     },
     "execution_count": 37,
     "metadata": {},
     "output_type": "execute_result"
    }
   ],
   "source": [
    "X = data.loc[:,0:13]\n",
    "X.head()"
   ]
  },
  {
   "cell_type": "code",
   "execution_count": 38,
   "metadata": {},
   "outputs": [
    {
     "data": {
      "text/plain": [
       "array(['<=50K', '>50K'], dtype=object)"
      ]
     },
     "execution_count": 38,
     "metadata": {},
     "output_type": "execute_result"
    }
   ],
   "source": [
    "y = data.loc[:,14]\n",
    "y.unique()"
   ]
  },
  {
   "cell_type": "code",
   "execution_count": 39,
   "metadata": {},
   "outputs": [
    {
     "data": {
      "text/plain": [
       "0        1\n",
       "1        1\n",
       "2        1\n",
       "3        1\n",
       "4        1\n",
       "        ..\n",
       "48837    1\n",
       "48838    1\n",
       "48839    1\n",
       "48840    1\n",
       "48841    2\n",
       "Name: 14, Length: 48842, dtype: int64"
      ]
     },
     "execution_count": 39,
     "metadata": {},
     "output_type": "execute_result"
    }
   ],
   "source": [
    "i = 1\n",
    "for a in y.unique():\n",
    "    y = y.replace({a:i})\n",
    "    i += 1\n",
    "\n",
    "#y = y.replace({'<=50K':0, '>50K':1})\n",
    "y"
   ]
  },
  {
   "cell_type": "markdown",
   "metadata": {},
   "source": [
    "9. Выясните, присутствуют ли в данных пропуски. Заполните их самыми частыми значениями (испольуйте SimpleImputer)"
   ]
  },
  {
   "cell_type": "code",
   "execution_count": 40,
   "metadata": {},
   "outputs": [
    {
     "name": "stdout",
     "output_type": "stream",
     "text": [
      "<class 'pandas.core.frame.DataFrame'>\n",
      "RangeIndex: 48842 entries, 0 to 48841\n",
      "Data columns (total 14 columns):\n",
      " #   Column  Non-Null Count  Dtype \n",
      "---  ------  --------------  ----- \n",
      " 0   0       48842 non-null  int64 \n",
      " 1   1       48842 non-null  object\n",
      " 2   2       48842 non-null  int64 \n",
      " 3   3       48842 non-null  object\n",
      " 4   4       48842 non-null  int64 \n",
      " 5   5       48842 non-null  object\n",
      " 6   6       48842 non-null  object\n",
      " 7   7       48842 non-null  object\n",
      " 8   8       48842 non-null  object\n",
      " 9   9       48842 non-null  object\n",
      " 10  10      48842 non-null  int64 \n",
      " 11  11      48842 non-null  int64 \n",
      " 12  12      48842 non-null  int64 \n",
      " 13  13      48842 non-null  object\n",
      "dtypes: int64(6), object(8)\n",
      "memory usage: 5.2+ MB\n"
     ]
    }
   ],
   "source": [
    "X.info()"
   ]
  },
  {
   "cell_type": "code",
   "execution_count": 41,
   "metadata": {},
   "outputs": [
    {
     "data": {
      "text/plain": [
       "0     0\n",
       "1     0\n",
       "2     0\n",
       "3     0\n",
       "4     0\n",
       "5     0\n",
       "6     0\n",
       "7     0\n",
       "8     0\n",
       "9     0\n",
       "10    0\n",
       "11    0\n",
       "12    0\n",
       "13    0\n",
       "dtype: int64"
      ]
     },
     "execution_count": 41,
     "metadata": {},
     "output_type": "execute_result"
    }
   ],
   "source": [
    "X.isnull().sum()"
   ]
  },
  {
   "cell_type": "markdown",
   "metadata": {},
   "source": [
    "Таким образом пропущеных значений нет. Посмотрим на данные, которыми заполнен X"
   ]
  },
  {
   "cell_type": "code",
   "execution_count": 42,
   "metadata": {},
   "outputs": [
    {
     "name": "stdout",
     "output_type": "stream",
     "text": [
      "[39 50 38 53 28 37 49 52 31 42 30 23 32 40 34 25 43 54 35 59 56 19 20 45\n",
      " 22 48 21 24 57 44 41 29 18 47 46 36 79 27 67 33 76 17 55 61 70 64 71 68\n",
      " 66 51 58 26 60 90 75 65 77 62 63 80 72 74 69 73 81 78 88 82 83 84 85 86\n",
      " 87 89]\n",
      "['State-gov' 'Self-emp-not-inc' 'Private' 'Federal-gov' 'Local-gov' '?'\n",
      " 'Self-emp-inc' 'Without-pay' 'Never-worked']\n",
      "[ 77516  83311 215646 ... 173449  89686 350977]\n",
      "['Bachelors' 'HS-grad' '11th' 'Masters' '9th' 'Some-college' 'Assoc-acdm'\n",
      " 'Assoc-voc' '7th-8th' 'Doctorate' 'Prof-school' '5th-6th' '10th'\n",
      " '1st-4th' 'Preschool' '12th']\n",
      "[13  9  7 14  5 10 12 11  4 16 15  3  6  2  1  8]\n",
      "['Never-married' 'Married-civ-spouse' 'Divorced' 'Married-spouse-absent'\n",
      " 'Separated' 'Married-AF-spouse' 'Widowed']\n",
      "['Adm-clerical' 'Exec-managerial' 'Handlers-cleaners' 'Prof-specialty'\n",
      " 'Other-service' 'Sales' 'Craft-repair' 'Transport-moving'\n",
      " 'Farming-fishing' 'Machine-op-inspct' 'Tech-support' '?'\n",
      " 'Protective-serv' 'Armed-Forces' 'Priv-house-serv']\n",
      "['Not-in-family' 'Husband' 'Wife' 'Own-child' 'Unmarried' 'Other-relative']\n",
      "['White' 'Black' 'Asian-Pac-Islander' 'Amer-Indian-Eskimo' 'Other']\n",
      "['Male' 'Female']\n",
      "[ 2174     0 14084  5178  5013  2407 14344 15024  7688 34095  4064  4386\n",
      "  7298  1409  3674  1055  3464  2050  2176   594 20051  6849  4101  1111\n",
      "  8614  3411  2597 25236  4650  9386  2463  3103 10605  2964  3325  2580\n",
      "  3471  4865 99999  6514  1471  2329  2105  2885 25124 10520  2202  2961\n",
      " 27828  6767  2228  1506 13550  2635  5556  4787  3781  3137  3818  3942\n",
      "   914   401  2829  2977  4934  2062  2354  5455 15020  1424  3273 22040\n",
      "  4416  3908 10566   991  4931  1086  7430  6497   114  7896  2346  3418\n",
      "  3432  2907  1151  2414  2290 15831 41310  4508  2538  3456  6418  1848\n",
      "  3887  5721  9562  1455  2036  1831 11678  2936  2993  7443  6360  1797\n",
      "  1173  4687  6723  2009  6097  2653  1639 18481  7978  2387  5060  1264\n",
      "  7262  1731  6612]\n",
      "[   0 2042 1408 1902 1573 1887 1719 1762 1564 2179 1816 1980 1977 1876\n",
      " 1340 2206 1741 1485 2339 2415 1380 1721 2051 2377 1669 2352 1672  653\n",
      " 2392 1504 2001 1590 1651 1628 1848 1740 2002 1579 2258 1602  419 2547\n",
      " 2174 2205 1726 2444 1138 2238  625  213 1539  880 1668 1092 1594 3004\n",
      " 2231 1844  810 2824 2559 2057 1974  974 2149 1825 1735 1258 2129 2603\n",
      " 2282  323 4356 2246 1617 1648 2489 3770 1755 3683 2267 2080 2457  155\n",
      " 3900 2201 1944 2467 2163 2754 2472 1411 1429 3175 1510 1870 1911 2465\n",
      " 1421]\n",
      "[40 13 16 45 50 80 30 35 60 20 52 44 15 25 38 43 55 48 58 32 70  2 22 56\n",
      " 41 28 36 24 46 42 12 65  1 10 34 75 98 33 54  8  6 64 19 18 72  5  9 47\n",
      " 37 21 26 14  4 59  7 99 53 39 62 57 78 90 66 11 49 84  3 17 68 27 85 31\n",
      " 51 77 63 23 87 88 73 89 97 94 29 96 67 82 86 91 81 76 92 61 74 95 79 69]\n",
      "['United-States' 'Cuba' 'Jamaica' 'India' '?' 'Mexico' 'South'\n",
      " 'Puerto-Rico' 'Honduras' 'England' 'Canada' 'Germany' 'Iran'\n",
      " 'Philippines' 'Italy' 'Poland' 'Columbia' 'Cambodia' 'Thailand' 'Ecuador'\n",
      " 'Laos' 'Taiwan' 'Haiti' 'Portugal' 'Dominican-Republic' 'El-Salvador'\n",
      " 'France' 'Guatemala' 'China' 'Japan' 'Yugoslavia' 'Peru'\n",
      " 'Outlying-US(Guam-USVI-etc)' 'Scotland' 'Trinadad&Tobago' 'Greece'\n",
      " 'Nicaragua' 'Vietnam' 'Hong' 'Ireland' 'Hungary' 'Holand-Netherlands']\n"
     ]
    }
   ],
   "source": [
    "for i in X.columns:\n",
    "    print(X[i].unique())"
   ]
  },
  {
   "cell_type": "markdown",
   "metadata": {},
   "source": [
    "Можно заметить в некоторых столбцах значения '?', которые скорее всего и есть пропущенные значения."
   ]
  },
  {
   "cell_type": "code",
   "execution_count": 43,
   "metadata": {},
   "outputs": [
    {
     "data": {
      "text/plain": [
       "array([[<AxesSubplot:title={'center':'0'}>,\n",
       "        <AxesSubplot:title={'center':'2'}>],\n",
       "       [<AxesSubplot:title={'center':'4'}>,\n",
       "        <AxesSubplot:title={'center':'10'}>],\n",
       "       [<AxesSubplot:title={'center':'11'}>,\n",
       "        <AxesSubplot:title={'center':'12'}>]], dtype=object)"
      ]
     },
     "execution_count": 43,
     "metadata": {},
     "output_type": "execute_result"
    },
    {
     "data": {
      "image/png": "[encoded data removed]",
      "text/plain": [
       "<Figure size 432x288 with 6 Axes>"
      ]
     },
     "metadata": {
      "needs_background": "light"
     },
     "output_type": "display_data"
    }
   ],
   "source": [
    "X.hist()"
   ]
  },
  {
   "cell_type": "code",
   "execution_count": 44,
   "metadata": {},
   "outputs": [
    {
     "data": {
      "image/png": "[encoded data removed]",
      "text/plain": [
       "<Figure size 1440x720 with 16 Axes>"
      ]
     },
     "metadata": {
      "needs_background": "light"
     },
     "output_type": "display_data"
    },
    {
     "name": "stdout",
     "output_type": "stream",
     "text": [
      "CPU times: user 36.7 s, sys: 459 ms, total: 37.2 s\n",
      "Wall time: 37.2 s\n"
     ]
    }
   ],
   "source": [
    "%%time\n",
    "import matplotlib.pyplot as plt\n",
    "import matplotlib.ticker as ticker\n",
    "import math\n",
    "\n",
    "n = 4\n",
    "figure, axis = plt.subplots(math.ceil(X.columns.size/n), n)\n",
    "figure.set_size_inches(20, 10)\n",
    "figure.tight_layout (h_pad= 6)\n",
    "\n",
    "i = 0\n",
    "for a in X.columns:\n",
    "    axis[i//n, i%n].bar(X[a].value_counts().index,X[a].value_counts().values)\n",
    "    axis[i//n, i%n].set_title(a)\n",
    "    axis[i//n, i%n].tick_params(axis = 'x', labelrotation = 45)\n",
    "    i += 1\n",
    "plt.show()\n"
   ]
  },
  {
   "cell_type": "markdown",
   "metadata": {},
   "source": [
    "Заменим значения '?' в столбцах на наиболее частые значения"
   ]
  },
  {
   "cell_type": "code",
   "execution_count": 45,
   "metadata": {},
   "outputs": [
    {
     "data": {
      "text/plain": [
       "array(['State-gov', 'Self-emp-not-inc', 'Private', 'Federal-gov',\n",
       "       'Local-gov', '?', 'Self-emp-inc', 'Without-pay', 'Never-worked'],\n",
       "      dtype=object)"
      ]
     },
     "execution_count": 45,
     "metadata": {},
     "output_type": "execute_result"
    }
   ],
   "source": [
    "X[1].unique()"
   ]
  },
  {
   "cell_type": "code",
   "execution_count": 46,
   "metadata": {},
   "outputs": [
    {
     "data": {
      "text/plain": [
       "array(['State-gov', 'Self-emp-not-inc', 'Private', 'Federal-gov',\n",
       "       'Local-gov', 'Self-emp-inc', 'Without-pay', 'Never-worked'],\n",
       "      dtype=object)"
      ]
     },
     "execution_count": 46,
     "metadata": {},
     "output_type": "execute_result"
    }
   ],
   "source": [
    "imp = SimpleImputer(missing_values='?', strategy=\"most_frequent\")\n",
    "XX = pd.DataFrame(imp.fit_transform(X))\n",
    "XX[1].unique()"
   ]
  },
  {
   "cell_type": "markdown",
   "metadata": {},
   "source": [
    "10. Выберите колонки с числовыми и категориальными переменными."
   ]
  },
  {
   "cell_type": "code",
   "execution_count": 47,
   "metadata": {},
   "outputs": [
    {
     "data": {
      "text/plain": [
       "0      int64\n",
       "1     object\n",
       "2      int64\n",
       "3     object\n",
       "4      int64\n",
       "5     object\n",
       "6     object\n",
       "7     object\n",
       "8     object\n",
       "9     object\n",
       "10     int64\n",
       "11     int64\n",
       "12     int64\n",
       "13    object\n",
       "dtype: object"
      ]
     },
     "execution_count": 47,
     "metadata": {},
     "output_type": "execute_result"
    }
   ],
   "source": [
    "XX = XX.astype(X.dtypes)\n",
    "XX.dtypes"
   ]
  },
  {
   "cell_type": "code",
   "execution_count": 48,
   "metadata": {},
   "outputs": [
    {
     "data": {
      "text/html": [
       "<div>\n",
       "<style scoped>\n",
       "    .dataframe tbody tr th:only-of-type {\n",
       "        vertical-align: middle;\n",
       "    }\n",
       "\n",
       "    .dataframe tbody tr th {\n",
       "        vertical-align: top;\n",
       "    }\n",
       "\n",
       "    .dataframe thead th {\n",
       "        text-align: right;\n",
       "    }\n",
       "</style>\n",
       "<table border=\"1\" class=\"dataframe\">\n",
       "  <thead>\n",
       "    <tr style=\"text-align: right;\">\n",
       "      <th></th>\n",
       "      <th>0</th>\n",
       "      <th>2</th>\n",
       "      <th>4</th>\n",
       "      <th>10</th>\n",
       "      <th>11</th>\n",
       "      <th>12</th>\n",
       "    </tr>\n",
       "  </thead>\n",
       "  <tbody>\n",
       "    <tr>\n",
       "      <th>0</th>\n",
       "      <td>39</td>\n",
       "      <td>77516</td>\n",
       "      <td>13</td>\n",
       "      <td>2174</td>\n",
       "      <td>0</td>\n",
       "      <td>40</td>\n",
       "    </tr>\n",
       "    <tr>\n",
       "      <th>1</th>\n",
       "      <td>50</td>\n",
       "      <td>83311</td>\n",
       "      <td>13</td>\n",
       "      <td>0</td>\n",
       "      <td>0</td>\n",
       "      <td>13</td>\n",
       "    </tr>\n",
       "    <tr>\n",
       "      <th>2</th>\n",
       "      <td>38</td>\n",
       "      <td>215646</td>\n",
       "      <td>9</td>\n",
       "      <td>0</td>\n",
       "      <td>0</td>\n",
       "      <td>40</td>\n",
       "    </tr>\n",
       "    <tr>\n",
       "      <th>3</th>\n",
       "      <td>53</td>\n",
       "      <td>234721</td>\n",
       "      <td>7</td>\n",
       "      <td>0</td>\n",
       "      <td>0</td>\n",
       "      <td>40</td>\n",
       "    </tr>\n",
       "    <tr>\n",
       "      <th>4</th>\n",
       "      <td>28</td>\n",
       "      <td>338409</td>\n",
       "      <td>13</td>\n",
       "      <td>0</td>\n",
       "      <td>0</td>\n",
       "      <td>40</td>\n",
       "    </tr>\n",
       "  </tbody>\n",
       "</table>\n",
       "</div>"
      ],
      "text/plain": [
       "   0       2   4     10  11  12\n",
       "0  39   77516  13  2174   0  40\n",
       "1  50   83311  13     0   0  13\n",
       "2  38  215646   9     0   0  40\n",
       "3  53  234721   7     0   0  40\n",
       "4  28  338409  13     0   0  40"
      ]
     },
     "execution_count": 48,
     "metadata": {},
     "output_type": "execute_result"
    }
   ],
   "source": [
    "numeric_cols = X.dtypes[X.dtypes == 'int64'].index\n",
    "X[numeric_cols].head()"
   ]
  },
  {
   "cell_type": "code",
   "execution_count": 49,
   "metadata": {},
   "outputs": [
    {
     "data": {
      "text/html": [
       "<div>\n",
       "<style scoped>\n",
       "    .dataframe tbody tr th:only-of-type {\n",
       "        vertical-align: middle;\n",
       "    }\n",
       "\n",
       "    .dataframe tbody tr th {\n",
       "        vertical-align: top;\n",
       "    }\n",
       "\n",
       "    .dataframe thead th {\n",
       "        text-align: right;\n",
       "    }\n",
       "</style>\n",
       "<table border=\"1\" class=\"dataframe\">\n",
       "  <thead>\n",
       "    <tr style=\"text-align: right;\">\n",
       "      <th></th>\n",
       "      <th>1</th>\n",
       "      <th>3</th>\n",
       "      <th>5</th>\n",
       "      <th>6</th>\n",
       "      <th>7</th>\n",
       "      <th>8</th>\n",
       "      <th>9</th>\n",
       "      <th>13</th>\n",
       "    </tr>\n",
       "  </thead>\n",
       "  <tbody>\n",
       "    <tr>\n",
       "      <th>0</th>\n",
       "      <td>State-gov</td>\n",
       "      <td>Bachelors</td>\n",
       "      <td>Never-married</td>\n",
       "      <td>Adm-clerical</td>\n",
       "      <td>Not-in-family</td>\n",
       "      <td>White</td>\n",
       "      <td>Male</td>\n",
       "      <td>United-States</td>\n",
       "    </tr>\n",
       "    <tr>\n",
       "      <th>1</th>\n",
       "      <td>Self-emp-not-inc</td>\n",
       "      <td>Bachelors</td>\n",
       "      <td>Married-civ-spouse</td>\n",
       "      <td>Exec-managerial</td>\n",
       "      <td>Husband</td>\n",
       "      <td>White</td>\n",
       "      <td>Male</td>\n",
       "      <td>United-States</td>\n",
       "    </tr>\n",
       "    <tr>\n",
       "      <th>2</th>\n",
       "      <td>Private</td>\n",
       "      <td>HS-grad</td>\n",
       "      <td>Divorced</td>\n",
       "      <td>Handlers-cleaners</td>\n",
       "      <td>Not-in-family</td>\n",
       "      <td>White</td>\n",
       "      <td>Male</td>\n",
       "      <td>United-States</td>\n",
       "    </tr>\n",
       "    <tr>\n",
       "      <th>3</th>\n",
       "      <td>Private</td>\n",
       "      <td>11th</td>\n",
       "      <td>Married-civ-spouse</td>\n",
       "      <td>Handlers-cleaners</td>\n",
       "      <td>Husband</td>\n",
       "      <td>Black</td>\n",
       "      <td>Male</td>\n",
       "      <td>United-States</td>\n",
       "    </tr>\n",
       "    <tr>\n",
       "      <th>4</th>\n",
       "      <td>Private</td>\n",
       "      <td>Bachelors</td>\n",
       "      <td>Married-civ-spouse</td>\n",
       "      <td>Prof-specialty</td>\n",
       "      <td>Wife</td>\n",
       "      <td>Black</td>\n",
       "      <td>Female</td>\n",
       "      <td>Cuba</td>\n",
       "    </tr>\n",
       "  </tbody>\n",
       "</table>\n",
       "</div>"
      ],
      "text/plain": [
       "                 1          3                   5                  6   \\\n",
       "0         State-gov  Bachelors       Never-married       Adm-clerical   \n",
       "1  Self-emp-not-inc  Bachelors  Married-civ-spouse    Exec-managerial   \n",
       "2           Private    HS-grad            Divorced  Handlers-cleaners   \n",
       "3           Private       11th  Married-civ-spouse  Handlers-cleaners   \n",
       "4           Private  Bachelors  Married-civ-spouse     Prof-specialty   \n",
       "\n",
       "              7      8       9              13  \n",
       "0  Not-in-family  White    Male  United-States  \n",
       "1        Husband  White    Male  United-States  \n",
       "2  Not-in-family  White    Male  United-States  \n",
       "3        Husband  Black    Male  United-States  \n",
       "4           Wife  Black  Female           Cuba  "
      ]
     },
     "execution_count": 49,
     "metadata": {},
     "output_type": "execute_result"
    }
   ],
   "source": [
    "categorial_cols = X.dtypes[X.dtypes != 'int64'].index\n",
    "X[categorial_cols].head()"
   ]
  },
  {
   "cell_type": "markdown",
   "metadata": {},
   "source": [
    "11. Создайте пайплайн по обработке колонок(используйте OneHotEncoder,MinMaxScaler)."
   ]
  },
  {
   "cell_type": "code",
   "execution_count": 50,
   "metadata": {},
   "outputs": [
    {
     "data": {
      "text/plain": [
       "((39073, 14), (9769, 14), (39073,), (9769,))"
      ]
     },
     "execution_count": 50,
     "metadata": {},
     "output_type": "execute_result"
    }
   ],
   "source": [
    "X_train, X_test, y_train, y_test = train_test_split(X, y, test_size=0.2, random_state=RANDOM_STATE)\n",
    "X_train.shape, X_test.shape, y_train.shape, y_test.shape"
   ]
  },
  {
   "cell_type": "code",
   "execution_count": 134,
   "metadata": {},
   "outputs": [],
   "source": [
    "numeric_preprocessor = Pipeline(\n",
    "    steps=[\n",
    "        (\"scaler\", MinMaxScaler()),\n",
    "    ]\n",
    ")\n",
    "\n",
    "categorical_preprocessor = Pipeline(\n",
    "    steps=[\n",
    "        (\"imputation_most_frequent\", SimpleImputer(missing_values='?', strategy=\"most_frequent\")),\n",
    "        (\"onehot\", OneHotEncoder(handle_unknown=\"ignore\"))\n",
    "    ]\n",
    ")\n",
    "\n",
    "preprocessor = ColumnTransformer(\n",
    "    [\n",
    "        (\"categorical\", categorical_preprocessor, categorial_cols),\n",
    "        (\"numerical\", numeric_preprocessor, numeric_cols),\n",
    "    ]\n",
    ")\n",
    "\n",
    "pipe = make_pipeline(preprocessor, LogisticRegression(random_state=RANDOM_STATE, max_iter=1000))"
   ]
  },
  {
   "cell_type": "code",
   "execution_count": 135,
   "metadata": {},
   "outputs": [
    {
     "data": {
      "text/plain": [
       "Pipeline(steps=[('columntransformer',\n",
       "                 ColumnTransformer(transformers=[('categorical',\n",
       "                                                  Pipeline(steps=[('imputation_most_frequent',\n",
       "                                                                   SimpleImputer(missing_values='?',\n",
       "                                                                                 strategy='most_frequent')),\n",
       "                                                                  ('onehot',\n",
       "                                                                   OneHotEncoder(handle_unknown='ignore'))]),\n",
       "                                                  Int64Index([1, 3, 5, 6, 7, 8, 9, 13], dtype='int64')),\n",
       "                                                 ('numerical',\n",
       "                                                  Pipeline(steps=[('scaler',\n",
       "                                                                   MinMaxScaler())]),\n",
       "                                                  Int64Index([0, 2, 4, 10, 11, 12], dtype='int64'))])),\n",
       "                ('logisticregression',\n",
       "                 LogisticRegression(max_iter=1000, random_state=42))])"
      ]
     },
     "execution_count": 135,
     "metadata": {},
     "output_type": "execute_result"
    }
   ],
   "source": [
    "pipe.fit(X_train,y_train)"
   ]
  },
  {
   "cell_type": "code",
   "execution_count": 136,
   "metadata": {},
   "outputs": [],
   "source": [
    "y_pred = pipe.predict(X_test)"
   ]
  },
  {
   "cell_type": "code",
   "execution_count": 137,
   "metadata": {},
   "outputs": [
    {
     "data": {
      "text/plain": [
       "array([1, 1, 1, ..., 1, 1, 1])"
      ]
     },
     "execution_count": 137,
     "metadata": {},
     "output_type": "execute_result"
    }
   ],
   "source": [
    "y_pred"
   ]
  },
  {
   "cell_type": "markdown",
   "metadata": {},
   "source": [
    "12. Посчитайте метрики accuracy и f1_score на предсказании только самого частого класса в целевой переменной."
   ]
  },
  {
   "cell_type": "code",
   "execution_count": 55,
   "metadata": {},
   "outputs": [],
   "source": [
    "dummy_clf = DummyClassifier(strategy=\"most_frequent\")\n",
    "dummy_clf.fit(X_train, y_train)\n",
    "y_pred_dummy = dummy_clf.predict(X_test)"
   ]
  },
  {
   "cell_type": "code",
   "execution_count": 56,
   "metadata": {},
   "outputs": [
    {
     "name": "stdout",
     "output_type": "stream",
     "text": [
      "0.7589313133381104\n",
      "0.8629459349356923\n"
     ]
    }
   ],
   "source": [
    "accuracy = accuracy_score(y_test, y_pred_dummy)\n",
    "f1 = f1_score(y_test, y_pred_dummy)\n",
    "print(accuracy)\n",
    "print(f1)"
   ]
  },
  {
   "cell_type": "markdown",
   "metadata": {},
   "source": [
    "13. Посчитайте cross_val_score по алгоритмам LogisticRegression, SVC, LinearSVC по метрикам accuracy и f1_score.\n",
    "Напишите удалось ли превзойти предыдущий результат."
   ]
  },
  {
   "cell_type": "code",
   "execution_count": 57,
   "metadata": {},
   "outputs": [],
   "source": [
    "numeric_preprocessor = Pipeline(\n",
    "    steps=[\n",
    "        (\"scaler\", MinMaxScaler()),\n",
    "    ]\n",
    ")\n",
    "\n",
    "categorical_preprocessor = Pipeline(\n",
    "    steps=[\n",
    "        #(\"imputation_most_frequent\", SimpleImputer(missing_values='?', strategy=\"most_frequent\")),\n",
    "        (\"onehot\", OneHotEncoder(handle_unknown=\"ignore\"))\n",
    "    ]\n",
    ")\n",
    "\n",
    "preprocessor = ColumnTransformer(\n",
    "    [\n",
    "        (\"categorical\", categorical_preprocessor, categorial_cols),\n",
    "        (\"numerical\", numeric_preprocessor, numeric_cols),\n",
    "    ]\n",
    ")\n",
    "\n",
    "pipeLR = make_pipeline(preprocessor, LogisticRegression(random_state=RANDOM_STATE, max_iter=1000))\n",
    "pipeSVC = make_pipeline(preprocessor, SVC())\n",
    "pipeLSVC = make_pipeline(preprocessor, LinearSVC(random_state=RANDOM_STATE))\n",
    "\n",
    "\n",
    "#for pipe in [pipeLR, pipeSVC, pipeLSVC]:\n",
    "#    scores_ac = cross_val_score(pipe, X, y, cv=5, scoring='accuracy')\n",
    "#    scores_f1 = cross_val_score(pipe, X, y, cv=5, scoring='f1')\n",
    "#    print(pipe)\n",
    "#    print('accuracy: ', scores_ac)\n",
    "#    print('f1: ', scores_f1)\n"
   ]
  },
  {
   "cell_type": "code",
   "execution_count": 58,
   "metadata": {},
   "outputs": [
    {
     "name": "stdout",
     "output_type": "stream",
     "text": [
      "Pipeline(steps=[('columntransformer',\n",
      "                 ColumnTransformer(transformers=[('categorical',\n",
      "                                                  Pipeline(steps=[('onehot',\n",
      "                                                                   OneHotEncoder(handle_unknown='ignore'))]),\n",
      "                                                  Int64Index([1, 3, 5, 6, 7, 8, 9, 13], dtype='int64')),\n",
      "                                                 ('numerical',\n",
      "                                                  Pipeline(steps=[('scaler',\n",
      "                                                                   MinMaxScaler())]),\n",
      "                                                  Int64Index([0, 2, 4, 10, 11, 12], dtype='int64'))])),\n",
      "                ('logisticregression',\n",
      "                 LogisticRegression(max_iter=1000, random_state=42))])\n",
      "accuracy:  [0.84850036 0.84829563 0.85636773 0.85135135 0.8495086 ]\n",
      "f1:  [0.90331853 0.90306122 0.90856957 0.90498626 0.90392157]\n",
      "CPU times: user 7.97 s, sys: 167 ms, total: 8.14 s\n",
      "Wall time: 8.21 s\n"
     ]
    }
   ],
   "source": [
    "%%time\n",
    "pipe = pipeLR\n",
    "scores_ac = cross_val_score(pipe, X, y, cv=5, scoring='accuracy')\n",
    "scores_f1 = cross_val_score(pipe, X, y, cv=5, scoring='f1')\n",
    "print(pipe)\n",
    "print('accuracy: ', scores_ac)\n",
    "print('f1: ', scores_f1)"
   ]
  },
  {
   "cell_type": "code",
   "execution_count": 59,
   "metadata": {},
   "outputs": [
    {
     "name": "stdout",
     "output_type": "stream",
     "text": [
      "Pipeline(steps=[('columntransformer',\n",
      "                 ColumnTransformer(transformers=[('categorical',\n",
      "                                                  Pipeline(steps=[('onehot',\n",
      "                                                                   OneHotEncoder(handle_unknown='ignore'))]),\n",
      "                                                  Int64Index([1, 3, 5, 6, 7, 8, 9, 13], dtype='int64')),\n",
      "                                                 ('numerical',\n",
      "                                                  Pipeline(steps=[('scaler',\n",
      "                                                                   MinMaxScaler())]),\n",
      "                                                  Int64Index([0, 2, 4, 10, 11, 12], dtype='int64'))])),\n",
      "                ('svc', SVC())])\n",
      "accuracy:  [0.8362166  0.8362166  0.84490172 0.83855446 0.84398034]\n",
      "f1:  [0.89656064 0.89579263 0.90202419 0.89778988 0.90101325]\n",
      "CPU times: user 9min 20s, sys: 4.82 s, total: 9min 25s\n",
      "Wall time: 9min 31s\n"
     ]
    }
   ],
   "source": [
    "%%time\n",
    "pipe = pipeSVC\n",
    "scores_ac = cross_val_score(pipe, X, y, cv=5, scoring='accuracy')\n",
    "scores_f1 = cross_val_score(pipe, X, y, cv=5, scoring='f1')\n",
    "print(pipe)\n",
    "print('accuracy: ', scores_ac)\n",
    "print('f1: ', scores_f1)"
   ]
  },
  {
   "cell_type": "code",
   "execution_count": 60,
   "metadata": {},
   "outputs": [
    {
     "name": "stdout",
     "output_type": "stream",
     "text": [
      "Pipeline(steps=[('columntransformer',\n",
      "                 ColumnTransformer(transformers=[('categorical',\n",
      "                                                  Pipeline(steps=[('onehot',\n",
      "                                                                   OneHotEncoder(handle_unknown='ignore'))]),\n",
      "                                                  Int64Index([1, 3, 5, 6, 7, 8, 9, 13], dtype='int64')),\n",
      "                                                 ('numerical',\n",
      "                                                  Pipeline(steps=[('scaler',\n",
      "                                                                   MinMaxScaler())]),\n",
      "                                                  Int64Index([0, 2, 4, 10, 11, 12], dtype='int64'))])),\n",
      "                ('linearsvc', LinearSVC(random_state=42))])\n",
      "accuracy:  [0.85065002 0.85167366 0.85728911 0.85176085 0.8531941 ]\n",
      "f1:  [0.90496971 0.90534979 0.90936281 0.90553236 0.90639687]\n",
      "CPU times: user 10.4 s, sys: 198 ms, total: 10.6 s\n",
      "Wall time: 10.6 s\n"
     ]
    }
   ],
   "source": [
    "%%time\n",
    "pipe = pipeLSVC\n",
    "scores_ac = cross_val_score(pipe, X, y, cv=5, scoring='accuracy')\n",
    "scores_f1 = cross_val_score(pipe, X, y, cv=5, scoring='f1')\n",
    "print(pipe)\n",
    "print('accuracy: ', scores_ac)\n",
    "print('f1: ', scores_f1)"
   ]
  },
  {
   "cell_type": "markdown",
   "metadata": {},
   "source": [
    "**Удалось улучшить результат**"
   ]
  },
  {
   "cell_type": "markdown",
   "metadata": {},
   "source": [
    "14. Можно заметить что в данных присутствуют значения '?', замените их самыми частыми значениями (испольуйте SimpleImputer)"
   ]
  },
  {
   "cell_type": "code",
   "execution_count": 61,
   "metadata": {},
   "outputs": [],
   "source": [
    "numeric_preprocessor = Pipeline(\n",
    "    steps=[\n",
    "        (\"scaler\", MinMaxScaler()),\n",
    "    ]\n",
    ")\n",
    "\n",
    "categorical_preprocessor = Pipeline(\n",
    "    steps=[\n",
    "        (\"imputation_most_frequent\", SimpleImputer(missing_values='?', strategy=\"most_frequent\")),\n",
    "        (\"onehot\", OneHotEncoder(handle_unknown=\"ignore\"))\n",
    "    ]\n",
    ")\n",
    "\n",
    "preprocessor = ColumnTransformer(\n",
    "    [\n",
    "        (\"categorical\", categorical_preprocessor, categorial_cols),\n",
    "        (\"numerical\", numeric_preprocessor, numeric_cols),\n",
    "    ]\n",
    ")\n",
    "\n",
    "pipeLR = make_pipeline(preprocessor, LogisticRegression(random_state=RANDOM_STATE, max_iter=1000))\n",
    "pipeSVC = make_pipeline(preprocessor, SVC())\n",
    "pipeLSVC = make_pipeline(preprocessor, LinearSVC(random_state=RANDOM_STATE))"
   ]
  },
  {
   "cell_type": "markdown",
   "metadata": {},
   "source": [
    "15. Посчитайте cross_val_score на новых данных. Напишите удалось ли улучшить результат."
   ]
  },
  {
   "cell_type": "code",
   "execution_count": 62,
   "metadata": {},
   "outputs": [
    {
     "name": "stdout",
     "output_type": "stream",
     "text": [
      "Pipeline(steps=[('columntransformer',\n",
      "                 ColumnTransformer(transformers=[('categorical',\n",
      "                                                  Pipeline(steps=[('imputation_most_frequent',\n",
      "                                                                   SimpleImputer(missing_values='?',\n",
      "                                                                                 strategy='most_frequent')),\n",
      "                                                                  ('onehot',\n",
      "                                                                   OneHotEncoder(handle_unknown='ignore'))]),\n",
      "                                                  Int64Index([1, 3, 5, 6, 7, 8, 9, 13], dtype='int64')),\n",
      "                                                 ('numerical',\n",
      "                                                  Pipeline(steps=[('scaler',\n",
      "                                                                   MinMaxScaler())]),\n",
      "                                                  Int64Index([0, 2, 4, 10, 11, 12], dtype='int64'))])),\n",
      "                ('logisticregression',\n",
      "                 LogisticRegression(max_iter=1000, random_state=42))])\n",
      "accuracy:  [0.84829563 0.84901218 0.85606061 0.85165848 0.84858722]\n",
      "f1:  [0.90341502 0.90358847 0.90828441 0.90522598 0.90344062]\n",
      "CPU times: user 8.49 s, sys: 177 ms, total: 8.67 s\n",
      "Wall time: 8.69 s\n"
     ]
    }
   ],
   "source": [
    "%%time\n",
    "pipe = pipeLR\n",
    "scores_ac = cross_val_score(pipe, X, y, cv=5, scoring='accuracy')\n",
    "scores_f1 = cross_val_score(pipe, X, y, cv=5, scoring='f1')\n",
    "print(pipe)\n",
    "print('accuracy: ', scores_ac)\n",
    "print('f1: ', scores_f1)"
   ]
  },
  {
   "cell_type": "code",
   "execution_count": 63,
   "metadata": {},
   "outputs": [
    {
     "name": "stdout",
     "output_type": "stream",
     "text": [
      "Pipeline(steps=[('columntransformer',\n",
      "                 ColumnTransformer(transformers=[('categorical',\n",
      "                                                  Pipeline(steps=[('imputation_most_frequent',\n",
      "                                                                   SimpleImputer(missing_values='?',\n",
      "                                                                                 strategy='most_frequent')),\n",
      "                                                                  ('onehot',\n",
      "                                                                   OneHotEncoder(handle_unknown='ignore'))]),\n",
      "                                                  Int64Index([1, 3, 5, 6, 7, 8, 9, 13], dtype='int64')),\n",
      "                                                 ('numerical',\n",
      "                                                  Pipeline(steps=[('scaler',\n",
      "                                                                   MinMaxScaler())]),\n",
      "                                                  Int64Index([0, 2, 4, 10, 11, 12], dtype='int64'))])),\n",
      "                ('svc', SVC())])\n",
      "accuracy:  [0.8382639  0.83539769 0.84285422 0.83824734 0.84275184]\n",
      "f1:  [0.89801188 0.89555729 0.90076928 0.89774786 0.90040202]\n",
      "CPU times: user 9min 8s, sys: 3.85 s, total: 9min 12s\n",
      "Wall time: 9min 20s\n"
     ]
    }
   ],
   "source": [
    "%%time\n",
    "pipe = pipeSVC\n",
    "scores_ac = cross_val_score(pipe, X, y, cv=5, scoring='accuracy')\n",
    "scores_f1 = cross_val_score(pipe, X, y, cv=5, scoring='f1')\n",
    "print(pipe)\n",
    "print('accuracy: ', scores_ac)\n",
    "print('f1: ', scores_f1)"
   ]
  },
  {
   "cell_type": "code",
   "execution_count": 64,
   "metadata": {},
   "outputs": [
    {
     "name": "stdout",
     "output_type": "stream",
     "text": [
      "Pipeline(steps=[('columntransformer',\n",
      "                 ColumnTransformer(transformers=[('categorical',\n",
      "                                                  Pipeline(steps=[('imputation_most_frequent',\n",
      "                                                                   SimpleImputer(missing_values='?',\n",
      "                                                                                 strategy='most_frequent')),\n",
      "                                                                  ('onehot',\n",
      "                                                                   OneHotEncoder(handle_unknown='ignore'))]),\n",
      "                                                  Int64Index([1, 3, 5, 6, 7, 8, 9, 13], dtype='int64')),\n",
      "                                                 ('numerical',\n",
      "                                                  Pipeline(steps=[('scaler',\n",
      "                                                                   MinMaxScaler())]),\n",
      "                                                  Int64Index([0, 2, 4, 10, 11, 12], dtype='int64'))])),\n",
      "                ('linearsvc', LinearSVC(random_state=42))])\n",
      "accuracy:  [0.84911455 0.85044529 0.85421785 0.85257985 0.8499181 ]\n",
      "f1:  [0.90427328 0.90470289 0.9074363  0.90616447 0.90453243]\n",
      "CPU times: user 11.6 s, sys: 228 ms, total: 11.8 s\n",
      "Wall time: 11.9 s\n"
     ]
    }
   ],
   "source": [
    "%%time\n",
    "pipe = pipeLSVC\n",
    "scores_ac = cross_val_score(pipe, X, y, cv=5, scoring='accuracy')\n",
    "scores_f1 = cross_val_score(pipe, X, y, cv=5, scoring='f1')\n",
    "print(pipe)\n",
    "print('accuracy: ', scores_ac)\n",
    "print('f1: ', scores_f1)"
   ]
  },
  {
   "cell_type": "markdown",
   "metadata": {},
   "source": [
    "**Замена пропущеных значений в данном случае не принесло существенного улучшения**"
   ]
  },
  {
   "cell_type": "markdown",
   "metadata": {},
   "source": [
    "16. Посчитайте cross_val_score, если просто удалить значения '?'. Напишите как изменился результат"
   ]
  },
  {
   "cell_type": "code",
   "execution_count": 65,
   "metadata": {},
   "outputs": [
    {
     "data": {
      "text/plain": [
       "(45222, 14)"
      ]
     },
     "execution_count": 65,
     "metadata": {},
     "output_type": "execute_result"
    }
   ],
   "source": [
    "X_ = data.replace({'?': np.nan}).dropna().loc[:,0:13]\n",
    "y_ = data.replace({'?': np.nan}).dropna().loc[:,14]\n",
    "i = 1\n",
    "for a in y_.unique():\n",
    "    y_ = y_.replace({a:i})\n",
    "    i += 1\n",
    "X_.shape"
   ]
  },
  {
   "cell_type": "code",
   "execution_count": 66,
   "metadata": {},
   "outputs": [
    {
     "data": {
      "text/plain": [
       "(45222,)"
      ]
     },
     "execution_count": 66,
     "metadata": {},
     "output_type": "execute_result"
    }
   ],
   "source": [
    "y_.shape"
   ]
  },
  {
   "cell_type": "code",
   "execution_count": 67,
   "metadata": {},
   "outputs": [],
   "source": [
    "numeric_preprocessor = Pipeline(\n",
    "    steps=[\n",
    "        (\"scaler\", MinMaxScaler()),\n",
    "    ]\n",
    ")\n",
    "\n",
    "categorical_preprocessor = Pipeline(\n",
    "    steps=[\n",
    "        #(\"imputation_most_frequent\", SimpleImputer(missing_values='?', strategy=\"most_frequent\")),\n",
    "        (\"onehot\", OneHotEncoder(handle_unknown=\"ignore\"))\n",
    "    ]\n",
    ")\n",
    "\n",
    "preprocessor = ColumnTransformer(\n",
    "    [\n",
    "        (\"categorical\", categorical_preprocessor, categorial_cols),\n",
    "        (\"numerical\", numeric_preprocessor, numeric_cols),\n",
    "    ]\n",
    ")\n",
    "\n",
    "pipeLR = make_pipeline(preprocessor, LogisticRegression(random_state=RANDOM_STATE, max_iter=1000))\n",
    "pipeSVC = make_pipeline(preprocessor, SVC())\n",
    "pipeLSVC = make_pipeline(preprocessor, LinearSVC(random_state=RANDOM_STATE))"
   ]
  },
  {
   "cell_type": "code",
   "execution_count": 68,
   "metadata": {},
   "outputs": [
    {
     "name": "stdout",
     "output_type": "stream",
     "text": [
      "Pipeline(steps=[('columntransformer',\n",
      "                 ColumnTransformer(transformers=[('categorical',\n",
      "                                                  Pipeline(steps=[('onehot',\n",
      "                                                                   OneHotEncoder(handle_unknown='ignore'))]),\n",
      "                                                  Int64Index([1, 3, 5, 6, 7, 8, 9, 13], dtype='int64')),\n",
      "                                                 ('numerical',\n",
      "                                                  Pipeline(steps=[('scaler',\n",
      "                                                                   MinMaxScaler())]),\n",
      "                                                  Int64Index([0, 2, 4, 10, 11, 12], dtype='int64'))])),\n",
      "                ('logisticregression',\n",
      "                 LogisticRegression(max_iter=1000, random_state=42))])\n",
      "accuracy:  [0.84389165 0.844555   0.85404688 0.84575409 0.84553295]\n",
      "f1:  [0.89917167 0.89958577 0.90613    0.9003073  0.90024991]\n",
      "CPU times: user 7.79 s, sys: 224 ms, total: 8.01 s\n",
      "Wall time: 8.2 s\n"
     ]
    }
   ],
   "source": [
    "%%time\n",
    "pipe = pipeLR\n",
    "scores_ac = cross_val_score(pipe, X_, y_, cv=5, scoring='accuracy')\n",
    "scores_f1 = cross_val_score(pipe, X_, y_, cv=5, scoring='f1')\n",
    "print(pipe)\n",
    "print('accuracy: ', scores_ac)\n",
    "print('f1: ', scores_f1)"
   ]
  },
  {
   "cell_type": "code",
   "execution_count": 69,
   "metadata": {},
   "outputs": [
    {
     "name": "stdout",
     "output_type": "stream",
     "text": [
      "Pipeline(steps=[('columntransformer',\n",
      "                 ColumnTransformer(transformers=[('categorical',\n",
      "                                                  Pipeline(steps=[('onehot',\n",
      "                                                                   OneHotEncoder(handle_unknown='ignore'))]),\n",
      "                                                  Int64Index([1, 3, 5, 6, 7, 8, 9, 13], dtype='int64')),\n",
      "                                                 ('numerical',\n",
      "                                                  Pipeline(steps=[('scaler',\n",
      "                                                                   MinMaxScaler())]),\n",
      "                                                  Int64Index([0, 2, 4, 10, 11, 12], dtype='int64'))])),\n",
      "                ('svc', SVC())])\n",
      "accuracy:  [0.83283582 0.83150912 0.84265812 0.83270677 0.83878815]\n",
      "f1:  [0.89311466 0.89165363 0.89944174 0.89271786 0.89640472]\n",
      "CPU times: user 8min 2s, sys: 3.87 s, total: 8min 6s\n",
      "Wall time: 8min 11s\n"
     ]
    }
   ],
   "source": [
    "%%time\n",
    "pipe = pipeSVC\n",
    "scores_ac = cross_val_score(pipe, X_, y_, cv=5, scoring='accuracy')\n",
    "scores_f1 = cross_val_score(pipe, X_, y_, cv=5, scoring='f1')\n",
    "print(pipe)\n",
    "print('accuracy: ', scores_ac)\n",
    "print('f1: ', scores_f1)"
   ]
  },
  {
   "cell_type": "code",
   "execution_count": 70,
   "metadata": {},
   "outputs": [
    {
     "name": "stdout",
     "output_type": "stream",
     "text": [
      "Pipeline(steps=[('columntransformer',\n",
      "                 ColumnTransformer(transformers=[('categorical',\n",
      "                                                  Pipeline(steps=[('onehot',\n",
      "                                                                   OneHotEncoder(handle_unknown='ignore'))]),\n",
      "                                                  Int64Index([1, 3, 5, 6, 7, 8, 9, 13], dtype='int64')),\n",
      "                                                 ('numerical',\n",
      "                                                  Pipeline(steps=[('scaler',\n",
      "                                                                   MinMaxScaler())]),\n",
      "                                                  Int64Index([0, 2, 4, 10, 11, 12], dtype='int64'))])),\n",
      "                ('linearsvc', LinearSVC(random_state=42))])\n",
      "accuracy:  [0.84610282 0.84754008 0.85393631 0.84730208 0.84763379]\n",
      "f1:  [0.90092527 0.90166156 0.90619896 0.90151893 0.90171184]\n",
      "CPU times: user 11 s, sys: 425 ms, total: 11.4 s\n",
      "Wall time: 12.7 s\n"
     ]
    }
   ],
   "source": [
    "%%time\n",
    "pipe = pipeLSVC\n",
    "scores_ac = cross_val_score(pipe, X_, y_, cv=5, scoring='accuracy')\n",
    "scores_f1 = cross_val_score(pipe, X_, y_, cv=5, scoring='f1')\n",
    "print(pipe)\n",
    "print('accuracy: ', scores_ac)\n",
    "print('f1: ', scores_f1)"
   ]
  },
  {
   "cell_type": "markdown",
   "metadata": {},
   "source": [
    " 17. Посчитайте cross_val_score для RandomForestClassifier,GradientBoostingClassifier. Напишите как изменился результат и какой вывод можно из этого сделать."
   ]
  },
  {
   "cell_type": "code",
   "execution_count": 71,
   "metadata": {},
   "outputs": [],
   "source": [
    "pipeRFC = make_pipeline(preprocessor, RandomForestClassifier(random_state=RANDOM_STATE))\n",
    "pipeGBC = make_pipeline(preprocessor, GradientBoostingClassifier(random_state=RANDOM_STATE))"
   ]
  },
  {
   "cell_type": "code",
   "execution_count": 72,
   "metadata": {},
   "outputs": [
    {
     "name": "stdout",
     "output_type": "stream",
     "text": [
      "Pipeline(steps=[('columntransformer',\n",
      "                 ColumnTransformer(transformers=[('categorical',\n",
      "                                                  Pipeline(steps=[('onehot',\n",
      "                                                                   OneHotEncoder(handle_unknown='ignore'))]),\n",
      "                                                  Int64Index([1, 3, 5, 6, 7, 8, 9, 13], dtype='int64')),\n",
      "                                                 ('numerical',\n",
      "                                                  Pipeline(steps=[('scaler',\n",
      "                                                                   MinMaxScaler())]),\n",
      "                                                  Int64Index([0, 2, 4, 10, 11, 12], dtype='int64'))])),\n",
      "                ('randomforestclassifier',\n",
      "                 RandomForestClassifier(random_state=42))])\n",
      "accuracy:  [0.84997236 0.84776119 0.85338346 0.84807607 0.84564352]\n",
      "f1:  [0.90246532 0.90104204 0.90494624 0.90110839 0.89965497]\n",
      "CPU times: user 3min 49s, sys: 2.4 s, total: 3min 51s\n",
      "Wall time: 3min 55s\n"
     ]
    }
   ],
   "source": [
    "%%time\n",
    "pipe = pipeRFC\n",
    "scores_ac = cross_val_score(pipe, X_, y_, cv=5, scoring='accuracy')\n",
    "scores_f1 = cross_val_score(pipe, X_, y_, cv=5, scoring='f1')\n",
    "print(pipe)\n",
    "print('accuracy: ', scores_ac)\n",
    "print('f1: ', scores_f1)"
   ]
  },
  {
   "cell_type": "code",
   "execution_count": 73,
   "metadata": {},
   "outputs": [
    {
     "name": "stdout",
     "output_type": "stream",
     "text": [
      "Pipeline(steps=[('columntransformer',\n",
      "                 ColumnTransformer(transformers=[('categorical',\n",
      "                                                  Pipeline(steps=[('onehot',\n",
      "                                                                   OneHotEncoder(handle_unknown='ignore'))]),\n",
      "                                                  Int64Index([1, 3, 5, 6, 7, 8, 9, 13], dtype='int64')),\n",
      "                                                 ('numerical',\n",
      "                                                  Pipeline(steps=[('scaler',\n",
      "                                                                   MinMaxScaler())]),\n",
      "                                                  Int64Index([0, 2, 4, 10, 11, 12], dtype='int64'))])),\n",
      "                ('gradientboostingclassifier',\n",
      "                 GradientBoostingClassifier(random_state=42))])\n",
      "accuracy:  [0.85925926 0.8604754  0.86764706 0.8630031  0.86432994]\n",
      "f1:  [0.91002898 0.91053452 0.91550787 0.91198409 0.91320648]\n",
      "CPU times: user 43.3 s, sys: 1.94 s, total: 45.2 s\n",
      "Wall time: 45.9 s\n"
     ]
    }
   ],
   "source": [
    "%%time\n",
    "pipe = pipeGBC\n",
    "scores_ac = cross_val_score(pipe, X_, y_, cv=5, scoring='accuracy')\n",
    "scores_f1 = cross_val_score(pipe, X_, y_, cv=5, scoring='f1')\n",
    "print(pipe)\n",
    "print('accuracy: ', scores_ac)\n",
    "print('f1: ', scores_f1)"
   ]
  },
  {
   "cell_type": "markdown",
   "metadata": {},
   "source": [
    "**Алгоритмы RandomForestClassifier, GradientBoostingClassifier показали лучший результат. Т.о. ансамблевые методы работают лучше**"
   ]
  },
  {
   "cell_type": "markdown",
   "metadata": {},
   "source": [
    "18. Подберите наилучшую модель, подбирая методы обработки колонок - масштабирование признаков, кодирование признаков и заполнение пропусков. Параметры алгоритмов оставьте по умолчанию. Выведите итоговые параметры и результат accuracy и f1_score."
   ]
  },
  {
   "cell_type": "code",
   "execution_count": 179,
   "metadata": {},
   "outputs": [],
   "source": [
    "numeric_preprocessor = Pipeline(\n",
    "    steps=[\n",
    "        (\"scaler\", MinMaxScaler())\n",
    "    ]\n",
    ")\n",
    "\n",
    "categorical_preprocessor = Pipeline(\n",
    "    steps=[\n",
    "        #(\"imputation\", SimpleImputer(missing_values='?', strategy=\"most_frequent\")),\n",
    "        (\"encoder\", OneHotEncoder(handle_unknown=\"ignore\"))\n",
    "    ]\n",
    ")\n",
    "\n",
    "preprocessor = ColumnTransformer(\n",
    "    [\n",
    "        (\"categorical\", categorical_preprocessor, categorial_cols),\n",
    "        (\"numerical\", numeric_preprocessor, numeric_cols),\n",
    "    ]\n",
    ")\n",
    "\n",
    "pipeGBC = make_pipeline(preprocessor, GradientBoostingClassifier(random_state=RANDOM_STATE))\n",
    "#pipeGBC = make_pipeline(preprocessor, RandomForestClassifier(random_state=RANDOM_STATE))\n",
    "\n"
   ]
  },
  {
   "cell_type": "code",
   "execution_count": 180,
   "metadata": {},
   "outputs": [
    {
     "name": "stdout",
     "output_type": "stream",
     "text": [
      "Pipeline(steps=[('columntransformer',\n",
      "                 ColumnTransformer(transformers=[('categorical',\n",
      "                                                  Pipeline(steps=[('encoder',\n",
      "                                                                   OneHotEncoder(handle_unknown='ignore'))]),\n",
      "                                                  Int64Index([1, 3, 5, 6, 7, 8, 9, 13], dtype='int64')),\n",
      "                                                 ('numerical',\n",
      "                                                  Pipeline(steps=[('scaler',\n",
      "                                                                   MinMaxScaler())]),\n",
      "                                                  Int64Index([0, 2, 4, 10, 11, 12], dtype='int64'))])),\n",
      "                ('gradientboostingclassifier',\n",
      "                 GradientBoostingClassifier(random_state=42))])\n",
      "accuracy:  0.8675731196536806\n",
      "f1:  0.9160258070962349\n",
      "CPU times: user 46.1 s, sys: 2.2 s, total: 48.3 s\n",
      "Wall time: 48.6 s\n"
     ]
    }
   ],
   "source": [
    "%%time\n",
    "pipe = pipeGBC\n",
    "scores_ac = cross_val_score(pipe, X, y, scoring='accuracy')\n",
    "scores_f1 = cross_val_score(pipe, X, y, scoring='f1')\n",
    "print(pipe)\n",
    "print('accuracy: ', scores_ac.mean())\n",
    "print('f1: ', scores_f1.mean())"
   ]
  }
 ],
 "metadata": {
  "kernelspec": {
   "display_name": "Python 3",
   "language": "python",
   "name": "python3"
  },
  "language_info": {
   "codemirror_mode": {
    "name": "ipython",
    "version": 3
   },
   "file_extension": ".py",
   "mimetype": "text/x-python",
   "name": "python",
   "nbconvert_exporter": "python",
   "pygments_lexer": "ipython3",
   "version": "3.8.8"
  }
 },
 "nbformat": 4,
 "nbformat_minor": 4
}

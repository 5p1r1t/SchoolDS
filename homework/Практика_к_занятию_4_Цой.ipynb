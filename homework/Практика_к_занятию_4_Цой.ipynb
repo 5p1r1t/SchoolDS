{
 "cells": [
  {
   "cell_type": "markdown",
   "metadata": {
    "id": "pDrecLU-4QjS"
   },
   "source": [
    "# Практика\n",
    "Используемые библиотеки"
   ]
  },
  {
   "cell_type": "code",
   "execution_count": 1,
   "metadata": {},
   "outputs": [],
   "source": [
    "import pandas as pd\n",
    "import numpy as np\n",
    "import requests # for web-download\n",
    "import io # for web-download\n",
    "import re # for data processing\n"
   ]
  },
  {
   "cell_type": "markdown",
   "metadata": {},
   "source": [
    "## Загрузка DataFrame\n",
    "### Задача 1\n",
    "На основании данных портала \"Открытые данные России\" о результатах Химического анализа родника в Нескучном саду https://data.gov.ru/opendata/7708660670-rodnik-neskuchniy-sad\n",
    "средствами библиотеки __Pandas__ сформируйте поле выводов по каждому анализирумомому параметру.\n",
    "Например, по показателю _pH_ получен результат _8.4 единицы pH_ при нормативе от _6 до 9 единиц pH_. Т.о. по данному показателю результат анализа в норме.\n",
    "Для решения задачи необходимо программно \"прочитать и понять\" значение столбца \"Норматив\" и выделенное численное значение сравнить с нормативом согласно логике норматива. Например, __6 >= pH >= 9__.\n",
    "В итоговом DataFrame столбец \"Показатель\" сделайте индексным.\n",
    "\n",
    "\n",
    "Загзрузка DataFrame выполняется непосредственно c сайта \"Открытые данные России\" https://data.gov.ru/opendata/7708660670-rodnik-neskuchniy-sad/data-20160608T1215-structure-20160608T1215.csv (см. код ниже).\n"
   ]
  },
  {
   "cell_type": "code",
   "execution_count": 159,
   "metadata": {},
   "outputs": [
    {
     "data": {
      "text/plain": "                               Показатель Единица измерений  \\\n0                                      pH        единицы pH   \n1                                   Запах             баллы   \n2                               Цветность           градусы   \n3                               Жёсткость       мг-эквл/дм3   \n4         Аммиак и аммоний-ион (по азоту)            мг/дм3   \n5                        Нитриты (по NO2)            мг/дм3   \n6                        Нитраты (по NO3)            мг/дм3   \n7                             Фосфаты (P)            мг/дм3   \n8                            Хлориды (Cl)            мг/дм3   \n9                          Сульфаты (SO4)            мг/дм3   \n10  Железо (включая хлорное железо) по Fe            мг/дм3   \n11                                  Нефть            мг/дм3   \n12    Общая минерализация (сухой остаток)            мг/дм3   \n13            Окисляемость перманганатная            мг/дм3   \n\n    Результат анализа         Норматив  \n0                 8.4   в пределах 6-9  \n1                   1     не более 2-3  \n2             б/цвета      не более 30  \n3   9.199999999999999  в пределах 7-10  \n4                0.42     не более 1,5  \n5               0.017     не более 3,3  \n6                  24      не более 45  \n7                0.36     не более 3,5  \n8                 200     не более 350  \n9               189.5     не более 500  \n10              0.019     не более 0,3  \n11               0.55     не более 0,3  \n12                590    не более 1000  \n13                  2     не более 0,5  ",
      "text/html": "<div>\n<style scoped>\n    .dataframe tbody tr th:only-of-type {\n        vertical-align: middle;\n    }\n\n    .dataframe tbody tr th {\n        vertical-align: top;\n    }\n\n    .dataframe thead th {\n        text-align: right;\n    }\n</style>\n<table border=\"1\" class=\"dataframe\">\n  <thead>\n    <tr style=\"text-align: right;\">\n      <th></th>\n      <th>Показатель</th>\n      <th>Единица измерений</th>\n      <th>Результат анализа</th>\n      <th>Норматив</th>\n    </tr>\n  </thead>\n  <tbody>\n    <tr>\n      <th>0</th>\n      <td>pH</td>\n      <td>единицы pH</td>\n      <td>8.4</td>\n      <td>в пределах 6-9</td>\n    </tr>\n    <tr>\n      <th>1</th>\n      <td>Запах</td>\n      <td>баллы</td>\n      <td>1</td>\n      <td>не более 2-3</td>\n    </tr>\n    <tr>\n      <th>2</th>\n      <td>Цветность</td>\n      <td>градусы</td>\n      <td>б/цвета</td>\n      <td>не более 30</td>\n    </tr>\n    <tr>\n      <th>3</th>\n      <td>Жёсткость</td>\n      <td>мг-эквл/дм3</td>\n      <td>9.199999999999999</td>\n      <td>в пределах 7-10</td>\n    </tr>\n    <tr>\n      <th>4</th>\n      <td>Аммиак и аммоний-ион (по азоту)</td>\n      <td>мг/дм3</td>\n      <td>0.42</td>\n      <td>не более 1,5</td>\n    </tr>\n    <tr>\n      <th>5</th>\n      <td>Нитриты (по NO2)</td>\n      <td>мг/дм3</td>\n      <td>0.017</td>\n      <td>не более 3,3</td>\n    </tr>\n    <tr>\n      <th>6</th>\n      <td>Нитраты (по NO3)</td>\n      <td>мг/дм3</td>\n      <td>24</td>\n      <td>не более 45</td>\n    </tr>\n    <tr>\n      <th>7</th>\n      <td>Фосфаты (P)</td>\n      <td>мг/дм3</td>\n      <td>0.36</td>\n      <td>не более 3,5</td>\n    </tr>\n    <tr>\n      <th>8</th>\n      <td>Хлориды (Cl)</td>\n      <td>мг/дм3</td>\n      <td>200</td>\n      <td>не более 350</td>\n    </tr>\n    <tr>\n      <th>9</th>\n      <td>Сульфаты (SO4)</td>\n      <td>мг/дм3</td>\n      <td>189.5</td>\n      <td>не более 500</td>\n    </tr>\n    <tr>\n      <th>10</th>\n      <td>Железо (включая хлорное железо) по Fe</td>\n      <td>мг/дм3</td>\n      <td>0.019</td>\n      <td>не более 0,3</td>\n    </tr>\n    <tr>\n      <th>11</th>\n      <td>Нефть</td>\n      <td>мг/дм3</td>\n      <td>0.55</td>\n      <td>не более 0,3</td>\n    </tr>\n    <tr>\n      <th>12</th>\n      <td>Общая минерализация (сухой остаток)</td>\n      <td>мг/дм3</td>\n      <td>590</td>\n      <td>не более 1000</td>\n    </tr>\n    <tr>\n      <th>13</th>\n      <td>Окисляемость перманганатная</td>\n      <td>мг/дм3</td>\n      <td>2</td>\n      <td>не более 0,5</td>\n    </tr>\n  </tbody>\n</table>\n</div>"
     },
     "metadata": {},
     "output_type": "display_data"
    }
   ],
   "source": [
    "#url =\"https://data.gov.ru/opendata/7708660670-rodnik-neskuchniy-sad/data-20160608T1215-structure-20160608T1215.csv\"\n",
    "#s = requests.get(url).content\n",
    "#print(s)\n",
    "#df=pd.read_csv(io.StringIO(s.decode('UTF8')))\n",
    "### Если не работает загрузка on-line\n",
    "df=pd.read_csv(\"Химический анализ родника в Нескучном саду.csv\", sep=';')\n",
    "display(df)"
   ]
  },
  {
   "cell_type": "code",
   "execution_count": 160,
   "metadata": {},
   "outputs": [
    {
     "data": {
      "text/plain": "                               Показатель Единица измерений  \\\n0                                      pH        единицы pH   \n1                                   Запах             баллы   \n2                               Цветность           градусы   \n3                               Жёсткость       мг-эквл/дм3   \n4         Аммиак и аммоний-ион (по азоту)            мг/дм3   \n5                        Нитриты (по NO2)            мг/дм3   \n6                        Нитраты (по NO3)            мг/дм3   \n7                             Фосфаты (P)            мг/дм3   \n8                            Хлориды (Cl)            мг/дм3   \n9                          Сульфаты (SO4)            мг/дм3   \n10  Железо (включая хлорное железо) по Fe            мг/дм3   \n11                                  Нефть            мг/дм3   \n12    Общая минерализация (сухой остаток)            мг/дм3   \n13            Окисляемость перманганатная            мг/дм3   \n\n    Результат анализа         Норматив    Оператор     A     B  \n0                 8.4   в пределах 6-9  в пределах     6     9  \n1                   1     не более 2-3    не более     2     3  \n2             б/цвета      не более 30    не более    30  None  \n3   9.199999999999999  в пределах 7-10  в пределах     7    10  \n4                0.42     не более 1,5    не более   1.5  None  \n5               0.017     не более 3,3    не более   3.3  None  \n6                  24      не более 45    не более    45  None  \n7                0.36     не более 3,5    не более   3.5  None  \n8                 200     не более 350    не более   350  None  \n9               189.5     не более 500    не более   500  None  \n10              0.019     не более 0,3    не более   0.3  None  \n11               0.55     не более 0,3    не более   0.3  None  \n12                590    не более 1000    не более  1000  None  \n13                  2     не более 0,5    не более   0.5  None  ",
      "text/html": "<div>\n<style scoped>\n    .dataframe tbody tr th:only-of-type {\n        vertical-align: middle;\n    }\n\n    .dataframe tbody tr th {\n        vertical-align: top;\n    }\n\n    .dataframe thead th {\n        text-align: right;\n    }\n</style>\n<table border=\"1\" class=\"dataframe\">\n  <thead>\n    <tr style=\"text-align: right;\">\n      <th></th>\n      <th>Показатель</th>\n      <th>Единица измерений</th>\n      <th>Результат анализа</th>\n      <th>Норматив</th>\n      <th>Оператор</th>\n      <th>A</th>\n      <th>B</th>\n    </tr>\n  </thead>\n  <tbody>\n    <tr>\n      <th>0</th>\n      <td>pH</td>\n      <td>единицы pH</td>\n      <td>8.4</td>\n      <td>в пределах 6-9</td>\n      <td>в пределах</td>\n      <td>6</td>\n      <td>9</td>\n    </tr>\n    <tr>\n      <th>1</th>\n      <td>Запах</td>\n      <td>баллы</td>\n      <td>1</td>\n      <td>не более 2-3</td>\n      <td>не более</td>\n      <td>2</td>\n      <td>3</td>\n    </tr>\n    <tr>\n      <th>2</th>\n      <td>Цветность</td>\n      <td>градусы</td>\n      <td>б/цвета</td>\n      <td>не более 30</td>\n      <td>не более</td>\n      <td>30</td>\n      <td>None</td>\n    </tr>\n    <tr>\n      <th>3</th>\n      <td>Жёсткость</td>\n      <td>мг-эквл/дм3</td>\n      <td>9.199999999999999</td>\n      <td>в пределах 7-10</td>\n      <td>в пределах</td>\n      <td>7</td>\n      <td>10</td>\n    </tr>\n    <tr>\n      <th>4</th>\n      <td>Аммиак и аммоний-ион (по азоту)</td>\n      <td>мг/дм3</td>\n      <td>0.42</td>\n      <td>не более 1,5</td>\n      <td>не более</td>\n      <td>1.5</td>\n      <td>None</td>\n    </tr>\n    <tr>\n      <th>5</th>\n      <td>Нитриты (по NO2)</td>\n      <td>мг/дм3</td>\n      <td>0.017</td>\n      <td>не более 3,3</td>\n      <td>не более</td>\n      <td>3.3</td>\n      <td>None</td>\n    </tr>\n    <tr>\n      <th>6</th>\n      <td>Нитраты (по NO3)</td>\n      <td>мг/дм3</td>\n      <td>24</td>\n      <td>не более 45</td>\n      <td>не более</td>\n      <td>45</td>\n      <td>None</td>\n    </tr>\n    <tr>\n      <th>7</th>\n      <td>Фосфаты (P)</td>\n      <td>мг/дм3</td>\n      <td>0.36</td>\n      <td>не более 3,5</td>\n      <td>не более</td>\n      <td>3.5</td>\n      <td>None</td>\n    </tr>\n    <tr>\n      <th>8</th>\n      <td>Хлориды (Cl)</td>\n      <td>мг/дм3</td>\n      <td>200</td>\n      <td>не более 350</td>\n      <td>не более</td>\n      <td>350</td>\n      <td>None</td>\n    </tr>\n    <tr>\n      <th>9</th>\n      <td>Сульфаты (SO4)</td>\n      <td>мг/дм3</td>\n      <td>189.5</td>\n      <td>не более 500</td>\n      <td>не более</td>\n      <td>500</td>\n      <td>None</td>\n    </tr>\n    <tr>\n      <th>10</th>\n      <td>Железо (включая хлорное железо) по Fe</td>\n      <td>мг/дм3</td>\n      <td>0.019</td>\n      <td>не более 0,3</td>\n      <td>не более</td>\n      <td>0.3</td>\n      <td>None</td>\n    </tr>\n    <tr>\n      <th>11</th>\n      <td>Нефть</td>\n      <td>мг/дм3</td>\n      <td>0.55</td>\n      <td>не более 0,3</td>\n      <td>не более</td>\n      <td>0.3</td>\n      <td>None</td>\n    </tr>\n    <tr>\n      <th>12</th>\n      <td>Общая минерализация (сухой остаток)</td>\n      <td>мг/дм3</td>\n      <td>590</td>\n      <td>не более 1000</td>\n      <td>не более</td>\n      <td>1000</td>\n      <td>None</td>\n    </tr>\n    <tr>\n      <th>13</th>\n      <td>Окисляемость перманганатная</td>\n      <td>мг/дм3</td>\n      <td>2</td>\n      <td>не более 0,5</td>\n      <td>не более</td>\n      <td>0.5</td>\n      <td>None</td>\n    </tr>\n  </tbody>\n</table>\n</div>"
     },
     "execution_count": 160,
     "metadata": {},
     "output_type": "execute_result"
    }
   ],
   "source": [
    "# Ваше решение\n",
    "temp_df = df['Норматив'].str.rsplit(n=1, expand=True)\n",
    "temp_AB = temp_df.iloc[:,1].str.split('-', expand=True)\n",
    "df['Оператор'] = temp_df.iloc[:,0]\n",
    "df['A'] = temp_AB.iloc[:,0].str.replace(',','.')\n",
    "df['B'] = temp_AB.iloc[:,1].str.replace(',','.')\n",
    "df"
   ]
  },
  {
   "cell_type": "code",
   "execution_count": 161,
   "outputs": [],
   "source": [
    "def Decision(res, op, a, b):\n",
    "    if op == 'не более':\n",
    "        return (res <= max (a, b))\n",
    "    elif op == 'в пределах':\n",
    "        return (min (a, b) <= res) & (res <= max (a, b))\n",
    "    else: return None"
   ],
   "metadata": {
    "collapsed": false
   }
  },
  {
   "cell_type": "code",
   "execution_count": 162,
   "outputs": [
    {
     "name": "stdout",
     "output_type": "stream",
     "text": [
      "<class 'pandas.core.frame.DataFrame'>\n",
      "RangeIndex: 14 entries, 0 to 13\n",
      "Data columns (total 7 columns):\n",
      " #   Column             Non-Null Count  Dtype  \n",
      "---  ------             --------------  -----  \n",
      " 0   Показатель         14 non-null     object \n",
      " 1   Единица измерений  14 non-null     object \n",
      " 2   Результат анализа  13 non-null     float32\n",
      " 3   Норматив           14 non-null     object \n",
      " 4   Оператор           14 non-null     string \n",
      " 5   A                  14 non-null     float32\n",
      " 6   B                  3 non-null      float32\n",
      "dtypes: float32(3), object(3), string(1)\n",
      "memory usage: 744.0+ bytes\n"
     ]
    }
   ],
   "source": [
    "df['Результат анализа'] = pd.to_numeric(df['Результат анализа'], downcast='float', errors='coerce')\n",
    "df['A'] = pd.to_numeric(df['A'], downcast='float')\n",
    "df['B'] = pd.to_numeric(df['B'], downcast='float')\n",
    "df['Оператор'] = df['Оператор'].astype('string')\n",
    "df.info()"
   ],
   "metadata": {
    "collapsed": false
   }
  },
  {
   "cell_type": "code",
   "execution_count": 164,
   "outputs": [
    {
     "data": {
      "text/plain": "                                      Единица измерений  Результат анализа  \\\nПоказатель                                                                   \npH                                           единицы pH              8.400   \nЗапах                                             баллы              1.000   \nЦветность                                       градусы                NaN   \nЖёсткость                                   мг-эквл/дм3              9.200   \nАммиак и аммоний-ион (по азоту)                  мг/дм3              0.420   \nНитриты (по NO2)                                 мг/дм3              0.017   \nНитраты (по NO3)                                 мг/дм3             24.000   \nФосфаты (P)                                      мг/дм3              0.360   \nХлориды (Cl)                                     мг/дм3            200.000   \nСульфаты (SO4)                                   мг/дм3            189.500   \nЖелезо (включая хлорное железо) по Fe            мг/дм3              0.019   \nНефть                                            мг/дм3              0.550   \nОбщая минерализация (сухой остаток)              мг/дм3            590.000   \nОкисляемость перманганатная                      мг/дм3              2.000   \n\n                                              Норматив    Оператор       A  \\\nПоказатель                                                                   \npH                                      в пределах 6-9  в пределах     6.0   \nЗапах                                     не более 2-3    не более     2.0   \nЦветность                                  не более 30    не более    30.0   \nЖёсткость                              в пределах 7-10  в пределах     7.0   \nАммиак и аммоний-ион (по азоту)           не более 1,5    не более     1.5   \nНитриты (по NO2)                          не более 3,3    не более     3.3   \nНитраты (по NO3)                           не более 45    не более    45.0   \nФосфаты (P)                               не более 3,5    не более     3.5   \nХлориды (Cl)                              не более 350    не более   350.0   \nСульфаты (SO4)                            не более 500    не более   500.0   \nЖелезо (включая хлорное железо) по Fe     не более 0,3    не более     0.3   \nНефть                                     не более 0,3    не более     0.3   \nОбщая минерализация (сухой остаток)      не более 1000    не более  1000.0   \nОкисляемость перманганатная               не более 0,5    не более     0.5   \n\n                                          B  Норма  \nПоказатель                                          \npH                                      9.0   True  \nЗапах                                   3.0   True  \nЦветность                               NaN  False  \nЖёсткость                              10.0   True  \nАммиак и аммоний-ион (по азоту)         NaN   True  \nНитриты (по NO2)                        NaN   True  \nНитраты (по NO3)                        NaN   True  \nФосфаты (P)                             NaN   True  \nХлориды (Cl)                            NaN   True  \nСульфаты (SO4)                          NaN   True  \nЖелезо (включая хлорное железо) по Fe   NaN   True  \nНефть                                   NaN  False  \nОбщая минерализация (сухой остаток)     NaN   True  \nОкисляемость перманганатная             NaN  False  ",
      "text/html": "<div>\n<style scoped>\n    .dataframe tbody tr th:only-of-type {\n        vertical-align: middle;\n    }\n\n    .dataframe tbody tr th {\n        vertical-align: top;\n    }\n\n    .dataframe thead th {\n        text-align: right;\n    }\n</style>\n<table border=\"1\" class=\"dataframe\">\n  <thead>\n    <tr style=\"text-align: right;\">\n      <th></th>\n      <th>Единица измерений</th>\n      <th>Результат анализа</th>\n      <th>Норматив</th>\n      <th>Оператор</th>\n      <th>A</th>\n      <th>B</th>\n      <th>Норма</th>\n    </tr>\n    <tr>\n      <th>Показатель</th>\n      <th></th>\n      <th></th>\n      <th></th>\n      <th></th>\n      <th></th>\n      <th></th>\n      <th></th>\n    </tr>\n  </thead>\n  <tbody>\n    <tr>\n      <th>pH</th>\n      <td>единицы pH</td>\n      <td>8.400</td>\n      <td>в пределах 6-9</td>\n      <td>в пределах</td>\n      <td>6.0</td>\n      <td>9.0</td>\n      <td>True</td>\n    </tr>\n    <tr>\n      <th>Запах</th>\n      <td>баллы</td>\n      <td>1.000</td>\n      <td>не более 2-3</td>\n      <td>не более</td>\n      <td>2.0</td>\n      <td>3.0</td>\n      <td>True</td>\n    </tr>\n    <tr>\n      <th>Цветность</th>\n      <td>градусы</td>\n      <td>NaN</td>\n      <td>не более 30</td>\n      <td>не более</td>\n      <td>30.0</td>\n      <td>NaN</td>\n      <td>False</td>\n    </tr>\n    <tr>\n      <th>Жёсткость</th>\n      <td>мг-эквл/дм3</td>\n      <td>9.200</td>\n      <td>в пределах 7-10</td>\n      <td>в пределах</td>\n      <td>7.0</td>\n      <td>10.0</td>\n      <td>True</td>\n    </tr>\n    <tr>\n      <th>Аммиак и аммоний-ион (по азоту)</th>\n      <td>мг/дм3</td>\n      <td>0.420</td>\n      <td>не более 1,5</td>\n      <td>не более</td>\n      <td>1.5</td>\n      <td>NaN</td>\n      <td>True</td>\n    </tr>\n    <tr>\n      <th>Нитриты (по NO2)</th>\n      <td>мг/дм3</td>\n      <td>0.017</td>\n      <td>не более 3,3</td>\n      <td>не более</td>\n      <td>3.3</td>\n      <td>NaN</td>\n      <td>True</td>\n    </tr>\n    <tr>\n      <th>Нитраты (по NO3)</th>\n      <td>мг/дм3</td>\n      <td>24.000</td>\n      <td>не более 45</td>\n      <td>не более</td>\n      <td>45.0</td>\n      <td>NaN</td>\n      <td>True</td>\n    </tr>\n    <tr>\n      <th>Фосфаты (P)</th>\n      <td>мг/дм3</td>\n      <td>0.360</td>\n      <td>не более 3,5</td>\n      <td>не более</td>\n      <td>3.5</td>\n      <td>NaN</td>\n      <td>True</td>\n    </tr>\n    <tr>\n      <th>Хлориды (Cl)</th>\n      <td>мг/дм3</td>\n      <td>200.000</td>\n      <td>не более 350</td>\n      <td>не более</td>\n      <td>350.0</td>\n      <td>NaN</td>\n      <td>True</td>\n    </tr>\n    <tr>\n      <th>Сульфаты (SO4)</th>\n      <td>мг/дм3</td>\n      <td>189.500</td>\n      <td>не более 500</td>\n      <td>не более</td>\n      <td>500.0</td>\n      <td>NaN</td>\n      <td>True</td>\n    </tr>\n    <tr>\n      <th>Железо (включая хлорное железо) по Fe</th>\n      <td>мг/дм3</td>\n      <td>0.019</td>\n      <td>не более 0,3</td>\n      <td>не более</td>\n      <td>0.3</td>\n      <td>NaN</td>\n      <td>True</td>\n    </tr>\n    <tr>\n      <th>Нефть</th>\n      <td>мг/дм3</td>\n      <td>0.550</td>\n      <td>не более 0,3</td>\n      <td>не более</td>\n      <td>0.3</td>\n      <td>NaN</td>\n      <td>False</td>\n    </tr>\n    <tr>\n      <th>Общая минерализация (сухой остаток)</th>\n      <td>мг/дм3</td>\n      <td>590.000</td>\n      <td>не более 1000</td>\n      <td>не более</td>\n      <td>1000.0</td>\n      <td>NaN</td>\n      <td>True</td>\n    </tr>\n    <tr>\n      <th>Окисляемость перманганатная</th>\n      <td>мг/дм3</td>\n      <td>2.000</td>\n      <td>не более 0,5</td>\n      <td>не более</td>\n      <td>0.5</td>\n      <td>NaN</td>\n      <td>False</td>\n    </tr>\n  </tbody>\n</table>\n</div>"
     },
     "execution_count": 164,
     "metadata": {},
     "output_type": "execute_result"
    }
   ],
   "source": [
    "df['Норма'] = df.apply ( lambda x: Decision(x['Результат анализа'], x['Оператор'], x['A'], x['B']), axis= 1 )\n",
    "df.set_index('Показатель')"
   ],
   "metadata": {
    "collapsed": false
   }
  },
  {
   "cell_type": "markdown",
   "metadata": {
    "id": "gUvTNDlMaV-a"
   },
   "source": [
    "## Теория вероятности. События\n",
    "\n",
    "Требуется сгенерировать необходимые выборки и произвести по ним расчеты"
   ]
  },
  {
   "cell_type": "markdown",
   "metadata": {
    "id": "t0XOMos2Tl0e"
   },
   "source": [
    "### Задача 2\n",
    "В ящике 5 апельсинов и 4 яблока. Наудачу выбираются 3 фрукта. Какова вероятность, что все три фрукта – апельсины?\n",
    "\n",
    "В интернете полученный аналитически ответ 0.119. Подтверждается ли он эксперементально?\n"
   ]
  },
  {
   "cell_type": "code",
   "execution_count": 233,
   "metadata": {
    "id": "o7NjAE9uUo-L"
   },
   "outputs": [],
   "source": [
    "import random\n",
    "\n",
    "# Ваше решение\n",
    "# заполняем ящик фруктами\n",
    "Box = [\"апельсин\"]*5 + ['яблоко']*4\n",
    "\n",
    "# задаем число экспериментов\n",
    "n = 1000000"
   ]
  },
  {
   "cell_type": "code",
   "execution_count": 234,
   "outputs": [
    {
     "data": {
      "text/plain": "               0         1         2\n0       апельсин  апельсин    яблоко\n1       апельсин  апельсин  апельсин\n2         яблоко  апельсин    яблоко\n3       апельсин  апельсин    яблоко\n4         яблоко    яблоко  апельсин\n...          ...       ...       ...\n999995  апельсин    яблоко  апельсин\n999996    яблоко    яблоко  апельсин\n999997  апельсин    яблоко    яблоко\n999998  апельсин    яблоко  апельсин\n999999  апельсин  апельсин    яблоко\n\n[1000000 rows x 3 columns]",
      "text/html": "<div>\n<style scoped>\n    .dataframe tbody tr th:only-of-type {\n        vertical-align: middle;\n    }\n\n    .dataframe tbody tr th {\n        vertical-align: top;\n    }\n\n    .dataframe thead th {\n        text-align: right;\n    }\n</style>\n<table border=\"1\" class=\"dataframe\">\n  <thead>\n    <tr style=\"text-align: right;\">\n      <th></th>\n      <th>0</th>\n      <th>1</th>\n      <th>2</th>\n    </tr>\n  </thead>\n  <tbody>\n    <tr>\n      <th>0</th>\n      <td>апельсин</td>\n      <td>апельсин</td>\n      <td>яблоко</td>\n    </tr>\n    <tr>\n      <th>1</th>\n      <td>апельсин</td>\n      <td>апельсин</td>\n      <td>апельсин</td>\n    </tr>\n    <tr>\n      <th>2</th>\n      <td>яблоко</td>\n      <td>апельсин</td>\n      <td>яблоко</td>\n    </tr>\n    <tr>\n      <th>3</th>\n      <td>апельсин</td>\n      <td>апельсин</td>\n      <td>яблоко</td>\n    </tr>\n    <tr>\n      <th>4</th>\n      <td>яблоко</td>\n      <td>яблоко</td>\n      <td>апельсин</td>\n    </tr>\n    <tr>\n      <th>...</th>\n      <td>...</td>\n      <td>...</td>\n      <td>...</td>\n    </tr>\n    <tr>\n      <th>999995</th>\n      <td>апельсин</td>\n      <td>яблоко</td>\n      <td>апельсин</td>\n    </tr>\n    <tr>\n      <th>999996</th>\n      <td>яблоко</td>\n      <td>яблоко</td>\n      <td>апельсин</td>\n    </tr>\n    <tr>\n      <th>999997</th>\n      <td>апельсин</td>\n      <td>яблоко</td>\n      <td>яблоко</td>\n    </tr>\n    <tr>\n      <th>999998</th>\n      <td>апельсин</td>\n      <td>яблоко</td>\n      <td>апельсин</td>\n    </tr>\n    <tr>\n      <th>999999</th>\n      <td>апельсин</td>\n      <td>апельсин</td>\n      <td>яблоко</td>\n    </tr>\n  </tbody>\n</table>\n<p>1000000 rows × 3 columns</p>\n</div>"
     },
     "execution_count": 234,
     "metadata": {},
     "output_type": "execute_result"
    }
   ],
   "source": [
    "# формируем выборку\n",
    "A = pd.DataFrame(map(lambda a: random.sample(Box, k=3), range(n)))\n",
    "A"
   ],
   "metadata": {
    "collapsed": false
   }
  },
  {
   "cell_type": "code",
   "execution_count": 235,
   "outputs": [
    {
     "data": {
      "text/plain": "0.119077"
     },
     "execution_count": 235,
     "metadata": {},
     "output_type": "execute_result"
    }
   ],
   "source": [
    "# считаем статистику выпадений черных шаров\n",
    "P_oranges = len(A[(A[0] == 'апельсин')&(A[1] == 'апельсин')&(A[2] == 'апельсин')])/A.shape[0]\n",
    "P_oranges"
   ],
   "metadata": {
    "collapsed": false
   }
  },
  {
   "cell_type": "markdown",
   "metadata": {
    "id": "g7A7QlvGTnwZ"
   },
   "source": [
    "### Задача 3\n",
    "Мастер, имея 10 деталей, из которых 3 – нестандартных, проверяет детали одну за другой, пока ему не попадется стандартная. Какова вероятность, что он проверит ровно две детали?\n",
    "\n",
    "\n",
    "В интернете полученный аналитически ответ 7/30 или 0.23333. Подтверждается ли он эксперементально?"
   ]
  },
  {
   "cell_type": "code",
   "execution_count": null,
   "metadata": {},
   "outputs": [],
   "source": [
    "# Ваше решение\n"
   ]
  },
  {
   "cell_type": "code",
   "execution_count": 236,
   "metadata": {},
   "outputs": [
    {
     "data": {
      "text/plain": "               0            1\n0       стандарт     стандарт\n1       стандарт     стандарт\n2       стандарт     стандарт\n3       стандарт     стандарт\n4       стандарт  не стандарт\n...          ...          ...\n999995  стандарт  не стандарт\n999996  стандарт     стандарт\n999997  стандарт  не стандарт\n999998  стандарт  не стандарт\n999999  стандарт     стандарт\n\n[1000000 rows x 2 columns]",
      "text/html": "<div>\n<style scoped>\n    .dataframe tbody tr th:only-of-type {\n        vertical-align: middle;\n    }\n\n    .dataframe tbody tr th {\n        vertical-align: top;\n    }\n\n    .dataframe thead th {\n        text-align: right;\n    }\n</style>\n<table border=\"1\" class=\"dataframe\">\n  <thead>\n    <tr style=\"text-align: right;\">\n      <th></th>\n      <th>0</th>\n      <th>1</th>\n    </tr>\n  </thead>\n  <tbody>\n    <tr>\n      <th>0</th>\n      <td>стандарт</td>\n      <td>стандарт</td>\n    </tr>\n    <tr>\n      <th>1</th>\n      <td>стандарт</td>\n      <td>стандарт</td>\n    </tr>\n    <tr>\n      <th>2</th>\n      <td>стандарт</td>\n      <td>стандарт</td>\n    </tr>\n    <tr>\n      <th>3</th>\n      <td>стандарт</td>\n      <td>стандарт</td>\n    </tr>\n    <tr>\n      <th>4</th>\n      <td>стандарт</td>\n      <td>не стандарт</td>\n    </tr>\n    <tr>\n      <th>...</th>\n      <td>...</td>\n      <td>...</td>\n    </tr>\n    <tr>\n      <th>999995</th>\n      <td>стандарт</td>\n      <td>не стандарт</td>\n    </tr>\n    <tr>\n      <th>999996</th>\n      <td>стандарт</td>\n      <td>стандарт</td>\n    </tr>\n    <tr>\n      <th>999997</th>\n      <td>стандарт</td>\n      <td>не стандарт</td>\n    </tr>\n    <tr>\n      <th>999998</th>\n      <td>стандарт</td>\n      <td>не стандарт</td>\n    </tr>\n    <tr>\n      <th>999999</th>\n      <td>стандарт</td>\n      <td>стандарт</td>\n    </tr>\n  </tbody>\n</table>\n<p>1000000 rows × 2 columns</p>\n</div>"
     },
     "execution_count": 236,
     "metadata": {},
     "output_type": "execute_result"
    }
   ],
   "source": [
    "Box = [\"стандарт\"]*7 + ['не стандарт']*3\n",
    "n = 1000000\n",
    "A = pd.DataFrame(map(lambda a: random.sample(Box, k=2), range(n)))\n",
    "A"
   ]
  },
  {
   "cell_type": "code",
   "execution_count": 237,
   "outputs": [
    {
     "data": {
      "text/plain": "0.233525"
     },
     "execution_count": 237,
     "metadata": {},
     "output_type": "execute_result"
    }
   ],
   "source": [
    "P = len(A[(A[0] == 'не стандарт')&(A[1] == 'стандарт')])/A.shape[0]\n",
    "P"
   ],
   "metadata": {
    "collapsed": false
   }
  }
 ],
 "metadata": {
  "celltoolbar": "Raw Cell Format",
  "colab": {
   "collapsed_sections": [],
   "name": "Практика к занятию 11.ipynb",
   "provenance": []
  },
  "kernelspec": {
   "display_name": "Python 3 (ipykernel)",
   "language": "python",
   "name": "python3"
  },
  "language_info": {
   "codemirror_mode": {
    "name": "ipython",
    "version": 3
   },
   "file_extension": ".py",
   "mimetype": "text/x-python",
   "name": "python",
   "nbconvert_exporter": "python",
   "pygments_lexer": "ipython3",
   "version": "3.9.12"
  }
 },
 "nbformat": 4,
 "nbformat_minor": 1
}

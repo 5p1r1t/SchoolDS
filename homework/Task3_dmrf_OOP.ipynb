{
 "cells": [
  {
   "cell_type": "markdown",
   "source": [
    "[![Open In Colab](https://colab.research.google.com/assets/colab-badge.svg)](https://colab.research.google.com/github/ds-reboot/python-first-part/blob/main/notebooks/hometasks/Task3_dmrf_OOP.ipynb)"
   ],
   "metadata": {
    "collapsed": false
   }
  },
  {
   "cell_type": "markdown",
   "source": [
    "# Задание\n",
    "Реализовать с помощью объектно-ориентированного подхода предыдущие 2 задания. Создайте для каждой из задач отдельный класс, который позволяет ее решить.\n",
    "\n",
    "* Собрать информацию о всех строящихся объектах на сайте \"наш.дом.рф\"\n",
    "* Cохранить ее в pandas dataframe, а также в excel, pickle, БД\n",
    "\n",
    "* Проверить состояние датафрейма и привести его в формат, позволяющий дальнейшее исследование данных\n",
    "\n",
    "*  Сделать визуализацию для мини-исследования рынка строящейся недвижимости в одном или нескольких регионах с помощью pandas, matplotlib, seaborn, plotly и других инструментов.\n",
    "\n"
   ],
   "metadata": {
    "collapsed": false
   }
  },
  {
   "cell_type": "code",
   "execution_count": 12,
   "outputs": [],
   "source": [
    "import requests\n",
    "import pandas as pd\n",
    "from sqlalchemy import create_engine\n",
    "import plotly.express as px\n"
   ],
   "metadata": {
    "collapsed": false
   }
  },
  {
   "cell_type": "code",
   "execution_count": 11,
   "outputs": [
    {
     "name": "stdout",
     "output_type": "stream",
     "text": [
      "Collecting plotly\r\n",
      "  Using cached plotly-5.10.0-py2.py3-none-any.whl (15.2 MB)\r\n",
      "Collecting tenacity>=6.2.0\r\n",
      "  Downloading tenacity-8.1.0-py3-none-any.whl (23 kB)\r\n",
      "Installing collected packages: tenacity, plotly\r\n",
      "Successfully installed plotly-5.10.0 tenacity-8.1.0\r\n"
     ]
    }
   ],
   "source": [
    "# !pip install plotly"
   ],
   "metadata": {
    "collapsed": false
   }
  },
  {
   "cell_type": "markdown",
   "source": [
    "## Список объектов"
   ],
   "metadata": {
    "collapsed": false
   }
  },
  {
   "cell_type": "code",
   "execution_count": 13,
   "outputs": [],
   "source": [
    "offset_ = 1\n",
    "limit_ = 1000\n",
    "url = f'https://xn--80az8a.xn--d1aqf.xn--p1ai/%D1%81%D0%B5%D1%80%D0%B2%D0%B8%D1%81%D1%8B/api/kn/object?offset={offset_}&limit={limit_}&sortField=devId.devShortCleanNm&sortType=asc&objStatus=0'\n",
    "res = requests.get(url)\n",
    "objects_data = res.json()"
   ],
   "metadata": {
    "collapsed": false
   }
  },
  {
   "cell_type": "markdown",
   "source": [
    "# Данные по определенному объекту"
   ],
   "metadata": {
    "collapsed": false
   }
  },
  {
   "cell_type": "code",
   "execution_count": 14,
   "outputs": [],
   "source": [
    "url = f'https://xn--80az8a.xn--d1aqf.xn--p1ai/%D1%81%D0%B5%D1%80%D0%B2%D0%B8%D1%81%D1%8B/api/object/36774'"
   ],
   "metadata": {
    "collapsed": false
   }
  },
  {
   "cell_type": "code",
   "execution_count": 15,
   "outputs": [],
   "source": [
    "class DomIdLoader:\n",
    "    def __init__(self, offset = 1, limit = 1000):\n",
    "        self.offset_ = offset\n",
    "        self.limit_ = limit\n",
    "        self.url = 'https://xn--80az8a.xn--d1aqf.xn--p1ai/%D1%81%D0%B5%D1%80%D0%B2%D0%B8%D1%81%D1%8B/api/kn/object'\n",
    "        self.objects_data = None\n",
    "        self.objids = []\n",
    "\n",
    "    def get_ids(self):\n",
    "        #for i in range(10)\n",
    "        paramz = {\n",
    "            'offset': self.offset_,\n",
    "            'limit': self.limit_,\n",
    "            'sortField':'devId.devShortCleanNm',\n",
    "            'sortType':'asc',\n",
    "            'objStatus':'0',\n",
    "        }\n",
    "        res = requests.get(self.url, params=paramz)\n",
    "        self.objects_data = res.json()\n",
    "        objects_list = self.objects_data.get('data').get('list')\n",
    "        self.objids += [x.get('objId') for x in objects_list]\n",
    "        return self.objids\n",
    "    def show_ids(self):\n",
    "        print(self.objids)\n"
   ],
   "metadata": {
    "collapsed": false
   }
  },
  {
   "cell_type": "code",
   "execution_count": 16,
   "outputs": [],
   "source": [
    "class ObjectInfoExtractor:\n",
    "    def __init__(self, ids):\n",
    "        self.object_data = None\n",
    "        self.ids = ids\n",
    "        self.df = None\n",
    "\n",
    "    def load_data(self):\n",
    "        self.object_data = [requests.get(f'https://наш.дом.рф/сервисы/api/object/{x}').json().get('data') for x in self.ids]\n",
    "\n",
    "    def df_converter(self):\n",
    "        self.df = pd.json_normalize(self.object_data)\n",
    "    def show_df(self):\n",
    "        print(self.df)\n",
    "    def df(self):\n",
    "        return self.df"
   ],
   "metadata": {
    "collapsed": false
   }
  },
  {
   "cell_type": "code",
   "execution_count": 17,
   "outputs": [],
   "source": [
    "class Saver:\n",
    "    def __init__(self, data, name = \"Task3\"):\n",
    "        self.data = data\n",
    "        self.name = name\n",
    "\n",
    "    def save_csv(self):\n",
    "        self.data.to_csv(self.name + \".csv\")\n",
    "\n",
    "    def save_xl(self):\n",
    "        self.data.to_excel(self.name + \".xlsx\")\n",
    "\n",
    "    def save_sql(self, connection, table_name = 'objects'):\n",
    "        self.data.to_sql(table_name, con=connection)\n",
    "\n",
    "class Visualizer:\n",
    "    def __init__(self, data):\n",
    "        self.data = data\n",
    "\n",
    "    def make_boxplot(self):\n",
    "        fig = px.box(self.data)\n",
    "        fig.show()\n",
    "\n",
    "    def make_heatmap(self, name_x, name_y):\n",
    "        fig = px.density_heatmap(self.data, x=name_x, y=name_y, marginal_x=\"histogram\", marginal_y=\"histogram\")\n",
    "        fig.show()"
   ],
   "metadata": {
    "collapsed": false
   }
  },
  {
   "cell_type": "code",
   "execution_count": 18,
   "outputs": [
    {
     "name": "stdout",
     "output_type": "stream",
     "text": [
      "[13383, 13397, 13399, 13398, 13391, 36912, 44076, 27476, 10891, 39176, 39174, 39175, 27049, 41421, 41420, 30292, 19457, 18708, 18709, 21534, 21536, 21535, 21537, 42192, 27542, 20524, 24093, 23862, 27806, 27808, 27801, 23864, 27802, 23863, 27803, 27798, 21720, 45249, 33899, 17712, 17707, 33745, 44621, 47610, 46571, 44489, 15885, 15886, 15888, 15889, 15891, 15890, 35324, 41620, 41615, 41613, 41617, 41614, 45256, 41618, 41616, 41612, 24819, 24818, 41621, 41619, 45772, 18136, 44752, 37465, 33525, 3148, 33217, 33224, 33161, 33139, 33186, 33206, 33175, 33230, 33183, 33167, 33152, 33172, 33188, 33165, 33227, 33177, 33101, 33174, 33210, 33173, 33197, 33201, 33200, 33098, 33187, 33237, 33166, 33184]\n"
     ]
    }
   ],
   "source": [
    "OurHouse = DomIdLoader(limit=100)\n",
    "OurHouse.get_ids()\n",
    "OurHouse.show_ids()"
   ],
   "metadata": {
    "collapsed": false
   }
  },
  {
   "cell_type": "code",
   "execution_count": 19,
   "outputs": [],
   "source": [
    "OurHouseDetail = ObjectInfoExtractor(OurHouse.get_ids())"
   ],
   "metadata": {
    "collapsed": false
   }
  },
  {
   "cell_type": "code",
   "execution_count": 20,
   "outputs": [],
   "source": [
    "OurHouseDetail.load_data()"
   ],
   "metadata": {
    "collapsed": false
   }
  },
  {
   "cell_type": "code",
   "execution_count": 21,
   "outputs": [],
   "source": [
    "OurHouseDetail.df_converter()"
   ],
   "metadata": {
    "collapsed": false
   }
  },
  {
   "cell_type": "code",
   "execution_count": 22,
   "outputs": [
    {
     "name": "stdout",
     "output_type": "stream",
     "text": [
      "        id   pdId  region                          address  floorMin  \\\n",
      "0    13383  28105      72                         г Тюмень         4   \n",
      "1    13397  28141      72  г Тюмень, ул Профсоюзная, д. 56         6   \n",
      "2    13399  28141      72  г Тюмень, ул Профсоюзная, д. 56         1   \n",
      "3    13398  28141      72  г Тюмень, ул Профсоюзная, д. 56         7   \n",
      "4    13391  28101      72         г Тюмень, ул Профсоюзная         3   \n",
      "..     ...    ...     ...                              ...       ...   \n",
      "195  33177  77853      77                 д Зверево, д. 83         3   \n",
      "196  33096  77853      77                  д Зверево, д. 2         3   \n",
      "197  33187  77853      77                 д Зверево, д. 93         3   \n",
      "198  33098  77853      77                  д Зверево, д. 4         3   \n",
      "199  33153  77853      77                 д Зверево, д. 59         3   \n",
      "\n",
      "     floorMax  objElemLivingCnt objReady100PercDt wallMaterialShortDesc  \\\n",
      "0          20                68        2022-12-31                Другое   \n",
      "1          12                65        2024-12-31                Другое   \n",
      "2           1                 0        2024-12-31                Другое   \n",
      "3          10                43        2024-12-31                Другое   \n",
      "4          12                44        2022-12-31                Другое   \n",
      "..        ...               ...               ...                   ...   \n",
      "195         3                99        2022-12-31                Другое   \n",
      "196         3                75        2023-09-30                Другое   \n",
      "197         3                24        2022-12-31                Другое   \n",
      "198         3                48        2022-12-31                Другое   \n",
      "199         3                23        2024-09-30                Другое   \n",
      "\n",
      "      objLkFinishTypeDesc  ... developer.bankruptStage.bankruptStageDesc  \\\n",
      "0    По желанию заказчика  ...                                       NaN   \n",
      "1             Без отделки  ...                                       NaN   \n",
      "2             Без отделки  ...                                       NaN   \n",
      "3             Без отделки  ...                                       NaN   \n",
      "4    По желанию заказчика  ...                                       NaN   \n",
      "..                    ...  ...                                       ...   \n",
      "195           Без отделки  ...                                       NaN   \n",
      "196           Без отделки  ...                                       NaN   \n",
      "197           Без отделки  ...                                       NaN   \n",
      "198           Без отделки  ...                                       NaN   \n",
      "199           Без отделки  ...                                       NaN   \n",
      "\n",
      "     developer.bankruptStage.bankruptLawUrl  developer.orgBankruptMsgDttm  \\\n",
      "0                                       NaN                           NaN   \n",
      "1                                       NaN                           NaN   \n",
      "2                                       NaN                           NaN   \n",
      "3                                       NaN                           NaN   \n",
      "4                                       NaN                           NaN   \n",
      "..                                      ...                           ...   \n",
      "195                                     NaN                           NaN   \n",
      "196                                     NaN                           NaN   \n",
      "197                                     NaN                           NaN   \n",
      "198                                     NaN                           NaN   \n",
      "199                                     NaN                           NaN   \n",
      "\n",
      "    metro.id metro.name metro.line metro.color metro.time  metro.isWalk  \\\n",
      "0        NaN        NaN        NaN         NaN        NaN           NaN   \n",
      "1        NaN        NaN        NaN         NaN        NaN           NaN   \n",
      "2        NaN        NaN        NaN         NaN        NaN           NaN   \n",
      "3        NaN        NaN        NaN         NaN        NaN           NaN   \n",
      "4        NaN        NaN        NaN         NaN        NaN           NaN   \n",
      "..       ...        ...        ...         ...        ...           ...   \n",
      "195      NaN        NaN        NaN         NaN        NaN           NaN   \n",
      "196      NaN        NaN        NaN         NaN        NaN           NaN   \n",
      "197      NaN        NaN        NaN         NaN        NaN           NaN   \n",
      "198      NaN        NaN        NaN         NaN        NaN           NaN   \n",
      "199      NaN        NaN        NaN         NaN        NaN           NaN   \n",
      "\n",
      "     metro.colors  \n",
      "0             NaN  \n",
      "1             NaN  \n",
      "2             NaN  \n",
      "3             NaN  \n",
      "4             NaN  \n",
      "..            ...  \n",
      "195           NaN  \n",
      "196           NaN  \n",
      "197           NaN  \n",
      "198           NaN  \n",
      "199           NaN  \n",
      "\n",
      "[200 rows x 109 columns]\n"
     ]
    }
   ],
   "source": [
    "OurHouseDetail.show_df()"
   ],
   "metadata": {
    "collapsed": false
   }
  },
  {
   "cell_type": "code",
   "execution_count": 23,
   "outputs": [],
   "source": [
    "S = Saver(OurHouseDetail.df)"
   ],
   "metadata": {
    "collapsed": false
   }
  },
  {
   "cell_type": "code",
   "execution_count": 24,
   "outputs": [],
   "source": [
    "S.save_csv()"
   ],
   "metadata": {
    "collapsed": false
   }
  },
  {
   "cell_type": "code",
   "execution_count": 25,
   "outputs": [],
   "source": [
    "S.save_xl()"
   ],
   "metadata": {
    "collapsed": false
   }
  },
  {
   "cell_type": "code",
   "execution_count": null,
   "outputs": [],
   "source": [
    "S.data.photoRenderDTO = S.data.photoRenderDTO.astype('string')\n",
    "S.data.photoRenderDTO"
   ],
   "metadata": {
    "collapsed": false,
    "pycharm": {
     "is_executing": true
    }
   }
  },
  {
   "cell_type": "code",
   "execution_count": null,
   "outputs": [],
   "source": [
    "S.data.objectTransportInfo = S.data.objectTransportInfo.astype('string')\n",
    "S.data.objectTransportInfo"
   ],
   "metadata": {
    "collapsed": false,
    "pycharm": {
     "is_executing": true
    }
   }
  },
  {
   "cell_type": "code",
   "execution_count": null,
   "outputs": [],
   "source": [
    "S.data[['metro.colors']] = S.data[['metro.colors']].astype('string')\n",
    "S.data[['metro.colors']]"
   ],
   "metadata": {
    "collapsed": false,
    "pycharm": {
     "is_executing": true
    }
   }
  },
  {
   "cell_type": "code",
   "execution_count": 29,
   "outputs": [
    {
     "data": {
      "text/plain": "[(0, 13383, 28105, 72, 'г Тюмень', 4, 20, 68, '2022-12-31', 'Другое', 'По желанию заказчика', 'Есть', 31, 6293.78, '72-000095', 'https://xn--80az8a.xn--d1aqf.xn--p1ai/api/ext/file/eac27d84-4621-443d-9608-623376b6bafe', '07-09-2022 15:16', '57.1519', '65.5536', 1, 0, 'Элитный', '04-10-2022 01:30', \"[{'objId': 13383, 'pdId': 28105, 'rpdId': 626936, 'devId': 306, 'ordNum': 1, 'objRenderPhotoSize': 1433738, 'objRenderPhotoUrl': 'https://xn--80az8a. ... (2823 characters truncated) ... enderPhotoNm': 'IMG_20210512_0951216.jpg', 'objReadyDesc': 'Строится', 'objBuildTypeShortDesc': 'Жилое', 'knFlg': 1, 'loadDttm': '04-10-2022 01:14'}]\", 0, 'normal', 'https://xn--80az8a.xn--d1aqf.xn--p1ai/api/ext/file/0dca6482-02ba-4d56-a861-7a17db04c957', 1, 39024, 20, 68, '6293.78', 10, 0, 1, '28-02-2023 12:00', '2,8', 0, 1.0, 1.0, 1.0, 0.0, 11.0, 1, 1, 0.0, 5.0, 1.0, 7, 0.407163898325013, 53109.0, 'ООО Транспромжилстрой-2005 (ИНН: 7204097730)', 1, '[]', 0, 'info@2mengroup.ru', 0, 'B', 10, 306, '2МЕН ГРУПП', '2МЕН ГРУПП', '2МЕН ГРУПП', 0, 5, 0, 'Тюменская область', '+7(345)279-18-88', '2mengroup.ru', 'info@2mengroup.ru', '7701651356', '1067746424899', '720301001', 'Тюменская область, город Тюмень, улица Комсомольская дом 75/5', 'Тюменская область, город Тюмень, улица Комсомольская 75/5', 632865, 1, 72, 'Киселев Сергей Михайлович', '2МЕН ГРУПП ДЕВЕЛОПМЕНТ', 1, 'Акционерное общество', 'АО', 5776.0, 0, 0, 13.0, 21.0, 34.0, 0.0, 68.0, 1.0, 6.0, None, None, None, None, None, None, None, None, None, None, None, None, None, None, None, None, None),\n (1, 13397, 28141, 72, 'г Тюмень, ул Профсоюзная, д. 56', 6, 12, 65, '2024-12-31', 'Другое', 'Без отделки', 'Нет', 0, 6248.51, '72-000097', 'https://xn--80az8a.xn--d1aqf.xn--p1ai/api/ext/file/55f1b383-f682-4365-9238-e4a27c343263', '07-09-2022 15:20', '57.1519', '65.5544', 0, 0, 'Элитный', '04-10-2022 01:30', \"[{'objId': 13397, 'pdId': 28141, 'rpdId': 632865, 'devId': 306, 'ordNum': 1, 'objRenderPhotoSize': 1495964, 'objRenderPhotoUrl': 'https://xn--80az8a. ... (1483 characters truncated) ... enderPhotoNm': 'IMG_20210512_0949152.jpg', 'objReadyDesc': 'Строится', 'objBuildTypeShortDesc': 'Жилое', 'knFlg': 1, 'loadDttm': '04-10-2022 01:14'}]\", 0, 'normal', 'https://xn--80az8a.xn--d1aqf.xn--p1ai/api/ext/file/cb641b0a-8580-4cbd-9f0c-1dca386bdb97', 1, 37201, 12, 65, '6248.51', 70, 0, 1, '28-02-2025 12:00', '2,96', 0, 1.0, 1.0, 1.0, 11.0, 10.0, 1, 1, 0.0, 5.0, 4.0, 9, 0.99998399618469, 45523.0, 'ООО Транспромжилстрой-2005 (ИНН: 7204097730)', 0, '[]', 0, 'info@2mengroup.ru', 0, 'B', 10, 306, '2МЕН ГРУПП', '2МЕН ГРУПП', '2МЕН ГРУПП', 0, 5, 0, 'Тюменская область', '+7(345)279-18-88', '2mengroup.ru', 'info@2mengroup.ru', '7701651356', '1067746424899', '720301001', 'Тюменская область, город Тюмень, улица Комсомольская дом 75/5', 'Тюменская область, город Тюмень, улица Комсомольская 75/5', 632865, 1, 72, 'Киселев Сергей Михайлович', '2МЕН ГРУПП ДЕВЕЛОПМЕНТ', 1, 'Акционерное общество', 'АО', 5776.0, 0, 0, 0.0, 24.0, 35.0, 6.0, 65.0, 4.0, 3.0, None, None, None, None, None, None, None, None, None, None, None, None, None, None, None, None, None),\n (2, 13399, 28141, 72, 'г Тюмень, ул Профсоюзная, д. 56', 1, 1, 0, '2024-12-31', 'Другое', 'Без отделки', 'Нет', 125, 0.0, '72-000097', 'https://xn--80az8a.xn--d1aqf.xn--p1ai/api/ext/file/55f1b383-f682-4365-9238-e4a27c343263', '07-09-2022 15:20', '57.1519', '65.5544', 0, 0, 'Элитный', '04-10-2022 01:30', \"[{'objId': 13399, 'pdId': 28141, 'rpdId': 632865, 'devId': 306, 'ordNum': 1, 'objRenderPhotoSize': 996519, 'objRenderPhotoUrl': 'https://xn--80az8a.x ... (148 characters truncated) ... nderPhotoNm': 'IMG_20210512_095117.jpg', 'objReadyDesc': 'Строится', 'objBuildTypeShortDesc': 'Нежилое', 'knFlg': 0, 'loadDttm': '04-10-2022 01:14'}]\", 0, 'normal', 'https://xn--80az8a.xn--d1aqf.xn--p1ai/api/ext/file/6c612978-9eec-4571-a24d-90c40b806c66', 0, 34754, 1, 0, '0.0', 0, 0, 1, '28-02-2025 12:00', None, 0, 0.0, 0.0, 1.0, 0.0, 0.0, 1, 1, 0.0, 8.0, 7.0, 15, 0.917242870424423, 50768.0, 'ООО Транспромжилстрой-2005 (ИНН: 7204097730)', 1, '[]', 0, 'info@2mengroup.ru', 0, 'B', 10, 306, '2МЕН ГРУПП', '2МЕН ГРУПП', '2МЕН ГРУПП', 0, 5, 0, 'Тюменская область', '+7(345)279-18-88', '2mengroup.ru', 'info@2mengroup.ru', '7701651356', '1067746424899', '720301001', 'Тюменская область, город Тюмень, улица Комсомольская дом 75/5', 'Тюменская область, город Тюмень, улица Комсомольская 75/5', 632865, 1, 72, 'Киселев Сергей Михайлович', '2МЕН ГРУПП ДЕВЕЛОПМЕНТ', 1, 'Акционерное общество', 'АО', 5776.0, 0, 0, None, None, None, None, None, None, None, None, None, None, None, None, None, None, None, None, None, None, None, None, None, None, None, None),\n (3, 13398, 28141, 72, 'г Тюмень, ул Профсоюзная, д. 56', 7, 10, 43, '2024-12-31', 'Другое', 'Без отделки', 'Нет', 0, 4812.98, '72-000097', 'https://xn--80az8a.xn--d1aqf.xn--p1ai/api/ext/file/55f1b383-f682-4365-9238-e4a27c343263', '07-09-2022 15:20', '57.1519', '65.5544', 0, 0, 'Элитный', '04-10-2022 01:30', \"[{'objId': 13398, 'pdId': 28141, 'rpdId': 632865, 'devId': 306, 'ordNum': 1, 'objRenderPhotoSize': 1325881, 'objRenderPhotoUrl': 'https://xn--80az8a. ... (1892 characters truncated) ... g': 0, 'objRenderPhotoNm': 'IMG_8924.JPG', 'objReadyDesc': 'Строится', 'objBuildTypeShortDesc': 'Жилое', 'knFlg': 1, 'loadDttm': '04-10-2022 01:14'}]\", 0, 'normal', 'https://xn--80az8a.xn--d1aqf.xn--p1ai/api/ext/file/ddfe3c88-edc4-4b78-b1b5-68f8ea2877fc', 1, 37165, 10, 43, '4812.98', 48, 0, 1, '28-02-2025 12:00', '2,96', 0, 1.0, 1.0, 1.0, 4.0, 15.0, 1, 1, 0.0, 3.0, 3.0, 6, 1.0, 47886.0, 'ООО Транспромжилстрой-2005 (ИНН: 7204097730)', 0, '[]', 0, 'info@2mengroup.ru', 0, 'B', 10, 306, '2МЕН ГРУПП', '2МЕН ГРУПП', '2МЕН ГРУПП', 0, 5, 0, 'Тюменская область', '+7(345)279-18-88', '2mengroup.ru', 'info@2mengroup.ru', '7701651356', '1067746424899', '720301001', 'Тюменская область, город Тюмень, улица Комсомольская дом 75/5', 'Тюменская область, город Тюмень, улица Комсомольская 75/5', 632865, 1, 72, 'Киселев Сергей Михайлович', '2МЕН ГРУПП ДЕВЕЛОПМЕНТ', 1, 'Акционерное общество', 'АО', 5776.0, 0, 0, 0.0, 11.0, 19.0, 13.0, 43.0, 3.0, 3.0, None, None, None, None, None, None, None, None, None, None, None, None, None, None, None, None, None),\n (4, 13391, 28101, 72, 'г Тюмень, ул Профсоюзная', 3, 12, 44, '2022-12-31', 'Другое', 'По желанию заказчика', 'Есть', 41, 4297.44, '72-000096', 'https://xn--80az8a.xn--d1aqf.xn--p1ai/api/ext/file/e83aa1fd-c1a8-49be-81e2-89c4f8368ffb', '07-09-2022 15:14', '57.1541', '65.5595', 1, 0, 'Элитный', '04-10-2022 01:30', \"[{'objId': 13391, 'pdId': 28101, 'rpdId': 632828, 'devId': 306, 'ordNum': 1, 'objRenderPhotoSize': 310482, 'objRenderPhotoUrl': 'https://xn--80az8a.x ... (4598 characters truncated) ... enderPhotoNm': 'IMG_20210512_0944249.jpg', 'objReadyDesc': 'Строится', 'objBuildTypeShortDesc': 'Жилое', 'knFlg': 1, 'loadDttm': '04-10-2022 01:14'}]\", 0, 'normal', 'https://xn--80az8a.xn--d1aqf.xn--p1ai/api/ext/file/09ff8156-bcbb-4033-a36a-dd45abd0b430', 1, 37219, 12, 44, '4297.44', 26, 0, 1, '28-02-2023 12:00', '2,8', 0, 1.0, 1.0, 1.0, 0.0, 9.0, 1, 1, 0.0, 2.0, 2.0, 6, 0.450621765516214, 55893.0, 'ООО Транспромжилстрой-2005 (ИНН: 7204097730)', 1, '[]', 0, 'info@2mengroup.ru', 0, 'B', 9, 306, '2МЕН ГРУПП', '2МЕН ГРУПП', '2МЕН ГРУПП', 0, 5, 0, 'Тюменская область', '+7(345)279-18-88', '2mengroup.ru', 'info@2mengroup.ru', '7701651356', '1067746424899', '720301001', 'Тюменская область, город Тюмень, улица Комсомольская дом 75/5', 'Тюменская область, город Тюмень, улица Комсомольская 75/5', 632865, 1, 72, 'Киселев Сергей Михайлович', '2МЕН ГРУПП ДЕВЕЛОПМЕНТ', 1, 'Акционерное общество', 'АО', 5776.0, 0, 0, 11.0, 16.0, 12.0, 5.0, 44.0, 2.0, 4.0, None, None, None, None, None, None, None, None, None, None, None, None, None, None, None, None, None),\n (5, 36912, 337586, 26, 'г Ставрополь, ул Шпаковская, Доваторцев, д. 107, 38, блок-секция БС-1, БС-2, БС-3', 2, 10, 104, '2022-12-31', 'Монолит-кирпич', 'Под чистовую', 'Нет', 42, 8295.2, '26-000567', 'https://xn--80az8a.xn--d1aqf.xn--p1ai/api/ext/file/9f5a959b-1740-4486-b4c3-10b06f5534f4', '05-09-2022 15:43', '45.02', '41.9346', 0, 0, 'Комфорт', '04-10-2022 01:30', \"[{'objId': 36912, 'pdId': 337586, 'rpdId': 631009, 'devId': 10296, 'ordNum': 1, 'objRenderPhotoSize': 3018925, 'objRenderPhotoUrl': 'https://xn--80az ... (645 characters truncated) ... ковская-107-доваторцев-38_page-00041.jpg', 'objReadyDesc': 'Строится', 'objBuildTypeShortDesc': 'Жилое', 'knFlg': 1, 'loadDttm': '04-10-2022 01:14'}]\", 1, 'normal', 'https://xn--80az8a.xn--d1aqf.xn--p1ai/api/ext/file/6f480f77-4ff9-4ed2-9a4f-7990e926d7bc', 1, 117248, 10, 104, '8295.2', 10, 0, 1, '31-12-2022 12:00', '2,85', 0, 1.0, 0.0, 1.0, 20.0, 0.0, 1, 1, 0.0, 3.0, 0.0, 0, 0.577948693220176, 61755.0, 'ООО Стройресурс (ИНН: 2634053119)', 1, '[]', 0, 'sz.stroyresurs@yandex.ru', 0, 'B', 8, 10296, 'CЗ СТРОЙРЕСУРС', 'CЗ СТРОЙРЕСУРС', 'CПЕЦИАЛИЗИРОВАННЫЙ ЗАСТРОЙЩИК СТРОЙРЕСУРС', 0, 1, 0, 'Ставропольский край', '+7(865)223-03-08', 'sz.stroyresurs126.ru', 'sz.stroyresurs@yandex.ru', '2634049923', '1022601933430', '263501001', 'Ставропольский край, г Ставрополь, пр-кт Кулакова дом 12Б офис 102', 'край Ставропольский, г Ставрополь, пр-кт Кулакова, д. 12Б, оф. 102', 631009, 0, 26, 'Пономаренко Светлана Федоровна', None, 4, 'Общество с ограниченной ответственностью', 'ООО', None, 1, 0, 16.0, 37.0, 43.0, 8.0, 104.0, 3.0, 4.0, None, None, None, None, None, None, None, None, None, None, None, None, None, None, None, None, None),\n (6, 44076, 275899, 52, 'г Нижний Новгород, район Автозаводский, ш Южное, д. 43, литера А', 6, 6, 0, '2022-09-30', 'Монолит-кирпич', 'Без отделки', 'Есть', 0, 0.0, '52-000758', 'https://xn--80az8a.xn--d1aqf.xn--p1ai/api/ext/file/56f5d326-8248-4a20-9827-003a13ac83d5', '09-09-2022 13:22', '56.2302', '43.8707', 0, 0, 'Бизнес', '04-10-2022 01:30', \"[{'objId': 44076, 'pdId': 275899, 'rpdId': 619811, 'devId': 9115, 'ordNum': 1, 'objRenderPhotoSize': 447631, 'objRenderPhotoUrl': 'https://xn--80az8a ... (4520 characters truncated) ...  0, 'objRenderPhotoNm': 'IMG_02345.JPG', 'objReadyDesc': 'Строится', 'objBuildTypeShortDesc': 'Нежилое', 'knFlg': 0, 'loadDttm': '04-10-2022 01:14'}]\", 1, 'normal', 'https://xn--80az8a.xn--d1aqf.xn--p1ai/api/ext/file/98f4013a-34ed-4473-81a9-a7fa1687a391', 0, 124665, 6, 0, '0.0', 96, 0, 1, '30-09-2022 12:00', None, 0, 0.0, 0.0, 1.0, 25.0, 73.0, 1, 1, 0.0, 1.0, 2.0, 2, 0.125090474089098, 117136.0, 'ООО БорСтрой (ИНН: 5260373469)', 1, '[]', 0, 'company21vek@list.ru', 0, 'A', 9, 9115, 'XXI ВЕК СТРОЙ', 'XXI ВЕК СТРОЙ', 'XXI ВЕК СТРОЙ', 0, 1, 0, 'Нижегородская область', '+7(986)750-91-11', 'alatyr-tc.ru', 'company21vek@list.ru', '5256059676', '1065256031950', '525601001', 'Нижегородская область, город Нижний Новгород, улица Веденяпина дом 8А', 'Нижегородская область, город Нижний Новгород, улица Веденяпина 8А', 619811, 0, 52, 'Гуряшин Дмитрий Александрович', None, 4, 'Общество с ограниченной ответственностью', 'ООО', None, 1, 0, None, None, None, None, None, None, None, '1 / 10', 1.0, None, None, None, None, None, None, None, None, None, None, None, None, None, None, None),\n (7, 27476, 94132, 77, 'п Коммунарка, д. 17, корпус 4', 15, 15, 99, '2022-09-30', 'Монолит-кирпич', 'Без отделки', 'Нет', 0, 5589.5, '77-001702', 'https://xn--80az8a.xn--d1aqf.xn--p1ai/api/ext/file/9faf3bc3-65a5-460e-9113-8125f4ff9f38', '12-09-2022 20:14', '55.5632', '37.5025', 0, 0, 'Комфорт', '04-10-2022 01:30', \"[{'objId': 27476, 'pdId': 94132, 'rpdId': 636044, 'devId': 664, 'ordNum': 1, 'objRenderPhotoSize': 6812422, 'objRenderPhotoUrl': 'https://xn--80az8a. ... (144 characters truncated) ... objRenderPhotoNm': 'cam_01_bld_17_v3.jpg', 'objReadyDesc': 'Строится', 'objBuildTypeShortDesc': 'Жилое', 'knFlg': 1, 'loadDttm': '04-10-2022 01:14'}]\", 1, 'normal', 'https://xn--80az8a.xn--d1aqf.xn--p1ai/api/ext/file/e8881af0-881e-44e6-be5e-8cf40f910d21', 1, 24746, 15, 99, '5589.5', 25, 0, 1, '30-09-2022 12:00', '2,99', 0, 1.0, 1.0, 1.0, 12.0, 0.0, 0, 0, 0.0, 1.0, 1.0, 3, 0.900456212541372, 203155.0, 'АО Управление по строительству №111 (ИНН: 7729380970)', 1, '[]', 0, 'info@a101.ru', 0, 'C', 7, 664, 'А101', 'А101', 'А101', 0, 1, 49, 'Москва город', '+7(495)221-40-21', 'www.a101.ru', 'info@a101.ru', '7704810149', '1127746474349', '775101001', 'п Коммунарка, улица Фитарёвская дом 14 строение 1', 'г Город Москва, п Сосенское, п Коммунарка, ул Фитарёвская д. 14 стр. 1', 636044, 0, 77, 'Данилиди Игнатий Сергеевич', 'А101 ДЕВЕЛОПМЕНТ', 4, 'Общество с ограниченной ответственностью', 'ООО', 5863.0, 1, 0, 33.0, 47.0, 16.0, 3.0, 99.0, 1.0, 8.0, '2 / 10', 2.0, 'Скандинавия', 5.0, 6.0, None, None, None, None, None, None, None, None, None, None, None, None),\n (8, 10891, 23054, 35, 'г Вологда, ул Медуницинская, д. 7', 16, 16, 225, '2023-03-31', 'Панель', 'Без отделки', 'Есть', 0, 12847.23, '35-000069', 'https://xn--80az8a.xn--d1aqf.xn--p1ai/api/ext/file/457b9320-307c-47df-8362-c190191627e6', '29-09-2022 14:22', '59.1985', '39.858', 1, 0, 'Комфорт', '04-10-2022 01:30', \"[{'objId': 10891, 'pdId': 23054, 'rpdId': 638620, 'devId': 3006, 'ordNum': 1, 'objRenderPhotoSize': 997430, 'objRenderPhotoUrl': 'https://xn--80az8a. ... (150 characters truncated) ... derPhotoNm': 'дом № 1 по гп_исходник.jpg', 'objReadyDesc': 'Строится', 'objBuildTypeShortDesc': 'Жилое', 'knFlg': 1, 'loadDttm': '04-10-2022 01:14'}]\", 0, 'normal', 'https://xn--80az8a.xn--d1aqf.xn--p1ai/api/ext/file/b351ac01-a6d6-4f2b-9b86-8d45152245da', 1, 6541, 16, 225, '12847.23', 3, 0, 1, '01-09-2023 12:00', '2,7 - 3', 0, 1.0, 1.0, 1.0, 0.0, 0.0, 0, 1, 0.0, 3.0, 0.0, 3, 0.896732603059181, 44102.0, None, 0, '[]', 0, 'vologdaagrostroy@yandex.ru', 0, 'D', 9, 3006, 'ААК ВОЛОГДААГРОСТРОЙ', 'ААК ВОЛОГДААГРОСТРОЙ', 'АКЦИОНЕРНАЯ АГРОСТРОИТЕЛЬНАЯ КОМПАНИЯВОЛОГДААГРОСТРОЙ', 0, 1, 5, 'Волгоградская область', '+7(817)274-79-00', 'vologdaagrostroy.ru', 'vologdaagrostroy@yandex.ru', '3525000888', '1023500886386', '352501001', 'Волгоградская область, г Вологда, улица Галкинская дом 24', 'обл Вологодская, г Вологда, улица Галкинская, д. 24', 638620, 1, 34, 'Корытин Владимир Николаевич', 'ВологдаАгрострой', 1, 'Акционерное общество', 'АО', 7368.0, 0, 0, 82.0, 101.0, 41.0, 1.0, 225.0, 3.0, 5.0, None, None, 'Жилой комплекс \"Рафинад\"', None, None, None, None, None, None, None, None, None, None, None, None, None, None),\n (9, 39176, 435352, 23, 'г Краснодар, улица Валерия Гассия, д. 4/7, литера 4', 25, 25, 198, '2024-09-30', 'Другое', 'По желанию заказчика', 'Нет', 0, 11535.6, '23-002272', 'https://xn--80az8a.xn--d1aqf.xn--p1ai/api/ext/file/3c0cb3b8-a334-4afa-8828-aefac2368524', '29-09-2022 10:29', '44.9864', '39.0701', 0, 0, 'Комфорт', '04-10-2022 01:30', \"[{'objId': 39176, 'pdId': 435352, 'rpdId': 638551, 'devId': 1146, 'ordNum': 1, 'objRenderPhotoSize': 800434, 'objRenderPhotoUrl': 'https://xn--80az8a ... (6441 characters truncated) ... nderPhotoNm': 'RBN_Fresh_-_final0114.jpg', 'objReadyDesc': 'Строится', 'objBuildTypeShortDesc': 'Жилое', 'knFlg': 1, 'loadDttm': '04-10-2022 01:14'}]\", 1, 'normal', 'https://xn--80az8a.xn--d1aqf.xn--p1ai/api/ext/file/1aea079a-b886-4072-a9a1-0d158c25b30e', 1, 119604, 25, 198, '11535.6', 20, 0, 1, '31-03-2025 12:00', '2,72', 0, 5.0, 5.0, 3.0, 106.0, 0.0, 1, 1, 5.0, 3.0, 0.0, 1, 0.287657339020077, 91456.0, 'ООО ГРАНТ СТРОЙ (ИНН: 2312246941)', 1, '[]', 1, 'info@ask-yug.com', 0, 'B', 5, 1146, 'АВА ДЕВЕЛОПМЕНТ ПЛЮС', 'АВА ДЕВЕЛОПМЕНТ ПЛЮС', 'АВА ДЕВЕЛОПМЕНТ ПЛЮС', 0, 3, 1, 'Краснодарский край', '+7(800)222-10-10', 'www.ask-yug.com', 'elreg@ask-yug.com', '2312266578', '1172375095661', '231201001', 'Краснодарский край, город Краснодар, улица Бородинская дом 14 помещение 318', 'край Краснодарский город Краснодар улица Бородинская д. 14', 638551, 0, 23, 'Самойленко Сергей Анатольевич', 'AVA Group', 4, 'Общество с ограниченной ответственностью', 'ООО', 6695.0, 1, 0, 132.0, 44.0, 22.0, 0.0, 198.0, 1.0, 9.0, None, None, 'ЖК \"FRESH\" (ЖК \"ФРЕШ\" литер 4)', None, None, None, None, None, None, None, None, None, None, None, None, None, None),\n (10, 39174, 435350, 23, 'г Краснодар, улица Валерия Гассия, д. 4/7, литера 2', 25, 25, 616, '2022-09-30', 'Другое', 'По желанию заказчика', 'Нет', 0, 33958.0, '23-002270', 'https://xn--80az8a.xn--d1aqf.xn--p1ai/api/ext/file/3c9d3d0c-becf-4117-b8da-711b72329344', '03-10-2022 11:57', '44.9861', '39.0698', 0, 0, 'Комфорт', '04-10-2022 01:30', \"[{'objId': 39174, 'pdId': 435350, 'rpdId': 638543, 'devId': 1146, 'ordNum': 1, 'objRenderPhotoSize': 679640, 'objRenderPhotoUrl': 'https://xn--80az8a ... (6441 characters truncated) ... otoNm': 'RBN_Fresh_-_final10_extra14.jpg', 'objReadyDesc': 'Строится', 'objBuildTypeShortDesc': 'Жилое', 'knFlg': 1, 'loadDttm': '04-10-2022 01:14'}]\", 1, 'normal', 'https://xn--80az8a.xn--d1aqf.xn--p1ai/api/ext/file/0e772566-6a0c-4556-a0a9-e545bff8a8a9', 1, 119602, 25, 616, '33958.0', 46, 0, 1, '30-03-2023 12:00', '2,72', 0, 5.0, 5.0, 3.0, 106.0, 0.0, 1, 1, 8.0, 9.0, 0.0, 3, 0.58333824135697, 99388.0, 'ООО ГРАНТ СТРОЙ (ИНН: 2312246941)', 1, '[]', 1, 'info@ask-yug.com', 0, 'B', 5, 1146, 'АВА ДЕВЕЛОПМЕНТ ПЛЮС', 'АВА ДЕВЕЛОПМЕНТ ПЛЮС', 'АВА ДЕВЕЛОПМЕНТ ПЛЮС', 0, 3, 1, 'Краснодарский край', '+7(800)222-10-10', 'www.ask-yug.com', 'elreg@ask-yug.com', '2312266578', '1172375095661', '231201001', 'Краснодарский край, город Краснодар, улица Бородинская дом 14 помещение 318', 'край Краснодарский город Краснодар улица Бородинская д. 14', 638551, 0, 23, 'Самойленко Сергей Анатольевич', 'AVA Group', 4, 'Общество с ограниченной ответственностью', 'ООО', 6695.0, 1, 0, 352.0, 176.0, 88.0, 0.0, 616.0, 3.0, 9.0, None, None, 'ЖК \"FRESH\" (ЖК \"ФРЕШ\" литер 2)', None, None, None, None, None, None, None, None, None, None, None, None, None, None),\n (11, 39175, 435351, 23, 'г Краснодар, улица Валерия Гассия, д. 4/7, литера 3', 25, 25, 396, '2023-06-30', 'Другое', 'По желанию заказчика', 'Нет', 0, 21932.8, '23-002271', 'https://xn--80az8a.xn--d1aqf.xn--p1ai/api/ext/file/39b27d39-5aba-432f-b5bb-869c0ca65089', '29-09-2022 10:26', '44.9862', '39.0702', 0, 0, 'Комфорт', '04-10-2022 01:30', \"[{'objId': 39175, 'pdId': 435351, 'rpdId': 638541, 'devId': 1146, 'ordNum': 1, 'objRenderPhotoSize': 800434, 'objRenderPhotoUrl': 'https://xn--80az8a ... (6441 characters truncated) ... nderPhotoNm': 'RBN_Fresh_-_final0114.jpg', 'objReadyDesc': 'Строится', 'objBuildTypeShortDesc': 'Жилое', 'knFlg': 1, 'loadDttm': '04-10-2022 01:14'}]\", 1, 'normal', 'https://xn--80az8a.xn--d1aqf.xn--p1ai/api/ext/file/96bbf42e-cb84-446a-9301-389f2b149470', 1, 119603, 25, 396, '21932.8', 30, 0, 1, '31-12-2023 12:00', '2,72', 0, 5.0, 5.0, 3.0, 106.0, 0.0, 1, 1, 8.0, 6.0, 0.0, 2, 0.276430733878027, 85542.0, 'ООО ГРАНТ СТРОЙ (ИНН: 2312246941)', 1, '[]', 1, 'info@ask-yug.com', 0, 'B', 5, 1146, 'АВА ДЕВЕЛОПМЕНТ ПЛЮС', 'АВА ДЕВЕЛОПМЕНТ ПЛЮС', 'АВА ДЕВЕЛОПМЕНТ ПЛЮС', 0, 3, 1, 'Краснодарский край', '+7(800)222-10-10', 'www.ask-yug.com', 'elreg@ask-yug.com', '2312266578', '1172375095661', '231201001', 'Краснодарский край, город Краснодар, улица Бородинская дом 14 помещение 318', 'край Краснодарский город Краснодар улица Бородинская д. 14', 638551, 0, 23, 'Самойленко Сергей Анатольевич', 'AVA Group', 4, 'Общество с ограниченной ответственностью', 'ООО', 6695.0, 1, 0, 220.0, 132.0, 44.0, 0.0, 396.0, 2.0, 9.0, None, None, 'ЖК \"FRESH\" (ЖК \"ФРЕШ\" литер 3)', None, None, None, None, None, None, None, None, None, None, None, None, None, None),\n (12, 27049, 89041, 23, 'город Краснодар, улица Уральская, д. 75/6', 3, 16, 0, '2022-12-31', 'Монолит-кирпич', 'Другое', 'Нет', 66, 0.0, '23-001413', 'https://xn--80az8a.xn--d1aqf.xn--p1ai/api/ext/file/877439a3-2e63-4c04-b78c-c8ff87415311', '02-09-2022 14:58', '45.0325', '39.0453', 0, 0, 'Бизнес', '04-10-2022 01:30', \"[{'objId': 27049, 'pdId': 89041, 'rpdId': 630082, 'devId': 1142, 'ordNum': 1, 'objRenderPhotoSize': 348637, 'objRenderPhotoUrl': 'https://xn--80az8a. ... (2317 characters truncated) ... : 0, 'objRenderPhotoNm': 'apart065.jpg', 'objReadyDesc': 'Строится', 'objBuildTypeShortDesc': 'Нежилое', 'knFlg': 0, 'loadDttm': '04-10-2022 01:14'}]\", 1, 'normal', 'https://xn--80az8a.xn--d1aqf.xn--p1ai/api/ext/file/3ad353ce-8f5a-431e-89ec-8a2929fabb33', 0, 25558, 16, 0, '0.0', 684, 0, 1, '31-12-2022 12:00', None, 0, 0.0, 0.0, 1.0, 79.0, 0.0, 1, 1, 2.0, 5.0, 0.0, 4, 0.220905777368134, 142498.0, 'ООО Грант Строй (ИНН: 2312246941)', 1, '[]', 0, 'elreg@ask-yug.com', 0, 'B', 8, 1142, 'АВА-ДЕВЕЛОПМЕНТ', 'АВА-ДЕВЕЛОПМЕНТ', 'АВА-ДЕВЕЛОПМЕНТ', 0, 1, 0, 'Краснодарский край', '+7(800)222-10-10', 'WWW.ASK-YUG.COM', 'elreg@ask-yug.com', '2312247222', '1162375024558', '231201001', 'Краснодарский край, город Краснодар, улица Уральская дом 75/1 корпус Б литера Б офис 8', 'край Краснодарский город Краснодар Улица Уральская д. 75/1 кор. Б', 630082, 0, 23, 'Самойленко Сергей Анатольевич', 'AVA Group', 4, 'Общество с ограниченной ответственностью', 'ООО', 6695.0, 1, 0, None, None, None, None, None, None, None, None, None, 'Апарт-Отель The Grand Palace', None, None, None, None, None, None, None, None, None, None, None, None, None, None),\n (13, 41421, 474283, 54, 'г Новосибирск, пер Серебряный, строение 2', 4, 4, 8, '2022-12-31', 'Кирпич', 'Под чистовую', 'Есть', 0, 528.1, '54-001414', 'https://xn--80az8a.xn--d1aqf.xn--p1ai/api/ext/file/7a1373a3-77f8-4f12-bad9-4d2cfadf527f', '06-09-2022 06:43', '54.9029', '83.1141', 0, 0, 'Типовой', '04-10-2022 01:30', \"[{'objId': 41421, 'pdId': 474283, 'rpdId': 631232, 'devId': 3980, 'ordNum': 1, 'objRenderPhotoSize': 1777270, 'objRenderPhotoUrl': 'https://xn--80az8 ... (152 characters truncated) ... derPhotoNm': 'паспорт_объекта_свечки.png', 'objReadyDesc': 'Строится', 'objBuildTypeShortDesc': 'Жилое', 'knFlg': 1, 'loadDttm': '04-10-2022 01:14'}]\", 1, 'normal', 'https://xn--80az8a.xn--d1aqf.xn--p1ai/api/ext/file/957a6b8f-7d18-4e4b-bccf-6282a73405f8', 1, 121952, 4, 8, '528.1', 4, 0, 1, '29-03-2023 12:00', '2,75 - 3', 0, 0.0, 0.0, 1.0, 5.0, 0.0, 1, 1, 0.0, 0.0, 0.0, 0, 0.617667108502178, 75817.0, None, 0, '[]', 0, 'bl_nsk@mail.ru', 0, 'B', 1, 3980, 'АВАЛОН', 'АВАЛОН', 'АВАЛОН', 0, 2, 3, 'Новосибирская область', '+7(383)349-90-65', 'blagoveshenka.ru', 'bl_nsk@mail.ru', '5408001391', '1155476016376', '540801001', 'Новосибирская область, город Новосибирск, улица Благовещенская дом 48/1 офис 1', 'обл Новосибирская г Новосибирск ул Благовещенская д. 48/1', 631232, 0, 54, 'Медведев Роман Александрович', 'Дельта Девелопмент', 4, 'Общество с ограниченной ответственностью', 'ООО', 6230.0, 1, 0, 4.0, 4.0, 0.0, 0.0, 8.0, 1.0, 3.0, None, None, None, None, None, None, None, None, None, None, None, None, None, None, None, None, None),\n (14, 41420, 474283, 54, 'г Новосибирск, пер Серебряный, строение 1', 4, 4, 8, '2022-12-31', 'Кирпич', 'Под чистовую', 'Есть', 0, 528.1, '54-001414', 'https://xn--80az8a.xn--d1aqf.xn--p1ai/api/ext/file/7a1373a3-77f8-4f12-bad9-4d2cfadf527f', '06-09-2022 06:43', '54.9028', '83.1136', 0, 0, 'Типовой', '04-10-2022 01:30', \"[{'objId': 41420, 'pdId': 474283, 'rpdId': 631232, 'devId': 3980, 'ordNum': 1, 'objRenderPhotoSize': 1777270, 'objRenderPhotoUrl': 'https://xn--80az8 ... (152 characters truncated) ... derPhotoNm': 'паспорт_объекта_свечки.png', 'objReadyDesc': 'Строится', 'objBuildTypeShortDesc': 'Жилое', 'knFlg': 1, 'loadDttm': '04-10-2022 01:14'}]\", 1, 'normal', 'https://xn--80az8a.xn--d1aqf.xn--p1ai/api/ext/file/fd51678f-5e98-4c49-bcdc-09032e040583', 1, 121953, 4, 8, '528.1', 4, 0, 1, '29-03-2023 12:00', '2,75 - 3', 0, 0.0, 0.0, 1.0, 5.0, 0.0, 1, 1, 0.0, 0.0, 0.0, 0, 0.617667108502178, 81058.0, None, 0, '[]', 0, 'bl_nsk@mail.ru', 0, 'B', 1, 3980, 'АВАЛОН', 'АВАЛОН', 'АВАЛОН', 0, 2, 3, 'Новосибирская область', '+7(383)349-90-65', 'blagoveshenka.ru', 'bl_nsk@mail.ru', '5408001391', '1155476016376', '540801001', 'Новосибирская область, город Новосибирск, улица Благовещенская дом 48/1 офис 1', 'обл Новосибирская г Новосибирск ул Благовещенская д. 48/1', 631232, 0, 54, 'Медведев Роман Александрович', 'Дельта Девелопмент', 4, 'Общество с ограниченной ответственностью', 'ООО', 6230.0, 1, 0, 5.0, 3.0, 0.0, 0.0, 8.0, 1.0, 3.0, None, None, None, None, None, None, None, None, None, None, None, None, None, None, None, None, None),\n (15, 30292, 120396, 16, 'г Казань, район Приволжский, улица Карбышева, д. 12А', 26, 26, 372, '2023-03-31', 'Монолит-кирпич', 'Без отделки', 'Нет', 420, 29877.9, '16-000988', 'https://xn--80az8a.xn--d1aqf.xn--p1ai/api/ext/file/ca0c2fbe-9fd4-4c56-a1dd-911a79ae1ee2', '05-09-2022 11:16', '55.7523', '49.1671', 0, 0, 'Типовой', '04-10-2022 01:30', \"[{'objId': 30292, 'pdId': 120396, 'rpdId': 630509, 'devId': 7699, 'ordNum': 1, 'objRenderPhotoSize': 544416, 'objRenderPhotoUrl': 'https://xn--80az8a ... (579 characters truncated) ... , 'objRenderPhotoNm': 'Безымянный_11.jpg', 'objReadyDesc': 'Строится', 'objBuildTypeShortDesc': 'Жилое', 'knFlg': 1, 'loadDttm': '04-10-2022 01:14'}]\", 1, 'normal', 'https://xn--80az8a.xn--d1aqf.xn--p1ai/api/ext/file/47142ed7-7e90-4d01-ab94-a826afde5f2d', 1, 115751, 26, 372, '29877.9', 9, 0, 1, '30-09-2023 12:00', '2,87 - 3,28', 0, 3.0, 2.0, 2.0, 0.0, 0.0, 1, 1, 1.0, 3.0, 8.0, 19, 0.630560046054107, 108093.0, 'ООО Спектр (ИНН: 1215208900)', 1, '[]', 1, 'avaloncity@mail.ru', 0, 'B', 9, 7699, 'АВАЛОН СИТИ', 'АВАЛОН СИТИ', 'АВАЛОН СИТИ', 0, 1, 0, 'Татарстан Республика', '+7(905)315-00-82', 'www.spectr12.ru', 'avaloncity@mail.ru', '1655297266', '1141690051030', '166001001', 'Татарстан Республика, город Казань, улица Карбышева дом 50 офис 8', 'Респ Татарстан город Казань улица Карбышева д. 50 оф. 8', 630509, 0, 16, 'Бутаков Антон Николаевич', 'Спектр-М', 4, 'Общество с ограниченной ответственностью', 'ООО', 7451.0, 1, 0, 108.0, 108.0, 132.0, 24.0, 372.0, 3.0, 6.0, '5 / 10', 5.0, None, None, None, None, None, None, None, None, None, None, None, None, None, None, None),\n (16, 19457, 46057, 47, 'г Сертолово, Микрорайон Сертолово-1, улица Ларина', 16, 17, 166, '2023-03-31', 'Монолит-кирпич', 'Без отделки', 'Нет', 96, 9944.7, '47-000258', 'https://xn--80az8a.xn--d1aqf.xn--p1ai/api/ext/file/e618acc4-c98f-4a49-84c3-d40af83de9e0', '03-10-2022 12:10', '60.1449', '30.2122', 0, 0, 'Комфорт', '04-10-2022 01:30', \"[{'objId': 19457, 'pdId': 46057, 'rpdId': 639141, 'devId': 1214, 'ordNum': 1, 'objRenderPhotoSize': 5449008, 'objRenderPhotoUrl': 'https://xn--80az8a ... (1093 characters truncated) ... асады_архитектуры_pages-to-jpg-00032.jpg', 'objReadyDesc': 'Строится', 'objBuildTypeShortDesc': 'Жилое', 'knFlg': 1, 'loadDttm': '04-10-2022 01:14'}]\", 0, 'normal', 'https://xn--80az8a.xn--d1aqf.xn--p1ai/api/ext/file/56f87e70-74de-4f19-a861-6c0c44b8c735', 1, 19566, 17, 166, '9944.7', 5, 0, 1, '31-03-2023 12:00', '2,75', 0, 1.0, 1.0, 0.0, 2.0, 10.0, 1, 1, 0.0, 3.0, 4.0, 8, 0.74878075758947, 61929.0, None, 1, '[]', 0, 'office@sertolovo-avenue.ru', 0, 'C', 7, 1214, 'АВЕНЮ', 'АВЕНЮ', 'АВЕНЮ', 0, 1, 0, 'Ленинградская область', '+7(812)403-09-90', 'www.sertolovo-avenue.ru', 'office@sertolovo-avenue.ru', '4703064735', '1154703000737', '470301001', 'Ленинградская область, город Сертолово (мкр. Сертолово-1), улица Индустриальная дом 11 корпус 1', 'обл Ленинградская Всеволожский город Сертолово мкр. Сертолово-1 улица Индустриальная 11  1', 639141, 0, 47, 'Луков Павел Сергеевич', 'СтройДом', 4, 'Общество с ограниченной ответственностью', 'ООО', 6617.0, 0, 0, 77.0, 51.0, 38.0, 0.0, 166.0, 3.0, 5.0, None, None, '\"Авеню\"', None, None, None, None, None, None, None, None, None, None, None, None, None, None),\n (17, 18708, 44330, 50, 'г Лыткарино, Микрорайон 6-й, корпус 4', 17, 17, 272, '2023-09-30', 'Монолит-кирпич', 'Без отделки', 'Есть', 0, 12057.8, '50-000877', 'https://xn--80az8a.xn--d1aqf.xn--p1ai/api/ext/file/c426e47b-10ee-4206-acc4-21dbfd65bef6', '09-09-2022 18:46', '55.5972', '37.8822', 1, 0, 'Комфорт', '04-10-2022 01:30', \"[{'objId': 18708, 'pdId': 44330, 'rpdId': 633104, 'devId': 3812, 'ordNum': 1, 'objRenderPhotoSize': 1992763, 'objRenderPhotoUrl': 'https://xn--80az8a ... (1449 characters truncated) ... enFlg': 0, 'objRenderPhotoNm': '0006.jpg', 'objReadyDesc': 'Строится', 'objBuildTypeShortDesc': 'Жилое', 'knFlg': 1, 'loadDttm': '04-10-2022 01:14'}]\", 0, 'normal', 'https://xn--80az8a.xn--d1aqf.xn--p1ai/api/ext/file/2e4340f4-ab5a-4547-bb42-b737ba56a123', 1, 36235, 17, 272, '12057.8', 161, 0, 1, '31-03-2024 12:00', '2,7', 0, 3.0, 1.0, 2.0, 0.0, 988.0, 1, 1, 0.0, 2.0, 0.0, 0, 0.409723996085521, 90390.0, None, 1, '[]', 0, 'ukms-project.ru@inbox.ru', 1, 'A++', 4, 3812, 'АВИГРАН', 'АВИГРАН', 'АВИГРАН', 0, 2, 2, 'Московская область', '+7(495)988-29-29', 'www.ukms-project.ru', 'ukms-project.ru@inbox.ru', '7722264703', '1027700111603', '770801001', 'Московская область, г Москва, пер Орликов дом 5 строение 1А, ЭТАЖ 1 комната 116', 'г Москва, пер Орликов, д. 5, стр. 1А, ЭТАЖ 1, ком. 116', 633104, 1, 50, 'Ларионов Алексей Сергеевич', 'АВИГРАН', 4, 'Общество с ограниченной ответственностью', 'ООО', 9119.0, 0, 0, 208.0, 0.0, 64.0, 0.0, 272.0, 1.0, 17.0, None, None, 'Жилой комплекс \"Новое Лыткарино\"', None, 6.0, 'ЖК Новое Лыткарино', None, None, None, None, None, None, None, None, None, None, None),\n (18, 18709, 44330, 50, 'г Лыткарино, Микрорайон 6-й, корпус 3', 18, 18, 272, '2023-09-30', 'Монолит-кирпич', 'Без отделки', 'Есть', 30, 12093.84, '50-000877', 'https://xn--80az8a.xn--d1aqf.xn--p1ai/api/ext/file/c426e47b-10ee-4206-acc4-21dbfd65bef6', '09-09-2022 18:46', '55.5974', '37.8831', 1, 0, 'Комфорт', '04-10-2022 01:30', \"[{'objId': 18709, 'pdId': 44330, 'rpdId': 633104, 'devId': 3812, 'ordNum': 1, 'objRenderPhotoSize': 2287751, 'objRenderPhotoUrl': 'https://xn--80az8a ... (1449 characters truncated) ... 0, 'objRenderPhotoNm': 'Вид со двора.jpg', 'objReadyDesc': 'Строится', 'objBuildTypeShortDesc': 'Жилое', 'knFlg': 1, 'loadDttm': '04-10-2022 01:14'}]\", 0, 'normal', 'https://xn--80az8a.xn--d1aqf.xn--p1ai/api/ext/file/100ff48e-b3b2-4e53-9afa-c181c291d434', 1, 26010, 18, 272, '12093.84', 182, 0, 1, '31-03-2024 12:00', '2,7', 0, 3.0, 1.0, 2.0, 0.0, 988.0, 1, 1, 2.0, 2.0, 0.0, 0, 0.638721034840878, 86340.0, None, 1, '[]', 0, 'ukms-project.ru@inbox.ru', 1, 'A++', 4, 3812, 'АВИГРАН', 'АВИГРАН', 'АВИГРАН', 0, 2, 2, 'Московская область', '+7(495)988-29-29', 'www.ukms-project.ru', 'ukms-project.ru@inbox.ru', '7722264703', '1027700111603', '770801001', 'Московская область, г Москва, пер Орликов дом 5 строение 1А, ЭТАЖ 1 комната 116', 'г Москва, пер Орликов, д. 5, стр. 1А, ЭТАЖ 1, ком. 116', 633104, 1, 50, 'Ларионов Алексей Сергеевич', 'АВИГРАН', 4, 'Общество с ограниченной ответственностью', 'ООО', 9119.0, 0, 0, 208.0, 0.0, 64.0, 0.0, 272.0, 1.0, 17.0, None, None, 'Жилой комплекс \"Новое Лыткарино\"', None, 6.0, 'ЖК Новое Лыткарино', None, None, None, None, None, None, None, None, None, None, None),\n (19, 21534, 54165, 71, 'г Тула, д. 18', 6, 6, 40, '2022-09-30', 'Монолит-кирпич', 'Под чистовую', 'Нет', 0, 2089.32, '71-000159', 'https://xn--80az8a.xn--d1aqf.xn--p1ai/api/ext/file/25496c29-1fc7-4db5-83f5-516504060a3f', '02-08-2022 12:33', '54.2536', '37.6838', 0, 0, 'Типовой', '04-10-2022 01:30', \"[{'objId': 21534, 'pdId': 54165, 'rpdId': 620424, 'devId': 2627, 'ordNum': 1, 'objRenderPhotoSize': 343145, 'objRenderPhotoUrl': 'https://xn--80az8a. ... (166 characters truncated) ... atsApp_Image_2021-11-29_at_15.32.17.jpeg', 'objReadyDesc': 'Строится', 'objBuildTypeShortDesc': 'Жилое', 'knFlg': 1, 'loadDttm': '04-10-2022 01:14'}]\", 0, 'normal', 'https://xn--80az8a.xn--d1aqf.xn--p1ai/api/ext/file/22192634-fd0b-4ec0-902a-bb984d4bc030', 1, 23320, 6, 40, '2089.32', 10, 0, 1, '30-09-2022 12:00', '2,66', 0, 2.0, 1.0, 2.0, 8.0, 0.0, 1, 1, 0.0, 2.0, 2.0, 4, 1.0, 58951.0, 'ООО \"Имена. Строительство\" (ИНН: 6685102259)', 1, '[]', 0, 'info@avrora-green.ru', 0, 'C', 2, 2627, 'АВРОРА-ГРИНН', 'АВРОРА-ГРИНН', 'АВРОРА-ГРИНН', 0, 4, 10, 'Тульская область', '+7(487)270-04-00', 'молодежный-тула.рф', 'info@avrora-green.ru', '7106023650', '1157154011486', '710601001', 'Тульская область, г Тула, ул Пушкинская дом 55 помещение I', 'обл Тульская, г Тула, ул Пушкинская, д. 55, пом. I', 620424, 0, 71, 'Бармина Елена Олеговна', 'АВРОРА Гринн', 4, 'Общество с ограниченной ответственностью', 'ООО', 6294.0, 0, 0, 16.0, 16.0, 8.0, 0.0, 40.0, 2.0, 5.0, None, None, '«Молодежный»', None, None, None, None, None, None, None, None, None, None, None, None, None, None),\n (20, 21536, 54165, 71, 'г Тула, д. 19', 6, 6, 35, '2022-09-30', 'Монолит-кирпич', 'Под чистовую', 'Нет', 0, 1784.1, '71-000159', 'https://xn--80az8a.xn--d1aqf.xn--p1ai/api/ext/file/25496c29-1fc7-4db5-83f5-516504060a3f', '02-08-2022 12:33', '54.2536', '37.6838', 0, 0, 'Типовой', '04-10-2022 01:30', \"[{'objId': 21536, 'pdId': 54165, 'rpdId': 620424, 'devId': 2627, 'ordNum': 1, 'objRenderPhotoSize': 371910, 'objRenderPhotoUrl': 'https://xn--80az8a. ... (166 characters truncated) ... atsApp_Image_2021-11-29_at_15.43.49.jpeg', 'objReadyDesc': 'Строится', 'objBuildTypeShortDesc': 'Жилое', 'knFlg': 1, 'loadDttm': '04-10-2022 01:14'}]\", 0, 'normal', 'https://xn--80az8a.xn--d1aqf.xn--p1ai/api/ext/file/7a3164c0-c17e-4846-8e8f-1aa3c260f3b5', 1, 23321, 6, 35, '1784.1', 0, 0, 1, '30-09-2022 12:00', '2,66', 0, 2.0, 1.0, 2.0, 8.0, 0.0, 1, 1, 0.0, 1.0, 1.0, 2, 1.0, 47030.0, 'ООО \"Имена. Строительство\" (ИНН: 6685102259)', 0, '[]', 0, 'info@avrora-green.ru', 0, 'C', 2, 2627, 'АВРОРА-ГРИНН', 'АВРОРА-ГРИНН', 'АВРОРА-ГРИНН', 0, 4, 10, 'Тульская область', '+7(487)270-04-00', 'молодежный-тула.рф', 'info@avrora-green.ru', '7106023650', '1157154011486', '710601001', 'Тульская область, г Тула, ул Пушкинская дом 55 помещение I', 'обл Тульская, г Тула, ул Пушкинская, д. 55, пом. I', 620424, 0, 71, 'Бармина Елена Олеговна', 'АВРОРА Гринн', 4, 'Общество с ограниченной ответственностью', 'ООО', 6294.0, 0, 0, 21.0, 9.0, 5.0, 0.0, 35.0, 1.0, 7.0, None, None, '«Молодежный»', None, None, None, None, None, None, None, None, None, None, None, None, None, None),\n (21, 21535, 54165, 71, 'г Тула, д. 20', 6, 6, 35, '2022-09-30', 'Монолит-кирпич', 'Под чистовую', 'Нет', 0, 1786.55, '71-000159', 'https://xn--80az8a.xn--d1aqf.xn--p1ai/api/ext/file/25496c29-1fc7-4db5-83f5-516504060a3f', '02-08-2022 12:33', '54.2536', '37.6838', 0, 0, 'Типовой', '04-10-2022 01:30', \"[{'objId': 21535, 'pdId': 54165, 'rpdId': 620424, 'devId': 2627, 'ordNum': 1, 'objRenderPhotoSize': 312352, 'objRenderPhotoUrl': 'https://xn--80az8a. ... (166 characters truncated) ... atsApp_Image_2021-11-29_at_15.59.19.jpeg', 'objReadyDesc': 'Строится', 'objBuildTypeShortDesc': 'Жилое', 'knFlg': 1, 'loadDttm': '04-10-2022 01:14'}]\", 0, 'normal', 'https://xn--80az8a.xn--d1aqf.xn--p1ai/api/ext/file/fb482b7e-5332-4aea-b96d-3987364e832c', 1, 23323, 6, 35, '1786.55', 0, 0, 1, '30-09-2022 12:00', '2,66', 0, 2.0, 1.0, 2.0, 8.0, 0.0, 1, 1, 0.0, 1.0, 1.0, 2, 1.0, 46167.0, 'ООО \"Имена. Строительство\" (ИНН: 6685102259)', 0, '[]', 0, 'info@avrora-green.ru', 0, 'C', 2, 2627, 'АВРОРА-ГРИНН', 'АВРОРА-ГРИНН', 'АВРОРА-ГРИНН', 0, 4, 10, 'Тульская область', '+7(487)270-04-00', 'молодежный-тула.рф', 'info@avrora-green.ru', '7106023650', '1157154011486', '710601001', 'Тульская область, г Тула, ул Пушкинская дом 55 помещение I', 'обл Тульская, г Тула, ул Пушкинская, д. 55, пом. I', 620424, 0, 71, 'Бармина Елена Олеговна', 'АВРОРА Гринн', 4, 'Общество с ограниченной ответственностью', 'ООО', 6294.0, 0, 0, 21.0, 9.0, 5.0, 0.0, 35.0, 1.0, 7.0, None, None, '«Молодежный»', None, None, None, None, None, None, None, None, None, None, None, None, None, None),\n (22, 21537, 54165, 71, 'г Тула, д. 21', 6, 6, 35, '2022-09-30', 'Монолит-кирпич', 'Под чистовую', 'Нет', 0, 1784.1, '71-000159', 'https://xn--80az8a.xn--d1aqf.xn--p1ai/api/ext/file/25496c29-1fc7-4db5-83f5-516504060a3f', '02-08-2022 12:33', '54.2536', '37.6838', 0, 0, 'Типовой', '04-10-2022 01:30', \"[{'objId': 21537, 'pdId': 54165, 'rpdId': 620424, 'devId': 2627, 'ordNum': 1, 'objRenderPhotoSize': 376420, 'objRenderPhotoUrl': 'https://xn--80az8a. ... (166 characters truncated) ... atsApp_Image_2021-11-29_at_15.37.12.jpeg', 'objReadyDesc': 'Строится', 'objBuildTypeShortDesc': 'Жилое', 'knFlg': 1, 'loadDttm': '04-10-2022 01:14'}]\", 0, 'normal', 'https://xn--80az8a.xn--d1aqf.xn--p1ai/api/ext/file/de72a2d9-0491-40bc-bcb5-ba15d1bd87f7', 1, 23324, 6, 35, '1784.1', 0, 0, 1, '30-09-2022 12:00', '2,66', 0, 2.0, 1.0, 2.0, 8.0, 0.0, 1, 1, 0.0, 1.0, 1.0, 2, 1.0, 47782.0, 'ООО \"Имена. Строительство\" (ИНН: 6685102259)', 0, '[]', 0, 'info@avrora-green.ru', 0, 'C', 2, 2627, 'АВРОРА-ГРИНН', 'АВРОРА-ГРИНН', 'АВРОРА-ГРИНН', 0, 4, 10, 'Тульская область', '+7(487)270-04-00', 'молодежный-тула.рф', 'info@avrora-green.ru', '7106023650', '1157154011486', '710601001', 'Тульская область, г Тула, ул Пушкинская дом 55 помещение I', 'обл Тульская, г Тула, ул Пушкинская, д. 55, пом. I', 620424, 0, 71, 'Бармина Елена Олеговна', 'АВРОРА Гринн', 4, 'Общество с ограниченной ответственностью', 'ООО', 6294.0, 0, 0, 21.0, 9.0, 5.0, 0.0, 35.0, 1.0, 7.0, None, None, '«Молодежный»', None, None, None, None, None, None, None, None, None, None, None, None, None, None),\n (23, 42192, 487215, 52, 'г Кстово, улица Сутырина', 1, 14, 168, '2022-12-31', 'Другое', 'Без отделки', 'Нет', 0, 7940.69, '52-000735', 'https://xn--80az8a.xn--d1aqf.xn--p1ai/api/ext/file/e9e61684-ea97-4aaa-a741-7353e877faad', '09-09-2022 13:33', '56.1448', '44.2024', 0, 0, 'Типовой', '04-10-2022 01:30', \"[{'objId': 42192, 'pdId': 487215, 'rpdId': 634081, 'devId': 12978, 'ordNum': 1, 'objRenderPhotoSize': 2799836, 'objRenderPhotoUrl': 'https://xn--80az ... (147 characters truncated) ... objRenderPhotoNm': 'Визуализация_(1).jpg', 'objReadyDesc': 'Строится', 'objBuildTypeShortDesc': 'Жилое', 'knFlg': 1, 'loadDttm': '04-10-2022 01:14'}]\", 1, 'normal', 'https://xn--80az8a.xn--d1aqf.xn--p1ai/api/ext/file/02bb5d85-33f8-4c30-985e-2fd160439307', 1, 122761, 14, 168, '7940.69', 2, 0, 1, '30-03-2023 12:00', '2,7 - 3,3', 0, 0.0, 0.0, 1.0, 16.0, 48.0, 1, 1, 0.0, 2.0, 0.0, 2, 0.753006350833492, 73251.0, 'ООО Строительная компания КоСа (ИНН: 2130174925)', 0, '[]', 1, 'AvtotexnikaNN@yandex.ru', 0, 'B', 8, 12978, 'АВТОТЕХНИКА', 'АВТОТЕХНИКА', 'АВТОТЕХНИКА', 0, 1, 0, 'Нижегородская область', '+7(950)627-17-82', 'www.наш.дом.рф', 'AvtotexnikaNN@yandex.ru', '5262128590', '1045207810889', '526001001', 'Нижегородская область, г Нижний Новгород, ул Костина дом 2 офис 89', 'обл Нижегородская, г Нижний Новгород, ул Костина, д. 2, оф. 89', 634081, 0, 52, 'Шливко Волф Александрович', None, 4, 'Общество с ограниченной ответственностью', 'ООО', None, 1, 0, 94.0, 65.0, 9.0, 0.0, 168.0, 2.0, 8.0, None, None, 'Жилой комплекс \"Андреевский\"', None, None, None, None, None, None, None, None, None, None, None, None, None, None),\n (24, 27542, 76150, 62, 'г Рязань, улица Горького', 4, 4, 32, '2023-09-30', 'Кирпич', 'Без отделки', 'Нет', 37, 2713.0, '62-000222', 'https://xn--80az8a.xn--d1aqf.xn--p1ai/api/ext/file/ec9781ae-dc16-4384-857d-b3efc2bfb516', '30-09-2022 16:39', '54.6212', '39.7502', 0, 0, 'Бизнес', '04-10-2022 01:30', \"[{'objId': 27542, 'pdId': 76150, 'rpdId': 638857, 'devId': 1846, 'ordNum': 1, 'objRenderPhotoSize': 70129, 'objRenderPhotoUrl': 'https://xn--80az8a.x ... (5830 characters truncated) ... : 0, 'objRenderPhotoNm': 'IMG_905511.JPG', 'objReadyDesc': 'Строится', 'objBuildTypeShortDesc': 'Жилое', 'knFlg': 1, 'loadDttm': '04-10-2022 01:14'}]\", 1, 'normal', 'https://xn--80az8a.xn--d1aqf.xn--p1ai/api/ext/file/66c15bf6-81fd-4dbc-8f42-fae209a60af8', 1, 17396, 4, 32, '2713.0', 40, 0, 1, '28-02-2024 12:00', '2,75 - 3', 0, 1.0, 0.0, 2.0, 4.0, 0.0, 1, 1, 0.0, 2.0, 0.0, 0, None, None, 'ООО \"ГРУППА КОМПАНИЙ \"РУССКИЙ ДОМ\" (ИНН: 6234020719)', 0, '[]', 0, 'gorod.ryazan@mail.ru', 1, 'A', 10, 1846, 'АДАМАНТ', 'АДАМАНТ', 'АДАМАНТ', 0, 1, 3, 'Рязанская область', '+7(491)224-01-50', 'adamant62.ru', 'gorod.ryazan@mail.ru', '6234100146', '1126234001520', '623401001', 'Рязанская область, город Рязань, улица Радищева дом 41 помещение Н2', 'обл Рязанская город Рязань ул Радищева д. 41 помещение Н2', 638857, 0, 62, 'Назаркин Кирилл Владимирович', 'Белый город', 4, 'Общество с ограниченной ответственностью', 'ООО', 6112.0, 1, 0, 0.0, 20.0, 12.0, 0.0, 32.0, 2.0, 6.0, None, None, 'Многоквартирный жилой дом с нежилыми помещениями', None, None, None, None, None, None, None, None, None, None, None, None, None, None),\n (25, 20524, 49581, 77, 'г Москва, улица Адмирала Макарова, корпус 6, вл. 6', 34, 34, 396, '2023-06-30', 'Другое', 'Без отделки', 'Есть', 0, 20225.0, '77-001165', 'https://xn--80az8a.xn--d1aqf.xn--p1ai/api/ext/file/54db16da-37dc-4100-bd8b-418dd426657a', '02-09-2022 14:54', '55.8367', '37.4918', 1, 0, 'Бизнес', '04-10-2022 01:30', \"[{'objId': 20524, 'pdId': 49581, 'rpdId': 630077, 'devId': 3952, 'ordNum': 1, 'objRenderPhotoSize': 3965259, 'objRenderPhotoUrl': 'https://xn--80az8a ... (144 characters truncated) ... 'objRenderPhotoNm': 'фото_Макарова_6.JPG', 'objReadyDesc': 'Строится', 'objBuildTypeShortDesc': 'Жилое', 'knFlg': 1, 'loadDttm': '04-10-2022 01:14'}]\", 0, 'normal', 'https://xn--80az8a.xn--d1aqf.xn--p1ai/api/ext/file/53685f13-2885-4c34-a587-fd8d547739dc', 1, 16650, 34, 396, '20225.0', 8, 0, 1, '27-05-2023 12:00', '3,1 - 3,65', 0, 1.0, 1.0, 3.0, 6.0, 0.0, 0, 1, 0.0, 2.0, 2.0, 2, 0.995045735475896, 207678.0, 'ООО \"КРОСТ-Д\" (ИНН: 7712101996)', 1, '[]', 0, 'info@krost.ru', 0, 'C', 8, 3952, 'АДМ', 'АДМ', 'АДМ', 0, 1, 1, 'Москва город', '+7(495)725-80-93', 'www.krost.net', 'info@krost.ru', '7734658614', '1117746465176', '774301001', 'город Москва, улица Выборгская дом 7 корпус 1 помещение А-2 Цокольный этаж', 'г Москва город Москва улица Выборгская д. 7 кор. 1 помещение А-2, Цокольный этаж', 630077, 1, 77, 'Кузин Иван Сергеевич', 'Концерн КРОСТ', 4, 'Общество с ограниченной ответственностью', 'ООО', 5659.0, 0, 0, 132.0, 132.0, 132.0, 0.0, 396.0, 1.0, 12.0, '6 / 10', 6.0, 'ЖК \"Невский\", корпус 6', 9.0, 6.0, None, None, None, None, None, None, None, None, None, None, None, None),\n (26, 24093, 66867, 57, 'г Орёл, улица Панчука, д. 83', 17, 17, 349, '2022-12-31', 'Монолит-кирпич', 'Под чистовую', 'Нет', 0, 20646.86, '57-000062', 'https://xn--80az8a.xn--d1aqf.xn--p1ai/api/ext/file/272b1f0c-d863-42ef-be68-01a8923c4c70', '30-11-2020 11:42', '52.9623', '36.049', 0, 0, 'Комфорт', '04-10-2022 01:30', \"[{'objId': 24093, 'pdId': 66867, 'rpdId': 396081, 'devId': 556, 'ordNum': 1, 'objRenderPhotoSize': 4361996, 'objRenderPhotoUrl': 'https://xn--80az8a. ... (139 characters truncated) ...  0, 'objRenderPhotoNm': '4-12_001_01.jpg', 'objReadyDesc': 'Строится', 'objBuildTypeShortDesc': 'Жилое', 'knFlg': 1, 'loadDttm': '04-10-2022 01:14'}]\", 1, 'normal', 'https://xn--80az8a.xn--d1aqf.xn--p1ai/api/ext/file/b46447c7-2747-400d-ad21-fe24f56b9736', 1, 9294, 17, 349, '20646.86', 6, 0, 1, None, None, 0, None, None, None, None, None, 0, 0, None, None, None, 0, 0.205653062983911, 31439.0, None, 0, '[]', 0, '544955@ipoteka.orl.ru', 0, 'A+', 9, 556, 'АИЖК ОРЛОВСКОЙ ОБЛАСТИ', 'АИЖК ОРЛОВСКОЙ ОБЛАСТИ', 'АГЕНТСТВО ИПОТЕЧНОГО ЖИЛИЩНОГО КРЕДИТОВАНИЯ ОРЛОВСКОЙ ОБЛАСТИ', 0, 1, 0, 'Орловская область', '+7(486)254-49-55', 'аижк-орел.рф', '544955@ipoteka.orl.ru', '5751030135', '1065742000070', '575101001', 'Орловская область, город Орёл, площадь Мира дом 7', 'Орловская область, город Орел, площадь Мира 7', 396081, 0, 57, 'Латышев Борис Викторович', None, 1, 'Акционерное общество', 'АО', None, 1, 0, 134.0, 148.0, 67.0, 0.0, 349.0, 3.0, 7.0, None, None, None, None, None, None, 7.0, 'Сообщение о судебном акте. О завершении конкурсного производства', 'http://www.consultant.ru/document/cons_doc_LAW_39331/d05a5b1e13f328cd0e4ac017f9fe9a132185bb8e/', '24-12-2021 09:16', None, None, None, None, None, None, None),\n (27, 23862, 43156, 54, 'с/с Барышевский, д. 56/148 (внутренний)', 3, 3, 6, '2024-03-31', 'Кирпич', 'Без отделки', 'Есть', 0, 787.2, '54-000693', 'https://xn--80az8a.xn--d1aqf.xn--p1ai/api/ext/file/9fb4277b-8b5f-4084-9d09-0600cc185e82', '18-04-2022 12:35', '54.8414', '83.1761', 0, 0, 'Типовой', '04-10-2022 01:30', \"[{'objId': 23862, 'pdId': 43156, 'rpdId': 583793, 'devId': 1297, 'ordNum': 1, 'objRenderPhotoSize': 14733, 'objRenderPhotoUrl': 'https://xn--80az8a.x ... (137 characters truncated) ... : 0, 'objRenderPhotoNm': 'Безымянный.jpg', 'objReadyDesc': 'Строится', 'objBuildTypeShortDesc': 'Жилое', 'knFlg': 1, 'loadDttm': '04-10-2022 01:14'}]\", 0, 'normal', 'https://xn--80az8a.xn--d1aqf.xn--p1ai/api/ext/file/80f7aa5c-cad8-43eb-8949-ac0a7effbbc4', 1, 42886, 3, 6, '787.2', 0, 0, 1, '25-02-2024 12:00', None, 0, 0.0, 0.0, 0.0, 0.0, 0.0, 0, 0, 0.0, 0.0, 0.0, 0, None, None, None, 0, '[]', 0, 'info@academpark.com', 0, 'B', 1, 1297, 'АКАДЕМПАРК', 'АКАДЕМПАРК', 'ТЕХНОПАРК НОВОСИБИРСКОГО АКАДЕМГОРОДКА', 0, 9, 76, 'Новосибирская область', '+7(383)344-93-13', 'academpark.com', 'info@academpark.com', '5408252116', '1075473006905', '540801001', 'Новосибирская область, город Новосибирск, улица Николаева дом 12 помещение этаж 12', 'Новосибирская область, город Новосибирск, улица Николаева 12, этаж 12', 583797, 1, 54, 'Верховод Дмитрий Бенидиктович', 'Технопарк Новосибирского Академгородка', 1, 'Акционерное общество', 'АО', 6767.0, 0, 0, None, None, None, None, None, None, None, None, None, 'Коттеджный поселок \"Горки Академпарка\"', None, None, 'Коттеджный поселок Горки Академпарка', None, None, None, None, None, None, None, None, None, None, None),\n (28, 27806, 98026, 54, 'с/с Барышевский', 3, 3, 12, '2022-12-31', 'Кирпич', 'Без отделки', 'Есть', 0, 896.1, '54-000833', 'https://xn--80az8a.xn--d1aqf.xn--p1ai/api/ext/file/9895b640-2855-4c08-bd2c-6eaed996cf01', '24-05-2022 11:59', '54.8414', '83.1788', 1, 0, 'Типовой', '04-10-2022 01:30', \"[{'objId': 27806, 'pdId': 98026, 'rpdId': 583797, 'devId': 1297, 'ordNum': 1, 'objRenderPhotoSize': 5797713, 'objRenderPhotoUrl': 'https://xn--80az8a ... (2021 characters truncated) ... 018_04_09_Горки_уч56_ПЗУ_Страница_44.jpg', 'objReadyDesc': 'Строится', 'objBuildTypeShortDesc': 'Жилое', 'knFlg': 1, 'loadDttm': '04-10-2022 01:14'}]\", 0, 'normal', 'https://xn--80az8a.xn--d1aqf.xn--p1ai/api/ext/file/a975b55c-a048-481e-a8b4-7d06e260c6e0', 1, 42896, 3, 12, '896.1', 0, 0, 1, '24-02-2024 12:00', '3', 0, 0.0, 0.0, 0.0, 0.0, 0.0, 0, 0, 0.0, 0.0, 0.0, 0, None, None, None, 0, '[]', 0, 'info@academpark.com', 0, 'B', 1, 1297, 'АКАДЕМПАРК', 'АКАДЕМПАРК', 'ТЕХНОПАРК НОВОСИБИРСКОГО АКАДЕМГОРОДКА', 0, 9, 76, 'Новосибирская область', '+7(383)344-93-13', 'academpark.com', 'info@academpark.com', '5408252116', '1075473006905', '540801001', 'Новосибирская область, город Новосибирск, улица Николаева дом 12 помещение этаж 12', 'Новосибирская область, город Новосибирск, улица Николаева 12, этаж 12', 583797, 1, 54, 'Верховод Дмитрий Бенидиктович', 'Технопарк Новосибирского Академгородка', 1, 'Акционерное общество', 'АО', 6767.0, 0, 0, 0.0, 6.0, 6.0, 0.0, 12.0, 2.0, 2.0, None, None, 'Коттеджный поселок \"Горки Академпарка\"', None, None, 'Коттеджный поселок Горки Академпарка', None, None, None, None, None, None, None, None, None, None, None),\n (29, 27808, 98026, 54, 'с/с Барышевский', 3, 3, 12, '2022-12-31', 'Кирпич', 'Без отделки', 'Есть', 0, 896.1, '54-000833', 'https://xn--80az8a.xn--d1aqf.xn--p1ai/api/ext/file/9895b640-2855-4c08-bd2c-6eaed996cf01', '24-05-2022 11:59', '54.8414', '83.1788', 1, 0, 'Типовой', '04-10-2022 01:30', \"[{'objId': 27808, 'pdId': 98026, 'rpdId': 583797, 'devId': 1297, 'ordNum': 1, 'objRenderPhotoSize': 3918862, 'objRenderPhotoUrl': 'https://xn--80az8a ... (2021 characters truncated) ... 018_04_09_Горки_уч56_ПЗУ_Страница_44.jpg', 'objReadyDesc': 'Строится', 'objBuildTypeShortDesc': 'Жилое', 'knFlg': 1, 'loadDttm': '04-10-2022 01:14'}]\", 0, 'normal', 'https://xn--80az8a.xn--d1aqf.xn--p1ai/api/ext/file/38967ff4-ff8f-4e47-9b23-f6a9c669fc79', 1, 42863, 3, 12, '896.1', 0, 0, 1, '24-02-2024 12:00', '3', 0, 0.0, 0.0, 0.0, 0.0, 0.0, 0, 0, 0.0, 0.0, 0.0, 0, None, None, None, 0, '[]', 0, 'info@academpark.com', 0, 'B', 1, 1297, 'АКАДЕМПАРК', 'АКАДЕМПАРК', 'ТЕХНОПАРК НОВОСИБИРСКОГО АКАДЕМГОРОДКА', 0, 9, 76, 'Новосибирская область', '+7(383)344-93-13', 'academpark.com', 'info@academpark.com', '5408252116', '1075473006905', '540801001', 'Новосибирская область, город Новосибирск, улица Николаева дом 12 помещение этаж 12', 'Новосибирская область, город Новосибирск, улица Николаева 12, этаж 12', 583797, 1, 54, 'Верховод Дмитрий Бенидиктович', 'Технопарк Новосибирского Академгородка', 1, 'Акционерное общество', 'АО', 6767.0, 0, 0, 0.0, 6.0, 6.0, 0.0, 12.0, 2.0, 2.0, None, None, 'Коттеджный поселок \"Горки Академпарка\"', None, None, 'Коттеджный поселок Горки Академпарка', None, None, None, None, None, None, None, None, None, None, None),\n (30, 27801, 98026, 54, 'с/с Барышевский', 3, 3, 12, '2024-03-31', 'Кирпич', 'Без отделки', 'Есть', 0, 889.2, '54-000833', 'https://xn--80az8a.xn--d1aqf.xn--p1ai/api/ext/file/9895b640-2855-4c08-bd2c-6eaed996cf01', '24-05-2022 11:59', '54.8464', '83.1788', 0, 0, 'Типовой', '04-10-2022 01:30', \"[{'objId': 27801, 'pdId': 98026, 'rpdId': 583797, 'devId': 1297, 'ordNum': 1, 'objRenderPhotoSize': 14733, 'objRenderPhotoUrl': 'https://xn--80az8a.x ... (137 characters truncated) ... : 0, 'objRenderPhotoNm': 'Безымянный.jpg', 'objReadyDesc': 'Строится', 'objBuildTypeShortDesc': 'Жилое', 'knFlg': 1, 'loadDttm': '04-10-2022 01:14'}]\", 0, 'normal', 'https://xn--80az8a.xn--d1aqf.xn--p1ai/api/ext/file/abcffc52-1ed0-4c1f-9bab-aea0e386585a', 1, 42895, 3, 12, '889.2', 0, 0, 1, '24-02-2024 12:00', '3', 0, 0.0, 0.0, 1.0, 0.0, 0.0, 0, 0, 0.0, 0.0, 0.0, 0, None, None, None, 0, '[]', 0, 'info@academpark.com', 0, 'B', 1, 1297, 'АКАДЕМПАРК', 'АКАДЕМПАРК', 'ТЕХНОПАРК НОВОСИБИРСКОГО АКАДЕМГОРОДКА', 0, 9, 76, 'Новосибирская область', '+7(383)344-93-13', 'academpark.com', 'info@academpark.com', '5408252116', '1075473006905', '540801001', 'Новосибирская область, город Новосибирск, улица Николаева дом 12 помещение этаж 12', 'Новосибирская область, город Новосибирск, улица Николаева 12, этаж 12', 583797, 1, 54, 'Верховод Дмитрий Бенидиктович', 'Технопарк Новосибирского Академгородка', 1, 'Акционерное общество', 'АО', 6767.0, 0, 0, 3.0, 3.0, 3.0, 3.0, 12.0, 2.0, 2.0, None, None, 'Коттеджный поселок \"Горки Академпарка\"', None, None, 'Коттеджный поселок Горки Академпарка', None, None, None, None, None, None, None, None, None, None, None),\n (31, 23864, 43156, 54, 'с/с Барышевский', 3, 3, 12, '2024-03-31', 'Кирпич', 'Без отделки', 'Есть', 0, 889.2, '54-000693', 'https://xn--80az8a.xn--d1aqf.xn--p1ai/api/ext/file/9fb4277b-8b5f-4084-9d09-0600cc185e82', '18-04-2022 12:35', '54.8414', '83.1788', 0, 0, 'Типовой', '04-10-2022 01:30', \"[{'objId': 23864, 'pdId': 43156, 'rpdId': 583793, 'devId': 1297, 'ordNum': 1, 'objRenderPhotoSize': 14733, 'objRenderPhotoUrl': 'https://xn--80az8a.x ... (137 characters truncated) ... : 0, 'objRenderPhotoNm': 'Безымянный.jpg', 'objReadyDesc': 'Строится', 'objBuildTypeShortDesc': 'Жилое', 'knFlg': 1, 'loadDttm': '04-10-2022 01:14'}]\", 0, 'normal', 'https://xn--80az8a.xn--d1aqf.xn--p1ai/api/ext/file/bf59ef1e-24c1-44ed-aba6-52a1cd1081f7', 1, 42900, 3, 12, '889.2', 0, 0, 1, '25-02-2024 12:00', None, 0, 0.0, 0.0, 0.0, 0.0, 0.0, 0, 0, 0.0, 0.0, 0.0, 0, None, None, None, 0, '[]', 0, 'info@academpark.com', 0, 'B', 1, 1297, 'АКАДЕМПАРК', 'АКАДЕМПАРК', 'ТЕХНОПАРК НОВОСИБИРСКОГО АКАДЕМГОРОДКА', 0, 9, 76, 'Новосибирская область', '+7(383)344-93-13', 'academpark.com', 'info@academpark.com', '5408252116', '1075473006905', '540801001', 'Новосибирская область, город Новосибирск, улица Николаева дом 12 помещение этаж 12', 'Новосибирская область, город Новосибирск, улица Николаева 12, этаж 12', 583797, 1, 54, 'Верховод Дмитрий Бенидиктович', 'Технопарк Новосибирского Академгородка', 1, 'Акционерное общество', 'АО', 6767.0, 0, 0, None, None, None, None, None, None, None, None, None, 'Коттеджный поселок \"Горки Академпарка\"', None, None, 'Коттеджный поселок Горки Академпарка', None, None, None, None, None, None, None, None, None, None, None),\n (32, 27802, 98026, 54, 'с/с Барышевский', 3, 3, 12, '2024-03-31', 'Кирпич', 'Без отделки', 'Есть', 0, 889.2, '54-000833', 'https://xn--80az8a.xn--d1aqf.xn--p1ai/api/ext/file/9895b640-2855-4c08-bd2c-6eaed996cf01', '24-05-2022 11:59', '54.8414', '83.1788', 0, 0, 'Типовой', '04-10-2022 01:30', \"[{'objId': 27802, 'pdId': 98026, 'rpdId': 583797, 'devId': 1297, 'ordNum': 1, 'objRenderPhotoSize': 14733, 'objRenderPhotoUrl': 'https://xn--80az8a.x ... (137 characters truncated) ... : 0, 'objRenderPhotoNm': 'Безымянный.jpg', 'objReadyDesc': 'Строится', 'objBuildTypeShortDesc': 'Жилое', 'knFlg': 1, 'loadDttm': '04-10-2022 01:14'}]\", 0, 'normal', 'https://xn--80az8a.xn--d1aqf.xn--p1ai/api/ext/file/e7200d03-5aaf-4142-bb02-ed56b5760a9a', 1, 42915, 3, 12, '889.2', 0, 0, 1, '24-02-2024 12:00', '3', 0, 0.0, 0.0, 0.0, 0.0, 0.0, 0, 0, 0.0, 0.0, 0.0, 0, None, None, None, 0, '[]', 0, 'info@academpark.com', 0, 'B', 1, 1297, 'АКАДЕМПАРК', 'АКАДЕМПАРК', 'ТЕХНОПАРК НОВОСИБИРСКОГО АКАДЕМГОРОДКА', 0, 9, 76, 'Новосибирская область', '+7(383)344-93-13', 'academpark.com', 'info@academpark.com', '5408252116', '1075473006905', '540801001', 'Новосибирская область, город Новосибирск, улица Николаева дом 12 помещение этаж 12', 'Новосибирская область, город Новосибирск, улица Николаева 12, этаж 12', 583797, 1, 54, 'Верховод Дмитрий Бенидиктович', 'Технопарк Новосибирского Академгородка', 1, 'Акционерное общество', 'АО', 6767.0, 0, 0, 3.0, 3.0, 3.0, 3.0, 12.0, 2.0, 2.0, None, None, 'Коттеджный поселок \"Горки Академпарка\"', None, None, 'Коттеджный поселок Горки Академпарка', None, None, None, None, None, None, None, None, None, None, None),\n (33, 23863, 43156, 54, 'с/с Барышевский', 3, 3, 12, '2024-03-31', 'Кирпич', 'Без отделки', 'Есть', 0, 889.2, '54-000693', 'https://xn--80az8a.xn--d1aqf.xn--p1ai/api/ext/file/9fb4277b-8b5f-4084-9d09-0600cc185e82', '18-04-2022 12:35', '54.8421', '83.1789', 0, 0, 'Типовой', '04-10-2022 01:30', \"[{'objId': 23863, 'pdId': 43156, 'rpdId': 583793, 'devId': 1297, 'ordNum': 1, 'objRenderPhotoSize': 14733, 'objRenderPhotoUrl': 'https://xn--80az8a.x ... (137 characters truncated) ... : 0, 'objRenderPhotoNm': 'Безымянный.jpg', 'objReadyDesc': 'Строится', 'objBuildTypeShortDesc': 'Жилое', 'knFlg': 1, 'loadDttm': '04-10-2022 01:14'}]\", 0, 'normal', 'https://xn--80az8a.xn--d1aqf.xn--p1ai/api/ext/file/e244dbab-7d83-47ea-9e5d-02188777e009', 1, 42343, 3, 12, '889.2', 0, 0, 1, '25-02-2024 12:00', None, 0, 0.0, 0.0, 0.0, 0.0, 0.0, 0, 0, 0.0, 0.0, 0.0, 0, None, None, None, 0, '[]', 0, 'info@academpark.com', 0, 'B', 1, 1297, 'АКАДЕМПАРК', 'АКАДЕМПАРК', 'ТЕХНОПАРК НОВОСИБИРСКОГО АКАДЕМГОРОДКА', 0, 9, 76, 'Новосибирская область', '+7(383)344-93-13', 'academpark.com', 'info@academpark.com', '5408252116', '1075473006905', '540801001', 'Новосибирская область, город Новосибирск, улица Николаева дом 12 помещение этаж 12', 'Новосибирская область, город Новосибирск, улица Николаева 12, этаж 12', 583797, 1, 54, 'Верховод Дмитрий Бенидиктович', 'Технопарк Новосибирского Академгородка', 1, 'Акционерное общество', 'АО', 6767.0, 0, 0, None, None, None, None, None, None, None, None, None, 'Коттеджный поселок \"Горки Академпарка\"', None, None, 'Коттеджный поселок Горки Академпарка', None, None, None, None, None, None, None, None, None, None, None),\n (34, 27803, 98026, 54, 'с/с Барышевский', 3, 3, 12, '2024-03-31', 'Кирпич', 'Без отделки', 'Есть', 0, 889.2, '54-000833', 'https://xn--80az8a.xn--d1aqf.xn--p1ai/api/ext/file/9895b640-2855-4c08-bd2c-6eaed996cf01', '24-05-2022 11:59', '54.8421', '83.179', 0, 0, 'Типовой', '04-10-2022 01:30', \"[{'objId': 27803, 'pdId': 98026, 'rpdId': 583797, 'devId': 1297, 'ordNum': 1, 'objRenderPhotoSize': 14733, 'objRenderPhotoUrl': 'https://xn--80az8a.x ... (137 characters truncated) ... : 0, 'objRenderPhotoNm': 'Безымянный.jpg', 'objReadyDesc': 'Строится', 'objBuildTypeShortDesc': 'Жилое', 'knFlg': 1, 'loadDttm': '04-10-2022 01:14'}]\", 0, 'normal', 'https://xn--80az8a.xn--d1aqf.xn--p1ai/api/ext/file/4fcd9a2f-b778-417c-a8dc-f4b69b95ea1f', 1, 42916, 3, 12, '889.2', 0, 0, 1, '24-02-2024 12:00', '3', 0, 0.0, 0.0, 0.0, 0.0, 0.0, 0, 0, 0.0, 0.0, 0.0, 0, None, None, None, 0, '[]', 0, 'info@academpark.com', 0, 'B', 1, 1297, 'АКАДЕМПАРК', 'АКАДЕМПАРК', 'ТЕХНОПАРК НОВОСИБИРСКОГО АКАДЕМГОРОДКА', 0, 9, 76, 'Новосибирская область', '+7(383)344-93-13', 'academpark.com', 'info@academpark.com', '5408252116', '1075473006905', '540801001', 'Новосибирская область, город Новосибирск, улица Николаева дом 12 помещение этаж 12', 'Новосибирская область, город Новосибирск, улица Николаева 12, этаж 12', 583797, 1, 54, 'Верховод Дмитрий Бенидиктович', 'Технопарк Новосибирского Академгородка', 1, 'Акционерное общество', 'АО', 6767.0, 0, 0, 3.0, 3.0, 3.0, 3.0, 12.0, 2.0, 2.0, None, None, 'Коттеджный поселок \"Горки Академпарка\"', None, None, 'Коттеджный поселок Горки Академпарка', None, None, None, None, None, None, None, None, None, None, None),\n (35, 27798, 98026, 54, 'с/с Барышевский', 3, 3, 12, '2024-03-31', 'Кирпич', 'Без отделки', 'Есть', 0, 889.2, '54-000833', 'https://xn--80az8a.xn--d1aqf.xn--p1ai/api/ext/file/9895b640-2855-4c08-bd2c-6eaed996cf01', '24-05-2022 11:59', '54.8422', '83.1789', 0, 0, 'Типовой', '04-10-2022 01:30', \"[{'objId': 27798, 'pdId': 98026, 'rpdId': 583797, 'devId': 1297, 'ordNum': 1, 'objRenderPhotoSize': 14733, 'objRenderPhotoUrl': 'https://xn--80az8a.x ... (137 characters truncated) ... : 0, 'objRenderPhotoNm': 'Безымянный.jpg', 'objReadyDesc': 'Строится', 'objBuildTypeShortDesc': 'Жилое', 'knFlg': 1, 'loadDttm': '04-10-2022 01:14'}]\", 0, 'normal', 'https://xn--80az8a.xn--d1aqf.xn--p1ai/api/ext/file/51fe8228-b8e6-4e53-b937-96d727f0c35b', 1, 42738, 3, 12, '889.2', 0, 0, 1, '24-02-2024 12:00', '3', 0, 0.0, 0.0, 1.0, 0.0, 0.0, 0, 0, 0.0, 0.0, 0.0, 0, None, None, None, 0, '[]', 0, 'info@academpark.com', 0, 'B', 1, 1297, 'АКАДЕМПАРК', 'АКАДЕМПАРК', 'ТЕХНОПАРК НОВОСИБИРСКОГО АКАДЕМГОРОДКА', 0, 9, 76, 'Новосибирская область', '+7(383)344-93-13', 'academpark.com', 'info@academpark.com', '5408252116', '1075473006905', '540801001', 'Новосибирская область, город Новосибирск, улица Николаева дом 12 помещение этаж 12', 'Новосибирская область, город Новосибирск, улица Николаева 12, этаж 12', 583797, 1, 54, 'Верховод Дмитрий Бенидиктович', 'Технопарк Новосибирского Академгородка', 1, 'Акционерное общество', 'АО', 6767.0, 0, 0, 3.0, 3.0, 3.0, 3.0, 12.0, 2.0, 2.0, None, None, 'Коттеджный поселок \"Горки Академпарка\"', None, None, 'Коттеджный поселок Горки Академпарка', None, None, None, None, None, None, None, None, None, None, None),\n (36, 21720, 54693, 77, 'г Москва, район Левобережный, шоссе Ленинградское, вл. 69', 22, 22, 204, '2023-06-30', 'Монолит-кирпич', 'Под ключ', 'Нет', 36, 16726.99, '77-001401', 'https://xn--80az8a.xn--d1aqf.xn--p1ai/api/ext/file/464a8ebf-32b8-46dd-ab30-1c3b521f3bb5', '06-09-2022 11:33', '55.8694', '37.4565', 1, 0, 'Бизнес', '04-10-2022 01:30', \"[{'objId': 21720, 'pdId': 54693, 'rpdId': 631562, 'devId': 6270, 'ordNum': 1, 'objRenderPhotoSize': 676288, 'objRenderPhotoUrl': 'https://xn--80az8a. ... (4393 characters truncated) ... 60-Aquatoria_EXT_DAY_Fob_39_0004_v97.jpg', 'objReadyDesc': 'Строится', 'objBuildTypeShortDesc': 'Жилое', 'knFlg': 1, 'loadDttm': '04-10-2022 01:14'}]\", 0, 'normal', 'https://xn--80az8a.xn--d1aqf.xn--p1ai/api/ext/file/de89279d-ea54-4b1b-8a16-4f75708e1732', 1, 22953, 22, 204, '16726.99', 93, 0, 1, '30-10-2023 12:00', '2,87 - 3,55', 0, 0.0, 0.0, 0.0, 0.0, 0.0, 0, 1, 0.0, 3.0, 0.0, 1, 0.571620476846103, 325203.0, 'ООО \"Альфа Строй\" (ИНН: 6659222310)', 0, '[]', 0, 'hello@aquatoria.com', 0, 'B', 9, 6270, 'АКВАТОРИЯ', 'АКВАТОРИЯ', 'АКВАТОРИЯ', 0, 2, 1, 'Москва город', '+7(495)782-22-36', 'www.aquatoria.com', 'hello@aquatoria.com', '7712006051', '1027700060497', '774301001', 'город Москва, шоссе Ленинградское дом 69', 'г Москва шоссе Ленинградское д. 69', 631562, 1, 77, 'Лукашин Александр Михайлович', 'Wainbridge', 4, 'Общество с ограниченной ответственностью', 'ООО', 9251.0, 1, 0, 16.0, 87.0, 58.0, 43.0, 204.0, 1.0, 11.0, '4 / 10', 4.0, 'Многофункциональный комплекс AQUATORIA (корпус B3)', 8.0, 6.0, None, None, None, None, None, None, None, None, None, None, None, None),\n (37, 45249, 530733, 77, 'г Москва, район Левобережный, ш Ленинградское, вл. 69', 2, 23, 0, '2025-09-30', 'Монолит-кирпич', 'Под ключ', 'Нет', 389, 0.0, '77-002435', 'https://xn--80az8a.xn--d1aqf.xn--p1ai/api/ext/file/21142e8d-2478-4ba3-a205-f291018acc13', '06-09-2022 11:29', '55.8701', '37.4566', 0, 0, 'Бизнес', '04-10-2022 01:30', \"[{'objId': 45249, 'pdId': 530733, 'rpdId': 631556, 'devId': 6270, 'ordNum': 1, 'objRenderPhotoSize': 3203848, 'objRenderPhotoUrl': 'https://xn--80az8 ... (582 characters truncated) ... 0, 'objRenderPhotoNm': 'AQUATORIA1.png', 'objReadyDesc': 'Строится', 'objBuildTypeShortDesc': 'Нежилое', 'knFlg': 0, 'loadDttm': '04-10-2022 01:14'}]\", 1, 'normal', 'https://xn--80az8a.xn--d1aqf.xn--p1ai/api/ext/file/8ef1f29a-117b-431a-a9c1-dee8925f0e2d', 0, 125859, 23, 0, '0.0', 627, 0, 1, '16-06-2026 12:00', None, 1, 0.0, 0.0, 0.0, 0.0, 0.0, 1, 1, 0.0, 0.0, 0.0, 8, 0.000671892304955415, 231772.0, 'ООО Альфа Строй (ИНН: 6659222310)', 1, \"[{'metroStationNm': 'Беломорская', 'isMetroStationDistWalking': True, 'metroStationDistTime': 21.05, 'metroStationDistLength': 1.755, 'metroLineColor ... (337 characters truncated) ... g': False, 'metroStationDistTime': 16.55, 'metroStationDistLength': 0.817, 'metroLineColorHexCode': '4FB04F', 'metroLineColorsHexCode': ['#4FB04F']}]\", 1, 'hello@aquatoria.com', 0, 'Не нормируется', 8, 6270, 'АКВАТОРИЯ', 'АКВАТОРИЯ', 'АКВАТОРИЯ', 0, 2, 1, 'Москва город', '+7(495)782-22-36', 'www.aquatoria.com', 'hello@aquatoria.com', '7712006051', '1027700060497', '774301001', 'город Москва, шоссе Ленинградское дом 69', 'г Москва шоссе Ленинградское д. 69', 631562, 1, 77, 'Лукашин Александр Михайлович', 'Wainbridge', 4, 'Общество с ограниченной ответственностью', 'ООО', 9251.0, 1, 0, None, None, None, None, None, None, None, '5 / 10', 5.0, 'Многофункциональный комплекс AQUATORIA (корпуса A1 A2)', 8.0, None, None, None, None, None, None, '2.674', 'Беломорская', 'Замоскворецкая', '#4FB04F', 21.05, 1, \"['#4FB04F']\"),\n (38, 33899, 222538, 54, 'г Новосибирск, улица Лескова, д. 30, блок-секция б', 2, 27, 192, '2022-12-31', 'Монолит-кирпич', 'Другое', 'Нет', 0, 13101.36, '54-001078', 'https://xn--80az8a.xn--d1aqf.xn--p1ai/api/ext/file/884c3836-5934-4df9-9d9e-40a7fefdb4e5', '06-09-2022 05:49', '55.0231', '82.9537', 0, 0, 'Комфорт', '04-10-2022 01:30', \"[{'objId': 33899, 'pdId': 222538, 'rpdId': 631235, 'devId': 226, 'ordNum': 1, 'objRenderPhotoSize': 255618, 'objRenderPhotoUrl': 'https://xn--80az8a. ... (148 characters truncated) ... enderPhotoNm': '2018-08-16_Cam10_мал.jpg', 'objReadyDesc': 'Строится', 'objBuildTypeShortDesc': 'Жилое', 'knFlg': 1, 'loadDttm': '04-10-2022 01:14'}]\", 1, 'normal', 'https://xn--80az8a.xn--d1aqf.xn--p1ai/api/ext/file/e40bfa59-7410-412c-a0eb-e932cff9733a', 1, 44821, 27, 192, '13101.36', 3, 0, 1, '31-03-2023 12:00', '2,7 - 3,4', 0, 1.0, 1.0, 1.0, 0.0, 0.0, 1, 1, 0.0, 1.0, 2.0, 5, 0.531550922957617, 101758.0, 'ООО \"Форест\" (ИНН: 5407465400)', 1, '[]', 1, 'm.petrov@akd54.ru', 0, 'A', 9, 226, 'АКД-МЕТА', 'АКД-МЕТА', 'АКД-МЕТА', 0, 1, 3, 'Новосибирская область', '+7(383)239-10-01', 'www.oazis54.ru', 'm.petrov@akd54.ru', '5405416327', '1105476026798', '540201001', 'Новосибирская область, г Новосибирск, г.о.город Новосибирск, ул.Тимирязева дом 58/1 офис 305', 'обл Новосибирская, г Новосибирск, г.о.город Новосибирск, ул.Тимирязева, д. 58/1, оф. 305', 631235, 0, 54, 'Петров Максим Алексеевич', 'АКД', 4, 'Общество с ограниченной ответственностью', 'ООО', 7279.0, 1, 0, 0.0, 120.0, 48.0, 24.0, 192.0, 1.0, 8.0, '10 / 10', 10.0, None, None, None, None, None, None, None, None, None, None, None, None, None, None, None),\n (39, 17712, 32557, 86, 'г Сургут, Микрорайон 39, д. 10, блок-секция Отсек 10-4, 10-5', 1, 1, 0, '2023-12-31', 'Другое', 'Другое', 'Есть', 152, 0.0, '86-000097', 'https://xn--80az8a.xn--d1aqf.xn--p1ai/api/ext/file/295d2fac-0e6f-4fc4-81c7-ac26c537ef81', '05-09-2022 15:13', '61.2832', '73.3597', 0, 0, 'Бизнес', '04-10-2022 01:30', \"[{'objId': 17712, 'pdId': 32557, 'rpdId': 630956, 'devId': 198, 'ordNum': 1, 'objRenderPhotoSize': 111822, 'objRenderPhotoUrl': 'https://xn--80az8a.x ... (577 characters truncated) ... , 'objRenderPhotoNm': 'Рендер_С39..jpg', 'objReadyDesc': 'Строится', 'objBuildTypeShortDesc': 'Нежилое', 'knFlg': 0, 'loadDttm': '04-10-2022 01:14'}]\", 1, 'normal', 'https://xn--80az8a.xn--d1aqf.xn--p1ai/api/ext/file/5a1dca5e-3e18-42d0-be70-ad6147ab4eac', 0, 20730, 1, 0, '0.0', 0, 0, 1, '16-06-2024 12:00', None, 0, 0.0, 0.0, 0.0, 0.0, 0.0, 0, 1, 0.0, 0.0, 0.0, 0, 0.356488994380858, 2961.0, 'ООО Югра-Сити (ИНН: 7203429045)', 1, '[]', 0, 'shefer.as@sst.hm', 0, 'Не нормируется', 8, 198, 'АЛЕКСАНДРИЯ 6-10', 'АЛЕКСАНДРИЯ 6-10', 'АЛЕКСАНДРИЯ 6-10', 0, 2, 6, 'Ханты-Мансийский АО - Югра', '+7(346)738-86-55', 'www.surgut4s.ru', 'seсretar@sst.hm', '8601046621', '1128601001506', '860101001', 'Ханты-Мансийский АО - Югра, г Ханты-Мансийск, ул Гагарина дом 118/1 квартира 2', 'АО Ханты-Мансийский автономный округ - Югра, г Ханты-Мансийск, ул Гагарина, д. 118/1, кв. 2', 630956, 0, 86, 'Мовсисян Вачаган Вачаганович', 'Северные Строительные Технологии', 4, 'Общество с ограниченной ответственностью', 'ООО', 5779.0, 1, 0, None, None, None, None, None, None, None, None, None, 'ЖК 4 сезона  .', None, None, None, None, None, None, None, None, None, None, None, None, None, None),\n (40, 17707, 32557, 86, 'г Сургут, Микрорайон 39, д. 7', 25, 25, 220, '2023-12-31', 'Монолит-кирпич', 'По желанию заказчика', 'Есть', 0, 11662.55, '86-000097', 'https://xn--80az8a.xn--d1aqf.xn--p1ai/api/ext/file/295d2fac-0e6f-4fc4-81c7-ac26c537ef81', '05-09-2022 15:13', '61.283', '73.3603', 0, 0, 'Бизнес', '04-10-2022 01:30', \"[{'objId': 17707, 'pdId': 32557, 'rpdId': 630956, 'devId': 198, 'ordNum': 1, 'objRenderPhotoSize': 111822, 'objRenderPhotoUrl': 'https://xn--80az8a.x ... (573 characters truncated) ...  0, 'objRenderPhotoNm': 'Рендер_С39..jpg', 'objReadyDesc': 'Строится', 'objBuildTypeShortDesc': 'Жилое', 'knFlg': 1, 'loadDttm': '04-10-2022 01:14'}]\", 1, 'normal', 'https://xn--80az8a.xn--d1aqf.xn--p1ai/api/ext/file/e6890486-7477-4afb-a9b1-f7f2344fbf20', 1, 20731, 25, 220, '11662.55', 43, 0, 1, '16-06-2024 12:00', '2,7', 0, 1.0, 2.0, 1.0, 34.0, 0.0, 0, 1, 1.0, 2.0, 2.0, 6, 0.288062216239159, 112432.0, 'ООО Югра-Сити (ИНН: 7203429045)', 1, '[]', 0, 'shefer.as@sst.hm', 1, 'A++', 8, 198, 'АЛЕКСАНДРИЯ 6-10', 'АЛЕКСАНДРИЯ 6-10', 'АЛЕКСАНДРИЯ 6-10', 0, 2, 6, 'Ханты-Мансийский АО - Югра', '+7(346)738-86-55', 'www.surgut4s.ru', 'seсretar@sst.hm', '8601046621', '1128601001506', '860101001', 'Ханты-Мансийский АО - Югра, г Ханты-Мансийск, ул Гагарина дом 118/1 квартира 2', 'АО Ханты-Мансийский автономный округ - Югра, г Ханты-Мансийск, ул Гагарина, д. 118/1, кв. 2', 630956, 0, 86, 'Мовсисян Вачаган Вачаганович', 'Северные Строительные Технологии', 4, 'Общество с ограниченной ответственностью', 'ООО', 5779.0, 1, 0, 110.0, 88.0, 22.0, 0.0, 220.0, 1.0, 10.0, None, None, 'ЖК 4 сезона.Жилой дом \"Zima\"', None, None, '4 сезона', None, None, None, None, None, None, None, None, None, None, None),\n (41, 33745, 212271, 22, 'г Барнаул, ул Власихинская, д. 156А', 5, 5, 0, '2023-03-31', 'Кирпич', 'Другое', 'Есть', 0, 0.0, '22-000306', 'https://xn--80az8a.xn--d1aqf.xn--p1ai/api/ext/file/ad8c6bd1-ec53-44c9-8e41-50fb84fbda4a', '05-09-2022 07:21', '53.3289', '83.6819', 0, 0, 'Типовой', '04-10-2022 01:30', \"[{'objId': 33745, 'pdId': 212271, 'rpdId': 630352, 'devId': 8792, 'ordNum': 1, 'objRenderPhotoSize': 846717, 'objRenderPhotoUrl': 'https://xn--80az8a ... (156 characters truncated) ... otoNm': 'ПРОЕКТ_Власихинская_156а..png', 'objReadyDesc': 'Строится', 'objBuildTypeShortDesc': 'Нежилое', 'knFlg': 0, 'loadDttm': '04-10-2022 01:14'}]\", 0, 'normal', 'https://xn--80az8a.xn--d1aqf.xn--p1ai/api/ext/file/cb58f6f6-e529-45bb-966a-e7ed0d141425', 0, 44649, 5, 0, '0.0', 516, 0, 1, '20-04-2023 12:00', None, 0, 0.0, 0.0, 1.0, 50.0, 50.0, 1, 1, 0.0, 0.0, 0.0, 0, 0.745792471971491, 16438.0, None, 1, '[]', 0, 'altpromsnab@inbox.ru', 0, 'Не нормируется', 8, 8792, 'АЛТПРОМСНАБ', 'АЛТПРОМСНАБ', 'АЛТПРОМСНАБ', 0, 1, 0, 'Алтайский край', '+7 (385) 250-08-99', 'алтпромснаб.рф', 'JUR@SFO-NAL.RU', '2223032641', '1022201142920', '222401001', 'Алтайский край, город Барнаул, проспект Ленина дом 154/1 помещение Н11 офис 607', 'край Алтайский, город Барнаул, проспект Ленина, д.154/1, оф.607, пом.Н11', 630352, 0, 22, 'Гавриленко Татьяна Викторовна', None, 4, 'Общество с ограниченной ответственностью', 'ООО', None, 0, 0, None, None, None, None, None, None, None, None, None, None, None, None, None, None, None, None, None, None, None, None, None, None, None, None),\n (42, 44621, 550712, 54, 'г Новосибирск, ул Фабричная, блок-секция 2.3', 24, 24, 208, '2024-12-31', 'Монолит-кирпич', 'Под чистовую', 'Нет', 0, 11175.52, '54-001517', 'https://xn--80az8a.xn--d1aqf.xn--p1ai/api/ext/file/05a5742c-ac31-4fc9-ba86-459011adeef4', '09-09-2022 12:36', '55.0263', '82.896', 0, 0, 'Комфорт', '04-10-2022 01:30', \"[{'objId': 44621, 'pdId': 550712, 'rpdId': 634918, 'devId': 9770, 'ordNum': 1, 'objRenderPhotoSize': 83685, 'objRenderPhotoUrl': 'https://xn--80az8a. ... (151 characters truncated) ... erPhotoNm': 'image-06-04-22-09-16__.jpeg', 'objReadyDesc': 'Строится', 'objBuildTypeShortDesc': 'Жилое', 'knFlg': 1, 'loadDttm': '04-10-2022 01:14'}]\", 1, 'normal', 'https://xn--80az8a.xn--d1aqf.xn--p1ai/api/ext/file/ec0fdbc8-c8c2-4450-a978-693e10606268', 1, 125218, 24, 208, '11175.52', 7, 0, 1, '30-10-2024 12:00', '2,86', 0, 1.0, 1.0, 1.0, 63.0, 0.0, 1, 1, 0.0, 4.0, 4.0, 8, 0.0464989548584764, 118637.0, 'ООО СК СибТехСтрой (ИНН: 5405048962)', 0, '[]', 1, '2174422@mail.ru', 1, 'A++', 9, 9770, 'АЛЬГЕБА', 'АЛЬГЕБА', 'АЛЬГЕБА', 0, 4, 12, 'Новосибирская область', '+7(383)217-44-22', 'algeba-nsk.ru', '2174422@mail.ru', '5407025216', '1065405138457', '540601001', 'Новосибирская область, г Новосибирск, улица Семьи Шамшиных дом 24 помещение 43', 'обл Новосибирская, г Новосибирск, улица Семьи Шамшиных, д. 24, пом. 43', 637147, 0, 54, 'Хаминич Наталья Васильевна', 'Сибирьинвест', 4, 'Общество с ограниченной ответственностью', 'ООО', 6104.0, 1, 0, 65.0, 21.0, 76.0, 46.0, 208.0, 2.0, 5.0, '8 / 10', 8.0, 'Жилой комплекс Чернышевский', None, None, None, None, None, None, None, None, None, None, None, None, None, None),\n (43, 47610, 627388, 54, 'г Новосибирск', 30, 30, 129, '2024-12-31', 'Монолит-кирпич', 'Под чистовую', 'Нет', 127, 12634.46, '54-001768', 'https://xn--80az8a.xn--d1aqf.xn--p1ai/api/ext/file/cfc99a5a-fe85-4d9f-9a8d-4920c0b6c8ce', '23-08-2022 05:51', '55.0256', '82.9081', 0, 0, 'Бизнес', '04-10-2022 01:30', \"[{'objId': 47610, 'pdId': 627388, 'rpdId': 627942, 'devId': 9770, 'ordNum': 1, 'objRenderPhotoSize': 3267708, 'objRenderPhotoUrl': 'https://xn--80az8 ... (151 characters truncated) ... nderPhotoNm': 'image-23-08-22-09-40.jpeg', 'objReadyDesc': 'Строится', 'objBuildTypeShortDesc': 'Жилое', 'knFlg': 1, 'loadDttm': '04-10-2022 01:14'}]\", 1, 'normal', 'https://xn--80az8a.xn--d1aqf.xn--p1ai/api/ext/file/b04a005d-86f6-4113-84be-264dac4b89a4', 1, 128239, 30, 129, '12634.46', 78, 0, 1, '31-12-2024 12:00', '3,15 - 3,75', 0, 1.0, 1.0, 1.0, 3.0, 0.0, 1, 1, 0.0, 4.0, 4.0, 8, None, None, 'ООО СК СибТехСТрой (ИНН: 5405048962)', 1, '[]', 0, None, 0, 'B', 9, 9770, 'АЛЬГЕБА', 'АЛЬГЕБА', 'АЛЬГЕБА', 0, 4, 12, 'Новосибирская область', '+7(383)217-44-22', 'algeba-nsk.ru', '2174422@mail.ru', '5407025216', '1065405138457', '540601001', 'Новосибирская область, г Новосибирск, улица Семьи Шамшиных дом 24 помещение 43', 'обл Новосибирская, г Новосибирск, улица Семьи Шамшиных, д. 24, пом. 43', 637147, 0, 54, 'Хаминич Наталья Васильевна', 'Сибирьинвест', 4, 'Общество с ограниченной ответственностью', 'ООО', 6104.0, 1, 0, 1.0, 3.0, 49.0, 76.0, 129.0, 1.0, 5.0, None, None, 'Жилой комплекс на Горького', None, None, None, None, None, None, None, None, None, None, None, None, None, None),\n (44, 46571, 588956, 54, 'г Новосибирск, ул Фабричная', 24, 24, 198, '2024-12-31', 'Монолит-кирпич', 'Под чистовую', 'Нет', 18, 8956.86, '54-001628', 'https://xn--80az8a.xn--d1aqf.xn--p1ai/api/ext/file/eae604c2-b57c-4b7f-8b4b-be9ccd8f2ac0', '20-09-2022 11:30', '55.0269', '82.8954', 0, 0, 'Комфорт', '04-10-2022 01:30', \"[{'objId': 46571, 'pdId': 588956, 'rpdId': 637147, 'devId': 9770, 'ordNum': 1, 'objRenderPhotoSize': 378647, 'objRenderPhotoUrl': 'https://xn--80az8a ... (607 characters truncated) ... hotoNm': 'PHOTO-2022-06-15-14-01-441.jpg', 'objReadyDesc': 'Строится', 'objBuildTypeShortDesc': 'Жилое', 'knFlg': 1, 'loadDttm': '04-10-2022 01:14'}]\", 1, 'normal', 'https://xn--80az8a.xn--d1aqf.xn--p1ai/api/ext/file/7e8d5ceb-982a-40ed-b0e1-56c4f70cdc4d', 1, 127202, 24, 198, '8956.86', 3, 0, 1, '11-10-2024 12:00', '3,15', 0, 1.0, 1.0, 1.0, 107.0, 0.0, 1, 1, 0.0, 3.0, 3.0, 6, None, None, 'ООО СК СибТехСтрой (ИНН: 5405048962)', 1, '[]', 0, None, 1, 'A++', 9, 9770, 'АЛЬГЕБА', 'АЛЬГЕБА', 'АЛЬГЕБА', 0, 4, 12, 'Новосибирская область', '+7(383)217-44-22', 'algeba-nsk.ru', '2174422@mail.ru', '5407025216', '1065405138457', '540601001', 'Новосибирская область, г Новосибирск, улица Семьи Шамшиных дом 24 помещение 43', 'обл Новосибирская, г Новосибирск, улица Семьи Шамшиных, д. 24, пом. 43', 637147, 0, 54, 'Хаминич Наталья Васильевна', 'Сибирьинвест', 4, 'Общество с ограниченной ответственностью', 'ООО', 6104.0, 1, 0, 88.0, 110.0, 0.0, 0.0, 198.0, 1.0, 9.0, None, None, 'Жилой комплекс \"Чернышевский\"', None, None, None, None, None, None, None, None, None, None, None, None, None, None),\n (45, 44489, 543898, 54, 'г Новосибирск, ул Фабричная, блок-секция 2.1', 17, 17, 158, '2024-03-31', 'Кирпич', 'Под чистовую', 'Нет', 21, 6748.01, '54-001503', 'https://xn--80az8a.xn--d1aqf.xn--p1ai/api/ext/file/b4abaf0a-9e32-4ead-b88f-2f1b91397206', '09-09-2022 12:31', '55.0269', '82.8954', 0, 0, 'Комфорт', '04-10-2022 01:30', \"[{'objId': 44489, 'pdId': 543898, 'rpdId': 634906, 'devId': 9770, 'ordNum': 1, 'objRenderPhotoSize': 105666, 'objRenderPhotoUrl': 'https://xn--80az8a ... (150 characters truncated) ... nderPhotoNm': 'image-06-04-22-09-16.jpeg', 'objReadyDesc': 'Строится', 'objBuildTypeShortDesc': 'Жилое', 'knFlg': 1, 'loadDttm': '04-10-2022 01:14'}]\", 1, 'normal', 'https://xn--80az8a.xn--d1aqf.xn--p1ai/api/ext/file/023c896a-0f28-4d33-a3df-765c455591b7', 1, 125086, 17, 158, '6748.01', 37, 0, 1, '27-03-2024 12:00', '2,86', 0, 1.0, 1.0, 1.0, 40.0, 0.0, 1, 1, 0.0, 2.0, 2.0, 4, 0.822729960388322, 122180.0, 'ООО СК СибТехСтрой (ИНН: 5405048962)', 0, '[]', 1, '2174422@mail.ru', 1, 'A++', 9, 9770, 'АЛЬГЕБА', 'АЛЬГЕБА', 'АЛЬГЕБА', 0, 4, 12, 'Новосибирская область', '+7(383)217-44-22', 'algeba-nsk.ru', '2174422@mail.ru', '5407025216', '1065405138457', '540601001', 'Новосибирская область, г Новосибирск, улица Семьи Шамшиных дом 24 помещение 43', 'обл Новосибирская, г Новосибирск, улица Семьи Шамшиных, д. 24, пом. 43', 637147, 0, 54, 'Хаминич Наталья Васильевна', 'Сибирьинвест', 4, 'Общество с ограниченной ответственностью', 'ООО', 6104.0, 1, 0, 85.0, 44.0, 29.0, 0.0, 158.0, 1.0, 11.0, '8 / 10', 8.0, 'Жилой комплекс \"Чернышевский\"', None, None, None, None, None, None, None, None, None, None, None, None, None, None),\n (46, 15885, 31673, 23, 'г Краснодар, улица Им. краеведа Соловьёва В.А, д. 6, литера 4', 9, 9, 250, '2022-09-30', 'Монолит-кирпич', 'Под чистовую', 'Нет', 0, 11743.42, '23-000930', 'https://xn--80az8a.xn--d1aqf.xn--p1ai/api/ext/file/9205566b-7d1e-49e0-842b-0c583ec3abb6', '09-09-2022 16:26', '45.0926', '39.046', 1, 0, 'Комфорт', '04-10-2022 01:30', \"[{'objId': 15885, 'pdId': 31673, 'rpdId': 635295, 'devId': 2024, 'ordNum': 1, 'objRenderPhotoSize': 563011, 'objRenderPhotoUrl': 'https://xn--80az8a. ... (136 characters truncated) ... g': 0, 'objRenderPhotoNm': 'DJI_0091.jpg', 'objReadyDesc': 'Строится', 'objBuildTypeShortDesc': 'Жилое', 'knFlg': 1, 'loadDttm': '04-10-2022 01:14'}]\", 0, 'normal', 'https://xn--80az8a.xn--d1aqf.xn--p1ai/api/ext/file/055badc7-91c9-4f99-9f9e-2fd7dc1ed453', 1, 20984, 9, 250, '11743.42', 84, 0, 1, '30-01-2023 12:00', '2,7', 0, 1.0, 1.0, 0.0, 46.0, 104.0, 0, 1, 0.0, 4.0, 0.0, 0, 0.0174710603895628, 125536.0, None, 0, '[]', 0, 'alkasar.2015@yandex.ru', 0, 'B', 5, 2024, 'АЛЬКАСАР', 'АЛЬКАСАР', 'АЛЬКАСАР', 0, 6, 5, 'Краснодарский край', '+7(861)298-98-98', 'www.alcasarsk.ru', 'alkasar.2015@yandex.ru', '2311181836', '1142311018530', '231101001', 'Краснодарский край, город Краснодар, улица 40 лет Победы дом 34 офис 704', 'край Краснодарский город Краснодар улица 40 лет Победы д. 34 оф. 704', 635295, 1, 23, 'Зубреев Андрей Олегович', 'Метрикс Develoрment', 4, 'Общество с ограниченной ответственностью', 'ООО', 9139.0, 0, 0, 129.0, 107.0, 14.0, 0.0, 250.0, 4.0, 9.0, None, None, 'ЖИЛОЙ КВАРТАЛ \"КРАСКИ\" ЛИТЕР 4', None, None, None, None, None, None, None, None, None, None, None, None, None, None),\n (47, 15886, 31673, 23, 'г Краснодар, улица Им. краеведа Соловьёва В.А, д. 6, литера 5', 9, 9, 257, '2023-06-30', 'Монолит-кирпич', 'Под чистовую', 'Нет', 0, 11602.03, '23-000930', 'https://xn--80az8a.xn--d1aqf.xn--p1ai/api/ext/file/9205566b-7d1e-49e0-842b-0c583ec3abb6', '09-09-2022 16:26', '45.0986', '39.0622', 1, 0, 'Комфорт', '04-10-2022 01:30', \"[{'objId': 15886, 'pdId': 31673, 'rpdId': 635295, 'devId': 2024, 'ordNum': 1, 'objRenderPhotoSize': 603025, 'objRenderPhotoUrl': 'https://xn--80az8a. ... (136 characters truncated) ... g': 0, 'objRenderPhotoNm': 'DJI_0076.jpg', 'objReadyDesc': 'Строится', 'objBuildTypeShortDesc': 'Жилое', 'knFlg': 1, 'loadDttm': '04-10-2022 01:14'}]\", 0, 'normal', 'https://xn--80az8a.xn--d1aqf.xn--p1ai/api/ext/file/d94a8e56-dc5a-4af7-b661-3c5e6c1c41de', 1, 20985, 9, 257, '11602.03', 82, 0, 1, '31-12-2023 12:00', '2,7', 0, 1.0, 1.0, 0.0, 1.0, 104.0, 0, 1, 0.0, 4.0, 0.0, 0, 0.444239499466904, 118753.0, None, 0, '[]', 0, 'alkasar.2015@yandex.ru', 0, 'B', 2, 2024, 'АЛЬКАСАР', 'АЛЬКАСАР', 'АЛЬКАСАР', 0, 6, 5, 'Краснодарский край', '+7(861)298-98-98', 'www.alcasarsk.ru', 'alkasar.2015@yandex.ru', '2311181836', '1142311018530', '231101001', 'Краснодарский край, город Краснодар, улица 40 лет Победы дом 34 офис 704', 'край Краснодарский город Краснодар улица 40 лет Победы д. 34 оф. 704', 635295, 1, 23, 'Зубреев Андрей Олегович', 'Метрикс Develoрment', 4, 'Общество с ограниченной ответственностью', 'ООО', 9139.0, 0, 0, 151.0, 91.0, 15.0, 0.0, 257.0, 4.0, 9.0, None, None, 'ЖИЛОЙ КВАРТАЛ \"КРАСКИ\" ЛИТЕР 5', None, None, None, None, None, None, None, None, None, None, None, None, None, None),\n (48, 15888, 31673, 23, 'г Краснодар, улица Им. краеведа Соловьёва В.А, д. 6, литера 2', 9, 9, 220, '2022-09-30', 'Монолит-кирпич', 'Под чистовую', 'Нет', 0, 10028.01, '23-000930', 'https://xn--80az8a.xn--d1aqf.xn--p1ai/api/ext/file/9205566b-7d1e-49e0-842b-0c583ec3abb6', '09-09-2022 16:26', '45.0914', '39.0461', 1, 0, 'Комфорт', '04-10-2022 01:30', \"[{'objId': 15888, 'pdId': 31673, 'rpdId': 635295, 'devId': 2024, 'ordNum': 1, 'objRenderPhotoSize': 615145, 'objRenderPhotoUrl': 'https://xn--80az8a. ... (136 characters truncated) ... g': 0, 'objRenderPhotoNm': 'DJI_0089.jpg', 'objReadyDesc': 'Строится', 'objBuildTypeShortDesc': 'Жилое', 'knFlg': 1, 'loadDttm': '04-10-2022 01:14'}]\", 0, 'normal', 'https://xn--80az8a.xn--d1aqf.xn--p1ai/api/ext/file/a6ad2145-35b4-4743-84d8-699f56874da9', 1, 20982, 9, 220, '10028.01', 66, 0, 1, '30-01-2023 12:00', '2,7', 0, 1.0, 1.0, 0.0, 2.0, 104.0, 0, 1, 0.0, 3.0, 0.0, 0, 0.0947017404250694, 97507.0, None, 0, '[]', 0, 'alkasar.2015@yandex.ru', 0, 'B', 5, 2024, 'АЛЬКАСАР', 'АЛЬКАСАР', 'АЛЬКАСАР', 0, 6, 5, 'Краснодарский край', '+7(861)298-98-98', 'www.alcasarsk.ru', 'alkasar.2015@yandex.ru', '2311181836', '1142311018530', '231101001', 'Краснодарский край, город Краснодар, улица 40 лет Победы дом 34 офис 704', 'край Краснодарский город Краснодар улица 40 лет Победы д. 34 оф. 704', 635295, 1, 23, 'Зубреев Андрей Олегович', 'Метрикс Develoрment', 4, 'Общество с ограниченной ответственностью', 'ООО', 9139.0, 0, 0, 121.0, 92.0, 7.0, 0.0, 220.0, 3.0, 10.0, None, None, 'ЖИЛОЙ КВАРТАЛ \"КРАСКИ\" ЛИТЕР 2', None, None, None, None, None, None, None, None, None, None, None, None, None, None),\n (49, 15889, 31673, 23, 'г Краснодар, улица Им. краеведа Соловьёва В.А, д. 6, литера 6', 9, 9, 220, '2024-12-31', 'Монолит-кирпич', 'Под чистовую', 'Нет', 0, 10028.01, '23-000930', 'https://xn--80az8a.xn--d1aqf.xn--p1ai/api/ext/file/9205566b-7d1e-49e0-842b-0c583ec3abb6', '09-09-2022 16:26', '45.0915', '39.0465', 1, 0, 'Комфорт', '04-10-2022 01:30', \"[{'objId': 15889, 'pdId': 31673, 'rpdId': 635295, 'devId': 2024, 'ordNum': 1, 'objRenderPhotoSize': 565859, 'objRenderPhotoUrl': 'https://xn--80az8a. ... (136 characters truncated) ... g': 0, 'objRenderPhotoNm': 'DJI_0094.jpg', 'objReadyDesc': 'Строится', 'objBuildTypeShortDesc': 'Жилое', 'knFlg': 1, 'loadDttm': '04-10-2022 01:14'}]\", 0, 'normal', 'https://xn--80az8a.xn--d1aqf.xn--p1ai/api/ext/file/e1412d06-86a0-4fb9-8682-f175f524aa73', 1, 20986, 9, 220, '10028.01', 66, 0, 1, '31-12-2024 12:00', '2,7', 0, 1.0, 1.0, 1.0, 46.0, 104.0, 0, 1, 0.0, 3.0, 0.0, 0, 0.129782479275549, 121437.0, None, 0, '[]', 0, 'alkasar.2015@yandex.ru', 0, 'B', 5, 2024, 'АЛЬКАСАР', 'АЛЬКАСАР', 'АЛЬКАСАР', 0, 6, 5, 'Краснодарский край', '+7(861)298-98-98', 'www.alcasarsk.ru', 'alkasar.2015@yandex.ru', '2311181836', '1142311018530', '231101001', 'Краснодарский край, город Краснодар, улица 40 лет Победы дом 34 офис 704', 'край Краснодарский город Краснодар улица 40 лет Победы д. 34 оф. 704', 635295, 1, 23, 'Зубреев Андрей Олегович', 'Метрикс Develoрment', 4, 'Общество с ограниченной ответственностью', 'ООО', 9139.0, 0, 0, 121.0, 92.0, 7.0, 0.0, 220.0, 3.0, 10.0, None, None, 'ЖИЛОЙ КВАРТАЛ \"КРАСКИ\" ЛИТЕР 6', None, None, None, None, None, None, None, None, None, None, None, None, None, None),\n (50, 15891, 31673, 23, 'г Краснодар, улица Им. краеведа Соловьёва В.А, д. 6, литера 8', 9, 9, 250, '2022-12-31', 'Монолит-кирпич', 'Под чистовую', 'Нет', 0, 11748.07, '23-000930', 'https://xn--80az8a.xn--d1aqf.xn--p1ai/api/ext/file/9205566b-7d1e-49e0-842b-0c583ec3abb6', '09-09-2022 16:26', '45.0927', '39.0473', 1, 0, 'Комфорт', '04-10-2022 01:30', \"[{'objId': 15891, 'pdId': 31673, 'rpdId': 635295, 'devId': 2024, 'ordNum': 1, 'objRenderPhotoSize': 542728, 'objRenderPhotoUrl': 'https://xn--80az8a. ... (136 characters truncated) ... g': 0, 'objRenderPhotoNm': 'DJI_0078.jpg', 'objReadyDesc': 'Строится', 'objBuildTypeShortDesc': 'Жилое', 'knFlg': 1, 'loadDttm': '04-10-2022 01:14'}]\", 0, 'normal', 'https://xn--80az8a.xn--d1aqf.xn--p1ai/api/ext/file/40b64611-045c-4688-bd2f-0d8fe7949513', 1, 20988, 9, 250, '11748.07', 82, 0, 1, '23-01-2023 12:00', '2,7', 0, 1.0, 1.0, 1.0, 2.0, 104.0, 0, 1, 0.0, 4.0, 0.0, 0, 0.699509791821125, 94432.0, None, 0, '[]', 0, 'alkasar.2015@yandex.ru', 0, 'B', 5, 2024, 'АЛЬКАСАР', 'АЛЬКАСАР', 'АЛЬКАСАР', 0, 6, 5, 'Краснодарский край', '+7(861)298-98-98', 'www.alcasarsk.ru', 'alkasar.2015@yandex.ru', '2311181836', '1142311018530', '231101001', 'Краснодарский край, город Краснодар, улица 40 лет Победы дом 34 офис 704', 'край Краснодарский город Краснодар улица 40 лет Победы д. 34 оф. 704', 635295, 1, 23, 'Зубреев Андрей Олегович', 'Метрикс Develoрment', 4, 'Общество с ограниченной ответственностью', 'ООО', 9139.0, 0, 0, 129.0, 107.0, 14.0, 0.0, 250.0, 4.0, 9.0, None, None, 'ЖИЛОЙ КВАРТАЛ \"КРАСКИ\" ЛИТЕР 8', None, None, None, None, None, None, None, None, None, None, None, None, None, None),\n (51, 15890, 31673, 23, 'г Краснодар, улица Им. краеведа Соловьёва В.А, д. 6, литера 7', 9, 9, 257, '2022-09-30', 'Монолит-кирпич', 'Под чистовую', 'Нет', 0, 11602.03, '23-000930', 'https://xn--80az8a.xn--d1aqf.xn--p1ai/api/ext/file/9205566b-7d1e-49e0-842b-0c583ec3abb6', '09-09-2022 16:26', '45.0926', '39.0465', 1, 0, 'Комфорт', '04-10-2022 01:30', \"[{'objId': 15890, 'pdId': 31673, 'rpdId': 635295, 'devId': 2024, 'ordNum': 1, 'objRenderPhotoSize': 542056, 'objRenderPhotoUrl': 'https://xn--80az8a. ... (136 characters truncated) ... g': 0, 'objRenderPhotoNm': 'DJI_0074.jpg', 'objReadyDesc': 'Строится', 'objBuildTypeShortDesc': 'Жилое', 'knFlg': 1, 'loadDttm': '04-10-2022 01:14'}]\", 0, 'normal', 'https://xn--80az8a.xn--d1aqf.xn--p1ai/api/ext/file/87c161b3-892e-4874-be83-ecc99927e01e', 1, 20987, 9, 257, '11602.03', 81, 0, 1, '23-01-2023 12:00', '2,7', 0, 1.0, 1.0, 0.0, 1.0, 104.0, 0, 1, 0.0, 4.0, 0.0, 0, 0.0377795954673449, 118242.0, None, 0, '[]', 0, 'alkasar.2015@yandex.ru', 0, 'B', 5, 2024, 'АЛЬКАСАР', 'АЛЬКАСАР', 'АЛЬКАСАР', 0, 6, 5, 'Краснодарский край', '+7(861)298-98-98', 'www.alcasarsk.ru', 'alkasar.2015@yandex.ru', '2311181836', '1142311018530', '231101001', 'Краснодарский край, город Краснодар, улица 40 лет Победы дом 34 офис 704', 'край Краснодарский город Краснодар улица 40 лет Победы д. 34 оф. 704', 635295, 1, 23, 'Зубреев Андрей Олегович', 'Метрикс Develoрment', 4, 'Общество с ограниченной ответственностью', 'ООО', 9139.0, 0, 0, 151.0, 91.0, 15.0, 0.0, 257.0, 4.0, 9.0, None, None, 'ЖИЛОЙ КВАРТАЛ \"КРАСКИ\" ЛИТЕР 7', None, None, None, None, None, None, None, None, None, None, None, None, None, None),\n (52, 35324, 290662, 23, 'г Сочи, Краевско-Греческая, вл. Уч.1,2', 17, 17, 114, '2022-12-31', 'Монолит-кирпич', 'Без отделки', 'Нет', 0, 6343.2, '23-002003', 'https://xn--80az8a.xn--d1aqf.xn--p1ai/api/ext/file/55510009-ead7-423f-8fbf-2cd92f73d82c', '03-10-2022 12:03', '43.5796', '39.7888', 0, 0, 'Типовой', '04-10-2022 01:30', \"[{'objId': 35324, 'pdId': 290662, 'rpdId': 639255, 'devId': 4475, 'ordNum': 1, 'objRenderPhotoSize': 77065, 'objRenderPhotoUrl': 'https://xn--80az8a. ... (4682 characters truncated) ... hotoNm': 'PHOTO-2022-05-05-13-05-016.jpg', 'objReadyDesc': 'Строится', 'objBuildTypeShortDesc': 'Жилое', 'knFlg': 1, 'loadDttm': '04-10-2022 01:14'}]\", 1, 'normal', 'https://xn--80az8a.xn--d1aqf.xn--p1ai/api/ext/file/5f46bc41-f644-4582-9a2a-08b7948d5b16', 1, 115219, 17, 114, '6343.2', 9, 0, 1, '15-11-2022 12:00', '2,8', 0, 0.0, 0.0, 0.0, 0.0, 0.0, 1, 0, 0.0, 1.0, 1.0, 1, 0.840098057762643, 44486.0, 'ООО СК \"Меридиан\" (ИНН: 7717582718)', 0, '[]', 0, '6627182@mail.ru', 0, 'B', 3, 4475, 'АЛЬПИК', 'АЛЬПИК', 'АЛЬПИК', 0, 1, 0, 'Краснодарский край', '+7 (862) 226-15-97', 'www.жк-ясногорский.рф/', 'alpik.sochi@gmail.com', '7708533009', '1047796587365', '232001001', 'Краснодарский край, г Сочи, пер Горького дом д 22 офис оф 314', 'Краснодарский край, г Сочи, пер Горького, д 22, оф 314', 639255, 0, 23, 'Чугунников Дмитрий Анатольевич', None, 4, 'Общество с ограниченной ответственностью', 'ООО', None, 1, 0, 93.0, 15.0, 6.0, 0.0, 114.0, 1.0, 9.0, None, None, None, None, None, None, 6.0, 'Сообщение о судебном акте. О прекращении производства по делу или об отказе в признании должника банкротом', 'http://www.consultant.ru/document/cons_doc_LAW_39331/97e3783dff35e269cd1c6d35cbabfa4abee6fd37/', '28-12-2020 16:29', None, None, None, None, None, None, None),\n (53, 41620, 472265, 23, 'г Краснодар, Район п. Знаменский и п. Зеленопольский, литера 9', 14, 14, 96, '2024-03-31', 'Монолит-кирпич', 'Под чистовую', 'Нет', 0, 6048.0, '23-002366', 'https://xn--80az8a.xn--d1aqf.xn--p1ai/api/ext/file/cbe22bed-a0a6-4f69-8b9a-eb77f3762972', '07-09-2022 13:58', '45.0605', '39.1121', 0, 0, 'Комфорт', '04-10-2022 01:30', \"[{'objId': 41620, 'pdId': 472265, 'rpdId': 632759, 'devId': 7040, 'ordNum': 1, 'objRenderPhotoSize': 9408904, 'objRenderPhotoUrl': 'https://xn--80az8 ... (3141 characters truncated) ... ddenFlg': 0, 'objRenderPhotoNm': '56.jpg', 'objReadyDesc': 'Строится', 'objBuildTypeShortDesc': 'Жилое', 'knFlg': 1, 'loadDttm': '04-10-2022 01:14'}]\", 1, 'normal', 'https://xn--80az8a.xn--d1aqf.xn--p1ai/api/ext/file/0a89790b-c36d-40f0-8fbc-2d4c57b5735b', 1, 122146, 14, 96, '6048.0', 0, 0, 1, '30-09-2024 12:00', '2,7', 0, 3.0, 3.0, 4.0, 90.0, 28.0, 1, 1, 0.0, 2.0, 0.0, 2, 0.00955357142857143, 93000.0, 'ООО АВАКОН (ИНН: 2312301575)', 0, '[]', 1, 'elreg@ask-yug.com', 0, 'D', 3, 7040, 'АЛЬФА', 'АЛЬФА', 'АЛЬФА', 0, 12, 11, 'Краснодарский край', '+7(800)222-10-10', 'www.ask-yug.com', 'elreg@ask-yug.com', '2312233660', '1152312010531', '231201001', 'Краснодарский край, г Краснодар, улица Уральская дом 75/1 литера Б', 'край Краснодарский край, г Краснодар, улица Уральская, д. 75/1, лит. Б', 632759, 1, 23, 'Кучерявский Игорь Федорович', 'AVA Group', 4, 'Общество с ограниченной ответственностью', 'ООО', 6695.0, 1, 0, 0.0, 48.0, 48.0, 0.0, 96.0, 2.0, 4.0, None, None, 'ЖК \"СМОРОДИНА\"', None, None, None, None, None, None, None, None, None, None, None, None, None, None),\n (54, 41615, 472265, 23, 'г Краснодар, Район п. Знаменский и п. Зеленопольский, литера 4', 17, 17, 160, '2023-12-31', 'Монолит-кирпич', 'Под чистовую', 'Нет', 0, 7046.4, '23-002366', 'https://xn--80az8a.xn--d1aqf.xn--p1ai/api/ext/file/cbe22bed-a0a6-4f69-8b9a-eb77f3762972', '07-09-2022 13:58', '45.0602', '39.1153', 0, 0, 'Комфорт', '04-10-2022 01:30', \"[{'objId': 41615, 'pdId': 472265, 'rpdId': 632759, 'devId': 7040, 'ordNum': 1, 'objRenderPhotoSize': 9408904, 'objRenderPhotoUrl': 'https://xn--80az8 ... (3141 characters truncated) ... ddenFlg': 0, 'objRenderPhotoNm': '56.jpg', 'objReadyDesc': 'Строится', 'objBuildTypeShortDesc': 'Жилое', 'knFlg': 1, 'loadDttm': '04-10-2022 01:14'}]\", 1, 'normal', 'https://xn--80az8a.xn--d1aqf.xn--p1ai/api/ext/file/456c9a0e-718e-4db8-bbc8-dc3059d5bd69', 1, 122151, 17, 160, '7046.4', 0, 0, 1, '30-06-2024 12:00', '2,7', 0, 3.0, 3.0, 4.0, 90.0, 28.0, 1, 1, 0.0, 1.0, 0.0, 1, 0.25844118982743, 103559.0, 'ООО Грант Строй (ИНН: 2312246941)', 0, '[]', 1, 'elreg@ask-yug.com', 0, 'D', 3, 7040, 'АЛЬФА', 'АЛЬФА', 'АЛЬФА', 0, 12, 11, 'Краснодарский край', '+7(800)222-10-10', 'www.ask-yug.com', 'elreg@ask-yug.com', '2312233660', '1152312010531', '231201001', 'Краснодарский край, г Краснодар, улица Уральская дом 75/1 литера Б', 'край Краснодарский край, г Краснодар, улица Уральская, д. 75/1, лит. Б', 632759, 1, 23, 'Кучерявский Игорь Федорович', 'AVA Group', 4, 'Общество с ограниченной ответственностью', 'ООО', 6695.0, 1, 0, 64.0, 96.0, 0.0, 0.0, 160.0, 1.0, 10.0, None, None, 'ЖК \"СМОРОДИНА\"', None, None, None, None, None, None, None, None, None, None, None, None, None, None),\n (55, 41613, 472265, 23, 'г Краснодар, Район п. Знаменский и п. Зеленопольский, литера 2', 17, 17, 300, '2023-12-31', 'Монолит-кирпич', 'Под чистовую', 'Нет', 0, 13212.0, '23-002366', 'https://xn--80az8a.xn--d1aqf.xn--p1ai/api/ext/file/cbe22bed-a0a6-4f69-8b9a-eb77f3762972', '07-09-2022 13:58', '45.0601', '39.1139', 0, 0, 'Комфорт', '04-10-2022 01:30', \"[{'objId': 41613, 'pdId': 472265, 'rpdId': 632759, 'devId': 7040, 'ordNum': 1, 'objRenderPhotoSize': 9408904, 'objRenderPhotoUrl': 'https://xn--80az8 ... (3142 characters truncated) ... ddenFlg': 0, 'objRenderPhotoNm': '84.jpg', 'objReadyDesc': 'Строится', 'objBuildTypeShortDesc': 'Жилое', 'knFlg': 1, 'loadDttm': '04-10-2022 01:14'}]\", 1, 'normal', 'https://xn--80az8a.xn--d1aqf.xn--p1ai/api/ext/file/7488ccaf-1c09-461b-a62f-9aca40e43bfe', 1, 122153, 17, 300, '13212.0', 20, 0, 1, '30-06-2024 12:00', '2,7', 0, 3.0, 3.0, 4.0, 90.0, 28.0, 1, 1, 0.0, 2.0, 0.0, 2, 0.254927338782925, 110239.0, 'ООО Грант Строй (ИНН: 2312246941)', 1, '[]', 1, 'elreg@ask-yug.com', 0, 'D', 3, 7040, 'АЛЬФА', 'АЛЬФА', 'АЛЬФА', 0, 12, 11, 'Краснодарский край', '+7(800)222-10-10', 'www.ask-yug.com', 'elreg@ask-yug.com', '2312233660', '1152312010531', '231201001', 'Краснодарский край, г Краснодар, улица Уральская дом 75/1 литера Б', 'край Краснодарский край, г Краснодар, улица Уральская, д. 75/1, лит. Б', 632759, 1, 23, 'Кучерявский Игорь Федорович', 'AVA Group', 4, 'Общество с ограниченной ответственностью', 'ООО', 6695.0, 1, 0, 120.0, 180.0, 0.0, 0.0, 300.0, 2.0, 10.0, None, None, 'ЖК \"СМОРОДИНА\"', None, None, None, None, None, None, None, None, None, None, None, None, None, None),\n (56, 41617, 472265, 23, 'г Краснодар, Район п. Знаменский и п. Зеленопольский, литера 6', 2, 2, 0, '2023-03-31', 'Другое', 'Под чистовую', 'Нет', 0, 0.0, '23-002366', 'https://xn--80az8a.xn--d1aqf.xn--p1ai/api/ext/file/cbe22bed-a0a6-4f69-8b9a-eb77f3762972', '07-09-2022 13:58', '45.0585', '39.1147', 0, 0, 'Комфорт', '04-10-2022 01:30', \"[{'objId': 41617, 'pdId': 472265, 'rpdId': 632759, 'devId': 7040, 'ordNum': 1, 'objRenderPhotoSize': 9408904, 'objRenderPhotoUrl': 'https://xn--80az8 ... (3157 characters truncated) ... enFlg': 0, 'objRenderPhotoNm': '56.jpg', 'objReadyDesc': 'Строится', 'objBuildTypeShortDesc': 'Нежилое', 'knFlg': 0, 'loadDttm': '04-10-2022 01:14'}]\", 1, 'normal', 'https://xn--80az8a.xn--d1aqf.xn--p1ai/api/ext/file/8cc03d39-a2a6-470f-a8aa-9634c888eaea', 0, 122149, 2, 0, '0.0', 4, 0, 1, '30-09-2023 12:00', None, 0, 3.0, 3.0, 4.0, 90.0, 28.0, 1, 1, 0.0, 0.0, 0.0, 0, 1.0, 63000.0, 'ООО Грант Строй (ИНН: 2312246941)', 1, '[]', 1, 'elreg@ask-yug.com', 0, 'D', 3, 7040, 'АЛЬФА', 'АЛЬФА', 'АЛЬФА', 0, 12, 11, 'Краснодарский край', '+7(800)222-10-10', 'www.ask-yug.com', 'elreg@ask-yug.com', '2312233660', '1152312010531', '231201001', 'Краснодарский край, г Краснодар, улица Уральская дом 75/1 литера Б', 'край Краснодарский край, г Краснодар, улица Уральская, д. 75/1, лит. Б', 632759, 1, 23, 'Кучерявский Игорь Федорович', 'AVA Group', 4, 'Общество с ограниченной ответственностью', 'ООО', 6695.0, 1, 0, None, None, None, None, None, None, None, None, None, 'ЖК \"СМОРОДИНА\"', None, None, None, None, None, None, None, None, None, None, None, None, None, None),\n (57, 41614, 472265, 23, 'г Краснодар, Район п. Знаменский и п. Зеленопольский, литера 3', 17, 17, 192, '2023-12-31', 'Монолит-кирпич', 'Под чистовую', 'Нет', 0, 12096.0, '23-002366', 'https://xn--80az8a.xn--d1aqf.xn--p1ai/api/ext/file/cbe22bed-a0a6-4f69-8b9a-eb77f3762972', '07-09-2022 13:58', '45.0605', '39.1146', 0, 0, 'Комфорт', '04-10-2022 01:30', \"[{'objId': 41614, 'pdId': 472265, 'rpdId': 632759, 'devId': 7040, 'ordNum': 1, 'objRenderPhotoSize': 9408904, 'objRenderPhotoUrl': 'https://xn--80az8 ... (3141 characters truncated) ... ddenFlg': 0, 'objRenderPhotoNm': '56.jpg', 'objReadyDesc': 'Строится', 'objBuildTypeShortDesc': 'Жилое', 'knFlg': 1, 'loadDttm': '04-10-2022 01:14'}]\", 1, 'normal', 'https://xn--80az8a.xn--d1aqf.xn--p1ai/api/ext/file/c816e78a-ddd8-4151-b128-72c839665da5', 1, 122152, 17, 192, '12096.0', 0, 0, 1, '30-06-2024 12:00', '2,7', 0, 3.0, 3.0, 4.0, 90.0, 28.0, 1, 1, 0.0, 3.0, 0.0, 3, 0.226636904761905, 96699.0, 'ООО Грант Строй (ИНН: 2312246941)', 0, '[]', 1, 'elreg@ask-yug.com', 0, 'D', 3, 7040, 'АЛЬФА', 'АЛЬФА', 'АЛЬФА', 0, 12, 11, 'Краснодарский край', '+7(800)222-10-10', 'www.ask-yug.com', 'elreg@ask-yug.com', '2312233660', '1152312010531', '231201001', 'Краснодарский край, г Краснодар, улица Уральская дом 75/1 литера Б', 'край Краснодарский край, г Краснодар, улица Уральская, д. 75/1, лит. Б', 632759, 1, 23, 'Кучерявский Игорь Федорович', 'AVA Group', 4, 'Общество с ограниченной ответственностью', 'ООО', 6695.0, 1, 0, 0.0, 96.0, 96.0, 0.0, 192.0, 3.0, 4.0, None, None, 'ЖК \"СМОРОДИНА\"', None, None, None, None, None, None, None, None, None, None, None, None, None, None),\n (58, 45256, 561537, 62, 'г Рязань, Кальное (Советский район)', 21, 28, 398, '2023-12-31', 'Монолит-кирпич', 'Без отделки', 'Нет', 0, 22581.52, '62-000331', 'https://xn--80az8a.xn--d1aqf.xn--p1ai/api/ext/file/fcc0a884-aa8e-4039-bfa9-22ccdd932535', '09-09-2022 13:20', '54.6313', '39.7818', 1, 0, 'Типовой', '04-10-2022 01:30', \"[{'objId': 45256, 'pdId': 561537, 'rpdId': 635008, 'devId': 621, 'ordNum': 1, 'objRenderPhotoSize': 2372883, 'objRenderPhotoUrl': 'https://xn--80az8a ... (164 characters truncated) ... 'смарт_квартал_на_солотчинском_шоссе.jpg', 'objReadyDesc': 'Строится', 'objBuildTypeShortDesc': 'Жилое', 'knFlg': 1, 'loadDttm': '04-10-2022 01:14'}]\", 0, 'normal', 'https://xn--80az8a.xn--d1aqf.xn--p1ai/api/ext/file/837ced61-9188-40b1-b0ad-aeaf64adb93c', 1, 125867, 28, 398, '22581.52', 148, 0, 1, '16-04-2024 12:00', '2,5 - 3', 0, 1.0, 1.0, 1.0, 134.0, 0.0, 0, 1, 0.0, 5.0, 3.0, 3, 0.848823728429264, 54450.0, None, 0, '[]', 1, 'alfa62-str@mail.ru', 0, 'C', 7, 621, 'АЛЬФА', 'АЛЬФА', 'АЛЬФА', 0, 1, 3, 'Рязанская область', '+7(961)012-83-23', 'alpha2.org.ru', 'alfa62-str@mail.ru', '6234148525', '1156234015860', '623401001', 'Рязанская область, город Рязань, улица Лесопарковая дом 18 литера А помещение Н1 офис 104', 'РЯЗАНСКАЯ ОБЛАСТЬ, ГОРОД РЯЗАНЬ, УЛИЦА ЛЕСОПАРКОВАЯ, ДОМ 18, ЛИТЕРА А, ПОМЕЩЕНИЕ Н1 ОФ104', 635008, 1, 62, 'Царева Татьяна Игоревна', 'Капитал', 4, 'Общество с ограниченной ответственностью', 'ООО', 5610.0, 0, 0, 165.0, 168.0, 65.0, 0.0, 398.0, 3.0, 7.0, None, None, '\"Семейный квартал Петра и Февронии на Солотчинском шоссе 3-я очередь строительства\"(2 этап строительства)', None, None, None, None, None, None, None, None, None, None, None, None, None, None),\n (59, 41618, 472265, 23, 'г Краснодар, Район п. Знаменский и п. Зеленопольский, литера 7', 14, 14, 360, '2024-03-31', 'Монолит-кирпич', 'Под чистовую', 'Нет', 0, 16417.44, '23-002366', 'https://xn--80az8a.xn--d1aqf.xn--p1ai/api/ext/file/cbe22bed-a0a6-4f69-8b9a-eb77f3762972', '07-09-2022 13:58', '45.0587', '39.1119', 0, 0, 'Комфорт', '04-10-2022 01:30', \"[{'objId': 41618, 'pdId': 472265, 'rpdId': 632759, 'devId': 7040, 'ordNum': 1, 'objRenderPhotoSize': 9408904, 'objRenderPhotoUrl': 'https://xn--80az8 ... (3141 characters truncated) ... ddenFlg': 0, 'objRenderPhotoNm': '56.jpg', 'objReadyDesc': 'Строится', 'objBuildTypeShortDesc': 'Жилое', 'knFlg': 1, 'loadDttm': '04-10-2022 01:14'}]\", 1, 'normal', 'https://xn--80az8a.xn--d1aqf.xn--p1ai/api/ext/file/0fea0d3a-754a-4fb6-ab0f-eb5c5b8e0dfb', 1, 122148, 14, 360, '16417.44', 0, 0, 1, '30-09-2024 12:00', '2,7', 0, 3.0, 3.0, 4.0, 90.0, 28.0, 1, 1, 0.0, 3.0, 0.0, 3, 0.00533213460807532, 98000.0, 'ООО АВАКОН (ИНН: 2312301575)', 0, '[]', 1, 'elreg@ask-yug.com', 0, 'D', 3, 7040, 'АЛЬФА', 'АЛЬФА', 'АЛЬФА', 0, 12, 11, 'Краснодарский край', '+7(800)222-10-10', 'www.ask-yug.com', 'elreg@ask-yug.com', '2312233660', '1152312010531', '231201001', 'Краснодарский край, г Краснодар, улица Уральская дом 75/1 литера Б', 'край Краснодарский край, г Краснодар, улица Уральская, д. 75/1, лит. Б', 632759, 1, 23, 'Кучерявский Игорь Федорович', 'AVA Group', 4, 'Общество с ограниченной ответственностью', 'ООО', 6695.0, 1, 0, 144.0, 216.0, 0.0, 0.0, 360.0, 3.0, 10.0, None, None, 'ЖК \"СМОРОДИНА\"', None, None, None, None, None, None, None, None, None, None, None, None, None, None),\n (60, 41616, 472265, 23, 'г Краснодар, Район п. Знаменский и п. Зеленопольский, литера 5', 17, 17, 320, '2023-03-31', 'Монолит-кирпич', 'Под чистовую', 'Нет', 0, 14092.8, '23-002366', 'https://xn--80az8a.xn--d1aqf.xn--p1ai/api/ext/file/cbe22bed-a0a6-4f69-8b9a-eb77f3762972', '07-09-2022 13:58', '45.0592', '39.1153', 0, 0, 'Комфорт', '04-10-2022 01:30', \"[{'objId': 41616, 'pdId': 472265, 'rpdId': 632759, 'devId': 7040, 'ordNum': 1, 'objRenderPhotoSize': 9408904, 'objRenderPhotoUrl': 'https://xn--80az8 ... (3141 characters truncated) ... ddenFlg': 0, 'objRenderPhotoNm': '56.jpg', 'objReadyDesc': 'Строится', 'objBuildTypeShortDesc': 'Жилое', 'knFlg': 1, 'loadDttm': '04-10-2022 01:14'}]\", 1, 'normal', 'https://xn--80az8a.xn--d1aqf.xn--p1ai/api/ext/file/efd6b689-0980-4ce6-88b0-5e9b08b57740', 1, 122150, 17, 320, '14092.8', 0, 0, 1, '30-09-2023 12:00', '2,7', 0, 3.0, 3.0, 4.0, 90.0, 28.0, 1, 1, 0.0, 2.0, 0.0, 2, 0.516634735467757, 99651.0, 'ООО Грант Строй (ИНН: 2312246941)', 0, '[]', 1, 'elreg@ask-yug.com', 0, 'D', 3, 7040, 'АЛЬФА', 'АЛЬФА', 'АЛЬФА', 0, 12, 11, 'Краснодарский край', '+7(800)222-10-10', 'www.ask-yug.com', 'elreg@ask-yug.com', '2312233660', '1152312010531', '231201001', 'Краснодарский край, г Краснодар, улица Уральская дом 75/1 литера Б', 'край Краснодарский край, г Краснодар, улица Уральская, д. 75/1, лит. Б', 632759, 1, 23, 'Кучерявский Игорь Федорович', 'AVA Group', 4, 'Общество с ограниченной ответственностью', 'ООО', 6695.0, 1, 0, 128.0, 192.0, 0.0, 0.0, 320.0, 2.0, 10.0, None, None, 'ЖК \"СМОРОДИНА\"', None, None, None, None, None, None, None, None, None, None, None, None, None, None),\n (61, 41612, 472265, 23, 'г Краснодар, Район п. Знаменский и п. Зеленопольский, литера 1', 17, 17, 300, '2023-03-31', 'Монолит-кирпич', 'Под чистовую', 'Нет', 0, 13212.0, '23-002366', 'https://xn--80az8a.xn--d1aqf.xn--p1ai/api/ext/file/cbe22bed-a0a6-4f69-8b9a-eb77f3762972', '07-09-2022 13:58', '45.0588', '39.1141', 0, 0, 'Комфорт', '04-10-2022 01:30', \"[{'objId': 41612, 'pdId': 472265, 'rpdId': 632759, 'devId': 7040, 'ordNum': 1, 'objRenderPhotoSize': 9408904, 'objRenderPhotoUrl': 'https://xn--80az8 ... (3334 characters truncated) ... oNm': 'RBN_Smorodina_-_Final03_ppl-2.jpg', 'objReadyDesc': 'Строится', 'objBuildTypeShortDesc': 'Жилое', 'knFlg': 1, 'loadDttm': '04-10-2022 01:14'}]\", 1, 'normal', 'https://xn--80az8a.xn--d1aqf.xn--p1ai/api/ext/file/8e372ed2-71dd-4e71-b564-27a3d0175a3b', 1, 122154, 17, 300, '13212.0', 20, 0, 1, '30-09-2023 12:00', '2,7', 0, 3.0, 3.0, 4.0, 90.0, 28.0, 1, 1, 0.0, 2.0, 0.0, 2, 0.542150317892825, 103980.0, 'ООО Грант Строй (ИНН: 2312246941)', 1, '[]', 1, 'elreg@ask-yug.com', 0, 'D', 3, 7040, 'АЛЬФА', 'АЛЬФА', 'АЛЬФА', 0, 12, 11, 'Краснодарский край', '+7(800)222-10-10', 'www.ask-yug.com', 'elreg@ask-yug.com', '2312233660', '1152312010531', '231201001', 'Краснодарский край, г Краснодар, улица Уральская дом 75/1 литера Б', 'край Краснодарский край, г Краснодар, улица Уральская, д. 75/1, лит. Б', 632759, 1, 23, 'Кучерявский Игорь Федорович', 'AVA Group', 4, 'Общество с ограниченной ответственностью', 'ООО', 6695.0, 1, 0, 120.0, 180.0, 0.0, 0.0, 300.0, 2.0, 10.0, None, None, 'ЖК \"СМОРОДИНА\"', None, None, None, None, None, None, None, None, None, None, None, None, None, None),\n (62, 24819, 68739, 23, 'город Краснодар, улица Войсковая, д. 4, литера 10', 9, 9, 104, '2022-12-31', 'Монолит', 'По желанию заказчика', 'Нет', 0, 4151.2, '23-001221', 'https://xn--80az8a.xn--d1aqf.xn--p1ai/api/ext/file/aa2d97cc-ce3b-4ef4-9cef-3cdcaaff19e3', '05-09-2022 16:36', '45.0455', '39.1103', 1, 0, 'Комфорт', '04-10-2022 01:30', \"[{'objId': 24819, 'pdId': 68739, 'rpdId': 631114, 'devId': 7040, 'ordNum': 1, 'objRenderPhotoSize': 250257, 'objRenderPhotoUrl': 'https://xn--80az8a. ... (1089 characters truncated) ... cd049680-2877-11e9-b952-e3360f67734f.jpg', 'objReadyDesc': 'Строится', 'objBuildTypeShortDesc': 'Жилое', 'knFlg': 1, 'loadDttm': '04-10-2022 01:14'}]\", 0, 'normal', 'https://xn--80az8a.xn--d1aqf.xn--p1ai/api/ext/file/5329d10f-45a2-4129-85b4-35ccad1f1e26', 1, 24465, 9, 104, '4151.2', 2, 0, 1, '31-03-2023 12:00', '2,69', 0, 4.0, 3.0, 4.0, 106.0, 0.0, 1, 1, 2.0, 1.0, 0.0, 0, 0.896608209674311, 79200.0, 'ООО \"ГРАНТ СТРОЙ\" (ИНН: 2312246941)', 0, '[]', 0, 'elreg@ask-yug.com', 0, 'C', 7, 7040, 'АЛЬФА', 'АЛЬФА', 'АЛЬФА', 0, 12, 11, 'Краснодарский край', '+7(800)222-10-10', 'www.ask-yug.com', 'elreg@ask-yug.com', '2312233660', '1152312010531', '231201001', 'Краснодарский край, г Краснодар, улица Уральская дом 75/1 литера Б', 'край Краснодарский край, г Краснодар, улица Уральская, д. 75/1, лит. Б', 632759, 1, 23, 'Кучерявский Игорь Федорович', 'AVA Group', 4, 'Общество с ограниченной ответственностью', 'ООО', 6695.0, 1, 0, 88.0, 16.0, 0.0, 0.0, 104.0, 1.0, 13.0, None, None, 'ЖК \"СПОРТИВНЫЙ ПАРК\" литеры 1 - 13', None, None, None, None, None, None, None, None, None, None, None, None, None, None),\n (63, 24818, 68739, 23, 'город Краснодар, улица Войсковая, д. 4, литера 9', 9, 9, 96, '2022-12-31', 'Монолит', 'По желанию заказчика', 'Нет', 0, 3556.1, '23-001221', 'https://xn--80az8a.xn--d1aqf.xn--p1ai/api/ext/file/aa2d97cc-ce3b-4ef4-9cef-3cdcaaff19e3', '05-09-2022 16:36', '45.0452', '39.111', 1, 0, 'Комфорт', '04-10-2022 01:30', \"[{'objId': 24818, 'pdId': 68739, 'rpdId': 631114, 'devId': 7040, 'ordNum': 1, 'objRenderPhotoSize': 250257, 'objRenderPhotoUrl': 'https://xn--80az8a. ... (1089 characters truncated) ... cd049680-2877-11e9-b952-e3360f67734f.jpg', 'objReadyDesc': 'Строится', 'objBuildTypeShortDesc': 'Жилое', 'knFlg': 1, 'loadDttm': '04-10-2022 01:14'}]\", 0, 'normal', 'https://xn--80az8a.xn--d1aqf.xn--p1ai/api/ext/file/a477278f-b043-45f0-b1fb-92ecb828653a', 1, 24464, 9, 96, '3556.1', 0, 0, 1, '31-03-2023 12:00', '2,67 - 2,69', 0, 4.0, 3.0, 4.0, 106.0, 0.0, 1, 1, 1.0, 1.0, 0.0, 0, 0.999971879305981, 62651.0, 'ООО \"ГРАНТ СТРОЙ\" (ИНН: 2312246941)', 0, '[]', 0, 'elreg@ask-yug.com', 0, 'C', 7, 7040, 'АЛЬФА', 'АЛЬФА', 'АЛЬФА', 0, 12, 11, 'Краснодарский край', '+7(800)222-10-10', 'www.ask-yug.com', 'elreg@ask-yug.com', '2312233660', '1152312010531', '231201001', 'Краснодарский край, г Краснодар, улица Уральская дом 75/1 литера Б', 'край Краснодарский край, г Краснодар, улица Уральская, д. 75/1, лит. Б', 632759, 1, 23, 'Кучерявский Игорь Федорович', 'AVA Group', 4, 'Общество с ограниченной ответственностью', 'ООО', 6695.0, 1, 0, 72.0, 24.0, 0.0, 0.0, 96.0, 1.0, 12.0, None, None, 'ЖК \"СПОРТИВНЫЙ ПАРК\" литеры 1 - 13', None, None, None, None, None, None, None, None, None, None, None, None, None, None),\n (64, 41621, 472265, 23, 'г Краснодар, Район п. Знаменский и п. Зеленопольский, литера 10', 17, 17, 64, '2024-03-31', 'Монолит-кирпич', 'Под чистовую', 'Нет', 0, 4032.0, '23-002366', 'https://xn--80az8a.xn--d1aqf.xn--p1ai/api/ext/file/cbe22bed-a0a6-4f69-8b9a-eb77f3762972', '07-09-2022 13:58', '45.0605', '39.113', 0, 0, 'Комфорт', '04-10-2022 01:30', \"[{'objId': 41621, 'pdId': 472265, 'rpdId': 632759, 'devId': 7040, 'ordNum': 1, 'objRenderPhotoSize': 9408904, 'objRenderPhotoUrl': 'https://xn--80az8 ... (3141 characters truncated) ... ddenFlg': 0, 'objRenderPhotoNm': '56.jpg', 'objReadyDesc': 'Строится', 'objBuildTypeShortDesc': 'Жилое', 'knFlg': 1, 'loadDttm': '04-10-2022 01:14'}]\", 1, 'normal', 'https://xn--80az8a.xn--d1aqf.xn--p1ai/api/ext/file/ea0533ec-3cef-401b-932d-d56ee97b7081', 1, 122145, 17, 64, '4032.0', 0, 0, 1, '30-09-2024 12:00', '2,7', 0, 3.0, 3.0, 4.0, 90.0, 28.0, 1, 1, 0.0, 1.0, 0.0, 1, 0.0143303571428571, 93000.0, 'ООО АВАКОН (ИНН: 2312301575)', 0, '[]', 1, 'elreg@ask-yug.com', 0, 'D', 3, 7040, 'АЛЬФА', 'АЛЬФА', 'АЛЬФА', 0, 12, 11, 'Краснодарский край', '+7(800)222-10-10', 'www.ask-yug.com', 'elreg@ask-yug.com', '2312233660', '1152312010531', '231201001', 'Краснодарский край, г Краснодар, улица Уральская дом 75/1 литера Б', 'край Краснодарский край, г Краснодар, улица Уральская, д. 75/1, лит. Б', 632759, 1, 23, 'Кучерявский Игорь Федорович', 'AVA Group', 4, 'Общество с ограниченной ответственностью', 'ООО', 6695.0, 1, 0, 0.0, 32.0, 32.0, 0.0, 64.0, 1.0, 4.0, None, None, 'ЖК \"СМОРОДИНА\"', None, None, None, None, None, None, None, None, None, None, None, None, None, None),\n (65, 41619, 472265, 23, 'г Краснодар, Район п. Знаменский и п. Зеленопольский, литера 8', 14, 14, 120, '2024-03-31', 'Монолит-кирпич', 'Под чистовую', 'Нет', 0, 5472.48, '23-002366', 'https://xn--80az8a.xn--d1aqf.xn--p1ai/api/ext/file/cbe22bed-a0a6-4f69-8b9a-eb77f3762972', '07-09-2022 13:58', '45.0599', '39.1119', 0, 0, 'Комфорт', '04-10-2022 01:30', \"[{'objId': 41619, 'pdId': 472265, 'rpdId': 632759, 'devId': 7040, 'ordNum': 1, 'objRenderPhotoSize': 9408904, 'objRenderPhotoUrl': 'https://xn--80az8 ... (3141 characters truncated) ... ddenFlg': 0, 'objRenderPhotoNm': '56.jpg', 'objReadyDesc': 'Строится', 'objBuildTypeShortDesc': 'Жилое', 'knFlg': 1, 'loadDttm': '04-10-2022 01:14'}]\", 1, 'normal', 'https://xn--80az8a.xn--d1aqf.xn--p1ai/api/ext/file/21ac7802-4f3e-47c2-8fa6-b07e92be23e2', 1, 122147, 14, 120, '5472.48', 0, 0, 1, '30-09-2024 12:00', '2,7', 0, 3.0, 3.0, 4.0, 90.0, 28.0, 1, 1, 0.0, 1.0, 0.0, 1, 0.00653268719118206, 98000.0, 'ООО АВАКОН (ИНН: 2312301575)', 0, '[]', 1, 'elreg@ask-yug.com', 0, 'D', 3, 7040, 'АЛЬФА', 'АЛЬФА', 'АЛЬФА', 0, 12, 11, 'Краснодарский край', '+7(800)222-10-10', 'www.ask-yug.com', 'elreg@ask-yug.com', '2312233660', '1152312010531', '231201001', 'Краснодарский край, г Краснодар, улица Уральская дом 75/1 литера Б', 'край Краснодарский край, г Краснодар, улица Уральская, д. 75/1, лит. Б', 632759, 1, 23, 'Кучерявский Игорь Федорович', 'AVA Group', 4, 'Общество с ограниченной ответственностью', 'ООО', 6695.0, 1, 0, 48.0, 72.0, 0.0, 0.0, 120.0, 1.0, 10.0, None, None, 'ЖК \"СМОРОДИНА\"', None, None, None, None, None, None, None, None, None, None, None, None, None, None),\n (66, 45772, 471902, 47, 'г Сосновый Бор', 10, 10, 0, '2022-09-30', 'Монолит-кирпич', 'Под чистовую', 'Нет', 0, 0.0, '47-000948', 'https://xn--80az8a.xn--d1aqf.xn--p1ai/api/ext/file/e245042e-d6f1-4441-b255-9be5c6729c63', '11-04-2022 19:44', '59.8931', '29.0963', 0, 0, 'Типовой', '04-10-2022 01:30', \"[{'objId': 45772, 'pdId': 471902, 'rpdId': 471902, 'devId': 11282, 'ordNum': 1, 'objRenderPhotoSize': 1282107, 'objRenderPhotoUrl': 'https://xn--80az ... (149 characters truncated) ... jRenderPhotoNm': 'Image7-1024x1024.png', 'objReadyDesc': 'Строится', 'objBuildTypeShortDesc': 'Нежилое', 'knFlg': 0, 'loadDttm': '04-10-2022 01:14'}]\", 1, 'normal', 'https://xn--80az8a.xn--d1aqf.xn--p1ai/api/ext/file/17bdfbcc-8b55-46d8-8283-dbfd249dae31', 0, 126400, 10, 0, '0.0', 172, 0, 1, '01-09-2022 12:00', None, 0, 0.0, 0.0, 1.0, 29.0, 0.0, 1, 1, 0.0, 1.0, 1.0, 1, None, None, 'ООО Единая Сервисная Служба (ИНН: 7814490205)', 1, '[]', 0, None, 0, 'A', 7, 11282, 'АЛЬФАСТРОЙИНВЕСТ', 'АЛЬФАСТРОЙИНВЕСТ', 'АЛЬФАСТРОЙИНВЕСТ', 0, 1, 0, 'Ленинградская область', '+7(921)930-52-10', 'alfastroyinvest.ru', 'info@alfastroyinvest.ru', '4726003908', '1184704018289', '472601001', 'Ленинградская область, Город Сосновый Бор, Улица Красных фортов дом 2 квартира 92', 'Ленинградская область, Город Сосновый Бор, Улица Красных фортов, Дом 2, Квартира 92', 471902, 0, 47, 'Максимова Лариса Витальевна', None, 4, 'Общество с ограниченной ответственностью', 'ООО', None, 1, 0, None, None, None, None, None, None, None, None, None, None, None, None, None, None, None, None, None, None, None, None, None, None, None, None),\n (67, 18136, 43084, 63, 'г Самара, улица Советской Армии, д. 0, корпус 0, строение 0', 27, 27, 360, '2022-12-31', 'Монолит-кирпич', 'Без отделки', 'Нет', 153, 20664.24, '63-000283', 'https://xn--80az8a.xn--d1aqf.xn--p1ai/api/ext/file/c0706fb9-7b38-4703-b570-5a4ff6a3ec61', '29-09-2022 08:08', '53.2056', '50.2144', 0, 0, 'Комфорт', '04-10-2022 01:30', \"[{'objId': 18136, 'pdId': 43084, 'rpdId': 638404, 'devId': 6193, 'ordNum': 1, 'objRenderPhotoSize': 174793, 'objRenderPhotoUrl': 'https://xn--80az8a. ... (1513 characters truncated) ... hotoNm': 'PHOTO-2022-08-03-15-13-423.jpg', 'objReadyDesc': 'Строится', 'objBuildTypeShortDesc': 'Жилое', 'knFlg': 1, 'loadDttm': '04-10-2022 01:14'}]\", 1, 'normal', 'https://xn--80az8a.xn--d1aqf.xn--p1ai/api/ext/file/1b908fc6-89dc-4488-8e25-35ba0dc4f224', 1, 20249, 27, 360, '20664.24', 3, 0, 1, '30-06-2023 12:00', '2,5', 0, 1.0, 1.0, 1.0, 0.0, 0.0, 1, 1, 0.0, 4.0, 2.0, 8, 0.472404017762086, 46899.0, 'ООО \"СТРОЙРЕСУРС\" (ИНН: 6312132148)', 1, '[]', 0, 'oooalyans63@gmail.com', 0, 'B', 10, 6193, 'АЛЬЯНС', 'АЛЬЯНС', 'АЛЬЯНС', 0, 1, 1, 'Самарская область', '+7(846)203-03-47', 'alians63.ru', 'oooalyans63@gmail.com', '6312173063', '1176313046678', '631201001', 'Самарская область, город Самара, улица Олимпийская дом 65 офис 1', 'обл Самарская город Самара проезд 4-ый  д. 66 комната 12', 638404, 0, 63, 'Жуков Михаил Геннадьевич', 'Альянс', 4, 'Общество с ограниченной ответственностью', 'ООО', 9176.0, 1, 0, 168.0, 120.0, 72.0, 0.0, 360.0, 2.0, 8.0, '7 / 10', 7.0, None, None, None, None, None, None, None, None, None, None, None, None, None, None, None),\n (68, 44752, 551799, 39, 'г Зеленоградск, ул Солнечная, литера 1', 7, 7, 80, '2025-03-31', 'Кирпич', 'Без отделки', 'Нет', 0, 5187.72, '39-001215', 'https://xn--80az8a.xn--d1aqf.xn--p1ai/api/ext/file/16c3dcc9-5ab6-4974-9625-3721fdda0ca0', '02-08-2022 12:47', '54.9542', '20.4883', 0, 0, 'Комфорт', '04-10-2022 01:30', \"[{'objId': 44752, 'pdId': 551799, 'rpdId': 620442, 'devId': 13654, 'ordNum': 1, 'objRenderPhotoSize': 153850, 'objRenderPhotoUrl': 'https://xn--80az8 ... (155 characters truncated) ... PhotoNm': 'PHOTO-2022-05-04-09-56-09.jpg', 'objReadyDesc': 'Строится', 'objBuildTypeShortDesc': 'Жилое', 'knFlg': 1, 'loadDttm': '04-10-2022 01:14'}]\", 1, 'normal', 'https://xn--80az8a.xn--d1aqf.xn--p1ai/api/ext/file/bf8fd6df-97ea-42ff-9a99-50f821abf5a6', 1, 125350, 7, 80, '5187.72', 10, 0, 1, '01-05-2025 12:00', '2,7', 0, 1.0, 1.0, 1.0, 40.0, 0.0, 0, 1, 0.0, 2.0, 2.0, 4, None, None, 'ООО СТРОЙ СЕРВИС ПЛЮС (ИНН: 3908028694)', 0, '[]', 0, 'rabota201013@mail.ru', 0, 'B', 5, 13654, 'АЛЬЯНС-БРИЛЛ', 'АЛЬЯНС-БРИЛЛ', 'АЛЬЯНС-БРИЛЛ', 0, 1, 0, 'Калининградская область', '+7(401)255-55-22', 'www.skmpk.ru/', 'rabota201013@mail.ru', '3906341911', '1143926040378', '390601001', 'Калининградская область, г Калининград, ул Гайдара дом 93 квартира 43', 'обл Калининградская, г Калининград, ул Гайдара, д. 93, кв. 43', 620442, 0, 39, 'Авраменко Анатолий Анатольевич', None, 4, 'Общество с ограниченной ответственностью', 'ООО', None, 1, 0, 54.0, 26.0, 0.0, 0.0, 80.0, 2.0, 6.0, None, None, None, None, None, None, None, None, None, None, None, None, None, None, None, None, None),\n (69, 37465, 379714, 54, 'г Новосибирск, улица Кавалерийская', 17, 17, 159, '2023-12-31', 'Монолит-кирпич', 'Другое', 'Есть', 135, 10568.3, '54-001238', 'https://xn--80az8a.xn--d1aqf.xn--p1ai/api/ext/file/e341aaa1-a8a9-4d1d-a53a-a19ecad2ff8e', '19-09-2022 10:25', '55.0558', '82.9143', 0, 0, 'Комфорт', '04-10-2022 01:30', \"[{'objId': 37465, 'pdId': 379714, 'rpdId': 636671, 'devId': 9755, 'ordNum': 1, 'objRenderPhotoSize': 1383608, 'objRenderPhotoUrl': 'https://xn--80az8 ... (138 characters truncated) ... g': 0, 'objRenderPhotoNm': 'IMG_2511.jpg', 'objReadyDesc': 'Строится', 'objBuildTypeShortDesc': 'Жилое', 'knFlg': 1, 'loadDttm': '04-10-2022 01:14'}]\", 1, 'normal', 'https://xn--80az8a.xn--d1aqf.xn--p1ai/api/ext/file/8bab931b-2322-449c-a650-5d47cb86269c', 1, 117854, 17, 159, '10568.3', 51, 0, 1, '31-05-2024 12:00', '3 - 3,3', 1, 1.0, 3.0, 1.0, 10.0, 30.0, 1, 1, 0.0, 7.0, 4.0, 11, 0.1433248488404, 153138.0, 'ООО Строймегас (ИНН: 5405035160)', 1, '[]', 0, 'anvnsk@inbox.ru', 0, 'B', 10, 9755, 'АНВ', 'АНВ', 'АНВ', 0, 1, 0, 'Новосибирская область', '+7(383)299-57-17', 'www.berlinsk.ru', 'anvnsk@inbox.ru', '5406549954', '1095406033821', '540701001', 'Новосибирская область, г Новосибирск, ул Вокзальная магистраль дом 1/1', 'обл Новосибирская, г Новосибирск, ул Вокзальная магистраль, д. 1/1', 636671, 0, 54, 'Орлова Елена Илларионовна', None, 4, 'Общество с ограниченной ответственностью', 'ООО', None, 1, 0, 108.0, 51.0, 0.0, 0.0, 159.0, 3.0, 5.0, '7 / 10', 7.0, 'Берлин', None, None, None, None, None, None, None, None, None, None, None, None, None, None),\n (70, 33525, 137506, 55, 'г Омск, улица Маршала Жукова - Бульварная, д. 154, корпус 1', 12, 17, 0, '2022-12-31', 'Монолит-кирпич', 'Без отделки', 'Есть', 0, 0.0, '55-000060', 'https://xn--80az8a.xn--d1aqf.xn--p1ai/api/ext/file/032644a8-a745-4ee7-85df-87d8d865189c', '08-09-2022 09:14', '54.9647', '73.3919', 0, 0, 'Бизнес', '04-10-2022 01:30', \"[{'objId': 33525, 'pdId': 137506, 'rpdId': 633337, 'devId': 7619, 'ordNum': 1, 'objRenderPhotoSize': 4295491, 'objRenderPhotoUrl': 'https://xn--80az8 ... (6342 characters truncated) ... toNm': 'PHOTO-2021-10-08-10-00-162.jpg', 'objReadyDesc': 'Строится', 'objBuildTypeShortDesc': 'Нежилое', 'knFlg': 0, 'loadDttm': '04-10-2022 01:14'}]\", 0, 'normal', 'https://xn--80az8a.xn--d1aqf.xn--p1ai/api/ext/file/54650177-4fba-493c-84dd-c6d7304354cd', 0, 44398, 17, 0, '0.0', 308, 0, 1, '15-03-2023 12:00', None, 0, 0.0, 0.0, 1.0, 36.0, 0.0, 1, 1, 1.0, 3.0, 1.0, 5, 0.6770083197178, 51632.0, 'ООО ПМК-944 ТЖ (ИНН: 5501104634)', 1, '[]', 0, 'apartotelmarshal@yandex.ru', 0, 'B', 9, 7619, 'АПАРТ ОТЕЛЬ МАРШАЛ', 'АПАРТ ОТЕЛЬ МАРШАЛ', 'АПАРТ ОТЕЛЬ МАРШАЛ', 0, 1, 0, 'Омская область', '+7(913)611-06-67', 'www.apartotelmarshal.ru', 'apartotelmarshal@yandex.ru', '5514009272', '1135514000995', '550101001', 'Омская область, город Омск, улица Губкина дом 12 помещение 12', '644023 Омская область, город Омск, улица Губкина 12, помещение 12', 633337, 0, 55, 'Доронин Сергей Александрович', 'Апарт-отель Маршал', 4, 'Общество с ограниченной ответственностью', 'ООО', 7643.0, 0, 0, None, None, None, None, None, None, None, None, None, None, None, None, None, None, None, None, None, None, None, None, None, None, None, None),\n (71, 3148, 5903, 39, 'город Гурьевск, улица Пражский бульвар', 2, 2, 0, '2022-12-31', 'Кирпич', 'Без отделки', 'Есть', 0, 0.0, '39-000093', 'https://xn--80az8a.xn--d1aqf.xn--p1ai/api/ext/file/d2986857-0c5e-4a28-95b6-a7bded5f654f', '03-10-2022 11:08', '54.7618', '20.603', 0, 0, 'Типовой', '04-10-2022 01:30', \"[{'objId': 3148, 'pdId': 5903, 'rpdId': 639167, 'devId': 1758, 'ordNum': 1, 'objRenderPhotoSize': 1453459, 'objRenderPhotoUrl': 'https://xn--80az8a.x ... (3756 characters truncated) ... toNm': 'PHOTO-2022-07-01-12-04-366.jpg', 'objReadyDesc': 'Строится', 'objBuildTypeShortDesc': 'Нежилое', 'knFlg': 0, 'loadDttm': '04-10-2022 01:14'}]\", 0, 'normal', 'https://xn--80az8a.xn--d1aqf.xn--p1ai/api/ext/file/bedbc2ec-127f-4859-a0b3-e5560890dbc3', 0, 38138, 2, 0, '0.0', 64, 0, 1, '31-12-2022 12:00', None, 0, 0.0, 0.0, 0.0, 0.0, 0.0, 1, 0, 0.0, 0.0, 0.0, 0, 1.0, 39853.0, None, 1, '[]', 0, 'Aventa_@mail.ru', 0, 'A+', 5, 1758, 'АППОЛОН', 'АППОЛОН', 'АППОЛОН', 0, 1, 1, 'Калининградская область', '+7(401)231-14-71', 'appolon39.ru', 'zabelinaulya@list.ru', '3904091310', '1073905023026', '390601001', 'Калининградская область, город Калининград, проспект Ленинский дом 18', 'обл Калининградская, г Калининград, пр-кт Ленинский д. 18', 639167, 0, 39, 'Рассихина Ульяна Олеговна', 'АППОЛОН', 4, 'Общество с ограниченной ответственностью', 'ООО', 4762.0, 0, 0, None, None, None, None, None, None, None, None, None, None, None, None, None, None, None, None, None, None, None, None, None, None, None, None),\n (72, 33217, 77853, 77, 'д Зверево, д. 123', 3, 3, 39, '2022-12-31', 'Другое', 'Без отделки', 'Нет', 0, 2278.61, '77-001887', 'https://xn--80az8a.xn--d1aqf.xn--p1ai/api/ext/file/a4b815db-2319-48ef-a4be-a08f8530a66d', '19-08-2022 12:08', '55.5049', '36.9317', 0, 0, 'Типовой', '04-10-2022 01:30', \"[{'objId': 33217, 'pdId': 77853, 'rpdId': 627622, 'devId': 3522, 'ordNum': 1, 'objRenderPhotoSize': 2907821, 'objRenderPhotoUrl': 'https://xn--80az8a ... (144 characters truncated) ... 'objRenderPhotoNm': '20211206_122232.jpg', 'objReadyDesc': 'Строится', 'objBuildTypeShortDesc': 'Жилое', 'knFlg': 1, 'loadDttm': '04-10-2022 01:14'}]\", 0, 'normal', 'https://xn--80az8a.xn--d1aqf.xn--p1ai/api/ext/file/09f4f689-f09c-4a8c-80c7-b854088d4f94', 1, 44055, 3, 39, '2278.61', 0, 0, 1, '31-03-2023 12:00', '2,7', 0, 0.0, 0.0, 0.0, 0.0, 0.0, 1, 1, 0.0, 0.0, 0.0, 0, None, None, 'ООО АСК ОЛИМПСТРОЙ (ИНН: 7703592360)', 0, '[]', 0, 'info@bg.msk.ru', 0, 'B', 1, 3522, 'АПРЕЛЕВКА С2', 'АПРЕЛЕВКА С2', 'АПРЕЛЕВКА С2', 0, 116, 109, 'Московская область', '+7(495)023-11-11', 'aprelevka-s2.ru', 'info@bg.msk.ru', '5030049041', '1055005607183', '503001001', 'Московская область, деревня новоглаголево, улица Водная дом 1 корпус 2 помещение 2-8', 'Московская область,город Наро-Фоминск, деревня Новоглаголево, улица Водная 1к2, помещение 2-8', 627622, 0, 50, 'Васильев Борис Цибенович', None, 4, 'Общество с ограниченной ответственностью', 'ООО', None, 0, 0, 11.0, 16.0, 12.0, 0.0, 39.0, 2.0, 7.0, None, None, 'Рябиновый квартал, дом 123', 1.0, 10.0, None, None, None, None, None, None, None, None, None, None, None, None),\n (73, 33224, 77853, 77, 'д Зверево, д. 130', 3, 3, 30, '2022-12-31', 'Другое', 'Без отделки', 'Нет', 0, 1097.08, '77-001887', 'https://xn--80az8a.xn--d1aqf.xn--p1ai/api/ext/file/a4b815db-2319-48ef-a4be-a08f8530a66d', '19-08-2022 12:08', '55.5042', '36.9346', 0, 0, 'Типовой', '04-10-2022 01:30', \"[{'objId': 33224, 'pdId': 77853, 'rpdId': 627622, 'devId': 3522, 'ordNum': 1, 'objRenderPhotoSize': 3175033, 'objRenderPhotoUrl': 'https://xn--80az8a ... (144 characters truncated) ... 'objRenderPhotoNm': '20211210_134440.jpg', 'objReadyDesc': 'Строится', 'objBuildTypeShortDesc': 'Жилое', 'knFlg': 1, 'loadDttm': '04-10-2022 01:14'}]\", 0, 'normal', 'https://xn--80az8a.xn--d1aqf.xn--p1ai/api/ext/file/94f3ee58-1313-44c9-8465-21e4811dc90c', 1, 44062, 3, 30, '1097.08', 0, 0, 1, '31-03-2023 12:00', '2,7', 0, 0.0, 0.0, 0.0, 0.0, 21.0, 1, 1, 0.0, 0.0, 0.0, 0, None, None, 'ООО АСК ОЛИМПСТРОЙ (ИНН: 7703592360)', 0, '[]', 0, 'info@bg.msk.ru', 0, 'B', 1, 3522, 'АПРЕЛЕВКА С2', 'АПРЕЛЕВКА С2', 'АПРЕЛЕВКА С2', 0, 116, 109, 'Московская область', '+7(495)023-11-11', 'aprelevka-s2.ru', 'info@bg.msk.ru', '5030049041', '1055005607183', '503001001', 'Московская область, деревня новоглаголево, улица Водная дом 1 корпус 2 помещение 2-8', 'Московская область,город Наро-Фоминск, деревня Новоглаголево, улица Водная 1к2, помещение 2-8', 627622, 0, 50, 'Васильев Борис Цибенович', None, 4, 'Общество с ограниченной ответственностью', 'ООО', None, 0, 0, 24.0, 6.0, 0.0, 0.0, 30.0, 1.0, 10.0, None, None, 'Рябиновый квартал, дом 130', 1.0, 10.0, None, None, None, None, None, None, None, None, None, None, None, None),\n (74, 33161, 77853, 77, 'д Зверево, д. 67', 3, 3, 51, '2024-12-31', 'Другое', 'Без отделки', 'Нет', 0, 2198.66, '77-001887', 'https://xn--80az8a.xn--d1aqf.xn--p1ai/api/ext/file/a4b815db-2319-48ef-a4be-a08f8530a66d', '19-08-2022 12:08', '55.4984', '36.9292', 0, 0, 'Типовой', '04-10-2022 01:30', \"[{'objId': 33161, 'pdId': 77853, 'rpdId': 627622, 'devId': 3522, 'ordNum': 1, 'objRenderPhotoSize': 3919075, 'objRenderPhotoUrl': 'https://xn--80az8a ... (133 characters truncated) ... enFlg': 0, 'objRenderPhotoNm': '67-2.jpg', 'objReadyDesc': 'Строится', 'objBuildTypeShortDesc': 'Жилое', 'knFlg': 1, 'loadDttm': '04-10-2022 01:14'}]\", 0, 'normal', 'https://xn--80az8a.xn--d1aqf.xn--p1ai/api/ext/file/44f3c425-44b7-4c7e-9d14-d49799f63788', 1, 43999, 3, 51, '2198.66', 0, 0, 1, '31-12-2024 12:00', '2,7', 0, 0.0, 0.0, 0.0, 0.0, 27.0, 1, 1, 0.0, 0.0, 0.0, 0, None, None, 'ООО АСК ОЛИМПСТРОЙ (ИНН: 7703592360)', 0, '[]', 0, 'info@bg.msk.ru', 0, 'B', 1, 3522, 'АПРЕЛЕВКА С2', 'АПРЕЛЕВКА С2', 'АПРЕЛЕВКА С2', 0, 116, 109, 'Московская область', '+7(495)023-11-11', 'aprelevka-s2.ru', 'info@bg.msk.ru', '5030049041', '1055005607183', '503001001', 'Московская область, деревня новоглаголево, улица Водная дом 1 корпус 2 помещение 2-8', 'Московская область,город Наро-Фоминск, деревня Новоглаголево, улица Водная 1к2, помещение 2-8', 627622, 0, 50, 'Васильев Борис Цибенович', None, 4, 'Общество с ограниченной ответственностью', 'ООО', None, 0, 0, 35.0, 16.0, 0.0, 0.0, 51.0, 2.0, 9.0, None, None, 'Березовый квартал, дом 67', 1.0, 10.0, None, None, None, None, None, None, None, None, None, None, None, None),\n (75, 33139, 77853, 77, 'д Зверево, д. 45', 3, 3, 30, '2023-12-31', 'Другое', 'Без отделки', 'Нет', 0, 1097.08, '77-001887', 'https://xn--80az8a.xn--d1aqf.xn--p1ai/api/ext/file/a4b815db-2319-48ef-a4be-a08f8530a66d', '19-08-2022 12:08', '55.5017', '36.9302', 0, 0, 'Типовой', '04-10-2022 01:30', \"[{'objId': 33139, 'pdId': 77853, 'rpdId': 627622, 'devId': 3522, 'ordNum': 1, 'objRenderPhotoSize': 193324, 'objRenderPhotoUrl': 'https://xn--80az8a. ... (571 characters truncated) ... ': 0, 'objRenderPhotoNm': 'Фото_0021.jpg', 'objReadyDesc': 'Строится', 'objBuildTypeShortDesc': 'Жилое', 'knFlg': 1, 'loadDttm': '04-10-2022 01:14'}]\", 0, 'normal', 'https://xn--80az8a.xn--d1aqf.xn--p1ai/api/ext/file/19e30ad2-0093-4747-a665-b5d07c383d57', 1, 43977, 3, 30, '1097.08', 0, 0, 1, '31-12-2023 12:00', '2,7', 0, 0.0, 0.0, 1.0, 0.0, 2.0, 1, 1, 0.0, 0.0, 0.0, 0, None, None, 'ООО АСК ОЛИМПСТРОЙ (ИНН: 7703592360)', 0, '[]', 0, 'info@bg.msk.ru', 0, 'B', 1, 3522, 'АПРЕЛЕВКА С2', 'АПРЕЛЕВКА С2', 'АПРЕЛЕВКА С2', 0, 116, 109, 'Московская область', '+7(495)023-11-11', 'aprelevka-s2.ru', 'info@bg.msk.ru', '5030049041', '1055005607183', '503001001', 'Московская область, деревня новоглаголево, улица Водная дом 1 корпус 2 помещение 2-8', 'Московская область,город Наро-Фоминск, деревня Новоглаголево, улица Водная 1к2, помещение 2-8', 627622, 0, 50, 'Васильев Борис Цибенович', None, 4, 'Общество с ограниченной ответственностью', 'ООО', None, 0, 0, 24.0, 6.0, 0.0, 0.0, 30.0, 1.0, 10.0, None, None, 'Сиреневый квартал, дом 45', 1.0, 10.0, None, None, None, None, None, None, None, None, None, None, None, None),\n (76, 33186, 77853, 77, 'д Зверево, д. 92', 3, 3, 75, '2022-12-31', 'Другое', 'Без отделки', 'Нет', 0, 3280.8, '77-001887', 'https://xn--80az8a.xn--d1aqf.xn--p1ai/api/ext/file/a4b815db-2319-48ef-a4be-a08f8530a66d', '19-08-2022 12:08', '55.5064', '36.9316', 0, 0, 'Типовой', '04-10-2022 01:30', \"[{'objId': 33186, 'pdId': 77853, 'rpdId': 627622, 'devId': 3522, 'ordNum': 1, 'objRenderPhotoSize': 2797562, 'objRenderPhotoUrl': 'https://xn--80az8a ... (144 characters truncated) ... 'objRenderPhotoNm': '20211206_123614.jpg', 'objReadyDesc': 'Строится', 'objBuildTypeShortDesc': 'Жилое', 'knFlg': 1, 'loadDttm': '04-10-2022 01:14'}]\", 0, 'normal', 'https://xn--80az8a.xn--d1aqf.xn--p1ai/api/ext/file/fb6b1b41-32b2-4947-b1d6-06f3bfe0e457', 1, 44024, 3, 75, '3280.8', 0, 0, 1, '31-03-2023 12:00', '2,7', 0, 0.0, 0.0, 0.0, 0.0, 6.0, 1, 1, 0.0, 0.0, 0.0, 0, None, None, 'ООО АСК ОЛИМПСТРОЙ (ИНН: 7703592360)', 0, '[]', 0, 'info@bg.msk.ru', 0, 'B', 1, 3522, 'АПРЕЛЕВКА С2', 'АПРЕЛЕВКА С2', 'АПРЕЛЕВКА С2', 0, 116, 109, 'Московская область', '+7(495)023-11-11', 'aprelevka-s2.ru', 'info@bg.msk.ru', '5030049041', '1055005607183', '503001001', 'Московская область, деревня новоглаголево, улица Водная дом 1 корпус 2 помещение 2-8', 'Московская область,город Наро-Фоминск, деревня Новоглаголево, улица Водная 1к2, помещение 2-8', 627622, 0, 50, 'Васильев Борис Цибенович', None, 4, 'Общество с ограниченной ответственностью', 'ООО', None, 0, 0, 51.0, 24.0, 0.0, 0.0, 75.0, 3.0, 8.0, None, None, 'Рябиновый квартал, дом 92', 1.0, 10.0, None, None, None, None, None, None, None, None, None, None, None, None),\n (77, 33206, 77853, 77, 'д Зверево, д. 112', 3, 3, 39, '2022-12-31', 'Другое', 'Без отделки', 'Нет', 0, 2278.61, '77-001887', 'https://xn--80az8a.xn--d1aqf.xn--p1ai/api/ext/file/a4b815db-2319-48ef-a4be-a08f8530a66d', '19-08-2022 12:08', '55.5051', '36.9329', 0, 0, 'Типовой', '04-10-2022 01:30', \"[{'objId': 33206, 'pdId': 77853, 'rpdId': 627622, 'devId': 3522, 'ordNum': 1, 'objRenderPhotoSize': 2942606, 'objRenderPhotoUrl': 'https://xn--80az8a ... (144 characters truncated) ... 'objRenderPhotoNm': '20211206_123902.jpg', 'objReadyDesc': 'Строится', 'objBuildTypeShortDesc': 'Жилое', 'knFlg': 1, 'loadDttm': '04-10-2022 01:14'}]\", 0, 'normal', 'https://xn--80az8a.xn--d1aqf.xn--p1ai/api/ext/file/59b05977-6a6a-4f3e-bd5f-530aca354a9d', 1, 44044, 3, 39, '2278.61', 0, 0, 1, '31-03-2023 12:00', '2,7', 0, 0.0, 0.0, 0.0, 0.0, 6.0, 1, 1, 0.0, 0.0, 0.0, 0, None, None, 'ООО АСК ОЛИМПСТРОЙ (ИНН: 7703592360)', 0, '[]', 0, 'info@bg.msk.ru', 0, 'B', 1, 3522, 'АПРЕЛЕВКА С2', 'АПРЕЛЕВКА С2', 'АПРЕЛЕВКА С2', 0, 116, 109, 'Московская область', '+7(495)023-11-11', 'aprelevka-s2.ru', 'info@bg.msk.ru', '5030049041', '1055005607183', '503001001', 'Московская область, деревня новоглаголево, улица Водная дом 1 корпус 2 помещение 2-8', 'Московская область,город Наро-Фоминск, деревня Новоглаголево, улица Водная 1к2, помещение 2-8', 627622, 0, 50, 'Васильев Борис Цибенович', None, 4, 'Общество с ограниченной ответственностью', 'ООО', None, 0, 0, 11.0, 16.0, 12.0, 0.0, 39.0, 2.0, 7.0, None, None, 'Рябиновый квартал, дом 112', 1.0, 10.0, None, None, None, None, None, None, None, None, None, None, None, None),\n (78, 33175, 77853, 77, 'д Зверево, д. 81', 3, 3, 51, '2022-12-31', 'Другое', 'Без отделки', 'Нет', 0, 2198.66, '77-001887', 'https://xn--80az8a.xn--d1aqf.xn--p1ai/api/ext/file/a4b815db-2319-48ef-a4be-a08f8530a66d', '19-08-2022 12:08', '55.5058', '36.9351', 0, 0, 'Типовой', '04-10-2022 01:30', \"[{'objId': 33175, 'pdId': 77853, 'rpdId': 627622, 'devId': 3522, 'ordNum': 1, 'objRenderPhotoSize': 2783210, 'objRenderPhotoUrl': 'https://xn--80az8a ... (144 characters truncated) ... 'objRenderPhotoNm': '20211206_131222.jpg', 'objReadyDesc': 'Строится', 'objBuildTypeShortDesc': 'Жилое', 'knFlg': 1, 'loadDttm': '04-10-2022 01:14'}]\", 0, 'normal', 'https://xn--80az8a.xn--d1aqf.xn--p1ai/api/ext/file/81bdaaed-aef3-4b6f-9e90-deecf542d8e4', 1, 44013, 3, 51, '2198.66', 0, 0, 1, '31-03-2023 12:00', '2,7', 0, 1.0, 0.0, 0.0, 0.0, 0.0, 1, 1, 0.0, 0.0, 0.0, 0, None, None, 'ООО АСК ОЛИМПСТРОЙ (ИНН: 7703592360)', 0, '[]', 0, 'info@bg.msk.ru', 0, 'B', 1, 3522, 'АПРЕЛЕВКА С2', 'АПРЕЛЕВКА С2', 'АПРЕЛЕВКА С2', 0, 116, 109, 'Московская область', '+7(495)023-11-11', 'aprelevka-s2.ru', 'info@bg.msk.ru', '5030049041', '1055005607183', '503001001', 'Московская область, деревня новоглаголево, улица Водная дом 1 корпус 2 помещение 2-8', 'Московская область,город Наро-Фоминск, деревня Новоглаголево, улица Водная 1к2, помещение 2-8', 627622, 0, 50, 'Васильев Борис Цибенович', None, 4, 'Общество с ограниченной ответственностью', 'ООО', None, 0, 0, 35.0, 16.0, 0.0, 0.0, 51.0, 2.0, 9.0, None, None, 'Березовый квартал, дом 81', 1.0, 10.0, None, None, None, None, None, None, None, None, None, None, None, None),\n (79, 33230, 77853, 77, 'д Зверево, д. 136', 3, 3, 23, '2022-12-31', 'Другое', 'Без отделки', 'Нет', 0, 1017.17, '77-001887', 'https://xn--80az8a.xn--d1aqf.xn--p1ai/api/ext/file/a4b815db-2319-48ef-a4be-a08f8530a66d', '19-08-2022 12:08', '55.5037', '36.9344', 0, 0, 'Типовой', '04-10-2022 01:30', \"[{'objId': 33230, 'pdId': 77853, 'rpdId': 627622, 'devId': 3522, 'ordNum': 1, 'objRenderPhotoSize': 2825330, 'objRenderPhotoUrl': 'https://xn--80az8a ... (144 characters truncated) ... 'objRenderPhotoNm': '20211210_134530.jpg', 'objReadyDesc': 'Строится', 'objBuildTypeShortDesc': 'Жилое', 'knFlg': 1, 'loadDttm': '04-10-2022 01:14'}]\", 0, 'normal', 'https://xn--80az8a.xn--d1aqf.xn--p1ai/api/ext/file/cad362f9-e8af-4bcb-ad12-e1d8ba147c6c', 1, 44068, 3, 23, '1017.17', 0, 0, 1, '31-03-2023 12:00', '2,7', 0, 0.0, 0.0, 0.0, 0.0, 10.0, 1, 1, 0.0, 0.0, 0.0, 0, None, None, 'ООО АСК ОЛИМПСТРОЙ (ИНН: 7703592360)', 0, '[]', 0, 'info@bg.msk.ru', 0, 'B', 1, 3522, 'АПРЕЛЕВКА С2', 'АПРЕЛЕВКА С2', 'АПРЕЛЕВКА С2', 0, 116, 109, 'Московская область', '+7(495)023-11-11', 'aprelevka-s2.ru', 'info@bg.msk.ru', '5030049041', '1055005607183', '503001001', 'Московская область, деревня новоглаголево, улица Водная дом 1 корпус 2 помещение 2-8', 'Московская область,город Наро-Фоминск, деревня Новоглаголево, улица Водная 1к2, помещение 2-8', 627622, 0, 50, 'Васильев Борис Цибенович', None, 4, 'Общество с ограниченной ответственностью', 'ООО', None, 0, 0, 22.0, 1.0, 0.0, 0.0, 23.0, 1.0, 8.0, None, None, 'Рябиновый квартал, дом 136', 1.0, 10.0, None, None, None, None, None, None, None, None, None, None, None, None),\n (80, 33183, 77853, 77, 'д Зверево, д. 89', 3, 3, 18, '2022-12-31', 'Другое', 'Без отделки', 'Нет', 0, 1026.64, '77-001887', 'https://xn--80az8a.xn--d1aqf.xn--p1ai/api/ext/file/a4b815db-2319-48ef-a4be-a08f8530a66d', '19-08-2022 12:08', '55.5061', '36.9327', 0, 0, 'Типовой', '04-10-2022 01:30', \"[{'objId': 33183, 'pdId': 77853, 'rpdId': 627622, 'devId': 3522, 'ordNum': 1, 'objRenderPhotoSize': 2829643, 'objRenderPhotoUrl': 'https://xn--80az8a ... (144 characters truncated) ... 'objRenderPhotoNm': '20211206_121530.jpg', 'objReadyDesc': 'Строится', 'objBuildTypeShortDesc': 'Жилое', 'knFlg': 1, 'loadDttm': '04-10-2022 01:14'}]\", 0, 'normal', 'https://xn--80az8a.xn--d1aqf.xn--p1ai/api/ext/file/3995abfe-30e4-4e12-9754-e9c588194178', 1, 44021, 3, 18, '1026.64', 0, 0, 1, '31-03-2023 12:00', '2,7', 0, 0.0, 0.0, 0.0, 0.0, 0.0, 1, 1, 0.0, 0.0, 0.0, 0, None, None, 'ООО АСК ОЛИМПСТРОЙ (ИНН: 7703592360)', 0, '[]', 0, 'info@bg.msk.ru', 0, 'B', 1, 3522, 'АПРЕЛЕВКА С2', 'АПРЕЛЕВКА С2', 'АПРЕЛЕВКА С2', 0, 116, 109, 'Московская область', '+7(495)023-11-11', 'aprelevka-s2.ru', 'info@bg.msk.ru', '5030049041', '1055005607183', '503001001', 'Московская область, деревня новоглаголево, улица Водная дом 1 корпус 2 помещение 2-8', 'Московская область,город Наро-Фоминск, деревня Новоглаголево, улица Водная 1к2, помещение 2-8', 627622, 0, 50, 'Васильев Борис Цибенович', None, 4, 'Общество с ограниченной ответственностью', 'ООО', None, 0, 0, 12.0, 1.0, 5.0, 0.0, 18.0, 1.0, 6.0, None, None, 'Рябиновый квартал, дом 89', 1.0, 10.0, None, None, None, None, None, None, None, None, None, None, None, None),\n (81, 33167, 77853, 77, 'д Зверево, д. 73', 3, 3, 78, '2022-12-31', 'Другое', 'Без отделки', 'Нет', 0, 3315.18, '77-001887', 'https://xn--80az8a.xn--d1aqf.xn--p1ai/api/ext/file/a4b815db-2319-48ef-a4be-a08f8530a66d', '19-08-2022 12:08', '55.4996', '36.9309', 0, 0, 'Типовой', '04-10-2022 01:30', \"[{'objId': 33167, 'pdId': 77853, 'rpdId': 627622, 'devId': 3522, 'ordNum': 1, 'objRenderPhotoSize': 3038172, 'objRenderPhotoUrl': 'https://xn--80az8a ... (144 characters truncated) ... 'objRenderPhotoNm': '20211206_130932.jpg', 'objReadyDesc': 'Строится', 'objBuildTypeShortDesc': 'Жилое', 'knFlg': 1, 'loadDttm': '04-10-2022 01:14'}]\", 0, 'normal', 'https://xn--80az8a.xn--d1aqf.xn--p1ai/api/ext/file/d0f4cbdf-8383-4d03-b7c4-7f7bb2d9c531', 1, 44005, 3, 78, '3315.18', 0, 0, 1, '31-03-2023 12:00', '2,7', 0, 0.0, 0.0, 0.0, 0.0, 51.0, 1, 1, 0.0, 0.0, 0.0, 0, None, None, 'ООО АСК ОЛИМПСТРОЙ (ИНН: 7703592360)', 0, '[]', 0, 'info@bg.msk.ru', 0, 'B', 1, 3522, 'АПРЕЛЕВКА С2', 'АПРЕЛЕВКА С2', 'АПРЕЛЕВКА С2', 0, 116, 109, 'Московская область', '+7(495)023-11-11', 'aprelevka-s2.ru', 'info@bg.msk.ru', '5030049041', '1055005607183', '503001001', 'Московская область, деревня новоглаголево, улица Водная дом 1 корпус 2 помещение 2-8', 'Московская область,город Наро-Фоминск, деревня Новоглаголево, улица Водная 1к2, помещение 2-8', 627622, 0, 50, 'Васильев Борис Цибенович', None, 4, 'Общество с ограниченной ответственностью', 'ООО', None, 0, 0, 54.0, 24.0, 0.0, 0.0, 78.0, 3.0, 9.0, None, None, 'Березовый квартал, дом 73', 1.0, 10.0, None, None, None, None, None, None, None, None, None, None, None, None),\n (82, 33152, 77853, 77, 'д Зверево, д. 58', 3, 3, 78, '2024-09-30', 'Другое', 'Без отделки', 'Нет', 0, 3315.18, '77-001887', 'https://xn--80az8a.xn--d1aqf.xn--p1ai/api/ext/file/a4b815db-2319-48ef-a4be-a08f8530a66d', '19-08-2022 12:08', '55.5008', '36.932', 0, 0, 'Типовой', '04-10-2022 01:30', \"[{'objId': 33152, 'pdId': 77853, 'rpdId': 627622, 'devId': 3522, 'ordNum': 1, 'objRenderPhotoSize': 3767599, 'objRenderPhotoUrl': 'https://xn--80az8a ... (133 characters truncated) ... enFlg': 0, 'objRenderPhotoNm': '58-2.jpg', 'objReadyDesc': 'Строится', 'objBuildTypeShortDesc': 'Жилое', 'knFlg': 1, 'loadDttm': '04-10-2022 01:14'}]\", 0, 'normal', 'https://xn--80az8a.xn--d1aqf.xn--p1ai/api/ext/file/1c6eb560-e0b0-4bfc-9f12-abf468aeff25', 1, 43990, 3, 78, '3315.18', 0, 0, 1, '30-09-2024 12:00', '2,7', 0, 0.0, 0.0, 0.0, 0.0, 15.0, 1, 1, 0.0, 0.0, 0.0, 0, None, None, 'ООО АСК ОЛИМПСТРОЙ (ИНН: 7703592360)', 0, '[]', 0, 'info@bg.msk.ru', 0, 'B', 1, 3522, 'АПРЕЛЕВКА С2', 'АПРЕЛЕВКА С2', 'АПРЕЛЕВКА С2', 0, 116, 109, 'Московская область', '+7(495)023-11-11', 'aprelevka-s2.ru', 'info@bg.msk.ru', '5030049041', '1055005607183', '503001001', 'Московская область, деревня новоглаголево, улица Водная дом 1 корпус 2 помещение 2-8', 'Московская область,город Наро-Фоминск, деревня Новоглаголево, улица Водная 1к2, помещение 2-8', 627622, 0, 50, 'Васильев Борис Цибенович', None, 4, 'Общество с ограниченной ответственностью', 'ООО', None, 0, 0, 54.0, 24.0, 0.0, 0.0, 78.0, 3.0, 9.0, None, None, 'Березовый квартал, дом 58', 1.0, 10.0, None, None, None, None, None, None, None, None, None, None, None, None),\n (83, 33172, 77853, 77, 'д Зверево, д. 78', 3, 3, 99, '2022-12-31', 'Другое', 'Без отделки', 'Нет', 0, 4362.94, '77-001887', 'https://xn--80az8a.xn--d1aqf.xn--p1ai/api/ext/file/a4b815db-2319-48ef-a4be-a08f8530a66d', '19-08-2022 12:08', '55.5006', '36.9323', 0, 0, 'Типовой', '04-10-2022 01:30', \"[{'objId': 33172, 'pdId': 77853, 'rpdId': 627622, 'devId': 3522, 'ordNum': 1, 'objRenderPhotoSize': 3234146, 'objRenderPhotoUrl': 'https://xn--80az8a ... (144 characters truncated) ... 'objRenderPhotoNm': '20211206_131108.jpg', 'objReadyDesc': 'Строится', 'objBuildTypeShortDesc': 'Жилое', 'knFlg': 1, 'loadDttm': '04-10-2022 01:14'}]\", 0, 'normal', 'https://xn--80az8a.xn--d1aqf.xn--p1ai/api/ext/file/80e1a96a-82e9-4250-97c1-e462ca76f17f', 1, 44010, 3, 99, '4362.94', 0, 0, 1, '31-03-2023 12:00', '2,7', 0, 0.0, 0.0, 0.0, 0.0, 11.0, 1, 1, 0.0, 0.0, 0.0, 0, None, None, 'ООО АСК ОЛИМПСТРОЙ (ИНН: 7703592360)', 0, '[]', 0, 'info@bg.msk.ru', 0, 'B', 1, 3522, 'АПРЕЛЕВКА С2', 'АПРЕЛЕВКА С2', 'АПРЕЛЕВКА С2', 0, 116, 109, 'Московская область', '+7(495)023-11-11', 'aprelevka-s2.ru', 'info@bg.msk.ru', '5030049041', '1055005607183', '503001001', 'Московская область, деревня новоглаголево, улица Водная дом 1 корпус 2 помещение 2-8', 'Московская область,город Наро-Фоминск, деревня Новоглаголево, улица Водная 1к2, помещение 2-8', 627622, 0, 50, 'Васильев Борис Цибенович', None, 4, 'Общество с ограниченной ответственностью', 'ООО', None, 0, 0, 67.0, 32.0, 0.0, 0.0, 99.0, 4.0, 8.0, None, None, 'Березовый квартал, дом 78', 1.0, 10.0, None, None, None, None, None, None, None, None, None, None, None, None),\n (84, 33188, 77853, 77, 'д Зверево, д. 94', 3, 3, 23, '2022-12-31', 'Другое', 'Без отделки', 'Нет', 0, 1017.17, '77-001887', 'https://xn--80az8a.xn--d1aqf.xn--p1ai/api/ext/file/a4b815db-2319-48ef-a4be-a08f8530a66d', '19-08-2022 12:08', '55.5063', '36.931', 0, 0, 'Типовой', '04-10-2022 01:30', \"[{'objId': 33188, 'pdId': 77853, 'rpdId': 627622, 'devId': 3522, 'ordNum': 1, 'objRenderPhotoSize': 3204024, 'objRenderPhotoUrl': 'https://xn--80az8a ... (144 characters truncated) ... 'objRenderPhotoNm': '20211206_123612.jpg', 'objReadyDesc': 'Строится', 'objBuildTypeShortDesc': 'Жилое', 'knFlg': 1, 'loadDttm': '04-10-2022 01:14'}]\", 0, 'normal', 'https://xn--80az8a.xn--d1aqf.xn--p1ai/api/ext/file/7b3dbfde-87c3-4811-a21b-0a7b5d2fc00b', 1, 44026, 3, 23, '1017.17', 0, 0, 1, '31-03-2023 12:00', '2,7', 0, 0.0, 0.0, 0.0, 0.0, 3.0, 1, 1, 0.0, 0.0, 0.0, 0, None, None, 'ООО АСК ОЛИМПСТРОЙ (ИНН: 7703592360)', 0, '[]', 0, 'info@bg.msk.ru', 0, 'B', 1, 3522, 'АПРЕЛЕВКА С2', 'АПРЕЛЕВКА С2', 'АПРЕЛЕВКА С2', 0, 116, 109, 'Московская область', '+7(495)023-11-11', 'aprelevka-s2.ru', 'info@bg.msk.ru', '5030049041', '1055005607183', '503001001', 'Московская область, деревня новоглаголево, улица Водная дом 1 корпус 2 помещение 2-8', 'Московская область,город Наро-Фоминск, деревня Новоглаголево, улица Водная 1к2, помещение 2-8', 627622, 0, 50, 'Васильев Борис Цибенович', None, 4, 'Общество с ограниченной ответственностью', 'ООО', None, 0, 0, 22.0, 1.0, 0.0, 0.0, 23.0, 1.0, 8.0, None, None, 'Рябиновый квартал, дом 94', 1.0, 10.0, None, None, None, None, None, None, None, None, None, None, None, None),\n (85, 33165, 77853, 77, 'д Зверево, д. 71', 3, 3, 60, '2022-12-31', 'Другое', 'Без отделки', 'Нет', 0, 3423.18, '77-001887', 'https://xn--80az8a.xn--d1aqf.xn--p1ai/api/ext/file/a4b815db-2319-48ef-a4be-a08f8530a66d', '19-08-2022 12:08', '55.4993', '36.9304', 0, 0, 'Типовой', '04-10-2022 01:30', \"[{'objId': 33165, 'pdId': 77853, 'rpdId': 627622, 'devId': 3522, 'ordNum': 1, 'objRenderPhotoSize': 3970046, 'objRenderPhotoUrl': 'https://xn--80az8a ... (133 characters truncated) ... enFlg': 0, 'objRenderPhotoNm': '71-2.jpg', 'objReadyDesc': 'Строится', 'objBuildTypeShortDesc': 'Жилое', 'knFlg': 1, 'loadDttm': '04-10-2022 01:14'}]\", 0, 'normal', 'https://xn--80az8a.xn--d1aqf.xn--p1ai/api/ext/file/e0ae098e-a823-4d68-a7f9-fd5181dc14b2', 1, 44003, 3, 60, '3423.18', 0, 0, 1, '31-03-2023 12:00', '2,7', 0, 0.0, 1.0, 0.0, 0.0, 9.0, 1, 1, 0.0, 0.0, 0.0, 0, None, None, 'ООО АСК ОЛИМПСТРОЙ (ИНН: 7703592360)', 0, '[]', 0, 'info@bg.msk.ru', 0, 'B', 1, 3522, 'АПРЕЛЕВКА С2', 'АПРЕЛЕВКА С2', 'АПРЕЛЕВКА С2', 0, 116, 109, 'Московская область', '+7(495)023-11-11', 'aprelevka-s2.ru', 'info@bg.msk.ru', '5030049041', '1055005607183', '503001001', 'Московская область, деревня новоглаголево, улица Водная дом 1 корпус 2 помещение 2-8', 'Московская область,город Наро-Фоминск, деревня Новоглаголево, улица Водная 1к2, помещение 2-8', 627622, 0, 50, 'Васильев Борис Цибенович', None, 4, 'Общество с ограниченной ответственностью', 'ООО', None, 0, 0, 18.0, 24.0, 18.0, 0.0, 60.0, 3.0, 7.0, None, None, 'Березовый квартал, дом 71', 1.0, 10.0, None, None, None, None, None, None, None, None, None, None, None, None),\n (86, 33227, 77853, 77, 'д Зверево, д. 133', 3, 3, 23, '2022-12-31', 'Другое', 'Без отделки', 'Нет', 0, 1017.17, '77-001887', 'https://xn--80az8a.xn--d1aqf.xn--p1ai/api/ext/file/a4b815db-2319-48ef-a4be-a08f8530a66d', '19-08-2022 12:08', '55.5037', '36.9353', 0, 0, 'Типовой', '04-10-2022 01:30', \"[{'objId': 33227, 'pdId': 77853, 'rpdId': 627622, 'devId': 3522, 'ordNum': 1, 'objRenderPhotoSize': 2951200, 'objRenderPhotoUrl': 'https://xn--80az8a ... (144 characters truncated) ... 'objRenderPhotoNm': '20211210_134503.jpg', 'objReadyDesc': 'Строится', 'objBuildTypeShortDesc': 'Жилое', 'knFlg': 1, 'loadDttm': '04-10-2022 01:14'}]\", 0, 'normal', 'https://xn--80az8a.xn--d1aqf.xn--p1ai/api/ext/file/52428f30-61fa-4aba-a1d1-c4f817fb86c2', 1, 44065, 3, 23, '1017.17', 0, 0, 1, '31-03-2023 12:00', '2,7', 0, 0.0, 0.0, 0.0, 0.0, 10.0, 1, 1, 0.0, 0.0, 0.0, 0, None, None, 'ООО АСК ОЛИМПСТРОЙ (ИНН: 7703592360)', 0, '[]', 0, 'info@bg.msk.ru', 0, 'B', 1, 3522, 'АПРЕЛЕВКА С2', 'АПРЕЛЕВКА С2', 'АПРЕЛЕВКА С2', 0, 116, 109, 'Московская область', '+7(495)023-11-11', 'aprelevka-s2.ru', 'info@bg.msk.ru', '5030049041', '1055005607183', '503001001', 'Московская область, деревня новоглаголево, улица Водная дом 1 корпус 2 помещение 2-8', 'Московская область,город Наро-Фоминск, деревня Новоглаголево, улица Водная 1к2, помещение 2-8', 627622, 0, 50, 'Васильев Борис Цибенович', None, 4, 'Общество с ограниченной ответственностью', 'ООО', None, 0, 0, 22.0, 1.0, 0.0, 0.0, 23.0, 1.0, 8.0, None, None, 'Рябиновый квартал, дом 133', 1.0, 10.0, None, None, None, None, None, None, None, None, None, None, None, None),\n (87, 33177, 77853, 77, 'д Зверево, д. 83', 3, 3, 99, '2022-12-31', 'Другое', 'Без отделки', 'Нет', 0, 4362.94, '77-001887', 'https://xn--80az8a.xn--d1aqf.xn--p1ai/api/ext/file/a4b815db-2319-48ef-a4be-a08f8530a66d', '19-08-2022 12:08', '55.5054', '36.935', 0, 0, 'Типовой', '04-10-2022 01:30', \"[{'objId': 33177, 'pdId': 77853, 'rpdId': 627622, 'devId': 3522, 'ordNum': 1, 'objRenderPhotoSize': 2414430, 'objRenderPhotoUrl': 'https://xn--80az8a ... (144 characters truncated) ... 'objRenderPhotoNm': '20211206_121339.jpg', 'objReadyDesc': 'Строится', 'objBuildTypeShortDesc': 'Жилое', 'knFlg': 1, 'loadDttm': '04-10-2022 01:14'}]\", 0, 'normal', 'https://xn--80az8a.xn--d1aqf.xn--p1ai/api/ext/file/cdd67066-d852-4787-a382-e963d4f490c1', 1, 44015, 3, 99, '4362.94', 0, 0, 1, '31-03-2023 12:00', '2,7', 0, 0.0, 0.0, 0.0, 0.0, 23.0, 1, 1, 0.0, 0.0, 0.0, 0, None, None, 'ООО АСК ОЛИМПСТРОЙ (ИНН: 7703592360)', 0, '[]', 0, 'info@bg.msk.ru', 0, 'B', 1, 3522, 'АПРЕЛЕВКА С2', 'АПРЕЛЕВКА С2', 'АПРЕЛЕВКА С2', 0, 116, 109, 'Московская область', '+7(495)023-11-11', 'aprelevka-s2.ru', 'info@bg.msk.ru', '5030049041', '1055005607183', '503001001', 'Московская область, деревня новоглаголево, улица Водная дом 1 корпус 2 помещение 2-8', 'Московская область,город Наро-Фоминск, деревня Новоглаголево, улица Водная 1к2, помещение 2-8', 627622, 0, 50, 'Васильев Борис Цибенович', None, 4, 'Общество с ограниченной ответственностью', 'ООО', None, 0, 0, 67.0, 32.0, 0.0, 0.0, 99.0, 4.0, 8.0, None, None, 'Рябиновый квартал, дом 83', 1.0, 10.0, None, None, None, None, None, None, None, None, None, None, None, None),\n (88, 33101, 77853, 77, 'д Зверево, д. 7', 3, 3, 18, '2022-12-31', 'Другое', 'Без отделки', 'Нет', 0, 1026.64, '77-001887', 'https://xn--80az8a.xn--d1aqf.xn--p1ai/api/ext/file/a4b815db-2319-48ef-a4be-a08f8530a66d', '19-08-2022 12:08', '55.4988', '36.9255', 0, 0, 'Типовой', '04-10-2022 01:30', \"[{'objId': 33101, 'pdId': 77853, 'rpdId': 627622, 'devId': 3522, 'ordNum': 1, 'objRenderPhotoSize': 3791874, 'objRenderPhotoUrl': 'https://xn--80az8a ... (132 characters truncated) ... denFlg': 0, 'objRenderPhotoNm': '7-2.jpg', 'objReadyDesc': 'Строится', 'objBuildTypeShortDesc': 'Жилое', 'knFlg': 1, 'loadDttm': '04-10-2022 01:14'}]\", 0, 'normal', 'https://xn--80az8a.xn--d1aqf.xn--p1ai/api/ext/file/9a93ecde-c550-4b7a-8197-2bfda4a01fd8', 1, 43939, 3, 18, '1026.64', 0, 0, 1, '31-03-2023 12:00', '2,7', 0, 0.0, 0.0, 1.0, 0.0, 7.0, 1, 1, 0.0, 0.0, 0.0, 0, None, None, 'ООО АСК ОЛИМПСТРОЙ (ИНН: 7703592360)', 0, '[]', 0, 'info@bg.msk.ru', 0, 'B', 1, 3522, 'АПРЕЛЕВКА С2', 'АПРЕЛЕВКА С2', 'АПРЕЛЕВКА С2', 0, 116, 109, 'Московская область', '+7(495)023-11-11', 'aprelevka-s2.ru', 'info@bg.msk.ru', '5030049041', '1055005607183', '503001001', 'Московская область, деревня новоглаголево, улица Водная дом 1 корпус 2 помещение 2-8', 'Московская область,город Наро-Фоминск, деревня Новоглаголево, улица Водная 1к2, помещение 2-8', 627622, 0, 50, 'Васильев Борис Цибенович', None, 4, 'Общество с ограниченной ответственностью', 'ООО', None, 0, 0, 12.0, 1.0, 5.0, 0.0, 18.0, 1.0, 6.0, None, None, 'Сиреневый квартал, дом 7', 1.0, 10.0, None, None, None, None, None, None, None, None, None, None, None, None),\n (89, 33174, 77853, 77, 'д Зверево, д. 80', 3, 3, 51, '2022-12-31', 'Другое', 'Без отделки', 'Нет', 0, 2198.66, '77-001887', 'https://xn--80az8a.xn--d1aqf.xn--p1ai/api/ext/file/a4b815db-2319-48ef-a4be-a08f8530a66d', '19-08-2022 12:08', '55.501', '36.9329', 0, 0, 'Типовой', '04-10-2022 01:30', \"[{'objId': 33174, 'pdId': 77853, 'rpdId': 627622, 'devId': 3522, 'ordNum': 1, 'objRenderPhotoSize': 2685068, 'objRenderPhotoUrl': 'https://xn--80az8a ... (144 characters truncated) ... 'objRenderPhotoNm': '20211206_124630.jpg', 'objReadyDesc': 'Строится', 'objBuildTypeShortDesc': 'Жилое', 'knFlg': 1, 'loadDttm': '04-10-2022 01:14'}]\", 0, 'normal', 'https://xn--80az8a.xn--d1aqf.xn--p1ai/api/ext/file/26282964-252f-46b9-8af8-6c10bd0696c7', 1, 44012, 3, 51, '2198.66', 0, 0, 1, '31-03-2023 12:00', '2,7', 0, 0.0, 0.0, 0.0, 0.0, 0.0, 1, 1, 0.0, 0.0, 0.0, 0, None, None, 'ООО АСК ОЛИМПСТРОЙ (ИНН: 7703592360)', 0, '[]', 0, 'info@bg.msk.ru', 0, 'B', 1, 3522, 'АПРЕЛЕВКА С2', 'АПРЕЛЕВКА С2', 'АПРЕЛЕВКА С2', 0, 116, 109, 'Московская область', '+7(495)023-11-11', 'aprelevka-s2.ru', 'info@bg.msk.ru', '5030049041', '1055005607183', '503001001', 'Московская область, деревня новоглаголево, улица Водная дом 1 корпус 2 помещение 2-8', 'Московская область,город Наро-Фоминск, деревня Новоглаголево, улица Водная 1к2, помещение 2-8', 627622, 0, 50, 'Васильев Борис Цибенович', None, 4, 'Общество с ограниченной ответственностью', 'ООО', None, 0, 0, 35.0, 16.0, 0.0, 0.0, 51.0, 2.0, 9.0, None, None, 'Березовый квартал, дом 80', 1.0, 10.0, None, None, None, None, None, None, None, None, None, None, None, None),\n (90, 33210, 77853, 77, 'д Зверево, д. 116', 3, 3, 18, '2022-12-31', 'Другое', 'Без отделки', 'Нет', 0, 1026.64, '77-001887', 'https://xn--80az8a.xn--d1aqf.xn--p1ai/api/ext/file/a4b815db-2319-48ef-a4be-a08f8530a66d', '19-08-2022 12:08', '55.5057', '36.9309', 0, 0, 'Типовой', '04-10-2022 01:30', \"[{'objId': 33210, 'pdId': 77853, 'rpdId': 627622, 'devId': 3522, 'ordNum': 1, 'objRenderPhotoSize': 2775318, 'objRenderPhotoUrl': 'https://xn--80az8a ... (144 characters truncated) ... 'objRenderPhotoNm': '20211206_122156.jpg', 'objReadyDesc': 'Строится', 'objBuildTypeShortDesc': 'Жилое', 'knFlg': 1, 'loadDttm': '04-10-2022 01:14'}]\", 0, 'normal', 'https://xn--80az8a.xn--d1aqf.xn--p1ai/api/ext/file/d4a819fa-2c4a-4d3b-a273-9bf3361cee65', 1, 44048, 3, 18, '1026.64', 0, 0, 1, '31-03-2023 12:00', '2,7', 0, 0.0, 0.0, 0.0, 0.0, 0.0, 1, 1, 0.0, 0.0, 0.0, 0, None, None, 'ООО АСК ОЛИМПСТРОЙ (ИНН: 7703592360)', 0, '[]', 0, 'info@bg.msk.ru', 0, 'B', 1, 3522, 'АПРЕЛЕВКА С2', 'АПРЕЛЕВКА С2', 'АПРЕЛЕВКА С2', 0, 116, 109, 'Московская область', '+7(495)023-11-11', 'aprelevka-s2.ru', 'info@bg.msk.ru', '5030049041', '1055005607183', '503001001', 'Московская область, деревня новоглаголево, улица Водная дом 1 корпус 2 помещение 2-8', 'Московская область,город Наро-Фоминск, деревня Новоглаголево, улица Водная 1к2, помещение 2-8', 627622, 0, 50, 'Васильев Борис Цибенович', None, 4, 'Общество с ограниченной ответственностью', 'ООО', None, 0, 0, 12.0, 1.0, 5.0, 0.0, 18.0, 1.0, 6.0, None, None, 'Рябиновый квартал, дом 116', 1.0, 10.0, None, None, None, None, None, None, None, None, None, None, None, None),\n (91, 33173, 77853, 77, 'д Зверево, д. 79', 3, 3, 51, '2022-12-31', 'Другое', 'Без отделки', 'Нет', 0, 2198.66, '77-001887', 'https://xn--80az8a.xn--d1aqf.xn--p1ai/api/ext/file/a4b815db-2319-48ef-a4be-a08f8530a66d', '19-08-2022 12:08', '55.5007', '36.9327', 0, 0, 'Типовой', '04-10-2022 01:30', \"[{'objId': 33173, 'pdId': 77853, 'rpdId': 627622, 'devId': 3522, 'ordNum': 1, 'objRenderPhotoSize': 2923246, 'objRenderPhotoUrl': 'https://xn--80az8a ... (144 characters truncated) ... 'objRenderPhotoNm': '20211206_131143.jpg', 'objReadyDesc': 'Строится', 'objBuildTypeShortDesc': 'Жилое', 'knFlg': 1, 'loadDttm': '04-10-2022 01:14'}]\", 0, 'normal', 'https://xn--80az8a.xn--d1aqf.xn--p1ai/api/ext/file/89c68732-a9a4-495b-90de-9116c2f1b84d', 1, 44011, 3, 51, '2198.66', 0, 0, 1, '31-03-2023 12:00', '2,7', 0, 0.0, 0.0, 0.0, 0.0, 22.0, 1, 1, 0.0, 0.0, 0.0, 0, None, None, 'ООО АСК ОЛИМПСТРОЙ (ИНН: 7703592360)', 0, '[]', 0, 'info@bg.msk.ru', 0, 'B', 1, 3522, 'АПРЕЛЕВКА С2', 'АПРЕЛЕВКА С2', 'АПРЕЛЕВКА С2', 0, 116, 109, 'Московская область', '+7(495)023-11-11', 'aprelevka-s2.ru', 'info@bg.msk.ru', '5030049041', '1055005607183', '503001001', 'Московская область, деревня новоглаголево, улица Водная дом 1 корпус 2 помещение 2-8', 'Московская область,город Наро-Фоминск, деревня Новоглаголево, улица Водная 1к2, помещение 2-8', 627622, 0, 50, 'Васильев Борис Цибенович', None, 4, 'Общество с ограниченной ответственностью', 'ООО', None, 0, 0, 35.0, 16.0, 0.0, 0.0, 51.0, 2.0, 9.0, None, None, 'Березовый квартал, дом 79', 1.0, 10.0, None, None, None, None, None, None, None, None, None, None, None, None),\n (92, 33197, 77853, 77, 'д Зверево, д. 103', 3, 3, 78, '2022-12-31', 'Другое', 'Без отделки', 'Нет', 0, 4557.22, '77-001887', 'https://xn--80az8a.xn--d1aqf.xn--p1ai/api/ext/file/a4b815db-2319-48ef-a4be-a08f8530a66d', '19-08-2022 12:08', '55.5054', '36.9341', 0, 0, 'Типовой', '04-10-2022 01:30', \"[{'objId': 33197, 'pdId': 77853, 'rpdId': 627622, 'devId': 3522, 'ordNum': 1, 'objRenderPhotoSize': 2539556, 'objRenderPhotoUrl': 'https://xn--80az8a ... (144 characters truncated) ... 'objRenderPhotoNm': '20211206_123936.jpg', 'objReadyDesc': 'Строится', 'objBuildTypeShortDesc': 'Жилое', 'knFlg': 1, 'loadDttm': '04-10-2022 01:14'}]\", 0, 'normal', 'https://xn--80az8a.xn--d1aqf.xn--p1ai/api/ext/file/4ab852a0-f1e9-4529-88dc-2d3078fe5a1b', 1, 44035, 3, 78, '4557.22', 0, 0, 1, '31-03-2023 12:00', '2,7', 0, 0.0, 0.0, 0.0, 0.0, 23.0, 1, 1, 0.0, 0.0, 0.0, 0, None, None, 'ООО АСК ОЛИМПСТРОЙ (ИНН: 7703592360)', 0, '[]', 0, 'info@bg.msk.ru', 0, 'B', 1, 3522, 'АПРЕЛЕВКА С2', 'АПРЕЛЕВКА С2', 'АПРЕЛЕВКА С2', 0, 116, 109, 'Московская область', '+7(495)023-11-11', 'aprelevka-s2.ru', 'info@bg.msk.ru', '5030049041', '1055005607183', '503001001', 'Московская область, деревня новоглаголево, улица Водная дом 1 корпус 2 помещение 2-8', 'Московская область,город Наро-Фоминск, деревня Новоглаголево, улица Водная 1к2, помещение 2-8', 627622, 0, 50, 'Васильев Борис Цибенович', None, 4, 'Общество с ограниченной ответственностью', 'ООО', None, 0, 0, 22.0, 32.0, 24.0, 0.0, 78.0, 4.0, 7.0, None, None, 'Рябиновый квартал, дом 103', 1.0, 10.0, None, None, None, None, None, None, None, None, None, None, None, None),\n (93, 33201, 77853, 77, 'д Зверево, д. 107', 3, 3, 39, '2022-12-31', 'Другое', 'Без отделки', 'Нет', 0, 2278.61, '77-001887', 'https://xn--80az8a.xn--d1aqf.xn--p1ai/api/ext/file/a4b815db-2319-48ef-a4be-a08f8530a66d', '19-08-2022 12:08', '55.5045', '36.935', 0, 0, 'Типовой', '04-10-2022 01:30', \"[{'objId': 33201, 'pdId': 77853, 'rpdId': 627622, 'devId': 3522, 'ordNum': 1, 'objRenderPhotoSize': 2596137, 'objRenderPhotoUrl': 'https://xn--80az8a ... (144 characters truncated) ... 'objRenderPhotoNm': '20211206_122024.jpg', 'objReadyDesc': 'Строится', 'objBuildTypeShortDesc': 'Жилое', 'knFlg': 1, 'loadDttm': '04-10-2022 01:14'}]\", 0, 'normal', 'https://xn--80az8a.xn--d1aqf.xn--p1ai/api/ext/file/c25d0a47-69f4-43fb-a661-c1c90684f606', 1, 44039, 3, 39, '2278.61', 0, 0, 1, '31-03-2023 12:00', '2,7', 0, 0.0, 0.0, 0.0, 0.0, 23.0, 1, 1, 0.0, 0.0, 0.0, 0, None, None, 'ООО АСК ОЛИМПСТРОЙ (ИНН: 7703592360)', 0, '[]', 0, 'info@bg.msk.ru', 0, 'B', 1, 3522, 'АПРЕЛЕВКА С2', 'АПРЕЛЕВКА С2', 'АПРЕЛЕВКА С2', 0, 116, 109, 'Московская область', '+7(495)023-11-11', 'aprelevka-s2.ru', 'info@bg.msk.ru', '5030049041', '1055005607183', '503001001', 'Московская область, деревня новоглаголево, улица Водная дом 1 корпус 2 помещение 2-8', 'Московская область,город Наро-Фоминск, деревня Новоглаголево, улица Водная 1к2, помещение 2-8', 627622, 0, 50, 'Васильев Борис Цибенович', None, 4, 'Общество с ограниченной ответственностью', 'ООО', None, 0, 0, 11.0, 16.0, 12.0, 0.0, 39.0, 2.0, 7.0, None, None, 'Рябиновый квартал, дом 107', 1.0, 10.0, None, None, None, None, None, None, None, None, None, None, None, None),\n (94, 33200, 77853, 77, 'д Зверево, д. 106', 3, 3, 39, '2022-12-31', 'Другое', 'Без отделки', 'Нет', 0, 2278.61, '77-001887', 'https://xn--80az8a.xn--d1aqf.xn--p1ai/api/ext/file/a4b815db-2319-48ef-a4be-a08f8530a66d', '19-08-2022 12:08', '55.5048', '36.9351', 0, 0, 'Типовой', '04-10-2022 01:30', \"[{'objId': 33200, 'pdId': 77853, 'rpdId': 627622, 'devId': 3522, 'ordNum': 1, 'objRenderPhotoSize': 2487739, 'objRenderPhotoUrl': 'https://xn--80az8a ... (144 characters truncated) ... 'objRenderPhotoNm': '20211206_123933.jpg', 'objReadyDesc': 'Строится', 'objBuildTypeShortDesc': 'Жилое', 'knFlg': 1, 'loadDttm': '04-10-2022 01:14'}]\", 0, 'normal', 'https://xn--80az8a.xn--d1aqf.xn--p1ai/api/ext/file/4483a44f-2ffb-43db-9df3-7debff1032b5', 1, 44038, 3, 39, '2278.61', 0, 0, 1, '31-03-2023 12:00', '2,7', 0, 0.0, 0.0, 0.0, 0.0, 4.0, 1, 1, 0.0, 0.0, 0.0, 0, None, None, 'ООО АСК ОЛИМПСТРОЙ (ИНН: 7703592360)', 0, '[]', 0, 'info@bg.msk.ru', 0, 'B', 1, 3522, 'АПРЕЛЕВКА С2', 'АПРЕЛЕВКА С2', 'АПРЕЛЕВКА С2', 0, 116, 109, 'Московская область', '+7(495)023-11-11', 'aprelevka-s2.ru', 'info@bg.msk.ru', '5030049041', '1055005607183', '503001001', 'Московская область, деревня новоглаголево, улица Водная дом 1 корпус 2 помещение 2-8', 'Московская область,город Наро-Фоминск, деревня Новоглаголево, улица Водная 1к2, помещение 2-8', 627622, 0, 50, 'Васильев Борис Цибенович', None, 4, 'Общество с ограниченной ответственностью', 'ООО', None, 0, 0, 11.0, 16.0, 12.0, 0.0, 39.0, 2.0, 7.0, None, None, 'Рябиновый квартал, дом 106', 1.0, 10.0, None, None, None, None, None, None, None, None, None, None, None, None),\n (95, 33098, 77853, 77, 'д Зверево, д. 4', 3, 3, 48, '2022-12-31', 'Другое', 'Без отделки', 'Нет', 0, 2164.28, '77-001887', 'https://xn--80az8a.xn--d1aqf.xn--p1ai/api/ext/file/a4b815db-2319-48ef-a4be-a08f8530a66d', '19-08-2022 12:08', '55.4978', '36.9226', 0, 0, 'Типовой', '04-10-2022 01:30', \"[{'objId': 33098, 'pdId': 77853, 'rpdId': 627622, 'devId': 3522, 'ordNum': 1, 'objRenderPhotoSize': 3864971, 'objRenderPhotoUrl': 'https://xn--80az8a ... (132 characters truncated) ... denFlg': 0, 'objRenderPhotoNm': '4-2.jpg', 'objReadyDesc': 'Строится', 'objBuildTypeShortDesc': 'Жилое', 'knFlg': 1, 'loadDttm': '04-10-2022 01:14'}]\", 0, 'normal', 'https://xn--80az8a.xn--d1aqf.xn--p1ai/api/ext/file/514f97a7-d681-4c49-814c-a555dcb0f5b4', 1, 43936, 3, 48, '2164.28', 0, 0, 1, '31-03-2023 12:00', '2,7', 0, 0.0, 0.0, 0.0, 0.0, 8.0, 1, 1, 0.0, 0.0, 0.0, 0, None, None, 'ООО АСК ОЛИМПСТРОЙ (ИНН: 7703592360)', 0, '[]', 0, 'info@bg.msk.ru', 0, 'B', 1, 3522, 'АПРЕЛЕВКА С2', 'АПРЕЛЕВКА С2', 'АПРЕЛЕВКА С2', 0, 116, 109, 'Московская область', '+7(495)023-11-11', 'aprelevka-s2.ru', 'info@bg.msk.ru', '5030049041', '1055005607183', '503001001', 'Московская область, деревня новоглаголево, улица Водная дом 1 корпус 2 помещение 2-8', 'Московская область,город Наро-Фоминск, деревня Новоглаголево, улица Водная 1к2, помещение 2-8', 627622, 0, 50, 'Васильев Борис Цибенович', None, 4, 'Общество с ограниченной ответственностью', 'ООО', None, 0, 0, 32.0, 16.0, 0.0, 0.0, 48.0, 2.0, 8.0, None, None, 'Сиреневый квартал, дом 4', 1.0, 10.0, None, None, None, None, None, None, None, None, None, None, None, None),\n (96, 33187, 77853, 77, 'д Зверево, д. 93', 3, 3, 24, '2022-12-31', 'Другое', 'Без отделки', 'Нет', 0, 1082.14, '77-001887', 'https://xn--80az8a.xn--d1aqf.xn--p1ai/api/ext/file/a4b815db-2319-48ef-a4be-a08f8530a66d', '19-08-2022 12:08', '55.5065', '36.9313', 0, 0, 'Типовой', '04-10-2022 01:30', \"[{'objId': 33187, 'pdId': 77853, 'rpdId': 627622, 'devId': 3522, 'ordNum': 1, 'objRenderPhotoSize': 2259992, 'objRenderPhotoUrl': 'https://xn--80az8a ... (144 characters truncated) ... 'objRenderPhotoNm': '20211206_121704.jpg', 'objReadyDesc': 'Строится', 'objBuildTypeShortDesc': 'Жилое', 'knFlg': 1, 'loadDttm': '04-10-2022 01:14'}]\", 0, 'normal', 'https://xn--80az8a.xn--d1aqf.xn--p1ai/api/ext/file/2e640798-5292-4d90-96dd-1c479b23d6b5', 1, 44025, 3, 24, '1082.14', 0, 0, 1, '31-03-2023 12:00', '2,7', 0, 0.0, 0.0, 0.0, 0.0, 16.0, 1, 1, 0.0, 0.0, 0.0, 0, None, None, 'ООО АСК ОЛИМПСТРОЙ (ИНН: 7703592360)', 0, '[]', 0, 'info@bg.msk.ru', 0, 'B', 1, 3522, 'АПРЕЛЕВКА С2', 'АПРЕЛЕВКА С2', 'АПРЕЛЕВКА С2', 0, 116, 109, 'Московская область', '+7(495)023-11-11', 'aprelevka-s2.ru', 'info@bg.msk.ru', '5030049041', '1055005607183', '503001001', 'Московская область, деревня новоглаголево, улица Водная дом 1 корпус 2 помещение 2-8', 'Московская область,город Наро-Фоминск, деревня Новоглаголево, улица Водная 1к2, помещение 2-8', 627622, 0, 50, 'Васильев Борис Цибенович', None, 4, 'Общество с ограниченной ответственностью', 'ООО', None, 0, 0, 16.0, 8.0, 0.0, 0.0, 24.0, 1.0, 8.0, None, None, 'Рябиновый квартал, дом 93', 1.0, 10.0, None, None, None, None, None, None, None, None, None, None, None, None),\n (97, 33237, 77853, 77, 'д Зверево, д. Детский сад 2', 3, 3, 0, '2025-12-31', 'Монолит-кирпич', 'Другое', 'Нет', 0, 0.0, '77-001887', 'https://xn--80az8a.xn--d1aqf.xn--p1ai/api/ext/file/a4b815db-2319-48ef-a4be-a08f8530a66d', '19-08-2022 12:08', '55.4975', '36.9223', 0, 0, 'Типовой', '04-10-2022 01:30', \"[{'objId': 33237, 'pdId': 77853, 'rpdId': 627622, 'devId': 3522, 'ordNum': 1, 'objRenderPhotoSize': 2283326, 'objRenderPhotoUrl': 'https://xn--80az8a ... (146 characters truncated) ... bjRenderPhotoNm': '20211206_123758.jpg', 'objReadyDesc': 'Строится', 'objBuildTypeShortDesc': 'Нежилое', 'knFlg': 0, 'loadDttm': '04-10-2022 01:14'}]\", 0, 'normal', 'https://xn--80az8a.xn--d1aqf.xn--p1ai/api/ext/file/29156850-a86b-418c-8bd3-ef6daba0d4f3', 0, 44075, 3, 0, '0.0', 64, 0, 1, '31-03-2026 12:00', None, 0, 0.0, 0.0, 0.0, 0.0, 0.0, 1, 1, 0.0, 0.0, 0.0, 0, None, None, 'ООО АСК ОЛИМПСТРОЙ (ИНН: 7703592360)', 1, '[]', 0, 'info@bg.msk.ru', 0, 'A+', 1, 3522, 'АПРЕЛЕВКА С2', 'АПРЕЛЕВКА С2', 'АПРЕЛЕВКА С2', 0, 116, 109, 'Московская область', '+7(495)023-11-11', 'aprelevka-s2.ru', 'info@bg.msk.ru', '5030049041', '1055005607183', '503001001', 'Московская область, деревня новоглаголево, улица Водная дом 1 корпус 2 помещение 2-8', 'Московская область,город Наро-Фоминск, деревня Новоглаголево, улица Водная 1к2, помещение 2-8', 627622, 0, 50, 'Васильев Борис Цибенович', None, 4, 'Общество с ограниченной ответственностью', 'ООО', None, 0, 0, None, None, None, None, None, None, None, None, None, None, 1.0, 10.0, 'Борисоглебское 101', None, None, None, None, None, None, None, None, None, None, None),\n (98, 33166, 77853, 77, 'д Зверево, д. 72', 3, 3, 36, '2024-12-31', 'Другое', 'Без отделки', 'Нет', 0, 2268.08, '77-001887', 'https://xn--80az8a.xn--d1aqf.xn--p1ai/api/ext/file/a4b815db-2319-48ef-a4be-a08f8530a66d', '19-08-2022 12:08', '55.4994', '36.9306', 0, 0, 'Типовой', '04-10-2022 01:30', \"[{'objId': 33166, 'pdId': 77853, 'rpdId': 627622, 'devId': 3522, 'ordNum': 1, 'objRenderPhotoSize': 4219003, 'objRenderPhotoUrl': 'https://xn--80az8a ... (133 characters truncated) ... enFlg': 0, 'objRenderPhotoNm': '72-2.jpg', 'objReadyDesc': 'Строится', 'objBuildTypeShortDesc': 'Жилое', 'knFlg': 1, 'loadDttm': '04-10-2022 01:14'}]\", 0, 'normal', 'https://xn--80az8a.xn--d1aqf.xn--p1ai/api/ext/file/5922795a-d23c-4bff-8a97-220cfce5f020', 1, 44004, 3, 36, '2268.08', 0, 0, 1, '31-12-2024 12:00', '2,7', 0, 0.0, 0.0, 0.0, 0.0, 16.0, 1, 1, 0.0, 0.0, 0.0, 0, None, None, 'ООО АСК ОЛИМПСТРОЙ (ИНН: 7703592360)', 0, '[]', 0, 'info@bg.msk.ru', 0, 'B', 1, 3522, 'АПРЕЛЕВКА С2', 'АПРЕЛЕВКА С2', 'АПРЕЛЕВКА С2', 0, 116, 109, 'Московская область', '+7(495)023-11-11', 'aprelevka-s2.ru', 'info@bg.msk.ru', '5030049041', '1055005607183', '503001001', 'Московская область, деревня новоглаголево, улица Водная дом 1 корпус 2 помещение 2-8', 'Московская область,город Наро-Фоминск, деревня Новоглаголево, улица Водная 1к2, помещение 2-8', 627622, 0, 50, 'Васильев Борис Цибенович', None, 4, 'Общество с ограниченной ответственностью', 'ООО', None, 0, 0, 8.0, 16.0, 12.0, 0.0, 36.0, 2.0, 6.0, None, None, 'Березовый квартал, дом 72', 1.0, 10.0, None, None, None, None, None, None, None, None, None, None, None, None),\n (99, 33184, 77853, 77, 'д Зверево, д. 90', 3, 3, 99, '2022-12-31', 'Другое', 'Без отделки', 'Нет', 0, 4362.94, '77-001887', 'https://xn--80az8a.xn--d1aqf.xn--p1ai/api/ext/file/a4b815db-2319-48ef-a4be-a08f8530a66d', '19-08-2022 12:08', '55.5062', '36.9291', 0, 0, 'Типовой', '04-10-2022 01:30', \"[{'objId': 33184, 'pdId': 77853, 'rpdId': 627622, 'devId': 3522, 'ordNum': 1, 'objRenderPhotoSize': 2829643, 'objRenderPhotoUrl': 'https://xn--80az8a ... (144 characters truncated) ... 'objRenderPhotoNm': '20211206_121530.jpg', 'objReadyDesc': 'Строится', 'objBuildTypeShortDesc': 'Жилое', 'knFlg': 1, 'loadDttm': '04-10-2022 01:14'}]\", 0, 'normal', 'https://xn--80az8a.xn--d1aqf.xn--p1ai/api/ext/file/7dc1bdf9-f8de-40ec-97d6-a02cefeddedf', 1, 44022, 3, 99, '4362.94', 0, 0, 1, '31-03-2023 12:00', '2,7', 0, 0.0, 0.0, 0.0, 0.0, 0.0, 1, 1, 0.0, 0.0, 0.0, 0, None, None, 'ООО АСК ОЛИМПСТРОЙ (ИНН: 7703592360)', 0, '[]', 0, 'info@bg.msk.ru', 0, 'B', 1, 3522, 'АПРЕЛЕВКА С2', 'АПРЕЛЕВКА С2', 'АПРЕЛЕВКА С2', 0, 116, 109, 'Московская область', '+7(495)023-11-11', 'aprelevka-s2.ru', 'info@bg.msk.ru', '5030049041', '1055005607183', '503001001', 'Московская область, деревня новоглаголево, улица Водная дом 1 корпус 2 помещение 2-8', 'Московская область,город Наро-Фоминск, деревня Новоглаголево, улица Водная 1к2, помещение 2-8', 627622, 0, 50, 'Васильев Борис Цибенович', None, 4, 'Общество с ограниченной ответственностью', 'ООО', None, 0, 0, 67.0, 32.0, 0.0, 0.0, 99.0, 4.0, 8.0, None, None, 'Рябиновый квартал, дом 90', 1.0, 10.0, None, None, None, None, None, None, None, None, None, None, None, None),\n (100, 13383, 28105, 72, 'г Тюмень', 4, 20, 68, '2022-12-31', 'Другое', 'По желанию заказчика', 'Есть', 31, 6293.78, '72-000095', 'https://xn--80az8a.xn--d1aqf.xn--p1ai/api/ext/file/eac27d84-4621-443d-9608-623376b6bafe', '07-09-2022 15:16', '57.1519', '65.5536', 1, 0, 'Элитный', '04-10-2022 01:30', \"[{'objId': 13383, 'pdId': 28105, 'rpdId': 626936, 'devId': 306, 'ordNum': 1, 'objRenderPhotoSize': 1433738, 'objRenderPhotoUrl': 'https://xn--80az8a. ... (2823 characters truncated) ... enderPhotoNm': 'IMG_20210512_0951216.jpg', 'objReadyDesc': 'Строится', 'objBuildTypeShortDesc': 'Жилое', 'knFlg': 1, 'loadDttm': '04-10-2022 01:14'}]\", 0, 'normal', 'https://xn--80az8a.xn--d1aqf.xn--p1ai/api/ext/file/0dca6482-02ba-4d56-a861-7a17db04c957', 1, 39024, 20, 68, '6293.78', 10, 0, 1, '28-02-2023 12:00', '2,8', 0, 1.0, 1.0, 1.0, 0.0, 11.0, 1, 1, 0.0, 5.0, 1.0, 7, 0.407163898325013, 53109.0, 'ООО Транспромжилстрой-2005 (ИНН: 7204097730)', 1, '[]', 0, 'info@2mengroup.ru', 0, 'B', 10, 306, '2МЕН ГРУПП', '2МЕН ГРУПП', '2МЕН ГРУПП', 0, 5, 0, 'Тюменская область', '+7(345)279-18-88', '2mengroup.ru', 'info@2mengroup.ru', '7701651356', '1067746424899', '720301001', 'Тюменская область, город Тюмень, улица Комсомольская дом 75/5', 'Тюменская область, город Тюмень, улица Комсомольская 75/5', 632865, 1, 72, 'Киселев Сергей Михайлович', '2МЕН ГРУПП ДЕВЕЛОПМЕНТ', 1, 'Акционерное общество', 'АО', 5776.0, 0, 0, 13.0, 21.0, 34.0, 0.0, 68.0, 1.0, 6.0, None, None, None, None, None, None, None, None, None, None, None, None, None, None, None, None, None),\n (101, 13397, 28141, 72, 'г Тюмень, ул Профсоюзная, д. 56', 6, 12, 65, '2024-12-31', 'Другое', 'Без отделки', 'Нет', 0, 6248.51, '72-000097', 'https://xn--80az8a.xn--d1aqf.xn--p1ai/api/ext/file/55f1b383-f682-4365-9238-e4a27c343263', '07-09-2022 15:20', '57.1519', '65.5544', 0, 0, 'Элитный', '04-10-2022 01:30', \"[{'objId': 13397, 'pdId': 28141, 'rpdId': 632865, 'devId': 306, 'ordNum': 1, 'objRenderPhotoSize': 1495964, 'objRenderPhotoUrl': 'https://xn--80az8a. ... (1483 characters truncated) ... enderPhotoNm': 'IMG_20210512_0949152.jpg', 'objReadyDesc': 'Строится', 'objBuildTypeShortDesc': 'Жилое', 'knFlg': 1, 'loadDttm': '04-10-2022 01:14'}]\", 0, 'normal', 'https://xn--80az8a.xn--d1aqf.xn--p1ai/api/ext/file/cb641b0a-8580-4cbd-9f0c-1dca386bdb97', 1, 37201, 12, 65, '6248.51', 70, 0, 1, '28-02-2025 12:00', '2,96', 0, 1.0, 1.0, 1.0, 11.0, 10.0, 1, 1, 0.0, 5.0, 4.0, 9, 0.99998399618469, 45523.0, 'ООО Транспромжилстрой-2005 (ИНН: 7204097730)', 0, '[]', 0, 'info@2mengroup.ru', 0, 'B', 10, 306, '2МЕН ГРУПП', '2МЕН ГРУПП', '2МЕН ГРУПП', 0, 5, 0, 'Тюменская область', '+7(345)279-18-88', '2mengroup.ru', 'info@2mengroup.ru', '7701651356', '1067746424899', '720301001', 'Тюменская область, город Тюмень, улица Комсомольская дом 75/5', 'Тюменская область, город Тюмень, улица Комсомольская 75/5', 632865, 1, 72, 'Киселев Сергей Михайлович', '2МЕН ГРУПП ДЕВЕЛОПМЕНТ', 1, 'Акционерное общество', 'АО', 5776.0, 0, 0, 0.0, 24.0, 35.0, 6.0, 65.0, 4.0, 3.0, None, None, None, None, None, None, None, None, None, None, None, None, None, None, None, None, None),\n (102, 13399, 28141, 72, 'г Тюмень, ул Профсоюзная, д. 56', 1, 1, 0, '2024-12-31', 'Другое', 'Без отделки', 'Нет', 125, 0.0, '72-000097', 'https://xn--80az8a.xn--d1aqf.xn--p1ai/api/ext/file/55f1b383-f682-4365-9238-e4a27c343263', '07-09-2022 15:20', '57.1519', '65.5544', 0, 0, 'Элитный', '04-10-2022 01:30', \"[{'objId': 13399, 'pdId': 28141, 'rpdId': 632865, 'devId': 306, 'ordNum': 1, 'objRenderPhotoSize': 996519, 'objRenderPhotoUrl': 'https://xn--80az8a.x ... (148 characters truncated) ... nderPhotoNm': 'IMG_20210512_095117.jpg', 'objReadyDesc': 'Строится', 'objBuildTypeShortDesc': 'Нежилое', 'knFlg': 0, 'loadDttm': '04-10-2022 01:14'}]\", 0, 'normal', 'https://xn--80az8a.xn--d1aqf.xn--p1ai/api/ext/file/6c612978-9eec-4571-a24d-90c40b806c66', 0, 34754, 1, 0, '0.0', 0, 0, 1, '28-02-2025 12:00', None, 0, 0.0, 0.0, 1.0, 0.0, 0.0, 1, 1, 0.0, 8.0, 7.0, 15, 0.917242870424423, 50768.0, 'ООО Транспромжилстрой-2005 (ИНН: 7204097730)', 1, '[]', 0, 'info@2mengroup.ru', 0, 'B', 10, 306, '2МЕН ГРУПП', '2МЕН ГРУПП', '2МЕН ГРУПП', 0, 5, 0, 'Тюменская область', '+7(345)279-18-88', '2mengroup.ru', 'info@2mengroup.ru', '7701651356', '1067746424899', '720301001', 'Тюменская область, город Тюмень, улица Комсомольская дом 75/5', 'Тюменская область, город Тюмень, улица Комсомольская 75/5', 632865, 1, 72, 'Киселев Сергей Михайлович', '2МЕН ГРУПП ДЕВЕЛОПМЕНТ', 1, 'Акционерное общество', 'АО', 5776.0, 0, 0, None, None, None, None, None, None, None, None, None, None, None, None, None, None, None, None, None, None, None, None, None, None, None, None),\n (103, 13398, 28141, 72, 'г Тюмень, ул Профсоюзная, д. 56', 7, 10, 43, '2024-12-31', 'Другое', 'Без отделки', 'Нет', 0, 4812.98, '72-000097', 'https://xn--80az8a.xn--d1aqf.xn--p1ai/api/ext/file/55f1b383-f682-4365-9238-e4a27c343263', '07-09-2022 15:20', '57.1519', '65.5544', 0, 0, 'Элитный', '04-10-2022 01:30', \"[{'objId': 13398, 'pdId': 28141, 'rpdId': 632865, 'devId': 306, 'ordNum': 1, 'objRenderPhotoSize': 1325881, 'objRenderPhotoUrl': 'https://xn--80az8a. ... (1892 characters truncated) ... g': 0, 'objRenderPhotoNm': 'IMG_8924.JPG', 'objReadyDesc': 'Строится', 'objBuildTypeShortDesc': 'Жилое', 'knFlg': 1, 'loadDttm': '04-10-2022 01:14'}]\", 0, 'normal', 'https://xn--80az8a.xn--d1aqf.xn--p1ai/api/ext/file/ddfe3c88-edc4-4b78-b1b5-68f8ea2877fc', 1, 37165, 10, 43, '4812.98', 48, 0, 1, '28-02-2025 12:00', '2,96', 0, 1.0, 1.0, 1.0, 4.0, 15.0, 1, 1, 0.0, 3.0, 3.0, 6, 1.0, 47886.0, 'ООО Транспромжилстрой-2005 (ИНН: 7204097730)', 0, '[]', 0, 'info@2mengroup.ru', 0, 'B', 10, 306, '2МЕН ГРУПП', '2МЕН ГРУПП', '2МЕН ГРУПП', 0, 5, 0, 'Тюменская область', '+7(345)279-18-88', '2mengroup.ru', 'info@2mengroup.ru', '7701651356', '1067746424899', '720301001', 'Тюменская область, город Тюмень, улица Комсомольская дом 75/5', 'Тюменская область, город Тюмень, улица Комсомольская 75/5', 632865, 1, 72, 'Киселев Сергей Михайлович', '2МЕН ГРУПП ДЕВЕЛОПМЕНТ', 1, 'Акционерное общество', 'АО', 5776.0, 0, 0, 0.0, 11.0, 19.0, 13.0, 43.0, 3.0, 3.0, None, None, None, None, None, None, None, None, None, None, None, None, None, None, None, None, None),\n (104, 13391, 28101, 72, 'г Тюмень, ул Профсоюзная', 3, 12, 44, '2022-12-31', 'Другое', 'По желанию заказчика', 'Есть', 41, 4297.44, '72-000096', 'https://xn--80az8a.xn--d1aqf.xn--p1ai/api/ext/file/e83aa1fd-c1a8-49be-81e2-89c4f8368ffb', '07-09-2022 15:14', '57.1541', '65.5595', 1, 0, 'Элитный', '04-10-2022 01:30', \"[{'objId': 13391, 'pdId': 28101, 'rpdId': 632828, 'devId': 306, 'ordNum': 1, 'objRenderPhotoSize': 310482, 'objRenderPhotoUrl': 'https://xn--80az8a.x ... (4598 characters truncated) ... enderPhotoNm': 'IMG_20210512_0944249.jpg', 'objReadyDesc': 'Строится', 'objBuildTypeShortDesc': 'Жилое', 'knFlg': 1, 'loadDttm': '04-10-2022 01:14'}]\", 0, 'normal', 'https://xn--80az8a.xn--d1aqf.xn--p1ai/api/ext/file/09ff8156-bcbb-4033-a36a-dd45abd0b430', 1, 37219, 12, 44, '4297.44', 26, 0, 1, '28-02-2023 12:00', '2,8', 0, 1.0, 1.0, 1.0, 0.0, 9.0, 1, 1, 0.0, 2.0, 2.0, 6, 0.450621765516214, 55893.0, 'ООО Транспромжилстрой-2005 (ИНН: 7204097730)', 1, '[]', 0, 'info@2mengroup.ru', 0, 'B', 9, 306, '2МЕН ГРУПП', '2МЕН ГРУПП', '2МЕН ГРУПП', 0, 5, 0, 'Тюменская область', '+7(345)279-18-88', '2mengroup.ru', 'info@2mengroup.ru', '7701651356', '1067746424899', '720301001', 'Тюменская область, город Тюмень, улица Комсомольская дом 75/5', 'Тюменская область, город Тюмень, улица Комсомольская 75/5', 632865, 1, 72, 'Киселев Сергей Михайлович', '2МЕН ГРУПП ДЕВЕЛОПМЕНТ', 1, 'Акционерное общество', 'АО', 5776.0, 0, 0, 11.0, 16.0, 12.0, 5.0, 44.0, 2.0, 4.0, None, None, None, None, None, None, None, None, None, None, None, None, None, None, None, None, None),\n (105, 36912, 337586, 26, 'г Ставрополь, ул Шпаковская, Доваторцев, д. 107, 38, блок-секция БС-1, БС-2, БС-3', 2, 10, 104, '2022-12-31', 'Монолит-кирпич', 'Под чистовую', 'Нет', 42, 8295.2, '26-000567', 'https://xn--80az8a.xn--d1aqf.xn--p1ai/api/ext/file/9f5a959b-1740-4486-b4c3-10b06f5534f4', '05-09-2022 15:43', '45.02', '41.9346', 0, 0, 'Комфорт', '04-10-2022 01:30', \"[{'objId': 36912, 'pdId': 337586, 'rpdId': 631009, 'devId': 10296, 'ordNum': 1, 'objRenderPhotoSize': 3018925, 'objRenderPhotoUrl': 'https://xn--80az ... (645 characters truncated) ... ковская-107-доваторцев-38_page-00041.jpg', 'objReadyDesc': 'Строится', 'objBuildTypeShortDesc': 'Жилое', 'knFlg': 1, 'loadDttm': '04-10-2022 01:14'}]\", 1, 'normal', 'https://xn--80az8a.xn--d1aqf.xn--p1ai/api/ext/file/6f480f77-4ff9-4ed2-9a4f-7990e926d7bc', 1, 117248, 10, 104, '8295.2', 10, 0, 1, '31-12-2022 12:00', '2,85', 0, 1.0, 0.0, 1.0, 20.0, 0.0, 1, 1, 0.0, 3.0, 0.0, 0, 0.577948693220176, 61755.0, 'ООО Стройресурс (ИНН: 2634053119)', 1, '[]', 0, 'sz.stroyresurs@yandex.ru', 0, 'B', 8, 10296, 'CЗ СТРОЙРЕСУРС', 'CЗ СТРОЙРЕСУРС', 'CПЕЦИАЛИЗИРОВАННЫЙ ЗАСТРОЙЩИК СТРОЙРЕСУРС', 0, 1, 0, 'Ставропольский край', '+7(865)223-03-08', 'sz.stroyresurs126.ru', 'sz.stroyresurs@yandex.ru', '2634049923', '1022601933430', '263501001', 'Ставропольский край, г Ставрополь, пр-кт Кулакова дом 12Б офис 102', 'край Ставропольский, г Ставрополь, пр-кт Кулакова, д. 12Б, оф. 102', 631009, 0, 26, 'Пономаренко Светлана Федоровна', None, 4, 'Общество с ограниченной ответственностью', 'ООО', None, 1, 0, 16.0, 37.0, 43.0, 8.0, 104.0, 3.0, 4.0, None, None, None, None, None, None, None, None, None, None, None, None, None, None, None, None, None),\n (106, 44076, 275899, 52, 'г Нижний Новгород, район Автозаводский, ш Южное, д. 43, литера А', 6, 6, 0, '2022-09-30', 'Монолит-кирпич', 'Без отделки', 'Есть', 0, 0.0, '52-000758', 'https://xn--80az8a.xn--d1aqf.xn--p1ai/api/ext/file/56f5d326-8248-4a20-9827-003a13ac83d5', '09-09-2022 13:22', '56.2302', '43.8707', 0, 0, 'Бизнес', '04-10-2022 01:30', \"[{'objId': 44076, 'pdId': 275899, 'rpdId': 619811, 'devId': 9115, 'ordNum': 1, 'objRenderPhotoSize': 447631, 'objRenderPhotoUrl': 'https://xn--80az8a ... (4520 characters truncated) ...  0, 'objRenderPhotoNm': 'IMG_02345.JPG', 'objReadyDesc': 'Строится', 'objBuildTypeShortDesc': 'Нежилое', 'knFlg': 0, 'loadDttm': '04-10-2022 01:14'}]\", 1, 'normal', 'https://xn--80az8a.xn--d1aqf.xn--p1ai/api/ext/file/98f4013a-34ed-4473-81a9-a7fa1687a391', 0, 124665, 6, 0, '0.0', 96, 0, 1, '30-09-2022 12:00', None, 0, 0.0, 0.0, 1.0, 25.0, 73.0, 1, 1, 0.0, 1.0, 2.0, 2, 0.125090474089098, 117136.0, 'ООО БорСтрой (ИНН: 5260373469)', 1, '[]', 0, 'company21vek@list.ru', 0, 'A', 9, 9115, 'XXI ВЕК СТРОЙ', 'XXI ВЕК СТРОЙ', 'XXI ВЕК СТРОЙ', 0, 1, 0, 'Нижегородская область', '+7(986)750-91-11', 'alatyr-tc.ru', 'company21vek@list.ru', '5256059676', '1065256031950', '525601001', 'Нижегородская область, город Нижний Новгород, улица Веденяпина дом 8А', 'Нижегородская область, город Нижний Новгород, улица Веденяпина 8А', 619811, 0, 52, 'Гуряшин Дмитрий Александрович', None, 4, 'Общество с ограниченной ответственностью', 'ООО', None, 1, 0, None, None, None, None, None, None, None, '1 / 10', 1.0, None, None, None, None, None, None, None, None, None, None, None, None, None, None, None),\n (107, 27476, 94132, 77, 'п Коммунарка, д. 17, корпус 4', 15, 15, 99, '2022-09-30', 'Монолит-кирпич', 'Без отделки', 'Нет', 0, 5589.5, '77-001702', 'https://xn--80az8a.xn--d1aqf.xn--p1ai/api/ext/file/9faf3bc3-65a5-460e-9113-8125f4ff9f38', '12-09-2022 20:14', '55.5632', '37.5025', 0, 0, 'Комфорт', '04-10-2022 01:30', \"[{'objId': 27476, 'pdId': 94132, 'rpdId': 636044, 'devId': 664, 'ordNum': 1, 'objRenderPhotoSize': 6812422, 'objRenderPhotoUrl': 'https://xn--80az8a. ... (144 characters truncated) ... objRenderPhotoNm': 'cam_01_bld_17_v3.jpg', 'objReadyDesc': 'Строится', 'objBuildTypeShortDesc': 'Жилое', 'knFlg': 1, 'loadDttm': '04-10-2022 01:14'}]\", 1, 'normal', 'https://xn--80az8a.xn--d1aqf.xn--p1ai/api/ext/file/e8881af0-881e-44e6-be5e-8cf40f910d21', 1, 24746, 15, 99, '5589.5', 25, 0, 1, '30-09-2022 12:00', '2,99', 0, 1.0, 1.0, 1.0, 12.0, 0.0, 0, 0, 0.0, 1.0, 1.0, 3, 0.900456212541372, 203155.0, 'АО Управление по строительству №111 (ИНН: 7729380970)', 1, '[]', 0, 'info@a101.ru', 0, 'C', 7, 664, 'А101', 'А101', 'А101', 0, 1, 49, 'Москва город', '+7(495)221-40-21', 'www.a101.ru', 'info@a101.ru', '7704810149', '1127746474349', '775101001', 'п Коммунарка, улица Фитарёвская дом 14 строение 1', 'г Город Москва, п Сосенское, п Коммунарка, ул Фитарёвская д. 14 стр. 1', 636044, 0, 77, 'Данилиди Игнатий Сергеевич', 'А101 ДЕВЕЛОПМЕНТ', 4, 'Общество с ограниченной ответственностью', 'ООО', 5863.0, 1, 0, 33.0, 47.0, 16.0, 3.0, 99.0, 1.0, 8.0, '2 / 10', 2.0, 'Скандинавия', 5.0, 6.0, None, None, None, None, None, None, None, None, None, None, None, None),\n (108, 10891, 23054, 35, 'г Вологда, ул Медуницинская, д. 7', 16, 16, 225, '2023-03-31', 'Панель', 'Без отделки', 'Есть', 0, 12847.23, '35-000069', 'https://xn--80az8a.xn--d1aqf.xn--p1ai/api/ext/file/457b9320-307c-47df-8362-c190191627e6', '29-09-2022 14:22', '59.1985', '39.858', 1, 0, 'Комфорт', '04-10-2022 01:30', \"[{'objId': 10891, 'pdId': 23054, 'rpdId': 638620, 'devId': 3006, 'ordNum': 1, 'objRenderPhotoSize': 997430, 'objRenderPhotoUrl': 'https://xn--80az8a. ... (150 characters truncated) ... derPhotoNm': 'дом № 1 по гп_исходник.jpg', 'objReadyDesc': 'Строится', 'objBuildTypeShortDesc': 'Жилое', 'knFlg': 1, 'loadDttm': '04-10-2022 01:14'}]\", 0, 'normal', 'https://xn--80az8a.xn--d1aqf.xn--p1ai/api/ext/file/b351ac01-a6d6-4f2b-9b86-8d45152245da', 1, 6541, 16, 225, '12847.23', 3, 0, 1, '01-09-2023 12:00', '2,7 - 3', 0, 1.0, 1.0, 1.0, 0.0, 0.0, 0, 1, 0.0, 3.0, 0.0, 3, 0.896732603059181, 44102.0, None, 0, '[]', 0, 'vologdaagrostroy@yandex.ru', 0, 'D', 9, 3006, 'ААК ВОЛОГДААГРОСТРОЙ', 'ААК ВОЛОГДААГРОСТРОЙ', 'АКЦИОНЕРНАЯ АГРОСТРОИТЕЛЬНАЯ КОМПАНИЯВОЛОГДААГРОСТРОЙ', 0, 1, 5, 'Волгоградская область', '+7(817)274-79-00', 'vologdaagrostroy.ru', 'vologdaagrostroy@yandex.ru', '3525000888', '1023500886386', '352501001', 'Волгоградская область, г Вологда, улица Галкинская дом 24', 'обл Вологодская, г Вологда, улица Галкинская, д. 24', 638620, 1, 34, 'Корытин Владимир Николаевич', 'ВологдаАгрострой', 1, 'Акционерное общество', 'АО', 7368.0, 0, 0, 82.0, 101.0, 41.0, 1.0, 225.0, 3.0, 5.0, None, None, 'Жилой комплекс \"Рафинад\"', None, None, None, None, None, None, None, None, None, None, None, None, None, None),\n (109, 39176, 435352, 23, 'г Краснодар, улица Валерия Гассия, д. 4/7, литера 4', 25, 25, 198, '2024-09-30', 'Другое', 'По желанию заказчика', 'Нет', 0, 11535.6, '23-002272', 'https://xn--80az8a.xn--d1aqf.xn--p1ai/api/ext/file/3c0cb3b8-a334-4afa-8828-aefac2368524', '29-09-2022 10:29', '44.9864', '39.0701', 0, 0, 'Комфорт', '04-10-2022 01:30', \"[{'objId': 39176, 'pdId': 435352, 'rpdId': 638551, 'devId': 1146, 'ordNum': 1, 'objRenderPhotoSize': 800434, 'objRenderPhotoUrl': 'https://xn--80az8a ... (6441 characters truncated) ... nderPhotoNm': 'RBN_Fresh_-_final0114.jpg', 'objReadyDesc': 'Строится', 'objBuildTypeShortDesc': 'Жилое', 'knFlg': 1, 'loadDttm': '04-10-2022 01:14'}]\", 1, 'normal', 'https://xn--80az8a.xn--d1aqf.xn--p1ai/api/ext/file/1aea079a-b886-4072-a9a1-0d158c25b30e', 1, 119604, 25, 198, '11535.6', 20, 0, 1, '31-03-2025 12:00', '2,72', 0, 5.0, 5.0, 3.0, 106.0, 0.0, 1, 1, 5.0, 3.0, 0.0, 1, 0.287657339020077, 91456.0, 'ООО ГРАНТ СТРОЙ (ИНН: 2312246941)', 1, '[]', 1, 'info@ask-yug.com', 0, 'B', 5, 1146, 'АВА ДЕВЕЛОПМЕНТ ПЛЮС', 'АВА ДЕВЕЛОПМЕНТ ПЛЮС', 'АВА ДЕВЕЛОПМЕНТ ПЛЮС', 0, 3, 1, 'Краснодарский край', '+7(800)222-10-10', 'www.ask-yug.com', 'elreg@ask-yug.com', '2312266578', '1172375095661', '231201001', 'Краснодарский край, город Краснодар, улица Бородинская дом 14 помещение 318', 'край Краснодарский город Краснодар улица Бородинская д. 14', 638551, 0, 23, 'Самойленко Сергей Анатольевич', 'AVA Group', 4, 'Общество с ограниченной ответственностью', 'ООО', 6695.0, 1, 0, 132.0, 44.0, 22.0, 0.0, 198.0, 1.0, 9.0, None, None, 'ЖК \"FRESH\" (ЖК \"ФРЕШ\" литер 4)', None, None, None, None, None, None, None, None, None, None, None, None, None, None),\n (110, 39174, 435350, 23, 'г Краснодар, улица Валерия Гассия, д. 4/7, литера 2', 25, 25, 616, '2022-09-30', 'Другое', 'По желанию заказчика', 'Нет', 0, 33958.0, '23-002270', 'https://xn--80az8a.xn--d1aqf.xn--p1ai/api/ext/file/3c9d3d0c-becf-4117-b8da-711b72329344', '03-10-2022 11:57', '44.9861', '39.0698', 0, 0, 'Комфорт', '04-10-2022 01:30', \"[{'objId': 39174, 'pdId': 435350, 'rpdId': 638543, 'devId': 1146, 'ordNum': 1, 'objRenderPhotoSize': 679640, 'objRenderPhotoUrl': 'https://xn--80az8a ... (6441 characters truncated) ... otoNm': 'RBN_Fresh_-_final10_extra14.jpg', 'objReadyDesc': 'Строится', 'objBuildTypeShortDesc': 'Жилое', 'knFlg': 1, 'loadDttm': '04-10-2022 01:14'}]\", 1, 'normal', 'https://xn--80az8a.xn--d1aqf.xn--p1ai/api/ext/file/0e772566-6a0c-4556-a0a9-e545bff8a8a9', 1, 119602, 25, 616, '33958.0', 46, 0, 1, '30-03-2023 12:00', '2,72', 0, 5.0, 5.0, 3.0, 106.0, 0.0, 1, 1, 8.0, 9.0, 0.0, 3, 0.58333824135697, 99388.0, 'ООО ГРАНТ СТРОЙ (ИНН: 2312246941)', 1, '[]', 1, 'info@ask-yug.com', 0, 'B', 5, 1146, 'АВА ДЕВЕЛОПМЕНТ ПЛЮС', 'АВА ДЕВЕЛОПМЕНТ ПЛЮС', 'АВА ДЕВЕЛОПМЕНТ ПЛЮС', 0, 3, 1, 'Краснодарский край', '+7(800)222-10-10', 'www.ask-yug.com', 'elreg@ask-yug.com', '2312266578', '1172375095661', '231201001', 'Краснодарский край, город Краснодар, улица Бородинская дом 14 помещение 318', 'край Краснодарский город Краснодар улица Бородинская д. 14', 638551, 0, 23, 'Самойленко Сергей Анатольевич', 'AVA Group', 4, 'Общество с ограниченной ответственностью', 'ООО', 6695.0, 1, 0, 352.0, 176.0, 88.0, 0.0, 616.0, 3.0, 9.0, None, None, 'ЖК \"FRESH\" (ЖК \"ФРЕШ\" литер 2)', None, None, None, None, None, None, None, None, None, None, None, None, None, None),\n (111, 39175, 435351, 23, 'г Краснодар, улица Валерия Гассия, д. 4/7, литера 3', 25, 25, 396, '2023-06-30', 'Другое', 'По желанию заказчика', 'Нет', 0, 21932.8, '23-002271', 'https://xn--80az8a.xn--d1aqf.xn--p1ai/api/ext/file/39b27d39-5aba-432f-b5bb-869c0ca65089', '29-09-2022 10:26', '44.9862', '39.0702', 0, 0, 'Комфорт', '04-10-2022 01:30', \"[{'objId': 39175, 'pdId': 435351, 'rpdId': 638541, 'devId': 1146, 'ordNum': 1, 'objRenderPhotoSize': 800434, 'objRenderPhotoUrl': 'https://xn--80az8a ... (6441 characters truncated) ... nderPhotoNm': 'RBN_Fresh_-_final0114.jpg', 'objReadyDesc': 'Строится', 'objBuildTypeShortDesc': 'Жилое', 'knFlg': 1, 'loadDttm': '04-10-2022 01:14'}]\", 1, 'normal', 'https://xn--80az8a.xn--d1aqf.xn--p1ai/api/ext/file/96bbf42e-cb84-446a-9301-389f2b149470', 1, 119603, 25, 396, '21932.8', 30, 0, 1, '31-12-2023 12:00', '2,72', 0, 5.0, 5.0, 3.0, 106.0, 0.0, 1, 1, 8.0, 6.0, 0.0, 2, 0.276430733878027, 85542.0, 'ООО ГРАНТ СТРОЙ (ИНН: 2312246941)', 1, '[]', 1, 'info@ask-yug.com', 0, 'B', 5, 1146, 'АВА ДЕВЕЛОПМЕНТ ПЛЮС', 'АВА ДЕВЕЛОПМЕНТ ПЛЮС', 'АВА ДЕВЕЛОПМЕНТ ПЛЮС', 0, 3, 1, 'Краснодарский край', '+7(800)222-10-10', 'www.ask-yug.com', 'elreg@ask-yug.com', '2312266578', '1172375095661', '231201001', 'Краснодарский край, город Краснодар, улица Бородинская дом 14 помещение 318', 'край Краснодарский город Краснодар улица Бородинская д. 14', 638551, 0, 23, 'Самойленко Сергей Анатольевич', 'AVA Group', 4, 'Общество с ограниченной ответственностью', 'ООО', 6695.0, 1, 0, 220.0, 132.0, 44.0, 0.0, 396.0, 2.0, 9.0, None, None, 'ЖК \"FRESH\" (ЖК \"ФРЕШ\" литер 3)', None, None, None, None, None, None, None, None, None, None, None, None, None, None),\n (112, 27049, 89041, 23, 'город Краснодар, улица Уральская, д. 75/6', 3, 16, 0, '2022-12-31', 'Монолит-кирпич', 'Другое', 'Нет', 66, 0.0, '23-001413', 'https://xn--80az8a.xn--d1aqf.xn--p1ai/api/ext/file/877439a3-2e63-4c04-b78c-c8ff87415311', '02-09-2022 14:58', '45.0325', '39.0453', 0, 0, 'Бизнес', '04-10-2022 01:30', \"[{'objId': 27049, 'pdId': 89041, 'rpdId': 630082, 'devId': 1142, 'ordNum': 1, 'objRenderPhotoSize': 348637, 'objRenderPhotoUrl': 'https://xn--80az8a. ... (2317 characters truncated) ... : 0, 'objRenderPhotoNm': 'apart065.jpg', 'objReadyDesc': 'Строится', 'objBuildTypeShortDesc': 'Нежилое', 'knFlg': 0, 'loadDttm': '04-10-2022 01:14'}]\", 1, 'normal', 'https://xn--80az8a.xn--d1aqf.xn--p1ai/api/ext/file/3ad353ce-8f5a-431e-89ec-8a2929fabb33', 0, 25558, 16, 0, '0.0', 684, 0, 1, '31-12-2022 12:00', None, 0, 0.0, 0.0, 1.0, 79.0, 0.0, 1, 1, 2.0, 5.0, 0.0, 4, 0.220905777368134, 142498.0, 'ООО Грант Строй (ИНН: 2312246941)', 1, '[]', 0, 'elreg@ask-yug.com', 0, 'B', 8, 1142, 'АВА-ДЕВЕЛОПМЕНТ', 'АВА-ДЕВЕЛОПМЕНТ', 'АВА-ДЕВЕЛОПМЕНТ', 0, 1, 0, 'Краснодарский край', '+7(800)222-10-10', 'WWW.ASK-YUG.COM', 'elreg@ask-yug.com', '2312247222', '1162375024558', '231201001', 'Краснодарский край, город Краснодар, улица Уральская дом 75/1 корпус Б литера Б офис 8', 'край Краснодарский город Краснодар Улица Уральская д. 75/1 кор. Б', 630082, 0, 23, 'Самойленко Сергей Анатольевич', 'AVA Group', 4, 'Общество с ограниченной ответственностью', 'ООО', 6695.0, 1, 0, None, None, None, None, None, None, None, None, None, 'Апарт-Отель The Grand Palace', None, None, None, None, None, None, None, None, None, None, None, None, None, None),\n (113, 41421, 474283, 54, 'г Новосибирск, пер Серебряный, строение 2', 4, 4, 8, '2022-12-31', 'Кирпич', 'Под чистовую', 'Есть', 0, 528.1, '54-001414', 'https://xn--80az8a.xn--d1aqf.xn--p1ai/api/ext/file/7a1373a3-77f8-4f12-bad9-4d2cfadf527f', '06-09-2022 06:43', '54.9029', '83.1141', 0, 0, 'Типовой', '04-10-2022 01:30', \"[{'objId': 41421, 'pdId': 474283, 'rpdId': 631232, 'devId': 3980, 'ordNum': 1, 'objRenderPhotoSize': 1777270, 'objRenderPhotoUrl': 'https://xn--80az8 ... (152 characters truncated) ... derPhotoNm': 'паспорт_объекта_свечки.png', 'objReadyDesc': 'Строится', 'objBuildTypeShortDesc': 'Жилое', 'knFlg': 1, 'loadDttm': '04-10-2022 01:14'}]\", 1, 'normal', 'https://xn--80az8a.xn--d1aqf.xn--p1ai/api/ext/file/957a6b8f-7d18-4e4b-bccf-6282a73405f8', 1, 121952, 4, 8, '528.1', 4, 0, 1, '29-03-2023 12:00', '2,75 - 3', 0, 0.0, 0.0, 1.0, 5.0, 0.0, 1, 1, 0.0, 0.0, 0.0, 0, 0.617667108502178, 75817.0, None, 0, '[]', 0, 'bl_nsk@mail.ru', 0, 'B', 1, 3980, 'АВАЛОН', 'АВАЛОН', 'АВАЛОН', 0, 2, 3, 'Новосибирская область', '+7(383)349-90-65', 'blagoveshenka.ru', 'bl_nsk@mail.ru', '5408001391', '1155476016376', '540801001', 'Новосибирская область, город Новосибирск, улица Благовещенская дом 48/1 офис 1', 'обл Новосибирская г Новосибирск ул Благовещенская д. 48/1', 631232, 0, 54, 'Медведев Роман Александрович', 'Дельта Девелопмент', 4, 'Общество с ограниченной ответственностью', 'ООО', 6230.0, 1, 0, 4.0, 4.0, 0.0, 0.0, 8.0, 1.0, 3.0, None, None, None, None, None, None, None, None, None, None, None, None, None, None, None, None, None),\n (114, 41420, 474283, 54, 'г Новосибирск, пер Серебряный, строение 1', 4, 4, 8, '2022-12-31', 'Кирпич', 'Под чистовую', 'Есть', 0, 528.1, '54-001414', 'https://xn--80az8a.xn--d1aqf.xn--p1ai/api/ext/file/7a1373a3-77f8-4f12-bad9-4d2cfadf527f', '06-09-2022 06:43', '54.9028', '83.1136', 0, 0, 'Типовой', '04-10-2022 01:30', \"[{'objId': 41420, 'pdId': 474283, 'rpdId': 631232, 'devId': 3980, 'ordNum': 1, 'objRenderPhotoSize': 1777270, 'objRenderPhotoUrl': 'https://xn--80az8 ... (152 characters truncated) ... derPhotoNm': 'паспорт_объекта_свечки.png', 'objReadyDesc': 'Строится', 'objBuildTypeShortDesc': 'Жилое', 'knFlg': 1, 'loadDttm': '04-10-2022 01:14'}]\", 1, 'normal', 'https://xn--80az8a.xn--d1aqf.xn--p1ai/api/ext/file/fd51678f-5e98-4c49-bcdc-09032e040583', 1, 121953, 4, 8, '528.1', 4, 0, 1, '29-03-2023 12:00', '2,75 - 3', 0, 0.0, 0.0, 1.0, 5.0, 0.0, 1, 1, 0.0, 0.0, 0.0, 0, 0.617667108502178, 81058.0, None, 0, '[]', 0, 'bl_nsk@mail.ru', 0, 'B', 1, 3980, 'АВАЛОН', 'АВАЛОН', 'АВАЛОН', 0, 2, 3, 'Новосибирская область', '+7(383)349-90-65', 'blagoveshenka.ru', 'bl_nsk@mail.ru', '5408001391', '1155476016376', '540801001', 'Новосибирская область, город Новосибирск, улица Благовещенская дом 48/1 офис 1', 'обл Новосибирская г Новосибирск ул Благовещенская д. 48/1', 631232, 0, 54, 'Медведев Роман Александрович', 'Дельта Девелопмент', 4, 'Общество с ограниченной ответственностью', 'ООО', 6230.0, 1, 0, 5.0, 3.0, 0.0, 0.0, 8.0, 1.0, 3.0, None, None, None, None, None, None, None, None, None, None, None, None, None, None, None, None, None),\n (115, 30292, 120396, 16, 'г Казань, район Приволжский, улица Карбышева, д. 12А', 26, 26, 372, '2023-03-31', 'Монолит-кирпич', 'Без отделки', 'Нет', 420, 29877.9, '16-000988', 'https://xn--80az8a.xn--d1aqf.xn--p1ai/api/ext/file/ca0c2fbe-9fd4-4c56-a1dd-911a79ae1ee2', '05-09-2022 11:16', '55.7523', '49.1671', 0, 0, 'Типовой', '04-10-2022 01:30', \"[{'objId': 30292, 'pdId': 120396, 'rpdId': 630509, 'devId': 7699, 'ordNum': 1, 'objRenderPhotoSize': 544416, 'objRenderPhotoUrl': 'https://xn--80az8a ... (579 characters truncated) ... , 'objRenderPhotoNm': 'Безымянный_11.jpg', 'objReadyDesc': 'Строится', 'objBuildTypeShortDesc': 'Жилое', 'knFlg': 1, 'loadDttm': '04-10-2022 01:14'}]\", 1, 'normal', 'https://xn--80az8a.xn--d1aqf.xn--p1ai/api/ext/file/47142ed7-7e90-4d01-ab94-a826afde5f2d', 1, 115751, 26, 372, '29877.9', 9, 0, 1, '30-09-2023 12:00', '2,87 - 3,28', 0, 3.0, 2.0, 2.0, 0.0, 0.0, 1, 1, 1.0, 3.0, 8.0, 19, 0.630560046054107, 108093.0, 'ООО Спектр (ИНН: 1215208900)', 1, '[]', 1, 'avaloncity@mail.ru', 0, 'B', 9, 7699, 'АВАЛОН СИТИ', 'АВАЛОН СИТИ', 'АВАЛОН СИТИ', 0, 1, 0, 'Татарстан Республика', '+7(905)315-00-82', 'www.spectr12.ru', 'avaloncity@mail.ru', '1655297266', '1141690051030', '166001001', 'Татарстан Республика, город Казань, улица Карбышева дом 50 офис 8', 'Респ Татарстан город Казань улица Карбышева д. 50 оф. 8', 630509, 0, 16, 'Бутаков Антон Николаевич', 'Спектр-М', 4, 'Общество с ограниченной ответственностью', 'ООО', 7451.0, 1, 0, 108.0, 108.0, 132.0, 24.0, 372.0, 3.0, 6.0, '5 / 10', 5.0, None, None, None, None, None, None, None, None, None, None, None, None, None, None, None),\n (116, 19457, 46057, 47, 'г Сертолово, Микрорайон Сертолово-1, улица Ларина', 16, 17, 166, '2023-03-31', 'Монолит-кирпич', 'Без отделки', 'Нет', 96, 9944.7, '47-000258', 'https://xn--80az8a.xn--d1aqf.xn--p1ai/api/ext/file/e618acc4-c98f-4a49-84c3-d40af83de9e0', '03-10-2022 12:10', '60.1449', '30.2122', 0, 0, 'Комфорт', '04-10-2022 01:30', \"[{'objId': 19457, 'pdId': 46057, 'rpdId': 639141, 'devId': 1214, 'ordNum': 1, 'objRenderPhotoSize': 5449008, 'objRenderPhotoUrl': 'https://xn--80az8a ... (1093 characters truncated) ... асады_архитектуры_pages-to-jpg-00032.jpg', 'objReadyDesc': 'Строится', 'objBuildTypeShortDesc': 'Жилое', 'knFlg': 1, 'loadDttm': '04-10-2022 01:14'}]\", 0, 'normal', 'https://xn--80az8a.xn--d1aqf.xn--p1ai/api/ext/file/56f87e70-74de-4f19-a861-6c0c44b8c735', 1, 19566, 17, 166, '9944.7', 5, 0, 1, '31-03-2023 12:00', '2,75', 0, 1.0, 1.0, 0.0, 2.0, 10.0, 1, 1, 0.0, 3.0, 4.0, 8, 0.74878075758947, 61929.0, None, 1, '[]', 0, 'office@sertolovo-avenue.ru', 0, 'C', 7, 1214, 'АВЕНЮ', 'АВЕНЮ', 'АВЕНЮ', 0, 1, 0, 'Ленинградская область', '+7(812)403-09-90', 'www.sertolovo-avenue.ru', 'office@sertolovo-avenue.ru', '4703064735', '1154703000737', '470301001', 'Ленинградская область, город Сертолово (мкр. Сертолово-1), улица Индустриальная дом 11 корпус 1', 'обл Ленинградская Всеволожский город Сертолово мкр. Сертолово-1 улица Индустриальная 11  1', 639141, 0, 47, 'Луков Павел Сергеевич', 'СтройДом', 4, 'Общество с ограниченной ответственностью', 'ООО', 6617.0, 0, 0, 77.0, 51.0, 38.0, 0.0, 166.0, 3.0, 5.0, None, None, '\"Авеню\"', None, None, None, None, None, None, None, None, None, None, None, None, None, None),\n (117, 18708, 44330, 50, 'г Лыткарино, Микрорайон 6-й, корпус 4', 17, 17, 272, '2023-09-30', 'Монолит-кирпич', 'Без отделки', 'Есть', 0, 12057.8, '50-000877', 'https://xn--80az8a.xn--d1aqf.xn--p1ai/api/ext/file/c426e47b-10ee-4206-acc4-21dbfd65bef6', '09-09-2022 18:46', '55.5972', '37.8822', 1, 0, 'Комфорт', '04-10-2022 01:30', \"[{'objId': 18708, 'pdId': 44330, 'rpdId': 633104, 'devId': 3812, 'ordNum': 1, 'objRenderPhotoSize': 1992763, 'objRenderPhotoUrl': 'https://xn--80az8a ... (1449 characters truncated) ... enFlg': 0, 'objRenderPhotoNm': '0006.jpg', 'objReadyDesc': 'Строится', 'objBuildTypeShortDesc': 'Жилое', 'knFlg': 1, 'loadDttm': '04-10-2022 01:14'}]\", 0, 'normal', 'https://xn--80az8a.xn--d1aqf.xn--p1ai/api/ext/file/2e4340f4-ab5a-4547-bb42-b737ba56a123', 1, 36235, 17, 272, '12057.8', 161, 0, 1, '31-03-2024 12:00', '2,7', 0, 3.0, 1.0, 2.0, 0.0, 988.0, 1, 1, 0.0, 2.0, 0.0, 0, 0.409723996085521, 90390.0, None, 1, '[]', 0, 'ukms-project.ru@inbox.ru', 1, 'A++', 4, 3812, 'АВИГРАН', 'АВИГРАН', 'АВИГРАН', 0, 2, 2, 'Московская область', '+7(495)988-29-29', 'www.ukms-project.ru', 'ukms-project.ru@inbox.ru', '7722264703', '1027700111603', '770801001', 'Московская область, г Москва, пер Орликов дом 5 строение 1А, ЭТАЖ 1 комната 116', 'г Москва, пер Орликов, д. 5, стр. 1А, ЭТАЖ 1, ком. 116', 633104, 1, 50, 'Ларионов Алексей Сергеевич', 'АВИГРАН', 4, 'Общество с ограниченной ответственностью', 'ООО', 9119.0, 0, 0, 208.0, 0.0, 64.0, 0.0, 272.0, 1.0, 17.0, None, None, 'Жилой комплекс \"Новое Лыткарино\"', None, 6.0, 'ЖК Новое Лыткарино', None, None, None, None, None, None, None, None, None, None, None),\n (118, 18709, 44330, 50, 'г Лыткарино, Микрорайон 6-й, корпус 3', 18, 18, 272, '2023-09-30', 'Монолит-кирпич', 'Без отделки', 'Есть', 30, 12093.84, '50-000877', 'https://xn--80az8a.xn--d1aqf.xn--p1ai/api/ext/file/c426e47b-10ee-4206-acc4-21dbfd65bef6', '09-09-2022 18:46', '55.5974', '37.8831', 1, 0, 'Комфорт', '04-10-2022 01:30', \"[{'objId': 18709, 'pdId': 44330, 'rpdId': 633104, 'devId': 3812, 'ordNum': 1, 'objRenderPhotoSize': 2287751, 'objRenderPhotoUrl': 'https://xn--80az8a ... (1449 characters truncated) ... 0, 'objRenderPhotoNm': 'Вид со двора.jpg', 'objReadyDesc': 'Строится', 'objBuildTypeShortDesc': 'Жилое', 'knFlg': 1, 'loadDttm': '04-10-2022 01:14'}]\", 0, 'normal', 'https://xn--80az8a.xn--d1aqf.xn--p1ai/api/ext/file/100ff48e-b3b2-4e53-9afa-c181c291d434', 1, 26010, 18, 272, '12093.84', 182, 0, 1, '31-03-2024 12:00', '2,7', 0, 3.0, 1.0, 2.0, 0.0, 988.0, 1, 1, 2.0, 2.0, 0.0, 0, 0.638721034840878, 86340.0, None, 1, '[]', 0, 'ukms-project.ru@inbox.ru', 1, 'A++', 4, 3812, 'АВИГРАН', 'АВИГРАН', 'АВИГРАН', 0, 2, 2, 'Московская область', '+7(495)988-29-29', 'www.ukms-project.ru', 'ukms-project.ru@inbox.ru', '7722264703', '1027700111603', '770801001', 'Московская область, г Москва, пер Орликов дом 5 строение 1А, ЭТАЖ 1 комната 116', 'г Москва, пер Орликов, д. 5, стр. 1А, ЭТАЖ 1, ком. 116', 633104, 1, 50, 'Ларионов Алексей Сергеевич', 'АВИГРАН', 4, 'Общество с ограниченной ответственностью', 'ООО', 9119.0, 0, 0, 208.0, 0.0, 64.0, 0.0, 272.0, 1.0, 17.0, None, None, 'Жилой комплекс \"Новое Лыткарино\"', None, 6.0, 'ЖК Новое Лыткарино', None, None, None, None, None, None, None, None, None, None, None),\n (119, 21534, 54165, 71, 'г Тула, д. 18', 6, 6, 40, '2022-09-30', 'Монолит-кирпич', 'Под чистовую', 'Нет', 0, 2089.32, '71-000159', 'https://xn--80az8a.xn--d1aqf.xn--p1ai/api/ext/file/25496c29-1fc7-4db5-83f5-516504060a3f', '02-08-2022 12:33', '54.2536', '37.6838', 0, 0, 'Типовой', '04-10-2022 01:30', \"[{'objId': 21534, 'pdId': 54165, 'rpdId': 620424, 'devId': 2627, 'ordNum': 1, 'objRenderPhotoSize': 343145, 'objRenderPhotoUrl': 'https://xn--80az8a. ... (166 characters truncated) ... atsApp_Image_2021-11-29_at_15.32.17.jpeg', 'objReadyDesc': 'Строится', 'objBuildTypeShortDesc': 'Жилое', 'knFlg': 1, 'loadDttm': '04-10-2022 01:14'}]\", 0, 'normal', 'https://xn--80az8a.xn--d1aqf.xn--p1ai/api/ext/file/22192634-fd0b-4ec0-902a-bb984d4bc030', 1, 23320, 6, 40, '2089.32', 10, 0, 1, '30-09-2022 12:00', '2,66', 0, 2.0, 1.0, 2.0, 8.0, 0.0, 1, 1, 0.0, 2.0, 2.0, 4, 1.0, 58951.0, 'ООО \"Имена. Строительство\" (ИНН: 6685102259)', 1, '[]', 0, 'info@avrora-green.ru', 0, 'C', 2, 2627, 'АВРОРА-ГРИНН', 'АВРОРА-ГРИНН', 'АВРОРА-ГРИНН', 0, 4, 10, 'Тульская область', '+7(487)270-04-00', 'молодежный-тула.рф', 'info@avrora-green.ru', '7106023650', '1157154011486', '710601001', 'Тульская область, г Тула, ул Пушкинская дом 55 помещение I', 'обл Тульская, г Тула, ул Пушкинская, д. 55, пом. I', 620424, 0, 71, 'Бармина Елена Олеговна', 'АВРОРА Гринн', 4, 'Общество с ограниченной ответственностью', 'ООО', 6294.0, 0, 0, 16.0, 16.0, 8.0, 0.0, 40.0, 2.0, 5.0, None, None, '«Молодежный»', None, None, None, None, None, None, None, None, None, None, None, None, None, None),\n (120, 21536, 54165, 71, 'г Тула, д. 19', 6, 6, 35, '2022-09-30', 'Монолит-кирпич', 'Под чистовую', 'Нет', 0, 1784.1, '71-000159', 'https://xn--80az8a.xn--d1aqf.xn--p1ai/api/ext/file/25496c29-1fc7-4db5-83f5-516504060a3f', '02-08-2022 12:33', '54.2536', '37.6838', 0, 0, 'Типовой', '04-10-2022 01:30', \"[{'objId': 21536, 'pdId': 54165, 'rpdId': 620424, 'devId': 2627, 'ordNum': 1, 'objRenderPhotoSize': 371910, 'objRenderPhotoUrl': 'https://xn--80az8a. ... (166 characters truncated) ... atsApp_Image_2021-11-29_at_15.43.49.jpeg', 'objReadyDesc': 'Строится', 'objBuildTypeShortDesc': 'Жилое', 'knFlg': 1, 'loadDttm': '04-10-2022 01:14'}]\", 0, 'normal', 'https://xn--80az8a.xn--d1aqf.xn--p1ai/api/ext/file/7a3164c0-c17e-4846-8e8f-1aa3c260f3b5', 1, 23321, 6, 35, '1784.1', 0, 0, 1, '30-09-2022 12:00', '2,66', 0, 2.0, 1.0, 2.0, 8.0, 0.0, 1, 1, 0.0, 1.0, 1.0, 2, 1.0, 47030.0, 'ООО \"Имена. Строительство\" (ИНН: 6685102259)', 0, '[]', 0, 'info@avrora-green.ru', 0, 'C', 2, 2627, 'АВРОРА-ГРИНН', 'АВРОРА-ГРИНН', 'АВРОРА-ГРИНН', 0, 4, 10, 'Тульская область', '+7(487)270-04-00', 'молодежный-тула.рф', 'info@avrora-green.ru', '7106023650', '1157154011486', '710601001', 'Тульская область, г Тула, ул Пушкинская дом 55 помещение I', 'обл Тульская, г Тула, ул Пушкинская, д. 55, пом. I', 620424, 0, 71, 'Бармина Елена Олеговна', 'АВРОРА Гринн', 4, 'Общество с ограниченной ответственностью', 'ООО', 6294.0, 0, 0, 21.0, 9.0, 5.0, 0.0, 35.0, 1.0, 7.0, None, None, '«Молодежный»', None, None, None, None, None, None, None, None, None, None, None, None, None, None),\n (121, 21535, 54165, 71, 'г Тула, д. 20', 6, 6, 35, '2022-09-30', 'Монолит-кирпич', 'Под чистовую', 'Нет', 0, 1786.55, '71-000159', 'https://xn--80az8a.xn--d1aqf.xn--p1ai/api/ext/file/25496c29-1fc7-4db5-83f5-516504060a3f', '02-08-2022 12:33', '54.2536', '37.6838', 0, 0, 'Типовой', '04-10-2022 01:30', \"[{'objId': 21535, 'pdId': 54165, 'rpdId': 620424, 'devId': 2627, 'ordNum': 1, 'objRenderPhotoSize': 312352, 'objRenderPhotoUrl': 'https://xn--80az8a. ... (166 characters truncated) ... atsApp_Image_2021-11-29_at_15.59.19.jpeg', 'objReadyDesc': 'Строится', 'objBuildTypeShortDesc': 'Жилое', 'knFlg': 1, 'loadDttm': '04-10-2022 01:14'}]\", 0, 'normal', 'https://xn--80az8a.xn--d1aqf.xn--p1ai/api/ext/file/fb482b7e-5332-4aea-b96d-3987364e832c', 1, 23323, 6, 35, '1786.55', 0, 0, 1, '30-09-2022 12:00', '2,66', 0, 2.0, 1.0, 2.0, 8.0, 0.0, 1, 1, 0.0, 1.0, 1.0, 2, 1.0, 46167.0, 'ООО \"Имена. Строительство\" (ИНН: 6685102259)', 0, '[]', 0, 'info@avrora-green.ru', 0, 'C', 2, 2627, 'АВРОРА-ГРИНН', 'АВРОРА-ГРИНН', 'АВРОРА-ГРИНН', 0, 4, 10, 'Тульская область', '+7(487)270-04-00', 'молодежный-тула.рф', 'info@avrora-green.ru', '7106023650', '1157154011486', '710601001', 'Тульская область, г Тула, ул Пушкинская дом 55 помещение I', 'обл Тульская, г Тула, ул Пушкинская, д. 55, пом. I', 620424, 0, 71, 'Бармина Елена Олеговна', 'АВРОРА Гринн', 4, 'Общество с ограниченной ответственностью', 'ООО', 6294.0, 0, 0, 21.0, 9.0, 5.0, 0.0, 35.0, 1.0, 7.0, None, None, '«Молодежный»', None, None, None, None, None, None, None, None, None, None, None, None, None, None),\n (122, 21537, 54165, 71, 'г Тула, д. 21', 6, 6, 35, '2022-09-30', 'Монолит-кирпич', 'Под чистовую', 'Нет', 0, 1784.1, '71-000159', 'https://xn--80az8a.xn--d1aqf.xn--p1ai/api/ext/file/25496c29-1fc7-4db5-83f5-516504060a3f', '02-08-2022 12:33', '54.2536', '37.6838', 0, 0, 'Типовой', '04-10-2022 01:30', \"[{'objId': 21537, 'pdId': 54165, 'rpdId': 620424, 'devId': 2627, 'ordNum': 1, 'objRenderPhotoSize': 376420, 'objRenderPhotoUrl': 'https://xn--80az8a. ... (166 characters truncated) ... atsApp_Image_2021-11-29_at_15.37.12.jpeg', 'objReadyDesc': 'Строится', 'objBuildTypeShortDesc': 'Жилое', 'knFlg': 1, 'loadDttm': '04-10-2022 01:14'}]\", 0, 'normal', 'https://xn--80az8a.xn--d1aqf.xn--p1ai/api/ext/file/de72a2d9-0491-40bc-bcb5-ba15d1bd87f7', 1, 23324, 6, 35, '1784.1', 0, 0, 1, '30-09-2022 12:00', '2,66', 0, 2.0, 1.0, 2.0, 8.0, 0.0, 1, 1, 0.0, 1.0, 1.0, 2, 1.0, 47782.0, 'ООО \"Имена. Строительство\" (ИНН: 6685102259)', 0, '[]', 0, 'info@avrora-green.ru', 0, 'C', 2, 2627, 'АВРОРА-ГРИНН', 'АВРОРА-ГРИНН', 'АВРОРА-ГРИНН', 0, 4, 10, 'Тульская область', '+7(487)270-04-00', 'молодежный-тула.рф', 'info@avrora-green.ru', '7106023650', '1157154011486', '710601001', 'Тульская область, г Тула, ул Пушкинская дом 55 помещение I', 'обл Тульская, г Тула, ул Пушкинская, д. 55, пом. I', 620424, 0, 71, 'Бармина Елена Олеговна', 'АВРОРА Гринн', 4, 'Общество с ограниченной ответственностью', 'ООО', 6294.0, 0, 0, 21.0, 9.0, 5.0, 0.0, 35.0, 1.0, 7.0, None, None, '«Молодежный»', None, None, None, None, None, None, None, None, None, None, None, None, None, None),\n (123, 42192, 487215, 52, 'г Кстово, улица Сутырина', 1, 14, 168, '2022-12-31', 'Другое', 'Без отделки', 'Нет', 0, 7940.69, '52-000735', 'https://xn--80az8a.xn--d1aqf.xn--p1ai/api/ext/file/e9e61684-ea97-4aaa-a741-7353e877faad', '09-09-2022 13:33', '56.1448', '44.2024', 0, 0, 'Типовой', '04-10-2022 01:30', \"[{'objId': 42192, 'pdId': 487215, 'rpdId': 634081, 'devId': 12978, 'ordNum': 1, 'objRenderPhotoSize': 2799836, 'objRenderPhotoUrl': 'https://xn--80az ... (147 characters truncated) ... objRenderPhotoNm': 'Визуализация_(1).jpg', 'objReadyDesc': 'Строится', 'objBuildTypeShortDesc': 'Жилое', 'knFlg': 1, 'loadDttm': '04-10-2022 01:14'}]\", 1, 'normal', 'https://xn--80az8a.xn--d1aqf.xn--p1ai/api/ext/file/02bb5d85-33f8-4c30-985e-2fd160439307', 1, 122761, 14, 168, '7940.69', 2, 0, 1, '30-03-2023 12:00', '2,7 - 3,3', 0, 0.0, 0.0, 1.0, 16.0, 48.0, 1, 1, 0.0, 2.0, 0.0, 2, 0.753006350833492, 73251.0, 'ООО Строительная компания КоСа (ИНН: 2130174925)', 0, '[]', 1, 'AvtotexnikaNN@yandex.ru', 0, 'B', 8, 12978, 'АВТОТЕХНИКА', 'АВТОТЕХНИКА', 'АВТОТЕХНИКА', 0, 1, 0, 'Нижегородская область', '+7(950)627-17-82', 'www.наш.дом.рф', 'AvtotexnikaNN@yandex.ru', '5262128590', '1045207810889', '526001001', 'Нижегородская область, г Нижний Новгород, ул Костина дом 2 офис 89', 'обл Нижегородская, г Нижний Новгород, ул Костина, д. 2, оф. 89', 634081, 0, 52, 'Шливко Волф Александрович', None, 4, 'Общество с ограниченной ответственностью', 'ООО', None, 1, 0, 94.0, 65.0, 9.0, 0.0, 168.0, 2.0, 8.0, None, None, 'Жилой комплекс \"Андреевский\"', None, None, None, None, None, None, None, None, None, None, None, None, None, None),\n (124, 27542, 76150, 62, 'г Рязань, улица Горького', 4, 4, 32, '2023-09-30', 'Кирпич', 'Без отделки', 'Нет', 37, 2713.0, '62-000222', 'https://xn--80az8a.xn--d1aqf.xn--p1ai/api/ext/file/ec9781ae-dc16-4384-857d-b3efc2bfb516', '30-09-2022 16:39', '54.6212', '39.7502', 0, 0, 'Бизнес', '04-10-2022 01:30', \"[{'objId': 27542, 'pdId': 76150, 'rpdId': 638857, 'devId': 1846, 'ordNum': 1, 'objRenderPhotoSize': 70129, 'objRenderPhotoUrl': 'https://xn--80az8a.x ... (5830 characters truncated) ... : 0, 'objRenderPhotoNm': 'IMG_905511.JPG', 'objReadyDesc': 'Строится', 'objBuildTypeShortDesc': 'Жилое', 'knFlg': 1, 'loadDttm': '04-10-2022 01:14'}]\", 1, 'normal', 'https://xn--80az8a.xn--d1aqf.xn--p1ai/api/ext/file/66c15bf6-81fd-4dbc-8f42-fae209a60af8', 1, 17396, 4, 32, '2713.0', 40, 0, 1, '28-02-2024 12:00', '2,75 - 3', 0, 1.0, 0.0, 2.0, 4.0, 0.0, 1, 1, 0.0, 2.0, 0.0, 0, None, None, 'ООО \"ГРУППА КОМПАНИЙ \"РУССКИЙ ДОМ\" (ИНН: 6234020719)', 0, '[]', 0, 'gorod.ryazan@mail.ru', 1, 'A', 10, 1846, 'АДАМАНТ', 'АДАМАНТ', 'АДАМАНТ', 0, 1, 3, 'Рязанская область', '+7(491)224-01-50', 'adamant62.ru', 'gorod.ryazan@mail.ru', '6234100146', '1126234001520', '623401001', 'Рязанская область, город Рязань, улица Радищева дом 41 помещение Н2', 'обл Рязанская город Рязань ул Радищева д. 41 помещение Н2', 638857, 0, 62, 'Назаркин Кирилл Владимирович', 'Белый город', 4, 'Общество с ограниченной ответственностью', 'ООО', 6112.0, 1, 0, 0.0, 20.0, 12.0, 0.0, 32.0, 2.0, 6.0, None, None, 'Многоквартирный жилой дом с нежилыми помещениями', None, None, None, None, None, None, None, None, None, None, None, None, None, None),\n (125, 20524, 49581, 77, 'г Москва, улица Адмирала Макарова, корпус 6, вл. 6', 34, 34, 396, '2023-06-30', 'Другое', 'Без отделки', 'Есть', 0, 20225.0, '77-001165', 'https://xn--80az8a.xn--d1aqf.xn--p1ai/api/ext/file/54db16da-37dc-4100-bd8b-418dd426657a', '02-09-2022 14:54', '55.8367', '37.4918', 1, 0, 'Бизнес', '04-10-2022 01:30', \"[{'objId': 20524, 'pdId': 49581, 'rpdId': 630077, 'devId': 3952, 'ordNum': 1, 'objRenderPhotoSize': 3965259, 'objRenderPhotoUrl': 'https://xn--80az8a ... (144 characters truncated) ... 'objRenderPhotoNm': 'фото_Макарова_6.JPG', 'objReadyDesc': 'Строится', 'objBuildTypeShortDesc': 'Жилое', 'knFlg': 1, 'loadDttm': '04-10-2022 01:14'}]\", 0, 'normal', 'https://xn--80az8a.xn--d1aqf.xn--p1ai/api/ext/file/53685f13-2885-4c34-a587-fd8d547739dc', 1, 16650, 34, 396, '20225.0', 8, 0, 1, '27-05-2023 12:00', '3,1 - 3,65', 0, 1.0, 1.0, 3.0, 6.0, 0.0, 0, 1, 0.0, 2.0, 2.0, 2, 0.995045735475896, 207678.0, 'ООО \"КРОСТ-Д\" (ИНН: 7712101996)', 1, '[]', 0, 'info@krost.ru', 0, 'C', 8, 3952, 'АДМ', 'АДМ', 'АДМ', 0, 1, 1, 'Москва город', '+7(495)725-80-93', 'www.krost.net', 'info@krost.ru', '7734658614', '1117746465176', '774301001', 'город Москва, улица Выборгская дом 7 корпус 1 помещение А-2 Цокольный этаж', 'г Москва город Москва улица Выборгская д. 7 кор. 1 помещение А-2, Цокольный этаж', 630077, 1, 77, 'Кузин Иван Сергеевич', 'Концерн КРОСТ', 4, 'Общество с ограниченной ответственностью', 'ООО', 5659.0, 0, 0, 132.0, 132.0, 132.0, 0.0, 396.0, 1.0, 12.0, '6 / 10', 6.0, 'ЖК \"Невский\", корпус 6', 9.0, 6.0, None, None, None, None, None, None, None, None, None, None, None, None),\n (126, 24093, 66867, 57, 'г Орёл, улица Панчука, д. 83', 17, 17, 349, '2022-12-31', 'Монолит-кирпич', 'Под чистовую', 'Нет', 0, 20646.86, '57-000062', 'https://xn--80az8a.xn--d1aqf.xn--p1ai/api/ext/file/272b1f0c-d863-42ef-be68-01a8923c4c70', '30-11-2020 11:42', '52.9623', '36.049', 0, 0, 'Комфорт', '04-10-2022 01:30', \"[{'objId': 24093, 'pdId': 66867, 'rpdId': 396081, 'devId': 556, 'ordNum': 1, 'objRenderPhotoSize': 4361996, 'objRenderPhotoUrl': 'https://xn--80az8a. ... (139 characters truncated) ...  0, 'objRenderPhotoNm': '4-12_001_01.jpg', 'objReadyDesc': 'Строится', 'objBuildTypeShortDesc': 'Жилое', 'knFlg': 1, 'loadDttm': '04-10-2022 01:14'}]\", 1, 'normal', 'https://xn--80az8a.xn--d1aqf.xn--p1ai/api/ext/file/b46447c7-2747-400d-ad21-fe24f56b9736', 1, 9294, 17, 349, '20646.86', 6, 0, 1, None, None, 0, None, None, None, None, None, 0, 0, None, None, None, 0, 0.205653062983911, 31439.0, None, 0, '[]', 0, '544955@ipoteka.orl.ru', 0, 'A+', 9, 556, 'АИЖК ОРЛОВСКОЙ ОБЛАСТИ', 'АИЖК ОРЛОВСКОЙ ОБЛАСТИ', 'АГЕНТСТВО ИПОТЕЧНОГО ЖИЛИЩНОГО КРЕДИТОВАНИЯ ОРЛОВСКОЙ ОБЛАСТИ', 0, 1, 0, 'Орловская область', '+7(486)254-49-55', 'аижк-орел.рф', '544955@ipoteka.orl.ru', '5751030135', '1065742000070', '575101001', 'Орловская область, город Орёл, площадь Мира дом 7', 'Орловская область, город Орел, площадь Мира 7', 396081, 0, 57, 'Латышев Борис Викторович', None, 1, 'Акционерное общество', 'АО', None, 1, 0, 134.0, 148.0, 67.0, 0.0, 349.0, 3.0, 7.0, None, None, None, None, None, None, 7.0, 'Сообщение о судебном акте. О завершении конкурсного производства', 'http://www.consultant.ru/document/cons_doc_LAW_39331/d05a5b1e13f328cd0e4ac017f9fe9a132185bb8e/', '24-12-2021 09:16', None, None, None, None, None, None, None),\n (127, 23862, 43156, 54, 'с/с Барышевский, д. 56/148 (внутренний)', 3, 3, 6, '2024-03-31', 'Кирпич', 'Без отделки', 'Есть', 0, 787.2, '54-000693', 'https://xn--80az8a.xn--d1aqf.xn--p1ai/api/ext/file/9fb4277b-8b5f-4084-9d09-0600cc185e82', '18-04-2022 12:35', '54.8414', '83.1761', 0, 0, 'Типовой', '04-10-2022 01:30', \"[{'objId': 23862, 'pdId': 43156, 'rpdId': 583793, 'devId': 1297, 'ordNum': 1, 'objRenderPhotoSize': 14733, 'objRenderPhotoUrl': 'https://xn--80az8a.x ... (137 characters truncated) ... : 0, 'objRenderPhotoNm': 'Безымянный.jpg', 'objReadyDesc': 'Строится', 'objBuildTypeShortDesc': 'Жилое', 'knFlg': 1, 'loadDttm': '04-10-2022 01:14'}]\", 0, 'normal', 'https://xn--80az8a.xn--d1aqf.xn--p1ai/api/ext/file/80f7aa5c-cad8-43eb-8949-ac0a7effbbc4', 1, 42886, 3, 6, '787.2', 0, 0, 1, '25-02-2024 12:00', None, 0, 0.0, 0.0, 0.0, 0.0, 0.0, 0, 0, 0.0, 0.0, 0.0, 0, None, None, None, 0, '[]', 0, 'info@academpark.com', 0, 'B', 1, 1297, 'АКАДЕМПАРК', 'АКАДЕМПАРК', 'ТЕХНОПАРК НОВОСИБИРСКОГО АКАДЕМГОРОДКА', 0, 9, 76, 'Новосибирская область', '+7(383)344-93-13', 'academpark.com', 'info@academpark.com', '5408252116', '1075473006905', '540801001', 'Новосибирская область, город Новосибирск, улица Николаева дом 12 помещение этаж 12', 'Новосибирская область, город Новосибирск, улица Николаева 12, этаж 12', 583797, 1, 54, 'Верховод Дмитрий Бенидиктович', 'Технопарк Новосибирского Академгородка', 1, 'Акционерное общество', 'АО', 6767.0, 0, 0, None, None, None, None, None, None, None, None, None, 'Коттеджный поселок \"Горки Академпарка\"', None, None, 'Коттеджный поселок Горки Академпарка', None, None, None, None, None, None, None, None, None, None, None),\n (128, 27806, 98026, 54, 'с/с Барышевский', 3, 3, 12, '2022-12-31', 'Кирпич', 'Без отделки', 'Есть', 0, 896.1, '54-000833', 'https://xn--80az8a.xn--d1aqf.xn--p1ai/api/ext/file/9895b640-2855-4c08-bd2c-6eaed996cf01', '24-05-2022 11:59', '54.8414', '83.1788', 1, 0, 'Типовой', '04-10-2022 01:30', \"[{'objId': 27806, 'pdId': 98026, 'rpdId': 583797, 'devId': 1297, 'ordNum': 1, 'objRenderPhotoSize': 5797713, 'objRenderPhotoUrl': 'https://xn--80az8a ... (2021 characters truncated) ... 018_04_09_Горки_уч56_ПЗУ_Страница_44.jpg', 'objReadyDesc': 'Строится', 'objBuildTypeShortDesc': 'Жилое', 'knFlg': 1, 'loadDttm': '04-10-2022 01:14'}]\", 0, 'normal', 'https://xn--80az8a.xn--d1aqf.xn--p1ai/api/ext/file/a975b55c-a048-481e-a8b4-7d06e260c6e0', 1, 42896, 3, 12, '896.1', 0, 0, 1, '24-02-2024 12:00', '3', 0, 0.0, 0.0, 0.0, 0.0, 0.0, 0, 0, 0.0, 0.0, 0.0, 0, None, None, None, 0, '[]', 0, 'info@academpark.com', 0, 'B', 1, 1297, 'АКАДЕМПАРК', 'АКАДЕМПАРК', 'ТЕХНОПАРК НОВОСИБИРСКОГО АКАДЕМГОРОДКА', 0, 9, 76, 'Новосибирская область', '+7(383)344-93-13', 'academpark.com', 'info@academpark.com', '5408252116', '1075473006905', '540801001', 'Новосибирская область, город Новосибирск, улица Николаева дом 12 помещение этаж 12', 'Новосибирская область, город Новосибирск, улица Николаева 12, этаж 12', 583797, 1, 54, 'Верховод Дмитрий Бенидиктович', 'Технопарк Новосибирского Академгородка', 1, 'Акционерное общество', 'АО', 6767.0, 0, 0, 0.0, 6.0, 6.0, 0.0, 12.0, 2.0, 2.0, None, None, 'Коттеджный поселок \"Горки Академпарка\"', None, None, 'Коттеджный поселок Горки Академпарка', None, None, None, None, None, None, None, None, None, None, None),\n (129, 27808, 98026, 54, 'с/с Барышевский', 3, 3, 12, '2022-12-31', 'Кирпич', 'Без отделки', 'Есть', 0, 896.1, '54-000833', 'https://xn--80az8a.xn--d1aqf.xn--p1ai/api/ext/file/9895b640-2855-4c08-bd2c-6eaed996cf01', '24-05-2022 11:59', '54.8414', '83.1788', 1, 0, 'Типовой', '04-10-2022 01:30', \"[{'objId': 27808, 'pdId': 98026, 'rpdId': 583797, 'devId': 1297, 'ordNum': 1, 'objRenderPhotoSize': 3918862, 'objRenderPhotoUrl': 'https://xn--80az8a ... (2021 characters truncated) ... 018_04_09_Горки_уч56_ПЗУ_Страница_44.jpg', 'objReadyDesc': 'Строится', 'objBuildTypeShortDesc': 'Жилое', 'knFlg': 1, 'loadDttm': '04-10-2022 01:14'}]\", 0, 'normal', 'https://xn--80az8a.xn--d1aqf.xn--p1ai/api/ext/file/38967ff4-ff8f-4e47-9b23-f6a9c669fc79', 1, 42863, 3, 12, '896.1', 0, 0, 1, '24-02-2024 12:00', '3', 0, 0.0, 0.0, 0.0, 0.0, 0.0, 0, 0, 0.0, 0.0, 0.0, 0, None, None, None, 0, '[]', 0, 'info@academpark.com', 0, 'B', 1, 1297, 'АКАДЕМПАРК', 'АКАДЕМПАРК', 'ТЕХНОПАРК НОВОСИБИРСКОГО АКАДЕМГОРОДКА', 0, 9, 76, 'Новосибирская область', '+7(383)344-93-13', 'academpark.com', 'info@academpark.com', '5408252116', '1075473006905', '540801001', 'Новосибирская область, город Новосибирск, улица Николаева дом 12 помещение этаж 12', 'Новосибирская область, город Новосибирск, улица Николаева 12, этаж 12', 583797, 1, 54, 'Верховод Дмитрий Бенидиктович', 'Технопарк Новосибирского Академгородка', 1, 'Акционерное общество', 'АО', 6767.0, 0, 0, 0.0, 6.0, 6.0, 0.0, 12.0, 2.0, 2.0, None, None, 'Коттеджный поселок \"Горки Академпарка\"', None, None, 'Коттеджный поселок Горки Академпарка', None, None, None, None, None, None, None, None, None, None, None),\n (130, 27801, 98026, 54, 'с/с Барышевский', 3, 3, 12, '2024-03-31', 'Кирпич', 'Без отделки', 'Есть', 0, 889.2, '54-000833', 'https://xn--80az8a.xn--d1aqf.xn--p1ai/api/ext/file/9895b640-2855-4c08-bd2c-6eaed996cf01', '24-05-2022 11:59', '54.8464', '83.1788', 0, 0, 'Типовой', '04-10-2022 01:30', \"[{'objId': 27801, 'pdId': 98026, 'rpdId': 583797, 'devId': 1297, 'ordNum': 1, 'objRenderPhotoSize': 14733, 'objRenderPhotoUrl': 'https://xn--80az8a.x ... (137 characters truncated) ... : 0, 'objRenderPhotoNm': 'Безымянный.jpg', 'objReadyDesc': 'Строится', 'objBuildTypeShortDesc': 'Жилое', 'knFlg': 1, 'loadDttm': '04-10-2022 01:14'}]\", 0, 'normal', 'https://xn--80az8a.xn--d1aqf.xn--p1ai/api/ext/file/abcffc52-1ed0-4c1f-9bab-aea0e386585a', 1, 42895, 3, 12, '889.2', 0, 0, 1, '24-02-2024 12:00', '3', 0, 0.0, 0.0, 1.0, 0.0, 0.0, 0, 0, 0.0, 0.0, 0.0, 0, None, None, None, 0, '[]', 0, 'info@academpark.com', 0, 'B', 1, 1297, 'АКАДЕМПАРК', 'АКАДЕМПАРК', 'ТЕХНОПАРК НОВОСИБИРСКОГО АКАДЕМГОРОДКА', 0, 9, 76, 'Новосибирская область', '+7(383)344-93-13', 'academpark.com', 'info@academpark.com', '5408252116', '1075473006905', '540801001', 'Новосибирская область, город Новосибирск, улица Николаева дом 12 помещение этаж 12', 'Новосибирская область, город Новосибирск, улица Николаева 12, этаж 12', 583797, 1, 54, 'Верховод Дмитрий Бенидиктович', 'Технопарк Новосибирского Академгородка', 1, 'Акционерное общество', 'АО', 6767.0, 0, 0, 3.0, 3.0, 3.0, 3.0, 12.0, 2.0, 2.0, None, None, 'Коттеджный поселок \"Горки Академпарка\"', None, None, 'Коттеджный поселок Горки Академпарка', None, None, None, None, None, None, None, None, None, None, None),\n (131, 23864, 43156, 54, 'с/с Барышевский', 3, 3, 12, '2024-03-31', 'Кирпич', 'Без отделки', 'Есть', 0, 889.2, '54-000693', 'https://xn--80az8a.xn--d1aqf.xn--p1ai/api/ext/file/9fb4277b-8b5f-4084-9d09-0600cc185e82', '18-04-2022 12:35', '54.8414', '83.1788', 0, 0, 'Типовой', '04-10-2022 01:30', \"[{'objId': 23864, 'pdId': 43156, 'rpdId': 583793, 'devId': 1297, 'ordNum': 1, 'objRenderPhotoSize': 14733, 'objRenderPhotoUrl': 'https://xn--80az8a.x ... (137 characters truncated) ... : 0, 'objRenderPhotoNm': 'Безымянный.jpg', 'objReadyDesc': 'Строится', 'objBuildTypeShortDesc': 'Жилое', 'knFlg': 1, 'loadDttm': '04-10-2022 01:14'}]\", 0, 'normal', 'https://xn--80az8a.xn--d1aqf.xn--p1ai/api/ext/file/bf59ef1e-24c1-44ed-aba6-52a1cd1081f7', 1, 42900, 3, 12, '889.2', 0, 0, 1, '25-02-2024 12:00', None, 0, 0.0, 0.0, 0.0, 0.0, 0.0, 0, 0, 0.0, 0.0, 0.0, 0, None, None, None, 0, '[]', 0, 'info@academpark.com', 0, 'B', 1, 1297, 'АКАДЕМПАРК', 'АКАДЕМПАРК', 'ТЕХНОПАРК НОВОСИБИРСКОГО АКАДЕМГОРОДКА', 0, 9, 76, 'Новосибирская область', '+7(383)344-93-13', 'academpark.com', 'info@academpark.com', '5408252116', '1075473006905', '540801001', 'Новосибирская область, город Новосибирск, улица Николаева дом 12 помещение этаж 12', 'Новосибирская область, город Новосибирск, улица Николаева 12, этаж 12', 583797, 1, 54, 'Верховод Дмитрий Бенидиктович', 'Технопарк Новосибирского Академгородка', 1, 'Акционерное общество', 'АО', 6767.0, 0, 0, None, None, None, None, None, None, None, None, None, 'Коттеджный поселок \"Горки Академпарка\"', None, None, 'Коттеджный поселок Горки Академпарка', None, None, None, None, None, None, None, None, None, None, None),\n (132, 27802, 98026, 54, 'с/с Барышевский', 3, 3, 12, '2024-03-31', 'Кирпич', 'Без отделки', 'Есть', 0, 889.2, '54-000833', 'https://xn--80az8a.xn--d1aqf.xn--p1ai/api/ext/file/9895b640-2855-4c08-bd2c-6eaed996cf01', '24-05-2022 11:59', '54.8414', '83.1788', 0, 0, 'Типовой', '04-10-2022 01:30', \"[{'objId': 27802, 'pdId': 98026, 'rpdId': 583797, 'devId': 1297, 'ordNum': 1, 'objRenderPhotoSize': 14733, 'objRenderPhotoUrl': 'https://xn--80az8a.x ... (137 characters truncated) ... : 0, 'objRenderPhotoNm': 'Безымянный.jpg', 'objReadyDesc': 'Строится', 'objBuildTypeShortDesc': 'Жилое', 'knFlg': 1, 'loadDttm': '04-10-2022 01:14'}]\", 0, 'normal', 'https://xn--80az8a.xn--d1aqf.xn--p1ai/api/ext/file/e7200d03-5aaf-4142-bb02-ed56b5760a9a', 1, 42915, 3, 12, '889.2', 0, 0, 1, '24-02-2024 12:00', '3', 0, 0.0, 0.0, 0.0, 0.0, 0.0, 0, 0, 0.0, 0.0, 0.0, 0, None, None, None, 0, '[]', 0, 'info@academpark.com', 0, 'B', 1, 1297, 'АКАДЕМПАРК', 'АКАДЕМПАРК', 'ТЕХНОПАРК НОВОСИБИРСКОГО АКАДЕМГОРОДКА', 0, 9, 76, 'Новосибирская область', '+7(383)344-93-13', 'academpark.com', 'info@academpark.com', '5408252116', '1075473006905', '540801001', 'Новосибирская область, город Новосибирск, улица Николаева дом 12 помещение этаж 12', 'Новосибирская область, город Новосибирск, улица Николаева 12, этаж 12', 583797, 1, 54, 'Верховод Дмитрий Бенидиктович', 'Технопарк Новосибирского Академгородка', 1, 'Акционерное общество', 'АО', 6767.0, 0, 0, 3.0, 3.0, 3.0, 3.0, 12.0, 2.0, 2.0, None, None, 'Коттеджный поселок \"Горки Академпарка\"', None, None, 'Коттеджный поселок Горки Академпарка', None, None, None, None, None, None, None, None, None, None, None),\n (133, 23863, 43156, 54, 'с/с Барышевский', 3, 3, 12, '2024-03-31', 'Кирпич', 'Без отделки', 'Есть', 0, 889.2, '54-000693', 'https://xn--80az8a.xn--d1aqf.xn--p1ai/api/ext/file/9fb4277b-8b5f-4084-9d09-0600cc185e82', '18-04-2022 12:35', '54.8421', '83.1789', 0, 0, 'Типовой', '04-10-2022 01:30', \"[{'objId': 23863, 'pdId': 43156, 'rpdId': 583793, 'devId': 1297, 'ordNum': 1, 'objRenderPhotoSize': 14733, 'objRenderPhotoUrl': 'https://xn--80az8a.x ... (137 characters truncated) ... : 0, 'objRenderPhotoNm': 'Безымянный.jpg', 'objReadyDesc': 'Строится', 'objBuildTypeShortDesc': 'Жилое', 'knFlg': 1, 'loadDttm': '04-10-2022 01:14'}]\", 0, 'normal', 'https://xn--80az8a.xn--d1aqf.xn--p1ai/api/ext/file/e244dbab-7d83-47ea-9e5d-02188777e009', 1, 42343, 3, 12, '889.2', 0, 0, 1, '25-02-2024 12:00', None, 0, 0.0, 0.0, 0.0, 0.0, 0.0, 0, 0, 0.0, 0.0, 0.0, 0, None, None, None, 0, '[]', 0, 'info@academpark.com', 0, 'B', 1, 1297, 'АКАДЕМПАРК', 'АКАДЕМПАРК', 'ТЕХНОПАРК НОВОСИБИРСКОГО АКАДЕМГОРОДКА', 0, 9, 76, 'Новосибирская область', '+7(383)344-93-13', 'academpark.com', 'info@academpark.com', '5408252116', '1075473006905', '540801001', 'Новосибирская область, город Новосибирск, улица Николаева дом 12 помещение этаж 12', 'Новосибирская область, город Новосибирск, улица Николаева 12, этаж 12', 583797, 1, 54, 'Верховод Дмитрий Бенидиктович', 'Технопарк Новосибирского Академгородка', 1, 'Акционерное общество', 'АО', 6767.0, 0, 0, None, None, None, None, None, None, None, None, None, 'Коттеджный поселок \"Горки Академпарка\"', None, None, 'Коттеджный поселок Горки Академпарка', None, None, None, None, None, None, None, None, None, None, None),\n (134, 27803, 98026, 54, 'с/с Барышевский', 3, 3, 12, '2024-03-31', 'Кирпич', 'Без отделки', 'Есть', 0, 889.2, '54-000833', 'https://xn--80az8a.xn--d1aqf.xn--p1ai/api/ext/file/9895b640-2855-4c08-bd2c-6eaed996cf01', '24-05-2022 11:59', '54.8421', '83.179', 0, 0, 'Типовой', '04-10-2022 01:30', \"[{'objId': 27803, 'pdId': 98026, 'rpdId': 583797, 'devId': 1297, 'ordNum': 1, 'objRenderPhotoSize': 14733, 'objRenderPhotoUrl': 'https://xn--80az8a.x ... (137 characters truncated) ... : 0, 'objRenderPhotoNm': 'Безымянный.jpg', 'objReadyDesc': 'Строится', 'objBuildTypeShortDesc': 'Жилое', 'knFlg': 1, 'loadDttm': '04-10-2022 01:14'}]\", 0, 'normal', 'https://xn--80az8a.xn--d1aqf.xn--p1ai/api/ext/file/4fcd9a2f-b778-417c-a8dc-f4b69b95ea1f', 1, 42916, 3, 12, '889.2', 0, 0, 1, '24-02-2024 12:00', '3', 0, 0.0, 0.0, 0.0, 0.0, 0.0, 0, 0, 0.0, 0.0, 0.0, 0, None, None, None, 0, '[]', 0, 'info@academpark.com', 0, 'B', 1, 1297, 'АКАДЕМПАРК', 'АКАДЕМПАРК', 'ТЕХНОПАРК НОВОСИБИРСКОГО АКАДЕМГОРОДКА', 0, 9, 76, 'Новосибирская область', '+7(383)344-93-13', 'academpark.com', 'info@academpark.com', '5408252116', '1075473006905', '540801001', 'Новосибирская область, город Новосибирск, улица Николаева дом 12 помещение этаж 12', 'Новосибирская область, город Новосибирск, улица Николаева 12, этаж 12', 583797, 1, 54, 'Верховод Дмитрий Бенидиктович', 'Технопарк Новосибирского Академгородка', 1, 'Акционерное общество', 'АО', 6767.0, 0, 0, 3.0, 3.0, 3.0, 3.0, 12.0, 2.0, 2.0, None, None, 'Коттеджный поселок \"Горки Академпарка\"', None, None, 'Коттеджный поселок Горки Академпарка', None, None, None, None, None, None, None, None, None, None, None),\n (135, 27798, 98026, 54, 'с/с Барышевский', 3, 3, 12, '2024-03-31', 'Кирпич', 'Без отделки', 'Есть', 0, 889.2, '54-000833', 'https://xn--80az8a.xn--d1aqf.xn--p1ai/api/ext/file/9895b640-2855-4c08-bd2c-6eaed996cf01', '24-05-2022 11:59', '54.8422', '83.1789', 0, 0, 'Типовой', '04-10-2022 01:30', \"[{'objId': 27798, 'pdId': 98026, 'rpdId': 583797, 'devId': 1297, 'ordNum': 1, 'objRenderPhotoSize': 14733, 'objRenderPhotoUrl': 'https://xn--80az8a.x ... (137 characters truncated) ... : 0, 'objRenderPhotoNm': 'Безымянный.jpg', 'objReadyDesc': 'Строится', 'objBuildTypeShortDesc': 'Жилое', 'knFlg': 1, 'loadDttm': '04-10-2022 01:14'}]\", 0, 'normal', 'https://xn--80az8a.xn--d1aqf.xn--p1ai/api/ext/file/51fe8228-b8e6-4e53-b937-96d727f0c35b', 1, 42738, 3, 12, '889.2', 0, 0, 1, '24-02-2024 12:00', '3', 0, 0.0, 0.0, 1.0, 0.0, 0.0, 0, 0, 0.0, 0.0, 0.0, 0, None, None, None, 0, '[]', 0, 'info@academpark.com', 0, 'B', 1, 1297, 'АКАДЕМПАРК', 'АКАДЕМПАРК', 'ТЕХНОПАРК НОВОСИБИРСКОГО АКАДЕМГОРОДКА', 0, 9, 76, 'Новосибирская область', '+7(383)344-93-13', 'academpark.com', 'info@academpark.com', '5408252116', '1075473006905', '540801001', 'Новосибирская область, город Новосибирск, улица Николаева дом 12 помещение этаж 12', 'Новосибирская область, город Новосибирск, улица Николаева 12, этаж 12', 583797, 1, 54, 'Верховод Дмитрий Бенидиктович', 'Технопарк Новосибирского Академгородка', 1, 'Акционерное общество', 'АО', 6767.0, 0, 0, 3.0, 3.0, 3.0, 3.0, 12.0, 2.0, 2.0, None, None, 'Коттеджный поселок \"Горки Академпарка\"', None, None, 'Коттеджный поселок Горки Академпарка', None, None, None, None, None, None, None, None, None, None, None),\n (136, 21720, 54693, 77, 'г Москва, район Левобережный, шоссе Ленинградское, вл. 69', 22, 22, 204, '2023-06-30', 'Монолит-кирпич', 'Под ключ', 'Нет', 36, 16726.99, '77-001401', 'https://xn--80az8a.xn--d1aqf.xn--p1ai/api/ext/file/464a8ebf-32b8-46dd-ab30-1c3b521f3bb5', '06-09-2022 11:33', '55.8694', '37.4565', 1, 0, 'Бизнес', '04-10-2022 01:30', \"[{'objId': 21720, 'pdId': 54693, 'rpdId': 631562, 'devId': 6270, 'ordNum': 1, 'objRenderPhotoSize': 676288, 'objRenderPhotoUrl': 'https://xn--80az8a. ... (4393 characters truncated) ... 60-Aquatoria_EXT_DAY_Fob_39_0004_v97.jpg', 'objReadyDesc': 'Строится', 'objBuildTypeShortDesc': 'Жилое', 'knFlg': 1, 'loadDttm': '04-10-2022 01:14'}]\", 0, 'normal', 'https://xn--80az8a.xn--d1aqf.xn--p1ai/api/ext/file/de89279d-ea54-4b1b-8a16-4f75708e1732', 1, 22953, 22, 204, '16726.99', 93, 0, 1, '30-10-2023 12:00', '2,87 - 3,55', 0, 0.0, 0.0, 0.0, 0.0, 0.0, 0, 1, 0.0, 3.0, 0.0, 1, 0.571620476846103, 325203.0, 'ООО \"Альфа Строй\" (ИНН: 6659222310)', 0, '[]', 0, 'hello@aquatoria.com', 0, 'B', 9, 6270, 'АКВАТОРИЯ', 'АКВАТОРИЯ', 'АКВАТОРИЯ', 0, 2, 1, 'Москва город', '+7(495)782-22-36', 'www.aquatoria.com', 'hello@aquatoria.com', '7712006051', '1027700060497', '774301001', 'город Москва, шоссе Ленинградское дом 69', 'г Москва шоссе Ленинградское д. 69', 631562, 1, 77, 'Лукашин Александр Михайлович', 'Wainbridge', 4, 'Общество с ограниченной ответственностью', 'ООО', 9251.0, 1, 0, 16.0, 87.0, 58.0, 43.0, 204.0, 1.0, 11.0, '4 / 10', 4.0, 'Многофункциональный комплекс AQUATORIA (корпус B3)', 8.0, 6.0, None, None, None, None, None, None, None, None, None, None, None, None),\n (137, 45249, 530733, 77, 'г Москва, район Левобережный, ш Ленинградское, вл. 69', 2, 23, 0, '2025-09-30', 'Монолит-кирпич', 'Под ключ', 'Нет', 389, 0.0, '77-002435', 'https://xn--80az8a.xn--d1aqf.xn--p1ai/api/ext/file/21142e8d-2478-4ba3-a205-f291018acc13', '06-09-2022 11:29', '55.8701', '37.4566', 0, 0, 'Бизнес', '04-10-2022 01:30', \"[{'objId': 45249, 'pdId': 530733, 'rpdId': 631556, 'devId': 6270, 'ordNum': 1, 'objRenderPhotoSize': 3203848, 'objRenderPhotoUrl': 'https://xn--80az8 ... (582 characters truncated) ... 0, 'objRenderPhotoNm': 'AQUATORIA1.png', 'objReadyDesc': 'Строится', 'objBuildTypeShortDesc': 'Нежилое', 'knFlg': 0, 'loadDttm': '04-10-2022 01:14'}]\", 1, 'normal', 'https://xn--80az8a.xn--d1aqf.xn--p1ai/api/ext/file/8ef1f29a-117b-431a-a9c1-dee8925f0e2d', 0, 125859, 23, 0, '0.0', 627, 0, 1, '16-06-2026 12:00', None, 1, 0.0, 0.0, 0.0, 0.0, 0.0, 1, 1, 0.0, 0.0, 0.0, 8, 0.000671892304955415, 231772.0, 'ООО Альфа Строй (ИНН: 6659222310)', 1, \"[{'metroStationNm': 'Беломорская', 'isMetroStationDistWalking': True, 'metroStationDistTime': 21.05, 'metroStationDistLength': 1.755, 'metroLineColor ... (337 characters truncated) ... g': False, 'metroStationDistTime': 16.55, 'metroStationDistLength': 0.817, 'metroLineColorHexCode': '4FB04F', 'metroLineColorsHexCode': ['#4FB04F']}]\", 1, 'hello@aquatoria.com', 0, 'Не нормируется', 8, 6270, 'АКВАТОРИЯ', 'АКВАТОРИЯ', 'АКВАТОРИЯ', 0, 2, 1, 'Москва город', '+7(495)782-22-36', 'www.aquatoria.com', 'hello@aquatoria.com', '7712006051', '1027700060497', '774301001', 'город Москва, шоссе Ленинградское дом 69', 'г Москва шоссе Ленинградское д. 69', 631562, 1, 77, 'Лукашин Александр Михайлович', 'Wainbridge', 4, 'Общество с ограниченной ответственностью', 'ООО', 9251.0, 1, 0, None, None, None, None, None, None, None, '5 / 10', 5.0, 'Многофункциональный комплекс AQUATORIA (корпуса A1 A2)', 8.0, None, None, None, None, None, None, '2.674', 'Беломорская', 'Замоскворецкая', '#4FB04F', 21.05, 1, \"['#4FB04F']\"),\n (138, 33899, 222538, 54, 'г Новосибирск, улица Лескова, д. 30, блок-секция б', 2, 27, 192, '2022-12-31', 'Монолит-кирпич', 'Другое', 'Нет', 0, 13101.36, '54-001078', 'https://xn--80az8a.xn--d1aqf.xn--p1ai/api/ext/file/884c3836-5934-4df9-9d9e-40a7fefdb4e5', '06-09-2022 05:49', '55.0231', '82.9537', 0, 0, 'Комфорт', '04-10-2022 01:30', \"[{'objId': 33899, 'pdId': 222538, 'rpdId': 631235, 'devId': 226, 'ordNum': 1, 'objRenderPhotoSize': 255618, 'objRenderPhotoUrl': 'https://xn--80az8a. ... (148 characters truncated) ... enderPhotoNm': '2018-08-16_Cam10_мал.jpg', 'objReadyDesc': 'Строится', 'objBuildTypeShortDesc': 'Жилое', 'knFlg': 1, 'loadDttm': '04-10-2022 01:14'}]\", 1, 'normal', 'https://xn--80az8a.xn--d1aqf.xn--p1ai/api/ext/file/e40bfa59-7410-412c-a0eb-e932cff9733a', 1, 44821, 27, 192, '13101.36', 3, 0, 1, '31-03-2023 12:00', '2,7 - 3,4', 0, 1.0, 1.0, 1.0, 0.0, 0.0, 1, 1, 0.0, 1.0, 2.0, 5, 0.531550922957617, 101758.0, 'ООО \"Форест\" (ИНН: 5407465400)', 1, '[]', 1, 'm.petrov@akd54.ru', 0, 'A', 9, 226, 'АКД-МЕТА', 'АКД-МЕТА', 'АКД-МЕТА', 0, 1, 3, 'Новосибирская область', '+7(383)239-10-01', 'www.oazis54.ru', 'm.petrov@akd54.ru', '5405416327', '1105476026798', '540201001', 'Новосибирская область, г Новосибирск, г.о.город Новосибирск, ул.Тимирязева дом 58/1 офис 305', 'обл Новосибирская, г Новосибирск, г.о.город Новосибирск, ул.Тимирязева, д. 58/1, оф. 305', 631235, 0, 54, 'Петров Максим Алексеевич', 'АКД', 4, 'Общество с ограниченной ответственностью', 'ООО', 7279.0, 1, 0, 0.0, 120.0, 48.0, 24.0, 192.0, 1.0, 8.0, '10 / 10', 10.0, None, None, None, None, None, None, None, None, None, None, None, None, None, None, None),\n (139, 17712, 32557, 86, 'г Сургут, Микрорайон 39, д. 10, блок-секция Отсек 10-4, 10-5', 1, 1, 0, '2023-12-31', 'Другое', 'Другое', 'Есть', 152, 0.0, '86-000097', 'https://xn--80az8a.xn--d1aqf.xn--p1ai/api/ext/file/295d2fac-0e6f-4fc4-81c7-ac26c537ef81', '05-09-2022 15:13', '61.2832', '73.3597', 0, 0, 'Бизнес', '04-10-2022 01:30', \"[{'objId': 17712, 'pdId': 32557, 'rpdId': 630956, 'devId': 198, 'ordNum': 1, 'objRenderPhotoSize': 111822, 'objRenderPhotoUrl': 'https://xn--80az8a.x ... (577 characters truncated) ... , 'objRenderPhotoNm': 'Рендер_С39..jpg', 'objReadyDesc': 'Строится', 'objBuildTypeShortDesc': 'Нежилое', 'knFlg': 0, 'loadDttm': '04-10-2022 01:14'}]\", 1, 'normal', 'https://xn--80az8a.xn--d1aqf.xn--p1ai/api/ext/file/5a1dca5e-3e18-42d0-be70-ad6147ab4eac', 0, 20730, 1, 0, '0.0', 0, 0, 1, '16-06-2024 12:00', None, 0, 0.0, 0.0, 0.0, 0.0, 0.0, 0, 1, 0.0, 0.0, 0.0, 0, 0.356488994380858, 2961.0, 'ООО Югра-Сити (ИНН: 7203429045)', 1, '[]', 0, 'shefer.as@sst.hm', 0, 'Не нормируется', 8, 198, 'АЛЕКСАНДРИЯ 6-10', 'АЛЕКСАНДРИЯ 6-10', 'АЛЕКСАНДРИЯ 6-10', 0, 2, 6, 'Ханты-Мансийский АО - Югра', '+7(346)738-86-55', 'www.surgut4s.ru', 'seсretar@sst.hm', '8601046621', '1128601001506', '860101001', 'Ханты-Мансийский АО - Югра, г Ханты-Мансийск, ул Гагарина дом 118/1 квартира 2', 'АО Ханты-Мансийский автономный округ - Югра, г Ханты-Мансийск, ул Гагарина, д. 118/1, кв. 2', 630956, 0, 86, 'Мовсисян Вачаган Вачаганович', 'Северные Строительные Технологии', 4, 'Общество с ограниченной ответственностью', 'ООО', 5779.0, 1, 0, None, None, None, None, None, None, None, None, None, 'ЖК 4 сезона  .', None, None, None, None, None, None, None, None, None, None, None, None, None, None),\n (140, 17707, 32557, 86, 'г Сургут, Микрорайон 39, д. 7', 25, 25, 220, '2023-12-31', 'Монолит-кирпич', 'По желанию заказчика', 'Есть', 0, 11662.55, '86-000097', 'https://xn--80az8a.xn--d1aqf.xn--p1ai/api/ext/file/295d2fac-0e6f-4fc4-81c7-ac26c537ef81', '05-09-2022 15:13', '61.283', '73.3603', 0, 0, 'Бизнес', '04-10-2022 01:30', \"[{'objId': 17707, 'pdId': 32557, 'rpdId': 630956, 'devId': 198, 'ordNum': 1, 'objRenderPhotoSize': 111822, 'objRenderPhotoUrl': 'https://xn--80az8a.x ... (573 characters truncated) ...  0, 'objRenderPhotoNm': 'Рендер_С39..jpg', 'objReadyDesc': 'Строится', 'objBuildTypeShortDesc': 'Жилое', 'knFlg': 1, 'loadDttm': '04-10-2022 01:14'}]\", 1, 'normal', 'https://xn--80az8a.xn--d1aqf.xn--p1ai/api/ext/file/e6890486-7477-4afb-a9b1-f7f2344fbf20', 1, 20731, 25, 220, '11662.55', 43, 0, 1, '16-06-2024 12:00', '2,7', 0, 1.0, 2.0, 1.0, 34.0, 0.0, 0, 1, 1.0, 2.0, 2.0, 6, 0.288062216239159, 112432.0, 'ООО Югра-Сити (ИНН: 7203429045)', 1, '[]', 0, 'shefer.as@sst.hm', 1, 'A++', 8, 198, 'АЛЕКСАНДРИЯ 6-10', 'АЛЕКСАНДРИЯ 6-10', 'АЛЕКСАНДРИЯ 6-10', 0, 2, 6, 'Ханты-Мансийский АО - Югра', '+7(346)738-86-55', 'www.surgut4s.ru', 'seсretar@sst.hm', '8601046621', '1128601001506', '860101001', 'Ханты-Мансийский АО - Югра, г Ханты-Мансийск, ул Гагарина дом 118/1 квартира 2', 'АО Ханты-Мансийский автономный округ - Югра, г Ханты-Мансийск, ул Гагарина, д. 118/1, кв. 2', 630956, 0, 86, 'Мовсисян Вачаган Вачаганович', 'Северные Строительные Технологии', 4, 'Общество с ограниченной ответственностью', 'ООО', 5779.0, 1, 0, 110.0, 88.0, 22.0, 0.0, 220.0, 1.0, 10.0, None, None, 'ЖК 4 сезона.Жилой дом \"Zima\"', None, None, '4 сезона', None, None, None, None, None, None, None, None, None, None, None),\n (141, 33745, 212271, 22, 'г Барнаул, ул Власихинская, д. 156А', 5, 5, 0, '2023-03-31', 'Кирпич', 'Другое', 'Есть', 0, 0.0, '22-000306', 'https://xn--80az8a.xn--d1aqf.xn--p1ai/api/ext/file/ad8c6bd1-ec53-44c9-8e41-50fb84fbda4a', '05-09-2022 07:21', '53.3289', '83.6819', 0, 0, 'Типовой', '04-10-2022 01:30', \"[{'objId': 33745, 'pdId': 212271, 'rpdId': 630352, 'devId': 8792, 'ordNum': 1, 'objRenderPhotoSize': 846717, 'objRenderPhotoUrl': 'https://xn--80az8a ... (156 characters truncated) ... otoNm': 'ПРОЕКТ_Власихинская_156а..png', 'objReadyDesc': 'Строится', 'objBuildTypeShortDesc': 'Нежилое', 'knFlg': 0, 'loadDttm': '04-10-2022 01:14'}]\", 0, 'normal', 'https://xn--80az8a.xn--d1aqf.xn--p1ai/api/ext/file/cb58f6f6-e529-45bb-966a-e7ed0d141425', 0, 44649, 5, 0, '0.0', 516, 0, 1, '20-04-2023 12:00', None, 0, 0.0, 0.0, 1.0, 50.0, 50.0, 1, 1, 0.0, 0.0, 0.0, 0, 0.745792471971491, 16438.0, None, 1, '[]', 0, 'altpromsnab@inbox.ru', 0, 'Не нормируется', 8, 8792, 'АЛТПРОМСНАБ', 'АЛТПРОМСНАБ', 'АЛТПРОМСНАБ', 0, 1, 0, 'Алтайский край', '+7 (385) 250-08-99', 'алтпромснаб.рф', 'JUR@SFO-NAL.RU', '2223032641', '1022201142920', '222401001', 'Алтайский край, город Барнаул, проспект Ленина дом 154/1 помещение Н11 офис 607', 'край Алтайский, город Барнаул, проспект Ленина, д.154/1, оф.607, пом.Н11', 630352, 0, 22, 'Гавриленко Татьяна Викторовна', None, 4, 'Общество с ограниченной ответственностью', 'ООО', None, 0, 0, None, None, None, None, None, None, None, None, None, None, None, None, None, None, None, None, None, None, None, None, None, None, None, None),\n (142, 44621, 550712, 54, 'г Новосибирск, ул Фабричная, блок-секция 2.3', 24, 24, 208, '2024-12-31', 'Монолит-кирпич', 'Под чистовую', 'Нет', 0, 11175.52, '54-001517', 'https://xn--80az8a.xn--d1aqf.xn--p1ai/api/ext/file/05a5742c-ac31-4fc9-ba86-459011adeef4', '09-09-2022 12:36', '55.0263', '82.896', 0, 0, 'Комфорт', '04-10-2022 01:30', \"[{'objId': 44621, 'pdId': 550712, 'rpdId': 634918, 'devId': 9770, 'ordNum': 1, 'objRenderPhotoSize': 83685, 'objRenderPhotoUrl': 'https://xn--80az8a. ... (151 characters truncated) ... erPhotoNm': 'image-06-04-22-09-16__.jpeg', 'objReadyDesc': 'Строится', 'objBuildTypeShortDesc': 'Жилое', 'knFlg': 1, 'loadDttm': '04-10-2022 01:14'}]\", 1, 'normal', 'https://xn--80az8a.xn--d1aqf.xn--p1ai/api/ext/file/ec0fdbc8-c8c2-4450-a978-693e10606268', 1, 125218, 24, 208, '11175.52', 7, 0, 1, '30-10-2024 12:00', '2,86', 0, 1.0, 1.0, 1.0, 63.0, 0.0, 1, 1, 0.0, 4.0, 4.0, 8, 0.0464989548584764, 118637.0, 'ООО СК СибТехСтрой (ИНН: 5405048962)', 0, '[]', 1, '2174422@mail.ru', 1, 'A++', 9, 9770, 'АЛЬГЕБА', 'АЛЬГЕБА', 'АЛЬГЕБА', 0, 4, 12, 'Новосибирская область', '+7(383)217-44-22', 'algeba-nsk.ru', '2174422@mail.ru', '5407025216', '1065405138457', '540601001', 'Новосибирская область, г Новосибирск, улица Семьи Шамшиных дом 24 помещение 43', 'обл Новосибирская, г Новосибирск, улица Семьи Шамшиных, д. 24, пом. 43', 637147, 0, 54, 'Хаминич Наталья Васильевна', 'Сибирьинвест', 4, 'Общество с ограниченной ответственностью', 'ООО', 6104.0, 1, 0, 65.0, 21.0, 76.0, 46.0, 208.0, 2.0, 5.0, '8 / 10', 8.0, 'Жилой комплекс Чернышевский', None, None, None, None, None, None, None, None, None, None, None, None, None, None),\n (143, 47610, 627388, 54, 'г Новосибирск', 30, 30, 129, '2024-12-31', 'Монолит-кирпич', 'Под чистовую', 'Нет', 127, 12634.46, '54-001768', 'https://xn--80az8a.xn--d1aqf.xn--p1ai/api/ext/file/cfc99a5a-fe85-4d9f-9a8d-4920c0b6c8ce', '23-08-2022 05:51', '55.0256', '82.9081', 0, 0, 'Бизнес', '04-10-2022 01:30', \"[{'objId': 47610, 'pdId': 627388, 'rpdId': 627942, 'devId': 9770, 'ordNum': 1, 'objRenderPhotoSize': 3267708, 'objRenderPhotoUrl': 'https://xn--80az8 ... (151 characters truncated) ... nderPhotoNm': 'image-23-08-22-09-40.jpeg', 'objReadyDesc': 'Строится', 'objBuildTypeShortDesc': 'Жилое', 'knFlg': 1, 'loadDttm': '04-10-2022 01:14'}]\", 1, 'normal', 'https://xn--80az8a.xn--d1aqf.xn--p1ai/api/ext/file/b04a005d-86f6-4113-84be-264dac4b89a4', 1, 128239, 30, 129, '12634.46', 78, 0, 1, '31-12-2024 12:00', '3,15 - 3,75', 0, 1.0, 1.0, 1.0, 3.0, 0.0, 1, 1, 0.0, 4.0, 4.0, 8, None, None, 'ООО СК СибТехСТрой (ИНН: 5405048962)', 1, '[]', 0, None, 0, 'B', 9, 9770, 'АЛЬГЕБА', 'АЛЬГЕБА', 'АЛЬГЕБА', 0, 4, 12, 'Новосибирская область', '+7(383)217-44-22', 'algeba-nsk.ru', '2174422@mail.ru', '5407025216', '1065405138457', '540601001', 'Новосибирская область, г Новосибирск, улица Семьи Шамшиных дом 24 помещение 43', 'обл Новосибирская, г Новосибирск, улица Семьи Шамшиных, д. 24, пом. 43', 637147, 0, 54, 'Хаминич Наталья Васильевна', 'Сибирьинвест', 4, 'Общество с ограниченной ответственностью', 'ООО', 6104.0, 1, 0, 1.0, 3.0, 49.0, 76.0, 129.0, 1.0, 5.0, None, None, 'Жилой комплекс на Горького', None, None, None, None, None, None, None, None, None, None, None, None, None, None),\n (144, 46571, 588956, 54, 'г Новосибирск, ул Фабричная', 24, 24, 198, '2024-12-31', 'Монолит-кирпич', 'Под чистовую', 'Нет', 18, 8956.86, '54-001628', 'https://xn--80az8a.xn--d1aqf.xn--p1ai/api/ext/file/eae604c2-b57c-4b7f-8b4b-be9ccd8f2ac0', '20-09-2022 11:30', '55.0269', '82.8954', 0, 0, 'Комфорт', '04-10-2022 01:30', \"[{'objId': 46571, 'pdId': 588956, 'rpdId': 637147, 'devId': 9770, 'ordNum': 1, 'objRenderPhotoSize': 378647, 'objRenderPhotoUrl': 'https://xn--80az8a ... (607 characters truncated) ... hotoNm': 'PHOTO-2022-06-15-14-01-441.jpg', 'objReadyDesc': 'Строится', 'objBuildTypeShortDesc': 'Жилое', 'knFlg': 1, 'loadDttm': '04-10-2022 01:14'}]\", 1, 'normal', 'https://xn--80az8a.xn--d1aqf.xn--p1ai/api/ext/file/7e8d5ceb-982a-40ed-b0e1-56c4f70cdc4d', 1, 127202, 24, 198, '8956.86', 3, 0, 1, '11-10-2024 12:00', '3,15', 0, 1.0, 1.0, 1.0, 107.0, 0.0, 1, 1, 0.0, 3.0, 3.0, 6, None, None, 'ООО СК СибТехСтрой (ИНН: 5405048962)', 1, '[]', 0, None, 1, 'A++', 9, 9770, 'АЛЬГЕБА', 'АЛЬГЕБА', 'АЛЬГЕБА', 0, 4, 12, 'Новосибирская область', '+7(383)217-44-22', 'algeba-nsk.ru', '2174422@mail.ru', '5407025216', '1065405138457', '540601001', 'Новосибирская область, г Новосибирск, улица Семьи Шамшиных дом 24 помещение 43', 'обл Новосибирская, г Новосибирск, улица Семьи Шамшиных, д. 24, пом. 43', 637147, 0, 54, 'Хаминич Наталья Васильевна', 'Сибирьинвест', 4, 'Общество с ограниченной ответственностью', 'ООО', 6104.0, 1, 0, 88.0, 110.0, 0.0, 0.0, 198.0, 1.0, 9.0, None, None, 'Жилой комплекс \"Чернышевский\"', None, None, None, None, None, None, None, None, None, None, None, None, None, None),\n (145, 44489, 543898, 54, 'г Новосибирск, ул Фабричная, блок-секция 2.1', 17, 17, 158, '2024-03-31', 'Кирпич', 'Под чистовую', 'Нет', 21, 6748.01, '54-001503', 'https://xn--80az8a.xn--d1aqf.xn--p1ai/api/ext/file/b4abaf0a-9e32-4ead-b88f-2f1b91397206', '09-09-2022 12:31', '55.0269', '82.8954', 0, 0, 'Комфорт', '04-10-2022 01:30', \"[{'objId': 44489, 'pdId': 543898, 'rpdId': 634906, 'devId': 9770, 'ordNum': 1, 'objRenderPhotoSize': 105666, 'objRenderPhotoUrl': 'https://xn--80az8a ... (150 characters truncated) ... nderPhotoNm': 'image-06-04-22-09-16.jpeg', 'objReadyDesc': 'Строится', 'objBuildTypeShortDesc': 'Жилое', 'knFlg': 1, 'loadDttm': '04-10-2022 01:14'}]\", 1, 'normal', 'https://xn--80az8a.xn--d1aqf.xn--p1ai/api/ext/file/023c896a-0f28-4d33-a3df-765c455591b7', 1, 125086, 17, 158, '6748.01', 37, 0, 1, '27-03-2024 12:00', '2,86', 0, 1.0, 1.0, 1.0, 40.0, 0.0, 1, 1, 0.0, 2.0, 2.0, 4, 0.822729960388322, 122180.0, 'ООО СК СибТехСтрой (ИНН: 5405048962)', 0, '[]', 1, '2174422@mail.ru', 1, 'A++', 9, 9770, 'АЛЬГЕБА', 'АЛЬГЕБА', 'АЛЬГЕБА', 0, 4, 12, 'Новосибирская область', '+7(383)217-44-22', 'algeba-nsk.ru', '2174422@mail.ru', '5407025216', '1065405138457', '540601001', 'Новосибирская область, г Новосибирск, улица Семьи Шамшиных дом 24 помещение 43', 'обл Новосибирская, г Новосибирск, улица Семьи Шамшиных, д. 24, пом. 43', 637147, 0, 54, 'Хаминич Наталья Васильевна', 'Сибирьинвест', 4, 'Общество с ограниченной ответственностью', 'ООО', 6104.0, 1, 0, 85.0, 44.0, 29.0, 0.0, 158.0, 1.0, 11.0, '8 / 10', 8.0, 'Жилой комплекс \"Чернышевский\"', None, None, None, None, None, None, None, None, None, None, None, None, None, None),\n (146, 15885, 31673, 23, 'г Краснодар, улица Им. краеведа Соловьёва В.А, д. 6, литера 4', 9, 9, 250, '2022-09-30', 'Монолит-кирпич', 'Под чистовую', 'Нет', 0, 11743.42, '23-000930', 'https://xn--80az8a.xn--d1aqf.xn--p1ai/api/ext/file/9205566b-7d1e-49e0-842b-0c583ec3abb6', '09-09-2022 16:26', '45.0926', '39.046', 1, 0, 'Комфорт', '04-10-2022 01:30', \"[{'objId': 15885, 'pdId': 31673, 'rpdId': 635295, 'devId': 2024, 'ordNum': 1, 'objRenderPhotoSize': 563011, 'objRenderPhotoUrl': 'https://xn--80az8a. ... (136 characters truncated) ... g': 0, 'objRenderPhotoNm': 'DJI_0091.jpg', 'objReadyDesc': 'Строится', 'objBuildTypeShortDesc': 'Жилое', 'knFlg': 1, 'loadDttm': '04-10-2022 01:14'}]\", 0, 'normal', 'https://xn--80az8a.xn--d1aqf.xn--p1ai/api/ext/file/055badc7-91c9-4f99-9f9e-2fd7dc1ed453', 1, 20984, 9, 250, '11743.42', 84, 0, 1, '30-01-2023 12:00', '2,7', 0, 1.0, 1.0, 0.0, 46.0, 104.0, 0, 1, 0.0, 4.0, 0.0, 0, 0.0174710603895628, 125536.0, None, 0, '[]', 0, 'alkasar.2015@yandex.ru', 0, 'B', 5, 2024, 'АЛЬКАСАР', 'АЛЬКАСАР', 'АЛЬКАСАР', 0, 6, 5, 'Краснодарский край', '+7(861)298-98-98', 'www.alcasarsk.ru', 'alkasar.2015@yandex.ru', '2311181836', '1142311018530', '231101001', 'Краснодарский край, город Краснодар, улица 40 лет Победы дом 34 офис 704', 'край Краснодарский город Краснодар улица 40 лет Победы д. 34 оф. 704', 635295, 1, 23, 'Зубреев Андрей Олегович', 'Метрикс Develoрment', 4, 'Общество с ограниченной ответственностью', 'ООО', 9139.0, 0, 0, 129.0, 107.0, 14.0, 0.0, 250.0, 4.0, 9.0, None, None, 'ЖИЛОЙ КВАРТАЛ \"КРАСКИ\" ЛИТЕР 4', None, None, None, None, None, None, None, None, None, None, None, None, None, None),\n (147, 15886, 31673, 23, 'г Краснодар, улица Им. краеведа Соловьёва В.А, д. 6, литера 5', 9, 9, 257, '2023-06-30', 'Монолит-кирпич', 'Под чистовую', 'Нет', 0, 11602.03, '23-000930', 'https://xn--80az8a.xn--d1aqf.xn--p1ai/api/ext/file/9205566b-7d1e-49e0-842b-0c583ec3abb6', '09-09-2022 16:26', '45.0986', '39.0622', 1, 0, 'Комфорт', '04-10-2022 01:30', \"[{'objId': 15886, 'pdId': 31673, 'rpdId': 635295, 'devId': 2024, 'ordNum': 1, 'objRenderPhotoSize': 603025, 'objRenderPhotoUrl': 'https://xn--80az8a. ... (136 characters truncated) ... g': 0, 'objRenderPhotoNm': 'DJI_0076.jpg', 'objReadyDesc': 'Строится', 'objBuildTypeShortDesc': 'Жилое', 'knFlg': 1, 'loadDttm': '04-10-2022 01:14'}]\", 0, 'normal', 'https://xn--80az8a.xn--d1aqf.xn--p1ai/api/ext/file/d94a8e56-dc5a-4af7-b661-3c5e6c1c41de', 1, 20985, 9, 257, '11602.03', 82, 0, 1, '31-12-2023 12:00', '2,7', 0, 1.0, 1.0, 0.0, 1.0, 104.0, 0, 1, 0.0, 4.0, 0.0, 0, 0.444239499466904, 118753.0, None, 0, '[]', 0, 'alkasar.2015@yandex.ru', 0, 'B', 2, 2024, 'АЛЬКАСАР', 'АЛЬКАСАР', 'АЛЬКАСАР', 0, 6, 5, 'Краснодарский край', '+7(861)298-98-98', 'www.alcasarsk.ru', 'alkasar.2015@yandex.ru', '2311181836', '1142311018530', '231101001', 'Краснодарский край, город Краснодар, улица 40 лет Победы дом 34 офис 704', 'край Краснодарский город Краснодар улица 40 лет Победы д. 34 оф. 704', 635295, 1, 23, 'Зубреев Андрей Олегович', 'Метрикс Develoрment', 4, 'Общество с ограниченной ответственностью', 'ООО', 9139.0, 0, 0, 151.0, 91.0, 15.0, 0.0, 257.0, 4.0, 9.0, None, None, 'ЖИЛОЙ КВАРТАЛ \"КРАСКИ\" ЛИТЕР 5', None, None, None, None, None, None, None, None, None, None, None, None, None, None),\n (148, 15888, 31673, 23, 'г Краснодар, улица Им. краеведа Соловьёва В.А, д. 6, литера 2', 9, 9, 220, '2022-09-30', 'Монолит-кирпич', 'Под чистовую', 'Нет', 0, 10028.01, '23-000930', 'https://xn--80az8a.xn--d1aqf.xn--p1ai/api/ext/file/9205566b-7d1e-49e0-842b-0c583ec3abb6', '09-09-2022 16:26', '45.0914', '39.0461', 1, 0, 'Комфорт', '04-10-2022 01:30', \"[{'objId': 15888, 'pdId': 31673, 'rpdId': 635295, 'devId': 2024, 'ordNum': 1, 'objRenderPhotoSize': 615145, 'objRenderPhotoUrl': 'https://xn--80az8a. ... (136 characters truncated) ... g': 0, 'objRenderPhotoNm': 'DJI_0089.jpg', 'objReadyDesc': 'Строится', 'objBuildTypeShortDesc': 'Жилое', 'knFlg': 1, 'loadDttm': '04-10-2022 01:14'}]\", 0, 'normal', 'https://xn--80az8a.xn--d1aqf.xn--p1ai/api/ext/file/a6ad2145-35b4-4743-84d8-699f56874da9', 1, 20982, 9, 220, '10028.01', 66, 0, 1, '30-01-2023 12:00', '2,7', 0, 1.0, 1.0, 0.0, 2.0, 104.0, 0, 1, 0.0, 3.0, 0.0, 0, 0.0947017404250694, 97507.0, None, 0, '[]', 0, 'alkasar.2015@yandex.ru', 0, 'B', 5, 2024, 'АЛЬКАСАР', 'АЛЬКАСАР', 'АЛЬКАСАР', 0, 6, 5, 'Краснодарский край', '+7(861)298-98-98', 'www.alcasarsk.ru', 'alkasar.2015@yandex.ru', '2311181836', '1142311018530', '231101001', 'Краснодарский край, город Краснодар, улица 40 лет Победы дом 34 офис 704', 'край Краснодарский город Краснодар улица 40 лет Победы д. 34 оф. 704', 635295, 1, 23, 'Зубреев Андрей Олегович', 'Метрикс Develoрment', 4, 'Общество с ограниченной ответственностью', 'ООО', 9139.0, 0, 0, 121.0, 92.0, 7.0, 0.0, 220.0, 3.0, 10.0, None, None, 'ЖИЛОЙ КВАРТАЛ \"КРАСКИ\" ЛИТЕР 2', None, None, None, None, None, None, None, None, None, None, None, None, None, None),\n (149, 15889, 31673, 23, 'г Краснодар, улица Им. краеведа Соловьёва В.А, д. 6, литера 6', 9, 9, 220, '2024-12-31', 'Монолит-кирпич', 'Под чистовую', 'Нет', 0, 10028.01, '23-000930', 'https://xn--80az8a.xn--d1aqf.xn--p1ai/api/ext/file/9205566b-7d1e-49e0-842b-0c583ec3abb6', '09-09-2022 16:26', '45.0915', '39.0465', 1, 0, 'Комфорт', '04-10-2022 01:30', \"[{'objId': 15889, 'pdId': 31673, 'rpdId': 635295, 'devId': 2024, 'ordNum': 1, 'objRenderPhotoSize': 565859, 'objRenderPhotoUrl': 'https://xn--80az8a. ... (136 characters truncated) ... g': 0, 'objRenderPhotoNm': 'DJI_0094.jpg', 'objReadyDesc': 'Строится', 'objBuildTypeShortDesc': 'Жилое', 'knFlg': 1, 'loadDttm': '04-10-2022 01:14'}]\", 0, 'normal', 'https://xn--80az8a.xn--d1aqf.xn--p1ai/api/ext/file/e1412d06-86a0-4fb9-8682-f175f524aa73', 1, 20986, 9, 220, '10028.01', 66, 0, 1, '31-12-2024 12:00', '2,7', 0, 1.0, 1.0, 1.0, 46.0, 104.0, 0, 1, 0.0, 3.0, 0.0, 0, 0.129782479275549, 121437.0, None, 0, '[]', 0, 'alkasar.2015@yandex.ru', 0, 'B', 5, 2024, 'АЛЬКАСАР', 'АЛЬКАСАР', 'АЛЬКАСАР', 0, 6, 5, 'Краснодарский край', '+7(861)298-98-98', 'www.alcasarsk.ru', 'alkasar.2015@yandex.ru', '2311181836', '1142311018530', '231101001', 'Краснодарский край, город Краснодар, улица 40 лет Победы дом 34 офис 704', 'край Краснодарский город Краснодар улица 40 лет Победы д. 34 оф. 704', 635295, 1, 23, 'Зубреев Андрей Олегович', 'Метрикс Develoрment', 4, 'Общество с ограниченной ответственностью', 'ООО', 9139.0, 0, 0, 121.0, 92.0, 7.0, 0.0, 220.0, 3.0, 10.0, None, None, 'ЖИЛОЙ КВАРТАЛ \"КРАСКИ\" ЛИТЕР 6', None, None, None, None, None, None, None, None, None, None, None, None, None, None),\n (150, 15891, 31673, 23, 'г Краснодар, улица Им. краеведа Соловьёва В.А, д. 6, литера 8', 9, 9, 250, '2022-12-31', 'Монолит-кирпич', 'Под чистовую', 'Нет', 0, 11748.07, '23-000930', 'https://xn--80az8a.xn--d1aqf.xn--p1ai/api/ext/file/9205566b-7d1e-49e0-842b-0c583ec3abb6', '09-09-2022 16:26', '45.0927', '39.0473', 1, 0, 'Комфорт', '04-10-2022 01:30', \"[{'objId': 15891, 'pdId': 31673, 'rpdId': 635295, 'devId': 2024, 'ordNum': 1, 'objRenderPhotoSize': 542728, 'objRenderPhotoUrl': 'https://xn--80az8a. ... (136 characters truncated) ... g': 0, 'objRenderPhotoNm': 'DJI_0078.jpg', 'objReadyDesc': 'Строится', 'objBuildTypeShortDesc': 'Жилое', 'knFlg': 1, 'loadDttm': '04-10-2022 01:14'}]\", 0, 'normal', 'https://xn--80az8a.xn--d1aqf.xn--p1ai/api/ext/file/40b64611-045c-4688-bd2f-0d8fe7949513', 1, 20988, 9, 250, '11748.07', 82, 0, 1, '23-01-2023 12:00', '2,7', 0, 1.0, 1.0, 1.0, 2.0, 104.0, 0, 1, 0.0, 4.0, 0.0, 0, 0.699509791821125, 94432.0, None, 0, '[]', 0, 'alkasar.2015@yandex.ru', 0, 'B', 5, 2024, 'АЛЬКАСАР', 'АЛЬКАСАР', 'АЛЬКАСАР', 0, 6, 5, 'Краснодарский край', '+7(861)298-98-98', 'www.alcasarsk.ru', 'alkasar.2015@yandex.ru', '2311181836', '1142311018530', '231101001', 'Краснодарский край, город Краснодар, улица 40 лет Победы дом 34 офис 704', 'край Краснодарский город Краснодар улица 40 лет Победы д. 34 оф. 704', 635295, 1, 23, 'Зубреев Андрей Олегович', 'Метрикс Develoрment', 4, 'Общество с ограниченной ответственностью', 'ООО', 9139.0, 0, 0, 129.0, 107.0, 14.0, 0.0, 250.0, 4.0, 9.0, None, None, 'ЖИЛОЙ КВАРТАЛ \"КРАСКИ\" ЛИТЕР 8', None, None, None, None, None, None, None, None, None, None, None, None, None, None),\n (151, 15890, 31673, 23, 'г Краснодар, улица Им. краеведа Соловьёва В.А, д. 6, литера 7', 9, 9, 257, '2022-09-30', 'Монолит-кирпич', 'Под чистовую', 'Нет', 0, 11602.03, '23-000930', 'https://xn--80az8a.xn--d1aqf.xn--p1ai/api/ext/file/9205566b-7d1e-49e0-842b-0c583ec3abb6', '09-09-2022 16:26', '45.0926', '39.0465', 1, 0, 'Комфорт', '04-10-2022 01:30', \"[{'objId': 15890, 'pdId': 31673, 'rpdId': 635295, 'devId': 2024, 'ordNum': 1, 'objRenderPhotoSize': 542056, 'objRenderPhotoUrl': 'https://xn--80az8a. ... (136 characters truncated) ... g': 0, 'objRenderPhotoNm': 'DJI_0074.jpg', 'objReadyDesc': 'Строится', 'objBuildTypeShortDesc': 'Жилое', 'knFlg': 1, 'loadDttm': '04-10-2022 01:14'}]\", 0, 'normal', 'https://xn--80az8a.xn--d1aqf.xn--p1ai/api/ext/file/87c161b3-892e-4874-be83-ecc99927e01e', 1, 20987, 9, 257, '11602.03', 81, 0, 1, '23-01-2023 12:00', '2,7', 0, 1.0, 1.0, 0.0, 1.0, 104.0, 0, 1, 0.0, 4.0, 0.0, 0, 0.0377795954673449, 118242.0, None, 0, '[]', 0, 'alkasar.2015@yandex.ru', 0, 'B', 5, 2024, 'АЛЬКАСАР', 'АЛЬКАСАР', 'АЛЬКАСАР', 0, 6, 5, 'Краснодарский край', '+7(861)298-98-98', 'www.alcasarsk.ru', 'alkasar.2015@yandex.ru', '2311181836', '1142311018530', '231101001', 'Краснодарский край, город Краснодар, улица 40 лет Победы дом 34 офис 704', 'край Краснодарский город Краснодар улица 40 лет Победы д. 34 оф. 704', 635295, 1, 23, 'Зубреев Андрей Олегович', 'Метрикс Develoрment', 4, 'Общество с ограниченной ответственностью', 'ООО', 9139.0, 0, 0, 151.0, 91.0, 15.0, 0.0, 257.0, 4.0, 9.0, None, None, 'ЖИЛОЙ КВАРТАЛ \"КРАСКИ\" ЛИТЕР 7', None, None, None, None, None, None, None, None, None, None, None, None, None, None),\n (152, 35324, 290662, 23, 'г Сочи, Краевско-Греческая, вл. Уч.1,2', 17, 17, 114, '2022-12-31', 'Монолит-кирпич', 'Без отделки', 'Нет', 0, 6343.2, '23-002003', 'https://xn--80az8a.xn--d1aqf.xn--p1ai/api/ext/file/55510009-ead7-423f-8fbf-2cd92f73d82c', '03-10-2022 12:03', '43.5796', '39.7888', 0, 0, 'Типовой', '04-10-2022 01:30', \"[{'objId': 35324, 'pdId': 290662, 'rpdId': 639255, 'devId': 4475, 'ordNum': 1, 'objRenderPhotoSize': 77065, 'objRenderPhotoUrl': 'https://xn--80az8a. ... (4682 characters truncated) ... hotoNm': 'PHOTO-2022-05-05-13-05-016.jpg', 'objReadyDesc': 'Строится', 'objBuildTypeShortDesc': 'Жилое', 'knFlg': 1, 'loadDttm': '04-10-2022 01:14'}]\", 1, 'normal', 'https://xn--80az8a.xn--d1aqf.xn--p1ai/api/ext/file/5f46bc41-f644-4582-9a2a-08b7948d5b16', 1, 115219, 17, 114, '6343.2', 9, 0, 1, '15-11-2022 12:00', '2,8', 0, 0.0, 0.0, 0.0, 0.0, 0.0, 1, 0, 0.0, 1.0, 1.0, 1, 0.840098057762643, 44486.0, 'ООО СК \"Меридиан\" (ИНН: 7717582718)', 0, '[]', 0, '6627182@mail.ru', 0, 'B', 3, 4475, 'АЛЬПИК', 'АЛЬПИК', 'АЛЬПИК', 0, 1, 0, 'Краснодарский край', '+7 (862) 226-15-97', 'www.жк-ясногорский.рф/', 'alpik.sochi@gmail.com', '7708533009', '1047796587365', '232001001', 'Краснодарский край, г Сочи, пер Горького дом д 22 офис оф 314', 'Краснодарский край, г Сочи, пер Горького, д 22, оф 314', 639255, 0, 23, 'Чугунников Дмитрий Анатольевич', None, 4, 'Общество с ограниченной ответственностью', 'ООО', None, 1, 0, 93.0, 15.0, 6.0, 0.0, 114.0, 1.0, 9.0, None, None, None, None, None, None, 6.0, 'Сообщение о судебном акте. О прекращении производства по делу или об отказе в признании должника банкротом', 'http://www.consultant.ru/document/cons_doc_LAW_39331/97e3783dff35e269cd1c6d35cbabfa4abee6fd37/', '28-12-2020 16:29', None, None, None, None, None, None, None),\n (153, 41620, 472265, 23, 'г Краснодар, Район п. Знаменский и п. Зеленопольский, литера 9', 14, 14, 96, '2024-03-31', 'Монолит-кирпич', 'Под чистовую', 'Нет', 0, 6048.0, '23-002366', 'https://xn--80az8a.xn--d1aqf.xn--p1ai/api/ext/file/cbe22bed-a0a6-4f69-8b9a-eb77f3762972', '07-09-2022 13:58', '45.0605', '39.1121', 0, 0, 'Комфорт', '04-10-2022 01:30', \"[{'objId': 41620, 'pdId': 472265, 'rpdId': 632759, 'devId': 7040, 'ordNum': 1, 'objRenderPhotoSize': 9408904, 'objRenderPhotoUrl': 'https://xn--80az8 ... (3141 characters truncated) ... ddenFlg': 0, 'objRenderPhotoNm': '56.jpg', 'objReadyDesc': 'Строится', 'objBuildTypeShortDesc': 'Жилое', 'knFlg': 1, 'loadDttm': '04-10-2022 01:14'}]\", 1, 'normal', 'https://xn--80az8a.xn--d1aqf.xn--p1ai/api/ext/file/0a89790b-c36d-40f0-8fbc-2d4c57b5735b', 1, 122146, 14, 96, '6048.0', 0, 0, 1, '30-09-2024 12:00', '2,7', 0, 3.0, 3.0, 4.0, 90.0, 28.0, 1, 1, 0.0, 2.0, 0.0, 2, 0.00955357142857143, 93000.0, 'ООО АВАКОН (ИНН: 2312301575)', 0, '[]', 1, 'elreg@ask-yug.com', 0, 'D', 3, 7040, 'АЛЬФА', 'АЛЬФА', 'АЛЬФА', 0, 12, 11, 'Краснодарский край', '+7(800)222-10-10', 'www.ask-yug.com', 'elreg@ask-yug.com', '2312233660', '1152312010531', '231201001', 'Краснодарский край, г Краснодар, улица Уральская дом 75/1 литера Б', 'край Краснодарский край, г Краснодар, улица Уральская, д. 75/1, лит. Б', 632759, 1, 23, 'Кучерявский Игорь Федорович', 'AVA Group', 4, 'Общество с ограниченной ответственностью', 'ООО', 6695.0, 1, 0, 0.0, 48.0, 48.0, 0.0, 96.0, 2.0, 4.0, None, None, 'ЖК \"СМОРОДИНА\"', None, None, None, None, None, None, None, None, None, None, None, None, None, None),\n (154, 41613, 472265, 23, 'г Краснодар, Район п. Знаменский и п. Зеленопольский, литера 2', 17, 17, 300, '2023-12-31', 'Монолит-кирпич', 'Под чистовую', 'Нет', 0, 13212.0, '23-002366', 'https://xn--80az8a.xn--d1aqf.xn--p1ai/api/ext/file/cbe22bed-a0a6-4f69-8b9a-eb77f3762972', '07-09-2022 13:58', '45.0601', '39.1139', 0, 0, 'Комфорт', '04-10-2022 01:30', \"[{'objId': 41613, 'pdId': 472265, 'rpdId': 632759, 'devId': 7040, 'ordNum': 1, 'objRenderPhotoSize': 9408904, 'objRenderPhotoUrl': 'https://xn--80az8 ... (3142 characters truncated) ... ddenFlg': 0, 'objRenderPhotoNm': '84.jpg', 'objReadyDesc': 'Строится', 'objBuildTypeShortDesc': 'Жилое', 'knFlg': 1, 'loadDttm': '04-10-2022 01:14'}]\", 1, 'normal', 'https://xn--80az8a.xn--d1aqf.xn--p1ai/api/ext/file/7488ccaf-1c09-461b-a62f-9aca40e43bfe', 1, 122153, 17, 300, '13212.0', 20, 0, 1, '30-06-2024 12:00', '2,7', 0, 3.0, 3.0, 4.0, 90.0, 28.0, 1, 1, 0.0, 2.0, 0.0, 2, 0.254927338782925, 110239.0, 'ООО Грант Строй (ИНН: 2312246941)', 1, '[]', 1, 'elreg@ask-yug.com', 0, 'D', 3, 7040, 'АЛЬФА', 'АЛЬФА', 'АЛЬФА', 0, 12, 11, 'Краснодарский край', '+7(800)222-10-10', 'www.ask-yug.com', 'elreg@ask-yug.com', '2312233660', '1152312010531', '231201001', 'Краснодарский край, г Краснодар, улица Уральская дом 75/1 литера Б', 'край Краснодарский край, г Краснодар, улица Уральская, д. 75/1, лит. Б', 632759, 1, 23, 'Кучерявский Игорь Федорович', 'AVA Group', 4, 'Общество с ограниченной ответственностью', 'ООО', 6695.0, 1, 0, 120.0, 180.0, 0.0, 0.0, 300.0, 2.0, 10.0, None, None, 'ЖК \"СМОРОДИНА\"', None, None, None, None, None, None, None, None, None, None, None, None, None, None),\n (155, 41615, 472265, 23, 'г Краснодар, Район п. Знаменский и п. Зеленопольский, литера 4', 17, 17, 160, '2023-12-31', 'Монолит-кирпич', 'Под чистовую', 'Нет', 0, 7046.4, '23-002366', 'https://xn--80az8a.xn--d1aqf.xn--p1ai/api/ext/file/cbe22bed-a0a6-4f69-8b9a-eb77f3762972', '07-09-2022 13:58', '45.0602', '39.1153', 0, 0, 'Комфорт', '04-10-2022 01:30', \"[{'objId': 41615, 'pdId': 472265, 'rpdId': 632759, 'devId': 7040, 'ordNum': 1, 'objRenderPhotoSize': 9408904, 'objRenderPhotoUrl': 'https://xn--80az8 ... (3141 characters truncated) ... ddenFlg': 0, 'objRenderPhotoNm': '56.jpg', 'objReadyDesc': 'Строится', 'objBuildTypeShortDesc': 'Жилое', 'knFlg': 1, 'loadDttm': '04-10-2022 01:14'}]\", 1, 'normal', 'https://xn--80az8a.xn--d1aqf.xn--p1ai/api/ext/file/456c9a0e-718e-4db8-bbc8-dc3059d5bd69', 1, 122151, 17, 160, '7046.4', 0, 0, 1, '30-06-2024 12:00', '2,7', 0, 3.0, 3.0, 4.0, 90.0, 28.0, 1, 1, 0.0, 1.0, 0.0, 1, 0.25844118982743, 103559.0, 'ООО Грант Строй (ИНН: 2312246941)', 0, '[]', 1, 'elreg@ask-yug.com', 0, 'D', 3, 7040, 'АЛЬФА', 'АЛЬФА', 'АЛЬФА', 0, 12, 11, 'Краснодарский край', '+7(800)222-10-10', 'www.ask-yug.com', 'elreg@ask-yug.com', '2312233660', '1152312010531', '231201001', 'Краснодарский край, г Краснодар, улица Уральская дом 75/1 литера Б', 'край Краснодарский край, г Краснодар, улица Уральская, д. 75/1, лит. Б', 632759, 1, 23, 'Кучерявский Игорь Федорович', 'AVA Group', 4, 'Общество с ограниченной ответственностью', 'ООО', 6695.0, 1, 0, 64.0, 96.0, 0.0, 0.0, 160.0, 1.0, 10.0, None, None, 'ЖК \"СМОРОДИНА\"', None, None, None, None, None, None, None, None, None, None, None, None, None, None),\n (156, 41617, 472265, 23, 'г Краснодар, Район п. Знаменский и п. Зеленопольский, литера 6', 2, 2, 0, '2023-03-31', 'Другое', 'Под чистовую', 'Нет', 0, 0.0, '23-002366', 'https://xn--80az8a.xn--d1aqf.xn--p1ai/api/ext/file/cbe22bed-a0a6-4f69-8b9a-eb77f3762972', '07-09-2022 13:58', '45.0585', '39.1147', 0, 0, 'Комфорт', '04-10-2022 01:30', \"[{'objId': 41617, 'pdId': 472265, 'rpdId': 632759, 'devId': 7040, 'ordNum': 1, 'objRenderPhotoSize': 9408904, 'objRenderPhotoUrl': 'https://xn--80az8 ... (3157 characters truncated) ... enFlg': 0, 'objRenderPhotoNm': '56.jpg', 'objReadyDesc': 'Строится', 'objBuildTypeShortDesc': 'Нежилое', 'knFlg': 0, 'loadDttm': '04-10-2022 01:14'}]\", 1, 'normal', 'https://xn--80az8a.xn--d1aqf.xn--p1ai/api/ext/file/8cc03d39-a2a6-470f-a8aa-9634c888eaea', 0, 122149, 2, 0, '0.0', 4, 0, 1, '30-09-2023 12:00', None, 0, 3.0, 3.0, 4.0, 90.0, 28.0, 1, 1, 0.0, 0.0, 0.0, 0, 1.0, 63000.0, 'ООО Грант Строй (ИНН: 2312246941)', 1, '[]', 1, 'elreg@ask-yug.com', 0, 'D', 3, 7040, 'АЛЬФА', 'АЛЬФА', 'АЛЬФА', 0, 12, 11, 'Краснодарский край', '+7(800)222-10-10', 'www.ask-yug.com', 'elreg@ask-yug.com', '2312233660', '1152312010531', '231201001', 'Краснодарский край, г Краснодар, улица Уральская дом 75/1 литера Б', 'край Краснодарский край, г Краснодар, улица Уральская, д. 75/1, лит. Б', 632759, 1, 23, 'Кучерявский Игорь Федорович', 'AVA Group', 4, 'Общество с ограниченной ответственностью', 'ООО', 6695.0, 1, 0, None, None, None, None, None, None, None, None, None, 'ЖК \"СМОРОДИНА\"', None, None, None, None, None, None, None, None, None, None, None, None, None, None),\n (157, 41614, 472265, 23, 'г Краснодар, Район п. Знаменский и п. Зеленопольский, литера 3', 17, 17, 192, '2023-12-31', 'Монолит-кирпич', 'Под чистовую', 'Нет', 0, 12096.0, '23-002366', 'https://xn--80az8a.xn--d1aqf.xn--p1ai/api/ext/file/cbe22bed-a0a6-4f69-8b9a-eb77f3762972', '07-09-2022 13:58', '45.0605', '39.1146', 0, 0, 'Комфорт', '04-10-2022 01:30', \"[{'objId': 41614, 'pdId': 472265, 'rpdId': 632759, 'devId': 7040, 'ordNum': 1, 'objRenderPhotoSize': 9408904, 'objRenderPhotoUrl': 'https://xn--80az8 ... (3141 characters truncated) ... ddenFlg': 0, 'objRenderPhotoNm': '56.jpg', 'objReadyDesc': 'Строится', 'objBuildTypeShortDesc': 'Жилое', 'knFlg': 1, 'loadDttm': '04-10-2022 01:14'}]\", 1, 'normal', 'https://xn--80az8a.xn--d1aqf.xn--p1ai/api/ext/file/c816e78a-ddd8-4151-b128-72c839665da5', 1, 122152, 17, 192, '12096.0', 0, 0, 1, '30-06-2024 12:00', '2,7', 0, 3.0, 3.0, 4.0, 90.0, 28.0, 1, 1, 0.0, 3.0, 0.0, 3, 0.226636904761905, 96699.0, 'ООО Грант Строй (ИНН: 2312246941)', 0, '[]', 1, 'elreg@ask-yug.com', 0, 'D', 3, 7040, 'АЛЬФА', 'АЛЬФА', 'АЛЬФА', 0, 12, 11, 'Краснодарский край', '+7(800)222-10-10', 'www.ask-yug.com', 'elreg@ask-yug.com', '2312233660', '1152312010531', '231201001', 'Краснодарский край, г Краснодар, улица Уральская дом 75/1 литера Б', 'край Краснодарский край, г Краснодар, улица Уральская, д. 75/1, лит. Б', 632759, 1, 23, 'Кучерявский Игорь Федорович', 'AVA Group', 4, 'Общество с ограниченной ответственностью', 'ООО', 6695.0, 1, 0, 0.0, 96.0, 96.0, 0.0, 192.0, 3.0, 4.0, None, None, 'ЖК \"СМОРОДИНА\"', None, None, None, None, None, None, None, None, None, None, None, None, None, None),\n (158, 45256, 561537, 62, 'г Рязань, Кальное (Советский район)', 21, 28, 398, '2023-12-31', 'Монолит-кирпич', 'Без отделки', 'Нет', 0, 22581.52, '62-000331', 'https://xn--80az8a.xn--d1aqf.xn--p1ai/api/ext/file/fcc0a884-aa8e-4039-bfa9-22ccdd932535', '09-09-2022 13:20', '54.6313', '39.7818', 1, 0, 'Типовой', '04-10-2022 01:30', \"[{'objId': 45256, 'pdId': 561537, 'rpdId': 635008, 'devId': 621, 'ordNum': 1, 'objRenderPhotoSize': 2372883, 'objRenderPhotoUrl': 'https://xn--80az8a ... (164 characters truncated) ... 'смарт_квартал_на_солотчинском_шоссе.jpg', 'objReadyDesc': 'Строится', 'objBuildTypeShortDesc': 'Жилое', 'knFlg': 1, 'loadDttm': '04-10-2022 01:14'}]\", 0, 'normal', 'https://xn--80az8a.xn--d1aqf.xn--p1ai/api/ext/file/837ced61-9188-40b1-b0ad-aeaf64adb93c', 1, 125867, 28, 398, '22581.52', 148, 0, 1, '16-04-2024 12:00', '2,5 - 3', 0, 1.0, 1.0, 1.0, 134.0, 0.0, 0, 1, 0.0, 5.0, 3.0, 3, 0.848823728429264, 54450.0, None, 0, '[]', 1, 'alfa62-str@mail.ru', 0, 'C', 7, 621, 'АЛЬФА', 'АЛЬФА', 'АЛЬФА', 0, 1, 3, 'Рязанская область', '+7(961)012-83-23', 'alpha2.org.ru', 'alfa62-str@mail.ru', '6234148525', '1156234015860', '623401001', 'Рязанская область, город Рязань, улица Лесопарковая дом 18 литера А помещение Н1 офис 104', 'РЯЗАНСКАЯ ОБЛАСТЬ, ГОРОД РЯЗАНЬ, УЛИЦА ЛЕСОПАРКОВАЯ, ДОМ 18, ЛИТЕРА А, ПОМЕЩЕНИЕ Н1 ОФ104', 635008, 1, 62, 'Царева Татьяна Игоревна', 'Капитал', 4, 'Общество с ограниченной ответственностью', 'ООО', 5610.0, 0, 0, 165.0, 168.0, 65.0, 0.0, 398.0, 3.0, 7.0, None, None, '\"Семейный квартал Петра и Февронии на Солотчинском шоссе 3-я очередь строительства\"(2 этап строительства)', None, None, None, None, None, None, None, None, None, None, None, None, None, None),\n (159, 41618, 472265, 23, 'г Краснодар, Район п. Знаменский и п. Зеленопольский, литера 7', 14, 14, 360, '2024-03-31', 'Монолит-кирпич', 'Под чистовую', 'Нет', 0, 16417.44, '23-002366', 'https://xn--80az8a.xn--d1aqf.xn--p1ai/api/ext/file/cbe22bed-a0a6-4f69-8b9a-eb77f3762972', '07-09-2022 13:58', '45.0587', '39.1119', 0, 0, 'Комфорт', '04-10-2022 01:30', \"[{'objId': 41618, 'pdId': 472265, 'rpdId': 632759, 'devId': 7040, 'ordNum': 1, 'objRenderPhotoSize': 9408904, 'objRenderPhotoUrl': 'https://xn--80az8 ... (3141 characters truncated) ... ddenFlg': 0, 'objRenderPhotoNm': '56.jpg', 'objReadyDesc': 'Строится', 'objBuildTypeShortDesc': 'Жилое', 'knFlg': 1, 'loadDttm': '04-10-2022 01:14'}]\", 1, 'normal', 'https://xn--80az8a.xn--d1aqf.xn--p1ai/api/ext/file/0fea0d3a-754a-4fb6-ab0f-eb5c5b8e0dfb', 1, 122148, 14, 360, '16417.44', 0, 0, 1, '30-09-2024 12:00', '2,7', 0, 3.0, 3.0, 4.0, 90.0, 28.0, 1, 1, 0.0, 3.0, 0.0, 3, 0.00533213460807532, 98000.0, 'ООО АВАКОН (ИНН: 2312301575)', 0, '[]', 1, 'elreg@ask-yug.com', 0, 'D', 3, 7040, 'АЛЬФА', 'АЛЬФА', 'АЛЬФА', 0, 12, 11, 'Краснодарский край', '+7(800)222-10-10', 'www.ask-yug.com', 'elreg@ask-yug.com', '2312233660', '1152312010531', '231201001', 'Краснодарский край, г Краснодар, улица Уральская дом 75/1 литера Б', 'край Краснодарский край, г Краснодар, улица Уральская, д. 75/1, лит. Б', 632759, 1, 23, 'Кучерявский Игорь Федорович', 'AVA Group', 4, 'Общество с ограниченной ответственностью', 'ООО', 6695.0, 1, 0, 144.0, 216.0, 0.0, 0.0, 360.0, 3.0, 10.0, None, None, 'ЖК \"СМОРОДИНА\"', None, None, None, None, None, None, None, None, None, None, None, None, None, None),\n (160, 41616, 472265, 23, 'г Краснодар, Район п. Знаменский и п. Зеленопольский, литера 5', 17, 17, 320, '2023-03-31', 'Монолит-кирпич', 'Под чистовую', 'Нет', 0, 14092.8, '23-002366', 'https://xn--80az8a.xn--d1aqf.xn--p1ai/api/ext/file/cbe22bed-a0a6-4f69-8b9a-eb77f3762972', '07-09-2022 13:58', '45.0592', '39.1153', 0, 0, 'Комфорт', '04-10-2022 01:30', \"[{'objId': 41616, 'pdId': 472265, 'rpdId': 632759, 'devId': 7040, 'ordNum': 1, 'objRenderPhotoSize': 9408904, 'objRenderPhotoUrl': 'https://xn--80az8 ... (3141 characters truncated) ... ddenFlg': 0, 'objRenderPhotoNm': '56.jpg', 'objReadyDesc': 'Строится', 'objBuildTypeShortDesc': 'Жилое', 'knFlg': 1, 'loadDttm': '04-10-2022 01:14'}]\", 1, 'normal', 'https://xn--80az8a.xn--d1aqf.xn--p1ai/api/ext/file/efd6b689-0980-4ce6-88b0-5e9b08b57740', 1, 122150, 17, 320, '14092.8', 0, 0, 1, '30-09-2023 12:00', '2,7', 0, 3.0, 3.0, 4.0, 90.0, 28.0, 1, 1, 0.0, 2.0, 0.0, 2, 0.516634735467757, 99651.0, 'ООО Грант Строй (ИНН: 2312246941)', 0, '[]', 1, 'elreg@ask-yug.com', 0, 'D', 3, 7040, 'АЛЬФА', 'АЛЬФА', 'АЛЬФА', 0, 12, 11, 'Краснодарский край', '+7(800)222-10-10', 'www.ask-yug.com', 'elreg@ask-yug.com', '2312233660', '1152312010531', '231201001', 'Краснодарский край, г Краснодар, улица Уральская дом 75/1 литера Б', 'край Краснодарский край, г Краснодар, улица Уральская, д. 75/1, лит. Б', 632759, 1, 23, 'Кучерявский Игорь Федорович', 'AVA Group', 4, 'Общество с ограниченной ответственностью', 'ООО', 6695.0, 1, 0, 128.0, 192.0, 0.0, 0.0, 320.0, 2.0, 10.0, None, None, 'ЖК \"СМОРОДИНА\"', None, None, None, None, None, None, None, None, None, None, None, None, None, None),\n (161, 41612, 472265, 23, 'г Краснодар, Район п. Знаменский и п. Зеленопольский, литера 1', 17, 17, 300, '2023-03-31', 'Монолит-кирпич', 'Под чистовую', 'Нет', 0, 13212.0, '23-002366', 'https://xn--80az8a.xn--d1aqf.xn--p1ai/api/ext/file/cbe22bed-a0a6-4f69-8b9a-eb77f3762972', '07-09-2022 13:58', '45.0588', '39.1141', 0, 0, 'Комфорт', '04-10-2022 01:30', \"[{'objId': 41612, 'pdId': 472265, 'rpdId': 632759, 'devId': 7040, 'ordNum': 1, 'objRenderPhotoSize': 9408904, 'objRenderPhotoUrl': 'https://xn--80az8 ... (3334 characters truncated) ... oNm': 'RBN_Smorodina_-_Final03_ppl-2.jpg', 'objReadyDesc': 'Строится', 'objBuildTypeShortDesc': 'Жилое', 'knFlg': 1, 'loadDttm': '04-10-2022 01:14'}]\", 1, 'normal', 'https://xn--80az8a.xn--d1aqf.xn--p1ai/api/ext/file/8e372ed2-71dd-4e71-b564-27a3d0175a3b', 1, 122154, 17, 300, '13212.0', 20, 0, 1, '30-09-2023 12:00', '2,7', 0, 3.0, 3.0, 4.0, 90.0, 28.0, 1, 1, 0.0, 2.0, 0.0, 2, 0.542150317892825, 103980.0, 'ООО Грант Строй (ИНН: 2312246941)', 1, '[]', 1, 'elreg@ask-yug.com', 0, 'D', 3, 7040, 'АЛЬФА', 'АЛЬФА', 'АЛЬФА', 0, 12, 11, 'Краснодарский край', '+7(800)222-10-10', 'www.ask-yug.com', 'elreg@ask-yug.com', '2312233660', '1152312010531', '231201001', 'Краснодарский край, г Краснодар, улица Уральская дом 75/1 литера Б', 'край Краснодарский край, г Краснодар, улица Уральская, д. 75/1, лит. Б', 632759, 1, 23, 'Кучерявский Игорь Федорович', 'AVA Group', 4, 'Общество с ограниченной ответственностью', 'ООО', 6695.0, 1, 0, 120.0, 180.0, 0.0, 0.0, 300.0, 2.0, 10.0, None, None, 'ЖК \"СМОРОДИНА\"', None, None, None, None, None, None, None, None, None, None, None, None, None, None),\n (162, 24819, 68739, 23, 'город Краснодар, улица Войсковая, д. 4, литера 10', 9, 9, 104, '2022-12-31', 'Монолит', 'По желанию заказчика', 'Нет', 0, 4151.2, '23-001221', 'https://xn--80az8a.xn--d1aqf.xn--p1ai/api/ext/file/aa2d97cc-ce3b-4ef4-9cef-3cdcaaff19e3', '05-09-2022 16:36', '45.0455', '39.1103', 1, 0, 'Комфорт', '04-10-2022 01:30', \"[{'objId': 24819, 'pdId': 68739, 'rpdId': 631114, 'devId': 7040, 'ordNum': 1, 'objRenderPhotoSize': 250257, 'objRenderPhotoUrl': 'https://xn--80az8a. ... (1089 characters truncated) ... cd049680-2877-11e9-b952-e3360f67734f.jpg', 'objReadyDesc': 'Строится', 'objBuildTypeShortDesc': 'Жилое', 'knFlg': 1, 'loadDttm': '04-10-2022 01:14'}]\", 0, 'normal', 'https://xn--80az8a.xn--d1aqf.xn--p1ai/api/ext/file/5329d10f-45a2-4129-85b4-35ccad1f1e26', 1, 24465, 9, 104, '4151.2', 2, 0, 1, '31-03-2023 12:00', '2,69', 0, 4.0, 3.0, 4.0, 106.0, 0.0, 1, 1, 2.0, 1.0, 0.0, 0, 0.896608209674311, 79200.0, 'ООО \"ГРАНТ СТРОЙ\" (ИНН: 2312246941)', 0, '[]', 0, 'elreg@ask-yug.com', 0, 'C', 7, 7040, 'АЛЬФА', 'АЛЬФА', 'АЛЬФА', 0, 12, 11, 'Краснодарский край', '+7(800)222-10-10', 'www.ask-yug.com', 'elreg@ask-yug.com', '2312233660', '1152312010531', '231201001', 'Краснодарский край, г Краснодар, улица Уральская дом 75/1 литера Б', 'край Краснодарский край, г Краснодар, улица Уральская, д. 75/1, лит. Б', 632759, 1, 23, 'Кучерявский Игорь Федорович', 'AVA Group', 4, 'Общество с ограниченной ответственностью', 'ООО', 6695.0, 1, 0, 88.0, 16.0, 0.0, 0.0, 104.0, 1.0, 13.0, None, None, 'ЖК \"СПОРТИВНЫЙ ПАРК\" литеры 1 - 13', None, None, None, None, None, None, None, None, None, None, None, None, None, None),\n (163, 24818, 68739, 23, 'город Краснодар, улица Войсковая, д. 4, литера 9', 9, 9, 96, '2022-12-31', 'Монолит', 'По желанию заказчика', 'Нет', 0, 3556.1, '23-001221', 'https://xn--80az8a.xn--d1aqf.xn--p1ai/api/ext/file/aa2d97cc-ce3b-4ef4-9cef-3cdcaaff19e3', '05-09-2022 16:36', '45.0452', '39.111', 1, 0, 'Комфорт', '04-10-2022 01:30', \"[{'objId': 24818, 'pdId': 68739, 'rpdId': 631114, 'devId': 7040, 'ordNum': 1, 'objRenderPhotoSize': 250257, 'objRenderPhotoUrl': 'https://xn--80az8a. ... (1089 characters truncated) ... cd049680-2877-11e9-b952-e3360f67734f.jpg', 'objReadyDesc': 'Строится', 'objBuildTypeShortDesc': 'Жилое', 'knFlg': 1, 'loadDttm': '04-10-2022 01:14'}]\", 0, 'normal', 'https://xn--80az8a.xn--d1aqf.xn--p1ai/api/ext/file/a477278f-b043-45f0-b1fb-92ecb828653a', 1, 24464, 9, 96, '3556.1', 0, 0, 1, '31-03-2023 12:00', '2,67 - 2,69', 0, 4.0, 3.0, 4.0, 106.0, 0.0, 1, 1, 1.0, 1.0, 0.0, 0, 0.999971879305981, 62651.0, 'ООО \"ГРАНТ СТРОЙ\" (ИНН: 2312246941)', 0, '[]', 0, 'elreg@ask-yug.com', 0, 'C', 7, 7040, 'АЛЬФА', 'АЛЬФА', 'АЛЬФА', 0, 12, 11, 'Краснодарский край', '+7(800)222-10-10', 'www.ask-yug.com', 'elreg@ask-yug.com', '2312233660', '1152312010531', '231201001', 'Краснодарский край, г Краснодар, улица Уральская дом 75/1 литера Б', 'край Краснодарский край, г Краснодар, улица Уральская, д. 75/1, лит. Б', 632759, 1, 23, 'Кучерявский Игорь Федорович', 'AVA Group', 4, 'Общество с ограниченной ответственностью', 'ООО', 6695.0, 1, 0, 72.0, 24.0, 0.0, 0.0, 96.0, 1.0, 12.0, None, None, 'ЖК \"СПОРТИВНЫЙ ПАРК\" литеры 1 - 13', None, None, None, None, None, None, None, None, None, None, None, None, None, None),\n (164, 41619, 472265, 23, 'г Краснодар, Район п. Знаменский и п. Зеленопольский, литера 8', 14, 14, 120, '2024-03-31', 'Монолит-кирпич', 'Под чистовую', 'Нет', 0, 5472.48, '23-002366', 'https://xn--80az8a.xn--d1aqf.xn--p1ai/api/ext/file/cbe22bed-a0a6-4f69-8b9a-eb77f3762972', '07-09-2022 13:58', '45.0599', '39.1119', 0, 0, 'Комфорт', '04-10-2022 01:30', \"[{'objId': 41619, 'pdId': 472265, 'rpdId': 632759, 'devId': 7040, 'ordNum': 1, 'objRenderPhotoSize': 9408904, 'objRenderPhotoUrl': 'https://xn--80az8 ... (3141 characters truncated) ... ddenFlg': 0, 'objRenderPhotoNm': '56.jpg', 'objReadyDesc': 'Строится', 'objBuildTypeShortDesc': 'Жилое', 'knFlg': 1, 'loadDttm': '04-10-2022 01:14'}]\", 1, 'normal', 'https://xn--80az8a.xn--d1aqf.xn--p1ai/api/ext/file/21ac7802-4f3e-47c2-8fa6-b07e92be23e2', 1, 122147, 14, 120, '5472.48', 0, 0, 1, '30-09-2024 12:00', '2,7', 0, 3.0, 3.0, 4.0, 90.0, 28.0, 1, 1, 0.0, 1.0, 0.0, 1, 0.00653268719118206, 98000.0, 'ООО АВАКОН (ИНН: 2312301575)', 0, '[]', 1, 'elreg@ask-yug.com', 0, 'D', 3, 7040, 'АЛЬФА', 'АЛЬФА', 'АЛЬФА', 0, 12, 11, 'Краснодарский край', '+7(800)222-10-10', 'www.ask-yug.com', 'elreg@ask-yug.com', '2312233660', '1152312010531', '231201001', 'Краснодарский край, г Краснодар, улица Уральская дом 75/1 литера Б', 'край Краснодарский край, г Краснодар, улица Уральская, д. 75/1, лит. Б', 632759, 1, 23, 'Кучерявский Игорь Федорович', 'AVA Group', 4, 'Общество с ограниченной ответственностью', 'ООО', 6695.0, 1, 0, 48.0, 72.0, 0.0, 0.0, 120.0, 1.0, 10.0, None, None, 'ЖК \"СМОРОДИНА\"', None, None, None, None, None, None, None, None, None, None, None, None, None, None),\n (165, 41621, 472265, 23, 'г Краснодар, Район п. Знаменский и п. Зеленопольский, литера 10', 17, 17, 64, '2024-03-31', 'Монолит-кирпич', 'Под чистовую', 'Нет', 0, 4032.0, '23-002366', 'https://xn--80az8a.xn--d1aqf.xn--p1ai/api/ext/file/cbe22bed-a0a6-4f69-8b9a-eb77f3762972', '07-09-2022 13:58', '45.0605', '39.113', 0, 0, 'Комфорт', '04-10-2022 01:30', \"[{'objId': 41621, 'pdId': 472265, 'rpdId': 632759, 'devId': 7040, 'ordNum': 1, 'objRenderPhotoSize': 9408904, 'objRenderPhotoUrl': 'https://xn--80az8 ... (3141 characters truncated) ... ddenFlg': 0, 'objRenderPhotoNm': '56.jpg', 'objReadyDesc': 'Строится', 'objBuildTypeShortDesc': 'Жилое', 'knFlg': 1, 'loadDttm': '04-10-2022 01:14'}]\", 1, 'normal', 'https://xn--80az8a.xn--d1aqf.xn--p1ai/api/ext/file/ea0533ec-3cef-401b-932d-d56ee97b7081', 1, 122145, 17, 64, '4032.0', 0, 0, 1, '30-09-2024 12:00', '2,7', 0, 3.0, 3.0, 4.0, 90.0, 28.0, 1, 1, 0.0, 1.0, 0.0, 1, 0.0143303571428571, 93000.0, 'ООО АВАКОН (ИНН: 2312301575)', 0, '[]', 1, 'elreg@ask-yug.com', 0, 'D', 3, 7040, 'АЛЬФА', 'АЛЬФА', 'АЛЬФА', 0, 12, 11, 'Краснодарский край', '+7(800)222-10-10', 'www.ask-yug.com', 'elreg@ask-yug.com', '2312233660', '1152312010531', '231201001', 'Краснодарский край, г Краснодар, улица Уральская дом 75/1 литера Б', 'край Краснодарский край, г Краснодар, улица Уральская, д. 75/1, лит. Б', 632759, 1, 23, 'Кучерявский Игорь Федорович', 'AVA Group', 4, 'Общество с ограниченной ответственностью', 'ООО', 6695.0, 1, 0, 0.0, 32.0, 32.0, 0.0, 64.0, 1.0, 4.0, None, None, 'ЖК \"СМОРОДИНА\"', None, None, None, None, None, None, None, None, None, None, None, None, None, None),\n (166, 45772, 471902, 47, 'г Сосновый Бор', 10, 10, 0, '2022-09-30', 'Монолит-кирпич', 'Под чистовую', 'Нет', 0, 0.0, '47-000948', 'https://xn--80az8a.xn--d1aqf.xn--p1ai/api/ext/file/e245042e-d6f1-4441-b255-9be5c6729c63', '11-04-2022 19:44', '59.8931', '29.0963', 0, 0, 'Типовой', '04-10-2022 01:30', \"[{'objId': 45772, 'pdId': 471902, 'rpdId': 471902, 'devId': 11282, 'ordNum': 1, 'objRenderPhotoSize': 1282107, 'objRenderPhotoUrl': 'https://xn--80az ... (149 characters truncated) ... jRenderPhotoNm': 'Image7-1024x1024.png', 'objReadyDesc': 'Строится', 'objBuildTypeShortDesc': 'Нежилое', 'knFlg': 0, 'loadDttm': '04-10-2022 01:14'}]\", 1, 'normal', 'https://xn--80az8a.xn--d1aqf.xn--p1ai/api/ext/file/17bdfbcc-8b55-46d8-8283-dbfd249dae31', 0, 126400, 10, 0, '0.0', 172, 0, 1, '01-09-2022 12:00', None, 0, 0.0, 0.0, 1.0, 29.0, 0.0, 1, 1, 0.0, 1.0, 1.0, 1, None, None, 'ООО Единая Сервисная Служба (ИНН: 7814490205)', 1, '[]', 0, None, 0, 'A', 7, 11282, 'АЛЬФАСТРОЙИНВЕСТ', 'АЛЬФАСТРОЙИНВЕСТ', 'АЛЬФАСТРОЙИНВЕСТ', 0, 1, 0, 'Ленинградская область', '+7(921)930-52-10', 'alfastroyinvest.ru', 'info@alfastroyinvest.ru', '4726003908', '1184704018289', '472601001', 'Ленинградская область, Город Сосновый Бор, Улица Красных фортов дом 2 квартира 92', 'Ленинградская область, Город Сосновый Бор, Улица Красных фортов, Дом 2, Квартира 92', 471902, 0, 47, 'Максимова Лариса Витальевна', None, 4, 'Общество с ограниченной ответственностью', 'ООО', None, 1, 0, None, None, None, None, None, None, None, None, None, None, None, None, None, None, None, None, None, None, None, None, None, None, None, None),\n (167, 18136, 43084, 63, 'г Самара, улица Советской Армии, д. 0, корпус 0, строение 0', 27, 27, 360, '2022-12-31', 'Монолит-кирпич', 'Без отделки', 'Нет', 153, 20664.24, '63-000283', 'https://xn--80az8a.xn--d1aqf.xn--p1ai/api/ext/file/c0706fb9-7b38-4703-b570-5a4ff6a3ec61', '29-09-2022 08:08', '53.2056', '50.2144', 0, 0, 'Комфорт', '04-10-2022 01:30', \"[{'objId': 18136, 'pdId': 43084, 'rpdId': 638404, 'devId': 6193, 'ordNum': 1, 'objRenderPhotoSize': 174793, 'objRenderPhotoUrl': 'https://xn--80az8a. ... (1513 characters truncated) ... hotoNm': 'PHOTO-2022-08-03-15-13-423.jpg', 'objReadyDesc': 'Строится', 'objBuildTypeShortDesc': 'Жилое', 'knFlg': 1, 'loadDttm': '04-10-2022 01:14'}]\", 1, 'normal', 'https://xn--80az8a.xn--d1aqf.xn--p1ai/api/ext/file/1b908fc6-89dc-4488-8e25-35ba0dc4f224', 1, 20249, 27, 360, '20664.24', 3, 0, 1, '30-06-2023 12:00', '2,5', 0, 1.0, 1.0, 1.0, 0.0, 0.0, 1, 1, 0.0, 4.0, 2.0, 8, 0.472404017762086, 46899.0, 'ООО \"СТРОЙРЕСУРС\" (ИНН: 6312132148)', 1, '[]', 0, 'oooalyans63@gmail.com', 0, 'B', 10, 6193, 'АЛЬЯНС', 'АЛЬЯНС', 'АЛЬЯНС', 0, 1, 1, 'Самарская область', '+7(846)203-03-47', 'alians63.ru', 'oooalyans63@gmail.com', '6312173063', '1176313046678', '631201001', 'Самарская область, город Самара, улица Олимпийская дом 65 офис 1', 'обл Самарская город Самара проезд 4-ый  д. 66 комната 12', 638404, 0, 63, 'Жуков Михаил Геннадьевич', 'Альянс', 4, 'Общество с ограниченной ответственностью', 'ООО', 9176.0, 1, 0, 168.0, 120.0, 72.0, 0.0, 360.0, 2.0, 8.0, '7 / 10', 7.0, None, None, None, None, None, None, None, None, None, None, None, None, None, None, None),\n (168, 44752, 551799, 39, 'г Зеленоградск, ул Солнечная, литера 1', 7, 7, 80, '2025-03-31', 'Кирпич', 'Без отделки', 'Нет', 0, 5187.72, '39-001215', 'https://xn--80az8a.xn--d1aqf.xn--p1ai/api/ext/file/16c3dcc9-5ab6-4974-9625-3721fdda0ca0', '02-08-2022 12:47', '54.9542', '20.4883', 0, 0, 'Комфорт', '04-10-2022 01:30', \"[{'objId': 44752, 'pdId': 551799, 'rpdId': 620442, 'devId': 13654, 'ordNum': 1, 'objRenderPhotoSize': 153850, 'objRenderPhotoUrl': 'https://xn--80az8 ... (155 characters truncated) ... PhotoNm': 'PHOTO-2022-05-04-09-56-09.jpg', 'objReadyDesc': 'Строится', 'objBuildTypeShortDesc': 'Жилое', 'knFlg': 1, 'loadDttm': '04-10-2022 01:14'}]\", 1, 'normal', 'https://xn--80az8a.xn--d1aqf.xn--p1ai/api/ext/file/bf8fd6df-97ea-42ff-9a99-50f821abf5a6', 1, 125350, 7, 80, '5187.72', 10, 0, 1, '01-05-2025 12:00', '2,7', 0, 1.0, 1.0, 1.0, 40.0, 0.0, 0, 1, 0.0, 2.0, 2.0, 4, None, None, 'ООО СТРОЙ СЕРВИС ПЛЮС (ИНН: 3908028694)', 0, '[]', 0, 'rabota201013@mail.ru', 0, 'B', 5, 13654, 'АЛЬЯНС-БРИЛЛ', 'АЛЬЯНС-БРИЛЛ', 'АЛЬЯНС-БРИЛЛ', 0, 1, 0, 'Калининградская область', '+7(401)255-55-22', 'www.skmpk.ru/', 'rabota201013@mail.ru', '3906341911', '1143926040378', '390601001', 'Калининградская область, г Калининград, ул Гайдара дом 93 квартира 43', 'обл Калининградская, г Калининград, ул Гайдара, д. 93, кв. 43', 620442, 0, 39, 'Авраменко Анатолий Анатольевич', None, 4, 'Общество с ограниченной ответственностью', 'ООО', None, 1, 0, 54.0, 26.0, 0.0, 0.0, 80.0, 2.0, 6.0, None, None, None, None, None, None, None, None, None, None, None, None, None, None, None, None, None),\n (169, 37465, 379714, 54, 'г Новосибирск, улица Кавалерийская', 17, 17, 159, '2023-12-31', 'Монолит-кирпич', 'Другое', 'Есть', 135, 10568.3, '54-001238', 'https://xn--80az8a.xn--d1aqf.xn--p1ai/api/ext/file/e341aaa1-a8a9-4d1d-a53a-a19ecad2ff8e', '19-09-2022 10:25', '55.0558', '82.9143', 0, 0, 'Комфорт', '04-10-2022 01:30', \"[{'objId': 37465, 'pdId': 379714, 'rpdId': 636671, 'devId': 9755, 'ordNum': 1, 'objRenderPhotoSize': 1383608, 'objRenderPhotoUrl': 'https://xn--80az8 ... (138 characters truncated) ... g': 0, 'objRenderPhotoNm': 'IMG_2511.jpg', 'objReadyDesc': 'Строится', 'objBuildTypeShortDesc': 'Жилое', 'knFlg': 1, 'loadDttm': '04-10-2022 01:14'}]\", 1, 'normal', 'https://xn--80az8a.xn--d1aqf.xn--p1ai/api/ext/file/8bab931b-2322-449c-a650-5d47cb86269c', 1, 117854, 17, 159, '10568.3', 51, 0, 1, '31-05-2024 12:00', '3 - 3,3', 1, 1.0, 3.0, 1.0, 10.0, 30.0, 1, 1, 0.0, 7.0, 4.0, 11, 0.1433248488404, 153138.0, 'ООО Строймегас (ИНН: 5405035160)', 1, '[]', 0, 'anvnsk@inbox.ru', 0, 'B', 10, 9755, 'АНВ', 'АНВ', 'АНВ', 0, 1, 0, 'Новосибирская область', '+7(383)299-57-17', 'www.berlinsk.ru', 'anvnsk@inbox.ru', '5406549954', '1095406033821', '540701001', 'Новосибирская область, г Новосибирск, ул Вокзальная магистраль дом 1/1', 'обл Новосибирская, г Новосибирск, ул Вокзальная магистраль, д. 1/1', 636671, 0, 54, 'Орлова Елена Илларионовна', None, 4, 'Общество с ограниченной ответственностью', 'ООО', None, 1, 0, 108.0, 51.0, 0.0, 0.0, 159.0, 3.0, 5.0, '7 / 10', 7.0, 'Берлин', None, None, None, None, None, None, None, None, None, None, None, None, None, None),\n (170, 33525, 137506, 55, 'г Омск, улица Маршала Жукова - Бульварная, д. 154, корпус 1', 12, 17, 0, '2022-12-31', 'Монолит-кирпич', 'Без отделки', 'Есть', 0, 0.0, '55-000060', 'https://xn--80az8a.xn--d1aqf.xn--p1ai/api/ext/file/032644a8-a745-4ee7-85df-87d8d865189c', '08-09-2022 09:14', '54.9647', '73.3919', 0, 0, 'Бизнес', '04-10-2022 01:30', \"[{'objId': 33525, 'pdId': 137506, 'rpdId': 633337, 'devId': 7619, 'ordNum': 1, 'objRenderPhotoSize': 4295491, 'objRenderPhotoUrl': 'https://xn--80az8 ... (6342 characters truncated) ... toNm': 'PHOTO-2021-10-08-10-00-162.jpg', 'objReadyDesc': 'Строится', 'objBuildTypeShortDesc': 'Нежилое', 'knFlg': 0, 'loadDttm': '04-10-2022 01:14'}]\", 0, 'normal', 'https://xn--80az8a.xn--d1aqf.xn--p1ai/api/ext/file/54650177-4fba-493c-84dd-c6d7304354cd', 0, 44398, 17, 0, '0.0', 308, 0, 1, '15-03-2023 12:00', None, 0, 0.0, 0.0, 1.0, 36.0, 0.0, 1, 1, 1.0, 3.0, 1.0, 5, 0.6770083197178, 51632.0, 'ООО ПМК-944 ТЖ (ИНН: 5501104634)', 1, '[]', 0, 'apartotelmarshal@yandex.ru', 0, 'B', 9, 7619, 'АПАРТ ОТЕЛЬ МАРШАЛ', 'АПАРТ ОТЕЛЬ МАРШАЛ', 'АПАРТ ОТЕЛЬ МАРШАЛ', 0, 1, 0, 'Омская область', '+7(913)611-06-67', 'www.apartotelmarshal.ru', 'apartotelmarshal@yandex.ru', '5514009272', '1135514000995', '550101001', 'Омская область, город Омск, улица Губкина дом 12 помещение 12', '644023 Омская область, город Омск, улица Губкина 12, помещение 12', 633337, 0, 55, 'Доронин Сергей Александрович', 'Апарт-отель Маршал', 4, 'Общество с ограниченной ответственностью', 'ООО', 7643.0, 0, 0, None, None, None, None, None, None, None, None, None, None, None, None, None, None, None, None, None, None, None, None, None, None, None, None),\n (171, 3148, 5903, 39, 'город Гурьевск, улица Пражский бульвар', 2, 2, 0, '2022-12-31', 'Кирпич', 'Без отделки', 'Есть', 0, 0.0, '39-000093', 'https://xn--80az8a.xn--d1aqf.xn--p1ai/api/ext/file/d2986857-0c5e-4a28-95b6-a7bded5f654f', '03-10-2022 11:08', '54.7618', '20.603', 0, 0, 'Типовой', '04-10-2022 01:30', \"[{'objId': 3148, 'pdId': 5903, 'rpdId': 639167, 'devId': 1758, 'ordNum': 1, 'objRenderPhotoSize': 1453459, 'objRenderPhotoUrl': 'https://xn--80az8a.x ... (3756 characters truncated) ... toNm': 'PHOTO-2022-07-01-12-04-366.jpg', 'objReadyDesc': 'Строится', 'objBuildTypeShortDesc': 'Нежилое', 'knFlg': 0, 'loadDttm': '04-10-2022 01:14'}]\", 0, 'normal', 'https://xn--80az8a.xn--d1aqf.xn--p1ai/api/ext/file/bedbc2ec-127f-4859-a0b3-e5560890dbc3', 0, 38138, 2, 0, '0.0', 64, 0, 1, '31-12-2022 12:00', None, 0, 0.0, 0.0, 0.0, 0.0, 0.0, 1, 0, 0.0, 0.0, 0.0, 0, 1.0, 39853.0, None, 1, '[]', 0, 'Aventa_@mail.ru', 0, 'A+', 5, 1758, 'АППОЛОН', 'АППОЛОН', 'АППОЛОН', 0, 1, 1, 'Калининградская область', '+7(401)231-14-71', 'appolon39.ru', 'zabelinaulya@list.ru', '3904091310', '1073905023026', '390601001', 'Калининградская область, город Калининград, проспект Ленинский дом 18', 'обл Калининградская, г Калининград, пр-кт Ленинский д. 18', 639167, 0, 39, 'Рассихина Ульяна Олеговна', 'АППОЛОН', 4, 'Общество с ограниченной ответственностью', 'ООО', 4762.0, 0, 0, None, None, None, None, None, None, None, None, None, None, None, None, None, None, None, None, None, None, None, None, None, None, None, None),\n (172, 33224, 77853, 77, 'д Зверево, д. 130', 3, 3, 30, '2022-12-31', 'Другое', 'Без отделки', 'Нет', 0, 1097.08, '77-001887', 'https://xn--80az8a.xn--d1aqf.xn--p1ai/api/ext/file/a4b815db-2319-48ef-a4be-a08f8530a66d', '19-08-2022 12:08', '55.5042', '36.9346', 0, 0, 'Типовой', '04-10-2022 01:30', \"[{'objId': 33224, 'pdId': 77853, 'rpdId': 627622, 'devId': 3522, 'ordNum': 1, 'objRenderPhotoSize': 3175033, 'objRenderPhotoUrl': 'https://xn--80az8a ... (144 characters truncated) ... 'objRenderPhotoNm': '20211210_134440.jpg', 'objReadyDesc': 'Строится', 'objBuildTypeShortDesc': 'Жилое', 'knFlg': 1, 'loadDttm': '04-10-2022 01:14'}]\", 0, 'normal', 'https://xn--80az8a.xn--d1aqf.xn--p1ai/api/ext/file/94f3ee58-1313-44c9-8465-21e4811dc90c', 1, 44062, 3, 30, '1097.08', 0, 0, 1, '31-03-2023 12:00', '2,7', 0, 0.0, 0.0, 0.0, 0.0, 21.0, 1, 1, 0.0, 0.0, 0.0, 0, None, None, 'ООО АСК ОЛИМПСТРОЙ (ИНН: 7703592360)', 0, '[]', 0, 'info@bg.msk.ru', 0, 'B', 1, 3522, 'АПРЕЛЕВКА С2', 'АПРЕЛЕВКА С2', 'АПРЕЛЕВКА С2', 0, 116, 109, 'Московская область', '+7(495)023-11-11', 'aprelevka-s2.ru', 'info@bg.msk.ru', '5030049041', '1055005607183', '503001001', 'Московская область, деревня новоглаголево, улица Водная дом 1 корпус 2 помещение 2-8', 'Московская область,город Наро-Фоминск, деревня Новоглаголево, улица Водная 1к2, помещение 2-8', 627622, 0, 50, 'Васильев Борис Цибенович', None, 4, 'Общество с ограниченной ответственностью', 'ООО', None, 0, 0, 24.0, 6.0, 0.0, 0.0, 30.0, 1.0, 10.0, None, None, 'Рябиновый квартал, дом 130', 1.0, 10.0, None, None, None, None, None, None, None, None, None, None, None, None),\n (173, 33161, 77853, 77, 'д Зверево, д. 67', 3, 3, 51, '2024-12-31', 'Другое', 'Без отделки', 'Нет', 0, 2198.66, '77-001887', 'https://xn--80az8a.xn--d1aqf.xn--p1ai/api/ext/file/a4b815db-2319-48ef-a4be-a08f8530a66d', '19-08-2022 12:08', '55.4984', '36.9292', 0, 0, 'Типовой', '04-10-2022 01:30', \"[{'objId': 33161, 'pdId': 77853, 'rpdId': 627622, 'devId': 3522, 'ordNum': 1, 'objRenderPhotoSize': 3919075, 'objRenderPhotoUrl': 'https://xn--80az8a ... (133 characters truncated) ... enFlg': 0, 'objRenderPhotoNm': '67-2.jpg', 'objReadyDesc': 'Строится', 'objBuildTypeShortDesc': 'Жилое', 'knFlg': 1, 'loadDttm': '04-10-2022 01:14'}]\", 0, 'normal', 'https://xn--80az8a.xn--d1aqf.xn--p1ai/api/ext/file/44f3c425-44b7-4c7e-9d14-d49799f63788', 1, 43999, 3, 51, '2198.66', 0, 0, 1, '31-12-2024 12:00', '2,7', 0, 0.0, 0.0, 0.0, 0.0, 27.0, 1, 1, 0.0, 0.0, 0.0, 0, None, None, 'ООО АСК ОЛИМПСТРОЙ (ИНН: 7703592360)', 0, '[]', 0, 'info@bg.msk.ru', 0, 'B', 1, 3522, 'АПРЕЛЕВКА С2', 'АПРЕЛЕВКА С2', 'АПРЕЛЕВКА С2', 0, 116, 109, 'Московская область', '+7(495)023-11-11', 'aprelevka-s2.ru', 'info@bg.msk.ru', '5030049041', '1055005607183', '503001001', 'Московская область, деревня новоглаголево, улица Водная дом 1 корпус 2 помещение 2-8', 'Московская область,город Наро-Фоминск, деревня Новоглаголево, улица Водная 1к2, помещение 2-8', 627622, 0, 50, 'Васильев Борис Цибенович', None, 4, 'Общество с ограниченной ответственностью', 'ООО', None, 0, 0, 35.0, 16.0, 0.0, 0.0, 51.0, 2.0, 9.0, None, None, 'Березовый квартал, дом 67', 1.0, 10.0, None, None, None, None, None, None, None, None, None, None, None, None),\n (174, 33217, 77853, 77, 'д Зверево, д. 123', 3, 3, 39, '2022-12-31', 'Другое', 'Без отделки', 'Нет', 0, 2278.61, '77-001887', 'https://xn--80az8a.xn--d1aqf.xn--p1ai/api/ext/file/a4b815db-2319-48ef-a4be-a08f8530a66d', '19-08-2022 12:08', '55.5049', '36.9317', 0, 0, 'Типовой', '04-10-2022 01:30', \"[{'objId': 33217, 'pdId': 77853, 'rpdId': 627622, 'devId': 3522, 'ordNum': 1, 'objRenderPhotoSize': 2907821, 'objRenderPhotoUrl': 'https://xn--80az8a ... (144 characters truncated) ... 'objRenderPhotoNm': '20211206_122232.jpg', 'objReadyDesc': 'Строится', 'objBuildTypeShortDesc': 'Жилое', 'knFlg': 1, 'loadDttm': '04-10-2022 01:14'}]\", 0, 'normal', 'https://xn--80az8a.xn--d1aqf.xn--p1ai/api/ext/file/09f4f689-f09c-4a8c-80c7-b854088d4f94', 1, 44055, 3, 39, '2278.61', 0, 0, 1, '31-03-2023 12:00', '2,7', 0, 0.0, 0.0, 0.0, 0.0, 0.0, 1, 1, 0.0, 0.0, 0.0, 0, None, None, 'ООО АСК ОЛИМПСТРОЙ (ИНН: 7703592360)', 0, '[]', 0, 'info@bg.msk.ru', 0, 'B', 1, 3522, 'АПРЕЛЕВКА С2', 'АПРЕЛЕВКА С2', 'АПРЕЛЕВКА С2', 0, 116, 109, 'Московская область', '+7(495)023-11-11', 'aprelevka-s2.ru', 'info@bg.msk.ru', '5030049041', '1055005607183', '503001001', 'Московская область, деревня новоглаголево, улица Водная дом 1 корпус 2 помещение 2-8', 'Московская область,город Наро-Фоминск, деревня Новоглаголево, улица Водная 1к2, помещение 2-8', 627622, 0, 50, 'Васильев Борис Цибенович', None, 4, 'Общество с ограниченной ответственностью', 'ООО', None, 0, 0, 11.0, 16.0, 12.0, 0.0, 39.0, 2.0, 7.0, None, None, 'Рябиновый квартал, дом 123', 1.0, 10.0, None, None, None, None, None, None, None, None, None, None, None, None),\n (175, 33186, 77853, 77, 'д Зверево, д. 92', 3, 3, 75, '2022-12-31', 'Другое', 'Без отделки', 'Нет', 0, 3280.8, '77-001887', 'https://xn--80az8a.xn--d1aqf.xn--p1ai/api/ext/file/a4b815db-2319-48ef-a4be-a08f8530a66d', '19-08-2022 12:08', '55.5064', '36.9316', 0, 0, 'Типовой', '04-10-2022 01:30', \"[{'objId': 33186, 'pdId': 77853, 'rpdId': 627622, 'devId': 3522, 'ordNum': 1, 'objRenderPhotoSize': 2797562, 'objRenderPhotoUrl': 'https://xn--80az8a ... (144 characters truncated) ... 'objRenderPhotoNm': '20211206_123614.jpg', 'objReadyDesc': 'Строится', 'objBuildTypeShortDesc': 'Жилое', 'knFlg': 1, 'loadDttm': '04-10-2022 01:14'}]\", 0, 'normal', 'https://xn--80az8a.xn--d1aqf.xn--p1ai/api/ext/file/fb6b1b41-32b2-4947-b1d6-06f3bfe0e457', 1, 44024, 3, 75, '3280.8', 0, 0, 1, '31-03-2023 12:00', '2,7', 0, 0.0, 0.0, 0.0, 0.0, 6.0, 1, 1, 0.0, 0.0, 0.0, 0, None, None, 'ООО АСК ОЛИМПСТРОЙ (ИНН: 7703592360)', 0, '[]', 0, 'info@bg.msk.ru', 0, 'B', 1, 3522, 'АПРЕЛЕВКА С2', 'АПРЕЛЕВКА С2', 'АПРЕЛЕВКА С2', 0, 116, 109, 'Московская область', '+7(495)023-11-11', 'aprelevka-s2.ru', 'info@bg.msk.ru', '5030049041', '1055005607183', '503001001', 'Московская область, деревня новоглаголево, улица Водная дом 1 корпус 2 помещение 2-8', 'Московская область,город Наро-Фоминск, деревня Новоглаголево, улица Водная 1к2, помещение 2-8', 627622, 0, 50, 'Васильев Борис Цибенович', None, 4, 'Общество с ограниченной ответственностью', 'ООО', None, 0, 0, 51.0, 24.0, 0.0, 0.0, 75.0, 3.0, 8.0, None, None, 'Рябиновый квартал, дом 92', 1.0, 10.0, None, None, None, None, None, None, None, None, None, None, None, None),\n (176, 33206, 77853, 77, 'д Зверево, д. 112', 3, 3, 39, '2022-12-31', 'Другое', 'Без отделки', 'Нет', 0, 2278.61, '77-001887', 'https://xn--80az8a.xn--d1aqf.xn--p1ai/api/ext/file/a4b815db-2319-48ef-a4be-a08f8530a66d', '19-08-2022 12:08', '55.5051', '36.9329', 0, 0, 'Типовой', '04-10-2022 01:30', \"[{'objId': 33206, 'pdId': 77853, 'rpdId': 627622, 'devId': 3522, 'ordNum': 1, 'objRenderPhotoSize': 2942606, 'objRenderPhotoUrl': 'https://xn--80az8a ... (144 characters truncated) ... 'objRenderPhotoNm': '20211206_123902.jpg', 'objReadyDesc': 'Строится', 'objBuildTypeShortDesc': 'Жилое', 'knFlg': 1, 'loadDttm': '04-10-2022 01:14'}]\", 0, 'normal', 'https://xn--80az8a.xn--d1aqf.xn--p1ai/api/ext/file/59b05977-6a6a-4f3e-bd5f-530aca354a9d', 1, 44044, 3, 39, '2278.61', 0, 0, 1, '31-03-2023 12:00', '2,7', 0, 0.0, 0.0, 0.0, 0.0, 6.0, 1, 1, 0.0, 0.0, 0.0, 0, None, None, 'ООО АСК ОЛИМПСТРОЙ (ИНН: 7703592360)', 0, '[]', 0, 'info@bg.msk.ru', 0, 'B', 1, 3522, 'АПРЕЛЕВКА С2', 'АПРЕЛЕВКА С2', 'АПРЕЛЕВКА С2', 0, 116, 109, 'Московская область', '+7(495)023-11-11', 'aprelevka-s2.ru', 'info@bg.msk.ru', '5030049041', '1055005607183', '503001001', 'Московская область, деревня новоглаголево, улица Водная дом 1 корпус 2 помещение 2-8', 'Московская область,город Наро-Фоминск, деревня Новоглаголево, улица Водная 1к2, помещение 2-8', 627622, 0, 50, 'Васильев Борис Цибенович', None, 4, 'Общество с ограниченной ответственностью', 'ООО', None, 0, 0, 11.0, 16.0, 12.0, 0.0, 39.0, 2.0, 7.0, None, None, 'Рябиновый квартал, дом 112', 1.0, 10.0, None, None, None, None, None, None, None, None, None, None, None, None),\n (177, 33139, 77853, 77, 'д Зверево, д. 45', 3, 3, 30, '2023-12-31', 'Другое', 'Без отделки', 'Нет', 0, 1097.08, '77-001887', 'https://xn--80az8a.xn--d1aqf.xn--p1ai/api/ext/file/a4b815db-2319-48ef-a4be-a08f8530a66d', '19-08-2022 12:08', '55.5017', '36.9302', 0, 0, 'Типовой', '04-10-2022 01:30', \"[{'objId': 33139, 'pdId': 77853, 'rpdId': 627622, 'devId': 3522, 'ordNum': 1, 'objRenderPhotoSize': 193324, 'objRenderPhotoUrl': 'https://xn--80az8a. ... (571 characters truncated) ... ': 0, 'objRenderPhotoNm': 'Фото_0021.jpg', 'objReadyDesc': 'Строится', 'objBuildTypeShortDesc': 'Жилое', 'knFlg': 1, 'loadDttm': '04-10-2022 01:14'}]\", 0, 'normal', 'https://xn--80az8a.xn--d1aqf.xn--p1ai/api/ext/file/19e30ad2-0093-4747-a665-b5d07c383d57', 1, 43977, 3, 30, '1097.08', 0, 0, 1, '31-12-2023 12:00', '2,7', 0, 0.0, 0.0, 1.0, 0.0, 2.0, 1, 1, 0.0, 0.0, 0.0, 0, None, None, 'ООО АСК ОЛИМПСТРОЙ (ИНН: 7703592360)', 0, '[]', 0, 'info@bg.msk.ru', 0, 'B', 1, 3522, 'АПРЕЛЕВКА С2', 'АПРЕЛЕВКА С2', 'АПРЕЛЕВКА С2', 0, 116, 109, 'Московская область', '+7(495)023-11-11', 'aprelevka-s2.ru', 'info@bg.msk.ru', '5030049041', '1055005607183', '503001001', 'Московская область, деревня новоглаголево, улица Водная дом 1 корпус 2 помещение 2-8', 'Московская область,город Наро-Фоминск, деревня Новоглаголево, улица Водная 1к2, помещение 2-8', 627622, 0, 50, 'Васильев Борис Цибенович', None, 4, 'Общество с ограниченной ответственностью', 'ООО', None, 0, 0, 24.0, 6.0, 0.0, 0.0, 30.0, 1.0, 10.0, None, None, 'Сиреневый квартал, дом 45', 1.0, 10.0, None, None, None, None, None, None, None, None, None, None, None, None),\n (178, 33230, 77853, 77, 'д Зверево, д. 136', 3, 3, 23, '2022-12-31', 'Другое', 'Без отделки', 'Нет', 0, 1017.17, '77-001887', 'https://xn--80az8a.xn--d1aqf.xn--p1ai/api/ext/file/a4b815db-2319-48ef-a4be-a08f8530a66d', '19-08-2022 12:08', '55.5037', '36.9344', 0, 0, 'Типовой', '04-10-2022 01:30', \"[{'objId': 33230, 'pdId': 77853, 'rpdId': 627622, 'devId': 3522, 'ordNum': 1, 'objRenderPhotoSize': 2825330, 'objRenderPhotoUrl': 'https://xn--80az8a ... (144 characters truncated) ... 'objRenderPhotoNm': '20211210_134530.jpg', 'objReadyDesc': 'Строится', 'objBuildTypeShortDesc': 'Жилое', 'knFlg': 1, 'loadDttm': '04-10-2022 01:14'}]\", 0, 'normal', 'https://xn--80az8a.xn--d1aqf.xn--p1ai/api/ext/file/cad362f9-e8af-4bcb-ad12-e1d8ba147c6c', 1, 44068, 3, 23, '1017.17', 0, 0, 1, '31-03-2023 12:00', '2,7', 0, 0.0, 0.0, 0.0, 0.0, 10.0, 1, 1, 0.0, 0.0, 0.0, 0, None, None, 'ООО АСК ОЛИМПСТРОЙ (ИНН: 7703592360)', 0, '[]', 0, 'info@bg.msk.ru', 0, 'B', 1, 3522, 'АПРЕЛЕВКА С2', 'АПРЕЛЕВКА С2', 'АПРЕЛЕВКА С2', 0, 116, 109, 'Московская область', '+7(495)023-11-11', 'aprelevka-s2.ru', 'info@bg.msk.ru', '5030049041', '1055005607183', '503001001', 'Московская область, деревня новоглаголево, улица Водная дом 1 корпус 2 помещение 2-8', 'Московская область,город Наро-Фоминск, деревня Новоглаголево, улица Водная 1к2, помещение 2-8', 627622, 0, 50, 'Васильев Борис Цибенович', None, 4, 'Общество с ограниченной ответственностью', 'ООО', None, 0, 0, 22.0, 1.0, 0.0, 0.0, 23.0, 1.0, 8.0, None, None, 'Рябиновый квартал, дом 136', 1.0, 10.0, None, None, None, None, None, None, None, None, None, None, None, None),\n (179, 33175, 77853, 77, 'д Зверево, д. 81', 3, 3, 51, '2022-12-31', 'Другое', 'Без отделки', 'Нет', 0, 2198.66, '77-001887', 'https://xn--80az8a.xn--d1aqf.xn--p1ai/api/ext/file/a4b815db-2319-48ef-a4be-a08f8530a66d', '19-08-2022 12:08', '55.5058', '36.9351', 0, 0, 'Типовой', '04-10-2022 01:30', \"[{'objId': 33175, 'pdId': 77853, 'rpdId': 627622, 'devId': 3522, 'ordNum': 1, 'objRenderPhotoSize': 2783210, 'objRenderPhotoUrl': 'https://xn--80az8a ... (144 characters truncated) ... 'objRenderPhotoNm': '20211206_131222.jpg', 'objReadyDesc': 'Строится', 'objBuildTypeShortDesc': 'Жилое', 'knFlg': 1, 'loadDttm': '04-10-2022 01:14'}]\", 0, 'normal', 'https://xn--80az8a.xn--d1aqf.xn--p1ai/api/ext/file/81bdaaed-aef3-4b6f-9e90-deecf542d8e4', 1, 44013, 3, 51, '2198.66', 0, 0, 1, '31-03-2023 12:00', '2,7', 0, 1.0, 0.0, 0.0, 0.0, 0.0, 1, 1, 0.0, 0.0, 0.0, 0, None, None, 'ООО АСК ОЛИМПСТРОЙ (ИНН: 7703592360)', 0, '[]', 0, 'info@bg.msk.ru', 0, 'B', 1, 3522, 'АПРЕЛЕВКА С2', 'АПРЕЛЕВКА С2', 'АПРЕЛЕВКА С2', 0, 116, 109, 'Московская область', '+7(495)023-11-11', 'aprelevka-s2.ru', 'info@bg.msk.ru', '5030049041', '1055005607183', '503001001', 'Московская область, деревня новоглаголево, улица Водная дом 1 корпус 2 помещение 2-8', 'Московская область,город Наро-Фоминск, деревня Новоглаголево, улица Водная 1к2, помещение 2-8', 627622, 0, 50, 'Васильев Борис Цибенович', None, 4, 'Общество с ограниченной ответственностью', 'ООО', None, 0, 0, 35.0, 16.0, 0.0, 0.0, 51.0, 2.0, 9.0, None, None, 'Березовый квартал, дом 81', 1.0, 10.0, None, None, None, None, None, None, None, None, None, None, None, None),\n (180, 33167, 77853, 77, 'д Зверево, д. 73', 3, 3, 78, '2022-12-31', 'Другое', 'Без отделки', 'Нет', 0, 3315.18, '77-001887', 'https://xn--80az8a.xn--d1aqf.xn--p1ai/api/ext/file/a4b815db-2319-48ef-a4be-a08f8530a66d', '19-08-2022 12:08', '55.4996', '36.9309', 0, 0, 'Типовой', '04-10-2022 01:30', \"[{'objId': 33167, 'pdId': 77853, 'rpdId': 627622, 'devId': 3522, 'ordNum': 1, 'objRenderPhotoSize': 3038172, 'objRenderPhotoUrl': 'https://xn--80az8a ... (144 characters truncated) ... 'objRenderPhotoNm': '20211206_130932.jpg', 'objReadyDesc': 'Строится', 'objBuildTypeShortDesc': 'Жилое', 'knFlg': 1, 'loadDttm': '04-10-2022 01:14'}]\", 0, 'normal', 'https://xn--80az8a.xn--d1aqf.xn--p1ai/api/ext/file/d0f4cbdf-8383-4d03-b7c4-7f7bb2d9c531', 1, 44005, 3, 78, '3315.18', 0, 0, 1, '31-03-2023 12:00', '2,7', 0, 0.0, 0.0, 0.0, 0.0, 51.0, 1, 1, 0.0, 0.0, 0.0, 0, None, None, 'ООО АСК ОЛИМПСТРОЙ (ИНН: 7703592360)', 0, '[]', 0, 'info@bg.msk.ru', 0, 'B', 1, 3522, 'АПРЕЛЕВКА С2', 'АПРЕЛЕВКА С2', 'АПРЕЛЕВКА С2', 0, 116, 109, 'Московская область', '+7(495)023-11-11', 'aprelevka-s2.ru', 'info@bg.msk.ru', '5030049041', '1055005607183', '503001001', 'Московская область, деревня новоглаголево, улица Водная дом 1 корпус 2 помещение 2-8', 'Московская область,город Наро-Фоминск, деревня Новоглаголево, улица Водная 1к2, помещение 2-8', 627622, 0, 50, 'Васильев Борис Цибенович', None, 4, 'Общество с ограниченной ответственностью', 'ООО', None, 0, 0, 54.0, 24.0, 0.0, 0.0, 78.0, 3.0, 9.0, None, None, 'Березовый квартал, дом 73', 1.0, 10.0, None, None, None, None, None, None, None, None, None, None, None, None),\n (181, 33152, 77853, 77, 'д Зверево, д. 58', 3, 3, 78, '2024-09-30', 'Другое', 'Без отделки', 'Нет', 0, 3315.18, '77-001887', 'https://xn--80az8a.xn--d1aqf.xn--p1ai/api/ext/file/a4b815db-2319-48ef-a4be-a08f8530a66d', '19-08-2022 12:08', '55.5008', '36.932', 0, 0, 'Типовой', '04-10-2022 01:30', \"[{'objId': 33152, 'pdId': 77853, 'rpdId': 627622, 'devId': 3522, 'ordNum': 1, 'objRenderPhotoSize': 3767599, 'objRenderPhotoUrl': 'https://xn--80az8a ... (133 characters truncated) ... enFlg': 0, 'objRenderPhotoNm': '58-2.jpg', 'objReadyDesc': 'Строится', 'objBuildTypeShortDesc': 'Жилое', 'knFlg': 1, 'loadDttm': '04-10-2022 01:14'}]\", 0, 'normal', 'https://xn--80az8a.xn--d1aqf.xn--p1ai/api/ext/file/1c6eb560-e0b0-4bfc-9f12-abf468aeff25', 1, 43990, 3, 78, '3315.18', 0, 0, 1, '30-09-2024 12:00', '2,7', 0, 0.0, 0.0, 0.0, 0.0, 15.0, 1, 1, 0.0, 0.0, 0.0, 0, None, None, 'ООО АСК ОЛИМПСТРОЙ (ИНН: 7703592360)', 0, '[]', 0, 'info@bg.msk.ru', 0, 'B', 1, 3522, 'АПРЕЛЕВКА С2', 'АПРЕЛЕВКА С2', 'АПРЕЛЕВКА С2', 0, 116, 109, 'Московская область', '+7(495)023-11-11', 'aprelevka-s2.ru', 'info@bg.msk.ru', '5030049041', '1055005607183', '503001001', 'Московская область, деревня новоглаголево, улица Водная дом 1 корпус 2 помещение 2-8', 'Московская область,город Наро-Фоминск, деревня Новоглаголево, улица Водная 1к2, помещение 2-8', 627622, 0, 50, 'Васильев Борис Цибенович', None, 4, 'Общество с ограниченной ответственностью', 'ООО', None, 0, 0, 54.0, 24.0, 0.0, 0.0, 78.0, 3.0, 9.0, None, None, 'Березовый квартал, дом 58', 1.0, 10.0, None, None, None, None, None, None, None, None, None, None, None, None),\n (182, 33183, 77853, 77, 'д Зверево, д. 89', 3, 3, 18, '2022-12-31', 'Другое', 'Без отделки', 'Нет', 0, 1026.64, '77-001887', 'https://xn--80az8a.xn--d1aqf.xn--p1ai/api/ext/file/a4b815db-2319-48ef-a4be-a08f8530a66d', '19-08-2022 12:08', '55.5061', '36.9327', 0, 0, 'Типовой', '04-10-2022 01:30', \"[{'objId': 33183, 'pdId': 77853, 'rpdId': 627622, 'devId': 3522, 'ordNum': 1, 'objRenderPhotoSize': 2829643, 'objRenderPhotoUrl': 'https://xn--80az8a ... (144 characters truncated) ... 'objRenderPhotoNm': '20211206_121530.jpg', 'objReadyDesc': 'Строится', 'objBuildTypeShortDesc': 'Жилое', 'knFlg': 1, 'loadDttm': '04-10-2022 01:14'}]\", 0, 'normal', 'https://xn--80az8a.xn--d1aqf.xn--p1ai/api/ext/file/3995abfe-30e4-4e12-9754-e9c588194178', 1, 44021, 3, 18, '1026.64', 0, 0, 1, '31-03-2023 12:00', '2,7', 0, 0.0, 0.0, 0.0, 0.0, 0.0, 1, 1, 0.0, 0.0, 0.0, 0, None, None, 'ООО АСК ОЛИМПСТРОЙ (ИНН: 7703592360)', 0, '[]', 0, 'info@bg.msk.ru', 0, 'B', 1, 3522, 'АПРЕЛЕВКА С2', 'АПРЕЛЕВКА С2', 'АПРЕЛЕВКА С2', 0, 116, 109, 'Московская область', '+7(495)023-11-11', 'aprelevka-s2.ru', 'info@bg.msk.ru', '5030049041', '1055005607183', '503001001', 'Московская область, деревня новоглаголево, улица Водная дом 1 корпус 2 помещение 2-8', 'Московская область,город Наро-Фоминск, деревня Новоглаголево, улица Водная 1к2, помещение 2-8', 627622, 0, 50, 'Васильев Борис Цибенович', None, 4, 'Общество с ограниченной ответственностью', 'ООО', None, 0, 0, 12.0, 1.0, 5.0, 0.0, 18.0, 1.0, 6.0, None, None, 'Рябиновый квартал, дом 89', 1.0, 10.0, None, None, None, None, None, None, None, None, None, None, None, None),\n (183, 33172, 77853, 77, 'д Зверево, д. 78', 3, 3, 99, '2022-12-31', 'Другое', 'Без отделки', 'Нет', 0, 4362.94, '77-001887', 'https://xn--80az8a.xn--d1aqf.xn--p1ai/api/ext/file/a4b815db-2319-48ef-a4be-a08f8530a66d', '19-08-2022 12:08', '55.5006', '36.9323', 0, 0, 'Типовой', '04-10-2022 01:30', \"[{'objId': 33172, 'pdId': 77853, 'rpdId': 627622, 'devId': 3522, 'ordNum': 1, 'objRenderPhotoSize': 3234146, 'objRenderPhotoUrl': 'https://xn--80az8a ... (144 characters truncated) ... 'objRenderPhotoNm': '20211206_131108.jpg', 'objReadyDesc': 'Строится', 'objBuildTypeShortDesc': 'Жилое', 'knFlg': 1, 'loadDttm': '04-10-2022 01:14'}]\", 0, 'normal', 'https://xn--80az8a.xn--d1aqf.xn--p1ai/api/ext/file/80e1a96a-82e9-4250-97c1-e462ca76f17f', 1, 44010, 3, 99, '4362.94', 0, 0, 1, '31-03-2023 12:00', '2,7', 0, 0.0, 0.0, 0.0, 0.0, 11.0, 1, 1, 0.0, 0.0, 0.0, 0, None, None, 'ООО АСК ОЛИМПСТРОЙ (ИНН: 7703592360)', 0, '[]', 0, 'info@bg.msk.ru', 0, 'B', 1, 3522, 'АПРЕЛЕВКА С2', 'АПРЕЛЕВКА С2', 'АПРЕЛЕВКА С2', 0, 116, 109, 'Московская область', '+7(495)023-11-11', 'aprelevka-s2.ru', 'info@bg.msk.ru', '5030049041', '1055005607183', '503001001', 'Московская область, деревня новоглаголево, улица Водная дом 1 корпус 2 помещение 2-8', 'Московская область,город Наро-Фоминск, деревня Новоглаголево, улица Водная 1к2, помещение 2-8', 627622, 0, 50, 'Васильев Борис Цибенович', None, 4, 'Общество с ограниченной ответственностью', 'ООО', None, 0, 0, 67.0, 32.0, 0.0, 0.0, 99.0, 4.0, 8.0, None, None, 'Березовый квартал, дом 78', 1.0, 10.0, None, None, None, None, None, None, None, None, None, None, None, None),\n (184, 33188, 77853, 77, 'д Зверево, д. 94', 3, 3, 23, '2022-12-31', 'Другое', 'Без отделки', 'Нет', 0, 1017.17, '77-001887', 'https://xn--80az8a.xn--d1aqf.xn--p1ai/api/ext/file/a4b815db-2319-48ef-a4be-a08f8530a66d', '19-08-2022 12:08', '55.5063', '36.931', 0, 0, 'Типовой', '04-10-2022 01:30', \"[{'objId': 33188, 'pdId': 77853, 'rpdId': 627622, 'devId': 3522, 'ordNum': 1, 'objRenderPhotoSize': 3204024, 'objRenderPhotoUrl': 'https://xn--80az8a ... (144 characters truncated) ... 'objRenderPhotoNm': '20211206_123612.jpg', 'objReadyDesc': 'Строится', 'objBuildTypeShortDesc': 'Жилое', 'knFlg': 1, 'loadDttm': '04-10-2022 01:14'}]\", 0, 'normal', 'https://xn--80az8a.xn--d1aqf.xn--p1ai/api/ext/file/7b3dbfde-87c3-4811-a21b-0a7b5d2fc00b', 1, 44026, 3, 23, '1017.17', 0, 0, 1, '31-03-2023 12:00', '2,7', 0, 0.0, 0.0, 0.0, 0.0, 3.0, 1, 1, 0.0, 0.0, 0.0, 0, None, None, 'ООО АСК ОЛИМПСТРОЙ (ИНН: 7703592360)', 0, '[]', 0, 'info@bg.msk.ru', 0, 'B', 1, 3522, 'АПРЕЛЕВКА С2', 'АПРЕЛЕВКА С2', 'АПРЕЛЕВКА С2', 0, 116, 109, 'Московская область', '+7(495)023-11-11', 'aprelevka-s2.ru', 'info@bg.msk.ru', '5030049041', '1055005607183', '503001001', 'Московская область, деревня новоглаголево, улица Водная дом 1 корпус 2 помещение 2-8', 'Московская область,город Наро-Фоминск, деревня Новоглаголево, улица Водная 1к2, помещение 2-8', 627622, 0, 50, 'Васильев Борис Цибенович', None, 4, 'Общество с ограниченной ответственностью', 'ООО', None, 0, 0, 22.0, 1.0, 0.0, 0.0, 23.0, 1.0, 8.0, None, None, 'Рябиновый квартал, дом 94', 1.0, 10.0, None, None, None, None, None, None, None, None, None, None, None, None),\n (185, 33101, 77853, 77, 'д Зверево, д. 7', 3, 3, 18, '2022-12-31', 'Другое', 'Без отделки', 'Нет', 0, 1026.64, '77-001887', 'https://xn--80az8a.xn--d1aqf.xn--p1ai/api/ext/file/a4b815db-2319-48ef-a4be-a08f8530a66d', '19-08-2022 12:08', '55.4988', '36.9255', 0, 0, 'Типовой', '04-10-2022 01:30', \"[{'objId': 33101, 'pdId': 77853, 'rpdId': 627622, 'devId': 3522, 'ordNum': 1, 'objRenderPhotoSize': 3791874, 'objRenderPhotoUrl': 'https://xn--80az8a ... (132 characters truncated) ... denFlg': 0, 'objRenderPhotoNm': '7-2.jpg', 'objReadyDesc': 'Строится', 'objBuildTypeShortDesc': 'Жилое', 'knFlg': 1, 'loadDttm': '04-10-2022 01:14'}]\", 0, 'normal', 'https://xn--80az8a.xn--d1aqf.xn--p1ai/api/ext/file/9a93ecde-c550-4b7a-8197-2bfda4a01fd8', 1, 43939, 3, 18, '1026.64', 0, 0, 1, '31-03-2023 12:00', '2,7', 0, 0.0, 0.0, 1.0, 0.0, 7.0, 1, 1, 0.0, 0.0, 0.0, 0, None, None, 'ООО АСК ОЛИМПСТРОЙ (ИНН: 7703592360)', 0, '[]', 0, 'info@bg.msk.ru', 0, 'B', 1, 3522, 'АПРЕЛЕВКА С2', 'АПРЕЛЕВКА С2', 'АПРЕЛЕВКА С2', 0, 116, 109, 'Московская область', '+7(495)023-11-11', 'aprelevka-s2.ru', 'info@bg.msk.ru', '5030049041', '1055005607183', '503001001', 'Московская область, деревня новоглаголево, улица Водная дом 1 корпус 2 помещение 2-8', 'Московская область,город Наро-Фоминск, деревня Новоглаголево, улица Водная 1к2, помещение 2-8', 627622, 0, 50, 'Васильев Борис Цибенович', None, 4, 'Общество с ограниченной ответственностью', 'ООО', None, 0, 0, 12.0, 1.0, 5.0, 0.0, 18.0, 1.0, 6.0, None, None, 'Сиреневый квартал, дом 7', 1.0, 10.0, None, None, None, None, None, None, None, None, None, None, None, None),\n (186, 33165, 77853, 77, 'д Зверево, д. 71', 3, 3, 60, '2022-12-31', 'Другое', 'Без отделки', 'Нет', 0, 3423.18, '77-001887', 'https://xn--80az8a.xn--d1aqf.xn--p1ai/api/ext/file/a4b815db-2319-48ef-a4be-a08f8530a66d', '19-08-2022 12:08', '55.4993', '36.9304', 0, 0, 'Типовой', '04-10-2022 01:30', \"[{'objId': 33165, 'pdId': 77853, 'rpdId': 627622, 'devId': 3522, 'ordNum': 1, 'objRenderPhotoSize': 3970046, 'objRenderPhotoUrl': 'https://xn--80az8a ... (133 characters truncated) ... enFlg': 0, 'objRenderPhotoNm': '71-2.jpg', 'objReadyDesc': 'Строится', 'objBuildTypeShortDesc': 'Жилое', 'knFlg': 1, 'loadDttm': '04-10-2022 01:14'}]\", 0, 'normal', 'https://xn--80az8a.xn--d1aqf.xn--p1ai/api/ext/file/e0ae098e-a823-4d68-a7f9-fd5181dc14b2', 1, 44003, 3, 60, '3423.18', 0, 0, 1, '31-03-2023 12:00', '2,7', 0, 0.0, 1.0, 0.0, 0.0, 9.0, 1, 1, 0.0, 0.0, 0.0, 0, None, None, 'ООО АСК ОЛИМПСТРОЙ (ИНН: 7703592360)', 0, '[]', 0, 'info@bg.msk.ru', 0, 'B', 1, 3522, 'АПРЕЛЕВКА С2', 'АПРЕЛЕВКА С2', 'АПРЕЛЕВКА С2', 0, 116, 109, 'Московская область', '+7(495)023-11-11', 'aprelevka-s2.ru', 'info@bg.msk.ru', '5030049041', '1055005607183', '503001001', 'Московская область, деревня новоглаголево, улица Водная дом 1 корпус 2 помещение 2-8', 'Московская область,город Наро-Фоминск, деревня Новоглаголево, улица Водная 1к2, помещение 2-8', 627622, 0, 50, 'Васильев Борис Цибенович', None, 4, 'Общество с ограниченной ответственностью', 'ООО', None, 0, 0, 18.0, 24.0, 18.0, 0.0, 60.0, 3.0, 7.0, None, None, 'Березовый квартал, дом 71', 1.0, 10.0, None, None, None, None, None, None, None, None, None, None, None, None),\n (187, 33227, 77853, 77, 'д Зверево, д. 133', 3, 3, 23, '2022-12-31', 'Другое', 'Без отделки', 'Нет', 0, 1017.17, '77-001887', 'https://xn--80az8a.xn--d1aqf.xn--p1ai/api/ext/file/a4b815db-2319-48ef-a4be-a08f8530a66d', '19-08-2022 12:08', '55.5037', '36.9353', 0, 0, 'Типовой', '04-10-2022 01:30', \"[{'objId': 33227, 'pdId': 77853, 'rpdId': 627622, 'devId': 3522, 'ordNum': 1, 'objRenderPhotoSize': 2951200, 'objRenderPhotoUrl': 'https://xn--80az8a ... (144 characters truncated) ... 'objRenderPhotoNm': '20211210_134503.jpg', 'objReadyDesc': 'Строится', 'objBuildTypeShortDesc': 'Жилое', 'knFlg': 1, 'loadDttm': '04-10-2022 01:14'}]\", 0, 'normal', 'https://xn--80az8a.xn--d1aqf.xn--p1ai/api/ext/file/52428f30-61fa-4aba-a1d1-c4f817fb86c2', 1, 44065, 3, 23, '1017.17', 0, 0, 1, '31-03-2023 12:00', '2,7', 0, 0.0, 0.0, 0.0, 0.0, 10.0, 1, 1, 0.0, 0.0, 0.0, 0, None, None, 'ООО АСК ОЛИМПСТРОЙ (ИНН: 7703592360)', 0, '[]', 0, 'info@bg.msk.ru', 0, 'B', 1, 3522, 'АПРЕЛЕВКА С2', 'АПРЕЛЕВКА С2', 'АПРЕЛЕВКА С2', 0, 116, 109, 'Московская область', '+7(495)023-11-11', 'aprelevka-s2.ru', 'info@bg.msk.ru', '5030049041', '1055005607183', '503001001', 'Московская область, деревня новоглаголево, улица Водная дом 1 корпус 2 помещение 2-8', 'Московская область,город Наро-Фоминск, деревня Новоглаголево, улица Водная 1к2, помещение 2-8', 627622, 0, 50, 'Васильев Борис Цибенович', None, 4, 'Общество с ограниченной ответственностью', 'ООО', None, 0, 0, 22.0, 1.0, 0.0, 0.0, 23.0, 1.0, 8.0, None, None, 'Рябиновый квартал, дом 133', 1.0, 10.0, None, None, None, None, None, None, None, None, None, None, None, None),\n (188, 33174, 77853, 77, 'д Зверево, д. 80', 3, 3, 51, '2022-12-31', 'Другое', 'Без отделки', 'Нет', 0, 2198.66, '77-001887', 'https://xn--80az8a.xn--d1aqf.xn--p1ai/api/ext/file/a4b815db-2319-48ef-a4be-a08f8530a66d', '19-08-2022 12:08', '55.501', '36.9329', 0, 0, 'Типовой', '04-10-2022 01:30', \"[{'objId': 33174, 'pdId': 77853, 'rpdId': 627622, 'devId': 3522, 'ordNum': 1, 'objRenderPhotoSize': 2685068, 'objRenderPhotoUrl': 'https://xn--80az8a ... (144 characters truncated) ... 'objRenderPhotoNm': '20211206_124630.jpg', 'objReadyDesc': 'Строится', 'objBuildTypeShortDesc': 'Жилое', 'knFlg': 1, 'loadDttm': '04-10-2022 01:14'}]\", 0, 'normal', 'https://xn--80az8a.xn--d1aqf.xn--p1ai/api/ext/file/26282964-252f-46b9-8af8-6c10bd0696c7', 1, 44012, 3, 51, '2198.66', 0, 0, 1, '31-03-2023 12:00', '2,7', 0, 0.0, 0.0, 0.0, 0.0, 0.0, 1, 1, 0.0, 0.0, 0.0, 0, None, None, 'ООО АСК ОЛИМПСТРОЙ (ИНН: 7703592360)', 0, '[]', 0, 'info@bg.msk.ru', 0, 'B', 1, 3522, 'АПРЕЛЕВКА С2', 'АПРЕЛЕВКА С2', 'АПРЕЛЕВКА С2', 0, 116, 109, 'Московская область', '+7(495)023-11-11', 'aprelevka-s2.ru', 'info@bg.msk.ru', '5030049041', '1055005607183', '503001001', 'Московская область, деревня новоглаголево, улица Водная дом 1 корпус 2 помещение 2-8', 'Московская область,город Наро-Фоминск, деревня Новоглаголево, улица Водная 1к2, помещение 2-8', 627622, 0, 50, 'Васильев Борис Цибенович', None, 4, 'Общество с ограниченной ответственностью', 'ООО', None, 0, 0, 35.0, 16.0, 0.0, 0.0, 51.0, 2.0, 9.0, None, None, 'Березовый квартал, дом 80', 1.0, 10.0, None, None, None, None, None, None, None, None, None, None, None, None),\n (189, 33200, 77853, 77, 'д Зверево, д. 106', 3, 3, 39, '2022-12-31', 'Другое', 'Без отделки', 'Нет', 0, 2278.61, '77-001887', 'https://xn--80az8a.xn--d1aqf.xn--p1ai/api/ext/file/a4b815db-2319-48ef-a4be-a08f8530a66d', '19-08-2022 12:08', '55.5048', '36.9351', 0, 0, 'Типовой', '04-10-2022 01:30', \"[{'objId': 33200, 'pdId': 77853, 'rpdId': 627622, 'devId': 3522, 'ordNum': 1, 'objRenderPhotoSize': 2487739, 'objRenderPhotoUrl': 'https://xn--80az8a ... (144 characters truncated) ... 'objRenderPhotoNm': '20211206_123933.jpg', 'objReadyDesc': 'Строится', 'objBuildTypeShortDesc': 'Жилое', 'knFlg': 1, 'loadDttm': '04-10-2022 01:14'}]\", 0, 'normal', 'https://xn--80az8a.xn--d1aqf.xn--p1ai/api/ext/file/4483a44f-2ffb-43db-9df3-7debff1032b5', 1, 44038, 3, 39, '2278.61', 0, 0, 1, '31-03-2023 12:00', '2,7', 0, 0.0, 0.0, 0.0, 0.0, 4.0, 1, 1, 0.0, 0.0, 0.0, 0, None, None, 'ООО АСК ОЛИМПСТРОЙ (ИНН: 7703592360)', 0, '[]', 0, 'info@bg.msk.ru', 0, 'B', 1, 3522, 'АПРЕЛЕВКА С2', 'АПРЕЛЕВКА С2', 'АПРЕЛЕВКА С2', 0, 116, 109, 'Московская область', '+7(495)023-11-11', 'aprelevka-s2.ru', 'info@bg.msk.ru', '5030049041', '1055005607183', '503001001', 'Московская область, деревня новоглаголево, улица Водная дом 1 корпус 2 помещение 2-8', 'Московская область,город Наро-Фоминск, деревня Новоглаголево, улица Водная 1к2, помещение 2-8', 627622, 0, 50, 'Васильев Борис Цибенович', None, 4, 'Общество с ограниченной ответственностью', 'ООО', None, 0, 0, 11.0, 16.0, 12.0, 0.0, 39.0, 2.0, 7.0, None, None, 'Рябиновый квартал, дом 106', 1.0, 10.0, None, None, None, None, None, None, None, None, None, None, None, None),\n (190, 33210, 77853, 77, 'д Зверево, д. 116', 3, 3, 18, '2022-12-31', 'Другое', 'Без отделки', 'Нет', 0, 1026.64, '77-001887', 'https://xn--80az8a.xn--d1aqf.xn--p1ai/api/ext/file/a4b815db-2319-48ef-a4be-a08f8530a66d', '19-08-2022 12:08', '55.5057', '36.9309', 0, 0, 'Типовой', '04-10-2022 01:30', \"[{'objId': 33210, 'pdId': 77853, 'rpdId': 627622, 'devId': 3522, 'ordNum': 1, 'objRenderPhotoSize': 2775318, 'objRenderPhotoUrl': 'https://xn--80az8a ... (144 characters truncated) ... 'objRenderPhotoNm': '20211206_122156.jpg', 'objReadyDesc': 'Строится', 'objBuildTypeShortDesc': 'Жилое', 'knFlg': 1, 'loadDttm': '04-10-2022 01:14'}]\", 0, 'normal', 'https://xn--80az8a.xn--d1aqf.xn--p1ai/api/ext/file/d4a819fa-2c4a-4d3b-a273-9bf3361cee65', 1, 44048, 3, 18, '1026.64', 0, 0, 1, '31-03-2023 12:00', '2,7', 0, 0.0, 0.0, 0.0, 0.0, 0.0, 1, 1, 0.0, 0.0, 0.0, 0, None, None, 'ООО АСК ОЛИМПСТРОЙ (ИНН: 7703592360)', 0, '[]', 0, 'info@bg.msk.ru', 0, 'B', 1, 3522, 'АПРЕЛЕВКА С2', 'АПРЕЛЕВКА С2', 'АПРЕЛЕВКА С2', 0, 116, 109, 'Московская область', '+7(495)023-11-11', 'aprelevka-s2.ru', 'info@bg.msk.ru', '5030049041', '1055005607183', '503001001', 'Московская область, деревня новоглаголево, улица Водная дом 1 корпус 2 помещение 2-8', 'Московская область,город Наро-Фоминск, деревня Новоглаголево, улица Водная 1к2, помещение 2-8', 627622, 0, 50, 'Васильев Борис Цибенович', None, 4, 'Общество с ограниченной ответственностью', 'ООО', None, 0, 0, 12.0, 1.0, 5.0, 0.0, 18.0, 1.0, 6.0, None, None, 'Рябиновый квартал, дом 116', 1.0, 10.0, None, None, None, None, None, None, None, None, None, None, None, None),\n (191, 33173, 77853, 77, 'д Зверево, д. 79', 3, 3, 51, '2022-12-31', 'Другое', 'Без отделки', 'Нет', 0, 2198.66, '77-001887', 'https://xn--80az8a.xn--d1aqf.xn--p1ai/api/ext/file/a4b815db-2319-48ef-a4be-a08f8530a66d', '19-08-2022 12:08', '55.5007', '36.9327', 0, 0, 'Типовой', '04-10-2022 01:30', \"[{'objId': 33173, 'pdId': 77853, 'rpdId': 627622, 'devId': 3522, 'ordNum': 1, 'objRenderPhotoSize': 2923246, 'objRenderPhotoUrl': 'https://xn--80az8a ... (144 characters truncated) ... 'objRenderPhotoNm': '20211206_131143.jpg', 'objReadyDesc': 'Строится', 'objBuildTypeShortDesc': 'Жилое', 'knFlg': 1, 'loadDttm': '04-10-2022 01:14'}]\", 0, 'normal', 'https://xn--80az8a.xn--d1aqf.xn--p1ai/api/ext/file/89c68732-a9a4-495b-90de-9116c2f1b84d', 1, 44011, 3, 51, '2198.66', 0, 0, 1, '31-03-2023 12:00', '2,7', 0, 0.0, 0.0, 0.0, 0.0, 22.0, 1, 1, 0.0, 0.0, 0.0, 0, None, None, 'ООО АСК ОЛИМПСТРОЙ (ИНН: 7703592360)', 0, '[]', 0, 'info@bg.msk.ru', 0, 'B', 1, 3522, 'АПРЕЛЕВКА С2', 'АПРЕЛЕВКА С2', 'АПРЕЛЕВКА С2', 0, 116, 109, 'Московская область', '+7(495)023-11-11', 'aprelevka-s2.ru', 'info@bg.msk.ru', '5030049041', '1055005607183', '503001001', 'Московская область, деревня новоглаголево, улица Водная дом 1 корпус 2 помещение 2-8', 'Московская область,город Наро-Фоминск, деревня Новоглаголево, улица Водная 1к2, помещение 2-8', 627622, 0, 50, 'Васильев Борис Цибенович', None, 4, 'Общество с ограниченной ответственностью', 'ООО', None, 0, 0, 35.0, 16.0, 0.0, 0.0, 51.0, 2.0, 9.0, None, None, 'Березовый квартал, дом 79', 1.0, 10.0, None, None, None, None, None, None, None, None, None, None, None, None),\n (192, 33197, 77853, 77, 'д Зверево, д. 103', 3, 3, 78, '2022-12-31', 'Другое', 'Без отделки', 'Нет', 0, 4557.22, '77-001887', 'https://xn--80az8a.xn--d1aqf.xn--p1ai/api/ext/file/a4b815db-2319-48ef-a4be-a08f8530a66d', '19-08-2022 12:08', '55.5054', '36.9341', 0, 0, 'Типовой', '04-10-2022 01:30', \"[{'objId': 33197, 'pdId': 77853, 'rpdId': 627622, 'devId': 3522, 'ordNum': 1, 'objRenderPhotoSize': 2539556, 'objRenderPhotoUrl': 'https://xn--80az8a ... (144 characters truncated) ... 'objRenderPhotoNm': '20211206_123936.jpg', 'objReadyDesc': 'Строится', 'objBuildTypeShortDesc': 'Жилое', 'knFlg': 1, 'loadDttm': '04-10-2022 01:14'}]\", 0, 'normal', 'https://xn--80az8a.xn--d1aqf.xn--p1ai/api/ext/file/4ab852a0-f1e9-4529-88dc-2d3078fe5a1b', 1, 44035, 3, 78, '4557.22', 0, 0, 1, '31-03-2023 12:00', '2,7', 0, 0.0, 0.0, 0.0, 0.0, 23.0, 1, 1, 0.0, 0.0, 0.0, 0, None, None, 'ООО АСК ОЛИМПСТРОЙ (ИНН: 7703592360)', 0, '[]', 0, 'info@bg.msk.ru', 0, 'B', 1, 3522, 'АПРЕЛЕВКА С2', 'АПРЕЛЕВКА С2', 'АПРЕЛЕВКА С2', 0, 116, 109, 'Московская область', '+7(495)023-11-11', 'aprelevka-s2.ru', 'info@bg.msk.ru', '5030049041', '1055005607183', '503001001', 'Московская область, деревня новоглаголево, улица Водная дом 1 корпус 2 помещение 2-8', 'Московская область,город Наро-Фоминск, деревня Новоглаголево, улица Водная 1к2, помещение 2-8', 627622, 0, 50, 'Васильев Борис Цибенович', None, 4, 'Общество с ограниченной ответственностью', 'ООО', None, 0, 0, 22.0, 32.0, 24.0, 0.0, 78.0, 4.0, 7.0, None, None, 'Рябиновый квартал, дом 103', 1.0, 10.0, None, None, None, None, None, None, None, None, None, None, None, None),\n (193, 33201, 77853, 77, 'д Зверево, д. 107', 3, 3, 39, '2022-12-31', 'Другое', 'Без отделки', 'Нет', 0, 2278.61, '77-001887', 'https://xn--80az8a.xn--d1aqf.xn--p1ai/api/ext/file/a4b815db-2319-48ef-a4be-a08f8530a66d', '19-08-2022 12:08', '55.5045', '36.935', 0, 0, 'Типовой', '04-10-2022 01:30', \"[{'objId': 33201, 'pdId': 77853, 'rpdId': 627622, 'devId': 3522, 'ordNum': 1, 'objRenderPhotoSize': 2596137, 'objRenderPhotoUrl': 'https://xn--80az8a ... (144 characters truncated) ... 'objRenderPhotoNm': '20211206_122024.jpg', 'objReadyDesc': 'Строится', 'objBuildTypeShortDesc': 'Жилое', 'knFlg': 1, 'loadDttm': '04-10-2022 01:14'}]\", 0, 'normal', 'https://xn--80az8a.xn--d1aqf.xn--p1ai/api/ext/file/c25d0a47-69f4-43fb-a661-c1c90684f606', 1, 44039, 3, 39, '2278.61', 0, 0, 1, '31-03-2023 12:00', '2,7', 0, 0.0, 0.0, 0.0, 0.0, 23.0, 1, 1, 0.0, 0.0, 0.0, 0, None, None, 'ООО АСК ОЛИМПСТРОЙ (ИНН: 7703592360)', 0, '[]', 0, 'info@bg.msk.ru', 0, 'B', 1, 3522, 'АПРЕЛЕВКА С2', 'АПРЕЛЕВКА С2', 'АПРЕЛЕВКА С2', 0, 116, 109, 'Московская область', '+7(495)023-11-11', 'aprelevka-s2.ru', 'info@bg.msk.ru', '5030049041', '1055005607183', '503001001', 'Московская область, деревня новоглаголево, улица Водная дом 1 корпус 2 помещение 2-8', 'Московская область,город Наро-Фоминск, деревня Новоглаголево, улица Водная 1к2, помещение 2-8', 627622, 0, 50, 'Васильев Борис Цибенович', None, 4, 'Общество с ограниченной ответственностью', 'ООО', None, 0, 0, 11.0, 16.0, 12.0, 0.0, 39.0, 2.0, 7.0, None, None, 'Рябиновый квартал, дом 107', 1.0, 10.0, None, None, None, None, None, None, None, None, None, None, None, None),\n (194, 33237, 77853, 77, 'д Зверево, д. Детский сад 2', 3, 3, 0, '2025-12-31', 'Монолит-кирпич', 'Другое', 'Нет', 0, 0.0, '77-001887', 'https://xn--80az8a.xn--d1aqf.xn--p1ai/api/ext/file/a4b815db-2319-48ef-a4be-a08f8530a66d', '19-08-2022 12:08', '55.4975', '36.9223', 0, 0, 'Типовой', '04-10-2022 01:30', \"[{'objId': 33237, 'pdId': 77853, 'rpdId': 627622, 'devId': 3522, 'ordNum': 1, 'objRenderPhotoSize': 2283326, 'objRenderPhotoUrl': 'https://xn--80az8a ... (146 characters truncated) ... bjRenderPhotoNm': '20211206_123758.jpg', 'objReadyDesc': 'Строится', 'objBuildTypeShortDesc': 'Нежилое', 'knFlg': 0, 'loadDttm': '04-10-2022 01:14'}]\", 0, 'normal', 'https://xn--80az8a.xn--d1aqf.xn--p1ai/api/ext/file/29156850-a86b-418c-8bd3-ef6daba0d4f3', 0, 44075, 3, 0, '0.0', 64, 0, 1, '31-03-2026 12:00', None, 0, 0.0, 0.0, 0.0, 0.0, 0.0, 1, 1, 0.0, 0.0, 0.0, 0, None, None, 'ООО АСК ОЛИМПСТРОЙ (ИНН: 7703592360)', 1, '[]', 0, 'info@bg.msk.ru', 0, 'A+', 1, 3522, 'АПРЕЛЕВКА С2', 'АПРЕЛЕВКА С2', 'АПРЕЛЕВКА С2', 0, 116, 109, 'Московская область', '+7(495)023-11-11', 'aprelevka-s2.ru', 'info@bg.msk.ru', '5030049041', '1055005607183', '503001001', 'Московская область, деревня новоглаголево, улица Водная дом 1 корпус 2 помещение 2-8', 'Московская область,город Наро-Фоминск, деревня Новоглаголево, улица Водная 1к2, помещение 2-8', 627622, 0, 50, 'Васильев Борис Цибенович', None, 4, 'Общество с ограниченной ответственностью', 'ООО', None, 0, 0, None, None, None, None, None, None, None, None, None, None, 1.0, 10.0, 'Борисоглебское 101', None, None, None, None, None, None, None, None, None, None, None),\n (195, 33177, 77853, 77, 'д Зверево, д. 83', 3, 3, 99, '2022-12-31', 'Другое', 'Без отделки', 'Нет', 0, 4362.94, '77-001887', 'https://xn--80az8a.xn--d1aqf.xn--p1ai/api/ext/file/a4b815db-2319-48ef-a4be-a08f8530a66d', '19-08-2022 12:08', '55.5054', '36.935', 0, 0, 'Типовой', '04-10-2022 01:30', \"[{'objId': 33177, 'pdId': 77853, 'rpdId': 627622, 'devId': 3522, 'ordNum': 1, 'objRenderPhotoSize': 2414430, 'objRenderPhotoUrl': 'https://xn--80az8a ... (144 characters truncated) ... 'objRenderPhotoNm': '20211206_121339.jpg', 'objReadyDesc': 'Строится', 'objBuildTypeShortDesc': 'Жилое', 'knFlg': 1, 'loadDttm': '04-10-2022 01:14'}]\", 0, 'normal', 'https://xn--80az8a.xn--d1aqf.xn--p1ai/api/ext/file/cdd67066-d852-4787-a382-e963d4f490c1', 1, 44015, 3, 99, '4362.94', 0, 0, 1, '31-03-2023 12:00', '2,7', 0, 0.0, 0.0, 0.0, 0.0, 23.0, 1, 1, 0.0, 0.0, 0.0, 0, None, None, 'ООО АСК ОЛИМПСТРОЙ (ИНН: 7703592360)', 0, '[]', 0, 'info@bg.msk.ru', 0, 'B', 1, 3522, 'АПРЕЛЕВКА С2', 'АПРЕЛЕВКА С2', 'АПРЕЛЕВКА С2', 0, 116, 109, 'Московская область', '+7(495)023-11-11', 'aprelevka-s2.ru', 'info@bg.msk.ru', '5030049041', '1055005607183', '503001001', 'Московская область, деревня новоглаголево, улица Водная дом 1 корпус 2 помещение 2-8', 'Московская область,город Наро-Фоминск, деревня Новоглаголево, улица Водная 1к2, помещение 2-8', 627622, 0, 50, 'Васильев Борис Цибенович', None, 4, 'Общество с ограниченной ответственностью', 'ООО', None, 0, 0, 67.0, 32.0, 0.0, 0.0, 99.0, 4.0, 8.0, None, None, 'Рябиновый квартал, дом 83', 1.0, 10.0, None, None, None, None, None, None, None, None, None, None, None, None),\n (196, 33096, 77853, 77, 'д Зверево, д. 2', 3, 3, 75, '2023-09-30', 'Другое', 'Без отделки', 'Нет', 0, 3390.59, '77-001887', 'https://xn--80az8a.xn--d1aqf.xn--p1ai/api/ext/file/a4b815db-2319-48ef-a4be-a08f8530a66d', '19-08-2022 12:08', '55.4975', '36.9223', 0, 0, 'Типовой', '04-10-2022 01:30', \"[{'objId': 33096, 'pdId': 77853, 'rpdId': 627622, 'devId': 3522, 'ordNum': 1, 'objRenderPhotoSize': 3568364, 'objRenderPhotoUrl': 'https://xn--80az8a ... (138 characters truncated) ... ': 0, 'objRenderPhotoNm': '1-2_фасад.jpg', 'objReadyDesc': 'Строится', 'objBuildTypeShortDesc': 'Жилое', 'knFlg': 1, 'loadDttm': '04-10-2022 01:14'}]\", 0, 'normal', 'https://xn--80az8a.xn--d1aqf.xn--p1ai/api/ext/file/3ab56a3b-da59-4578-adae-e2c65b46ae81', 1, 43934, 3, 75, '3390.59', 0, 0, 1, '30-09-2023 12:00', '2,7', 0, 0.0, 1.0, 0.0, 0.0, 11.0, 1, 1, 0.0, 0.0, 0.0, 0, None, None, 'ООО АСК ОЛИМПСТРОЙ (ИНН: 7703592360)', 0, '[]', 0, 'info@bg.msk.ru', 0, 'B', 1, 3522, 'АПРЕЛЕВКА С2', 'АПРЕЛЕВКА С2', 'АПРЕЛЕВКА С2', 0, 116, 109, 'Московская область', '+7(495)023-11-11', 'aprelevka-s2.ru', 'info@bg.msk.ru', '5030049041', '1055005607183', '503001001', 'Московская область, деревня новоглаголево, улица Водная дом 1 корпус 2 помещение 2-8', 'Московская область,город Наро-Фоминск, деревня Новоглаголево, улица Водная 1к2, помещение 2-8', 627622, 0, 50, 'Васильев Борис Цибенович', None, 4, 'Общество с ограниченной ответственностью', 'ООО', None, 0, 0, 51.0, 24.0, 0.0, 0.0, 75.0, 3.0, 8.0, None, None, 'Сиреневый квартал, дом 2', 1.0, 10.0, None, None, None, None, None, None, None, None, None, None, None, None),\n (197, 33187, 77853, 77, 'д Зверево, д. 93', 3, 3, 24, '2022-12-31', 'Другое', 'Без отделки', 'Нет', 0, 1082.14, '77-001887', 'https://xn--80az8a.xn--d1aqf.xn--p1ai/api/ext/file/a4b815db-2319-48ef-a4be-a08f8530a66d', '19-08-2022 12:08', '55.5065', '36.9313', 0, 0, 'Типовой', '04-10-2022 01:30', \"[{'objId': 33187, 'pdId': 77853, 'rpdId': 627622, 'devId': 3522, 'ordNum': 1, 'objRenderPhotoSize': 2259992, 'objRenderPhotoUrl': 'https://xn--80az8a ... (144 characters truncated) ... 'objRenderPhotoNm': '20211206_121704.jpg', 'objReadyDesc': 'Строится', 'objBuildTypeShortDesc': 'Жилое', 'knFlg': 1, 'loadDttm': '04-10-2022 01:14'}]\", 0, 'normal', 'https://xn--80az8a.xn--d1aqf.xn--p1ai/api/ext/file/2e640798-5292-4d90-96dd-1c479b23d6b5', 1, 44025, 3, 24, '1082.14', 0, 0, 1, '31-03-2023 12:00', '2,7', 0, 0.0, 0.0, 0.0, 0.0, 16.0, 1, 1, 0.0, 0.0, 0.0, 0, None, None, 'ООО АСК ОЛИМПСТРОЙ (ИНН: 7703592360)', 0, '[]', 0, 'info@bg.msk.ru', 0, 'B', 1, 3522, 'АПРЕЛЕВКА С2', 'АПРЕЛЕВКА С2', 'АПРЕЛЕВКА С2', 0, 116, 109, 'Московская область', '+7(495)023-11-11', 'aprelevka-s2.ru', 'info@bg.msk.ru', '5030049041', '1055005607183', '503001001', 'Московская область, деревня новоглаголево, улица Водная дом 1 корпус 2 помещение 2-8', 'Московская область,город Наро-Фоминск, деревня Новоглаголево, улица Водная 1к2, помещение 2-8', 627622, 0, 50, 'Васильев Борис Цибенович', None, 4, 'Общество с ограниченной ответственностью', 'ООО', None, 0, 0, 16.0, 8.0, 0.0, 0.0, 24.0, 1.0, 8.0, None, None, 'Рябиновый квартал, дом 93', 1.0, 10.0, None, None, None, None, None, None, None, None, None, None, None, None),\n (198, 33098, 77853, 77, 'д Зверево, д. 4', 3, 3, 48, '2022-12-31', 'Другое', 'Без отделки', 'Нет', 0, 2164.28, '77-001887', 'https://xn--80az8a.xn--d1aqf.xn--p1ai/api/ext/file/a4b815db-2319-48ef-a4be-a08f8530a66d', '19-08-2022 12:08', '55.4978', '36.9226', 0, 0, 'Типовой', '04-10-2022 01:30', \"[{'objId': 33098, 'pdId': 77853, 'rpdId': 627622, 'devId': 3522, 'ordNum': 1, 'objRenderPhotoSize': 3864971, 'objRenderPhotoUrl': 'https://xn--80az8a ... (132 characters truncated) ... denFlg': 0, 'objRenderPhotoNm': '4-2.jpg', 'objReadyDesc': 'Строится', 'objBuildTypeShortDesc': 'Жилое', 'knFlg': 1, 'loadDttm': '04-10-2022 01:14'}]\", 0, 'normal', 'https://xn--80az8a.xn--d1aqf.xn--p1ai/api/ext/file/514f97a7-d681-4c49-814c-a555dcb0f5b4', 1, 43936, 3, 48, '2164.28', 0, 0, 1, '31-03-2023 12:00', '2,7', 0, 0.0, 0.0, 0.0, 0.0, 8.0, 1, 1, 0.0, 0.0, 0.0, 0, None, None, 'ООО АСК ОЛИМПСТРОЙ (ИНН: 7703592360)', 0, '[]', 0, 'info@bg.msk.ru', 0, 'B', 1, 3522, 'АПРЕЛЕВКА С2', 'АПРЕЛЕВКА С2', 'АПРЕЛЕВКА С2', 0, 116, 109, 'Московская область', '+7(495)023-11-11', 'aprelevka-s2.ru', 'info@bg.msk.ru', '5030049041', '1055005607183', '503001001', 'Московская область, деревня новоглаголево, улица Водная дом 1 корпус 2 помещение 2-8', 'Московская область,город Наро-Фоминск, деревня Новоглаголево, улица Водная 1к2, помещение 2-8', 627622, 0, 50, 'Васильев Борис Цибенович', None, 4, 'Общество с ограниченной ответственностью', 'ООО', None, 0, 0, 32.0, 16.0, 0.0, 0.0, 48.0, 2.0, 8.0, None, None, 'Сиреневый квартал, дом 4', 1.0, 10.0, None, None, None, None, None, None, None, None, None, None, None, None),\n (199, 33153, 77853, 77, 'д Зверево, д. 59', 3, 3, 23, '2024-09-30', 'Другое', 'Без отделки', 'Нет', 0, 1017.17, '77-001887', 'https://xn--80az8a.xn--d1aqf.xn--p1ai/api/ext/file/a4b815db-2319-48ef-a4be-a08f8530a66d', '19-08-2022 12:08', '55.501', '36.9323', 0, 0, 'Типовой', '04-10-2022 01:30', \"[{'objId': 33153, 'pdId': 77853, 'rpdId': 627622, 'devId': 3522, 'ordNum': 1, 'objRenderPhotoSize': 4022628, 'objRenderPhotoUrl': 'https://xn--80az8a ... (133 characters truncated) ... enFlg': 0, 'objRenderPhotoNm': '59-2.jpg', 'objReadyDesc': 'Строится', 'objBuildTypeShortDesc': 'Жилое', 'knFlg': 1, 'loadDttm': '04-10-2022 01:14'}]\", 0, 'normal', 'https://xn--80az8a.xn--d1aqf.xn--p1ai/api/ext/file/035dd814-9688-4223-954c-a5b3838a0dd1', 1, 43991, 3, 23, '1017.17', 0, 0, 1, '30-09-2024 12:00', '2,7', 0, 0.0, 0.0, 0.0, 0.0, 5.0, 1, 1, 0.0, 0.0, 0.0, 0, None, None, 'ООО АСК ОЛИМПСТРОЙ (ИНН: 7703592360)', 0, '[]', 0, 'info@bg.msk.ru', 0, 'B', 1, 3522, 'АПРЕЛЕВКА С2', 'АПРЕЛЕВКА С2', 'АПРЕЛЕВКА С2', 0, 116, 109, 'Московская область', '+7(495)023-11-11', 'aprelevka-s2.ru', 'info@bg.msk.ru', '5030049041', '1055005607183', '503001001', 'Московская область, деревня новоглаголево, улица Водная дом 1 корпус 2 помещение 2-8', 'Московская область,город Наро-Фоминск, деревня Новоглаголево, улица Водная 1к2, помещение 2-8', 627622, 0, 50, 'Васильев Борис Цибенович', None, 4, 'Общество с ограниченной ответственностью', 'ООО', None, 0, 0, 22.0, 1.0, 0.0, 0.0, 23.0, 1.0, 8.0, None, None, 'Березовый квартал, дом 59', 1.0, 10.0, None, None, None, None, None, None, None, None, None, None, None, None)]"
     },
     "execution_count": 29,
     "metadata": {},
     "output_type": "execute_result"
    }
   ],
   "source": [
    "engine = create_engine('sqlite://', echo=False)\n",
    "\n",
    "S.save_sql(engine)\n",
    "\n",
    "engine.execute(\"SELECT * FROM objects\").fetchall()"
   ],
   "metadata": {
    "collapsed": false
   }
  },
  {
   "cell_type": "code",
   "execution_count": 48,
   "outputs": [],
   "source": [
    "V = Visualizer(OurHouseDetail.df[['floorMax']])"
   ],
   "metadata": {
    "collapsed": false
   }
  },
  {
   "cell_type": "code",
   "execution_count": 49,
   "outputs": [
    {
     "data": {
      "application/vnd.plotly.v1+json": {
       "data": [
        {
         "alignmentgroup": "True",
         "hovertemplate": "variable=%{x}<br>value=%{y}<extra></extra>",
         "legendgroup": "",
         "marker": {
          "color": "#636efa"
         },
         "name": "",
         "notched": false,
         "offsetgroup": "",
         "orientation": "v",
         "showlegend": false,
         "x": [
          "floorMax",
          "floorMax",
          "floorMax",
          "floorMax",
          "floorMax",
          "floorMax",
          "floorMax",
          "floorMax",
          "floorMax",
          "floorMax",
          "floorMax",
          "floorMax",
          "floorMax",
          "floorMax",
          "floorMax",
          "floorMax",
          "floorMax",
          "floorMax",
          "floorMax",
          "floorMax",
          "floorMax",
          "floorMax",
          "floorMax",
          "floorMax",
          "floorMax",
          "floorMax",
          "floorMax",
          "floorMax",
          "floorMax",
          "floorMax",
          "floorMax",
          "floorMax",
          "floorMax",
          "floorMax",
          "floorMax",
          "floorMax",
          "floorMax",
          "floorMax",
          "floorMax",
          "floorMax",
          "floorMax",
          "floorMax",
          "floorMax",
          "floorMax",
          "floorMax",
          "floorMax",
          "floorMax",
          "floorMax",
          "floorMax",
          "floorMax",
          "floorMax",
          "floorMax",
          "floorMax",
          "floorMax",
          "floorMax",
          "floorMax",
          "floorMax",
          "floorMax",
          "floorMax",
          "floorMax",
          "floorMax",
          "floorMax",
          "floorMax",
          "floorMax",
          "floorMax",
          "floorMax",
          "floorMax",
          "floorMax",
          "floorMax",
          "floorMax",
          "floorMax",
          "floorMax",
          "floorMax",
          "floorMax",
          "floorMax",
          "floorMax",
          "floorMax",
          "floorMax",
          "floorMax",
          "floorMax",
          "floorMax",
          "floorMax",
          "floorMax",
          "floorMax",
          "floorMax",
          "floorMax",
          "floorMax",
          "floorMax",
          "floorMax",
          "floorMax",
          "floorMax",
          "floorMax",
          "floorMax",
          "floorMax",
          "floorMax",
          "floorMax",
          "floorMax",
          "floorMax",
          "floorMax",
          "floorMax",
          "floorMax",
          "floorMax",
          "floorMax",
          "floorMax",
          "floorMax",
          "floorMax",
          "floorMax",
          "floorMax",
          "floorMax",
          "floorMax",
          "floorMax",
          "floorMax",
          "floorMax",
          "floorMax",
          "floorMax",
          "floorMax",
          "floorMax",
          "floorMax",
          "floorMax",
          "floorMax",
          "floorMax",
          "floorMax",
          "floorMax",
          "floorMax",
          "floorMax",
          "floorMax",
          "floorMax",
          "floorMax",
          "floorMax",
          "floorMax",
          "floorMax",
          "floorMax",
          "floorMax",
          "floorMax",
          "floorMax",
          "floorMax",
          "floorMax",
          "floorMax",
          "floorMax",
          "floorMax",
          "floorMax",
          "floorMax",
          "floorMax",
          "floorMax",
          "floorMax",
          "floorMax",
          "floorMax",
          "floorMax",
          "floorMax",
          "floorMax",
          "floorMax",
          "floorMax",
          "floorMax",
          "floorMax",
          "floorMax",
          "floorMax",
          "floorMax",
          "floorMax",
          "floorMax",
          "floorMax",
          "floorMax",
          "floorMax",
          "floorMax",
          "floorMax",
          "floorMax",
          "floorMax",
          "floorMax",
          "floorMax",
          "floorMax",
          "floorMax",
          "floorMax",
          "floorMax",
          "floorMax",
          "floorMax",
          "floorMax",
          "floorMax",
          "floorMax",
          "floorMax",
          "floorMax",
          "floorMax",
          "floorMax",
          "floorMax",
          "floorMax",
          "floorMax",
          "floorMax",
          "floorMax",
          "floorMax",
          "floorMax",
          "floorMax",
          "floorMax",
          "floorMax",
          "floorMax",
          "floorMax",
          "floorMax",
          "floorMax",
          "floorMax",
          "floorMax",
          "floorMax",
          "floorMax",
          "floorMax"
         ],
         "x0": " ",
         "xaxis": "x",
         "y": [
          20,
          12,
          1,
          10,
          12,
          10,
          6,
          15,
          16,
          25,
          25,
          25,
          16,
          4,
          4,
          26,
          17,
          17,
          18,
          6,
          6,
          6,
          6,
          14,
          4,
          34,
          17,
          3,
          3,
          3,
          3,
          3,
          3,
          3,
          3,
          3,
          22,
          23,
          27,
          1,
          25,
          5,
          24,
          30,
          24,
          17,
          9,
          9,
          9,
          9,
          9,
          9,
          17,
          14,
          17,
          17,
          2,
          17,
          28,
          14,
          17,
          17,
          9,
          9,
          17,
          14,
          10,
          27,
          7,
          17,
          17,
          2,
          3,
          3,
          3,
          3,
          3,
          3,
          3,
          3,
          3,
          3,
          3,
          3,
          3,
          3,
          3,
          3,
          3,
          3,
          3,
          3,
          3,
          3,
          3,
          3,
          3,
          3,
          3,
          3,
          20,
          12,
          1,
          10,
          12,
          10,
          6,
          15,
          16,
          25,
          25,
          25,
          16,
          4,
          4,
          26,
          17,
          17,
          18,
          6,
          6,
          6,
          6,
          14,
          4,
          34,
          17,
          3,
          3,
          3,
          3,
          3,
          3,
          3,
          3,
          3,
          22,
          23,
          27,
          1,
          25,
          5,
          24,
          30,
          24,
          17,
          9,
          9,
          9,
          9,
          9,
          9,
          17,
          14,
          17,
          17,
          2,
          17,
          28,
          14,
          17,
          17,
          9,
          9,
          14,
          17,
          10,
          27,
          7,
          17,
          17,
          2,
          3,
          3,
          3,
          3,
          3,
          3,
          3,
          3,
          3,
          3,
          3,
          3,
          3,
          3,
          3,
          3,
          3,
          3,
          3,
          3,
          3,
          3,
          3,
          3,
          3,
          3,
          3,
          3
         ],
         "y0": " ",
         "yaxis": "y",
         "type": "box"
        }
       ],
       "layout": {
        "template": {
         "data": {
          "histogram2dcontour": [
           {
            "type": "histogram2dcontour",
            "colorbar": {
             "outlinewidth": 0,
             "ticks": ""
            },
            "colorscale": [
             [
              0.0,
              "#0d0887"
             ],
             [
              0.1111111111111111,
              "#46039f"
             ],
             [
              0.2222222222222222,
              "#7201a8"
             ],
             [
              0.3333333333333333,
              "#9c179e"
             ],
             [
              0.4444444444444444,
              "#bd3786"
             ],
             [
              0.5555555555555556,
              "#d8576b"
             ],
             [
              0.6666666666666666,
              "#ed7953"
             ],
             [
              0.7777777777777778,
              "#fb9f3a"
             ],
             [
              0.8888888888888888,
              "#fdca26"
             ],
             [
              1.0,
              "#f0f921"
             ]
            ]
           }
          ],
          "choropleth": [
           {
            "type": "choropleth",
            "colorbar": {
             "outlinewidth": 0,
             "ticks": ""
            }
           }
          ],
          "histogram2d": [
           {
            "type": "histogram2d",
            "colorbar": {
             "outlinewidth": 0,
             "ticks": ""
            },
            "colorscale": [
             [
              0.0,
              "#0d0887"
             ],
             [
              0.1111111111111111,
              "#46039f"
             ],
             [
              0.2222222222222222,
              "#7201a8"
             ],
             [
              0.3333333333333333,
              "#9c179e"
             ],
             [
              0.4444444444444444,
              "#bd3786"
             ],
             [
              0.5555555555555556,
              "#d8576b"
             ],
             [
              0.6666666666666666,
              "#ed7953"
             ],
             [
              0.7777777777777778,
              "#fb9f3a"
             ],
             [
              0.8888888888888888,
              "#fdca26"
             ],
             [
              1.0,
              "#f0f921"
             ]
            ]
           }
          ],
          "heatmap": [
           {
            "type": "heatmap",
            "colorbar": {
             "outlinewidth": 0,
             "ticks": ""
            },
            "colorscale": [
             [
              0.0,
              "#0d0887"
             ],
             [
              0.1111111111111111,
              "#46039f"
             ],
             [
              0.2222222222222222,
              "#7201a8"
             ],
             [
              0.3333333333333333,
              "#9c179e"
             ],
             [
              0.4444444444444444,
              "#bd3786"
             ],
             [
              0.5555555555555556,
              "#d8576b"
             ],
             [
              0.6666666666666666,
              "#ed7953"
             ],
             [
              0.7777777777777778,
              "#fb9f3a"
             ],
             [
              0.8888888888888888,
              "#fdca26"
             ],
             [
              1.0,
              "#f0f921"
             ]
            ]
           }
          ],
          "heatmapgl": [
           {
            "type": "heatmapgl",
            "colorbar": {
             "outlinewidth": 0,
             "ticks": ""
            },
            "colorscale": [
             [
              0.0,
              "#0d0887"
             ],
             [
              0.1111111111111111,
              "#46039f"
             ],
             [
              0.2222222222222222,
              "#7201a8"
             ],
             [
              0.3333333333333333,
              "#9c179e"
             ],
             [
              0.4444444444444444,
              "#bd3786"
             ],
             [
              0.5555555555555556,
              "#d8576b"
             ],
             [
              0.6666666666666666,
              "#ed7953"
             ],
             [
              0.7777777777777778,
              "#fb9f3a"
             ],
             [
              0.8888888888888888,
              "#fdca26"
             ],
             [
              1.0,
              "#f0f921"
             ]
            ]
           }
          ],
          "contourcarpet": [
           {
            "type": "contourcarpet",
            "colorbar": {
             "outlinewidth": 0,
             "ticks": ""
            }
           }
          ],
          "contour": [
           {
            "type": "contour",
            "colorbar": {
             "outlinewidth": 0,
             "ticks": ""
            },
            "colorscale": [
             [
              0.0,
              "#0d0887"
             ],
             [
              0.1111111111111111,
              "#46039f"
             ],
             [
              0.2222222222222222,
              "#7201a8"
             ],
             [
              0.3333333333333333,
              "#9c179e"
             ],
             [
              0.4444444444444444,
              "#bd3786"
             ],
             [
              0.5555555555555556,
              "#d8576b"
             ],
             [
              0.6666666666666666,
              "#ed7953"
             ],
             [
              0.7777777777777778,
              "#fb9f3a"
             ],
             [
              0.8888888888888888,
              "#fdca26"
             ],
             [
              1.0,
              "#f0f921"
             ]
            ]
           }
          ],
          "surface": [
           {
            "type": "surface",
            "colorbar": {
             "outlinewidth": 0,
             "ticks": ""
            },
            "colorscale": [
             [
              0.0,
              "#0d0887"
             ],
             [
              0.1111111111111111,
              "#46039f"
             ],
             [
              0.2222222222222222,
              "#7201a8"
             ],
             [
              0.3333333333333333,
              "#9c179e"
             ],
             [
              0.4444444444444444,
              "#bd3786"
             ],
             [
              0.5555555555555556,
              "#d8576b"
             ],
             [
              0.6666666666666666,
              "#ed7953"
             ],
             [
              0.7777777777777778,
              "#fb9f3a"
             ],
             [
              0.8888888888888888,
              "#fdca26"
             ],
             [
              1.0,
              "#f0f921"
             ]
            ]
           }
          ],
          "mesh3d": [
           {
            "type": "mesh3d",
            "colorbar": {
             "outlinewidth": 0,
             "ticks": ""
            }
           }
          ],
          "scatter": [
           {
            "fillpattern": {
             "fillmode": "overlay",
             "size": 10,
             "solidity": 0.2
            },
            "type": "scatter"
           }
          ],
          "parcoords": [
           {
            "type": "parcoords",
            "line": {
             "colorbar": {
              "outlinewidth": 0,
              "ticks": ""
             }
            }
           }
          ],
          "scatterpolargl": [
           {
            "type": "scatterpolargl",
            "marker": {
             "colorbar": {
              "outlinewidth": 0,
              "ticks": ""
             }
            }
           }
          ],
          "bar": [
           {
            "error_x": {
             "color": "#2a3f5f"
            },
            "error_y": {
             "color": "#2a3f5f"
            },
            "marker": {
             "line": {
              "color": "#E5ECF6",
              "width": 0.5
             },
             "pattern": {
              "fillmode": "overlay",
              "size": 10,
              "solidity": 0.2
             }
            },
            "type": "bar"
           }
          ],
          "scattergeo": [
           {
            "type": "scattergeo",
            "marker": {
             "colorbar": {
              "outlinewidth": 0,
              "ticks": ""
             }
            }
           }
          ],
          "scatterpolar": [
           {
            "type": "scatterpolar",
            "marker": {
             "colorbar": {
              "outlinewidth": 0,
              "ticks": ""
             }
            }
           }
          ],
          "histogram": [
           {
            "marker": {
             "pattern": {
              "fillmode": "overlay",
              "size": 10,
              "solidity": 0.2
             }
            },
            "type": "histogram"
           }
          ],
          "scattergl": [
           {
            "type": "scattergl",
            "marker": {
             "colorbar": {
              "outlinewidth": 0,
              "ticks": ""
             }
            }
           }
          ],
          "scatter3d": [
           {
            "type": "scatter3d",
            "line": {
             "colorbar": {
              "outlinewidth": 0,
              "ticks": ""
             }
            },
            "marker": {
             "colorbar": {
              "outlinewidth": 0,
              "ticks": ""
             }
            }
           }
          ],
          "scattermapbox": [
           {
            "type": "scattermapbox",
            "marker": {
             "colorbar": {
              "outlinewidth": 0,
              "ticks": ""
             }
            }
           }
          ],
          "scatterternary": [
           {
            "type": "scatterternary",
            "marker": {
             "colorbar": {
              "outlinewidth": 0,
              "ticks": ""
             }
            }
           }
          ],
          "scattercarpet": [
           {
            "type": "scattercarpet",
            "marker": {
             "colorbar": {
              "outlinewidth": 0,
              "ticks": ""
             }
            }
           }
          ],
          "carpet": [
           {
            "aaxis": {
             "endlinecolor": "#2a3f5f",
             "gridcolor": "white",
             "linecolor": "white",
             "minorgridcolor": "white",
             "startlinecolor": "#2a3f5f"
            },
            "baxis": {
             "endlinecolor": "#2a3f5f",
             "gridcolor": "white",
             "linecolor": "white",
             "minorgridcolor": "white",
             "startlinecolor": "#2a3f5f"
            },
            "type": "carpet"
           }
          ],
          "table": [
           {
            "cells": {
             "fill": {
              "color": "#EBF0F8"
             },
             "line": {
              "color": "white"
             }
            },
            "header": {
             "fill": {
              "color": "#C8D4E3"
             },
             "line": {
              "color": "white"
             }
            },
            "type": "table"
           }
          ],
          "barpolar": [
           {
            "marker": {
             "line": {
              "color": "#E5ECF6",
              "width": 0.5
             },
             "pattern": {
              "fillmode": "overlay",
              "size": 10,
              "solidity": 0.2
             }
            },
            "type": "barpolar"
           }
          ],
          "pie": [
           {
            "automargin": true,
            "type": "pie"
           }
          ]
         },
         "layout": {
          "autotypenumbers": "strict",
          "colorway": [
           "#636efa",
           "#EF553B",
           "#00cc96",
           "#ab63fa",
           "#FFA15A",
           "#19d3f3",
           "#FF6692",
           "#B6E880",
           "#FF97FF",
           "#FECB52"
          ],
          "font": {
           "color": "#2a3f5f"
          },
          "hovermode": "closest",
          "hoverlabel": {
           "align": "left"
          },
          "paper_bgcolor": "white",
          "plot_bgcolor": "#E5ECF6",
          "polar": {
           "bgcolor": "#E5ECF6",
           "angularaxis": {
            "gridcolor": "white",
            "linecolor": "white",
            "ticks": ""
           },
           "radialaxis": {
            "gridcolor": "white",
            "linecolor": "white",
            "ticks": ""
           }
          },
          "ternary": {
           "bgcolor": "#E5ECF6",
           "aaxis": {
            "gridcolor": "white",
            "linecolor": "white",
            "ticks": ""
           },
           "baxis": {
            "gridcolor": "white",
            "linecolor": "white",
            "ticks": ""
           },
           "caxis": {
            "gridcolor": "white",
            "linecolor": "white",
            "ticks": ""
           }
          },
          "coloraxis": {
           "colorbar": {
            "outlinewidth": 0,
            "ticks": ""
           }
          },
          "colorscale": {
           "sequential": [
            [
             0.0,
             "#0d0887"
            ],
            [
             0.1111111111111111,
             "#46039f"
            ],
            [
             0.2222222222222222,
             "#7201a8"
            ],
            [
             0.3333333333333333,
             "#9c179e"
            ],
            [
             0.4444444444444444,
             "#bd3786"
            ],
            [
             0.5555555555555556,
             "#d8576b"
            ],
            [
             0.6666666666666666,
             "#ed7953"
            ],
            [
             0.7777777777777778,
             "#fb9f3a"
            ],
            [
             0.8888888888888888,
             "#fdca26"
            ],
            [
             1.0,
             "#f0f921"
            ]
           ],
           "sequentialminus": [
            [
             0.0,
             "#0d0887"
            ],
            [
             0.1111111111111111,
             "#46039f"
            ],
            [
             0.2222222222222222,
             "#7201a8"
            ],
            [
             0.3333333333333333,
             "#9c179e"
            ],
            [
             0.4444444444444444,
             "#bd3786"
            ],
            [
             0.5555555555555556,
             "#d8576b"
            ],
            [
             0.6666666666666666,
             "#ed7953"
            ],
            [
             0.7777777777777778,
             "#fb9f3a"
            ],
            [
             0.8888888888888888,
             "#fdca26"
            ],
            [
             1.0,
             "#f0f921"
            ]
           ],
           "diverging": [
            [
             0,
             "#8e0152"
            ],
            [
             0.1,
             "#c51b7d"
            ],
            [
             0.2,
             "#de77ae"
            ],
            [
             0.3,
             "#f1b6da"
            ],
            [
             0.4,
             "#fde0ef"
            ],
            [
             0.5,
             "#f7f7f7"
            ],
            [
             0.6,
             "#e6f5d0"
            ],
            [
             0.7,
             "#b8e186"
            ],
            [
             0.8,
             "#7fbc41"
            ],
            [
             0.9,
             "#4d9221"
            ],
            [
             1,
             "#276419"
            ]
           ]
          },
          "xaxis": {
           "gridcolor": "white",
           "linecolor": "white",
           "ticks": "",
           "title": {
            "standoff": 15
           },
           "zerolinecolor": "white",
           "automargin": true,
           "zerolinewidth": 2
          },
          "yaxis": {
           "gridcolor": "white",
           "linecolor": "white",
           "ticks": "",
           "title": {
            "standoff": 15
           },
           "zerolinecolor": "white",
           "automargin": true,
           "zerolinewidth": 2
          },
          "scene": {
           "xaxis": {
            "backgroundcolor": "#E5ECF6",
            "gridcolor": "white",
            "linecolor": "white",
            "showbackground": true,
            "ticks": "",
            "zerolinecolor": "white",
            "gridwidth": 2
           },
           "yaxis": {
            "backgroundcolor": "#E5ECF6",
            "gridcolor": "white",
            "linecolor": "white",
            "showbackground": true,
            "ticks": "",
            "zerolinecolor": "white",
            "gridwidth": 2
           },
           "zaxis": {
            "backgroundcolor": "#E5ECF6",
            "gridcolor": "white",
            "linecolor": "white",
            "showbackground": true,
            "ticks": "",
            "zerolinecolor": "white",
            "gridwidth": 2
           }
          },
          "shapedefaults": {
           "line": {
            "color": "#2a3f5f"
           }
          },
          "annotationdefaults": {
           "arrowcolor": "#2a3f5f",
           "arrowhead": 0,
           "arrowwidth": 1
          },
          "geo": {
           "bgcolor": "white",
           "landcolor": "#E5ECF6",
           "subunitcolor": "white",
           "showland": true,
           "showlakes": true,
           "lakecolor": "white"
          },
          "title": {
           "x": 0.05
          },
          "mapbox": {
           "style": "light"
          }
         }
        },
        "xaxis": {
         "anchor": "y",
         "domain": [
          0.0,
          1.0
         ],
         "title": {
          "text": "variable"
         }
        },
        "yaxis": {
         "anchor": "x",
         "domain": [
          0.0,
          1.0
         ],
         "title": {
          "text": "value"
         }
        },
        "legend": {
         "tracegroupgap": 0
        },
        "margin": {
         "t": 60
        },
        "boxmode": "group"
       },
       "config": {
        "plotlyServerURL": "https://plot.ly"
       }
      },
      "text/html": "<div>                            <div id=\"7a4c2820-5664-42d9-b09e-2b68773e629f\" class=\"plotly-graph-div\" style=\"height:525px; width:100%;\"></div>            <script type=\"text/javascript\">                require([\"plotly\"], function(Plotly) {                    window.PLOTLYENV=window.PLOTLYENV || {};                                    if (document.getElementById(\"7a4c2820-5664-42d9-b09e-2b68773e629f\")) {                    Plotly.newPlot(                        \"7a4c2820-5664-42d9-b09e-2b68773e629f\",                        [{\"alignmentgroup\":\"True\",\"hovertemplate\":\"variable=%{x}<br>value=%{y}<extra></extra>\",\"legendgroup\":\"\",\"marker\":{\"color\":\"#636efa\"},\"name\":\"\",\"notched\":false,\"offsetgroup\":\"\",\"orientation\":\"v\",\"showlegend\":false,\"x\":[\"floorMax\",\"floorMax\",\"floorMax\",\"floorMax\",\"floorMax\",\"floorMax\",\"floorMax\",\"floorMax\",\"floorMax\",\"floorMax\",\"floorMax\",\"floorMax\",\"floorMax\",\"floorMax\",\"floorMax\",\"floorMax\",\"floorMax\",\"floorMax\",\"floorMax\",\"floorMax\",\"floorMax\",\"floorMax\",\"floorMax\",\"floorMax\",\"floorMax\",\"floorMax\",\"floorMax\",\"floorMax\",\"floorMax\",\"floorMax\",\"floorMax\",\"floorMax\",\"floorMax\",\"floorMax\",\"floorMax\",\"floorMax\",\"floorMax\",\"floorMax\",\"floorMax\",\"floorMax\",\"floorMax\",\"floorMax\",\"floorMax\",\"floorMax\",\"floorMax\",\"floorMax\",\"floorMax\",\"floorMax\",\"floorMax\",\"floorMax\",\"floorMax\",\"floorMax\",\"floorMax\",\"floorMax\",\"floorMax\",\"floorMax\",\"floorMax\",\"floorMax\",\"floorMax\",\"floorMax\",\"floorMax\",\"floorMax\",\"floorMax\",\"floorMax\",\"floorMax\",\"floorMax\",\"floorMax\",\"floorMax\",\"floorMax\",\"floorMax\",\"floorMax\",\"floorMax\",\"floorMax\",\"floorMax\",\"floorMax\",\"floorMax\",\"floorMax\",\"floorMax\",\"floorMax\",\"floorMax\",\"floorMax\",\"floorMax\",\"floorMax\",\"floorMax\",\"floorMax\",\"floorMax\",\"floorMax\",\"floorMax\",\"floorMax\",\"floorMax\",\"floorMax\",\"floorMax\",\"floorMax\",\"floorMax\",\"floorMax\",\"floorMax\",\"floorMax\",\"floorMax\",\"floorMax\",\"floorMax\",\"floorMax\",\"floorMax\",\"floorMax\",\"floorMax\",\"floorMax\",\"floorMax\",\"floorMax\",\"floorMax\",\"floorMax\",\"floorMax\",\"floorMax\",\"floorMax\",\"floorMax\",\"floorMax\",\"floorMax\",\"floorMax\",\"floorMax\",\"floorMax\",\"floorMax\",\"floorMax\",\"floorMax\",\"floorMax\",\"floorMax\",\"floorMax\",\"floorMax\",\"floorMax\",\"floorMax\",\"floorMax\",\"floorMax\",\"floorMax\",\"floorMax\",\"floorMax\",\"floorMax\",\"floorMax\",\"floorMax\",\"floorMax\",\"floorMax\",\"floorMax\",\"floorMax\",\"floorMax\",\"floorMax\",\"floorMax\",\"floorMax\",\"floorMax\",\"floorMax\",\"floorMax\",\"floorMax\",\"floorMax\",\"floorMax\",\"floorMax\",\"floorMax\",\"floorMax\",\"floorMax\",\"floorMax\",\"floorMax\",\"floorMax\",\"floorMax\",\"floorMax\",\"floorMax\",\"floorMax\",\"floorMax\",\"floorMax\",\"floorMax\",\"floorMax\",\"floorMax\",\"floorMax\",\"floorMax\",\"floorMax\",\"floorMax\",\"floorMax\",\"floorMax\",\"floorMax\",\"floorMax\",\"floorMax\",\"floorMax\",\"floorMax\",\"floorMax\",\"floorMax\",\"floorMax\",\"floorMax\",\"floorMax\",\"floorMax\",\"floorMax\",\"floorMax\",\"floorMax\",\"floorMax\",\"floorMax\",\"floorMax\",\"floorMax\",\"floorMax\",\"floorMax\",\"floorMax\",\"floorMax\",\"floorMax\",\"floorMax\",\"floorMax\",\"floorMax\",\"floorMax\",\"floorMax\",\"floorMax\"],\"x0\":\" \",\"xaxis\":\"x\",\"y\":[20,12,1,10,12,10,6,15,16,25,25,25,16,4,4,26,17,17,18,6,6,6,6,14,4,34,17,3,3,3,3,3,3,3,3,3,22,23,27,1,25,5,24,30,24,17,9,9,9,9,9,9,17,14,17,17,2,17,28,14,17,17,9,9,17,14,10,27,7,17,17,2,3,3,3,3,3,3,3,3,3,3,3,3,3,3,3,3,3,3,3,3,3,3,3,3,3,3,3,3,20,12,1,10,12,10,6,15,16,25,25,25,16,4,4,26,17,17,18,6,6,6,6,14,4,34,17,3,3,3,3,3,3,3,3,3,22,23,27,1,25,5,24,30,24,17,9,9,9,9,9,9,17,14,17,17,2,17,28,14,17,17,9,9,14,17,10,27,7,17,17,2,3,3,3,3,3,3,3,3,3,3,3,3,3,3,3,3,3,3,3,3,3,3,3,3,3,3,3,3],\"y0\":\" \",\"yaxis\":\"y\",\"type\":\"box\"}],                        {\"template\":{\"data\":{\"histogram2dcontour\":[{\"type\":\"histogram2dcontour\",\"colorbar\":{\"outlinewidth\":0,\"ticks\":\"\"},\"colorscale\":[[0.0,\"#0d0887\"],[0.1111111111111111,\"#46039f\"],[0.2222222222222222,\"#7201a8\"],[0.3333333333333333,\"#9c179e\"],[0.4444444444444444,\"#bd3786\"],[0.5555555555555556,\"#d8576b\"],[0.6666666666666666,\"#ed7953\"],[0.7777777777777778,\"#fb9f3a\"],[0.8888888888888888,\"#fdca26\"],[1.0,\"#f0f921\"]]}],\"choropleth\":[{\"type\":\"choropleth\",\"colorbar\":{\"outlinewidth\":0,\"ticks\":\"\"}}],\"histogram2d\":[{\"type\":\"histogram2d\",\"colorbar\":{\"outlinewidth\":0,\"ticks\":\"\"},\"colorscale\":[[0.0,\"#0d0887\"],[0.1111111111111111,\"#46039f\"],[0.2222222222222222,\"#7201a8\"],[0.3333333333333333,\"#9c179e\"],[0.4444444444444444,\"#bd3786\"],[0.5555555555555556,\"#d8576b\"],[0.6666666666666666,\"#ed7953\"],[0.7777777777777778,\"#fb9f3a\"],[0.8888888888888888,\"#fdca26\"],[1.0,\"#f0f921\"]]}],\"heatmap\":[{\"type\":\"heatmap\",\"colorbar\":{\"outlinewidth\":0,\"ticks\":\"\"},\"colorscale\":[[0.0,\"#0d0887\"],[0.1111111111111111,\"#46039f\"],[0.2222222222222222,\"#7201a8\"],[0.3333333333333333,\"#9c179e\"],[0.4444444444444444,\"#bd3786\"],[0.5555555555555556,\"#d8576b\"],[0.6666666666666666,\"#ed7953\"],[0.7777777777777778,\"#fb9f3a\"],[0.8888888888888888,\"#fdca26\"],[1.0,\"#f0f921\"]]}],\"heatmapgl\":[{\"type\":\"heatmapgl\",\"colorbar\":{\"outlinewidth\":0,\"ticks\":\"\"},\"colorscale\":[[0.0,\"#0d0887\"],[0.1111111111111111,\"#46039f\"],[0.2222222222222222,\"#7201a8\"],[0.3333333333333333,\"#9c179e\"],[0.4444444444444444,\"#bd3786\"],[0.5555555555555556,\"#d8576b\"],[0.6666666666666666,\"#ed7953\"],[0.7777777777777778,\"#fb9f3a\"],[0.8888888888888888,\"#fdca26\"],[1.0,\"#f0f921\"]]}],\"contourcarpet\":[{\"type\":\"contourcarpet\",\"colorbar\":{\"outlinewidth\":0,\"ticks\":\"\"}}],\"contour\":[{\"type\":\"contour\",\"colorbar\":{\"outlinewidth\":0,\"ticks\":\"\"},\"colorscale\":[[0.0,\"#0d0887\"],[0.1111111111111111,\"#46039f\"],[0.2222222222222222,\"#7201a8\"],[0.3333333333333333,\"#9c179e\"],[0.4444444444444444,\"#bd3786\"],[0.5555555555555556,\"#d8576b\"],[0.6666666666666666,\"#ed7953\"],[0.7777777777777778,\"#fb9f3a\"],[0.8888888888888888,\"#fdca26\"],[1.0,\"#f0f921\"]]}],\"surface\":[{\"type\":\"surface\",\"colorbar\":{\"outlinewidth\":0,\"ticks\":\"\"},\"colorscale\":[[0.0,\"#0d0887\"],[0.1111111111111111,\"#46039f\"],[0.2222222222222222,\"#7201a8\"],[0.3333333333333333,\"#9c179e\"],[0.4444444444444444,\"#bd3786\"],[0.5555555555555556,\"#d8576b\"],[0.6666666666666666,\"#ed7953\"],[0.7777777777777778,\"#fb9f3a\"],[0.8888888888888888,\"#fdca26\"],[1.0,\"#f0f921\"]]}],\"mesh3d\":[{\"type\":\"mesh3d\",\"colorbar\":{\"outlinewidth\":0,\"ticks\":\"\"}}],\"scatter\":[{\"fillpattern\":{\"fillmode\":\"overlay\",\"size\":10,\"solidity\":0.2},\"type\":\"scatter\"}],\"parcoords\":[{\"type\":\"parcoords\",\"line\":{\"colorbar\":{\"outlinewidth\":0,\"ticks\":\"\"}}}],\"scatterpolargl\":[{\"type\":\"scatterpolargl\",\"marker\":{\"colorbar\":{\"outlinewidth\":0,\"ticks\":\"\"}}}],\"bar\":[{\"error_x\":{\"color\":\"#2a3f5f\"},\"error_y\":{\"color\":\"#2a3f5f\"},\"marker\":{\"line\":{\"color\":\"#E5ECF6\",\"width\":0.5},\"pattern\":{\"fillmode\":\"overlay\",\"size\":10,\"solidity\":0.2}},\"type\":\"bar\"}],\"scattergeo\":[{\"type\":\"scattergeo\",\"marker\":{\"colorbar\":{\"outlinewidth\":0,\"ticks\":\"\"}}}],\"scatterpolar\":[{\"type\":\"scatterpolar\",\"marker\":{\"colorbar\":{\"outlinewidth\":0,\"ticks\":\"\"}}}],\"histogram\":[{\"marker\":{\"pattern\":{\"fillmode\":\"overlay\",\"size\":10,\"solidity\":0.2}},\"type\":\"histogram\"}],\"scattergl\":[{\"type\":\"scattergl\",\"marker\":{\"colorbar\":{\"outlinewidth\":0,\"ticks\":\"\"}}}],\"scatter3d\":[{\"type\":\"scatter3d\",\"line\":{\"colorbar\":{\"outlinewidth\":0,\"ticks\":\"\"}},\"marker\":{\"colorbar\":{\"outlinewidth\":0,\"ticks\":\"\"}}}],\"scattermapbox\":[{\"type\":\"scattermapbox\",\"marker\":{\"colorbar\":{\"outlinewidth\":0,\"ticks\":\"\"}}}],\"scatterternary\":[{\"type\":\"scatterternary\",\"marker\":{\"colorbar\":{\"outlinewidth\":0,\"ticks\":\"\"}}}],\"scattercarpet\":[{\"type\":\"scattercarpet\",\"marker\":{\"colorbar\":{\"outlinewidth\":0,\"ticks\":\"\"}}}],\"carpet\":[{\"aaxis\":{\"endlinecolor\":\"#2a3f5f\",\"gridcolor\":\"white\",\"linecolor\":\"white\",\"minorgridcolor\":\"white\",\"startlinecolor\":\"#2a3f5f\"},\"baxis\":{\"endlinecolor\":\"#2a3f5f\",\"gridcolor\":\"white\",\"linecolor\":\"white\",\"minorgridcolor\":\"white\",\"startlinecolor\":\"#2a3f5f\"},\"type\":\"carpet\"}],\"table\":[{\"cells\":{\"fill\":{\"color\":\"#EBF0F8\"},\"line\":{\"color\":\"white\"}},\"header\":{\"fill\":{\"color\":\"#C8D4E3\"},\"line\":{\"color\":\"white\"}},\"type\":\"table\"}],\"barpolar\":[{\"marker\":{\"line\":{\"color\":\"#E5ECF6\",\"width\":0.5},\"pattern\":{\"fillmode\":\"overlay\",\"size\":10,\"solidity\":0.2}},\"type\":\"barpolar\"}],\"pie\":[{\"automargin\":true,\"type\":\"pie\"}]},\"layout\":{\"autotypenumbers\":\"strict\",\"colorway\":[\"#636efa\",\"#EF553B\",\"#00cc96\",\"#ab63fa\",\"#FFA15A\",\"#19d3f3\",\"#FF6692\",\"#B6E880\",\"#FF97FF\",\"#FECB52\"],\"font\":{\"color\":\"#2a3f5f\"},\"hovermode\":\"closest\",\"hoverlabel\":{\"align\":\"left\"},\"paper_bgcolor\":\"white\",\"plot_bgcolor\":\"#E5ECF6\",\"polar\":{\"bgcolor\":\"#E5ECF6\",\"angularaxis\":{\"gridcolor\":\"white\",\"linecolor\":\"white\",\"ticks\":\"\"},\"radialaxis\":{\"gridcolor\":\"white\",\"linecolor\":\"white\",\"ticks\":\"\"}},\"ternary\":{\"bgcolor\":\"#E5ECF6\",\"aaxis\":{\"gridcolor\":\"white\",\"linecolor\":\"white\",\"ticks\":\"\"},\"baxis\":{\"gridcolor\":\"white\",\"linecolor\":\"white\",\"ticks\":\"\"},\"caxis\":{\"gridcolor\":\"white\",\"linecolor\":\"white\",\"ticks\":\"\"}},\"coloraxis\":{\"colorbar\":{\"outlinewidth\":0,\"ticks\":\"\"}},\"colorscale\":{\"sequential\":[[0.0,\"#0d0887\"],[0.1111111111111111,\"#46039f\"],[0.2222222222222222,\"#7201a8\"],[0.3333333333333333,\"#9c179e\"],[0.4444444444444444,\"#bd3786\"],[0.5555555555555556,\"#d8576b\"],[0.6666666666666666,\"#ed7953\"],[0.7777777777777778,\"#fb9f3a\"],[0.8888888888888888,\"#fdca26\"],[1.0,\"#f0f921\"]],\"sequentialminus\":[[0.0,\"#0d0887\"],[0.1111111111111111,\"#46039f\"],[0.2222222222222222,\"#7201a8\"],[0.3333333333333333,\"#9c179e\"],[0.4444444444444444,\"#bd3786\"],[0.5555555555555556,\"#d8576b\"],[0.6666666666666666,\"#ed7953\"],[0.7777777777777778,\"#fb9f3a\"],[0.8888888888888888,\"#fdca26\"],[1.0,\"#f0f921\"]],\"diverging\":[[0,\"#8e0152\"],[0.1,\"#c51b7d\"],[0.2,\"#de77ae\"],[0.3,\"#f1b6da\"],[0.4,\"#fde0ef\"],[0.5,\"#f7f7f7\"],[0.6,\"#e6f5d0\"],[0.7,\"#b8e186\"],[0.8,\"#7fbc41\"],[0.9,\"#4d9221\"],[1,\"#276419\"]]},\"xaxis\":{\"gridcolor\":\"white\",\"linecolor\":\"white\",\"ticks\":\"\",\"title\":{\"standoff\":15},\"zerolinecolor\":\"white\",\"automargin\":true,\"zerolinewidth\":2},\"yaxis\":{\"gridcolor\":\"white\",\"linecolor\":\"white\",\"ticks\":\"\",\"title\":{\"standoff\":15},\"zerolinecolor\":\"white\",\"automargin\":true,\"zerolinewidth\":2},\"scene\":{\"xaxis\":{\"backgroundcolor\":\"#E5ECF6\",\"gridcolor\":\"white\",\"linecolor\":\"white\",\"showbackground\":true,\"ticks\":\"\",\"zerolinecolor\":\"white\",\"gridwidth\":2},\"yaxis\":{\"backgroundcolor\":\"#E5ECF6\",\"gridcolor\":\"white\",\"linecolor\":\"white\",\"showbackground\":true,\"ticks\":\"\",\"zerolinecolor\":\"white\",\"gridwidth\":2},\"zaxis\":{\"backgroundcolor\":\"#E5ECF6\",\"gridcolor\":\"white\",\"linecolor\":\"white\",\"showbackground\":true,\"ticks\":\"\",\"zerolinecolor\":\"white\",\"gridwidth\":2}},\"shapedefaults\":{\"line\":{\"color\":\"#2a3f5f\"}},\"annotationdefaults\":{\"arrowcolor\":\"#2a3f5f\",\"arrowhead\":0,\"arrowwidth\":1},\"geo\":{\"bgcolor\":\"white\",\"landcolor\":\"#E5ECF6\",\"subunitcolor\":\"white\",\"showland\":true,\"showlakes\":true,\"lakecolor\":\"white\"},\"title\":{\"x\":0.05},\"mapbox\":{\"style\":\"light\"}}},\"xaxis\":{\"anchor\":\"y\",\"domain\":[0.0,1.0],\"title\":{\"text\":\"variable\"}},\"yaxis\":{\"anchor\":\"x\",\"domain\":[0.0,1.0],\"title\":{\"text\":\"value\"}},\"legend\":{\"tracegroupgap\":0},\"margin\":{\"t\":60},\"boxmode\":\"group\"},                        {\"responsive\": true}                    ).then(function(){\n                            \nvar gd = document.getElementById('7a4c2820-5664-42d9-b09e-2b68773e629f');\nvar x = new MutationObserver(function (mutations, observer) {{\n        var display = window.getComputedStyle(gd).display;\n        if (!display || display === 'none') {{\n            console.log([gd, 'removed!']);\n            Plotly.purge(gd);\n            observer.disconnect();\n        }}\n}});\n\n// Listen for the removal of the full notebook cells\nvar notebookContainer = gd.closest('#notebook-container');\nif (notebookContainer) {{\n    x.observe(notebookContainer, {childList: true});\n}}\n\n// Listen for the clearing of the current output cell\nvar outputEl = gd.closest('.output');\nif (outputEl) {{\n    x.observe(outputEl, {childList: true});\n}}\n\n                        })                };                });            </script>        </div>"
     },
     "metadata": {},
     "output_type": "display_data"
    }
   ],
   "source": [
    "V.make_boxplot()"
   ],
   "metadata": {
    "collapsed": false
   }
  },
  {
   "cell_type": "code",
   "execution_count": 42,
   "outputs": [
    {
     "data": {
      "application/vnd.plotly.v1+json": {
       "data": [
        {
         "coloraxis": "coloraxis",
         "hovertemplate": "floorMax=%{x}<br>objPriceAvg=%{y}<br>count=%{z}<extra></extra>",
         "name": "",
         "x": [
          20,
          12,
          1,
          10,
          12,
          10,
          6,
          15,
          16,
          25,
          25,
          25,
          16,
          4,
          4,
          26,
          17,
          17,
          18,
          6,
          6,
          6,
          6,
          14,
          4,
          34,
          17,
          3,
          3,
          3,
          3,
          3,
          3,
          3,
          3,
          3,
          22,
          23,
          27,
          1,
          25,
          5,
          24,
          30,
          24,
          17,
          9,
          9,
          9,
          9,
          9,
          9,
          17,
          14,
          17,
          17,
          2,
          17,
          28,
          14,
          17,
          17,
          9,
          9,
          17,
          14,
          10,
          27,
          7,
          17,
          17,
          2,
          3,
          3,
          3,
          3,
          3,
          3,
          3,
          3,
          3,
          3,
          3,
          3,
          3,
          3,
          3,
          3,
          3,
          3,
          3,
          3,
          3,
          3,
          3,
          3,
          3,
          3,
          3,
          3,
          20,
          12,
          1,
          10,
          12,
          10,
          6,
          15,
          16,
          25,
          25,
          25,
          16,
          4,
          4,
          26,
          17,
          17,
          18,
          6,
          6,
          6,
          6,
          14,
          4,
          34,
          17,
          3,
          3,
          3,
          3,
          3,
          3,
          3,
          3,
          3,
          22,
          23,
          27,
          1,
          25,
          5,
          24,
          30,
          24,
          17,
          9,
          9,
          9,
          9,
          9,
          9,
          17,
          14,
          17,
          17,
          2,
          17,
          28,
          14,
          17,
          17,
          9,
          9,
          14,
          17,
          10,
          27,
          7,
          17,
          17,
          2,
          3,
          3,
          3,
          3,
          3,
          3,
          3,
          3,
          3,
          3,
          3,
          3,
          3,
          3,
          3,
          3,
          3,
          3,
          3,
          3,
          3,
          3,
          3,
          3,
          3,
          3,
          3,
          3
         ],
         "xaxis": "x",
         "xbingroup": "x",
         "y": [
          53109.0,
          45523.0,
          50768.0,
          47886.0,
          55893.0,
          61755.0,
          117136.0,
          203155.0,
          44102.0,
          91456.0,
          99388.0,
          85542.0,
          142498.0,
          75817.0,
          81058.0,
          108093.0,
          61929.0,
          90390.0,
          86340.0,
          58951.0,
          47030.0,
          46167.0,
          47782.0,
          73251.0,
          null,
          207678.0,
          31439.0,
          null,
          null,
          null,
          null,
          null,
          null,
          null,
          null,
          null,
          325203.0,
          231772.0,
          101758.0,
          2961.0,
          112432.0,
          16438.0,
          118637.0,
          null,
          null,
          122180.0,
          125536.0,
          118753.0,
          97507.0,
          121437.0,
          94432.0,
          118242.0,
          44486.0,
          93000.0,
          103559.0,
          110239.0,
          63000.0,
          96699.0,
          54450.0,
          98000.0,
          99651.0,
          103980.0,
          79200.0,
          62651.0,
          93000.0,
          98000.0,
          null,
          46899.0,
          null,
          153138.0,
          51632.0,
          39853.0,
          null,
          null,
          null,
          null,
          null,
          null,
          null,
          null,
          null,
          null,
          null,
          null,
          null,
          null,
          null,
          null,
          null,
          null,
          null,
          null,
          null,
          null,
          null,
          null,
          null,
          null,
          null,
          null,
          53109.0,
          45523.0,
          50768.0,
          47886.0,
          55893.0,
          61755.0,
          117136.0,
          203155.0,
          44102.0,
          91456.0,
          99388.0,
          85542.0,
          142498.0,
          75817.0,
          81058.0,
          108093.0,
          61929.0,
          90390.0,
          86340.0,
          58951.0,
          47030.0,
          46167.0,
          47782.0,
          73251.0,
          null,
          207678.0,
          31439.0,
          null,
          null,
          null,
          null,
          null,
          null,
          null,
          null,
          null,
          325203.0,
          231772.0,
          101758.0,
          2961.0,
          112432.0,
          16438.0,
          118637.0,
          null,
          null,
          122180.0,
          125536.0,
          118753.0,
          97507.0,
          121437.0,
          94432.0,
          118242.0,
          44486.0,
          93000.0,
          110239.0,
          103559.0,
          63000.0,
          96699.0,
          54450.0,
          98000.0,
          99651.0,
          103980.0,
          79200.0,
          62651.0,
          98000.0,
          93000.0,
          null,
          46899.0,
          null,
          153138.0,
          51632.0,
          39853.0,
          null,
          null,
          null,
          null,
          null,
          null,
          null,
          null,
          null,
          null,
          null,
          null,
          null,
          null,
          null,
          null,
          null,
          null,
          null,
          null,
          null,
          null,
          null,
          null,
          null,
          null,
          null,
          null
         ],
         "yaxis": "y",
         "ybingroup": "y",
         "type": "histogram2d"
        },
        {
         "alignmentgroup": "True",
         "bingroup": "x",
         "hovertemplate": "floorMax=%{x}<br>count=%{y}<extra></extra>",
         "legendgroup": "",
         "marker": {
          "color": "#0d0887"
         },
         "name": "",
         "offsetgroup": "",
         "opacity": 0.5,
         "showlegend": false,
         "x": [
          20,
          12,
          1,
          10,
          12,
          10,
          6,
          15,
          16,
          25,
          25,
          25,
          16,
          4,
          4,
          26,
          17,
          17,
          18,
          6,
          6,
          6,
          6,
          14,
          4,
          34,
          17,
          3,
          3,
          3,
          3,
          3,
          3,
          3,
          3,
          3,
          22,
          23,
          27,
          1,
          25,
          5,
          24,
          30,
          24,
          17,
          9,
          9,
          9,
          9,
          9,
          9,
          17,
          14,
          17,
          17,
          2,
          17,
          28,
          14,
          17,
          17,
          9,
          9,
          17,
          14,
          10,
          27,
          7,
          17,
          17,
          2,
          3,
          3,
          3,
          3,
          3,
          3,
          3,
          3,
          3,
          3,
          3,
          3,
          3,
          3,
          3,
          3,
          3,
          3,
          3,
          3,
          3,
          3,
          3,
          3,
          3,
          3,
          3,
          3,
          20,
          12,
          1,
          10,
          12,
          10,
          6,
          15,
          16,
          25,
          25,
          25,
          16,
          4,
          4,
          26,
          17,
          17,
          18,
          6,
          6,
          6,
          6,
          14,
          4,
          34,
          17,
          3,
          3,
          3,
          3,
          3,
          3,
          3,
          3,
          3,
          22,
          23,
          27,
          1,
          25,
          5,
          24,
          30,
          24,
          17,
          9,
          9,
          9,
          9,
          9,
          9,
          17,
          14,
          17,
          17,
          2,
          17,
          28,
          14,
          17,
          17,
          9,
          9,
          14,
          17,
          10,
          27,
          7,
          17,
          17,
          2,
          3,
          3,
          3,
          3,
          3,
          3,
          3,
          3,
          3,
          3,
          3,
          3,
          3,
          3,
          3,
          3,
          3,
          3,
          3,
          3,
          3,
          3,
          3,
          3,
          3,
          3,
          3,
          3
         ],
         "xaxis": "x3",
         "yaxis": "y3",
         "type": "histogram"
        },
        {
         "alignmentgroup": "True",
         "bingroup": "y",
         "hovertemplate": "objPriceAvg=%{y}<br>count=%{x}<extra></extra>",
         "legendgroup": "",
         "marker": {
          "color": "#0d0887"
         },
         "name": "",
         "offsetgroup": "",
         "opacity": 0.5,
         "showlegend": false,
         "xaxis": "x2",
         "y": [
          53109.0,
          45523.0,
          50768.0,
          47886.0,
          55893.0,
          61755.0,
          117136.0,
          203155.0,
          44102.0,
          91456.0,
          99388.0,
          85542.0,
          142498.0,
          75817.0,
          81058.0,
          108093.0,
          61929.0,
          90390.0,
          86340.0,
          58951.0,
          47030.0,
          46167.0,
          47782.0,
          73251.0,
          null,
          207678.0,
          31439.0,
          null,
          null,
          null,
          null,
          null,
          null,
          null,
          null,
          null,
          325203.0,
          231772.0,
          101758.0,
          2961.0,
          112432.0,
          16438.0,
          118637.0,
          null,
          null,
          122180.0,
          125536.0,
          118753.0,
          97507.0,
          121437.0,
          94432.0,
          118242.0,
          44486.0,
          93000.0,
          103559.0,
          110239.0,
          63000.0,
          96699.0,
          54450.0,
          98000.0,
          99651.0,
          103980.0,
          79200.0,
          62651.0,
          93000.0,
          98000.0,
          null,
          46899.0,
          null,
          153138.0,
          51632.0,
          39853.0,
          null,
          null,
          null,
          null,
          null,
          null,
          null,
          null,
          null,
          null,
          null,
          null,
          null,
          null,
          null,
          null,
          null,
          null,
          null,
          null,
          null,
          null,
          null,
          null,
          null,
          null,
          null,
          null,
          53109.0,
          45523.0,
          50768.0,
          47886.0,
          55893.0,
          61755.0,
          117136.0,
          203155.0,
          44102.0,
          91456.0,
          99388.0,
          85542.0,
          142498.0,
          75817.0,
          81058.0,
          108093.0,
          61929.0,
          90390.0,
          86340.0,
          58951.0,
          47030.0,
          46167.0,
          47782.0,
          73251.0,
          null,
          207678.0,
          31439.0,
          null,
          null,
          null,
          null,
          null,
          null,
          null,
          null,
          null,
          325203.0,
          231772.0,
          101758.0,
          2961.0,
          112432.0,
          16438.0,
          118637.0,
          null,
          null,
          122180.0,
          125536.0,
          118753.0,
          97507.0,
          121437.0,
          94432.0,
          118242.0,
          44486.0,
          93000.0,
          110239.0,
          103559.0,
          63000.0,
          96699.0,
          54450.0,
          98000.0,
          99651.0,
          103980.0,
          79200.0,
          62651.0,
          98000.0,
          93000.0,
          null,
          46899.0,
          null,
          153138.0,
          51632.0,
          39853.0,
          null,
          null,
          null,
          null,
          null,
          null,
          null,
          null,
          null,
          null,
          null,
          null,
          null,
          null,
          null,
          null,
          null,
          null,
          null,
          null,
          null,
          null,
          null,
          null,
          null,
          null,
          null,
          null
         ],
         "yaxis": "y2",
         "type": "histogram"
        }
       ],
       "layout": {
        "template": {
         "data": {
          "histogram2dcontour": [
           {
            "type": "histogram2dcontour",
            "colorbar": {
             "outlinewidth": 0,
             "ticks": ""
            },
            "colorscale": [
             [
              0.0,
              "#0d0887"
             ],
             [
              0.1111111111111111,
              "#46039f"
             ],
             [
              0.2222222222222222,
              "#7201a8"
             ],
             [
              0.3333333333333333,
              "#9c179e"
             ],
             [
              0.4444444444444444,
              "#bd3786"
             ],
             [
              0.5555555555555556,
              "#d8576b"
             ],
             [
              0.6666666666666666,
              "#ed7953"
             ],
             [
              0.7777777777777778,
              "#fb9f3a"
             ],
             [
              0.8888888888888888,
              "#fdca26"
             ],
             [
              1.0,
              "#f0f921"
             ]
            ]
           }
          ],
          "choropleth": [
           {
            "type": "choropleth",
            "colorbar": {
             "outlinewidth": 0,
             "ticks": ""
            }
           }
          ],
          "histogram2d": [
           {
            "type": "histogram2d",
            "colorbar": {
             "outlinewidth": 0,
             "ticks": ""
            },
            "colorscale": [
             [
              0.0,
              "#0d0887"
             ],
             [
              0.1111111111111111,
              "#46039f"
             ],
             [
              0.2222222222222222,
              "#7201a8"
             ],
             [
              0.3333333333333333,
              "#9c179e"
             ],
             [
              0.4444444444444444,
              "#bd3786"
             ],
             [
              0.5555555555555556,
              "#d8576b"
             ],
             [
              0.6666666666666666,
              "#ed7953"
             ],
             [
              0.7777777777777778,
              "#fb9f3a"
             ],
             [
              0.8888888888888888,
              "#fdca26"
             ],
             [
              1.0,
              "#f0f921"
             ]
            ]
           }
          ],
          "heatmap": [
           {
            "type": "heatmap",
            "colorbar": {
             "outlinewidth": 0,
             "ticks": ""
            },
            "colorscale": [
             [
              0.0,
              "#0d0887"
             ],
             [
              0.1111111111111111,
              "#46039f"
             ],
             [
              0.2222222222222222,
              "#7201a8"
             ],
             [
              0.3333333333333333,
              "#9c179e"
             ],
             [
              0.4444444444444444,
              "#bd3786"
             ],
             [
              0.5555555555555556,
              "#d8576b"
             ],
             [
              0.6666666666666666,
              "#ed7953"
             ],
             [
              0.7777777777777778,
              "#fb9f3a"
             ],
             [
              0.8888888888888888,
              "#fdca26"
             ],
             [
              1.0,
              "#f0f921"
             ]
            ]
           }
          ],
          "heatmapgl": [
           {
            "type": "heatmapgl",
            "colorbar": {
             "outlinewidth": 0,
             "ticks": ""
            },
            "colorscale": [
             [
              0.0,
              "#0d0887"
             ],
             [
              0.1111111111111111,
              "#46039f"
             ],
             [
              0.2222222222222222,
              "#7201a8"
             ],
             [
              0.3333333333333333,
              "#9c179e"
             ],
             [
              0.4444444444444444,
              "#bd3786"
             ],
             [
              0.5555555555555556,
              "#d8576b"
             ],
             [
              0.6666666666666666,
              "#ed7953"
             ],
             [
              0.7777777777777778,
              "#fb9f3a"
             ],
             [
              0.8888888888888888,
              "#fdca26"
             ],
             [
              1.0,
              "#f0f921"
             ]
            ]
           }
          ],
          "contourcarpet": [
           {
            "type": "contourcarpet",
            "colorbar": {
             "outlinewidth": 0,
             "ticks": ""
            }
           }
          ],
          "contour": [
           {
            "type": "contour",
            "colorbar": {
             "outlinewidth": 0,
             "ticks": ""
            },
            "colorscale": [
             [
              0.0,
              "#0d0887"
             ],
             [
              0.1111111111111111,
              "#46039f"
             ],
             [
              0.2222222222222222,
              "#7201a8"
             ],
             [
              0.3333333333333333,
              "#9c179e"
             ],
             [
              0.4444444444444444,
              "#bd3786"
             ],
             [
              0.5555555555555556,
              "#d8576b"
             ],
             [
              0.6666666666666666,
              "#ed7953"
             ],
             [
              0.7777777777777778,
              "#fb9f3a"
             ],
             [
              0.8888888888888888,
              "#fdca26"
             ],
             [
              1.0,
              "#f0f921"
             ]
            ]
           }
          ],
          "surface": [
           {
            "type": "surface",
            "colorbar": {
             "outlinewidth": 0,
             "ticks": ""
            },
            "colorscale": [
             [
              0.0,
              "#0d0887"
             ],
             [
              0.1111111111111111,
              "#46039f"
             ],
             [
              0.2222222222222222,
              "#7201a8"
             ],
             [
              0.3333333333333333,
              "#9c179e"
             ],
             [
              0.4444444444444444,
              "#bd3786"
             ],
             [
              0.5555555555555556,
              "#d8576b"
             ],
             [
              0.6666666666666666,
              "#ed7953"
             ],
             [
              0.7777777777777778,
              "#fb9f3a"
             ],
             [
              0.8888888888888888,
              "#fdca26"
             ],
             [
              1.0,
              "#f0f921"
             ]
            ]
           }
          ],
          "mesh3d": [
           {
            "type": "mesh3d",
            "colorbar": {
             "outlinewidth": 0,
             "ticks": ""
            }
           }
          ],
          "scatter": [
           {
            "fillpattern": {
             "fillmode": "overlay",
             "size": 10,
             "solidity": 0.2
            },
            "type": "scatter"
           }
          ],
          "parcoords": [
           {
            "type": "parcoords",
            "line": {
             "colorbar": {
              "outlinewidth": 0,
              "ticks": ""
             }
            }
           }
          ],
          "scatterpolargl": [
           {
            "type": "scatterpolargl",
            "marker": {
             "colorbar": {
              "outlinewidth": 0,
              "ticks": ""
             }
            }
           }
          ],
          "bar": [
           {
            "error_x": {
             "color": "#2a3f5f"
            },
            "error_y": {
             "color": "#2a3f5f"
            },
            "marker": {
             "line": {
              "color": "#E5ECF6",
              "width": 0.5
             },
             "pattern": {
              "fillmode": "overlay",
              "size": 10,
              "solidity": 0.2
             }
            },
            "type": "bar"
           }
          ],
          "scattergeo": [
           {
            "type": "scattergeo",
            "marker": {
             "colorbar": {
              "outlinewidth": 0,
              "ticks": ""
             }
            }
           }
          ],
          "scatterpolar": [
           {
            "type": "scatterpolar",
            "marker": {
             "colorbar": {
              "outlinewidth": 0,
              "ticks": ""
             }
            }
           }
          ],
          "histogram": [
           {
            "marker": {
             "pattern": {
              "fillmode": "overlay",
              "size": 10,
              "solidity": 0.2
             }
            },
            "type": "histogram"
           }
          ],
          "scattergl": [
           {
            "type": "scattergl",
            "marker": {
             "colorbar": {
              "outlinewidth": 0,
              "ticks": ""
             }
            }
           }
          ],
          "scatter3d": [
           {
            "type": "scatter3d",
            "line": {
             "colorbar": {
              "outlinewidth": 0,
              "ticks": ""
             }
            },
            "marker": {
             "colorbar": {
              "outlinewidth": 0,
              "ticks": ""
             }
            }
           }
          ],
          "scattermapbox": [
           {
            "type": "scattermapbox",
            "marker": {
             "colorbar": {
              "outlinewidth": 0,
              "ticks": ""
             }
            }
           }
          ],
          "scatterternary": [
           {
            "type": "scatterternary",
            "marker": {
             "colorbar": {
              "outlinewidth": 0,
              "ticks": ""
             }
            }
           }
          ],
          "scattercarpet": [
           {
            "type": "scattercarpet",
            "marker": {
             "colorbar": {
              "outlinewidth": 0,
              "ticks": ""
             }
            }
           }
          ],
          "carpet": [
           {
            "aaxis": {
             "endlinecolor": "#2a3f5f",
             "gridcolor": "white",
             "linecolor": "white",
             "minorgridcolor": "white",
             "startlinecolor": "#2a3f5f"
            },
            "baxis": {
             "endlinecolor": "#2a3f5f",
             "gridcolor": "white",
             "linecolor": "white",
             "minorgridcolor": "white",
             "startlinecolor": "#2a3f5f"
            },
            "type": "carpet"
           }
          ],
          "table": [
           {
            "cells": {
             "fill": {
              "color": "#EBF0F8"
             },
             "line": {
              "color": "white"
             }
            },
            "header": {
             "fill": {
              "color": "#C8D4E3"
             },
             "line": {
              "color": "white"
             }
            },
            "type": "table"
           }
          ],
          "barpolar": [
           {
            "marker": {
             "line": {
              "color": "#E5ECF6",
              "width": 0.5
             },
             "pattern": {
              "fillmode": "overlay",
              "size": 10,
              "solidity": 0.2
             }
            },
            "type": "barpolar"
           }
          ],
          "pie": [
           {
            "automargin": true,
            "type": "pie"
           }
          ]
         },
         "layout": {
          "autotypenumbers": "strict",
          "colorway": [
           "#636efa",
           "#EF553B",
           "#00cc96",
           "#ab63fa",
           "#FFA15A",
           "#19d3f3",
           "#FF6692",
           "#B6E880",
           "#FF97FF",
           "#FECB52"
          ],
          "font": {
           "color": "#2a3f5f"
          },
          "hovermode": "closest",
          "hoverlabel": {
           "align": "left"
          },
          "paper_bgcolor": "white",
          "plot_bgcolor": "#E5ECF6",
          "polar": {
           "bgcolor": "#E5ECF6",
           "angularaxis": {
            "gridcolor": "white",
            "linecolor": "white",
            "ticks": ""
           },
           "radialaxis": {
            "gridcolor": "white",
            "linecolor": "white",
            "ticks": ""
           }
          },
          "ternary": {
           "bgcolor": "#E5ECF6",
           "aaxis": {
            "gridcolor": "white",
            "linecolor": "white",
            "ticks": ""
           },
           "baxis": {
            "gridcolor": "white",
            "linecolor": "white",
            "ticks": ""
           },
           "caxis": {
            "gridcolor": "white",
            "linecolor": "white",
            "ticks": ""
           }
          },
          "coloraxis": {
           "colorbar": {
            "outlinewidth": 0,
            "ticks": ""
           }
          },
          "colorscale": {
           "sequential": [
            [
             0.0,
             "#0d0887"
            ],
            [
             0.1111111111111111,
             "#46039f"
            ],
            [
             0.2222222222222222,
             "#7201a8"
            ],
            [
             0.3333333333333333,
             "#9c179e"
            ],
            [
             0.4444444444444444,
             "#bd3786"
            ],
            [
             0.5555555555555556,
             "#d8576b"
            ],
            [
             0.6666666666666666,
             "#ed7953"
            ],
            [
             0.7777777777777778,
             "#fb9f3a"
            ],
            [
             0.8888888888888888,
             "#fdca26"
            ],
            [
             1.0,
             "#f0f921"
            ]
           ],
           "sequentialminus": [
            [
             0.0,
             "#0d0887"
            ],
            [
             0.1111111111111111,
             "#46039f"
            ],
            [
             0.2222222222222222,
             "#7201a8"
            ],
            [
             0.3333333333333333,
             "#9c179e"
            ],
            [
             0.4444444444444444,
             "#bd3786"
            ],
            [
             0.5555555555555556,
             "#d8576b"
            ],
            [
             0.6666666666666666,
             "#ed7953"
            ],
            [
             0.7777777777777778,
             "#fb9f3a"
            ],
            [
             0.8888888888888888,
             "#fdca26"
            ],
            [
             1.0,
             "#f0f921"
            ]
           ],
           "diverging": [
            [
             0,
             "#8e0152"
            ],
            [
             0.1,
             "#c51b7d"
            ],
            [
             0.2,
             "#de77ae"
            ],
            [
             0.3,
             "#f1b6da"
            ],
            [
             0.4,
             "#fde0ef"
            ],
            [
             0.5,
             "#f7f7f7"
            ],
            [
             0.6,
             "#e6f5d0"
            ],
            [
             0.7,
             "#b8e186"
            ],
            [
             0.8,
             "#7fbc41"
            ],
            [
             0.9,
             "#4d9221"
            ],
            [
             1,
             "#276419"
            ]
           ]
          },
          "xaxis": {
           "gridcolor": "white",
           "linecolor": "white",
           "ticks": "",
           "title": {
            "standoff": 15
           },
           "zerolinecolor": "white",
           "automargin": true,
           "zerolinewidth": 2
          },
          "yaxis": {
           "gridcolor": "white",
           "linecolor": "white",
           "ticks": "",
           "title": {
            "standoff": 15
           },
           "zerolinecolor": "white",
           "automargin": true,
           "zerolinewidth": 2
          },
          "scene": {
           "xaxis": {
            "backgroundcolor": "#E5ECF6",
            "gridcolor": "white",
            "linecolor": "white",
            "showbackground": true,
            "ticks": "",
            "zerolinecolor": "white",
            "gridwidth": 2
           },
           "yaxis": {
            "backgroundcolor": "#E5ECF6",
            "gridcolor": "white",
            "linecolor": "white",
            "showbackground": true,
            "ticks": "",
            "zerolinecolor": "white",
            "gridwidth": 2
           },
           "zaxis": {
            "backgroundcolor": "#E5ECF6",
            "gridcolor": "white",
            "linecolor": "white",
            "showbackground": true,
            "ticks": "",
            "zerolinecolor": "white",
            "gridwidth": 2
           }
          },
          "shapedefaults": {
           "line": {
            "color": "#2a3f5f"
           }
          },
          "annotationdefaults": {
           "arrowcolor": "#2a3f5f",
           "arrowhead": 0,
           "arrowwidth": 1
          },
          "geo": {
           "bgcolor": "white",
           "landcolor": "#E5ECF6",
           "subunitcolor": "white",
           "showland": true,
           "showlakes": true,
           "lakecolor": "white"
          },
          "title": {
           "x": 0.05
          },
          "mapbox": {
           "style": "light"
          }
         }
        },
        "xaxis": {
         "anchor": "y",
         "domain": [
          0.0,
          0.7363
         ],
         "title": {
          "text": "floorMax"
         }
        },
        "yaxis": {
         "anchor": "x",
         "domain": [
          0.0,
          0.7326
         ],
         "title": {
          "text": "objPriceAvg"
         }
        },
        "xaxis2": {
         "anchor": "y2",
         "domain": [
          0.7413,
          1.0
         ],
         "matches": "x2",
         "showticklabels": false,
         "showline": false,
         "ticks": "",
         "showgrid": true
        },
        "yaxis2": {
         "anchor": "x2",
         "domain": [
          0.0,
          0.7326
         ],
         "matches": "y",
         "showticklabels": false,
         "showgrid": true
        },
        "xaxis3": {
         "anchor": "y3",
         "domain": [
          0.0,
          0.7363
         ],
         "matches": "x",
         "showticklabels": false,
         "showgrid": true
        },
        "yaxis3": {
         "anchor": "x3",
         "domain": [
          0.7426,
          1.0
         ],
         "matches": "y3",
         "showticklabels": false,
         "showline": false,
         "ticks": "",
         "showgrid": true
        },
        "xaxis4": {
         "anchor": "y4",
         "domain": [
          0.7413,
          1.0
         ],
         "matches": "x2",
         "showticklabels": false,
         "showgrid": true,
         "showline": false,
         "ticks": ""
        },
        "yaxis4": {
         "anchor": "x4",
         "domain": [
          0.7426,
          1.0
         ],
         "matches": "y3",
         "showticklabels": false,
         "showline": false,
         "ticks": "",
         "showgrid": true
        },
        "coloraxis": {
         "colorbar": {
          "title": {
           "text": "count"
          }
         },
         "colorscale": [
          [
           0.0,
           "#0d0887"
          ],
          [
           0.1111111111111111,
           "#46039f"
          ],
          [
           0.2222222222222222,
           "#7201a8"
          ],
          [
           0.3333333333333333,
           "#9c179e"
          ],
          [
           0.4444444444444444,
           "#bd3786"
          ],
          [
           0.5555555555555556,
           "#d8576b"
          ],
          [
           0.6666666666666666,
           "#ed7953"
          ],
          [
           0.7777777777777778,
           "#fb9f3a"
          ],
          [
           0.8888888888888888,
           "#fdca26"
          ],
          [
           1.0,
           "#f0f921"
          ]
         ]
        },
        "legend": {
         "tracegroupgap": 0
        },
        "margin": {
         "t": 60
        },
        "barmode": "overlay"
       },
       "config": {
        "plotlyServerURL": "https://plot.ly"
       }
      },
      "text/html": "<div>                            <div id=\"bdfcade4-7dbf-4007-aff7-70fc4f00efbb\" class=\"plotly-graph-div\" style=\"height:525px; width:100%;\"></div>            <script type=\"text/javascript\">                require([\"plotly\"], function(Plotly) {                    window.PLOTLYENV=window.PLOTLYENV || {};                                    if (document.getElementById(\"bdfcade4-7dbf-4007-aff7-70fc4f00efbb\")) {                    Plotly.newPlot(                        \"bdfcade4-7dbf-4007-aff7-70fc4f00efbb\",                        [{\"coloraxis\":\"coloraxis\",\"hovertemplate\":\"floorMax=%{x}<br>objPriceAvg=%{y}<br>count=%{z}<extra></extra>\",\"name\":\"\",\"x\":[20,12,1,10,12,10,6,15,16,25,25,25,16,4,4,26,17,17,18,6,6,6,6,14,4,34,17,3,3,3,3,3,3,3,3,3,22,23,27,1,25,5,24,30,24,17,9,9,9,9,9,9,17,14,17,17,2,17,28,14,17,17,9,9,17,14,10,27,7,17,17,2,3,3,3,3,3,3,3,3,3,3,3,3,3,3,3,3,3,3,3,3,3,3,3,3,3,3,3,3,20,12,1,10,12,10,6,15,16,25,25,25,16,4,4,26,17,17,18,6,6,6,6,14,4,34,17,3,3,3,3,3,3,3,3,3,22,23,27,1,25,5,24,30,24,17,9,9,9,9,9,9,17,14,17,17,2,17,28,14,17,17,9,9,14,17,10,27,7,17,17,2,3,3,3,3,3,3,3,3,3,3,3,3,3,3,3,3,3,3,3,3,3,3,3,3,3,3,3,3],\"xaxis\":\"x\",\"xbingroup\":\"x\",\"y\":[53109.0,45523.0,50768.0,47886.0,55893.0,61755.0,117136.0,203155.0,44102.0,91456.0,99388.0,85542.0,142498.0,75817.0,81058.0,108093.0,61929.0,90390.0,86340.0,58951.0,47030.0,46167.0,47782.0,73251.0,null,207678.0,31439.0,null,null,null,null,null,null,null,null,null,325203.0,231772.0,101758.0,2961.0,112432.0,16438.0,118637.0,null,null,122180.0,125536.0,118753.0,97507.0,121437.0,94432.0,118242.0,44486.0,93000.0,103559.0,110239.0,63000.0,96699.0,54450.0,98000.0,99651.0,103980.0,79200.0,62651.0,93000.0,98000.0,null,46899.0,null,153138.0,51632.0,39853.0,null,null,null,null,null,null,null,null,null,null,null,null,null,null,null,null,null,null,null,null,null,null,null,null,null,null,null,null,53109.0,45523.0,50768.0,47886.0,55893.0,61755.0,117136.0,203155.0,44102.0,91456.0,99388.0,85542.0,142498.0,75817.0,81058.0,108093.0,61929.0,90390.0,86340.0,58951.0,47030.0,46167.0,47782.0,73251.0,null,207678.0,31439.0,null,null,null,null,null,null,null,null,null,325203.0,231772.0,101758.0,2961.0,112432.0,16438.0,118637.0,null,null,122180.0,125536.0,118753.0,97507.0,121437.0,94432.0,118242.0,44486.0,93000.0,110239.0,103559.0,63000.0,96699.0,54450.0,98000.0,99651.0,103980.0,79200.0,62651.0,98000.0,93000.0,null,46899.0,null,153138.0,51632.0,39853.0,null,null,null,null,null,null,null,null,null,null,null,null,null,null,null,null,null,null,null,null,null,null,null,null,null,null,null,null],\"yaxis\":\"y\",\"ybingroup\":\"y\",\"type\":\"histogram2d\"},{\"alignmentgroup\":\"True\",\"bingroup\":\"x\",\"hovertemplate\":\"floorMax=%{x}<br>count=%{y}<extra></extra>\",\"legendgroup\":\"\",\"marker\":{\"color\":\"#0d0887\"},\"name\":\"\",\"offsetgroup\":\"\",\"opacity\":0.5,\"showlegend\":false,\"x\":[20,12,1,10,12,10,6,15,16,25,25,25,16,4,4,26,17,17,18,6,6,6,6,14,4,34,17,3,3,3,3,3,3,3,3,3,22,23,27,1,25,5,24,30,24,17,9,9,9,9,9,9,17,14,17,17,2,17,28,14,17,17,9,9,17,14,10,27,7,17,17,2,3,3,3,3,3,3,3,3,3,3,3,3,3,3,3,3,3,3,3,3,3,3,3,3,3,3,3,3,20,12,1,10,12,10,6,15,16,25,25,25,16,4,4,26,17,17,18,6,6,6,6,14,4,34,17,3,3,3,3,3,3,3,3,3,22,23,27,1,25,5,24,30,24,17,9,9,9,9,9,9,17,14,17,17,2,17,28,14,17,17,9,9,14,17,10,27,7,17,17,2,3,3,3,3,3,3,3,3,3,3,3,3,3,3,3,3,3,3,3,3,3,3,3,3,3,3,3,3],\"xaxis\":\"x3\",\"yaxis\":\"y3\",\"type\":\"histogram\"},{\"alignmentgroup\":\"True\",\"bingroup\":\"y\",\"hovertemplate\":\"objPriceAvg=%{y}<br>count=%{x}<extra></extra>\",\"legendgroup\":\"\",\"marker\":{\"color\":\"#0d0887\"},\"name\":\"\",\"offsetgroup\":\"\",\"opacity\":0.5,\"showlegend\":false,\"xaxis\":\"x2\",\"y\":[53109.0,45523.0,50768.0,47886.0,55893.0,61755.0,117136.0,203155.0,44102.0,91456.0,99388.0,85542.0,142498.0,75817.0,81058.0,108093.0,61929.0,90390.0,86340.0,58951.0,47030.0,46167.0,47782.0,73251.0,null,207678.0,31439.0,null,null,null,null,null,null,null,null,null,325203.0,231772.0,101758.0,2961.0,112432.0,16438.0,118637.0,null,null,122180.0,125536.0,118753.0,97507.0,121437.0,94432.0,118242.0,44486.0,93000.0,103559.0,110239.0,63000.0,96699.0,54450.0,98000.0,99651.0,103980.0,79200.0,62651.0,93000.0,98000.0,null,46899.0,null,153138.0,51632.0,39853.0,null,null,null,null,null,null,null,null,null,null,null,null,null,null,null,null,null,null,null,null,null,null,null,null,null,null,null,null,53109.0,45523.0,50768.0,47886.0,55893.0,61755.0,117136.0,203155.0,44102.0,91456.0,99388.0,85542.0,142498.0,75817.0,81058.0,108093.0,61929.0,90390.0,86340.0,58951.0,47030.0,46167.0,47782.0,73251.0,null,207678.0,31439.0,null,null,null,null,null,null,null,null,null,325203.0,231772.0,101758.0,2961.0,112432.0,16438.0,118637.0,null,null,122180.0,125536.0,118753.0,97507.0,121437.0,94432.0,118242.0,44486.0,93000.0,110239.0,103559.0,63000.0,96699.0,54450.0,98000.0,99651.0,103980.0,79200.0,62651.0,98000.0,93000.0,null,46899.0,null,153138.0,51632.0,39853.0,null,null,null,null,null,null,null,null,null,null,null,null,null,null,null,null,null,null,null,null,null,null,null,null,null,null,null,null],\"yaxis\":\"y2\",\"type\":\"histogram\"}],                        {\"template\":{\"data\":{\"histogram2dcontour\":[{\"type\":\"histogram2dcontour\",\"colorbar\":{\"outlinewidth\":0,\"ticks\":\"\"},\"colorscale\":[[0.0,\"#0d0887\"],[0.1111111111111111,\"#46039f\"],[0.2222222222222222,\"#7201a8\"],[0.3333333333333333,\"#9c179e\"],[0.4444444444444444,\"#bd3786\"],[0.5555555555555556,\"#d8576b\"],[0.6666666666666666,\"#ed7953\"],[0.7777777777777778,\"#fb9f3a\"],[0.8888888888888888,\"#fdca26\"],[1.0,\"#f0f921\"]]}],\"choropleth\":[{\"type\":\"choropleth\",\"colorbar\":{\"outlinewidth\":0,\"ticks\":\"\"}}],\"histogram2d\":[{\"type\":\"histogram2d\",\"colorbar\":{\"outlinewidth\":0,\"ticks\":\"\"},\"colorscale\":[[0.0,\"#0d0887\"],[0.1111111111111111,\"#46039f\"],[0.2222222222222222,\"#7201a8\"],[0.3333333333333333,\"#9c179e\"],[0.4444444444444444,\"#bd3786\"],[0.5555555555555556,\"#d8576b\"],[0.6666666666666666,\"#ed7953\"],[0.7777777777777778,\"#fb9f3a\"],[0.8888888888888888,\"#fdca26\"],[1.0,\"#f0f921\"]]}],\"heatmap\":[{\"type\":\"heatmap\",\"colorbar\":{\"outlinewidth\":0,\"ticks\":\"\"},\"colorscale\":[[0.0,\"#0d0887\"],[0.1111111111111111,\"#46039f\"],[0.2222222222222222,\"#7201a8\"],[0.3333333333333333,\"#9c179e\"],[0.4444444444444444,\"#bd3786\"],[0.5555555555555556,\"#d8576b\"],[0.6666666666666666,\"#ed7953\"],[0.7777777777777778,\"#fb9f3a\"],[0.8888888888888888,\"#fdca26\"],[1.0,\"#f0f921\"]]}],\"heatmapgl\":[{\"type\":\"heatmapgl\",\"colorbar\":{\"outlinewidth\":0,\"ticks\":\"\"},\"colorscale\":[[0.0,\"#0d0887\"],[0.1111111111111111,\"#46039f\"],[0.2222222222222222,\"#7201a8\"],[0.3333333333333333,\"#9c179e\"],[0.4444444444444444,\"#bd3786\"],[0.5555555555555556,\"#d8576b\"],[0.6666666666666666,\"#ed7953\"],[0.7777777777777778,\"#fb9f3a\"],[0.8888888888888888,\"#fdca26\"],[1.0,\"#f0f921\"]]}],\"contourcarpet\":[{\"type\":\"contourcarpet\",\"colorbar\":{\"outlinewidth\":0,\"ticks\":\"\"}}],\"contour\":[{\"type\":\"contour\",\"colorbar\":{\"outlinewidth\":0,\"ticks\":\"\"},\"colorscale\":[[0.0,\"#0d0887\"],[0.1111111111111111,\"#46039f\"],[0.2222222222222222,\"#7201a8\"],[0.3333333333333333,\"#9c179e\"],[0.4444444444444444,\"#bd3786\"],[0.5555555555555556,\"#d8576b\"],[0.6666666666666666,\"#ed7953\"],[0.7777777777777778,\"#fb9f3a\"],[0.8888888888888888,\"#fdca26\"],[1.0,\"#f0f921\"]]}],\"surface\":[{\"type\":\"surface\",\"colorbar\":{\"outlinewidth\":0,\"ticks\":\"\"},\"colorscale\":[[0.0,\"#0d0887\"],[0.1111111111111111,\"#46039f\"],[0.2222222222222222,\"#7201a8\"],[0.3333333333333333,\"#9c179e\"],[0.4444444444444444,\"#bd3786\"],[0.5555555555555556,\"#d8576b\"],[0.6666666666666666,\"#ed7953\"],[0.7777777777777778,\"#fb9f3a\"],[0.8888888888888888,\"#fdca26\"],[1.0,\"#f0f921\"]]}],\"mesh3d\":[{\"type\":\"mesh3d\",\"colorbar\":{\"outlinewidth\":0,\"ticks\":\"\"}}],\"scatter\":[{\"fillpattern\":{\"fillmode\":\"overlay\",\"size\":10,\"solidity\":0.2},\"type\":\"scatter\"}],\"parcoords\":[{\"type\":\"parcoords\",\"line\":{\"colorbar\":{\"outlinewidth\":0,\"ticks\":\"\"}}}],\"scatterpolargl\":[{\"type\":\"scatterpolargl\",\"marker\":{\"colorbar\":{\"outlinewidth\":0,\"ticks\":\"\"}}}],\"bar\":[{\"error_x\":{\"color\":\"#2a3f5f\"},\"error_y\":{\"color\":\"#2a3f5f\"},\"marker\":{\"line\":{\"color\":\"#E5ECF6\",\"width\":0.5},\"pattern\":{\"fillmode\":\"overlay\",\"size\":10,\"solidity\":0.2}},\"type\":\"bar\"}],\"scattergeo\":[{\"type\":\"scattergeo\",\"marker\":{\"colorbar\":{\"outlinewidth\":0,\"ticks\":\"\"}}}],\"scatterpolar\":[{\"type\":\"scatterpolar\",\"marker\":{\"colorbar\":{\"outlinewidth\":0,\"ticks\":\"\"}}}],\"histogram\":[{\"marker\":{\"pattern\":{\"fillmode\":\"overlay\",\"size\":10,\"solidity\":0.2}},\"type\":\"histogram\"}],\"scattergl\":[{\"type\":\"scattergl\",\"marker\":{\"colorbar\":{\"outlinewidth\":0,\"ticks\":\"\"}}}],\"scatter3d\":[{\"type\":\"scatter3d\",\"line\":{\"colorbar\":{\"outlinewidth\":0,\"ticks\":\"\"}},\"marker\":{\"colorbar\":{\"outlinewidth\":0,\"ticks\":\"\"}}}],\"scattermapbox\":[{\"type\":\"scattermapbox\",\"marker\":{\"colorbar\":{\"outlinewidth\":0,\"ticks\":\"\"}}}],\"scatterternary\":[{\"type\":\"scatterternary\",\"marker\":{\"colorbar\":{\"outlinewidth\":0,\"ticks\":\"\"}}}],\"scattercarpet\":[{\"type\":\"scattercarpet\",\"marker\":{\"colorbar\":{\"outlinewidth\":0,\"ticks\":\"\"}}}],\"carpet\":[{\"aaxis\":{\"endlinecolor\":\"#2a3f5f\",\"gridcolor\":\"white\",\"linecolor\":\"white\",\"minorgridcolor\":\"white\",\"startlinecolor\":\"#2a3f5f\"},\"baxis\":{\"endlinecolor\":\"#2a3f5f\",\"gridcolor\":\"white\",\"linecolor\":\"white\",\"minorgridcolor\":\"white\",\"startlinecolor\":\"#2a3f5f\"},\"type\":\"carpet\"}],\"table\":[{\"cells\":{\"fill\":{\"color\":\"#EBF0F8\"},\"line\":{\"color\":\"white\"}},\"header\":{\"fill\":{\"color\":\"#C8D4E3\"},\"line\":{\"color\":\"white\"}},\"type\":\"table\"}],\"barpolar\":[{\"marker\":{\"line\":{\"color\":\"#E5ECF6\",\"width\":0.5},\"pattern\":{\"fillmode\":\"overlay\",\"size\":10,\"solidity\":0.2}},\"type\":\"barpolar\"}],\"pie\":[{\"automargin\":true,\"type\":\"pie\"}]},\"layout\":{\"autotypenumbers\":\"strict\",\"colorway\":[\"#636efa\",\"#EF553B\",\"#00cc96\",\"#ab63fa\",\"#FFA15A\",\"#19d3f3\",\"#FF6692\",\"#B6E880\",\"#FF97FF\",\"#FECB52\"],\"font\":{\"color\":\"#2a3f5f\"},\"hovermode\":\"closest\",\"hoverlabel\":{\"align\":\"left\"},\"paper_bgcolor\":\"white\",\"plot_bgcolor\":\"#E5ECF6\",\"polar\":{\"bgcolor\":\"#E5ECF6\",\"angularaxis\":{\"gridcolor\":\"white\",\"linecolor\":\"white\",\"ticks\":\"\"},\"radialaxis\":{\"gridcolor\":\"white\",\"linecolor\":\"white\",\"ticks\":\"\"}},\"ternary\":{\"bgcolor\":\"#E5ECF6\",\"aaxis\":{\"gridcolor\":\"white\",\"linecolor\":\"white\",\"ticks\":\"\"},\"baxis\":{\"gridcolor\":\"white\",\"linecolor\":\"white\",\"ticks\":\"\"},\"caxis\":{\"gridcolor\":\"white\",\"linecolor\":\"white\",\"ticks\":\"\"}},\"coloraxis\":{\"colorbar\":{\"outlinewidth\":0,\"ticks\":\"\"}},\"colorscale\":{\"sequential\":[[0.0,\"#0d0887\"],[0.1111111111111111,\"#46039f\"],[0.2222222222222222,\"#7201a8\"],[0.3333333333333333,\"#9c179e\"],[0.4444444444444444,\"#bd3786\"],[0.5555555555555556,\"#d8576b\"],[0.6666666666666666,\"#ed7953\"],[0.7777777777777778,\"#fb9f3a\"],[0.8888888888888888,\"#fdca26\"],[1.0,\"#f0f921\"]],\"sequentialminus\":[[0.0,\"#0d0887\"],[0.1111111111111111,\"#46039f\"],[0.2222222222222222,\"#7201a8\"],[0.3333333333333333,\"#9c179e\"],[0.4444444444444444,\"#bd3786\"],[0.5555555555555556,\"#d8576b\"],[0.6666666666666666,\"#ed7953\"],[0.7777777777777778,\"#fb9f3a\"],[0.8888888888888888,\"#fdca26\"],[1.0,\"#f0f921\"]],\"diverging\":[[0,\"#8e0152\"],[0.1,\"#c51b7d\"],[0.2,\"#de77ae\"],[0.3,\"#f1b6da\"],[0.4,\"#fde0ef\"],[0.5,\"#f7f7f7\"],[0.6,\"#e6f5d0\"],[0.7,\"#b8e186\"],[0.8,\"#7fbc41\"],[0.9,\"#4d9221\"],[1,\"#276419\"]]},\"xaxis\":{\"gridcolor\":\"white\",\"linecolor\":\"white\",\"ticks\":\"\",\"title\":{\"standoff\":15},\"zerolinecolor\":\"white\",\"automargin\":true,\"zerolinewidth\":2},\"yaxis\":{\"gridcolor\":\"white\",\"linecolor\":\"white\",\"ticks\":\"\",\"title\":{\"standoff\":15},\"zerolinecolor\":\"white\",\"automargin\":true,\"zerolinewidth\":2},\"scene\":{\"xaxis\":{\"backgroundcolor\":\"#E5ECF6\",\"gridcolor\":\"white\",\"linecolor\":\"white\",\"showbackground\":true,\"ticks\":\"\",\"zerolinecolor\":\"white\",\"gridwidth\":2},\"yaxis\":{\"backgroundcolor\":\"#E5ECF6\",\"gridcolor\":\"white\",\"linecolor\":\"white\",\"showbackground\":true,\"ticks\":\"\",\"zerolinecolor\":\"white\",\"gridwidth\":2},\"zaxis\":{\"backgroundcolor\":\"#E5ECF6\",\"gridcolor\":\"white\",\"linecolor\":\"white\",\"showbackground\":true,\"ticks\":\"\",\"zerolinecolor\":\"white\",\"gridwidth\":2}},\"shapedefaults\":{\"line\":{\"color\":\"#2a3f5f\"}},\"annotationdefaults\":{\"arrowcolor\":\"#2a3f5f\",\"arrowhead\":0,\"arrowwidth\":1},\"geo\":{\"bgcolor\":\"white\",\"landcolor\":\"#E5ECF6\",\"subunitcolor\":\"white\",\"showland\":true,\"showlakes\":true,\"lakecolor\":\"white\"},\"title\":{\"x\":0.05},\"mapbox\":{\"style\":\"light\"}}},\"xaxis\":{\"anchor\":\"y\",\"domain\":[0.0,0.7363],\"title\":{\"text\":\"floorMax\"}},\"yaxis\":{\"anchor\":\"x\",\"domain\":[0.0,0.7326],\"title\":{\"text\":\"objPriceAvg\"}},\"xaxis2\":{\"anchor\":\"y2\",\"domain\":[0.7413,1.0],\"matches\":\"x2\",\"showticklabels\":false,\"showline\":false,\"ticks\":\"\",\"showgrid\":true},\"yaxis2\":{\"anchor\":\"x2\",\"domain\":[0.0,0.7326],\"matches\":\"y\",\"showticklabels\":false,\"showgrid\":true},\"xaxis3\":{\"anchor\":\"y3\",\"domain\":[0.0,0.7363],\"matches\":\"x\",\"showticklabels\":false,\"showgrid\":true},\"yaxis3\":{\"anchor\":\"x3\",\"domain\":[0.7426,1.0],\"matches\":\"y3\",\"showticklabels\":false,\"showline\":false,\"ticks\":\"\",\"showgrid\":true},\"xaxis4\":{\"anchor\":\"y4\",\"domain\":[0.7413,1.0],\"matches\":\"x2\",\"showticklabels\":false,\"showgrid\":true,\"showline\":false,\"ticks\":\"\"},\"yaxis4\":{\"anchor\":\"x4\",\"domain\":[0.7426,1.0],\"matches\":\"y3\",\"showticklabels\":false,\"showline\":false,\"ticks\":\"\",\"showgrid\":true},\"coloraxis\":{\"colorbar\":{\"title\":{\"text\":\"count\"}},\"colorscale\":[[0.0,\"#0d0887\"],[0.1111111111111111,\"#46039f\"],[0.2222222222222222,\"#7201a8\"],[0.3333333333333333,\"#9c179e\"],[0.4444444444444444,\"#bd3786\"],[0.5555555555555556,\"#d8576b\"],[0.6666666666666666,\"#ed7953\"],[0.7777777777777778,\"#fb9f3a\"],[0.8888888888888888,\"#fdca26\"],[1.0,\"#f0f921\"]]},\"legend\":{\"tracegroupgap\":0},\"margin\":{\"t\":60},\"barmode\":\"overlay\"},                        {\"responsive\": true}                    ).then(function(){\n                            \nvar gd = document.getElementById('bdfcade4-7dbf-4007-aff7-70fc4f00efbb');\nvar x = new MutationObserver(function (mutations, observer) {{\n        var display = window.getComputedStyle(gd).display;\n        if (!display || display === 'none') {{\n            console.log([gd, 'removed!']);\n            Plotly.purge(gd);\n            observer.disconnect();\n        }}\n}});\n\n// Listen for the removal of the full notebook cells\nvar notebookContainer = gd.closest('#notebook-container');\nif (notebookContainer) {{\n    x.observe(notebookContainer, {childList: true});\n}}\n\n// Listen for the clearing of the current output cell\nvar outputEl = gd.closest('.output');\nif (outputEl) {{\n    x.observe(outputEl, {childList: true});\n}}\n\n                        })                };                });            </script>        </div>"
     },
     "metadata": {},
     "output_type": "display_data"
    }
   ],
   "source": [
    "V1 = Visualizer(OurHouseDetail.df[['floorMax','objPriceAvg']])\n",
    "V1.make_heatmap(name_x=\"floorMax\", name_y=\"objPriceAvg\")"
   ],
   "metadata": {
    "collapsed": false
   }
  },
  {
   "cell_type": "code",
   "execution_count": null,
   "outputs": [],
   "source": [],
   "metadata": {
    "collapsed": false
   }
  }
 ],
 "metadata": {
  "kernelspec": {
   "display_name": "Python 3",
   "language": "python",
   "name": "python3"
  },
  "language_info": {
   "codemirror_mode": {
    "name": "ipython",
    "version": 2
   },
   "file_extension": ".py",
   "mimetype": "text/x-python",
   "name": "python",
   "nbconvert_exporter": "python",
   "pygments_lexer": "ipython2",
   "version": "2.7.6"
  }
 },
 "nbformat": 4,
 "nbformat_minor": 0
}

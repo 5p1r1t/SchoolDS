{
 "cells": [
  {
   "cell_type": "markdown",
   "id": "515a1ab9-aa0a-4640-b649-7e09526760ee",
   "metadata": {},
   "source": [
    "# Задание *\n",
    "* Написать скрипт, который скачивает фотографии всех строящихся объектов с сайта \"наш.дом.рф\""
   ]
  },
  {
   "cell_type": "code",
   "execution_count": 53,
   "id": "7abc5df0-1fcb-4c3f-8213-9039298c7e48",
   "metadata": {},
   "outputs": [],
   "source": [
    "import requests\n",
    "import pandas as pd\n",
    "\n",
    "offset_ = 1\n",
    "limit_ = 5\n",
    "url = f'https://xn--80az8a.xn--d1aqf.xn--p1ai/%D1%81%D0%B5%D1%80%D0%B2%D0%B8%D1%81%D1%8B/api/kn/object?offset={offset_}&limit={limit_}&sortField=devId.devShortCleanNm&sortType=asc&objStatus=0'\n",
    "res = requests.get(url)\n",
    "objects_data = res.json()\n",
    "objects_list = objects_data.get('data').get('list')\n",
    "objids = [x.get('objId') for x in objects_list]\n",
    "object_data = [requests.get(f'https://наш.дом.рф/сервисы/api/object/{x}').json().get('data') for x in objids]\n",
    "df = pd.json_normalize(object_data)"
   ]
  },
  {
   "cell_type": "code",
   "execution_count": 54,
   "id": "4d5e41cc-0db3-49b8-8091-e5555967f19f",
   "metadata": {},
   "outputs": [
    {
     "data": {
      "text/plain": [
       "{'objId': 13383,\n",
       " 'pdId': 28105,\n",
       " 'rpdId': 626936,\n",
       " 'devId': 306,\n",
       " 'ordNum': 1,\n",
       " 'objRenderPhotoSize': 1433738,\n",
       " 'objRenderPhotoUrl': 'https://xn--80az8a.xn--d1aqf.xn--p1ai/api/ext/file/7c1ce108-aa51-45c2-acfa-3091f6bf7e54',\n",
       " 'objRenderPhotoDttm': '12-05-2021 16:56',\n",
       " 'objRenderPhotoHiddenFlg': 0,\n",
       " 'objRenderPhotoNm': 'IMG_20210512_093657.jpg',\n",
       " 'objReadyDesc': 'Строится',\n",
       " 'objBuildTypeShortDesc': 'Жилое',\n",
       " 'knFlg': 1,\n",
       " 'loadDttm': '15-09-2022 01:11'}"
      ]
     },
     "execution_count": 54,
     "metadata": {},
     "output_type": "execute_result"
    }
   ],
   "source": [
    "df.loc[0,'photoRenderDTO'][0]"
   ]
  },
  {
   "cell_type": "code",
   "execution_count": 55,
   "id": "78af11a5-6e06-44e0-85a5-945f90d7883c",
   "metadata": {},
   "outputs": [
    {
     "data": {
      "text/plain": [
       "'https://xn--80az8a.xn--d1aqf.xn--p1ai/api/ext/file/7c1ce108-aa51-45c2-acfa-3091f6bf7e54'"
      ]
     },
     "execution_count": 55,
     "metadata": {},
     "output_type": "execute_result"
    }
   ],
   "source": [
    "df.loc[0,'photoRenderDTO'][0].get('objRenderPhotoUrl')"
   ]
  },
  {
   "cell_type": "code",
   "execution_count": 56,
   "id": "71c2c51b-f7b4-436d-a726-4c4e24f2194f",
   "metadata": {},
   "outputs": [
    {
     "name": "stdout",
     "output_type": "stream",
     "text": [
      "Task1*_photo/13383_1_IMG_20210512_093657.jpg <- done\n",
      "Task1*_photo/13383_2_IMG_20210512_0937271.jpg <- done\n",
      "Task1*_photo/13383_3_IMG_20210512_0938052.jpg <- done\n",
      "Task1*_photo/13383_4_IMG_20210512_0938223.jpg <- done\n",
      "Task1*_photo/13383_5_IMG_20210512_0940044.jpg <- done\n",
      "Task1*_photo/13383_6_IMG_20210512_0940155.jpg <- done\n",
      "Task1*_photo/13383_7_IMG_20210512_0951216.jpg <- done\n",
      "Task1*_photo/13397_1_IMG_20210512_094406.jpg <- done\n",
      "Task1*_photo/13397_2_IMG_20210512_094452.jpg <- done\n",
      "Task1*_photo/13397_3_IMG_20210512_0948551.jpg <- done\n",
      "Task1*_photo/13397_4_IMG_20210512_0949152.jpg <- done\n",
      "Task1*_photo/13399_1_IMG_20210512_095117.jpg <- done\n",
      "Task1*_photo/13398_1_IMG_20210512_093624.jpg <- done\n",
      "Task1*_photo/13398_2_IMG_20210512_0936261.jpg <- done\n",
      "Task1*_photo/13398_3_IMG_8196.JPG <- done\n",
      "Task1*_photo/13398_4_IMG_81971.JPG <- done\n",
      "Task1*_photo/13398_5_IMG_8924.JPG <- done\n",
      "Task1*_photo/13391_1_IMG_6313_2.JPG <- done\n",
      "Task1*_photo/13391_2_IMG_20210512_094028.jpg <- done\n",
      "Task1*_photo/13391_3_IMG_20210512_0941051.jpg <- done\n",
      "Task1*_photo/13391_4_IMG_20210512_0941072.jpg <- done\n",
      "Task1*_photo/13391_5_IMG_20210512_0941263.jpg <- done\n",
      "Task1*_photo/13391_6_IMG_20210512_0941284.jpg <- done\n",
      "Task1*_photo/13391_7_IMG_20210512_0943295.jpg <- done\n",
      "Task1*_photo/13391_8_IMG_20210512_0943396.jpg <- done\n",
      "Task1*_photo/13391_9_IMG_20210512_0943597.jpg <- done\n",
      "Task1*_photo/13391_10_IMG_20210512_0944008.jpg <- done\n",
      "Task1*_photo/13391_11_IMG_20210512_0944249.jpg <- done\n"
     ]
    }
   ],
   "source": [
    "for s in df.loc[:,'photoRenderDTO']:\n",
    "    for x in s:\n",
    "        url = x.get('objRenderPhotoUrl')\n",
    "        objId = str(x.get('objId'))\n",
    "        ordNum = str(x.get('ordNum'))\n",
    "        objRenderPhotoNm = x.get('objRenderPhotoNm')\n",
    "        name = \"Task1*_photo/\"+objId+\"_\"+ordNum+\"_\"+objRenderPhotoNm\n",
    "        try:\n",
    "            urllib.request.urlretrieve(url, name)\n",
    "            print (name + \" <- done\")\n",
    "        except:\n",
    "            print (name + \" <- error\")\n",
    "        \n"
   ]
  },
  {
   "cell_type": "code",
   "execution_count": null,
   "id": "8040eaec-a8fc-429b-8e47-644da8aeb63f",
   "metadata": {},
   "outputs": [],
   "source": []
  }
 ],
 "metadata": {
  "kernelspec": {
   "display_name": "Python 3",
   "language": "python",
   "name": "python3"
  },
  "language_info": {
   "codemirror_mode": {
    "name": "ipython",
    "version": 3
   },
   "file_extension": ".py",
   "mimetype": "text/x-python",
   "name": "python",
   "nbconvert_exporter": "python",
   "pygments_lexer": "ipython3",
   "version": "3.8.8"
  }
 },
 "nbformat": 4,
 "nbformat_minor": 5
}

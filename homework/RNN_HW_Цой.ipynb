{
 "nbformat": 4,
 "nbformat_minor": 0,
 "metadata": {
  "colab": {
   "provenance": []
  },
  "kernelspec": {
   "name": "python3",
   "display_name": "Python 3"
  },
  "language_info": {
   "name": "python"
  },
  "accelerator": "GPU",
  "gpuClass": "standard"
 },
 "cells": [
  {
   "cell_type": "markdown",
   "source": [
    "# ДЗ_13: Нейронные сети. Рекурентные сети"
   ],
   "metadata": {
    "id": "Y88WeYdnm_XF"
   }
  },
  {
   "cell_type": "markdown",
   "source": [
    "## Сравнить LSTM, RNN и GRU на задаче предсказания части речи (качество предсказания, скорость обучения, время инференса модели)"
   ],
   "metadata": {
    "id": "MGd3ZN1nnIyX"
   }
  },
  {
   "cell_type": "code",
   "execution_count": 1,
   "metadata": {
    "id": "in0PyicHhZDG"
   },
   "outputs": [],
   "source": [
    "import datetime\n",
    "\n",
    "import torch\n",
    "import torch.nn as nn\n",
    "from torch.utils.data import Dataset\n",
    "from torch.nn.utils.rnn import pad_sequence\n",
    "from torch.utils.data import DataLoader"
   ]
  },
  {
   "cell_type": "code",
   "source": [
    "data_dir = ''\n",
    "train_lang = 'en'"
   ],
   "metadata": {
    "id": "Os4tVkvmkTIp"
   },
   "execution_count": 8,
   "outputs": []
  },
  {
   "cell_type": "code",
   "source": [
    "class DatasetSeq(Dataset):\n",
    "    def __init__(self, data_dir, train_lang='en'):\n",
    "\t#open file\n",
    "        with open(data_dir + train_lang + '.train', 'r') as f:\n",
    "            train = f.read().split('\\n\\n') #разбиваем на предложения\n",
    "        # delete extra tag markup\n",
    "        train = [x for x in train if not '_ ' in x]\n",
    "\t    #init vocabs of tokens for encoding {<str> token: <int> id}\n",
    "        # формируем словари токенов\n",
    "        self.target_vocab = {'<pad>': 0} # {p: 1, a: 2, r: 3, pu: 4}\n",
    "        self.word_vocab = {'<pad>': 0} # {cat: 1, sat: 2, on: 3, mat: 4, '.': 5}\n",
    "        self.char_vocab = {'<pad>': 0} # {c: 1, a: 2, t: 3, ' ': 4, s: 5}\n",
    "\t    \n",
    "        # Cat sat on mat. -> [1, 2, 3, 4, 5]\n",
    "        # p    a  r  p pu -> [1, 2, 3, 1, 4]\n",
    "        # chars  -> [1, 2, 3, 4, 5, 2, 3, 4]\n",
    "\n",
    "\t    #init encoded sequences lists (processed data)\n",
    "        self.encoded_sequences = []\n",
    "        self.encoded_targets = []\n",
    "        self.encoded_char_sequences = []\n",
    "        # n=1 because first value is padding\n",
    "        n_word = 1\n",
    "        n_target = 1\n",
    "        n_char = 1\n",
    "        for line in train:\n",
    "            sequence = []\n",
    "            target = []\n",
    "            chars = []\n",
    "            for item in line.split('\\n'):\n",
    "                if item != '':\n",
    "                    word, label = item.split(' ')\n",
    "\n",
    "                    if self.word_vocab.get(word) is None:\n",
    "                        self.word_vocab[word] = n_word\n",
    "                        n_word += 1\n",
    "                    if self.target_vocab.get(label) is None:\n",
    "                        self.target_vocab[label] = n_target\n",
    "                        n_target += 1\n",
    "                    for char in word:\n",
    "                        if self.char_vocab.get(char) is None:\n",
    "                            self.char_vocab[char] = n_char\n",
    "                            n_char += 1\n",
    "                    sequence.append(self.word_vocab[word])\n",
    "                    target.append(self.target_vocab[label])\n",
    "                    chars.append([self.char_vocab[char] for char in word])\n",
    "            self.encoded_sequences.append(sequence)\n",
    "            self.encoded_targets.append(target)\n",
    "            self.encoded_char_sequences.append(chars)\n",
    "\n",
    "    def __len__(self):\n",
    "        return len(self.encoded_sequences)\n",
    "\n",
    "    def __getitem__(self, index):\n",
    "        return {\n",
    "            'data': self.encoded_sequences[index], # [1, 2, 3, 4, 6] len=5\n",
    "            'char': self.encoded_char_sequences[index],# [[1,2,3], [4,5], [1,2], [2,6,5,4], []] len=5\n",
    "            'target': self.encoded_targets[index], # [1, 2, 3, 4, 6] len=5\n",
    "        }"
   ],
   "metadata": {
    "id": "SI8UCZuy7hTK"
   },
   "execution_count": 9,
   "outputs": []
  },
  {
   "cell_type": "code",
   "source": [
    "dataset = DatasetSeq(data_dir)"
   ],
   "metadata": {
    "id": "dhJuBtoz7f43"
   },
   "execution_count": 10,
   "outputs": []
  },
  {
   "cell_type": "code",
   "source": [
    "def collate_fn(batch):\n",
    "    data = []\n",
    "    target = []\n",
    "    for item in batch:\n",
    "        data.append(torch.as_tensor(item['data']))\n",
    "        target.append(torch.as_tensor(item['target']))\n",
    "    data = pad_sequence(data, batch_first=True, padding_value=0)\n",
    "    target = pad_sequence(target, batch_first=True, padding_value=0)\n",
    "\n",
    "    return {'data': data, 'target': target}"
   ],
   "metadata": {
    "id": "uPJauY4hAqJ6"
   },
   "execution_count": 11,
   "outputs": []
  },
  {
   "cell_type": "code",
   "source": [
    "class RNNPredictorV2(nn.Module):\n",
    "    def __init__(self, vocab_size, emb_dim, hidden_dim, n_classes, RNN):\n",
    "        super().__init__()\n",
    "        self.word_emb = nn.Embedding(vocab_size, emb_dim)\n",
    "        #TODO try to use other RNN archicetures, f.e. RNN and LSTM\n",
    "        self.word_emb = nn.Embedding(vocab_size, emb_dim)\n",
    "        self.rnn = RNN(emb_dim, hidden_dim, batch_first=True)\n",
    "        self.clf = nn.Linear(hidden_dim, n_classes)\n",
    "        self.do = nn.Dropout(0.1)\n",
    "    \n",
    "    def forward(self, x):\n",
    "        emb = self.word_emb(x) # B x T x Emb_dim\n",
    "        hidden, _ = self.rnn(emb) # B x T x Hid, B x 1 x Hid # hidden всей последовательности и hidden последнего токена\n",
    "        pred = self.clf(self.do(hidden)) # B x T x N_classes\n",
    "\n",
    "        return pred"
   ],
   "metadata": {
    "id": "WBFZc1qY6HsC"
   },
   "execution_count": 12,
   "outputs": []
  },
  {
   "cell_type": "code",
   "source": [
    "#hyper params\n",
    "vocab_size = len(dataset.word_vocab) + 1\n",
    "n_classes = len(dataset.target_vocab) + 1\n",
    "n_chars = len(dataset.char_vocab) + 1\n",
    "#TODO try to use other model parameters\n",
    "emb_dim = 512\n",
    "hidden = 256\n",
    "n_epochs = 3\n",
    "batch_size = 128\n",
    "cuda_device = -1\n",
    "device = f'cuda:{cuda_device}' if cuda_device != -1 else 'cpu'"
   ],
   "metadata": {
    "id": "K_PACmDaH8Z7"
   },
   "execution_count": 17,
   "outputs": []
  },
  {
   "cell_type": "code",
   "source": [
    "def NNtrain (model):\n",
    "    start = datetime.datetime.now()\n",
    "    model.train()\n",
    "    optim = torch.optim.Adam(model.parameters(), lr=0.001)\n",
    "    loss_func = nn.CrossEntropyLoss()\n",
    "    for epoch in range(n_epochs):\n",
    "        dataloader = DataLoader(dataset, \n",
    "                                batch_size, \n",
    "                                shuffle=True, \n",
    "                                collate_fn=collate_fn,\n",
    "                                drop_last = True,\n",
    "                                )\n",
    "        for i, batch in enumerate(dataloader):\n",
    "            optim.zero_grad()\n",
    "\n",
    "            predict = model(batch['data'].to(device))\n",
    "            loss = loss_func(predict.view(-1, n_classes),\n",
    "                            batch['target'].to(device).view(-1), \n",
    "                            )\n",
    "            loss.backward()\n",
    "            optim.step()\n",
    "            #if i % 100 == 0:\n",
    "            #   print(f'epoch: {epoch}, step: {i}, loss: {loss.item()}')\n",
    "        \n",
    "        torch.save(model.state_dict(), f'./rnn_chkpt_{epoch}.pth')\n",
    "    print(f'train time: {datetime.datetime.now()-start}')\n",
    "    print(f'epoch: {epoch}, step: {i}, loss: {loss.item()}')"
   ],
   "metadata": {
    "id": "1nVR_fBtWoRc"
   },
   "execution_count": 18,
   "outputs": []
  },
  {
   "cell_type": "code",
   "source": [
    "def NNinference(model):\n",
    "    start = datetime.datetime.now()\n",
    "    #example\n",
    "    phrase = 'He ran quickly after the red bus and caught it'\n",
    "    words = phrase.split(' ')\n",
    "    tokens = [dataset.word_vocab[w] for w in words]\n",
    "\n",
    "    start = datetime.datetime.now()\n",
    "    with torch.no_grad():\n",
    "        model.eval()\n",
    "        predict = model(torch.tensor(tokens).unsqueeze(0).to(device)) # 1 x T x N_classes\n",
    "        labels = torch.argmax(predict, dim=-1).squeeze().cpu().detach().tolist()\n",
    "        end = datetime.datetime.now() - start\n",
    "\n",
    "    target_labels = list(dataset.target_vocab.keys())\n",
    "    print([target_labels[l] for l in labels])\n",
    "    print(f'inferense time: {datetime.datetime.now()-start}')\n"
   ],
   "metadata": {
    "id": "9CljFAzIMMEW"
   },
   "execution_count": 19,
   "outputs": []
  },
  {
   "cell_type": "markdown",
   "source": [
    "'He ran quickly after the red bus and caught it'"
   ],
   "metadata": {
    "collapsed": false
   }
  },
  {
   "cell_type": "code",
   "source": [
    "for NN in [nn.GRU, nn.LSTM, nn.RNN]:\n",
    "    print(NN)\n",
    "    model = RNNPredictorV2(vocab_size, emb_dim, hidden, n_classes, NN).to(device)\n",
    "    NNtrain(model)   \n",
    "    NNinference(model)\n"
   ],
   "metadata": {
    "id": "a4gX5zVDIZdu",
    "colab": {
     "base_uri": "https://localhost:8080/",
     "height": 540
    },
    "outputId": "4bb138fd-40c4-4d19-c2af-ed63d90c5f45"
   },
   "execution_count": 20,
   "outputs": [
    {
     "name": "stdout",
     "output_type": "stream",
     "text": [
      "<class 'torch.nn.modules.rnn.GRU'>\n",
      "train time: 0:06:31.560606\n",
      "epoch: 2, step: 164, loss: 0.07197506725788116\n",
      "['PRON', 'VERB', 'ADV', 'ADP', 'DET', 'ADJ', 'NOUN', 'CCONJ', 'VERB', 'PRON']\n",
      "inferense time: 0:00:00.015866\n",
      "<class 'torch.nn.modules.rnn.LSTM'>\n",
      "train time: 0:07:51.866777\n",
      "epoch: 2, step: 164, loss: 0.11098306626081467\n",
      "['PRON', 'VERB', 'ADV', 'SCONJ', 'DET', 'ADJ', 'NOUN', 'CCONJ', 'VERB', 'PRON']\n",
      "inferense time: 0:00:00.004960\n",
      "<class 'torch.nn.modules.rnn.RNN'>\n",
      "train time: 0:04:09.242716\n",
      "epoch: 2, step: 164, loss: 0.09951762109994888\n",
      "['PRON', 'VERB', 'ADV', 'ADP', 'DET', 'ADJ', 'NOUN', 'CCONJ', 'VERB', 'PRON']\n",
      "inferense time: 0:00:00.003800\n"
     ]
    }
   ]
  },
  {
   "cell_type": "markdown",
   "source": [
    "Обучал модели на CPU поэтому сделал всего 3 эпохи.\n",
    "По качеству:\n",
    "1. GRU\n",
    "2. RNN\n",
    "3. LSTM\n",
    "\n",
    "По скорости обучения:\n",
    "1. RNN\n",
    "2. GRU\n",
    "3. LSTM\n",
    "\n",
    "По скорости инференса:\n",
    "1. RNN\n",
    "2. LSTM\n",
    "3. GRU\n",
    "\n"
   ],
   "metadata": {
    "collapsed": false
   }
  },
  {
   "cell_type": "code",
   "execution_count": null,
   "outputs": [],
   "source": [],
   "metadata": {
    "collapsed": false
   }
  }
 ]
}

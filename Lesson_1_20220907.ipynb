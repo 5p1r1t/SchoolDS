{
 "cells": [
  {
   "cell_type": "code",
   "execution_count": 1,
   "id": "7f221668-28a5-490b-aa4e-29f02ab6a563",
   "metadata": {},
   "outputs": [
    {
     "name": "stdout",
     "output_type": "stream",
     "text": [
      "Hello World!\n"
     ]
    }
   ],
   "source": [
    "print ('Hello World!')"
   ]
  },
  {
   "cell_type": "code",
   "execution_count": 2,
   "id": "a3d2647f-daf2-4bbe-bf45-5858d5752e3f",
   "metadata": {},
   "outputs": [
    {
     "name": "stdout",
     "output_type": "stream",
     "text": [
      "Сделал изменение!\n"
     ]
    }
   ],
   "source": [
    "print (\"Сделал изменение!\")"
   ]
  },
  {
   "cell_type": "code",
   "execution_count": null,
   "id": "8e048508-755e-4282-a891-2eeeb021aef4",
   "metadata": {},
   "outputs": [],
   "source": []
  }
 ],
 "metadata": {
  "kernelspec": {
   "display_name": "Python 3",
   "language": "python",
   "name": "python3"
  },
  "language_info": {
   "codemirror_mode": {
    "name": "ipython",
    "version": 3
   },
   "file_extension": ".py",
   "mimetype": "text/x-python",
   "name": "python",
   "nbconvert_exporter": "python",
   "pygments_lexer": "ipython3",
   "version": "3.8.8"
  }
 },
 "nbformat": 4,
 "nbformat_minor": 5
}

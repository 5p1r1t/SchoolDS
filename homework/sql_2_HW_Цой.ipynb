{
 "cells": [
  {
   "cell_type": "code",
   "execution_count": 2,
   "metadata": {},
   "outputs": [],
   "source": [
    "import sqlite3\n",
    "import pandas as pd"
   ]
  },
  {
   "cell_type": "code",
   "execution_count": 5,
   "metadata": {},
   "outputs": [],
   "source": [
    "con = sqlite3.connect(\":memory:\")\n",
    "cur = con.cursor()"
   ]
  },
  {
   "cell_type": "markdown",
   "metadata": {},
   "source": [
    "https://www.cs.toronto.edu/~delve/data/boston/bostonDetail.html"
   ]
  },
  {
   "cell_type": "code",
   "execution_count": 6,
   "metadata": {},
   "outputs": [],
   "source": [
    "data = pd.read_csv('boston.csv')"
   ]
  },
  {
   "cell_type": "code",
   "execution_count": 7,
   "metadata": {},
   "outputs": [],
   "source": [
    "data.to_sql(\"boston\", con, index=False, if_exists=\"replace\")"
   ]
  },
  {
   "cell_type": "code",
   "execution_count": 84,
   "metadata": {
    "scrolled": true
   },
   "outputs": [
    {
     "data": {
      "text/plain": "        CRIM    ZN  INDUS  CHAS    NOX     RM   AGE     DIS  RAD    TAX  \\\n0    0.00632  18.0   2.31   0.0  0.538  6.575  65.2  4.0900  1.0  296.0   \n1    0.02731   0.0   7.07   0.0  0.469  6.421  78.9  4.9671  2.0  242.0   \n2    0.02729   0.0   7.07   0.0  0.469  7.185  61.1  4.9671  2.0  242.0   \n3    0.03237   0.0   2.18   0.0  0.458  6.998  45.8  6.0622  3.0  222.0   \n4    0.06905   0.0   2.18   0.0  0.458  7.147  54.2  6.0622  3.0  222.0   \n..       ...   ...    ...   ...    ...    ...   ...     ...  ...    ...   \n501  0.06263   0.0  11.93   0.0  0.573  6.593  69.1  2.4786  1.0  273.0   \n502  0.04527   0.0  11.93   0.0  0.573  6.120  76.7  2.2875  1.0  273.0   \n503  0.06076   0.0  11.93   0.0  0.573  6.976  91.0  2.1675  1.0  273.0   \n504  0.10959   0.0  11.93   0.0  0.573  6.794  89.3  2.3889  1.0  273.0   \n505  0.04741   0.0  11.93   0.0  0.573  6.030  80.8  2.5050  1.0  273.0   \n\n     PTRATIO       B  LSTAT  MEDV  \n0       15.3  396.90   4.98  24.0  \n1       17.8  396.90   9.14  21.6  \n2       17.8  392.83   4.03  34.7  \n3       18.7  394.63   2.94  33.4  \n4       18.7  396.90   5.33  36.2  \n..       ...     ...    ...   ...  \n501     21.0  391.99   9.67  22.4  \n502     21.0  396.90   9.08  20.6  \n503     21.0  396.90   5.64  23.9  \n504     21.0  393.45   6.48  22.0  \n505     21.0  396.90   7.88  11.9  \n\n[506 rows x 14 columns]",
      "text/html": "<div>\n<style scoped>\n    .dataframe tbody tr th:only-of-type {\n        vertical-align: middle;\n    }\n\n    .dataframe tbody tr th {\n        vertical-align: top;\n    }\n\n    .dataframe thead th {\n        text-align: right;\n    }\n</style>\n<table border=\"1\" class=\"dataframe\">\n  <thead>\n    <tr style=\"text-align: right;\">\n      <th></th>\n      <th>CRIM</th>\n      <th>ZN</th>\n      <th>INDUS</th>\n      <th>CHAS</th>\n      <th>NOX</th>\n      <th>RM</th>\n      <th>AGE</th>\n      <th>DIS</th>\n      <th>RAD</th>\n      <th>TAX</th>\n      <th>PTRATIO</th>\n      <th>B</th>\n      <th>LSTAT</th>\n      <th>MEDV</th>\n    </tr>\n  </thead>\n  <tbody>\n    <tr>\n      <th>0</th>\n      <td>0.00632</td>\n      <td>18.0</td>\n      <td>2.31</td>\n      <td>0.0</td>\n      <td>0.538</td>\n      <td>6.575</td>\n      <td>65.2</td>\n      <td>4.0900</td>\n      <td>1.0</td>\n      <td>296.0</td>\n      <td>15.3</td>\n      <td>396.90</td>\n      <td>4.98</td>\n      <td>24.0</td>\n    </tr>\n    <tr>\n      <th>1</th>\n      <td>0.02731</td>\n      <td>0.0</td>\n      <td>7.07</td>\n      <td>0.0</td>\n      <td>0.469</td>\n      <td>6.421</td>\n      <td>78.9</td>\n      <td>4.9671</td>\n      <td>2.0</td>\n      <td>242.0</td>\n      <td>17.8</td>\n      <td>396.90</td>\n      <td>9.14</td>\n      <td>21.6</td>\n    </tr>\n    <tr>\n      <th>2</th>\n      <td>0.02729</td>\n      <td>0.0</td>\n      <td>7.07</td>\n      <td>0.0</td>\n      <td>0.469</td>\n      <td>7.185</td>\n      <td>61.1</td>\n      <td>4.9671</td>\n      <td>2.0</td>\n      <td>242.0</td>\n      <td>17.8</td>\n      <td>392.83</td>\n      <td>4.03</td>\n      <td>34.7</td>\n    </tr>\n    <tr>\n      <th>3</th>\n      <td>0.03237</td>\n      <td>0.0</td>\n      <td>2.18</td>\n      <td>0.0</td>\n      <td>0.458</td>\n      <td>6.998</td>\n      <td>45.8</td>\n      <td>6.0622</td>\n      <td>3.0</td>\n      <td>222.0</td>\n      <td>18.7</td>\n      <td>394.63</td>\n      <td>2.94</td>\n      <td>33.4</td>\n    </tr>\n    <tr>\n      <th>4</th>\n      <td>0.06905</td>\n      <td>0.0</td>\n      <td>2.18</td>\n      <td>0.0</td>\n      <td>0.458</td>\n      <td>7.147</td>\n      <td>54.2</td>\n      <td>6.0622</td>\n      <td>3.0</td>\n      <td>222.0</td>\n      <td>18.7</td>\n      <td>396.90</td>\n      <td>5.33</td>\n      <td>36.2</td>\n    </tr>\n    <tr>\n      <th>...</th>\n      <td>...</td>\n      <td>...</td>\n      <td>...</td>\n      <td>...</td>\n      <td>...</td>\n      <td>...</td>\n      <td>...</td>\n      <td>...</td>\n      <td>...</td>\n      <td>...</td>\n      <td>...</td>\n      <td>...</td>\n      <td>...</td>\n      <td>...</td>\n    </tr>\n    <tr>\n      <th>501</th>\n      <td>0.06263</td>\n      <td>0.0</td>\n      <td>11.93</td>\n      <td>0.0</td>\n      <td>0.573</td>\n      <td>6.593</td>\n      <td>69.1</td>\n      <td>2.4786</td>\n      <td>1.0</td>\n      <td>273.0</td>\n      <td>21.0</td>\n      <td>391.99</td>\n      <td>9.67</td>\n      <td>22.4</td>\n    </tr>\n    <tr>\n      <th>502</th>\n      <td>0.04527</td>\n      <td>0.0</td>\n      <td>11.93</td>\n      <td>0.0</td>\n      <td>0.573</td>\n      <td>6.120</td>\n      <td>76.7</td>\n      <td>2.2875</td>\n      <td>1.0</td>\n      <td>273.0</td>\n      <td>21.0</td>\n      <td>396.90</td>\n      <td>9.08</td>\n      <td>20.6</td>\n    </tr>\n    <tr>\n      <th>503</th>\n      <td>0.06076</td>\n      <td>0.0</td>\n      <td>11.93</td>\n      <td>0.0</td>\n      <td>0.573</td>\n      <td>6.976</td>\n      <td>91.0</td>\n      <td>2.1675</td>\n      <td>1.0</td>\n      <td>273.0</td>\n      <td>21.0</td>\n      <td>396.90</td>\n      <td>5.64</td>\n      <td>23.9</td>\n    </tr>\n    <tr>\n      <th>504</th>\n      <td>0.10959</td>\n      <td>0.0</td>\n      <td>11.93</td>\n      <td>0.0</td>\n      <td>0.573</td>\n      <td>6.794</td>\n      <td>89.3</td>\n      <td>2.3889</td>\n      <td>1.0</td>\n      <td>273.0</td>\n      <td>21.0</td>\n      <td>393.45</td>\n      <td>6.48</td>\n      <td>22.0</td>\n    </tr>\n    <tr>\n      <th>505</th>\n      <td>0.04741</td>\n      <td>0.0</td>\n      <td>11.93</td>\n      <td>0.0</td>\n      <td>0.573</td>\n      <td>6.030</td>\n      <td>80.8</td>\n      <td>2.5050</td>\n      <td>1.0</td>\n      <td>273.0</td>\n      <td>21.0</td>\n      <td>396.90</td>\n      <td>7.88</td>\n      <td>11.9</td>\n    </tr>\n  </tbody>\n</table>\n<p>506 rows × 14 columns</p>\n</div>"
     },
     "execution_count": 84,
     "metadata": {},
     "output_type": "execute_result"
    }
   ],
   "source": [
    "pd.read_sql(\n",
    "    \"\"\"\n",
    "    SELECT * FROM boston\n",
    "    \"\"\",\n",
    "    con,\n",
    ")"
   ]
  },
  {
   "cell_type": "code",
   "execution_count": null,
   "metadata": {},
   "outputs": [],
   "source": []
  },
  {
   "cell_type": "markdown",
   "metadata": {},
   "source": [
    "### Все задания нужно выполнить только с помощью sql"
   ]
  },
  {
   "cell_type": "markdown",
   "metadata": {},
   "source": [
    "1. Выведите количество пустых значений по колонкам CRIM, ZN, INDUS, CHAS, NOX (название колонки, кол-во пустых значений)"
   ]
  },
  {
   "cell_type": "code",
   "execution_count": 41,
   "metadata": {},
   "outputs": [
    {
     "data": {
      "text/plain": "  Показатель  Пустых\n0       CRIM       0\n1         ZN       0\n2      INDUS       0\n3       CHAS       0\n4        NOX       0",
      "text/html": "<div>\n<style scoped>\n    .dataframe tbody tr th:only-of-type {\n        vertical-align: middle;\n    }\n\n    .dataframe tbody tr th {\n        vertical-align: top;\n    }\n\n    .dataframe thead th {\n        text-align: right;\n    }\n</style>\n<table border=\"1\" class=\"dataframe\">\n  <thead>\n    <tr style=\"text-align: right;\">\n      <th></th>\n      <th>Показатель</th>\n      <th>Пустых</th>\n    </tr>\n  </thead>\n  <tbody>\n    <tr>\n      <th>0</th>\n      <td>CRIM</td>\n      <td>0</td>\n    </tr>\n    <tr>\n      <th>1</th>\n      <td>ZN</td>\n      <td>0</td>\n    </tr>\n    <tr>\n      <th>2</th>\n      <td>INDUS</td>\n      <td>0</td>\n    </tr>\n    <tr>\n      <th>3</th>\n      <td>CHAS</td>\n      <td>0</td>\n    </tr>\n    <tr>\n      <th>4</th>\n      <td>NOX</td>\n      <td>0</td>\n    </tr>\n  </tbody>\n</table>\n</div>"
     },
     "execution_count": 41,
     "metadata": {},
     "output_type": "execute_result"
    }
   ],
   "source": [
    "pd.read_sql(\n",
    "    \"\"\"\n",
    "    select 'CRIM' as 'Показатель', count(1) as 'Пустых' from boston where CRIM = \"\"\n",
    "    union all\n",
    "    select 'ZN' as 'Показатель', count(1) from boston where ZN = \"\"\n",
    "    union all\n",
    "    select 'INDUS' as 'Показатель', count(1) from boston where INDUS = \"\"\n",
    "    union all\n",
    "    select 'CHAS' as 'Показатель', count(1) from boston where CHAS = \"\"\n",
    "    union all\n",
    "    select 'NOX' as 'Показатель', count(1) from boston where NOX = \"\"\n",
    "    \"\"\",\n",
    "    con,\n",
    ")"
   ]
  },
  {
   "cell_type": "code",
   "execution_count": 203,
   "outputs": [
    {
     "data": {
      "text/plain": "  Показатель  Пустых\n0       CRIM       0\n1         ZN       0\n2      INDUS       0\n3       CHAS       0\n4        NOX       0",
      "text/html": "<div>\n<style scoped>\n    .dataframe tbody tr th:only-of-type {\n        vertical-align: middle;\n    }\n\n    .dataframe tbody tr th {\n        vertical-align: top;\n    }\n\n    .dataframe thead th {\n        text-align: right;\n    }\n</style>\n<table border=\"1\" class=\"dataframe\">\n  <thead>\n    <tr style=\"text-align: right;\">\n      <th></th>\n      <th>Показатель</th>\n      <th>Пустых</th>\n    </tr>\n  </thead>\n  <tbody>\n    <tr>\n      <th>0</th>\n      <td>CRIM</td>\n      <td>0</td>\n    </tr>\n    <tr>\n      <th>1</th>\n      <td>ZN</td>\n      <td>0</td>\n    </tr>\n    <tr>\n      <th>2</th>\n      <td>INDUS</td>\n      <td>0</td>\n    </tr>\n    <tr>\n      <th>3</th>\n      <td>CHAS</td>\n      <td>0</td>\n    </tr>\n    <tr>\n      <th>4</th>\n      <td>NOX</td>\n      <td>0</td>\n    </tr>\n  </tbody>\n</table>\n</div>"
     },
     "execution_count": 203,
     "metadata": {},
     "output_type": "execute_result"
    }
   ],
   "source": [
    "pd.read_sql(\n",
    "    \"\"\"\n",
    "    select 'CRIM' as 'Показатель', count(1) as 'Пустых' from boston where CRIM is null\n",
    "    union all\n",
    "    select 'ZN' as 'Показатель', count(1) from boston where ZN is null\n",
    "    union all\n",
    "    select 'INDUS' as 'Показатель', count(1) from boston where INDUS is null\n",
    "    union all\n",
    "    select 'CHAS' as 'Показатель', count(1) from boston where CHAS is null\n",
    "    union all\n",
    "    select 'NOX' as 'Показатель', count(1) from boston where NOX is null\n",
    "    \"\"\",\n",
    "    con,\n",
    ")"
   ],
   "metadata": {
    "collapsed": false
   }
  },
  {
   "cell_type": "markdown",
   "metadata": {},
   "source": [
    "2. Выведите количество уникальных значений по колонокам CRIM, ZN, INDUS, CHAS, NOX (название колонки, кол-во уникальных значений)"
   ]
  },
  {
   "cell_type": "code",
   "execution_count": 30,
   "metadata": {},
   "outputs": [
    {
     "data": {
      "text/plain": "  Колонка  Уникальных\n0    CRIM         504\n1      ZN          26\n2   INDUS          76\n3    CHAS           2\n4     NOX          81",
      "text/html": "<div>\n<style scoped>\n    .dataframe tbody tr th:only-of-type {\n        vertical-align: middle;\n    }\n\n    .dataframe tbody tr th {\n        vertical-align: top;\n    }\n\n    .dataframe thead th {\n        text-align: right;\n    }\n</style>\n<table border=\"1\" class=\"dataframe\">\n  <thead>\n    <tr style=\"text-align: right;\">\n      <th></th>\n      <th>Колонка</th>\n      <th>Уникальных</th>\n    </tr>\n  </thead>\n  <tbody>\n    <tr>\n      <th>0</th>\n      <td>CRIM</td>\n      <td>504</td>\n    </tr>\n    <tr>\n      <th>1</th>\n      <td>ZN</td>\n      <td>26</td>\n    </tr>\n    <tr>\n      <th>2</th>\n      <td>INDUS</td>\n      <td>76</td>\n    </tr>\n    <tr>\n      <th>3</th>\n      <td>CHAS</td>\n      <td>2</td>\n    </tr>\n    <tr>\n      <th>4</th>\n      <td>NOX</td>\n      <td>81</td>\n    </tr>\n  </tbody>\n</table>\n</div>"
     },
     "execution_count": 30,
     "metadata": {},
     "output_type": "execute_result"
    }
   ],
   "source": [
    "pd.read_sql(\n",
    "    \"\"\"\n",
    "    select 'CRIM' as 'Колонка', count(1) as 'Уникальных' from (select distinct CRIM from boston)\n",
    "    union all\n",
    "    select 'ZN' as 'Колонка', count(1) from (select distinct ZN from boston)\n",
    "    union all\n",
    "    select 'INDUS' as 'Колонка', count(1) from (select distinct INDUS from boston)\n",
    "    union all\n",
    "    select 'CHAS' as 'Колонка', count(1) from (select distinct CHAS from boston)\n",
    "    union all\n",
    "    select 'NOX' as 'Колонка', count(1) from (select distinct NOX from boston)\n",
    "    \"\"\",\n",
    "    con,\n",
    ")"
   ]
  },
  {
   "cell_type": "code",
   "execution_count": 39,
   "outputs": [
    {
     "data": {
      "text/plain": "  Колонка  Уникальных\n0    CRIM         504\n1      ZN          26\n2   INDUS          76\n3    CHAS           2\n4     NOX          81",
      "text/html": "<div>\n<style scoped>\n    .dataframe tbody tr th:only-of-type {\n        vertical-align: middle;\n    }\n\n    .dataframe tbody tr th {\n        vertical-align: top;\n    }\n\n    .dataframe thead th {\n        text-align: right;\n    }\n</style>\n<table border=\"1\" class=\"dataframe\">\n  <thead>\n    <tr style=\"text-align: right;\">\n      <th></th>\n      <th>Колонка</th>\n      <th>Уникальных</th>\n    </tr>\n  </thead>\n  <tbody>\n    <tr>\n      <th>0</th>\n      <td>CRIM</td>\n      <td>504</td>\n    </tr>\n    <tr>\n      <th>1</th>\n      <td>ZN</td>\n      <td>26</td>\n    </tr>\n    <tr>\n      <th>2</th>\n      <td>INDUS</td>\n      <td>76</td>\n    </tr>\n    <tr>\n      <th>3</th>\n      <td>CHAS</td>\n      <td>2</td>\n    </tr>\n    <tr>\n      <th>4</th>\n      <td>NOX</td>\n      <td>81</td>\n    </tr>\n  </tbody>\n</table>\n</div>"
     },
     "execution_count": 39,
     "metadata": {},
     "output_type": "execute_result"
    }
   ],
   "source": [
    "pd.read_sql(\n",
    "    \"\"\"\n",
    "    select 'CRIM' as 'Колонка', count(distinct CRIM)  as 'Уникальных' from boston\n",
    "    union all\n",
    "    select 'ZN' as 'Колонка', count(distinct ZN)  from boston\n",
    "    union all\n",
    "    select 'INDUS' as 'Колонка', count(distinct INDUS)  from boston\n",
    "    union all\n",
    "    select 'CHAS' as 'Колонка', count(distinct CHAS)  from boston\n",
    "    union all\n",
    "    select 'NOX' as 'Колонка', count(distinct NOX)  from boston\n",
    "\n",
    "    \"\"\",\n",
    "    con,\n",
    ")"
   ],
   "metadata": {
    "collapsed": false
   }
  },
  {
   "cell_type": "markdown",
   "metadata": {},
   "source": [
    "3. Выведите колонки, у которых медиана равна минимальному значению (название колонки) выбирая из CRIM, ZN, INDUS, CHAS, NOX.\n",
    "Напишите какой вывод можно сделать по данным в этих колонках"
   ]
  },
  {
   "cell_type": "code",
   "execution_count": 98,
   "outputs": [
    {
     "data": {
      "text/plain": "         CRIM  row      Min\n0     0.00632    1  0.00632\n1     0.00906    2  0.00632\n2     0.01096    3  0.00632\n3     0.01301    4  0.00632\n4     0.01311    5  0.00632\n..        ...  ...      ...\n501  45.74610  502  0.00632\n502  51.13580  503  0.00632\n503  67.92080  504  0.00632\n504  73.53410  505  0.00632\n505  88.97620  506  0.00632\n\n[506 rows x 3 columns]",
      "text/html": "<div>\n<style scoped>\n    .dataframe tbody tr th:only-of-type {\n        vertical-align: middle;\n    }\n\n    .dataframe tbody tr th {\n        vertical-align: top;\n    }\n\n    .dataframe thead th {\n        text-align: right;\n    }\n</style>\n<table border=\"1\" class=\"dataframe\">\n  <thead>\n    <tr style=\"text-align: right;\">\n      <th></th>\n      <th>CRIM</th>\n      <th>row</th>\n      <th>Min</th>\n    </tr>\n  </thead>\n  <tbody>\n    <tr>\n      <th>0</th>\n      <td>0.00632</td>\n      <td>1</td>\n      <td>0.00632</td>\n    </tr>\n    <tr>\n      <th>1</th>\n      <td>0.00906</td>\n      <td>2</td>\n      <td>0.00632</td>\n    </tr>\n    <tr>\n      <th>2</th>\n      <td>0.01096</td>\n      <td>3</td>\n      <td>0.00632</td>\n    </tr>\n    <tr>\n      <th>3</th>\n      <td>0.01301</td>\n      <td>4</td>\n      <td>0.00632</td>\n    </tr>\n    <tr>\n      <th>4</th>\n      <td>0.01311</td>\n      <td>5</td>\n      <td>0.00632</td>\n    </tr>\n    <tr>\n      <th>...</th>\n      <td>...</td>\n      <td>...</td>\n      <td>...</td>\n    </tr>\n    <tr>\n      <th>501</th>\n      <td>45.74610</td>\n      <td>502</td>\n      <td>0.00632</td>\n    </tr>\n    <tr>\n      <th>502</th>\n      <td>51.13580</td>\n      <td>503</td>\n      <td>0.00632</td>\n    </tr>\n    <tr>\n      <th>503</th>\n      <td>67.92080</td>\n      <td>504</td>\n      <td>0.00632</td>\n    </tr>\n    <tr>\n      <th>504</th>\n      <td>73.53410</td>\n      <td>505</td>\n      <td>0.00632</td>\n    </tr>\n    <tr>\n      <th>505</th>\n      <td>88.97620</td>\n      <td>506</td>\n      <td>0.00632</td>\n    </tr>\n  </tbody>\n</table>\n<p>506 rows × 3 columns</p>\n</div>"
     },
     "execution_count": 98,
     "metadata": {},
     "output_type": "execute_result"
    }
   ],
   "source": [
    "pd.read_sql(\n",
    "    \"\"\"\n",
    "    SELECT CRIM, row_number() OVER (ORDER BY CRIM) as 'row', MIN(CRIM) OVER () as 'Min' FROM boston\n",
    "    \"\"\",\n",
    "    con,\n",
    ")"
   ],
   "metadata": {
    "collapsed": false
   }
  },
  {
   "cell_type": "code",
   "execution_count": 113,
   "outputs": [
    {
     "data": {
      "text/plain": "  Колонка  Медиана  Минимальное\n0    CRIM  0.25651      0.00632\n1      ZN  0.00000      0.00000\n2   INDUS  9.69000      0.46000\n3    CHAS  0.00000      0.00000\n4     NOX  0.53800      0.38500",
      "text/html": "<div>\n<style scoped>\n    .dataframe tbody tr th:only-of-type {\n        vertical-align: middle;\n    }\n\n    .dataframe tbody tr th {\n        vertical-align: top;\n    }\n\n    .dataframe thead th {\n        text-align: right;\n    }\n</style>\n<table border=\"1\" class=\"dataframe\">\n  <thead>\n    <tr style=\"text-align: right;\">\n      <th></th>\n      <th>Колонка</th>\n      <th>Медиана</th>\n      <th>Минимальное</th>\n    </tr>\n  </thead>\n  <tbody>\n    <tr>\n      <th>0</th>\n      <td>CRIM</td>\n      <td>0.25651</td>\n      <td>0.00632</td>\n    </tr>\n    <tr>\n      <th>1</th>\n      <td>ZN</td>\n      <td>0.00000</td>\n      <td>0.00000</td>\n    </tr>\n    <tr>\n      <th>2</th>\n      <td>INDUS</td>\n      <td>9.69000</td>\n      <td>0.46000</td>\n    </tr>\n    <tr>\n      <th>3</th>\n      <td>CHAS</td>\n      <td>0.00000</td>\n      <td>0.00000</td>\n    </tr>\n    <tr>\n      <th>4</th>\n      <td>NOX</td>\n      <td>0.53800</td>\n      <td>0.38500</td>\n    </tr>\n  </tbody>\n</table>\n</div>"
     },
     "execution_count": 113,
     "metadata": {},
     "output_type": "execute_result"
    }
   ],
   "source": [
    "pd.read_sql(\n",
    "    \"\"\"\n",
    "    WITH\n",
    "    --Т.к. кол-во строк четное медиана = ср арифметическому двух центральных значений\n",
    "    --Найдем номера этих значений N1, N2 = N1 + 1\n",
    "    N AS (\n",
    "        SELECT COUNT(1) / 2 AS 'N1' FROM boston\n",
    "    ),\n",
    "    --Зная номера строк найдем медиану. Также сразу посчитаем минимальное значение\n",
    "    CRIM AS (\n",
    "        SELECT AVG(CRIM) AS 'MED', MIN FROM (\n",
    "            SELECT CRIM, row_number() OVER (ORDER BY CRIM) as 'row', MIN(CRIM) OVER () as 'MIN' FROM boston\n",
    "        ), N\n",
    "        WHERE row = N.N1 OR row = (N.N1 + 1)\n",
    "    ),\n",
    "    ZN AS (\n",
    "        SELECT AVG(ZN) AS 'MED', MIN FROM (\n",
    "            SELECT ZN, row_number() OVER (ORDER BY ZN) as 'row', MIN(ZN) OVER () as 'MIN' FROM boston\n",
    "        ), N\n",
    "        WHERE row = N.N1 OR row = (N.N1 + 1)\n",
    "    ),\n",
    "    INDUS AS (\n",
    "        SELECT AVG(INDUS) AS 'MED', MIN FROM (\n",
    "            SELECT INDUS, row_number() OVER (ORDER BY INDUS) as 'row', MIN(INDUS) OVER () as 'MIN' FROM boston\n",
    "        ), N\n",
    "        WHERE row = N.N1 OR row = (N.N1 + 1)\n",
    "    ),\n",
    "    CHAS AS (\n",
    "        SELECT AVG(CHAS) AS 'MED', MIN FROM (\n",
    "            SELECT CHAS, row_number() OVER (ORDER BY CHAS) as 'row', MIN(CHAS) OVER () as 'MIN' FROM boston\n",
    "        ), N\n",
    "        WHERE row = N.N1 OR row = (N.N1 + 1)\n",
    "    ),\n",
    "    NOX AS (\n",
    "        SELECT AVG(NOX) AS 'MED', MIN FROM (\n",
    "            SELECT NOX, row_number() OVER (ORDER BY NOX) as 'row', MIN(NOX) OVER () as 'MIN' FROM boston\n",
    "        ), N\n",
    "        WHERE row = N.N1 OR row = (N.N1 + 1)\n",
    "    )\n",
    "    SELECT 'CRIM' AS 'Колонка', CRIM.MED AS 'Медиана', CRIM.MIN AS 'Минимальное' FROM CRIM\n",
    "    UNION ALL\n",
    "    SELECT 'ZN', ZN.MED, ZN.MIN FROM ZN\n",
    "    UNION ALL\n",
    "    SELECT 'INDUS', INDUS.MED, INDUS.MIN FROM INDUS\n",
    "    UNION ALL\n",
    "    SELECT 'CHAS', CHAS.MED, CHAS.MIN FROM CHAS\n",
    "    UNION ALL\n",
    "    SELECT 'NOX', NOX.MED, NOX.MIN FROM NOX\n",
    "\n",
    "\n",
    "    \"\"\",\n",
    "    con,\n",
    ")"
   ],
   "metadata": {
    "collapsed": false
   }
  },
  {
   "cell_type": "markdown",
   "source": [
    "Вывод: в колонках ZN и CHAS больше половины значений нулевые.\n",
    "Для ZN это означает, что большая часть жилой земли не зонирована на участки площадью более 25 000 кв. футов.\n",
    "Для CHAS 0 означает, что большинство жилья не граничит с реками"
   ],
   "metadata": {
    "collapsed": false
   }
  },
  {
   "cell_type": "markdown",
   "metadata": {},
   "source": [
    "4. Выведите разницу между среднем количеством комнат(RM) в домах с самой дорогой стоимостью(MEDV) и 25 самыми дешевыми домами. \n",
    "Аналогично по 50, 100, 200, 300 самыми дешевыми домами. (кол-во домов(25,50,100,200,300), среднее кол-во комнат в них, среднее кол-во комнат в самых дорогих, разница).\n",
    "Напишите влияет ли кол-во комнат на стоимость и как сильно."
   ]
  },
  {
   "cell_type": "code",
   "execution_count": 143,
   "metadata": {},
   "outputs": [
    {
     "data": {
      "text/plain": "   кол-во домов  кол-во комнат в дешевых  кол-во комнат в дорогих   разница\n0            25                 5.747840                 7.637320  1.889480\n1            50                 5.753240                 7.487060  1.733820\n2           100                 5.887120                 7.198760  1.311640\n3           200                 5.911705                 6.758680  0.846975\n4           300                 5.972227                 6.539007  0.566780",
      "text/html": "<div>\n<style scoped>\n    .dataframe tbody tr th:only-of-type {\n        vertical-align: middle;\n    }\n\n    .dataframe tbody tr th {\n        vertical-align: top;\n    }\n\n    .dataframe thead th {\n        text-align: right;\n    }\n</style>\n<table border=\"1\" class=\"dataframe\">\n  <thead>\n    <tr style=\"text-align: right;\">\n      <th></th>\n      <th>кол-во домов</th>\n      <th>кол-во комнат в дешевых</th>\n      <th>кол-во комнат в дорогих</th>\n      <th>разница</th>\n    </tr>\n  </thead>\n  <tbody>\n    <tr>\n      <th>0</th>\n      <td>25</td>\n      <td>5.747840</td>\n      <td>7.637320</td>\n      <td>1.889480</td>\n    </tr>\n    <tr>\n      <th>1</th>\n      <td>50</td>\n      <td>5.753240</td>\n      <td>7.487060</td>\n      <td>1.733820</td>\n    </tr>\n    <tr>\n      <th>2</th>\n      <td>100</td>\n      <td>5.887120</td>\n      <td>7.198760</td>\n      <td>1.311640</td>\n    </tr>\n    <tr>\n      <th>3</th>\n      <td>200</td>\n      <td>5.911705</td>\n      <td>6.758680</td>\n      <td>0.846975</td>\n    </tr>\n    <tr>\n      <th>4</th>\n      <td>300</td>\n      <td>5.972227</td>\n      <td>6.539007</td>\n      <td>0.566780</td>\n    </tr>\n  </tbody>\n</table>\n</div>"
     },
     "execution_count": 143,
     "metadata": {},
     "output_type": "execute_result"
    }
   ],
   "source": [
    "pd.read_sql(\n",
    "    \"\"\"\n",
    "    WITH\n",
    "    CHEAP_25 AS (\n",
    "        SELECT AVG(RM) AS 'RM' FROM (SELECT RM FROM boston ORDER BY MEDV limit 25)\n",
    "    ),\n",
    "    EXPENSIVE_25 AS (\n",
    "        SELECT AVG(RM) AS 'RM' FROM (SELECT RM FROM boston ORDER BY MEDV DESC limit 25)\n",
    "    ),\n",
    "    CHEAP_50 AS (\n",
    "        SELECT AVG(RM) AS 'RM' FROM (SELECT RM FROM boston ORDER BY MEDV limit 50)\n",
    "    ),\n",
    "    EXPENSIVE_50 AS (\n",
    "        SELECT AVG(RM) AS 'RM' FROM (SELECT RM FROM boston ORDER BY MEDV DESC limit 50)\n",
    "    ),\n",
    "    CHEAP_100 AS (\n",
    "        SELECT AVG(RM) AS 'RM' FROM (SELECT RM FROM boston ORDER BY MEDV limit 100)\n",
    "    ),\n",
    "    EXPENSIVE_100 AS (\n",
    "        SELECT AVG(RM) AS 'RM' FROM (SELECT RM FROM boston ORDER BY MEDV DESC limit 100)\n",
    "    ),\n",
    "    CHEAP_200 AS (\n",
    "        SELECT AVG(RM) AS 'RM' FROM (SELECT RM FROM boston ORDER BY MEDV limit 200)\n",
    "    ),\n",
    "    EXPENSIVE_200 AS (\n",
    "        SELECT AVG(RM) AS 'RM' FROM (SELECT RM FROM boston ORDER BY MEDV DESC limit 200)\n",
    "    ),\n",
    "    CHEAP_300 AS (\n",
    "        SELECT AVG(RM) AS 'RM' FROM (SELECT RM FROM boston ORDER BY MEDV limit 300)\n",
    "    ),\n",
    "    EXPENSIVE_300 AS (\n",
    "        SELECT AVG(RM) AS 'RM' FROM (SELECT RM FROM boston ORDER BY MEDV DESC limit 300)\n",
    "    )\n",
    "    SELECT 25 AS 'кол-во домов', CHEAP_25.RM AS 'кол-во комнат в дешевых', EXPENSIVE_25.RM AS 'кол-во комнат в дорогих', EXPENSIVE_25.RM - CHEAP_25.RM AS 'разница' FROM CHEAP_25, EXPENSIVE_25\n",
    "    UNION ALL\n",
    "    SELECT 50 AS 'кол-во домов', CHEAP_50.RM AS 'кол-во комнат в дешевых', EXPENSIVE_50.RM AS 'кол-во комнат в дорогих', EXPENSIVE_50.RM - CHEAP_50.RM AS 'разница' FROM CHEAP_50, EXPENSIVE_50\n",
    "    UNION ALL\n",
    "    SELECT 100 AS 'кол-во домов', CHEAP_100.RM AS 'кол-во комнат в дешевых', EXPENSIVE_100.RM AS 'кол-во комнат в дорогих', EXPENSIVE_100.RM - CHEAP_100.RM AS 'разница' FROM CHEAP_100, EXPENSIVE_100\n",
    "    UNION ALL\n",
    "    SELECT 200 AS 'кол-во домов', CHEAP_200.RM AS 'кол-во комнат в дешевых', EXPENSIVE_200.RM AS 'кол-во комнат в дорогих', EXPENSIVE_200.RM - CHEAP_200.RM AS 'разница' FROM CHEAP_200, EXPENSIVE_200\n",
    "    UNION ALL\n",
    "    SELECT 300 AS 'кол-во домов', CHEAP_300.RM AS 'кол-во комнат в дешевых', EXPENSIVE_300.RM AS 'кол-во комнат в дорогих', EXPENSIVE_300.RM - CHEAP_300.RM AS 'разница' FROM CHEAP_300, EXPENSIVE_300\n",
    "    \"\"\",\n",
    "    con,\n",
    ")"
   ]
  },
  {
   "cell_type": "markdown",
   "metadata": {},
   "source": [
    "5. Выведите ранги значений колонки LSTAT(процент населения с более низким статусом) в домах с самой дорогой стоимостью (значение LSTAT, стоимость, ранг) среди всех знаечений LSTAT. Напишите какой вывод можно сделать по этим данным."
   ]
  },
  {
   "cell_type": "code",
   "execution_count": 155,
   "metadata": {},
   "outputs": [
    {
     "data": {
      "text/plain": "    LSTAT  MEDV  rank_by_MEDV\n0    9.53  50.0             1\n1    8.88  50.0             2\n2    7.44  50.0             3\n3    5.12  50.0             4\n4    4.63  50.0             5\n5    4.45  50.0             6\n6    3.73  50.0             7\n7    3.70  50.0             8\n8    3.32  50.0             9\n9    3.26  50.0            10\n10   3.16  50.0            11\n11   2.97  50.0            12\n12   2.96  50.0            13\n13   2.88  50.0            14\n14   1.92  50.0            15\n15   1.73  50.0            16",
      "text/html": "<div>\n<style scoped>\n    .dataframe tbody tr th:only-of-type {\n        vertical-align: middle;\n    }\n\n    .dataframe tbody tr th {\n        vertical-align: top;\n    }\n\n    .dataframe thead th {\n        text-align: right;\n    }\n</style>\n<table border=\"1\" class=\"dataframe\">\n  <thead>\n    <tr style=\"text-align: right;\">\n      <th></th>\n      <th>LSTAT</th>\n      <th>MEDV</th>\n      <th>rank_by_MEDV</th>\n    </tr>\n  </thead>\n  <tbody>\n    <tr>\n      <th>0</th>\n      <td>9.53</td>\n      <td>50.0</td>\n      <td>1</td>\n    </tr>\n    <tr>\n      <th>1</th>\n      <td>8.88</td>\n      <td>50.0</td>\n      <td>2</td>\n    </tr>\n    <tr>\n      <th>2</th>\n      <td>7.44</td>\n      <td>50.0</td>\n      <td>3</td>\n    </tr>\n    <tr>\n      <th>3</th>\n      <td>5.12</td>\n      <td>50.0</td>\n      <td>4</td>\n    </tr>\n    <tr>\n      <th>4</th>\n      <td>4.63</td>\n      <td>50.0</td>\n      <td>5</td>\n    </tr>\n    <tr>\n      <th>5</th>\n      <td>4.45</td>\n      <td>50.0</td>\n      <td>6</td>\n    </tr>\n    <tr>\n      <th>6</th>\n      <td>3.73</td>\n      <td>50.0</td>\n      <td>7</td>\n    </tr>\n    <tr>\n      <th>7</th>\n      <td>3.70</td>\n      <td>50.0</td>\n      <td>8</td>\n    </tr>\n    <tr>\n      <th>8</th>\n      <td>3.32</td>\n      <td>50.0</td>\n      <td>9</td>\n    </tr>\n    <tr>\n      <th>9</th>\n      <td>3.26</td>\n      <td>50.0</td>\n      <td>10</td>\n    </tr>\n    <tr>\n      <th>10</th>\n      <td>3.16</td>\n      <td>50.0</td>\n      <td>11</td>\n    </tr>\n    <tr>\n      <th>11</th>\n      <td>2.97</td>\n      <td>50.0</td>\n      <td>12</td>\n    </tr>\n    <tr>\n      <th>12</th>\n      <td>2.96</td>\n      <td>50.0</td>\n      <td>13</td>\n    </tr>\n    <tr>\n      <th>13</th>\n      <td>2.88</td>\n      <td>50.0</td>\n      <td>14</td>\n    </tr>\n    <tr>\n      <th>14</th>\n      <td>1.92</td>\n      <td>50.0</td>\n      <td>15</td>\n    </tr>\n    <tr>\n      <th>15</th>\n      <td>1.73</td>\n      <td>50.0</td>\n      <td>16</td>\n    </tr>\n  </tbody>\n</table>\n</div>"
     },
     "execution_count": 155,
     "metadata": {},
     "output_type": "execute_result"
    }
   ],
   "source": [
    "pd.read_sql(\n",
    "    \"\"\"\n",
    "    SELECT LSTAT, MEDV, rank_by_MEDV FROM (\n",
    "        SELECT MEDV, LSTAT, rank() OVER (PARTITION BY MEDV ORDER BY LSTAT DESC) rank_by_MEDV, MAX(MEDV) OVER () max_MEDV FROM boston\n",
    "     )\n",
    "     WHERE MEDV = max_MEDV\n",
    "    \"\"\",\n",
    "    con,\n",
    ")\n",
    "#Вывод: в самых дорогих домах не более 9,53% населения низкого статуса"
   ]
  },
  {
   "cell_type": "markdown",
   "metadata": {},
   "source": [
    "6. Выведите среднюю стоимость домов граничащих с рекой(CHAS) и нет (граничит/не граничит, стоимость)"
   ]
  },
  {
   "cell_type": "code",
   "execution_count": 161,
   "metadata": {},
   "outputs": [
    {
     "data": {
      "text/plain": "       С рекой  Ср стоимость\n0  не граничит     22.093843\n1     граничит     28.440000",
      "text/html": "<div>\n<style scoped>\n    .dataframe tbody tr th:only-of-type {\n        vertical-align: middle;\n    }\n\n    .dataframe tbody tr th {\n        vertical-align: top;\n    }\n\n    .dataframe thead th {\n        text-align: right;\n    }\n</style>\n<table border=\"1\" class=\"dataframe\">\n  <thead>\n    <tr style=\"text-align: right;\">\n      <th></th>\n      <th>С рекой</th>\n      <th>Ср стоимость</th>\n    </tr>\n  </thead>\n  <tbody>\n    <tr>\n      <th>0</th>\n      <td>не граничит</td>\n      <td>22.093843</td>\n    </tr>\n    <tr>\n      <th>1</th>\n      <td>граничит</td>\n      <td>28.440000</td>\n    </tr>\n  </tbody>\n</table>\n</div>"
     },
     "execution_count": 161,
     "metadata": {},
     "output_type": "execute_result"
    }
   ],
   "source": [
    "pd.read_sql(\n",
    "    \"\"\"\n",
    "    SELECT DISTINCT IIF(CHAS = 1.0, 'граничит', 'не граничит') AS 'С рекой', AVG(MEDV) OVER(PARTITION BY CHAS) AS 'Ср стоимость' FROM boston\n",
    "    \"\"\",\n",
    "    con,\n",
    ")"
   ]
  },
  {
   "cell_type": "markdown",
   "metadata": {},
   "source": [
    "7. Выведите все колонки, у которых среднее значение выше, когда дом граничит с рекой (название колонки) выбирая из CRIM, ZN, INDUS, CHAS, NOX. Напишите какой вывод можно сделать по этим данным."
   ]
  },
  {
   "cell_type": "code",
   "execution_count": 174,
   "metadata": {},
   "outputs": [
    {
     "data": {
      "text/plain": "  Колонка\n0   INDUS\n1     NOX",
      "text/html": "<div>\n<style scoped>\n    .dataframe tbody tr th:only-of-type {\n        vertical-align: middle;\n    }\n\n    .dataframe tbody tr th {\n        vertical-align: top;\n    }\n\n    .dataframe thead th {\n        text-align: right;\n    }\n</style>\n<table border=\"1\" class=\"dataframe\">\n  <thead>\n    <tr style=\"text-align: right;\">\n      <th></th>\n      <th>Колонка</th>\n    </tr>\n  </thead>\n  <tbody>\n    <tr>\n      <th>0</th>\n      <td>INDUS</td>\n    </tr>\n    <tr>\n      <th>1</th>\n      <td>NOX</td>\n    </tr>\n  </tbody>\n</table>\n</div>"
     },
     "execution_count": 174,
     "metadata": {},
     "output_type": "execute_result"
    }
   ],
   "source": [
    "pd.read_sql(\n",
    "    \"\"\"\n",
    "    SELECT Колонка FROM (\n",
    "        WITH\n",
    "        CHAS1 AS (\n",
    "            SELECT DISTINCT CHAS,\n",
    "                AVG(CRIM) OVER (PARTITION BY CHAS) AS AVG_CRIM,\n",
    "                AVG(ZN) OVER (PARTITION BY CHAS) AS AVG_ZN,\n",
    "                AVG(INDUS) OVER (PARTITION BY CHAS) AS AVG_INDUS,\n",
    "                AVG(NOX) OVER (PARTITION BY CHAS) AS AVG_NOX\n",
    "            FROM boston\n",
    "            WHERE CHAS = 1\n",
    "        ),\n",
    "        CHAS0 AS (\n",
    "            SELECT DISTINCT CHAS,\n",
    "                AVG(CRIM) OVER (PARTITION BY CHAS) AS AVG_CRIM,\n",
    "                AVG(ZN) OVER (PARTITION BY CHAS) AS AVG_ZN,\n",
    "                AVG(INDUS) OVER (PARTITION BY CHAS) AS AVG_INDUS,\n",
    "                AVG(NOX) OVER (PARTITION BY CHAS) AS AVG_NOX\n",
    "            FROM boston\n",
    "            WHERE CHAS = 0\n",
    "        )\n",
    "        SELECT 'CRIM' AS 'Колонка', CHAS1.AVG_CRIM - CHAS0.AVG_CRIM AS 'Разница' FROM CHAS0, CHAS1\n",
    "        UNION ALL\n",
    "        SELECT 'ZN', CHAS1.AVG_ZN - CHAS0.AVG_ZN FROM CHAS0, CHAS1\n",
    "        UNION ALL\n",
    "        SELECT 'INDUS', CHAS1.AVG_INDUS - CHAS0.AVG_INDUS FROM CHAS0, CHAS1\n",
    "        UNION ALL\n",
    "        SELECT 'NOX', CHAS1.AVG_NOX - CHAS0.AVG_NOX FROM CHAS0, CHAS1\n",
    "    )\n",
    "    WHERE Разница > 0\n",
    "    \"\"\",\n",
    "    con,\n",
    ")\n",
    "\n",
    "#Вывод: В среднем у реки больше находится индустриальных объектов и соответственно воздух более загрязнен оксидом азота"
   ]
  },
  {
   "cell_type": "markdown",
   "metadata": {},
   "source": [
    "8. Выведите значения долей промышленной застройки(INDUS), концентрации оксидов азота(NOX) и по их перцентилям - 10, 20 ... 100 ( перцетиль(10,20...100),значение INDUS, значение NOX). Напишите прослеживается между ними взаимосвязь"
   ]
  },
  {
   "cell_type": "code",
   "execution_count": 199,
   "metadata": {},
   "outputs": [
    {
     "data": {
      "text/plain": "   proc  indus     nox\n0    10   2.97  0.4280\n1    20   4.49  0.4429\n2    30   6.06  0.4840\n3    40   7.38  0.5070\n4    50   9.69  0.5380\n5    60  13.89  0.5800\n6    70  18.10  0.6090\n7    80  18.10  0.6710\n8    90  19.58  0.7130\n9   100  27.74  0.8710",
      "text/html": "<div>\n<style scoped>\n    .dataframe tbody tr th:only-of-type {\n        vertical-align: middle;\n    }\n\n    .dataframe tbody tr th {\n        vertical-align: top;\n    }\n\n    .dataframe thead th {\n        text-align: right;\n    }\n</style>\n<table border=\"1\" class=\"dataframe\">\n  <thead>\n    <tr style=\"text-align: right;\">\n      <th></th>\n      <th>proc</th>\n      <th>indus</th>\n      <th>nox</th>\n    </tr>\n  </thead>\n  <tbody>\n    <tr>\n      <th>0</th>\n      <td>10</td>\n      <td>2.97</td>\n      <td>0.4280</td>\n    </tr>\n    <tr>\n      <th>1</th>\n      <td>20</td>\n      <td>4.49</td>\n      <td>0.4429</td>\n    </tr>\n    <tr>\n      <th>2</th>\n      <td>30</td>\n      <td>6.06</td>\n      <td>0.4840</td>\n    </tr>\n    <tr>\n      <th>3</th>\n      <td>40</td>\n      <td>7.38</td>\n      <td>0.5070</td>\n    </tr>\n    <tr>\n      <th>4</th>\n      <td>50</td>\n      <td>9.69</td>\n      <td>0.5380</td>\n    </tr>\n    <tr>\n      <th>5</th>\n      <td>60</td>\n      <td>13.89</td>\n      <td>0.5800</td>\n    </tr>\n    <tr>\n      <th>6</th>\n      <td>70</td>\n      <td>18.10</td>\n      <td>0.6090</td>\n    </tr>\n    <tr>\n      <th>7</th>\n      <td>80</td>\n      <td>18.10</td>\n      <td>0.6710</td>\n    </tr>\n    <tr>\n      <th>8</th>\n      <td>90</td>\n      <td>19.58</td>\n      <td>0.7130</td>\n    </tr>\n    <tr>\n      <th>9</th>\n      <td>100</td>\n      <td>27.74</td>\n      <td>0.8710</td>\n    </tr>\n  </tbody>\n</table>\n</div>"
     },
     "execution_count": 199,
     "metadata": {},
     "output_type": "execute_result"
    }
   ],
   "source": [
    "pd.read_sql(\n",
    "    \"\"\"\n",
    "    SELECT a.proc, indus, nox\n",
    "    FROM\n",
    "        (SELECT distinct proc , MAX(INDUS) over (partition by proc) indus FROM (\n",
    "            SELECT NTILE(100) over (ORDER BY INDUS) proc, INDUS FROM boston\n",
    "        )\n",
    "        WHERE proc IN (10, 20, 30, 40, 50, 60, 70, 80, 90, 100)) a\n",
    "        JOIN\n",
    "        (SELECT distinct proc , MAX(NOX) over (partition by proc) nox FROM (\n",
    "            SELECT NTILE(100) over (ORDER BY NOX) proc, NOX FROM boston\n",
    "        )\n",
    "        WHERE proc IN (10, 20, 30, 40, 50, 60, 70, 80, 90, 100)) b\n",
    "    WHERE a.proc = b.proc\n",
    "\n",
    "\n",
    "\n",
    "    \"\"\",\n",
    "    con,\n",
    ")\n",
    "\n",
    "#Вывод: между indus и nox прямая взаимосвязь"
   ]
  },
  {
   "cell_type": "raw",
   "metadata": {},
   "source": [
    "CRIM - уровень преступности на душу населения\n",
    "ZN - доля земель под жилую застройку зонирована под участки площадью более 25 000 кв. футов.\n",
    "INDUS - доля акров неторгового бизнеса на город.\n",
    "CHAS - 1, если граничит с рекой, 0 иначе\n",
    "NOX - концентрация оксидов азота (частей на 10 миллионов)\n",
    "RM - среднее количество комнат в квартире\n",
    "AGE - доля жилых домов, построенных до 1940 г.\n",
    "DIS - взвешенные расстояния до пяти центров занятости Бостона\n",
    "RAD - индекс доступности к радиальным магистралям\n",
    "TAX - полная ставка налога на имущество за 10 000 долларов США\n",
    "PTRATIO - соотношение учеников и учителей по городам\n",
    "B - 1000(Bk - 0.63)^2, где Bk доля чернокожих людей по городам\n",
    "LSTAT - % более низкого статуса населения\n",
    "MEDV - Средняя стоимость домов в 1000 долларов."
   ]
  },
  {
   "cell_type": "code",
   "execution_count": null,
   "metadata": {},
   "outputs": [],
   "source": []
  }
 ],
 "metadata": {
  "kernelspec": {
   "display_name": "Python 3",
   "language": "python",
   "name": "python3"
  },
  "language_info": {
   "codemirror_mode": {
    "name": "ipython",
    "version": 3
   },
   "file_extension": ".py",
   "mimetype": "text/x-python",
   "name": "python",
   "nbconvert_exporter": "python",
   "pygments_lexer": "ipython3",
   "version": "3.7.6"
  }
 },
 "nbformat": 4,
 "nbformat_minor": 4
}
